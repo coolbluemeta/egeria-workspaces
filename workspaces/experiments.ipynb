{
 "cells": [
  {
   "cell_type": "code",
   "id": "9968014f-4cd4-40fb-959a-13689f5ac01e",
   "metadata": {
    "editable": true,
    "slideshow": {
     "slide_type": ""
    },
    "tags": [],
    "ExecuteTime": {
     "end_time": "2024-07-19T16:28:17.657152Z",
     "start_time": "2024-07-19T16:28:17.651353Z"
    }
   },
   "source": [
    "import asyncio\n",
    "import nest_asyncio\n",
    "nest_asyncio.apply()"
   ],
   "outputs": [],
   "execution_count": 1
  },
  {
   "cell_type": "code",
   "id": "a11585d4-48e0-43c8-aba9-0bbc1b1cbbc1",
   "metadata": {
    "ExecuteTime": {
     "end_time": "2024-07-19T16:28:20.841507Z",
     "start_time": "2024-07-19T16:28:20.739152Z"
    }
   },
   "source": [
    "from pyegeria import Platform\n"
   ],
   "outputs": [],
   "execution_count": 2
  },
  {
   "cell_type": "code",
   "id": "271affe2-3f66-46cf-b3ec-75fe4e3d2cfe",
   "metadata": {
    "ExecuteTime": {
     "end_time": "2024-07-19T16:28:44.755463Z",
     "start_time": "2024-07-19T16:28:44.725151Z"
    }
   },
   "source": [
    "p_client = Platform('active-metadata-store', \"https://localhost:9443\",\"garygeeke\")\n",
    "p_client.get_platform_origin()                    "
   ],
   "outputs": [
    {
     "data": {
      "text/plain": [
       "'Egeria OMAG Server Platform (version 5.1-SNAPSHOT)\\n'"
      ]
     },
     "execution_count": 4,
     "metadata": {},
     "output_type": "execute_result"
    }
   ],
   "execution_count": 4
  },
  {
   "cell_type": "code",
   "id": "802fe1f8-9bd5-4378-ae46-2a677a8466b7",
   "metadata": {
    "editable": true,
    "slideshow": {
     "slide_type": ""
    },
    "tags": [],
    "ExecuteTime": {
     "end_time": "2024-07-19T16:28:51.957049Z",
     "start_time": "2024-07-19T16:28:51.597143Z"
    }
   },
   "source": [
    "%run uc_oss_catalog_viewer.py\n"
   ],
   "outputs": [
    {
     "name": "stdout",
     "output_type": "stream",
     "text": [
      "                                                                               UC OSS Catalog @ Fri Jul 19 11:28:51 2024                                                                                \n",
      "╭──────────────┬─────────────────┬─────────────┬────────────────┬────────────────────────────────────────────────────────────────────────────────┬─────────────────────────────────────────────────────╮\n",
      "│ Catalog Name │ Catalog Comment │ Schema Name │ Schema Comment │ Vol/Tab                                                                        │ Details                                             │\n",
      "├──────────────┼─────────────────┼─────────────┼────────────────┼────────────────────────────────────────────────────────────────────────────────┼─────────────────────────────────────────────────────┤\n",
      "│ unity        │ Main catalog    │ default     │ Default schema │ Functions                                                                      │                                                     │\n",
      "│              │                 │             │                │ * name: sum                                                                    │                                                     │\n",
      "│              │                 │             │                │         * comment: Adds two numbers.                                           │                                                     │\n",
      "│              │                 │             │                │         * function_id: 0188f6e0-006e-410c-9aa7-7ded9079469a                    │                                                     │\n",
      "│              │                 │             │                │         * function_type: INT                                                   │                                                     │\n",
      "│              │                 │             │                │         * sql_access: NO_SQL                                                   │                                                     │\n",
      "│              │                 │             │                │                                                                                │                                                     │\n",
      "├──────────────┼─────────────────┼─────────────┼────────────────┼────────────────────────────────────────────────────────────────────────────────┼─────────────────────────────────────────────────────┤\n",
      "│ unity        │ Main catalog    │ default     │ Default schema │ Functions                                                                      │                                                     │\n",
      "│              │                 │             │                │ * name: sum                                                                    │                                                     │\n",
      "│              │                 │             │                │         * comment: Adds two numbers.                                           │                                                     │\n",
      "│              │                 │             │                │         * function_id: 0188f6e0-006e-410c-9aa7-7ded9079469a                    │                                                     │\n",
      "│              │                 │             │                │         * function_type: INT                                                   │                                                     │\n",
      "│              │                 │             │                │         * sql_access: NO_SQL                                                   │                                                     │\n",
      "│              │                 │             │                │                                                                                │                                                     │\n",
      "│              │                 │             │                │ * name: lowercase                                                              │                                                     │\n",
      "│              │                 │             │                │         * comment: Converts a string to lowercase.                             │                                                     │\n",
      "│              │                 │             │                │         * function_id: c6c8524e-51d5-42ad-a2c7-969849dd3b79                    │                                                     │\n",
      "│              │                 │             │                │         * function_type: STRING                                                │                                                     │\n",
      "│              │                 │             │                │         * sql_access: NO_SQL                                                   │                                                     │\n",
      "│              │                 │             │                │                                                                                │                                                     │\n",
      "├──────────────┼─────────────────┼─────────────┼────────────────┼────────────────────────────────────────────────────────────────────────────────┼─────────────────────────────────────────────────────┤\n",
      "│ unity        │ Main catalog    │ default     │ Default schema │ Volumes                                                                        │                                                     │\n",
      "│              │                 │             │                │                                                                                │                                                     │\n",
      "│              │                 │             │                │ * name: txt_files                                                              │                                                     │\n",
      "│              │                 │             │                │         * comment: None                                                        │                                                     │\n",
      "│              │                 │             │                │         * created_at: 1720454731455                                            │                                                     │\n",
      "│              │                 │             │                │         * updated_at: 1720454731455                                            │                                                     │\n",
      "│              │                 │             │                │         * volume_id: f4ca0bb0-26eb-425a-b564-ff4113363837                      │                                                     │\n",
      "│              │                 │             │                │         * volume_type: MANAGED                                                 │                                                     │\n",
      "│              │                 │             │                │         * storage_location:                                                    │                                                     │\n",
      "│              │                 │             │                │ file:///Users/dwolfson/localGit/databricks/unitycatalog/etc/data/managed/unit… │                                                     │\n",
      "│              │                 │             │                │                                                                                │                                                     │\n",
      "│              │                 │             │                │ * name: json_files                                                             │                                                     │\n",
      "│              │                 │             │                │         * comment: None                                                        │                                                     │\n",
      "│              │                 │             │                │         * created_at: 1720454731455                                            │                                                     │\n",
      "│              │                 │             │                │         * updated_at: 1720454731455                                            │                                                     │\n",
      "│              │                 │             │                │         * volume_id: 003b2b4c-5289-4437-a995-fd9cbd66efdb                      │                                                     │\n",
      "│              │                 │             │                │         * volume_type: EXTERNAL                                                │                                                     │\n",
      "│              │                 │             │                │         * storage_location:                                                    │                                                     │\n",
      "│              │                 │             │                │ file:///Users/dwolfson/localGit/databricks/unitycatalog/etc/data/external/uni… │                                                     │\n",
      "│              │                 │             │                │                                                                                │                                                     │\n",
      "├──────────────┼─────────────────┼─────────────┼────────────────┼────────────────────────────────────────────────────────────────────────────────┼─────────────────────────────────────────────────────┤\n",
      "│ unity        │ Main catalog    │ default     │ Default schema │ Tables                                                                         │ ┏━━━━━━━┳━━━━━━━━┳━━━━━━━━━━┳━━━━━━━━━━━━━━━━━━━━━┓ │\n",
      "│              │                 │             │                │                                                                                │ ┃ name  ┃ type   ┃ nullable ┃ comment             ┃ │\n",
      "│              │                 │             │                │ * name: marksheet                                                              │ ┡━━━━━━━╇━━━━━━━━╇━━━━━━━━━━╇━━━━━━━━━━━━━━━━━━━━━┩ │\n",
      "│              │                 │             │                │         * comment: Managed table                                               │ │ id    │ int    │ false    │ ID primary key      │ │\n",
      "│              │                 │             │                │         * created_at: 1720454731426                                            │ │ name  │ string │ false    │ Name of the entity  │ │\n",
      "│              │                 │             │                │         * updated_at: 1720454731426                                            │ │ marks │ int    │ true     │ Marks of the entity │ │\n",
      "│              │                 │             │                │         * table_id: 25ca07aa-1350-4104-b485-13b9ad1f5d72                       │ └───────┴────────┴──────────┴─────────────────────┘ │\n",
      "│              │                 │             │                │         * table_type: MANAGED                                                  │                                                     │\n",
      "│              │                 │             │                │         * src_format: DELTA                                                    │                                                     │\n",
      "│              │                 │             │                │                                                                                │                                                     │\n",
      "╰──────────────┴─────────────────┴─────────────┴────────────────┴────────────────────────────────────────────────────────────────────────────────┴─────────────────────────────────────────────────────╯\n",
      "                                                                                    Running on http://localhost:8080                                                                                    \n"
     ]
    },
    {
     "data": {
      "text/plain": [],
      "text/html": [
       "<pre style=\"white-space:pre;overflow-x:auto;line-height:normal;font-family:Menlo,'DejaVu Sans Mono',consolas,'Courier New',monospace\"></pre>\n"
      ]
     },
     "metadata": {},
     "output_type": "display_data"
    }
   ],
   "execution_count": 5
  },
  {
   "cell_type": "code",
   "execution_count": null,
   "id": "4885e0e1-2a71-420b-b3d3-257e4eb321e3",
   "metadata": {},
   "outputs": [],
   "source": []
  }
 ],
 "metadata": {
  "kernelspec": {
   "display_name": "Python 3 (ipykernel)",
   "language": "python",
   "name": "python3"
  },
  "language_info": {
   "codemirror_mode": {
    "name": "ipython",
    "version": 3
   },
   "file_extension": ".py",
   "mimetype": "text/x-python",
   "name": "python",
   "nbconvert_exporter": "python",
   "pygments_lexer": "ipython3",
   "version": "3.11.9"
  }
 },
 "nbformat": 4,
 "nbformat_minor": 5
}

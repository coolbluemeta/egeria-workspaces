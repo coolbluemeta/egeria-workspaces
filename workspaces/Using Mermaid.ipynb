{
 "cells": [
  {
   "cell_type": "markdown",
   "id": "b30f0691-998e-4d5d-9d56-2a27295de5e4",
   "metadata": {},
   "source": [
    "# Markdown in Jupyter\n",
    "\n",
    "It turns out that the latest versions of jupyter cam remder Mermaid directly in either a Markdown cell or generate and then render Mermaid in a Code cell.\n"
   ]
  },
  {
   "cell_type": "markdown",
   "id": "91e79f03-831e-49ff-a272-2f600ef9e27d",
   "metadata": {},
   "source": [
    "## Mermaid can be embedded in a regular markdown cell along with other markdown!\n",
    "\n",
    "\n",
    "```mermaid\n",
    "flowchart LR\n",
    "\n",
    "A[Hard] -->|Text| B(Round)\n",
    "B --> C{Decision}\n",
    "C -->|One| D[Result 1]\n",
    "C -->|Two| E[Result 2]"
   ]
  },
  {
   "cell_type": "markdown",
   "id": "4125b419-732b-4969-8b14-aa5957ee23cd",
   "metadata": {},
   "source": [
    "## We can also use python to generate the mermaid. We don't even have to load anything anymore since Mermaid is now part of IPython that is under Jupyter and Jupyter Lab.\n",
    "\n",
    "We just need to import a couple of things from IPython as follows and then use the Ipython display command as is show below."
   ]
  },
  {
   "cell_type": "code",
   "execution_count": 2,
   "id": "2a786f6b-0b41-43ef-81f9-f353d163f8a3",
   "metadata": {},
   "outputs": [],
   "source": [
    "from IPython.display import display, Markdown\n"
   ]
  },
  {
   "cell_type": "code",
   "execution_count": 3,
   "id": "fad9e717-e381-4eb7-a50a-b7484f6a59b6",
   "metadata": {},
   "outputs": [],
   "source": [
    "mermaid_code = \"\"\"\n",
    "   graph TD;\n",
    "       A-->B;\n",
    "       A-->C;\n",
    "       B-->D;\n",
    "       C-->D;\n",
    "   \"\"\""
   ]
  },
  {
   "cell_type": "code",
   "execution_count": 4,
   "id": "a72c301e-5bf4-46f0-952a-f3e01b90041a",
   "metadata": {},
   "outputs": [
    {
     "data": {
      "text/markdown": [
       "```mermaid\n",
       "\n",
       "   graph TD;\n",
       "       A-->B;\n",
       "       A-->C;\n",
       "       B-->D;\n",
       "       C-->D;\n",
       "   \n",
       "```"
      ],
      "text/plain": [
       "<IPython.core.display.Markdown object>"
      ]
     },
     "metadata": {},
     "output_type": "display_data"
    }
   ],
   "source": [
    "display(Markdown(f\"```mermaid\\n{mermaid_code}\\n```\"))"
   ]
  },
  {
   "cell_type": "code",
   "execution_count": null,
   "id": "238d1d18-c947-483d-af13-d5ac7d8a06d5",
   "metadata": {},
   "outputs": [],
   "source": []
  }
 ],
 "metadata": {
  "kernelspec": {
   "display_name": "Python 3 (ipykernel)",
   "language": "python",
   "name": "python3"
  },
  "language_info": {
   "codemirror_mode": {
    "name": "ipython",
    "version": 3
   },
   "file_extension": ".py",
   "mimetype": "text/x-python",
   "name": "python",
   "nbconvert_exporter": "python",
   "pygments_lexer": "ipython3",
   "version": "3.11.10"
  }
 },
 "nbformat": 4,
 "nbformat_minor": 5
}

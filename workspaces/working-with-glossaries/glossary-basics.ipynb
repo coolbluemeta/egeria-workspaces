{
 "cells": [
  {
   "cell_type": "markdown",
   "id": "94577c57-e998-4a20-85b6-d4f0486f6655",
   "metadata": {},
   "source": [
    "<!-- SPDX-License-Identifier: CC-BY-4.0 -->\n",
    "<!-- Copyright Contributors to the ODPi Egeria project 2024. -->\n",
    "\n",
    "![Egeria Logo](https://raw.githubusercontent.com/odpi/egeria/main/assets/img/ODPi_Egeria_Logo_color.png)\n",
    "\n",
    "### Egeria Workbook\n",
    "\n",
    "# Glossary Basics\n",
    "\n",
    "## Introduction\n",
    "\n",
    "Glossaries are an important way for us to capture, use and share knowledge. There are many kinds of glossaries and even more ways to use them. Egeria provides a broad range of support for glossaries and pyegeria provides access to these features.\n",
    "This notebook will demonstrate some of the basic capabilities such as:\n",
    "* Creating, Displaying, Updating and Deleting glossaries\n",
    "* Creating, Importing, Exporting, Displaying, Updating and Deleting glossary terms\n",
    "* Linking terms to assets (semantic assignment)\n",
    "\n",
    "There are many more capabilities that we will describe in subsequent notebooks such as:\n",
    "* Catagories and catagory hierarchies\n",
    "* Term relationships\n",
    "* Term classifications\n",
    "* Types of glossaries\n",
    "* Types of terms\n",
    "* Term translations\n",
    "* Term governance\n",
    "* More complex term lifecycles\n",
    "* etc.\n",
    "\n",
    "More information about glossaries can be found on the Egeria Project website - here are a few links to start with:\n",
    "* [Defining a glossary](https://egeria-project.org/practices/coco-pharmaceuticals/scenarios/defining-a-glossary/overview)\n",
    "* [Glossary Model](https://egeria-project.org/types/3/0310-Glossary)\n",
    "* [Terms Model](https://egeria-project.org/types/3/0330-Terms)\n",
    "\n",
    "----\n",
    "## Exploring the pyegeria commands\n",
    "\n",
    "A good place to start is by working with the glossary and term pyegeria commands from a terminal window.\n",
    "\n",
    "\n",
    "## Using the pyegeria methods\n",
    "\n",
    "----"
   ]
  },
  {
   "cell_type": "code",
   "execution_count": null,
   "id": "559977df-32bc-4457-b025-00f62c8f9c6b",
   "metadata": {},
   "outputs": [],
   "source": [
    "import asyncio\n",
    "import nest_asyncio\n",
    "nest_asyncio.apply()\n",
    "import os\n",
    "from pyegeria import EgeriaTech"
   ]
  },
  {
   "cell_type": "code",
   "execution_count": null,
   "id": "37e57be409ca6499",
   "metadata": {},
   "outputs": [],
   "source": [
    "view_server = os.environ.get(\"VIEW_SERVER\",\"view-server\")\n",
    "url = os.environ.get(\"EGERIA_VIEW_SERVER_URL\",\"https://host.docker.internal:9443\")\n",
    "user_id = os.environ.get(\"EGERIA_USER\", \"peterprofile\")\n",
    "user_pwd = os.environ.get(\"EGERIA_USER_PASSWORD\")\n"
   ]
  },
  {
   "cell_type": "code",
   "execution_count": null,
   "id": "826413bc9bad388c",
   "metadata": {},
   "outputs": [],
   "source": []
  }
 ],
 "metadata": {
  "kernelspec": {
   "display_name": "Python 3 (ipykernel)",
   "language": "python",
   "name": "python3"
  },
  "language_info": {
   "codemirror_mode": {
    "name": "ipython",
    "version": 3
   },
   "file_extension": ".py",
   "mimetype": "text/x-python",
   "name": "python",
   "nbconvert_exporter": "python",
   "pygments_lexer": "ipython3",
   "version": "3.12.8"
  }
 },
 "nbformat": 4,
 "nbformat_minor": 5
}

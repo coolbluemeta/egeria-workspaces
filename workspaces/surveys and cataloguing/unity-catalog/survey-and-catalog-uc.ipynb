{
 "cells": [
  {
   "cell_type": "markdown",
   "id": "d0ab17c7-c533-4301-b8e8-a0d59c9e5269",
   "metadata": {},
   "source": [
    "<!-- SPDX-License-Identifier: CC-BY-4.0 -->\n",
    "<!-- Copyright Contributors to the ODPi Egeria project 2024. -->\n",
    "\n",
    "![Egeria Logo](https://raw.githubusercontent.com/odpi/egeria/main/assets/img/ODPi_Egeria_Logo_color.png)\n",
    "\n",
    "### Egeria Workbook\n",
    "\n",
    "# Cataloguing Unity Catalog (UC)\n",
    "\n",
    "## Introduction\n",
    "\n",
    "Both Unity Catalog and Egeria are open source projects with the LF AI and Data.  The difference between these technologies is:\n",
    "\n",
    " * Unity Catalog is responsible for governing access to data; whereas Egeria governs the exchange of metadata between tools and systems, such as Unity Catalog.\n",
    "\n",
    " * Similarly, Unity Catalog maintains a metadata repository describing the data it is protecting.  In contrast, Egeria maintains a distributed network of metadata repositories containing metadata about the technology (systems, tools, data), the processes that are operating on them, along with the people and organizations involved.\n",
    "\n",
    "This demo shows the new Egeria connectors that synchronize metadata between Unity Catalog (UC) and the open metadata ecosystem.  The setup is shown below:\n",
    "\n",
    "![systems](images/unity-catalog-demo-systems.png)\n",
    "\n",
    "Starting on the left hand side, you can see JupyterLab (that is running this notebook) with Unity Catalog above it.\n",
    "Egeria's REST APIs are being called by the notebooks and commands running in JupyterLab. Egeria is, in turn, calling Unity Catalog via its REST API.  Egeria also produces events when metadata changes.  \n",
    "\n",
    "Egeria's runtime is called the [OMAG Server Platform](https://egeria-project.org/concepts/omag-server-platform/).   It hosts OMAG Servers that are configured to perform certain tasks:\n",
    "\n",
    "* Active Metadata Store manages the metadata repository (XTDB)\n",
    "* View Server provides REST APIs for the python environment\n",
    "* Integration Daemon synchronizes metadata with Unity Catalog\n",
    "* Engine Host runs governance functions.\n",
    "\n",
    "## Survey a Unity Catalog Server\n",
    "\n",
    "The Unity Catalog support includes the ability to survey the contents of a Unity Catalog Server.  This command creates a description of the Unity Catalog Server and runs a survey to understand its contents.  A summary of the survey results can be found in /distribution-hub/surveys.\n",
    "\n",
    "---"
   ]
  },
  {
   "cell_type": "code",
   "execution_count": 1,
   "id": "0d69a112-bf72-48f4-b958-0f918a73b2f7",
   "metadata": {},
   "outputs": [],
   "source": [
    "import os\n",
    "view_server = os.environ.get(\"VIEW_SERVER\",\"view-server\")\n",
    "url = os.environ.get(\"EGERIA_VIEW_SERVER_URL\",\"https://host.docker.internal:9443\")\n",
    "user_id = os.environ.get(\"EGERIA_USER\", \"peterprofile\")\n",
    "user_pwd = os.environ.get(\"EGERIA_USER_PASSWORD\")\n",
    "\n",
    "from pyegeria import EgeriaTech\n",
    "import asyncio\n",
    "import nest_asyncio\n",
    "nest_asyncio.apply()"
   ]
  },
  {
   "cell_type": "code",
   "execution_count": 2,
   "id": "f718e011-3d1d-48c9-b29d-ff5617906a61",
   "metadata": {},
   "outputs": [],
   "source": [
    "\n",
    "egeria_tech = EgeriaTech(view_server, url, user_id, user_pwd)\n",
    "token = egeria_tech.create_egeria_bearer_token()\n"
   ]
  },
  {
   "cell_type": "code",
   "execution_count": 3,
   "id": "f8f4b200-0a6f-4505-86ac-036c3e40feaa",
   "metadata": {},
   "outputs": [
    {
     "data": {
      "text/plain": [
       "'381e35f4-72a8-4aef-b9c4-ebf51cc67b62'"
      ]
     },
     "execution_count": 3,
     "metadata": {},
     "output_type": "execute_result"
    }
   ],
   "source": [
    "surveyUnityCatalogServerName=\"UnityCatalogServer:CreateAndSurveyGovernanceActionProcess\"\n",
    "\n",
    "requestParameters = {\n",
    "    \"hostURL\" : \"http://host.docker.internal\",\n",
    "    \"portNumber\" : \"8080\",\n",
    "    \"serverName\" : \"Unity Catalog 1\",  \n",
    "    \"versionIdentifier\" : \"V1.0\",\n",
    "    \"description\" : \"First instance of the Unity Catalog (UC) Server.\",\n",
    "    \"serverUserId\" : \"uc1\"\n",
    "}\n",
    "\n",
    "egeria_tech.initiate_gov_action_process(surveyUnityCatalogServerName, None, None, None, requestParameters, None, None)\n"
   ]
  },
  {
   "cell_type": "markdown",
   "id": "d49126a6-f900-4ffc-934f-1c7c643fa899",
   "metadata": {},
   "source": [
    "----\n",
    "\n",
    "Open up the survey file and review the contents of the Unity Catalog Server. Notice there can be multiple catalogs in a Unity Catalog Server.  Also notice the hierarchical naming of the unity catalog elements.  Catalogs have schemas inside them and the schemas can have tables, functions and/or volumes within them.\n",
    "\n",
    "The next code snippet surveys the second unity catalog ... once it has run, open the survey file to see the detail.  This Server has more content.\n",
    "\n",
    "----"
   ]
  },
  {
   "cell_type": "code",
   "execution_count": 4,
   "id": "e7f1983a-eaa4-486c-b0d6-e6e3a678c3a0",
   "metadata": {},
   "outputs": [
    {
     "data": {
      "text/plain": [
       "'9e3db9bc-b8ad-444f-a6ef-44b38732eba0'"
      ]
     },
     "execution_count": 4,
     "metadata": {},
     "output_type": "execute_result"
    }
   ],
   "source": [
    "austinHostURL=\"http://egeria.pdr-associates.com\"\n",
    "austinHostPort=8070\n",
    "\n",
    "requestParameters = {\n",
    "    \"hostURL\" : austinHostURL,\n",
    "    \"portNumber\" : austinHostPort,\n",
    "    \"serverName\" : \"Unity Catalog 2\",  \n",
    "    \"versionIdentifier\" : \"V1.0\",\n",
    "    \"description\" : \"Second instance of the Unity Catalog (UC) Server.\",\n",
    "    \"serverUserId\" : \"uc2\"\n",
    "}\n",
    "\n",
    "egeria_tech.initiate_gov_action_process(surveyUnityCatalogServerName, None, None, None, requestParameters, None, None)\n"
   ]
  },
  {
   "attachments": {},
   "cell_type": "markdown",
   "id": "2412088e-e799-4675-8fd2-6343ff396955",
   "metadata": {},
   "source": [
    "----\n",
    "\n",
    "Use the command `hey_egeria_ops show engines activity --compressed` to view the governance actions that ran as a result of the survey requests.  \n",
    "There were two steps.  First it created a `SoftwareServer` entity to represent the Unity Catalog Server. \n",
    "This stores the network address of the server.  Then the survey was run using this information.\n",
    "\n",
    "-----\n",
    "\n",
    "Now navigate to `distribution-hub/logs/openlineage/GovernanceActions`.  This directory stores the open lineage events created when the surveys were run.  Each event record the start or stop of a governance action.\n",
    "\n",
    "----\n",
    "\n",
    "\n",
    "---\n",
    "\n",
    "If the surveys look interesting, it is possible to synchronize the metadata between Unity Catalog and Egeria.  Run the command `hey_egeria_ops show integrations status` in a separate command window to start the monitor for the integration daemon.  You can see a list of connectors waiting to synchronize data with different types of technology.  At the bottom of this list are two connectors dedicated to synchronizing metadata between Egeria and Unity Catalog:\n",
    "\n",
    "* **UnityCatalogServerSynchronizer** synchronizes catalog information from a Unity Catalog Server.  It passes details of the catalogs it finds onto **UnityCatalogInsideCatalogSynchronizer**.\n",
    "* **UnityCatalogInsideCatalogSynchronizer** synchronizes the schema, volume, table and function metadata between Egeria and Unity Catalog.  \n",
    "\n",
    "The code below will request that the contents of the first Unity Catalog server is catalogued into Egeria.\n",
    "\n",
    "---"
   ]
  },
  {
   "cell_type": "code",
   "execution_count": 5,
   "id": "e439ea75-05a0-4819-b86d-a1eeb8833af2",
   "metadata": {},
   "outputs": [
    {
     "name": "stdout",
     "output_type": "stream",
     "text": [
      "No elements found\n"
     ]
    },
    {
     "ename": "InvalidParameterException",
     "evalue": "OMAG-REPOSITORY-HANDLER-404-007 The Referenceable entity with unique identifier No elements found is not found for method initiateGovernanceActionType of access service Governance Action Framework Services in open metadata server active-metadata-store, error message was: OMRS-REPOSITORY-404-002 The entity identified with guid No elements found passed on the getEntityDetail call is not known to the open metadata repository Enterprise",
     "output_type": "error",
     "traceback": [
      "\u001b[0;31m---------------------------------------------------------------------------\u001b[0m",
      "\u001b[0;31mInvalidParameterException\u001b[0m                 Traceback (most recent call last)",
      "Cell \u001b[0;32mIn[5], line 12\u001b[0m\n\u001b[1;32m      4\u001b[0m \u001b[38;5;28mprint\u001b[39m(ucServer1GUID)\n\u001b[1;32m      6\u001b[0m action_targets \u001b[38;5;241m=\u001b[39m [{\n\u001b[1;32m      7\u001b[0m     \u001b[38;5;124m\"\u001b[39m\u001b[38;5;124mclass\u001b[39m\u001b[38;5;124m\"\u001b[39m: \u001b[38;5;124m\"\u001b[39m\u001b[38;5;124mNewActionTarget\u001b[39m\u001b[38;5;124m\"\u001b[39m, \n\u001b[1;32m      8\u001b[0m     \u001b[38;5;124m\"\u001b[39m\u001b[38;5;124mactionTargetName\u001b[39m\u001b[38;5;124m\"\u001b[39m: \u001b[38;5;124m\"\u001b[39m\u001b[38;5;124mnewAsset\u001b[39m\u001b[38;5;124m\"\u001b[39m, \n\u001b[1;32m      9\u001b[0m     \u001b[38;5;124m\"\u001b[39m\u001b[38;5;124mactionTargetGUID\u001b[39m\u001b[38;5;124m\"\u001b[39m: ucServer1GUID\n\u001b[1;32m     10\u001b[0m }]\n\u001b[0;32m---> 12\u001b[0m \u001b[43megeria_tech\u001b[49m\u001b[38;5;241;43m.\u001b[39;49m\u001b[43minitiate_gov_action_type\u001b[49m\u001b[43m(\u001b[49m\u001b[43mcatalogUCName\u001b[49m\u001b[43m,\u001b[49m\u001b[43m \u001b[49m\u001b[38;5;28;43;01mNone\u001b[39;49;00m\u001b[43m,\u001b[49m\u001b[43m \u001b[49m\u001b[43maction_targets\u001b[49m\u001b[43m,\u001b[49m\u001b[43m \u001b[49m\u001b[38;5;28;43;01mNone\u001b[39;49;00m\u001b[43m,\u001b[49m\u001b[43m \u001b[49m\u001b[38;5;28;43;01mNone\u001b[39;49;00m\u001b[43m,\u001b[49m\u001b[43m \u001b[49m\u001b[38;5;28;43;01mNone\u001b[39;49;00m\u001b[43m)\u001b[49m\n",
      "File \u001b[0;32m/opt/conda/lib/python3.11/site-packages/pyegeria/automated_curation_omvs.py:2317\u001b[0m, in \u001b[0;36mAutomatedCuration.initiate_gov_action_type\u001b[0;34m(self, action_type_qualified_name, request_source_guids, action_targets, start_time, request_parameters, orig_service_name, orig_engine_name)\u001b[0m\n\u001b[1;32m   2287\u001b[0m \u001b[38;5;250m\u001b[39m\u001b[38;5;124;03m\"\"\"Using the named governance action type as a template, initiate an engine action.\u001b[39;00m\n\u001b[1;32m   2288\u001b[0m \n\u001b[1;32m   2289\u001b[0m \u001b[38;5;124;03mParameters\u001b[39;00m\n\u001b[0;32m   (...)\u001b[0m\n\u001b[1;32m   2314\u001b[0m \u001b[38;5;124;03mUserNotAuthorizedException\u001b[39;00m\n\u001b[1;32m   2315\u001b[0m \u001b[38;5;124;03m\"\"\"\u001b[39;00m\n\u001b[1;32m   2316\u001b[0m loop \u001b[38;5;241m=\u001b[39m asyncio\u001b[38;5;241m.\u001b[39mget_event_loop()\n\u001b[0;32m-> 2317\u001b[0m response \u001b[38;5;241m=\u001b[39m \u001b[43mloop\u001b[49m\u001b[38;5;241;43m.\u001b[39;49m\u001b[43mrun_until_complete\u001b[49m\u001b[43m(\u001b[49m\n\u001b[1;32m   2318\u001b[0m \u001b[43m    \u001b[49m\u001b[38;5;28;43mself\u001b[39;49m\u001b[38;5;241;43m.\u001b[39;49m\u001b[43m_async_initiate_gov_action_type\u001b[49m\u001b[43m(\u001b[49m\n\u001b[1;32m   2319\u001b[0m \u001b[43m        \u001b[49m\u001b[43maction_type_qualified_name\u001b[49m\u001b[43m,\u001b[49m\n\u001b[1;32m   2320\u001b[0m \u001b[43m        \u001b[49m\u001b[43mrequest_source_guids\u001b[49m\u001b[43m,\u001b[49m\n\u001b[1;32m   2321\u001b[0m \u001b[43m        \u001b[49m\u001b[43maction_targets\u001b[49m\u001b[43m,\u001b[49m\n\u001b[1;32m   2322\u001b[0m \u001b[43m        \u001b[49m\u001b[43mstart_time\u001b[49m\u001b[43m,\u001b[49m\n\u001b[1;32m   2323\u001b[0m \u001b[43m        \u001b[49m\u001b[43mrequest_parameters\u001b[49m\u001b[43m,\u001b[49m\n\u001b[1;32m   2324\u001b[0m \u001b[43m        \u001b[49m\u001b[43morig_service_name\u001b[49m\u001b[43m,\u001b[49m\n\u001b[1;32m   2325\u001b[0m \u001b[43m        \u001b[49m\u001b[43morig_engine_name\u001b[49m\u001b[43m,\u001b[49m\n\u001b[1;32m   2326\u001b[0m \u001b[43m    \u001b[49m\u001b[43m)\u001b[49m\n\u001b[1;32m   2327\u001b[0m \u001b[43m\u001b[49m\u001b[43m)\u001b[49m\n\u001b[1;32m   2328\u001b[0m \u001b[38;5;28;01mreturn\u001b[39;00m response\n",
      "File \u001b[0;32m/opt/conda/lib/python3.11/site-packages/nest_asyncio.py:98\u001b[0m, in \u001b[0;36m_patch_loop.<locals>.run_until_complete\u001b[0;34m(self, future)\u001b[0m\n\u001b[1;32m     95\u001b[0m \u001b[38;5;28;01mif\u001b[39;00m \u001b[38;5;129;01mnot\u001b[39;00m f\u001b[38;5;241m.\u001b[39mdone():\n\u001b[1;32m     96\u001b[0m     \u001b[38;5;28;01mraise\u001b[39;00m \u001b[38;5;167;01mRuntimeError\u001b[39;00m(\n\u001b[1;32m     97\u001b[0m         \u001b[38;5;124m'\u001b[39m\u001b[38;5;124mEvent loop stopped before Future completed.\u001b[39m\u001b[38;5;124m'\u001b[39m)\n\u001b[0;32m---> 98\u001b[0m \u001b[38;5;28;01mreturn\u001b[39;00m \u001b[43mf\u001b[49m\u001b[38;5;241;43m.\u001b[39;49m\u001b[43mresult\u001b[49m\u001b[43m(\u001b[49m\u001b[43m)\u001b[49m\n",
      "File \u001b[0;32m/opt/conda/lib/python3.11/asyncio/futures.py:203\u001b[0m, in \u001b[0;36mFuture.result\u001b[0;34m(self)\u001b[0m\n\u001b[1;32m    201\u001b[0m \u001b[38;5;28mself\u001b[39m\u001b[38;5;241m.\u001b[39m__log_traceback \u001b[38;5;241m=\u001b[39m \u001b[38;5;28;01mFalse\u001b[39;00m\n\u001b[1;32m    202\u001b[0m \u001b[38;5;28;01mif\u001b[39;00m \u001b[38;5;28mself\u001b[39m\u001b[38;5;241m.\u001b[39m_exception \u001b[38;5;129;01mis\u001b[39;00m \u001b[38;5;129;01mnot\u001b[39;00m \u001b[38;5;28;01mNone\u001b[39;00m:\n\u001b[0;32m--> 203\u001b[0m     \u001b[38;5;28;01mraise\u001b[39;00m \u001b[38;5;28mself\u001b[39m\u001b[38;5;241m.\u001b[39m_exception\u001b[38;5;241m.\u001b[39mwith_traceback(\u001b[38;5;28mself\u001b[39m\u001b[38;5;241m.\u001b[39m_exception_tb)\n\u001b[1;32m    204\u001b[0m \u001b[38;5;28;01mreturn\u001b[39;00m \u001b[38;5;28mself\u001b[39m\u001b[38;5;241m.\u001b[39m_result\n",
      "File \u001b[0;32m/opt/conda/lib/python3.11/asyncio/tasks.py:277\u001b[0m, in \u001b[0;36mTask.__step\u001b[0;34m(***failed resolving arguments***)\u001b[0m\n\u001b[1;32m    273\u001b[0m \u001b[38;5;28;01mtry\u001b[39;00m:\n\u001b[1;32m    274\u001b[0m     \u001b[38;5;28;01mif\u001b[39;00m exc \u001b[38;5;129;01mis\u001b[39;00m \u001b[38;5;28;01mNone\u001b[39;00m:\n\u001b[1;32m    275\u001b[0m         \u001b[38;5;66;03m# We use the `send` method directly, because coroutines\u001b[39;00m\n\u001b[1;32m    276\u001b[0m         \u001b[38;5;66;03m# don't have `__iter__` and `__next__` methods.\u001b[39;00m\n\u001b[0;32m--> 277\u001b[0m         result \u001b[38;5;241m=\u001b[39m coro\u001b[38;5;241m.\u001b[39msend(\u001b[38;5;28;01mNone\u001b[39;00m)\n\u001b[1;32m    278\u001b[0m     \u001b[38;5;28;01melse\u001b[39;00m:\n\u001b[1;32m    279\u001b[0m         result \u001b[38;5;241m=\u001b[39m coro\u001b[38;5;241m.\u001b[39mthrow(exc)\n",
      "File \u001b[0;32m/opt/conda/lib/python3.11/site-packages/pyegeria/automated_curation_omvs.py:2274\u001b[0m, in \u001b[0;36mAutomatedCuration._async_initiate_gov_action_type\u001b[0;34m(self, action_type_qualified_name, request_source_guids, action_targets, start_time, request_parameters, orig_service_name, orig_engine_name)\u001b[0m\n\u001b[1;32m   2263\u001b[0m body \u001b[38;5;241m=\u001b[39m {\n\u001b[1;32m   2264\u001b[0m     \u001b[38;5;124m\"\u001b[39m\u001b[38;5;124mclass\u001b[39m\u001b[38;5;124m\"\u001b[39m: \u001b[38;5;124m\"\u001b[39m\u001b[38;5;124mInitiateGovernanceActionTypeRequestBody\u001b[39m\u001b[38;5;124m\"\u001b[39m,\n\u001b[1;32m   2265\u001b[0m     \u001b[38;5;124m\"\u001b[39m\u001b[38;5;124mgovernanceActionTypeQualifiedName\u001b[39m\u001b[38;5;124m\"\u001b[39m: action_type_qualified_name,\n\u001b[0;32m   (...)\u001b[0m\n\u001b[1;32m   2271\u001b[0m     \u001b[38;5;124m\"\u001b[39m\u001b[38;5;124moriginatorEngineName\u001b[39m\u001b[38;5;124m\"\u001b[39m: orig_engine_name,\n\u001b[1;32m   2272\u001b[0m }\n\u001b[1;32m   2273\u001b[0m new_body \u001b[38;5;241m=\u001b[39m body_slimmer(body)\n\u001b[0;32m-> 2274\u001b[0m response \u001b[38;5;241m=\u001b[39m \u001b[38;5;28;01mawait\u001b[39;00m \u001b[38;5;28mself\u001b[39m\u001b[38;5;241m.\u001b[39m_async_make_request(\u001b[38;5;124m\"\u001b[39m\u001b[38;5;124mPOST\u001b[39m\u001b[38;5;124m\"\u001b[39m, url, new_body)\n\u001b[1;32m   2275\u001b[0m \u001b[38;5;28;01mreturn\u001b[39;00m response\u001b[38;5;241m.\u001b[39mjson()\u001b[38;5;241m.\u001b[39mget(\u001b[38;5;124m\"\u001b[39m\u001b[38;5;124mguid\u001b[39m\u001b[38;5;124m\"\u001b[39m, \u001b[38;5;124m\"\u001b[39m\u001b[38;5;124mAction not initiated\u001b[39m\u001b[38;5;124m\"\u001b[39m)\n",
      "File \u001b[0;32m/opt/conda/lib/python3.11/site-packages/pyegeria/_client.py:421\u001b[0m, in \u001b[0;36mClient._async_make_request\u001b[0;34m(self, request_type, endpoint, payload, time_out)\u001b[0m\n\u001b[1;32m    419\u001b[0m     \u001b[38;5;28;01melse\u001b[39;00m:\n\u001b[1;32m    420\u001b[0m         exc_message \u001b[38;5;241m=\u001b[39m response\u001b[38;5;241m.\u001b[39mtext\n\u001b[0;32m--> 421\u001b[0m         \u001b[38;5;28;01mraise\u001b[39;00m InvalidParameterException(exc_message)\n\u001b[1;32m    422\u001b[0m \u001b[38;5;28;01melse\u001b[39;00m:\n\u001b[1;32m    423\u001b[0m     msg \u001b[38;5;241m=\u001b[39m OMAGCommonErrorCode\u001b[38;5;241m.\u001b[39mCLIENT_SIDE_REST_API_ERROR\u001b[38;5;241m.\u001b[39mvalue[\n\u001b[1;32m    424\u001b[0m         \u001b[38;5;124m\"\u001b[39m\u001b[38;5;124mmessage_template\u001b[39m\u001b[38;5;124m\"\u001b[39m\n\u001b[1;32m    425\u001b[0m     ]\u001b[38;5;241m.\u001b[39mformat(\n\u001b[0;32m   (...)\u001b[0m\n\u001b[1;32m    432\u001b[0m         ],\n\u001b[1;32m    433\u001b[0m     )\n",
      "\u001b[0;31mInvalidParameterException\u001b[0m: OMAG-REPOSITORY-HANDLER-404-007 The Referenceable entity with unique identifier No elements found is not found for method initiateGovernanceActionType of access service Governance Action Framework Services in open metadata server active-metadata-store, error message was: OMRS-REPOSITORY-404-002 The entity identified with guid No elements found passed on the getEntityDetail call is not known to the open metadata repository Enterprise"
     ]
    }
   ],
   "source": [
    "\n",
    "catalogUCName=\"UnityCatalogGovernanceServices:catalog-unity-catalog-server\"\n",
    "\n",
    "ucServer1GUID=egeria_tech.get_element_guid_by_unique_name(\"Unity Catalog Server:Unity Catalog 1\")\n",
    "print(ucServer1GUID)\n",
    "\n",
    "action_targets = [{\n",
    "    \"class\": \"NewActionTarget\", \n",
    "    \"actionTargetName\": \"newAsset\", \n",
    "    \"actionTargetGUID\": ucServer1GUID\n",
    "}]\n",
    "\n",
    "egeria_tech.initiate_gov_action_type(catalogUCName, None, action_targets, None, None, None)\n"
   ]
  },
  {
   "cell_type": "markdown",
   "id": "3168f74d-2dc2-4da6-803b-dda6083a5f04",
   "metadata": {},
   "source": [
    "----\n",
    "\n",
    "Switch back to the integration daemon monitor and you will see that there are now catalog targets for the server with UnityCatalogServerSynchronizer and for each Unity Catalog catlogs with UnityCatalogInsideCatalogSynchronizer.\n",
    "\n",
    "Now lets catalog the second server.\n",
    "\n",
    "----"
   ]
  },
  {
   "cell_type": "code",
   "execution_count": null,
   "id": "b7698cc3-934b-4082-9782-de627fbc8aae",
   "metadata": {},
   "outputs": [],
   "source": [
    "\n",
    "ucServer2GUID=egeria_tech.get_element_guid_by_unique_name(\"Unity Catalog Server:Unity Catalog 2\")\n",
    "print(ucServer2GUID)\n",
    "\n",
    "action_targets = [{\n",
    "    \"class\": \"NewActionTarget\", \n",
    "    \"actionTargetName\": \"newAsset\", \n",
    "    \"actionTargetGUID\": ucServer2GUID\n",
    "}]\n",
    "\n",
    "egeria_tech.initiate_gov_action_type(catalogUCName, None, action_targets, None, None, None)\n"
   ]
  },
  {
   "cell_type": "markdown",
   "id": "1a41ed4e-c94e-4d86-83dc-c2fc4b0e7c33",
   "metadata": {},
   "source": [
    "----\n",
    "\n",
    "Again, check the integration daemon montor to see that the second server is being catalogued.\n",
    "\n",
    "----\n",
    "\n",
    "You can uses the following commands to show the elements from Unity Catalog in Egeria:\n",
    "\n",
    "* `hey_egeria cat show tech-type-elements --tech_type 'Unity Catalog Server'` for the Unity Catalog Servers.\n",
    "* `hey_egeria cat show tech-type-elements --tech_type 'Unity Catalog Catalog'` for the Unity Catalog Catalogs.\n",
    "* `hey_egeria cat show tech-type-elements --tech_type 'Unity Catalog Schema'` for the Unity Catalog Schemas.\n",
    "* `hey_egeria cat show tech-type-elements --tech_type 'Unity Catalog Table'` for the Unity Catalog Tables.\n",
    "* `hey_egeria cat show tech-type-elements --tech_type 'Unity Catalog Volume'` for the Unity Catalog Volumes.\n",
    "* `hey_egeria cat show tech-type-elements --tech_type 'Unity Catalog Function'` for the Unity Catalog Functions.\n",
    "\n",
    "You can also use `hey_egeria_cat show assets inventory` to search for assets that include the word `inventory` in it.\n",
    "\n",
    "This shows that metadata can be copied from Unity Catalog into Egeria's metadata repository and represented using Open Metadata Types.  The next part of the demonstration show metadata flowing from Egeria to Unity Catalog.\n",
    "\n"
   ]
  },
  {
   "cell_type": "markdown",
   "id": "7843318d-6181-4ea2-b49e-61a6fd32e512",
   "metadata": {},
   "source": [
    "# Provisioning Unity Catalog (UC) from Egeria\n",
    "\n"
   ]
  },
  {
   "cell_type": "code",
   "execution_count": null,
   "id": "6216a89f-1319-4a45-90e7-c474ef128029",
   "metadata": {},
   "outputs": [],
   "source": [
    "token = egeria_client.create_egeria_bearer_token()"
   ]
  },
  {
   "cell_type": "code",
   "execution_count": null,
   "id": "fd0709ad-e859-4505-955b-1aebaf3ae3dc",
   "metadata": {},
   "outputs": [],
   "source": [
    "\n"
   ]
  },
  {
   "cell_type": "code",
   "execution_count": null,
   "id": "f2f1ee7c-884f-4dcc-98a9-d9e30470d205",
   "metadata": {},
   "outputs": [],
   "source": [
    "\n"
   ]
  },
  {
   "cell_type": "code",
   "execution_count": null,
   "id": "3a69ccdc-627e-46ca-adb2-81ee82e89ef6",
   "metadata": {},
   "outputs": [],
   "source": []
  },
  {
   "cell_type": "code",
   "execution_count": null,
   "id": "057d1bcb-a0e6-461d-b240-e450ac1fd947",
   "metadata": {},
   "outputs": [],
   "source": []
  },
  {
   "cell_type": "code",
   "execution_count": null,
   "id": "06443488-b877-42a4-b055-6a19b60a1fd6",
   "metadata": {},
   "outputs": [],
   "source": [
    "\n"
   ]
  },
  {
   "cell_type": "code",
   "execution_count": null,
   "id": "d65a2612-34a1-4c40-8b08-e2e7b5460ab9",
   "metadata": {},
   "outputs": [],
   "source": []
  }
 ],
 "metadata": {
  "kernelspec": {
   "display_name": "Python 3 (ipykernel)",
   "language": "python",
   "name": "python3"
  },
  "language_info": {
   "codemirror_mode": {
    "name": "ipython",
    "version": 3
   },
   "file_extension": ".py",
   "mimetype": "text/x-python",
   "name": "python",
   "nbconvert_exporter": "python",
   "pygments_lexer": "ipython3",
   "version": "3.11.10"
  }
 },
 "nbformat": 4,
 "nbformat_minor": 5
}

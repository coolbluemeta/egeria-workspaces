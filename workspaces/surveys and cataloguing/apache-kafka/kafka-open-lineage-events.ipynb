{
 "cells": [
  {
   "cell_type": "code",
   "execution_count": 1,
   "id": "f7cb0c66-1506-46d8-9a7e-031379fbbe14",
   "metadata": {
    "editable": true,
    "slideshow": {
     "slide_type": ""
    },
    "tags": []
   },
   "outputs": [],
   "source": [
    "import os\n",
    "view_server = os.environ.get(\"VIEW_SERVER\",\"view-server\")\n",
    "url = os.environ.get(\"EGERIA_VIEW_SERVER_URL\",\"https://host.docker.internal:9443\")\n",
    "user_id = os.environ.get(\"EGERIA_USER\", \"peterprofile\")\n",
    "user_pwd = os.environ.get(\"EGERIA_USER_PASSWORD\")\n",
    "\n",
    "from pyegeria import EgeriaTech, TEMPLATE_GUIDS, INTEGRATION_GUIDS\n",
    "import asyncio\n",
    "import nest_asyncio\n",
    "nest_asyncio.apply()\n"
   ]
  },
  {
   "cell_type": "markdown",
   "id": "5d3ce06d-0a7d-4fe1-bb5f-4aa56623a884",
   "metadata": {},
   "source": [
    "\n",
    "\n",
    "![Egeria Logo](https://raw.githubusercontent.com/odpi/egeria/main/assets/img/ODPi_Egeria_Logo_color.png)\n",
    "\n",
    "### Egeria Workbook\n",
    "\n",
    "# Receiving Open Lineage Events via Kafka\n",
    "\n",
    "## Introduction\n",
    "\n",
    "Open Lineage supports a proxy backend server that is able to distribute events via Apache Kafka.  This workbook sets up Egeria to receive these events.\n",
    "\n",
    "---"
   ]
  },
  {
   "cell_type": "code",
   "execution_count": 3,
   "id": "88a3e1fc-683c-4ec7-95bd-331f8e841c6b",
   "metadata": {},
   "outputs": [],
   "source": [
    "egeria_client = EgeriaTech(view_server, url, user_id, user_pwd)\n",
    "token = egeria_client.create_egeria_bearer_token()"
   ]
  },
  {
   "cell_type": "code",
   "execution_count": 6,
   "id": "946b87f0-596c-463b-b180-ebb3c2bcab75",
   "metadata": {
    "editable": true,
    "slideshow": {
     "slide_type": ""
    },
    "tags": []
   },
   "outputs": [
    {
     "name": "stdout",
     "output_type": "stream",
     "text": [
      "GUID of Kafka Topic is: d9368fdd-444a-4adc-a2b4-eddd509e02e2\n"
     ]
    }
   ],
   "source": [
    "topic_template_guid=TEMPLATE_GUIDS[\"Apache Kafka Topic\"]\n",
    "\n",
    "body = {\n",
    "    \"templateGUID\": topic_template_guid,\n",
    "    \"isOwnAnchor\": True,\n",
    "    \"placeholderPropertyValues\": {\n",
    "        \"serverName\" : \"LocalKafka-9194\",\n",
    "        \"hostIdentifier\": \"host.docker.internal\",\n",
    "        \"portNumber\": \"9194\",\n",
    "        \"description\" : \"Receive open lineage events via Kafka Topic.\",\n",
    "        \"topicDescription\": \"Open Lineage Events for Backend Proxy\",\n",
    "        \"fullTopicName\": \"openlineage.events\",\n",
    "        \"shortTopicName\": \"openlineage.events\",\n",
    "        \"eventDirection\": \"inOut\"\n",
    "    }\n",
    "}\n",
    "            \n",
    "endpoint_guid = egeria_client.create_element_from_template(body)\n",
    "print(\"GUID of Kafka Topic is: \" + endpoint_guid)\n"
   ]
  },
  {
   "cell_type": "markdown",
   "id": "fb2e2260-0502-49e5-8284-a5ac7e340d1c",
   "metadata": {
    "editable": true,
    "slideshow": {
     "slide_type": ""
    },
    "tags": []
   },
   "source": [
    "---\n",
    "\n",
    "Once the endpoint is defined, we can add it as a catalog target to the **OpenLineageKafkaListener** integration connector.\n",
    "\n",
    "----\n"
   ]
  },
  {
   "cell_type": "code",
   "execution_count": 7,
   "id": "1c9ddeb8-e693-4c85-a637-b6081feae3df",
   "metadata": {
    "editable": true,
    "slideshow": {
     "slide_type": ""
    },
    "tags": []
   },
   "outputs": [
    {
     "data": {
      "text/plain": [
       "'725d2353-47d4-4d2d-869f-6954ccac7fd0'"
      ]
     },
     "execution_count": 7,
     "metadata": {},
     "output_type": "execute_result"
    }
   ],
   "source": [
    "\n",
    "kafka_open_lineage_listener_guid=INTEGRATION_GUIDS[\"OpenLineageKafkaListener\"]\n",
    "\n",
    "egeria_client.add_catalog_target(kafka_open_lineage_listener_guid, \n",
    "                                 endpoint_guid, \n",
    "                                 \"localOpenLineage-9194\",\n",
    "                                 None,\n",
    "                                 None,\n",
    "                                 None,\n",
    "                                 None)\n",
    "                      \n"
   ]
  },
  {
   "cell_type": "code",
   "execution_count": null,
   "id": "442cf0b2-e76a-4bc8-a5d9-2ecfe2e73b2c",
   "metadata": {},
   "outputs": [],
   "source": []
  }
 ],
 "metadata": {
  "kernelspec": {
   "display_name": "Python 3 (ipykernel)",
   "language": "python",
   "name": "python3"
  },
  "language_info": {
   "codemirror_mode": {
    "name": "ipython",
    "version": 3
   },
   "file_extension": ".py",
   "mimetype": "text/x-python",
   "name": "python",
   "nbconvert_exporter": "python",
   "pygments_lexer": "ipython3",
   "version": "3.11.9"
  }
 },
 "nbformat": 4,
 "nbformat_minor": 5
}

{
 "cells": [
  {
   "cell_type": "markdown",
   "id": "df9d55cc-e600-4e70-98ec-0d9724bba98c",
   "metadata": {},
   "source": [
    "![Egeria Logo](https://raw.githubusercontent.com/odpi/egeria/main/assets/img/ODPi_Egeria_Logo_color.png)\n",
    "\n",
    "### Egeria Workspaces\n",
    "\n",
    "This JupyterLab environment was created by the *egeria-workspaces* docker compose script that provisions JupyterLab with Egeria and Apache Kafka.  It is designed for individuals, or small teams, who want to work with Egeria in a python environment.\n",
    "\n",
    "The Egeria part of this includes pyegeria and a preconfigured runtime. pyegeria has  python functions, a CLI and monitoring/display widgets for interacting with Egeria’s runtime."
   ]
  },
  {
   "cell_type": "code",
   "execution_count": null,
   "id": "9c418607-e889-4e4e-b1b8-b3e1f2d30cc2",
   "metadata": {},
   "outputs": [],
   "source": []
  }
 ],
 "metadata": {
  "kernelspec": {
   "display_name": "Python 3 (ipykernel)",
   "language": "python",
   "name": "python3"
  },
  "language_info": {
   "codemirror_mode": {
    "name": "ipython",
    "version": 3
   },
   "file_extension": ".py",
   "mimetype": "text/x-python",
   "name": "python",
   "nbconvert_exporter": "python",
   "pygments_lexer": "ipython3",
   "version": "3.11.9"
  }
 },
 "nbformat": 4,
 "nbformat_minor": 5
}

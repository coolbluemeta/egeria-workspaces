{
 "cells": [
  {
   "cell_type": "code",
   "execution_count": 1,
   "id": "2094e0fc-29c6-4f33-b40e-e67d4f046a5f",
   "metadata": {},
   "outputs": [],
   "source": [
    "from pyegeria import AutomatedCuration"
   ]
  },
  {
   "cell_type": "code",
   "execution_count": 2,
   "id": "5114abc1-ef5f-49a5-a097-745b82b6cf45",
   "metadata": {},
   "outputs": [],
   "source": [
    "import asyncio\n",
    "import nest_asyncio\n",
    "nest_asyncio.apply()"
   ]
  },
  {
   "cell_type": "code",
   "execution_count": 3,
   "id": "1cb9b8e5-2672-4ae1-a8a3-7ef368ef368c",
   "metadata": {},
   "outputs": [],
   "source": [
    "client = AutomatedCuration('view-server','https://host.docker.internal:9443','erinoverview','secret')\n",
    "token = client.create_egeria_bearer_token()                         "
   ]
  },
  {
   "cell_type": "code",
   "execution_count": 4,
   "id": "458d6da3-bfb8-4f4c-80eb-84f28505d910",
   "metadata": {},
   "outputs": [],
   "source": [
    "client = client.get_engine_actions()\n"
   ]
  },
  {
   "cell_type": "code",
   "execution_count": 5,
   "id": "0b614b04-fe66-4f85-b027-57625a0c9127",
   "metadata": {},
   "outputs": [
    {
     "data": {
      "text/plain": [
       "'No elements'"
      ]
     },
     "execution_count": 5,
     "metadata": {},
     "output_type": "execute_result"
    }
   ],
   "source": [
    "client"
   ]
  },
  {
   "cell_type": "code",
   "execution_count": null,
   "id": "3fffc1c3-ee0a-4b4f-8bf1-b3b67cc41158",
   "metadata": {},
   "outputs": [],
   "source": []
  }
 ],
 "metadata": {
  "kernelspec": {
   "display_name": "Python 3 (ipykernel)",
   "language": "python",
   "name": "python3"
  },
  "language_info": {
   "codemirror_mode": {
    "name": "ipython",
    "version": 3
   },
   "file_extension": ".py",
   "mimetype": "text/x-python",
   "name": "python",
   "nbconvert_exporter": "python",
   "pygments_lexer": "ipython3",
   "version": "3.11.9"
  }
 },
 "nbformat": 4,
 "nbformat_minor": 5
}

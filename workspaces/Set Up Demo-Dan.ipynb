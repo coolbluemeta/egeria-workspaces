{
 "cells": [
  {
   "cell_type": "code",
   "id": "1d91bd50-7edc-4186-bdf0-509fa069a10c",
   "metadata": {},
   "source": [
    "import os\n",
    "view_server = os.environ.get(\"VIEW_SERVER\",\"view-server\")\n",
    "url = os.environ.get(\"EGERIA_VIEW_SERVER_URL\",\"https;//host.docker.internal:9443\")"
   ],
   "outputs": [],
   "execution_count": null
  },
  {
   "cell_type": "code",
   "id": "a2154268-2c25-4870-a69e-df589615ee2b",
   "metadata": {},
   "source": [
    "from pyegeria import AutomatedCuration, TEMPLATE_GUIDS, INTEGRATION_GUIDS\n",
    "import asyncio\n",
    "import nest_asyncio\n",
    "nest_asyncio.apply()"
   ],
   "outputs": [],
   "execution_count": null
  },
  {
   "cell_type": "code",
   "id": "a31f8925-6942-4c23-abaf-202f0d1340a0",
   "metadata": {},
   "source": [
    "a_client = AutomatedCuration(view_server, url, 'garygeeke',\n",
    "                                         user_pwd=\"secret\")\n",
    "token = a_client.create_egeria_bearer_token()"
   ],
   "outputs": [],
   "execution_count": null
  },
  {
   "cell_type": "code",
   "id": "311fcacb-962b-4d8d-89a4-253419283e6b",
   "metadata": {},
   "source": [
    "body = {\n",
    "  \"templateGUID\" : TEMPLATE_GUIDS['OSS Unity Catalog Server template'],\n",
    "  \"isOwnAnchor\" : True,\n",
    "  \"placeholderPropertyValues\" : {\n",
    "    \"hostURL\" : \"http://wolfsonnet.me\",\n",
    "    \"portNumber\" : \"8070\",\n",
    "    \"serverName\" : \"Unity Catalog - wolfsonnet.me\",\n",
    "    \"versionIdentifier\" : \"V1.0\",\n",
    "    \"description\" : \"Wolfsonnet OSS Unity Catalog (UC) Server.\",\n",
    "    \"serverUserId\" : \"uc1\"\n",
    "  }\n",
    "}\n",
    "guid1 = a_client.create_element_from_template(body)"
   ],
   "outputs": [],
   "execution_count": null
  },
  {
   "cell_type": "code",
   "id": "8a56c31d-5fbf-426d-a357-54ebd7f265bd",
   "metadata": {},
   "source": [
    "body = {\n",
    "  \"catalogTargetName\" : \"uc-wolfsonnet\",\n",
    "  \"templateProperties\" : {\n",
    "    \"OSS Unity Catalog Catalog\"  : TEMPLATE_GUIDS['OSS Unity Catalog Catalog template'],\n",
    "    \"OSS Unity Catalog Schema\"   : TEMPLATE_GUIDS['OSS Unity Catalog Schema template'],\n",
    "    \"OSS Unity Catalog Volume\"   : TEMPLATE_GUIDS['OSS Unity Catalog Volume template'],\n",
    "    \"OSS Unity Catalog Table\"    : TEMPLATE_GUIDS['OSS Unity Catalog Table template'],\n",
    "    \"OSS Unity Catalog Function\" : TEMPLATE_GUIDS['OSS Unity Catalog Function template']\n",
    "  },\n",
    "  \"configurationProperties\" : {\n",
    "    \"OSSUnityCatalogFriendshipGUID\" : INTEGRATION_GUIDS['OSS Unity Catalog Catalog']\n",
    "  }\n",
    "}\n",
    "\n",
    "a_client.add_catalog_target(INTEGRATION_GUIDS['OSS Unity Catalog Server'],guid1, 'uc-wolfsonnet',config_properties = body)"
   ],
   "outputs": [],
   "execution_count": null
  },
  {
   "cell_type": "code",
   "id": "cc1f25d5-8e0a-470f-83a1-894e3afed93a",
   "metadata": {},
   "source": [
    "body = {\n",
    "  \"templateGUID\" : TEMPLATE_GUIDS['OSS Unity Catalog Server template'],\n",
    "  \"isOwnAnchor\" : True,\n",
    "  \"placeholderPropertyValues\" : {\n",
    "    \"hostURL\" : \"http://host.docker.internal\",\n",
    "    \"portNumber\" : \"8080\",\n",
    "    \"serverName\" : \"Unity Catalog - laz\",\n",
    "    \"versionIdentifier\" : \"V1.0\",\n",
    "    \"description\" : \"Laz Unity Catalog (UC) Server.\",\n",
    "    \"serverUserId\" : \"uc1\"\n",
    "  }\n",
    "}\n",
    "guid2 = a_client.create_element_from_template(body)"
   ],
   "outputs": [],
   "execution_count": null
  },
  {
   "cell_type": "code",
   "id": "6836afc9-17bb-4a86-9369-00ed8f325e48",
   "metadata": {},
   "source": [
    "body = {\n",
    "  \"catalogTargetName\" : \"uc-laz\",\n",
    "  \"templateProperties\" : {\n",
    "    \"OSS Unity Catalog Catalog\"  : TEMPLATE_GUIDS['OSS Unity Catalog Catalog template'],\n",
    "    \"OSS Unity Catalog Schema\"   : TEMPLATE_GUIDS['OSS Unity Catalog Schema template'],\n",
    "    \"OSS Unity Catalog Volume\"   : TEMPLATE_GUIDS['OSS Unity Catalog Volume template'],\n",
    "    \"OSS Unity Catalog Table\"    : TEMPLATE_GUIDS['OSS Unity Catalog Table template'],\n",
    "    \"OSS Unity Catalog Function\" : TEMPLATE_GUIDS['OSS Unity Catalog Function template']\n",
    "  },\n",
    "  \"configurationProperties\" : {\n",
    "    \"OSSUnityCatalogFriendshipGUID\" : INTEGRATION_GUIDS['OSS Unity Catalog Catalog']\n",
    "  }\n",
    "}\n",
    "\n",
    "a_client.add_catalog_target(INTEGRATION_GUIDS['OSS Unity Catalog Server'],guid2, 'uc-laz',config_properties = body)"
   ],
   "outputs": [],
   "execution_count": null
  },
  {
   "cell_type": "code",
   "id": "a3002869-29fa-49f5-a8ad-04388164eb7b",
   "metadata": {},
   "source": [
    "\n",
    "ucServerSurveyName=\"AssetSurvey:survey-unity-catalog-server\"\n",
    "action_targets = [{\n",
    "    \"class\": \"NewActionTarget\",\n",
    "    \"actionTargetName\": \"laz\",\n",
    "    \"actionTargetGUID\": guid2\n",
    "}]\n",
    "a_client.initiate_gov_action_type(ucServerSurveyName, None, action_targets, None, None, None)"
   ],
   "outputs": [],
   "execution_count": null
  },
  {
   "cell_type": "code",
   "id": "b8b557f9-9f3f-4035-897f-5ecc8a93c533",
   "metadata": {},
   "source": [],
   "outputs": [],
   "execution_count": null
  }
 ],
 "metadata": {
  "kernelspec": {
   "display_name": "Python 3 (ipykernel)",
   "language": "python",
   "name": "python3"
  },
  "language_info": {
   "codemirror_mode": {
    "name": "ipython",
    "version": 3
   },
   "file_extension": ".py",
   "mimetype": "text/x-python",
   "name": "python",
   "nbconvert_exporter": "python",
   "pygments_lexer": "ipython3",
   "version": "3.11.9"
  }
 },
 "nbformat": 4,
 "nbformat_minor": 5
}

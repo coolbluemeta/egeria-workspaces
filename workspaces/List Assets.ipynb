{
 "cells": [
  {
   "cell_type": "code",
   "execution_count": 1,
   "id": "9968014f-4cd4-40fb-959a-13689f5ac01e",
   "metadata": {
    "ExecuteTime": {
     "end_time": "2024-07-24T20:04:20.991718Z",
     "start_time": "2024-07-24T20:04:20.986722Z"
    },
    "editable": true,
    "slideshow": {
     "slide_type": ""
    },
    "tags": []
   },
   "outputs": [],
   "source": [
    "import asyncio\n",
    "import nest_asyncio\n",
    "nest_asyncio.apply()"
   ]
  },
  {
   "cell_type": "code",
   "execution_count": 2,
   "id": "ef9c790e-7648-4023-8112-03acfaccef17",
   "metadata": {
    "ExecuteTime": {
     "end_time": "2024-07-24T20:05:08.578069Z",
     "start_time": "2024-07-24T20:04:59.474093Z"
    }
   },
   "outputs": [
    {
     "data": {
      "text/html": [
       "<pre style=\"white-space:pre;overflow-x:auto;line-height:normal;font-family:Menlo,'DejaVu Sans Mono',consolas,'Courier New',monospace\">Enter an asset search string: <span style=\"color: #008080; text-decoration-color: #008080; font-weight: bold\">()</span>: </pre>\n"
      ],
      "text/plain": [
       "Enter an asset search string: \u001b[1;36m()\u001b[0m: "
      ]
     },
     "metadata": {},
     "output_type": "display_data"
    },
    {
     "name": "stdin",
     "output_type": "stream",
     "text": [
      " unity.default.t\n"
     ]
    },
    {
     "name": "stdout",
     "output_type": "stream",
     "text": [
      "                                                                                                                  Assets containing the string  unity.default.t @ Wed Jul 24 21:19:27 2024                                                                                                                  \n",
      "╭─────────────────┬──────────────────────────┬─────────────────────────────────────────┬────────────────────────┬──────────────────────────────────────────────────────────────────────────────────────────────────────────────────────────────────────────────────────────────────────────────────────────╮\n",
      "│ Display Name    │ Type Name                │ GUID                                    │ Technology Type        │ Matching Elements                                                                                                                                                                        │\n",
      "├─────────────────┼──────────────────────────┼─────────────────────────────────────────┼────────────────────────┼──────────────────────────────────────────────────────────────────────────────────────────────────────────────────────────────────────────────────────────────────────────────────────────┤\n",
      "│ unity.default   │ DeployedDatabaseSchema   │ 83c5f497-abb0-43b0-bd40-d01f468ca4fe    │ Unity Catalog Schema   │ ┏━━━━━━━━━━━━┳━━━━━━━━━━━━━━━━━━━━━━━━━━━━━━━━━━━━━━┳━━━━━━━━━━━━━━━━━━━━━━━━━━━━━━━━━━━━━━━━━━━━━━━━━━━━━━━━━━━━━━━━━━━━━━━━━━━━━━━━━━━━━━━━━━━━━━━━━━━━━━━━━━━━━━━━━━━━━┓              │\n",
      "│                 │                          │                                         │                        │ ┃ Type Name  ┃ GUID                                 ┃ Properties                                                                                                          ┃              │\n",
      "│                 │                          │                                         │                        │ ┡━━━━━━━━━━━━╇━━━━━━━━━━━━━━━━━━━━━━━━━━━━━━━━━━━━━━╇━━━━━━━━━━━━━━━━━━━━━━━━━━━━━━━━━━━━━━━━━━━━━━━━━━━━━━━━━━━━━━━━━━━━━━━━━━━━━━━━━━━━━━━━━━━━━━━━━━━━━━━━━━━━━━━━━━━━━┩              │\n",
      "│                 │                          │                                         │                        │ │ DataFolder │ 62b7bf3d-b548-4536-bf88-8390ac3bed6b │ pathName: file:///Users/dwolfson/localGit/databricks/unitycatalog/etc/data/managed/unity/default/volumes/txt_files/ │              │\n",
      "│                 │                          │                                         │                        │ │            │                                      │ name: unity.default.txt_files                                                                                       │              │\n",
      "│                 │                          │                                         │                        │ │            │                                      │ qualifiedName: Unity Catalog Volume:http://host.docker.internal:8080:unity.default.txt_files                        │              │\n",
      "│                 │                          │                                         │                        │ │            │                                      │ deployedImplementationType: Unity Catalog Volume                                                                    │              │\n",
      "│                 │                          │                                         │                        │ │            │                                      │                                                                                                                     │              │\n",
      "│                 │                          │                                         │                        │ └────────────┴──────────────────────────────────────┴─────────────────────────────────────────────────────────────────────────────────────────────────────────────────────┘              │\n",
      "├─────────────────┼──────────────────────────┼─────────────────────────────────────────┼────────────────────────┼──────────────────────────────────────────────────────────────────────────────────────────────────────────────────────────────────────────────────────────────────────────────────────────┤\n",
      "│ unity.default   │ DeployedDatabaseSchema   │ a0969e87-98cb-4704-b2a9-71ac3d6e01f7    │ Unity Catalog Schema   │ ┏━━━━━━━━━━━━┳━━━━━━━━━━━━━━━━━━━━━━━━━━━━━━━━━━━━━━┳━━━━━━━━━━━━━━━━━━━━━━━━━━━━━━━━━━━━━━━━━━━━━━━━━━━━━━━━━━━━━━━━━━━━━━━━━━━━━━━━━━━━━━━━━━━━━━━━━━━━━━━━━━━━━━━┓                    │\n",
      "│                 │                          │                                         │                        │ ┃ Type Name  ┃ GUID                                 ┃ Properties                                                                                                    ┃                    │\n",
      "│                 │                          │                                         │                        │ ┡━━━━━━━━━━━━╇━━━━━━━━━━━━━━━━━━━━━━━━━━━━━━━━━━━━━━╇━━━━━━━━━━━━━━━━━━━━━━━━━━━━━━━━━━━━━━━━━━━━━━━━━━━━━━━━━━━━━━━━━━━━━━━━━━━━━━━━━━━━━━━━━━━━━━━━━━━━━━━━━━━━━━━┩                    │\n",
      "│                 │                          │                                         │                        │ │ DataFolder │ 8979436f-f1e7-495b-90b6-3114f64e2a11 │ pathName: file:///home/dan/localGit/databricks/unitycatalog/etc/data/managed/unity/default/volumes/txt_files/ │                    │\n",
      "│                 │                          │                                         │                        │ │            │                                      │ name: unity.default.txt_files                                                                                 │                    │\n",
      "│                 │                          │                                         │                        │ │            │                                      │ qualifiedName: Unity Catalog Volume:http://wolfsonnet.me:8070:unity.default.txt_files                         │                    │\n",
      "│                 │                          │                                         │                        │ │            │                                      │ deployedImplementationType: Unity Catalog Volume                                                              │                    │\n",
      "│                 │                          │                                         │                        │ │            │                                      │                                                                                                               │                    │\n",
      "│                 │                          │                                         │                        │ └────────────┴──────────────────────────────────────┴───────────────────────────────────────────────────────────────────────────────────────────────────────────────┘                    │\n",
      "╰─────────────────┴──────────────────────────┴─────────────────────────────────────────┴────────────────────────┴──────────────────────────────────────────────────────────────────────────────────────────────────────────────────────────────────────────────────────────────────────────────────────────╯\n",
      "                                                                                                                  View Server 'view-server' @ Platform - https://host.docker.internal:9443                                                                                                                  \n"
     ]
    },
    {
     "data": {
      "text/html": [
       "<pre style=\"white-space:pre;overflow-x:auto;line-height:normal;font-family:Menlo,'DejaVu Sans Mono',consolas,'Courier New',monospace\"></pre>\n"
      ],
      "text/plain": []
     },
     "metadata": {},
     "output_type": "display_data"
    }
   ],
   "source": [
    "%run list_assets\n",
    "\n"
   ]
  },
  {
   "cell_type": "code",
   "execution_count": null,
   "id": "2847e63e-d6f1-456c-b1fb-c877b68deb8d",
   "metadata": {},
   "outputs": [],
   "source": [
    "\n"
   ]
  }
 ],
 "metadata": {
  "kernelspec": {
   "display_name": "Python 3 (ipykernel)",
   "language": "python",
   "name": "python3"
  },
  "language_info": {
   "codemirror_mode": {
    "name": "ipython",
    "version": 3
   },
   "file_extension": ".py",
   "mimetype": "text/x-python",
   "name": "python",
   "nbconvert_exporter": "python",
   "pygments_lexer": "ipython3",
   "version": "3.11.9"
  }
 },
 "nbformat": 4,
 "nbformat_minor": 5
}

{
 "cells": [
  {
   "cell_type": "code",
   "execution_count": null,
   "id": "9968014f-4cd4-40fb-959a-13689f5ac01e",
   "metadata": {
    "ExecuteTime": {
     "end_time": "2024-07-24T20:04:20.991718Z",
     "start_time": "2024-07-24T20:04:20.986722Z"
    },
    "editable": true,
    "slideshow": {
     "slide_type": ""
    },
    "tags": []
   },
   "outputs": [],
   "source": [
    "import asyncio\n",
    "import nest_asyncio\n",
    "nest_asyncio.apply()"
   ]
  },
  {
   "cell_type": "code",
   "execution_count": null,
   "id": "ef9c790e-7648-4023-8112-03acfaccef17",
   "metadata": {
    "ExecuteTime": {
     "end_time": "2024-07-24T20:05:08.578069Z",
     "start_time": "2024-07-24T20:04:59.474093Z"
    }
   },
   "outputs": [],
   "source": [
    "%run list_assets\n",
    "\n"
   ]
  },
  {
   "cell_type": "code",
   "execution_count": null,
   "id": "2847e63e-d6f1-456c-b1fb-c877b68deb8d",
   "metadata": {},
   "outputs": [],
   "source": [
    "\n"
   ]
  }
 ],
 "metadata": {
  "kernelspec": {
   "display_name": "Python 3 (ipykernel)",
   "language": "python",
   "name": "python3"
  },
  "language_info": {
   "codemirror_mode": {
    "name": "ipython",
    "version": 3
   },
   "file_extension": ".py",
   "mimetype": "text/x-python",
   "name": "python",
   "nbconvert_exporter": "python",
   "pygments_lexer": "ipython3",
   "version": "3.11.9"
  }
 },
 "nbformat": 4,
 "nbformat_minor": 5
}

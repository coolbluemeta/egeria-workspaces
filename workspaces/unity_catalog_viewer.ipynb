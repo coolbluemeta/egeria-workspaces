{
 "cells": [
  {
   "cell_type": "code",
   "execution_count": null,
   "id": "ffae858d-83f6-4156-acb6-2e80113253b4",
   "metadata": {},
   "outputs": [],
   "source": [
    "import asyncio\n",
    "import nest_asyncio\n",
    "nest_asyncio.apply()"
   ]
  },
  {
   "cell_type": "code",
   "execution_count": null,
   "id": "fada8b63-d100-4c6b-aba8-3b6692b8e9ee",
   "metadata": {},
   "outputs": [],
   "source": [
    "%run uc_oss_catalog_viewer --url http://egeria.pdr-associates.com:8070"
   ]
  },
  {
   "cell_type": "code",
   "execution_count": null,
   "id": "2277f64b-7c86-445b-b434-3a339d56320a",
   "metadata": {},
   "outputs": [],
   "source": []
  }
 ],
 "metadata": {
  "kernelspec": {
   "display_name": "Python 3 (ipykernel)",
   "language": "python",
   "name": "python3"
  },
  "language_info": {
   "codemirror_mode": {
    "name": "ipython",
    "version": 3
   },
   "file_extension": ".py",
   "mimetype": "text/x-python",
   "name": "python",
   "nbconvert_exporter": "python",
   "pygments_lexer": "ipython3",
   "version": "3.11.9"
  }
 },
 "nbformat": 4,
 "nbformat_minor": 5
}

{
 "cells": [
  {
   "cell_type": "code",
<<<<<<< HEAD
   "execution_count": 1,
=======
   "execution_count": 9,
>>>>>>> 15ca3dc516fcbc80094af4fe8554d76630330848
   "id": "f7cb0c66-1506-46d8-9a7e-031379fbbe14",
   "metadata": {
    "editable": true,
    "slideshow": {
     "slide_type": ""
    },
    "tags": []
   },
   "outputs": [],
   "source": [
    "import os\n",
    "view_server = os.environ.get(\"VIEW_SERVER\",\"view-server\")\n",
    "url = os.environ.get(\"EGERIA_VIEW_SERVER_URL\",\"https://host.docker.internal:9443\")\n",
    "user_id = os.environ.get(\"EGERIA_USER\", \"peterprofile\")\n",
    "user_pwd = os.environ.get(\"EGERIA_USER_PASSWORD\")\n",
    "\n",
    "from pyegeria import AutomatedCuration, TEMPLATE_GUIDS, INTEGRATION_GUIDS\n",
    "import asyncio\n",
    "import nest_asyncio\n",
    "nest_asyncio.apply()\n",
    "\n",
    "ucServerTemplateGUID=\"dcca9788-b30f-4007-b1ac-ec634aff6879\"  \n",
    "ucCatalogTemplateGUID=\"5ee006aa-a6d6-411b-9b8d-5f720c079cae\" \n",
    "ucSchemaTemplateGUID=\"5bf92b0f-3970-41ea-b0a3-aacfbf6fd92e\"  \n",
    "ucVolumeTemplateGUID=\"92d2d2dc-0798-41f0-9512-b10548d312b7\"  \n",
    "ucTableTemplateGUID=\"6cc1e5f5-4c1e-4290-a80e-e06643ffb13d\"   \n",
    "ucFunctionTemplateGUID=\"a490ba65-6104-4213-9be9-524e16fed8aa\"\n",
    "\n",
    "austinHostURL=\"http://egeria.pdr-associates.com\"\n",
    "austinHostPort=8070\n"
   ]
  },
  {
   "cell_type": "code",
   "execution_count": 2,
   "id": "5ff3a41c-1bfc-406c-9c6a-d4e6d9e299c8",
   "metadata": {},
   "outputs": [
    {
     "data": {
      "text/plain": [
       "'a490ba65-6104-4213-9be9-524e16fed8aa'"
      ]
     },
     "execution_count": 2,
     "metadata": {},
     "output_type": "execute_result"
    }
   ],
   "source": [
    "TEMPLATE_GUIDS['Unity Catalog Function']"
   ]
  },
  {
   "cell_type": "markdown",
   "id": "5d3ce06d-0a7d-4fe1-bb5f-4aa56623a884",
   "metadata": {},
   "source": [
    "\n",
    "\n",
    "![Egeria Logo](https://raw.githubusercontent.com/odpi/egeria/main/assets/img/ODPi_Egeria_Logo_color.png)\n",
    "\n",
    "### Egeria and Unity Catalog demo\n",
    "\n",
    "# Cataloguing Unity Catalog (UC)\n",
    "\n",
    "## Introduction\n",
    "\n",
    "Both Unity Catalog and Egeria are open source projects with the LF AI and Data.  The difference between these technologies is:\n",
    "\n",
    " * Unity Catalog is responsible for governing access to data; whereas Egeria governs the exchange of metadata between tools and systems, such as Unity Catalog.\n",
    "\n",
    " * Similarly, Unity Catalog maintains a metadata repository describing the data it is protecting.  In contrast, Egeria maintains a distributed network of metadata repositories containing metadata about the technology (systems, tools, data), the processes that are operating on them, along with the people and organizations involved.\n",
    "\n",
    "This demo shows the new Egeria connectors that synchronize metadata between Unity Catalog (UC) and the open metadata ecosystem.  The setup is shown below:\n",
    "\n",
    "![systems](unity-catalog-demo-systems.png)\n",
    "\n",
    "Starting on the left hand side, you can see JupyterLab (that is running this notebook) with Unity Catalog above it.\n",
    "Egeria's REST APIs are being called by the notebooks and commands running in JupyterLab. Egeria is, in turn, calling Unity Catalog via its REST API.  Egeria also produces events when metadata changes.  \n",
    "\n",
    "Egeria's runtime is called the [OMAG Server Platform](https://egeria-project.org/concepts/omag-server-platform/).   It hosts OMAG Servers that are configured to perform certain tasks:\n",
    "\n",
    "* Active Metadata Store manages the metadata repository (XTDB)\n",
    "* View Server provides REST APIs for the python environment\n",
    "* Integration Daemon synchronizes metadata with Unity Catalog\n",
    "* Engine Host runs governance functions.\n",
    "\n",
    "## Tell Egeria where Unity Catalog is\n",
    "\n",
    "Egeria's metadata repository holds both the metadata it is synchronizing between systems as well as the configuration ued to control its behaviour.  Therefore the first step to connect Unity Catalog and Egeria ia to create a metadata element in Egeria that describes the Unity Catalog Server.  \n",
    "\n",
    "The code below used a template to add details of the Unity Catalog Server to Egeria.  The template creates an [Asset](https://egeria-project.org/concepts/asset/) entity to represent the server linked to a [Connection](https://egeria-project.org/concepts/connection/) that is used by connectors in Egeria to call Unity Catalog.\n",
    "\n",
    "---"
   ]
  },
  {
   "cell_type": "code",
<<<<<<< HEAD
   "execution_count": 3,
=======
   "execution_count": 10,
>>>>>>> 15ca3dc516fcbc80094af4fe8554d76630330848
   "id": "88a3e1fc-683c-4ec7-95bd-331f8e841c6b",
   "metadata": {},
   "outputs": [],
   "source": [
    "egeria_client = AutomatedCuration(view_server, url, user_id, user_pwd)\n",
    "token = egeria_client.create_egeria_bearer_token()"
   ]
  },
  {
   "cell_type": "code",
<<<<<<< HEAD
   "execution_count": 4,
=======
   "execution_count": 11,
>>>>>>> 15ca3dc516fcbc80094af4fe8554d76630330848
   "id": "946b87f0-596c-463b-b180-ebb3c2bcab75",
   "metadata": {
    "editable": true,
    "slideshow": {
     "slide_type": ""
    },
    "tags": []
   },
   "outputs": [
    {
     "name": "stdout",
     "output_type": "stream",
     "text": [
<<<<<<< HEAD
      "GUID of UC server 1 is: c8fdd1a9-ce9e-487f-9bee-46a0b3fec080\n"
=======
      "GUID of UC server 1 is: fedd6dfa-0cf5-4975-a61b-74b354830593\n"
>>>>>>> 15ca3dc516fcbc80094af4fe8554d76630330848
     ]
    }
   ],
   "source": [
    "\n",
    "body = {\n",
    "    \"templateGUID\": ucServerTemplateGUID,\n",
    "    \"isOwnAnchor\": True,\n",
    "    \"placeholderPropertyValues\": {\n",
    "        \"hostURL\" : \"http://host.docker.internal\",\n",
    "        \"portNumber\" : \"8080\",\n",
    "        \"serverName\" : \"Unity Catalog 1\",\n",
    "        \"versionIdentifier\" : \"V1.0\",\n",
    "        \"description\" : \"First instance of the Unity Catalog (UC) Server.\",\n",
    "        \"serverUserId\" : \"uc1\"\n",
    "    }\n",
    "}\n",
    "            \n",
    "server1GUID = egeria_client.create_element_from_template(body)\n",
    "print(\"GUID of UC server 1 is: \" + server1GUID)\n"
   ]
  },
  {
   "cell_type": "markdown",
   "id": "fb2e2260-0502-49e5-8284-a5ac7e340d1c",
   "metadata": {
    "editable": true,
    "slideshow": {
     "slide_type": ""
    },
    "tags": []
   },
   "source": [
    "---\n",
    "\n",
    "Once the server is defined, we can run a survey to discover what is stored in Unity catalog.  \n",
    "A [survey action service](https://egeria-project.org/concepts/survey-action-service/) is a connector that performs analysis on a particular type of technology.  \n",
    "This survey creates an inventory of the catalogs, schemas, volumes, tables and functions found in a unity catalog server.\n",
    "\n",
    "The survey report is stored in the metadata repository.  A CSV file with the summary information is also created and stored in `/distributioon-\n"
   ]
  },
  {
   "cell_type": "code",
   "execution_count": 5,
   "id": "70183092-aa58-44cf-8e65-84bb593f9582",
   "metadata": {},
   "outputs": [
    {
     "data": {
      "text/plain": [
       "'9cb4cc9e-abf8-454d-bb2d-02e2fcf4a228'"
      ]
     },
     "execution_count": 5,
     "metadata": {},
     "output_type": "execute_result"
    }
   ],
   "source": [
    "ucServerSurveyName=\"AssetSurvey:survey-unity-catalog-server\"\n",
    "\n",
    "action_targets = [{\n",
    "    \"class\": \"NewActionTarget\", \n",
    "    \"actionTargetName\": \"uc1\", \n",
    "    \"actionTargetGUID\": server1GUID\n",
    "}]\n",
    "\n",
    "egeria_client.initiate_gov_action_type(ucServerSurveyName, None, action_targets, None, None, None)\n"
   ]
  },
  {
   "cell_type": "markdown",
   "id": "67d60ecb-b22e-4cdf-a4a0-787e035befa6",
   "metadata": {},
   "source": [
    "---\n",
    "\n",
    "If we decide to go ahead and catalog the contents of Unity Catalog into Egeria, we connect the server entity to the entity that represents the integration connector.\n",
    "\n",
    "---"
   ]
  },
  {
   "cell_type": "code",
<<<<<<< HEAD
   "execution_count": 6,
=======
   "execution_count": 12,
>>>>>>> 15ca3dc516fcbc80094af4fe8554d76630330848
   "id": "1c9ddeb8-e693-4c85-a637-b6081feae3df",
   "metadata": {
    "editable": true,
    "slideshow": {
     "slide_type": ""
    },
    "tags": []
   },
   "outputs": [
    {
     "data": {
      "text/plain": [
<<<<<<< HEAD
       "'bf9d6879-d2d0-4fad-a88a-87eca97d62fb'"
      ]
     },
     "execution_count": 6,
=======
       "'2e09b76d-124f-4e2a-b633-7936a68eeb36'"
      ]
     },
     "execution_count": 12,
>>>>>>> 15ca3dc516fcbc80094af4fe8554d76630330848
     "metadata": {},
     "output_type": "execute_result"
    }
   ],
   "source": [
    "\n",
    "unityCatalogServerSynchronizerGUID=\"06d068d9-9e08-4e67-8c59-073bbf1013af\"\n",
    "unityCatalogInsideCatalogSynchronizerGUID=\"74dde22f-2249-4ea3-af2b-b39e73f79b81\"\n",
    "\n",
    "template_properties =  {\n",
    "    \"Unity Catalog Catalog\"  : ucCatalogTemplateGUID,\n",
    "    \"Unity Catalog Schema\"   : ucSchemaTemplateGUID,\n",
    "    \"Unity Catalog Volume\"   : ucVolumeTemplateGUID,\n",
    "    \"Unity Catalog Table\"    : ucTableTemplateGUID,\n",
    "    \"Unity Catalog Function\" : ucFunctionTemplateGUID\n",
    "  }\n",
    "\n",
    "config_properties = {\n",
    "    \"OSSUnityCatalogFriendshipGUID\" : unityCatalogInsideCatalogSynchronizerGUID\n",
    "  }\n",
    "\n",
    "egeria_client.add_catalog_target(unityCatalogServerSynchronizerGUID, \n",
    "                                 server1GUID, \n",
    "                                 \"localUC\",\n",
    "                                 None,\n",
    "                                 None,\n",
    "                                 config_properties,\n",
    "                                 template_properties)\n",
    "                      \n"
   ]
  },
  {
   "cell_type": "markdown",
   "id": "442d3509-4837-47a9-ac2c-570d9fae1f26",
   "metadata": {},
   "source": [
    "---\n",
    "\n",
    "The code below adds details of the Unity Catalog in Austin Tx to Egeria and links it as a catalog target to \n",
    "\n",
    "---"
   ]
  },
  {
   "cell_type": "code",
   "execution_count": 7,
   "id": "d32be59a-f22e-4938-bfda-00025ac20c49",
   "metadata": {
    "editable": true,
    "slideshow": {
     "slide_type": ""
    },
    "tags": []
   },
   "outputs": [
    {
     "name": "stdout",
     "output_type": "stream",
     "text": [
      "GUID of UC server 2 is: c0551def-509a-4f36-9710-a0521e4663ad\n"
     ]
    },
    {
     "data": {
      "text/plain": [
       "'55f99131-0403-412b-b639-2903b355e7d5'"
      ]
     },
     "execution_count": 7,
     "metadata": {},
     "output_type": "execute_result"
    }
   ],
   "source": [
    "body2 = {\n",
    "    \"templateGUID\": ucServerTemplateGUID,\n",
    "    \"isOwnAnchor\": True,\n",
    "    \"placeholderPropertyValues\": {\n",
    "        \"hostURL\" : austinHostURL,\n",
    "        \"portNumber\" : austinHostPort,\n",
    "        \"serverName\" : \"Unity Catalog 2\",\n",
    "        \"versionIdentifier\" : \"V1.0\",\n",
    "        \"description\" : \"Second instance of the Unity Catalog (UC) Server.\",\n",
    "        \"serverUserId\" : \"uc2\"\n",
    "    }\n",
    "}\n",
    "            \n",
    "server2GUID = egeria_client.create_element_from_template(body2)\n",
    "print(\"GUID of UC server 2 is: \" + server2GUID)\n",
    "\n",
    "egeria_client.add_catalog_target(unityCatalogServerSynchronizerGUID, \n",
    "                                 server2GUID, \n",
    "                                 \"austinUC\",\n",
    "                                 None,\n",
    "                                 None,\n",
    "                                 config_properties,\n",
    "                                 template_properties)\n"
   ]
  },
  {
   "cell_type": "markdown",
   "id": "6da70bdc-4957-448e-96fd-6b10071eae7a",
   "metadata": {},
   "source": [
    "---\n",
    "\n",
    "So there is a lot more you can do... but here are some take aways ...\n",
    "\n",
    "* The Server Survey allows you to generate a high level summary of the contents of a UC server.   This is a useful to figure out what is worth cataloguing.   A regular scheduled run of this survey can show how the contents are changing over time.\n",
    "\n",
    "* Cataloguing UC allows you to run searches over the content and also, I haven’t shown you this but you can perform more detailed surveys on individual resources in UC, and receive notifications from Egeria each time something changes in UC.\n",
    "\n",
    "* Notice how dynamically configurable Egeria is.  This means its actions can be coded in your pipelines or scripts.  Plus you can see the results and act on them too.\n",
    "\n",
    "* Egeria is extremely scalable.  It runs on a Raspberry Pi, so it can manage sensor data at the edge.  We have shown it here in a small team setting, plus it scales to a multi-tenant cloud environment - and all of these deployments can be linked together to share metadata.  It also can be its own deployment or embedded in other projects/products.\n",
    "\n",
    "* Other processes running in Egeria can augment the metadata from UC, enhancing the level of governance that can be offered.  We are going to show this in the next call.\n",
    "\n",
    "---"
   ]
  },
  {
   "cell_type": "code",
   "execution_count": null,
   "id": "310fd1a9-97cc-40d2-a20a-374333ca171b",
   "metadata": {},
   "outputs": [],
   "source": []
  }
 ],
 "metadata": {
  "kernelspec": {
   "display_name": "Python 3 (ipykernel)",
   "language": "python",
   "name": "python3"
  },
  "language_info": {
   "codemirror_mode": {
    "name": "ipython",
    "version": 3
   },
   "file_extension": ".py",
   "mimetype": "text/x-python",
   "name": "python",
   "nbconvert_exporter": "python",
   "pygments_lexer": "ipython3",
   "version": "3.11.9"
  }
 },
 "nbformat": 4,
 "nbformat_minor": 5
}

{
 "cells": [
  {
   "cell_type": "markdown",
   "id": "bd3eb782-8763-4edb-a24a-03e9b618c0af",
   "metadata": {},
   "source": [
    "# Egeria and Unity Catalog Demo\n",
    "----\n",
    "\n",
    "Both technologies are governance tools, but what is the difference?\n",
    "\n",
    "* Unity Catalog governs access to data\n",
    "* Egeria governs the exchange of metadata between tools and systems\n",
    "\n",
    "----\n",
    "What metadata do they keep?\n",
    "\n",
    "* Unity Catalog maintains a metadata repository describing the data it is protecting\n",
    "* Egeria maintains distributed network of metadata repositories containing metadata about:\n",
    "    * The technologies (systems, tool, data) it is working with,\n",
    "    * The processes that are operating on these technologies,\n",
    "    * The people and organizations involved\n"
   ]
  }
 ],
 "metadata": {
  "kernelspec": {
   "display_name": "Python 3 (ipykernel)",
   "language": "python",
   "name": "python3"
  },
  "language_info": {
   "codemirror_mode": {
    "name": "ipython",
    "version": 3
   },
   "file_extension": ".py",
   "mimetype": "text/x-python",
   "name": "python",
   "nbconvert_exporter": "python",
   "pygments_lexer": "ipython3",
   "version": "3.11.9"
  }
 },
 "nbformat": 4,
 "nbformat_minor": 5
}

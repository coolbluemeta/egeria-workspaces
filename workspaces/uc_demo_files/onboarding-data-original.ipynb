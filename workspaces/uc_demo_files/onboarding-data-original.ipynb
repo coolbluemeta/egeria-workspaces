{
 "cells": [
  {
   "cell_type": "code",
   "execution_count": 1,
   "id": "cf4ae0ed-32cb-420f-9499-f0139e1fd19f",
   "metadata": {},
   "outputs": [],
   "source": [
    "import os\n",
    "view_server = os.environ.get(\"VIEW_SERVER\",\"view-server\")\n",
    "url = os.environ.get(\"EGERIA_VIEW_SERVER_URL\",\"https://host.docker.internal:9443\")\n",
    "user_id = os.environ.get(\"EGERIA_USER\", \"peterprofile\")\n",
    "user_pwd = os.environ.get(\"EGERIA_USER_PASSWORD\")\n",
    "\n",
    "from pyegeria import AutomatedCuration, ServerOps\n",
    "import asyncio\n",
    "import nest_asyncio\n",
    "nest_asyncio.apply()\n",
    "\n",
    "ucServerTemplateGUID=\"dcca9788-b30f-4007-b1ac-ec634aff6879\"  \n",
    "ucCatalogTemplateGUID=\"5ee006aa-a6d6-411b-9b8d-5f720c079cae\" \n",
    "ucSchemaTemplateGUID=\"5bf92b0f-3970-41ea-b0a3-aacfbf6fd92e\"  \n",
    "ucVolumeTemplateGUID=\"92d2d2dc-0798-41f0-9512-b10548d312b7\"  \n",
    "ucTableTemplateGUID=\"6cc1e5f5-4c1e-4290-a80e-e06643ffb13d\"   \n",
    "ucFunctionTemplateGUID=\"a490ba65-6104-4213-9be9-524e16fed8aa\"\n",
    "\n",
    "s_client = ServerOps(\"integration-daemon\",url,'erinoverview')\n"
   ]
  },
  {
   "cell_type": "markdown",
   "id": "4b057ef1-e7b0-436f-b2f6-67fa999a11fa",
   "metadata": {},
   "source": [
    "![Egeria Logo](https://raw.githubusercontent.com/odpi/egeria/main/assets/img/ODPi_Egeria_Logo_color.png)\n",
    "\n",
    "### Egeria and Unity Catalog demo\n",
    "\n",
    "# Onboarding data safely into Unity Catalog (UC)\n",
    "\n",
    "## Introduction\n",
    "\n",
    "Whether Callie can process the data and for what type of processing requires more than access control.  She has access to the data (provided by UC) because she is on the project.  There are additional legal obligations - such as who it can be shared with, when it must be deleted, the type of data protection mechanisms that must be in place.  These are partly her responsibility, and partly the responsibility of others - and this coordination across different professionals/departments/tools  is difficult in a busy organization.\n",
    "\n",
    "## Clinical Trials\n",
    "\n",
    "Clinical trials are used to test that new treatments are both safe and effective.  They involve taking measurements from various patients both before and after they start the treatment.  Callie has to analysis these measurements as part of the package to submit to the regulators.\n",
    "\n",
    "The data comes in from a variety of hospitals.  It is personally sensitive to the patients, of importance to the business and subject to regulatory control and so care is needed that:\n",
    "\n",
    "* it has been collected correctly\n",
    "* it is protected at all times\n",
    "* the correct data sharing agreements are in place to provide legal cover, both for the hospitals and Coco Pharmaceuticals.\n",
    "\n",
    "In this example, there are three hospitals supplying data:\n",
    "\n",
    "![Onboarding Process](unity-catalog-onboarding-process.png)\n",
    "\n",
    "## Setting up the clinical trail\n",
    "\n",
    "The first step is to create the processes that will be used by the staff during the clinical trial.  \n",
    "It uses generic process steps and creates processes for the clinical trial that are initialized with all of the correct values.  \n",
    "This reduces the chance that someone will use the wrong value by accident.\n",
    "\n",
    "---"
   ]
  },
  {
   "cell_type": "code",
   "execution_count": 1,
   "id": "975fe702-f1cd-478b-abe8-f51c8ca1ba86",
   "metadata": {},
   "outputs": [
    {
     "ename": "NameError",
     "evalue": "name 'ucVolumeTemplateGUID' is not defined",
     "output_type": "error",
     "traceback": [
      "\u001b[0;31m---------------------------------------------------------------------------\u001b[0m",
      "\u001b[0;31mNameError\u001b[0m                                 Traceback (most recent call last)",
      "Cell \u001b[0;32mIn[1], line 26\u001b[0m\n\u001b[1;32m      7\u001b[0m dataLakeDirectoryPathName\u001b[38;5;241m=\u001b[39m\u001b[38;5;124m\"\u001b[39m\u001b[38;5;124m/deployments/data/coco-data-lake/research/clinical-trials/drop-foot/weekly-measurements\u001b[39m\u001b[38;5;124m\"\u001b[39m\n\u001b[1;32m      9\u001b[0m action_targets \u001b[38;5;241m=\u001b[39m [{\n\u001b[1;32m     10\u001b[0m       \u001b[38;5;124m\"\u001b[39m\u001b[38;5;124mclass\u001b[39m\u001b[38;5;124m\"\u001b[39m : \u001b[38;5;124m\"\u001b[39m\u001b[38;5;124mNewActionTarget\u001b[39m\u001b[38;5;124m\"\u001b[39m,\n\u001b[1;32m     11\u001b[0m       \u001b[38;5;124m\"\u001b[39m\u001b[38;5;124mactionTargetName\u001b[39m\u001b[38;5;124m\"\u001b[39m: \u001b[38;5;124m\"\u001b[39m\u001b[38;5;124mclinicalTrialProject\u001b[39m\u001b[38;5;124m\"\u001b[39m,\n\u001b[0;32m   (...)\u001b[0m\n\u001b[1;32m     22\u001b[0m       \u001b[38;5;124m\"\u001b[39m\u001b[38;5;124mactionTargetGUID\u001b[39m\u001b[38;5;124m\"\u001b[39m: \u001b[38;5;124m\"\u001b[39m\u001b[38;5;124mfd26f07c-ae44-4bc5-b457-37b43112224f\u001b[39m\u001b[38;5;124m\"\u001b[39m\n\u001b[1;32m     23\u001b[0m     }]\n\u001b[1;32m     25\u001b[0m requestParameters \u001b[38;5;241m=\u001b[39m {\n\u001b[0;32m---> 26\u001b[0m     \u001b[38;5;124m\"\u001b[39m\u001b[38;5;124mdataLakeVolumeTemplateGUID\u001b[39m\u001b[38;5;124m\"\u001b[39m : \u001b[43mucVolumeTemplateGUID\u001b[49m,\n\u001b[1;32m     27\u001b[0m     \u001b[38;5;124m\"\u001b[39m\u001b[38;5;124mdestinationDirectory\u001b[39m\u001b[38;5;124m\"\u001b[39m : dataLakeDirectoryPathName\n\u001b[1;32m     28\u001b[0m }\n\u001b[1;32m     30\u001b[0m egeria_client\u001b[38;5;241m.\u001b[39minitiate_gov_action_type(setUpClinicalTrialName, \u001b[38;5;28;01mNone\u001b[39;00m, action_targets, \u001b[38;5;28;01mNone\u001b[39;00m, requestParameters, \u001b[38;5;28;01mNone\u001b[39;00m)\n",
      "\u001b[0;31mNameError\u001b[0m: name 'ucVolumeTemplateGUID' is not defined"
     ]
    }
   ],
   "source": [
    "setUpClinicalTrialName=\"ClinicalTrials@CocoPharmaceuticals:set-up-clinical-trial\"\n",
    "\n",
    "setUpDataLakeGATName=\"ClinicalTrials@CocoPharmaceuticals:set-up-data-lake\"\n",
    "certifyHospitalGATName = \"ClinicalTrials@CocoPharmaceuticals:certify-hospital\"\n",
    "onboardHospitalGATName = \"ClinicalTrials@CocoPharmaceuticals:onboard-hospital\"\n",
    "\n",
    "projectGUID=\"a2915132-9d9a-4449-846f-43a871b5a6a0\"\n",
    "\n",
    "\n",
    "action_targets = [{\n",
    "      \"class\" : \"NewActionTarget\",\n",
    "      \"actionTargetName\": \"clinicalTrialProject\",\n",
    "      \"actionTargetGUID\": projectGUID\n",
    "    },\n",
    "    {\n",
    "      \"class\" : \"NewActionTarget\",\n",
    "      \"actionTargetName\": \"landingAreaConnector\",\n",
    "      \"actionTargetGUID\": \"1b98cdac-dd0a-4621-93db-99ef5a1098bc\"\n",
    "    },\n",
    "    {\n",
    "      \"class\" : \"NewActionTarget\",\n",
    "      \"actionTargetName\": \"lastUpdateConnector\",\n",
    "      \"actionTargetGUID\": \"fd26f07c-ae44-4bc5-b457-37b43112224f\"\n",
    "    }]\n",
    "\n",
    "requestParameters = {\n",
    "    \"dataLakeFileTemplateGUID\" : \"b2ec7c9d-3462-488a-897d-8e873658dded\",\n",
    "    \"landingAreaDirectoryTemplateGUID\" : \"fbdd8efd-1b69-474c-bb6d-0a304b394146\",\n",
    "    \"landingAreaFileTemplateGUID\" : \"5e5ffc97-237d-46c6-95c3-49405035dedc\",\n",
    "}\n",
    "\n",
    "egeria_client.initiate_gov_action_type(setUpClinicalTrialName, None, action_targets, None, requestParameters, None)\n"
   ]
  },
  {
   "cell_type": "markdown",
   "id": "e85d8251-51b9-4cb7-8560-c1a58f76d417",
   "metadata": {},
   "source": [
    "---\n",
    "\n",
    "## Setting up the data lake resources in Unity Catalog (UC)\n",
    "\n",
    "The first step in the demo is to create the schema and volume in the data lake as the destination for the files from the hospital.\n",
    "\n",
    "----"
   ]
  },
  {
   "cell_type": "code",
   "execution_count": 3,
   "id": "667439d7-5e0f-48b4-bf1e-27e2450bf1cc",
   "metadata": {},
   "outputs": [],
   "source": [
    "egeria_client = AutomatedCuration(view_server, url, user_id, user_pwd)\n",
    "\n",
    "token = egeria_client.create_egeria_bearer_token()"
   ]
  },
  {
   "cell_type": "code",
   "execution_count": 4,
   "id": "fd0709ad-e859-4505-955b-1aebaf3ae3dc",
   "metadata": {},
   "outputs": [
    {
     "data": {
      "text/plain": [
       "'163a358e-edac-4078-bbcf-22c3e32e3293'"
      ]
     },
     "execution_count": 4,
     "metadata": {},
     "output_type": "execute_result"
    }
   ],
   "source": [
    "setUpDataLakeProcessName=\"ClinicalTrials:PROJ-CT-TBDF:set-up-data-lake\"\n",
    "\n",
    "dataLakeDirectoryPathName=\"/deployments/data/coco-data-lake/research/clinical-trials/drop-foot/weekly-measurements\"\n",
    "catalogGUID=xxx\n",
    "\n",
    "action_targets = [{\n",
    "      \"class\" : \"NewActionTarget\",\n",
    "      \"actionTargetName\": \"clinicalTrialProject\",\n",
    "      \"actionTargetGUID\": projectGUID\n",
    "    },\n",
    "    {\n",
    "      \"class\" : \"NewActionTarget\",\n",
    "      \"actionTargetName\": \"dataLakeCatalog\",\n",
    "      \"actionTargetGUID\": catalogGUID\n",
    "    },\n",
    "    {\n",
    "      \"class\" : \"NewActionTarget\",\n",
    "      \"actionTargetName\": \"lastUpdateConnector\",\n",
    "      \"actionTargetGUID\": \"fd26f07c-ae44-4bc5-b457-37b43112224f\"\n",
    "    }]\n",
    "\n",
    "requestParameters = {\n",
    "    \"dataLakeSchemaTemplateGUID\" : ucSchemaTemplateGUID,\n",
    "    \"dataLakeSchemaName\" : \"teddy_bear_drop_foot,\n",
    "    \"dataLakeVolumeTemplateGUID\" : ucVolumeTemplateGUID,\n",
    "    \"dataLakeVolumeDirectoryPathName\" : dataLakeDirectoryPathName\n",
    "}\n",
    "\n",
    "egeria_client.initiate_gov_action_type(setUpDataLakeName, None, action_targets, None, requestParameters, None)"
   ]
  },
  {
   "cell_type": "code",
   "execution_count": null,
   "id": "8704138b-0891-4124-8518-6762b1dca133",
   "metadata": {},
   "outputs": [],
   "source": [
    "s_client.refresh_integration_connectors(None)"
   ]
  },
  {
   "cell_type": "markdown",
   "id": "897ff967-2ba1-483c-89f3-bc7c39bc4f86",
   "metadata": {},
   "source": [
    "----\n",
    "\n",
    "This process creates a description of the volume required in Egeria.  When the Integration Connectors next refresh, the volume is pushed into Unity Catalog (UC).\n",
    "\n",
    "## Creating the onboarding pipelines\n",
    "\n",
    "Once the volume is in place, the next step is to create the pipelines for the three hospitals.\n",
    "\n",
    "----"
   ]
  },
  {
   "cell_type": "code",
   "execution_count": 5,
   "id": "f2f1ee7c-884f-4dcc-98a9-d9e30470d205",
   "metadata": {},
   "outputs": [],
   "source": [
    "\n",
    "onboardHospitalName = \"ClinicalTrials@CocoPharmaceuticals:onboard-hospital\"\n",
    "newFileProcessName=\"Coco:GovernanceActionProcess:ClinicalTrials:WeeklyMeasurements:Onboarding\"\n",
    "genericOnboardingProcessGUID=\"508d3878-8eae-47e5-8507-ee936f33b418\"\n",
    "\n",
    "oakDeneHospitalGUID=\"7905f803-7b7e-47c4-8b35-d0a0cfa47469\"\n",
    "oakDeneContactPerson=\"80bf48b0-5ef2-4294-950d-0c6fd568a1b2\"\n",
    "oldMarketHospitalGUID=\"fe8f4065-6664-4739-9438-3330909e6b98\"\n",
    "oldMarketContactPerson=\"fabc88d6-d28e-4e2d-9086-6affc8c45a7a\"\n",
    "hamptonHospitalGUID=\"c596f5c4-0aee-4fdc-969b-69fa26b72529\"\n",
    "hamptonContactPerson=\"e2bcf56b-f822-47d8-82fa-94cd2a5a772c\"\n",
    "\n",
    "landingAreaRootDirectoryName=\"landing-area\"\n",
    "oakDeneLandingAreaDirectoryName=\"landing-area/hospitals/oak-dene/clinical-trials/drop-foot\"\n",
    "oldMarketLandingAreaDirectoryName=\"landing-area/hospitals/old-market/clinical-trials/drop-foot\"\n",
    "hamptonLandingAreaDirectoryName=\"landing-area/hospitals/hampton/clinical-trials/drop-foot\"\n",
    "\n"
   ]
  },
  {
   "cell_type": "code",
   "execution_count": 6,
   "id": "3a69ccdc-627e-46ca-adb2-81ee82e89ef6",
   "metadata": {},
   "outputs": [
    {
     "data": {
      "text/plain": [
       "'ecf7abe2-272d-4625-b61d-5361ccf6a617'"
      ]
     },
     "execution_count": 6,
     "metadata": {},
     "output_type": "execute_result"
    }
   ],
   "source": [
    "actionTargets = [{\n",
    "      \"class\" : \"NewActionTarget\",\n",
    "      \"actionTargetName\": \"hospital\",\n",
    "      \"actionTargetGUID\": oakDeneHospitalGUID\n",
    "    },\n",
    "    {\n",
    "      \"class\" : \"NewActionTarget\",\n",
    "      \"actionTargetName\": \"hospitalContactPerson\",\n",
    "      \"actionTargetGUID\": oakDeneContactPerson\n",
    "    }]\n",
    "\n",
    "requestParameters = {\n",
    "       \"landingAreaDirectoryPathName\" : oakDeneLandingAreaDirectoryName,\n",
    "       \"destinationDirectory\" : dataLakeDirectoryPathName,\n",
    "       \"newFileProcessName\" : newFileProcessName\n",
    "    }\n",
    "\n",
    "egeria_client.initiate_gov_action_type(onboardHospitalName, None, actionTargets, None, requestParameters, None)"
   ]
  },
  {
   "cell_type": "code",
   "execution_count": 7,
   "id": "057d1bcb-a0e6-461d-b240-e450ac1fd947",
   "metadata": {},
   "outputs": [
    {
     "data": {
      "text/plain": [
       "'3f75cfd1-ad5a-41c6-aa96-2daca67b9eea'"
      ]
     },
     "execution_count": 7,
     "metadata": {},
     "output_type": "execute_result"
    }
   ],
   "source": [
    "actionTargets = [{\n",
    "      \"class\" : \"NewActionTarget\",\n",
    "      \"actionTargetName\": \"hospital\",\n",
    "      \"actionTargetGUID\": oldMarketHospitalGUID\n",
    "    },\n",
    "    {\n",
    "      \"class\" : \"NewActionTarget\",\n",
    "      \"actionTargetName\": \"hospitalContactPerson\",\n",
    "      \"actionTargetGUID\": oldMarketContactPerson\n",
    "    }]\n",
    "\n",
    "requestParameters = {\n",
    "       \"landingAreaDirectoryPathName\" : oldMarketLandingAreaDirectoryName,\n",
    "    }\n",
    "\n",
    "egeria_client.initiate_gov_action_type(onboardHospitalName, None, actionTargets, None, requestParameters, None)"
   ]
  },
  {
   "cell_type": "code",
   "execution_count": 8,
   "id": "ed5c3b40-b116-4a2a-99e1-100865567683",
   "metadata": {},
   "outputs": [
    {
     "data": {
      "text/plain": [
       "'f1d37353-2f39-4db5-a77c-badf290637e4'"
      ]
     },
     "execution_count": 8,
     "metadata": {},
     "output_type": "execute_result"
    }
   ],
   "source": [
    "actionTargets2 = [\n",
    "    {\n",
    "      \"class\" : \"NewActionTarget\",\n",
    "      \"actionTargetName\": \"clinicalTrialProject\",\n",
    "      \"actionTargetGUID\": projectGUID\n",
    "    },\n",
    "    {\n",
    "      \"class\" : \"NewActionTarget\",\n",
    "      \"actionTargetName\": \"hospital\",\n",
    "      \"actionTargetGUID\": hamptonHospitalGUID\n",
    "    },\n",
    "    {\n",
    "      \"class\" : \"NewActionTarget\",\n",
    "      \"actionTargetName\": \"landingAreaConnector\",\n",
    "      \"actionTargetGUID\": \"1b98cdac-dd0a-4621-93db-99ef5a1098bc\"\n",
    "    },\n",
    "    {\n",
    "      \"class\" : \"NewActionTarget\",\n",
    "      \"actionTargetName\": \"hospitalContactPerson\",\n",
    "      \"actionTargetGUID\": hamptonContactPerson\n",
    "    }]\n",
    "\n",
    "requestParameters2 = {\n",
    "       \"landingAreaDirectoryTemplateGUID\" : landingAreaFolderTemplateGUID,\n",
    "       \"landingAreaDirectoryPathName\" : hamptonLandingAreaDirectoryName,\n",
    "       \"landingAreaFileTemplateGUID\" : landingAreaTemplateGUID,\n",
    "       \"dataLakeFileTemplateGUID\" : dataLakeTemplateGUID,\n",
    "       \"destinationDirectory\" : dataLakeDirectoryPathName,\n",
    "       \"newFileProcessName\" : newFileProcessName\n",
    "    }\n",
    "\n",
    "egeria_client.initiate_gov_action_type(onboardHospitalName, None, actionTargets2, None, requestParameters2, None)"
   ]
  },
  {
   "cell_type": "code",
   "execution_count": null,
   "id": "abdc6fba-676c-4a11-9afa-2392d15c0182",
   "metadata": {},
   "outputs": [],
   "source": [
    "s_client.refresh_integration_connectors(None)"
   ]
  },
  {
   "cell_type": "code",
   "execution_count": null,
   "id": "ae88a2db-c79a-471c-a07b-a020bd0fc135",
   "metadata": {},
   "outputs": [],
   "source": []
  }
 ],
 "metadata": {
  "kernelspec": {
   "display_name": "Python 3 (ipykernel)",
   "language": "python",
   "name": "python3"
  },
  "language_info": {
   "codemirror_mode": {
    "name": "ipython",
    "version": 3
   },
   "file_extension": ".py",
   "mimetype": "text/x-python",
   "name": "python",
   "nbconvert_exporter": "python",
   "pygments_lexer": "ipython3",
   "version": "3.11.9"
  }
 },
 "nbformat": 4,
 "nbformat_minor": 5
}

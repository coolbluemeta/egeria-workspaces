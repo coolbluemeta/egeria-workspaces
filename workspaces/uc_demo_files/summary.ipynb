{
 "cells": [
  {
   "cell_type": "markdown",
   "id": "6da70bdc-4957-448e-96fd-6b10071eae7a",
   "metadata": {},
   "source": [
    "---\n",
    "\n",
    "So there is a lot more you can do... but here are some take aways ...\n",
    "\n",
    "* The Server Survey allows you to generate a high level summary of the contents of a UC server.   This is a useful to figure out what is worth cataloguing.   A regular scheduled run of this survey can show how the contents are changing over time.\n",
    "\n",
    "* Cataloguing UC allows you to run searches over the content and also, I haven’t shown you this but you can perform more detailed surveys on individual resources in UC, and receive notifications from Egeria each time something changes in UC.\n",
    "\n",
    "* Notice how dynamically configurable Egeria is.  This means its actions can be coded in your pipelines or scripts.  Plus you can see the results and act on them too.\n",
    "\n",
    "* Egeria is extremely scalable.  It runs on a Raspberry Pi, so it can manage sensor data at the edge.  We have shown it here in a small team setting, plus it scales to a multi-tenant cloud environment - and all of these deployments can be linked together to share metadata.  It also can be its own deployment or embedded in other projects/products.\n",
    "\n",
    "* Other processes running in Egeria can augment the metadata from UC, enhancing the level of governance that can be offered.  We are going to show this in the next call.\n",
    "\n",
    "---"
   ]
  },
  {
   "cell_type": "code",
   "execution_count": null,
   "id": "d2f9ba22-8139-4d45-a41c-5eba6b198885",
   "metadata": {},
   "outputs": [],
   "source": []
  }
 ],
 "metadata": {
  "kernelspec": {
   "display_name": "Python 3 (ipykernel)",
   "language": "python",
   "name": "python3"
  },
  "language_info": {
   "codemirror_mode": {
    "name": "ipython",
    "version": 3
   },
   "file_extension": ".py",
   "mimetype": "text/x-python",
   "name": "python",
   "nbconvert_exporter": "python",
   "pygments_lexer": "ipython3",
   "version": "3.11.9"
  }
 },
 "nbformat": 4,
 "nbformat_minor": 5
}

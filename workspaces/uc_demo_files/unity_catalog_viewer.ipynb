{
 "cells": [
  {
   "cell_type": "code",
   "execution_count": 1,
   "id": "ffae858d-83f6-4156-acb6-2e80113253b4",
   "metadata": {},
   "outputs": [],
   "source": [
    "import asyncio\n",
    "import nest_asyncio\n",
    "nest_asyncio.apply()"
   ]
  },
  {
   "cell_type": "code",
   "execution_count": 2,
   "id": "fada8b63-d100-4c6b-aba8-3b6692b8e9ee",
   "metadata": {},
   "outputs": [
    {
     "name": "stdout",
     "output_type": "stream",
     "text": [
      "                                                                               UC OSS Catalog @ Fri Aug 16 12:37:28 2024                                                                                \n",
      "╭──────────────┬─────────────────┬─────────────┬────────────────┬──────────────────────────────────────────────────────────────────────────────┬───────────────────────────────────────────────────────╮\n",
      "│ Catalog Name │ Catalog Comment │ Schema Name │ Schema Comment │ Vol/Tab                                                                      │ Details                                               │\n",
      "├──────────────┼─────────────────┼─────────────┼────────────────┼──────────────────────────────────────────────────────────────────────────────┼───────────────────────────────────────────────────────┤\n",
      "│ unity        │ Main catalog    │ default     │ Default schema │ Functions                                                                    │                                                       │\n",
      "│              │                 │             │                │ * name: lowercase                                                            │                                                       │\n",
      "│              │                 │             │                │         * comment: Converts a string to lowercase.                           │                                                       │\n",
      "│              │                 │             │                │         * function_id: ebb706d6-7ba0-4b2e-8d9c-716d13fd57f8                  │                                                       │\n",
      "│              │                 │             │                │         * function_type: STRING                                              │                                                       │\n",
      "│              │                 │             │                │         * sql_access: NO_SQL                                                 │                                                       │\n",
      "│              │                 │             │                │                                                                              │                                                       │\n",
      "├──────────────┼─────────────────┼─────────────┼────────────────┼──────────────────────────────────────────────────────────────────────────────┼───────────────────────────────────────────────────────┤\n",
      "│ unity        │ Main catalog    │ default     │ Default schema │ Functions                                                                    │                                                       │\n",
      "│              │                 │             │                │ * name: lowercase                                                            │                                                       │\n",
      "│              │                 │             │                │         * comment: Converts a string to lowercase.                           │                                                       │\n",
      "│              │                 │             │                │         * function_id: ebb706d6-7ba0-4b2e-8d9c-716d13fd57f8                  │                                                       │\n",
      "│              │                 │             │                │         * function_type: STRING                                              │                                                       │\n",
      "│              │                 │             │                │         * sql_access: NO_SQL                                                 │                                                       │\n",
      "│              │                 │             │                │                                                                              │                                                       │\n",
      "│              │                 │             │                │ * name: sum                                                                  │                                                       │\n",
      "│              │                 │             │                │         * comment: Adds two numbers.                                         │                                                       │\n",
      "│              │                 │             │                │         * function_id: 7ad91857-fc34-4417-9694-1738642f874c                  │                                                       │\n",
      "│              │                 │             │                │         * function_type: INT                                                 │                                                       │\n",
      "│              │                 │             │                │         * sql_access: NO_SQL                                                 │                                                       │\n",
      "│              │                 │             │                │                                                                              │                                                       │\n",
      "├──────────────┼─────────────────┼─────────────┼────────────────┼──────────────────────────────────────────────────────────────────────────────┼───────────────────────────────────────────────────────┤\n",
      "│ unity        │ Main catalog    │ default     │ Default schema │ Volumes                                                                      │                                                       │\n",
      "│              │                 │             │                │                                                                              │                                                       │\n",
      "│              │                 │             │                │ * name: txt_files                                                            │                                                       │\n",
      "│              │                 │             │                │         * comment: None                                                      │                                                       │\n",
      "│              │                 │             │                │         * created_at: 1721259605627                                          │                                                       │\n",
      "│              │                 │             │                │         * updated_at: 1721259605627                                          │                                                       │\n",
      "│              │                 │             │                │         * volume_id: 74695d77-d48b-4f8e-9894-54a3e110b1ae                    │                                                       │\n",
      "│              │                 │             │                │         * volume_type: MANAGED                                               │                                                       │\n",
      "│              │                 │             │                │         * storage_location:                                                  │                                                       │\n",
      "│              │                 │             │                │ file:///home/dan/localGit/databricks/uc_build_8_15/etc/data/managed/unity/d… │                                                       │\n",
      "│              │                 │             │                │                                                                              │                                                       │\n",
      "│              │                 │             │                │ * name: json_files                                                           │                                                       │\n",
      "│              │                 │             │                │         * comment: None                                                      │                                                       │\n",
      "│              │                 │             │                │         * created_at: 1721259605627                                          │                                                       │\n",
      "│              │                 │             │                │         * updated_at: 1721259605627                                          │                                                       │\n",
      "│              │                 │             │                │         * volume_id: d3f18882-eb1f-4cbb-bbc4-0347091224e8                    │                                                       │\n",
      "│              │                 │             │                │         * volume_type: EXTERNAL                                              │                                                       │\n",
      "│              │                 │             │                │         * storage_location:                                                  │                                                       │\n",
      "│              │                 │             │                │ file:///home/dan/localGit/databricks/uc_build_8_15/etc/data/external/unity/… │                                                       │\n",
      "│              │                 │             │                │                                                                              │                                                       │\n",
      "├──────────────┼─────────────────┼─────────────┼────────────────┼──────────────────────────────────────────────────────────────────────────────┼───────────────────────────────────────────────────────┤\n",
      "│ unity        │ Main catalog    │ default     │ Default schema │ Tables                                                                       │ ┏━━━━━━━━━━━━┳━━━━━━━━┳━━━━━━━━━━┳━━━━━━━━━━━━━━━━━━┓ │\n",
      "│              │                 │             │                │                                                                              │ ┃ name       ┃ type   ┃ nullable ┃ comment          ┃ │\n",
      "│              │                 │             │                │ * name: user_countries                                                       │ ┡━━━━━━━━━━━━╇━━━━━━━━╇━━━━━━━━━━╇━━━━━━━━━━━━━━━━━━┩ │\n",
      "│              │                 │             │                │         * comment: Partitioned table                                         │ │ first_name │ string │ false    │ string column    │ │\n",
      "│              │                 │             │                │         * created_at: 1721259605622                                          │ │ age        │ bigint │ false    │ long column      │ │\n",
      "│              │                 │             │                │         * updated_at: 1721259605622                                          │ │ country    │ string │ false    │ partition column │ │\n",
      "│              │                 │             │                │         * table_id: 26ed93b5-9a18-4726-8ae8-c89dfcfea069                     │ └────────────┴────────┴──────────┴──────────────────┘ │\n",
      "│              │                 │             │                │         * table_type: EXTERNAL                                               │                                                       │\n",
      "│              │                 │             │                │         * src_format: DELTA                                                  │                                                       │\n",
      "│              │                 │             │                │                                                                              │                                                       │\n",
      "╰──────────────┴─────────────────┴─────────────┴────────────────┴──────────────────────────────────────────────────────────────────────────────┴───────────────────────────────────────────────────────╯\n",
      "                                                                            Running on http://egeria.pdr-associates.com:8070                                                                            \n"
     ]
    },
    {
     "data": {
      "text/html": [
       "<pre style=\"white-space:pre;overflow-x:auto;line-height:normal;font-family:Menlo,'DejaVu Sans Mono',consolas,'Courier New',monospace\"></pre>\n"
      ],
      "text/plain": []
     },
     "metadata": {},
     "output_type": "display_data"
    }
   ],
   "source": [
    "%run uc_oss_catalog_viewer --url http://egeria.pdr-associates.com:8070"
   ]
  },
  {
   "cell_type": "code",
   "execution_count": 3,
   "id": "9809d799-2d9c-434f-a6fe-027c5a939e1c",
   "metadata": {},
   "outputs": [
    {
     "name": "stdout",
     "output_type": "stream",
     "text": [
      "                                                                               UC OSS Catalog @ Fri Aug 16 12:37:57 2024                                                                                \n",
      "╭─────────────────┬────────────────────────────────┬─────────────┬──────────────────────┬───────────────────────────────────────────────────────┬──────────────────────────────────────────────────────╮\n",
      "│ Catalog Name    │ Catalog Comment                │ Schema Name │ Schema Comment       │ Vol/Tab                                               │ Details                                              │\n",
      "├─────────────────┼────────────────────────────────┼─────────────┼──────────────────────┼───────────────────────────────────────────────────────┼──────────────────────────────────────────────────────┤\n",
      "│ laz-Egeria-Test │ for testing Egeria integration │ wb-data     │ data from World Bank │ Volumes                                               │                                                      │\n",
      "│                 │                                │             │                      │                                                       │                                                      │\n",
      "│                 │                                │             │                      │ * name: simple-csv                                    │                                                      │\n",
      "│                 │                                │             │                      │         * comment: A test to see if this data is      │                                                      │\n",
      "│                 │                                │             │                      │ reachable                                             │                                                      │\n",
      "│                 │                                │             │                      │         * created_at: 1723122134866                   │                                                      │\n",
      "│                 │                                │             │                      │         * updated_at: 1723122134866                   │                                                      │\n",
      "│                 │                                │             │                      │         * volume_id:                                  │                                                      │\n",
      "│                 │                                │             │                      │ ce317514-c5ac-476b-94aa-fcc2ee009f15                  │                                                      │\n",
      "│                 │                                │             │                      │         * volume_type: EXTERNAL                       │                                                      │\n",
      "│                 │                                │             │                      │         * storage_location:                           │                                                      │\n",
      "│                 │                                │             │                      │ file:///Users/dwolfson/localGit/databricks/csv_data/  │                                                      │\n",
      "│                 │                                │             │                      │                                                       │                                                      │\n",
      "├─────────────────┼────────────────────────────────┼─────────────┼──────────────────────┼───────────────────────────────────────────────────────┼──────────────────────────────────────────────────────┤\n",
      "│ unity           │ Main catalog                   │ default     │ Default schema       │ Functions                                             │                                                      │\n",
      "│                 │                                │             │                      │ * name: lowercase                                     │                                                      │\n",
      "│                 │                                │             │                      │         * comment: Converts a string to lowercase.    │                                                      │\n",
      "│                 │                                │             │                      │         * function_id:                                │                                                      │\n",
      "│                 │                                │             │                      │ ebb706d6-7ba0-4b2e-8d9c-716d13fd57f8                  │                                                      │\n",
      "│                 │                                │             │                      │         * function_type: STRING                       │                                                      │\n",
      "│                 │                                │             │                      │         * sql_access: NO_SQL                          │                                                      │\n",
      "│                 │                                │             │                      │                                                       │                                                      │\n",
      "├─────────────────┼────────────────────────────────┼─────────────┼──────────────────────┼───────────────────────────────────────────────────────┼──────────────────────────────────────────────────────┤\n",
      "│ unity           │ Main catalog                   │ default     │ Default schema       │ Functions                                             │                                                      │\n",
      "│                 │                                │             │                      │ * name: lowercase                                     │                                                      │\n",
      "│                 │                                │             │                      │         * comment: Converts a string to lowercase.    │                                                      │\n",
      "│                 │                                │             │                      │         * function_id:                                │                                                      │\n",
      "│                 │                                │             │                      │ ebb706d6-7ba0-4b2e-8d9c-716d13fd57f8                  │                                                      │\n",
      "│                 │                                │             │                      │         * function_type: STRING                       │                                                      │\n",
      "│                 │                                │             │                      │         * sql_access: NO_SQL                          │                                                      │\n",
      "│                 │                                │             │                      │                                                       │                                                      │\n",
      "│                 │                                │             │                      │ * name: sum                                           │                                                      │\n",
      "│                 │                                │             │                      │         * comment: Adds two numbers.                  │                                                      │\n",
      "│                 │                                │             │                      │         * function_id:                                │                                                      │\n",
      "│                 │                                │             │                      │ 7ad91857-fc34-4417-9694-1738642f874c                  │                                                      │\n",
      "│                 │                                │             │                      │         * function_type: INT                          │                                                      │\n",
      "│                 │                                │             │                      │         * sql_access: NO_SQL                          │                                                      │\n",
      "│                 │                                │             │                      │                                                       │                                                      │\n",
      "├─────────────────┼────────────────────────────────┼─────────────┼──────────────────────┼───────────────────────────────────────────────────────┼──────────────────────────────────────────────────────┤\n",
      "│ unity           │ Main catalog                   │ default     │ Default schema       │ Volumes                                               │                                                      │\n",
      "│                 │                                │             │                      │                                                       │                                                      │\n",
      "│                 │                                │             │                      │ * name: txt_files                                     │                                                      │\n",
      "│                 │                                │             │                      │         * comment: None                               │                                                      │\n",
      "│                 │                                │             │                      │         * created_at: 1721259605627                   │                                                      │\n",
      "│                 │                                │             │                      │         * updated_at: 1721259605627                   │                                                      │\n",
      "│                 │                                │             │                      │         * volume_id:                                  │                                                      │\n",
      "│                 │                                │             │                      │ 74695d77-d48b-4f8e-9894-54a3e110b1ae                  │                                                      │\n",
      "│                 │                                │             │                      │         * volume_type: MANAGED                        │                                                      │\n",
      "│                 │                                │             │                      │         * storage_location:                           │                                                      │\n",
      "│                 │                                │             │                      │ file:///Users/dwolfson/localGit/databricks/unitycata… │                                                      │\n",
      "│                 │                                │             │                      │                                                       │                                                      │\n",
      "│                 │                                │             │                      │ * name: json_files                                    │                                                      │\n",
      "│                 │                                │             │                      │         * comment: None                               │                                                      │\n",
      "│                 │                                │             │                      │         * created_at: 1721259605627                   │                                                      │\n",
      "│                 │                                │             │                      │         * updated_at: 1721259605627                   │                                                      │\n",
      "│                 │                                │             │                      │         * volume_id:                                  │                                                      │\n",
      "│                 │                                │             │                      │ d3f18882-eb1f-4cbb-bbc4-0347091224e8                  │                                                      │\n",
      "│                 │                                │             │                      │         * volume_type: EXTERNAL                       │                                                      │\n",
      "│                 │                                │             │                      │         * storage_location:                           │                                                      │\n",
      "│                 │                                │             │                      │ file:///Users/dwolfson/localGit/databricks/unitycata… │                                                      │\n",
      "│                 │                                │             │                      │                                                       │                                                      │\n",
      "├─────────────────┼────────────────────────────────┼─────────────┼──────────────────────┼───────────────────────────────────────────────────────┼──────────────────────────────────────────────────────┤\n",
      "│ unity           │ Main catalog                   │ default     │ Default schema       │ Tables                                                │ ┏━━━━━━━━━━━━┳━━━━━━━━┳━━━━━━━━━━┳━━━━━━━━━━━━━━━━━┓ │\n",
      "│                 │                                │             │                      │                                                       │ ┃ name       ┃ type   ┃ nullable ┃ comment         ┃ │\n",
      "│                 │                                │             │                      │ * name: user_countries                                │ ┡━━━━━━━━━━━━╇━━━━━━━━╇━━━━━━━━━━╇━━━━━━━━━━━━━━━━━┩ │\n",
      "│                 │                                │             │                      │         * comment: Partitioned table                  │ │ first_name │ string │ false    │ string column   │ │\n",
      "│                 │                                │             │                      │         * created_at: 1721259605622                   │ │ age        │ bigint │ false    │ long column     │ │\n",
      "│                 │                                │             │                      │         * updated_at: 1721259605622                   │ │ country    │ string │ false    │ partition       │ │\n",
      "│                 │                                │             │                      │         * table_id:                                   │ │            │        │          │ column          │ │\n",
      "│                 │                                │             │                      │ 26ed93b5-9a18-4726-8ae8-c89dfcfea069                  │ └────────────┴────────┴──────────┴─────────────────┘ │\n",
      "│                 │                                │             │                      │         * table_type: EXTERNAL                        │                                                      │\n",
      "│                 │                                │             │                      │         * src_format: DELTA                           │                                                      │\n",
      "│                 │                                │             │                      │                                                       │                                                      │\n",
      "╰─────────────────┴────────────────────────────────┴─────────────┴──────────────────────┴───────────────────────────────────────────────────────┴──────────────────────────────────────────────────────╯\n",
      "                                                                              Running on http://host.docker.internal:8080                                                                               \n"
     ]
    },
    {
     "data": {
      "text/html": [
       "<pre style=\"white-space:pre;overflow-x:auto;line-height:normal;font-family:Menlo,'DejaVu Sans Mono',consolas,'Courier New',monospace\"></pre>\n"
      ],
      "text/plain": []
     },
     "metadata": {},
     "output_type": "display_data"
    }
   ],
   "source": [
    "%run uc_oss_catalog_viewer --url http://host.docker.internal:8080"
   ]
  },
  {
   "cell_type": "code",
   "execution_count": 15,
   "id": "2277f64b-7c86-445b-b434-3a339d56320a",
   "metadata": {},
   "outputs": [],
   "source": [
    "from pyegeria import AssetCatalog\n"
   ]
  },
  {
   "cell_type": "code",
   "execution_count": 19,
   "id": "9a8d79b3-c5a7-4b31-88a7-93b536cd0584",
   "metadata": {},
   "outputs": [],
   "source": [
    "a_client = AssetCatalog('view-server', 'https://host.docker.internal:9443','erinoverview','secret')\n",
    "token = a_client.create_egeria_bearer_token()\n",
    "\n",
    "asset_guid = 'd6b1a015-90b3-42fe-89df-beadac21b74a'\n",
    "\n",
    "asset_graph = a_client.get_asset_graph(asset_guid)\n"
   ]
  },
  {
   "cell_type": "code",
   "execution_count": 26,
   "id": "d8d9b4b1-d34c-474c-97e7-261f4d72b7b9",
   "metadata": {},
   "outputs": [
    {
     "name": "stdout",
     "output_type": "stream",
     "text": [
      "Name: Unity Catalog 1, Catalog: Unity Catalog Catalog:http://host.docker.internal:8080:unity\n",
      "\n",
      "Name: Unity Catalog 1, Catalog: Unity Catalog Catalog:http://host.docker.internal:8080:laz-Egeria-Test\n",
      "\n",
      "Name: Unity Catalog 1, Catalog: Unity Catalog Catalog:http://host.docker.internal:8080:unity\n",
      "\n",
      "Name: Unity Catalog 1, Catalog: Unity Catalog Catalog:http://host.docker.internal:8080:unity\n",
      "\n",
      "Name: Unity Catalog 1, Catalog: Unity Catalog Catalog:http://host.docker.internal:8080:unity\n",
      "\n",
      "Name: Unity Catalog 1, Catalog: Unity Catalog Catalog:http://host.docker.internal:8080:unity\n",
      "\n",
      "Name: Unity Catalog 1, Catalog: Unity Catalog Catalog:http://host.docker.internal:8080:laz-Egeria-Test\n",
      "\n",
      "Name: Unity Catalog 1, Catalog: Unity Catalog Catalog:http://host.docker.internal:8080:unity\n",
      "\n",
      "Name: Unity Catalog 1, Catalog: Unity Catalog Catalog:http://host.docker.internal:8080:unity\n",
      "\n",
      "Name: Unity Catalog 1, Catalog: Unity Catalog Catalog:http://host.docker.internal:8080:unity\n",
      "\n",
      "Name: Unity Catalog 1, Catalog: Unity Catalog Catalog:http://host.docker.internal:8080:unity\n",
      "\n"
     ]
    }
   ],
   "source": [
    "\n",
    "display_name = asset_graph['properties']['displayName']\n",
    "relationships = asset_graph['relationships']\n",
    "for rel in relationships:\n",
    "    type_name = rel['type']['typeName']\n",
    "    if type_name == 'ExternalIdScope':\n",
    "        catalog = rel[\"end1\"][\"uniqueName\"]\n",
    "        print(f\"Name: {display_name}, Catalog: {catalog}\\n\")\n",
    "            \n",
    "    "
   ]
  },
  {
   "cell_type": "code",
   "execution_count": null,
   "id": "6173789f-b1f6-48a3-8136-459314d0c514",
   "metadata": {},
   "outputs": [],
   "source": [
    "catalog_guid = '79454899-6550-48ab-b2ff-d988fb687110'\n"
   ]
  },
  {
   "cell_type": "code",
   "execution_count": null,
   "id": "3ed3c3a6-800f-446d-a0bf-f73112a3f63a",
   "metadata": {},
   "outputs": [],
   "source": []
  }
 ],
 "metadata": {
  "kernelspec": {
   "display_name": "Python 3 (ipykernel)",
   "language": "python",
   "name": "python3"
  },
  "language_info": {
   "codemirror_mode": {
    "name": "ipython",
    "version": 3
   },
   "file_extension": ".py",
   "mimetype": "text/x-python",
   "name": "python",
   "nbconvert_exporter": "python",
   "pygments_lexer": "ipython3",
   "version": "3.11.9"
  }
 },
 "nbformat": 4,
 "nbformat_minor": 5
}

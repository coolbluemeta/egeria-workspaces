{
 "cells": [
  {
   "cell_type": "code",
   "execution_count": 2,
   "id": "9968014f-4cd4-40fb-959a-13689f5ac01e",
   "metadata": {
    "ExecuteTime": {
     "end_time": "2024-07-24T20:04:20.991718Z",
     "start_time": "2024-07-24T20:04:20.986722Z"
    },
    "editable": true,
    "slideshow": {
     "slide_type": ""
    },
    "tags": []
   },
   "outputs": [],
   "source": [
    "import asyncio\n",
    "import nest_asyncio\n",
    "nest_asyncio.apply()"
   ]
  },
  {
   "cell_type": "code",
   "execution_count": null,
   "id": "a11585d4-48e0-43c8-aba9-0bbc1b1cbbc1",
   "metadata": {
    "ExecuteTime": {
     "end_time": "2024-07-21T16:24:27.661078Z",
     "start_time": "2024-07-21T16:24:27.463659Z"
    }
   },
   "outputs": [],
   "source": [
    "from pyegeria import Platform\n"
   ]
  },
  {
   "cell_type": "code",
   "execution_count": null,
   "id": "271affe2-3f66-46cf-b3ec-75fe4e3d2cfe",
   "metadata": {
    "ExecuteTime": {
     "end_time": "2024-07-21T16:24:51.937235Z",
     "start_time": "2024-07-21T16:24:51.897788Z"
    }
   },
   "outputs": [],
   "source": [
    "p_client = Platform('active-metadata-store', \"https://host.docker.internal:9443\",\"garygeeke\")\n",
    "p_client.get_platform_origin()                    "
   ]
  },
  {
   "cell_type": "code",
   "execution_count": null,
   "id": "802fe1f8-9bd5-4378-ae46-2a677a8466b7",
   "metadata": {
    "ExecuteTime": {
     "end_time": "2024-07-21T16:25:20.853789Z",
     "start_time": "2024-07-21T16:25:17.306976Z"
    },
    "editable": true,
    "slideshow": {
     "slide_type": ""
    },
    "tags": []
   },
   "outputs": [],
   "source": [
    "%run uc_oss_catalog_viewer.py\n"
   ]
  },
  {
   "cell_type": "code",
   "execution_count": null,
   "id": "4885e0e1-2a71-420b-b3d3-257e4eb321e3",
   "metadata": {},
   "outputs": [],
   "source": [
    "from IPython.display import display, HTML\n",
    "display(HTML(\"<style>.container (width:100% !important; }</style>\"))"
   ]
  },
  {
   "cell_type": "code",
   "execution_count": null,
   "id": "ed87525e-abe1-478c-8300-1688e421b489",
   "metadata": {},
   "outputs": [],
   "source": [
    "from pyegeria import INTEGRATION_GUIDS, TEMPLATE_GUIDS"
   ]
  },
  {
   "cell_type": "code",
   "execution_count": null,
   "id": "9df55037-b97c-4eef-8512-aea6a41d2553",
   "metadata": {},
   "outputs": [],
   "source": [
    "INTEGRATION_GUIDS\n"
   ]
  },
  {
   "cell_type": "code",
   "execution_count": 5,
   "id": "782271c5-62c2-41ec-995d-4aae3cb54d3f",
   "metadata": {
    "ExecuteTime": {
     "end_time": "2024-07-24T20:04:27.222641Z",
     "start_time": "2024-07-24T20:04:27.210335Z"
    }
   },
   "outputs": [],
   "source": [
    "#!/usr/bin/env python3\n",
    "\"\"\"\n",
    "SPDX-License-Identifier: Apache-2.0\n",
    "Copyright Contributors to the ODPi Egeria project.\n",
    "\n",
    "Unit tests for the Utils helper functions using the Pytest framework.\n",
    "\n",
    "\n",
    "A simple display for glossary terms\n",
    "\"\"\"\n",
    "import argparse\n",
    "import os\n",
    "import time\n",
    "\n",
    "from rich import box\n",
    "from rich.console import Console\n",
    "from rich.prompt import Prompt\n",
    "\n",
    "from rich.table import Table\n",
    "\n",
    "from pyegeria import (\n",
    "    InvalidParameterException,\n",
    "    PropertyServerException,\n",
    "    UserNotAuthorizedException,\n",
    "    print_exception_response,\n",
    "    AssetCatalog\n",
    ")\n",
    "EGERIA_METADATA_STORE = os.environ.get(\"EGERIA_METADATA_STORE\", \"active-metadata-store\")\n",
    "EGERIA_KAFKA_ENDPOINT = os.environ.get('KAFKA_ENDPOINT', 'localhost:9092')\n",
    "EGERIA_PLATFORM_URL = os.environ.get('EGERIA_PLATFORM_URL', 'https://localhost:9443')\n",
    "EGERIA_VIEW_SERVER = os.environ.get('VIEW_SERVER', 'view-server')\n",
    "EGERIA_VIEW_SERVER_URL = os.environ.get('EGERIA_VIEW_SERVER_URL', 'https://localhost:9443')\n",
    "EGERIA_INTEGRATION_DAEMON = os.environ.get('INTEGRATION_DAEMON', 'integration-daemon')\n",
    "EGERIA_ADMIN_USER = os.environ.get('ADMIN_USER', 'garygeeke')\n",
    "EGERIA_ADMIN_PASSWORD = os.environ.get('ADMIN_PASSWORD', 'secret')\n",
    "EGERIA_USER = os.environ.get('EGERIA_USER', 'erinoverview')\n",
    "EGERIA_USER_PASSWORD = os.environ.get('EGERIA_USER_PASSWORD', 'secret')\n",
    "\n",
    "disable_ssl_warnings = True\n",
    "\n",
    "def display_assets(search_string: str, server: str, url: str, username: str, user_password: str, time_out: int = 60):\n",
    "\n",
    "    g_client = AssetCatalog(server, url, username)\n",
    "    token = g_client.create_egeria_bearer_token(username, user_password)\n",
    "\n",
    "\n",
    "    def generate_table(search_string:str = 'Enter Your Tech Type') -> Table:\n",
    "        \"\"\"Make a new table.\"\"\"\n",
    "        table = Table(\n",
    "            title=f\"Assets containing the string  {search_string} @ {time.asctime()}\",\n",
    "            header_style=\"white on dark_blue\",\n",
    "            style=\"bold white on black\",\n",
    "            row_styles=[\"bold white on black\"],\n",
    "            title_style=\"bold white on black\",\n",
    "            caption_style=\"white on black\",\n",
    "            min_width = 500,\n",
    "            show_lines=True,\n",
    "            box=box.ROUNDED,\n",
    "            caption=f\"View Server '{server}' @ Platform - {url}\",\n",
    "            expand=True\n",
    "        )\n",
    "        table.add_column(\"Display Name\")\n",
    "        table.add_column(\"Type Name\")\n",
    "        table.add_column(\"GUID\", no_wrap=True)\n",
    "        table.add_column(\"Technology Type\")\n",
    "        # table.add_column(\"Qualified Name\",max_width=15)\n",
    "        table.add_column(\"Matching Elements\")\n",
    "\n",
    "\n",
    "        assets = g_client.find_assets_in_domain(search_string, starts_with=True,\n",
    "                                             ends_with=False, ignore_case=True, page_size=100, time_out=time_out)\n",
    "        if type(assets) is str:\n",
    "            return table\n",
    "\n",
    "        for element in assets:\n",
    "            display_name = element.get(\"resourceName\",'---')\n",
    "            # qualified_name = element[\"qualifiedName\"] # we decided that qualified name wasn't useful\n",
    "            type_name = element[\"type\"][\"typeName\"]\n",
    "            tech_type = element.get(\"deployedImplementationType\",'---')\n",
    "            guid = element[\"guid\"]\n",
    "            #### We decided that path wasn't useful\n",
    "            # path_name = element.get(\"extendedProperties\", None)\n",
    "            # if path_name:\n",
    "            #     path = path_name.get(\"pathName\",\" \")\n",
    "            # else:\n",
    "            #     path = \" \"\n",
    "            matches = element['matchingElements']\n",
    "            match_md = \"\"\n",
    "\n",
    "            match_tab = Table()\n",
    "            match_tab.add_column(\"Type Name\")\n",
    "            match_tab.add_column(\"GUID\", no_wrap=True)\n",
    "            match_tab.add_column(\"Properties\")\n",
    "\n",
    "            for match in matches:\n",
    "                match_type_name = match['type']['typeName']\n",
    "                matching_guid = match['guid']\n",
    "                match_props = match['properties']\n",
    "                match_details_md = \"\"\n",
    "                for key in match_props.keys():\n",
    "                    match_details_md += f\"{key}: {match_props[key]}\\n\"\n",
    "\n",
    "                match_tab.add_row(match_type_name, matching_guid, match_details_md)\n",
    "\n",
    "\n",
    "            table.add_row(\n",
    "                display_name, type_name,guid, tech_type, match_tab\n",
    "            )\n",
    "\n",
    "        g_client.close_session()\n",
    "        return table\n",
    "\n",
    "    try:\n",
    "        # with Live(generate_table(), refresh_per_second=4, screen=True) as live:\n",
    "        #     while True:\n",
    "        #         time.sleep(2)\n",
    "        #         live.update(generate_table())\n",
    "        console = Console()\n",
    "        with console.pager(styles=True):\n",
    "            console.print(generate_table(search_string))\n",
    "\n",
    "\n",
    "    except (InvalidParameterException, PropertyServerException, UserNotAuthorizedException) as e:\n",
    "        console.print_exception()\n",
    "\n",
    "\n",
    "\n"
   ]
  },
  {
   "cell_type": "code",
   "execution_count": 7,
   "id": "ec1e9c74-f685-456b-971a-6571ecd240c4",
   "metadata": {
    "ExecuteTime": {
     "end_time": "2024-07-24T20:04:46.124804Z",
     "start_time": "2024-07-24T20:04:44.554668Z"
    }
   },
   "outputs": [
    {
     "name": "stdout",
     "output_type": "stream",
     "text": [
      "\u001B[1;37;40m                     Assets containing the string  unity.default.t @ Wed Jul 24 20:04:44 2024                      \u001B[0m\n",
      "\u001B[1;37;40m╭───────────────┬───────────────────┬──────────────────────────────────────┬──────────────────┬───────────────────╮\u001B[0m\n",
      "\u001B[1;37;40m│\u001B[0m\u001B[37;48;5;18m \u001B[0m\u001B[37;48;5;18mDisplay Name \u001B[0m\u001B[37;48;5;18m \u001B[0m\u001B[1;37;40m│\u001B[0m\u001B[37;48;5;18m \u001B[0m\u001B[37;48;5;18mType Name        \u001B[0m\u001B[37;48;5;18m \u001B[0m\u001B[1;37;40m│\u001B[0m\u001B[37;48;5;18m \u001B[0m\u001B[37;48;5;18mGUID                                \u001B[0m\u001B[37;48;5;18m \u001B[0m\u001B[1;37;40m│\u001B[0m\u001B[37;48;5;18m \u001B[0m\u001B[37;48;5;18mTechnology Type \u001B[0m\u001B[37;48;5;18m \u001B[0m\u001B[1;37;40m│\u001B[0m\u001B[37;48;5;18m \u001B[0m\u001B[37;48;5;18mMatching Elements\u001B[0m\u001B[37;48;5;18m \u001B[0m\u001B[1;37;40m│\u001B[0m\n",
      "\u001B[1;37;40m├───────────────┼───────────────────┼──────────────────────────────────────┼──────────────────┼───────────────────┤\u001B[0m\n",
      "\u001B[1;37;40m│\u001B[0m\u001B[1;37;40m \u001B[0m\u001B[1;37;40munity.default\u001B[0m\u001B[1;37;40m \u001B[0m\u001B[1;37;40m│\u001B[0m\u001B[1;37;40m \u001B[0m\u001B[1;37;40mDeployedDatabase…\u001B[0m\u001B[1;37;40m \u001B[0m\u001B[1;37;40m│\u001B[0m\u001B[1;37;40m \u001B[0m\u001B[1;37;40m83c5f497-abb0-43b0-bd40-d01f468ca4fe\u001B[0m\u001B[1;37;40m \u001B[0m\u001B[1;37;40m│\u001B[0m\u001B[1;37;40m \u001B[0m\u001B[1;37;40mUnity Catalog   \u001B[0m\u001B[1;37;40m \u001B[0m\u001B[1;37;40m│\u001B[0m\u001B[1;37;40m \u001B[0m\u001B[1;37;40m┏┳━━━━━━━━━━━━━┳┓\u001B[0m\u001B[1;37;40m \u001B[0m\u001B[1;37;40m│\u001B[0m\n",
      "\u001B[1;37;40m│\u001B[0m\u001B[1;37;40m               \u001B[0m\u001B[1;37;40m│\u001B[0m\u001B[1;37;40m                   \u001B[0m\u001B[1;37;40m│\u001B[0m\u001B[1;37;40m                                      \u001B[0m\u001B[1;37;40m│\u001B[0m\u001B[1;37;40m \u001B[0m\u001B[1;37;40mSchema          \u001B[0m\u001B[1;37;40m \u001B[0m\u001B[1;37;40m│\u001B[0m\u001B[1;37;40m \u001B[0m\u001B[1;37;40m┃\u001B[0m\u001B[1;37;40m┃\u001B[0m\u001B[1;37;40m \u001B[0m\u001B[1;37;40mGUID       \u001B[0m\u001B[1;37;40m \u001B[0m\u001B[1;37;40m┃\u001B[0m\u001B[1;37;40m┃\u001B[0m\u001B[1;37;40m \u001B[0m\u001B[1;37;40m│\u001B[0m\n",
      "\u001B[1;37;40m│\u001B[0m\u001B[1;37;40m               \u001B[0m\u001B[1;37;40m│\u001B[0m\u001B[1;37;40m                   \u001B[0m\u001B[1;37;40m│\u001B[0m\u001B[1;37;40m                                      \u001B[0m\u001B[1;37;40m│\u001B[0m\u001B[1;37;40m                  \u001B[0m\u001B[1;37;40m│\u001B[0m\u001B[1;37;40m \u001B[0m\u001B[1;37;40m┡╇━━━━━━━━━━━━━╇┩\u001B[0m\u001B[1;37;40m \u001B[0m\u001B[1;37;40m│\u001B[0m\n",
      "\u001B[1;37;40m│\u001B[0m\u001B[1;37;40m               \u001B[0m\u001B[1;37;40m│\u001B[0m\u001B[1;37;40m                   \u001B[0m\u001B[1;37;40m│\u001B[0m\u001B[1;37;40m                                      \u001B[0m\u001B[1;37;40m│\u001B[0m\u001B[1;37;40m                  \u001B[0m\u001B[1;37;40m│\u001B[0m\u001B[1;37;40m \u001B[0m\u001B[1;37;40m│\u001B[0m\u001B[1;37;40m│\u001B[0m\u001B[1;37;40m \u001B[0m\u001B[1;37;40m62b7bf3d-b…\u001B[0m\u001B[1;37;40m \u001B[0m\u001B[1;37;40m│\u001B[0m\u001B[1;37;40m│\u001B[0m\u001B[1;37;40m \u001B[0m\u001B[1;37;40m│\u001B[0m\n",
      "\u001B[1;37;40m│\u001B[0m\u001B[1;37;40m               \u001B[0m\u001B[1;37;40m│\u001B[0m\u001B[1;37;40m                   \u001B[0m\u001B[1;37;40m│\u001B[0m\u001B[1;37;40m                                      \u001B[0m\u001B[1;37;40m│\u001B[0m\u001B[1;37;40m                  \u001B[0m\u001B[1;37;40m│\u001B[0m\u001B[1;37;40m \u001B[0m\u001B[1;37;40m└┴─────────────┴┘\u001B[0m\u001B[1;37;40m \u001B[0m\u001B[1;37;40m│\u001B[0m\n",
      "\u001B[1;37;40m├───────────────┼───────────────────┼──────────────────────────────────────┼──────────────────┼───────────────────┤\u001B[0m\n",
      "\u001B[1;37;40m│\u001B[0m\u001B[1;37;40m \u001B[0m\u001B[1;37;40munity.default\u001B[0m\u001B[1;37;40m \u001B[0m\u001B[1;37;40m│\u001B[0m\u001B[1;37;40m \u001B[0m\u001B[1;37;40mDeployedDatabase…\u001B[0m\u001B[1;37;40m \u001B[0m\u001B[1;37;40m│\u001B[0m\u001B[1;37;40m \u001B[0m\u001B[1;37;40ma0969e87-98cb-4704-b2a9-71ac3d6e01f7\u001B[0m\u001B[1;37;40m \u001B[0m\u001B[1;37;40m│\u001B[0m\u001B[1;37;40m \u001B[0m\u001B[1;37;40mUnity Catalog   \u001B[0m\u001B[1;37;40m \u001B[0m\u001B[1;37;40m│\u001B[0m\u001B[1;37;40m \u001B[0m\u001B[1;37;40m┏┳━━━━━━━━━━━━━┳┓\u001B[0m\u001B[1;37;40m \u001B[0m\u001B[1;37;40m│\u001B[0m\n",
      "\u001B[1;37;40m│\u001B[0m\u001B[1;37;40m               \u001B[0m\u001B[1;37;40m│\u001B[0m\u001B[1;37;40m                   \u001B[0m\u001B[1;37;40m│\u001B[0m\u001B[1;37;40m                                      \u001B[0m\u001B[1;37;40m│\u001B[0m\u001B[1;37;40m \u001B[0m\u001B[1;37;40mSchema          \u001B[0m\u001B[1;37;40m \u001B[0m\u001B[1;37;40m│\u001B[0m\u001B[1;37;40m \u001B[0m\u001B[1;37;40m┃\u001B[0m\u001B[1;37;40m┃\u001B[0m\u001B[1;37;40m \u001B[0m\u001B[1;37;40mGUID       \u001B[0m\u001B[1;37;40m \u001B[0m\u001B[1;37;40m┃\u001B[0m\u001B[1;37;40m┃\u001B[0m\u001B[1;37;40m \u001B[0m\u001B[1;37;40m│\u001B[0m\n",
      "\u001B[1;37;40m│\u001B[0m\u001B[1;37;40m               \u001B[0m\u001B[1;37;40m│\u001B[0m\u001B[1;37;40m                   \u001B[0m\u001B[1;37;40m│\u001B[0m\u001B[1;37;40m                                      \u001B[0m\u001B[1;37;40m│\u001B[0m\u001B[1;37;40m                  \u001B[0m\u001B[1;37;40m│\u001B[0m\u001B[1;37;40m \u001B[0m\u001B[1;37;40m┡╇━━━━━━━━━━━━━╇┩\u001B[0m\u001B[1;37;40m \u001B[0m\u001B[1;37;40m│\u001B[0m\n",
      "\u001B[1;37;40m│\u001B[0m\u001B[1;37;40m               \u001B[0m\u001B[1;37;40m│\u001B[0m\u001B[1;37;40m                   \u001B[0m\u001B[1;37;40m│\u001B[0m\u001B[1;37;40m                                      \u001B[0m\u001B[1;37;40m│\u001B[0m\u001B[1;37;40m                  \u001B[0m\u001B[1;37;40m│\u001B[0m\u001B[1;37;40m \u001B[0m\u001B[1;37;40m│\u001B[0m\u001B[1;37;40m│\u001B[0m\u001B[1;37;40m \u001B[0m\u001B[1;37;40m8979436f-f…\u001B[0m\u001B[1;37;40m \u001B[0m\u001B[1;37;40m│\u001B[0m\u001B[1;37;40m│\u001B[0m\u001B[1;37;40m \u001B[0m\u001B[1;37;40m│\u001B[0m\n",
      "\u001B[1;37;40m│\u001B[0m\u001B[1;37;40m               \u001B[0m\u001B[1;37;40m│\u001B[0m\u001B[1;37;40m                   \u001B[0m\u001B[1;37;40m│\u001B[0m\u001B[1;37;40m                                      \u001B[0m\u001B[1;37;40m│\u001B[0m\u001B[1;37;40m                  \u001B[0m\u001B[1;37;40m│\u001B[0m\u001B[1;37;40m \u001B[0m\u001B[1;37;40m└┴─────────────┴┘\u001B[0m\u001B[1;37;40m \u001B[0m\u001B[1;37;40m│\u001B[0m\n",
      "\u001B[1;37;40m╰───────────────┴───────────────────┴──────────────────────────────────────┴──────────────────┴───────────────────╯\u001B[0m\n",
      "\u001B[37;40m                     View Server 'view-server' @ Platform - https://host.docker.internal:9443                      \u001B[0m\n"
     ]
    },
    {
     "data": {
      "text/html": [
       "<pre style=\"white-space:pre;overflow-x:auto;line-height:normal;font-family:Menlo,'DejaVu Sans Mono',consolas,'Courier New',monospace\"></pre>\n"
      ],
      "text/plain": []
     },
     "metadata": {},
     "output_type": "display_data"
    }
   ],
   "source": [
    "display_assets('unity.default.t','view-server','https://host.docker.internal:9443','erinoverview','secret')"
   ]
  },
  {
   "cell_type": "code",
   "execution_count": null,
   "id": "c23c3a34-3432-4126-b1e1-eea814c35942",
   "metadata": {},
   "outputs": [],
   "source": [
    "g_client = AssetCatalog('view-server', 'https://host.docker.internal:9443', 'erinoverview', 'secret')\n",
    "token = g_client.create_egeria_bearer_token()\n",
    "g_client.find_assets_in_domain('Unity', starts_with=True,\n",
    "                                             ends_with=False, ignore_case=True, page_size=10)"
   ]
  },
  {
   "cell_type": "code",
   "execution_count": 3,
   "id": "ef9c790e-7648-4023-8112-03acfaccef17",
   "metadata": {
    "ExecuteTime": {
     "end_time": "2024-07-24T20:05:08.578069Z",
     "start_time": "2024-07-24T20:04:59.474093Z"
    }
   },
   "outputs": [
    {
     "data": {
      "text/html": [
       "<pre style=\"white-space:pre;overflow-x:auto;line-height:normal;font-family:Menlo,'DejaVu Sans Mono',consolas,'Courier New',monospace\">Enter an asset search string: <span style=\"color: #008080; text-decoration-color: #008080; font-weight: bold\">()</span>: </pre>\n"
      ],
      "text/plain": [
       "Enter an asset search string: \u001B[1;36m()\u001B[0m: "
      ]
     },
     "metadata": {},
     "output_type": "display_data"
    },
    {
     "name": "stdin",
     "output_type": "stream",
     "text": [
      " unity.default.t\n"
     ]
    },
    {
     "name": "stdout",
     "output_type": "stream",
     "text": [
      "                                                                                                                  Assets containing the string  unity.default.t @ Wed Jul 24 20:50:38 2024                                                                                                                  \n",
      "╭─────────────────┬──────────────────────────┬─────────────────────────────────────────┬────────────────────────┬──────────────────────────────────────────────────────────────────────────────────────────────────────────────────────────────────────────────────────────────────────────────────────────╮\n",
      "│ Display Name    │ Type Name                │ GUID                                    │ Technology Type        │ Matching Elements                                                                                                                                                                        │\n",
      "├─────────────────┼──────────────────────────┼─────────────────────────────────────────┼────────────────────────┼──────────────────────────────────────────────────────────────────────────────────────────────────────────────────────────────────────────────────────────────────────────────────────────┤\n",
      "│ unity.default   │ DeployedDatabaseSchema   │ 83c5f497-abb0-43b0-bd40-d01f468ca4fe    │ Unity Catalog Schema   │ ┏━━━━━━━━━━━━┳━━━━━━━━━━━━━━━━━━━━━━━━━━━━━━━━━━━━━━┳━━━━━━━━━━━━━━━━━━━━━━━━━━━━━━━━━━━━━━━━━━━━━━━━━━━━━━━━━━━━━━━━━━━━━━━━━━━━━━━━━━━━━━━━━━━━━━━━━━━━━━━━━━━━━━━━━━━━━┓              │\n",
      "│                 │                          │                                         │                        │ ┃ Type Name  ┃ GUID                                 ┃ Properties                                                                                                          ┃              │\n",
      "│                 │                          │                                         │                        │ ┡━━━━━━━━━━━━╇━━━━━━━━━━━━━━━━━━━━━━━━━━━━━━━━━━━━━━╇━━━━━━━━━━━━━━━━━━━━━━━━━━━━━━━━━━━━━━━━━━━━━━━━━━━━━━━━━━━━━━━━━━━━━━━━━━━━━━━━━━━━━━━━━━━━━━━━━━━━━━━━━━━━━━━━━━━━━┩              │\n",
      "│                 │                          │                                         │                        │ │ DataFolder │ 62b7bf3d-b548-4536-bf88-8390ac3bed6b │ pathName: file:///Users/dwolfson/localGit/databricks/unitycatalog/etc/data/managed/unity/default/volumes/txt_files/ │              │\n",
      "│                 │                          │                                         │                        │ │            │                                      │ name: unity.default.txt_files                                                                                       │              │\n",
      "│                 │                          │                                         │                        │ │            │                                      │ qualifiedName: Unity Catalog Volume:http://host.docker.internal:8080:unity.default.txt_files                        │              │\n",
      "│                 │                          │                                         │                        │ │            │                                      │ deployedImplementationType: Unity Catalog Volume                                                                    │              │\n",
      "│                 │                          │                                         │                        │ │            │                                      │                                                                                                                     │              │\n",
      "│                 │                          │                                         │                        │ └────────────┴──────────────────────────────────────┴─────────────────────────────────────────────────────────────────────────────────────────────────────────────────────┘              │\n",
      "├─────────────────┼──────────────────────────┼─────────────────────────────────────────┼────────────────────────┼──────────────────────────────────────────────────────────────────────────────────────────────────────────────────────────────────────────────────────────────────────────────────────────┤\n",
      "│ unity.default   │ DeployedDatabaseSchema   │ a0969e87-98cb-4704-b2a9-71ac3d6e01f7    │ Unity Catalog Schema   │ ┏━━━━━━━━━━━━┳━━━━━━━━━━━━━━━━━━━━━━━━━━━━━━━━━━━━━━┳━━━━━━━━━━━━━━━━━━━━━━━━━━━━━━━━━━━━━━━━━━━━━━━━━━━━━━━━━━━━━━━━━━━━━━━━━━━━━━━━━━━━━━━━━━━━━━━━━━━━━━━━━━━━━━━┓                    │\n",
      "│                 │                          │                                         │                        │ ┃ Type Name  ┃ GUID                                 ┃ Properties                                                                                                    ┃                    │\n",
      "│                 │                          │                                         │                        │ ┡━━━━━━━━━━━━╇━━━━━━━━━━━━━━━━━━━━━━━━━━━━━━━━━━━━━━╇━━━━━━━━━━━━━━━━━━━━━━━━━━━━━━━━━━━━━━━━━━━━━━━━━━━━━━━━━━━━━━━━━━━━━━━━━━━━━━━━━━━━━━━━━━━━━━━━━━━━━━━━━━━━━━━┩                    │\n",
      "│                 │                          │                                         │                        │ │ DataFolder │ 8979436f-f1e7-495b-90b6-3114f64e2a11 │ pathName: file:///home/dan/localGit/databricks/unitycatalog/etc/data/managed/unity/default/volumes/txt_files/ │                    │\n",
      "│                 │                          │                                         │                        │ │            │                                      │ name: unity.default.txt_files                                                                                 │                    │\n",
      "│                 │                          │                                         │                        │ │            │                                      │ qualifiedName: Unity Catalog Volume:http://wolfsonnet.me:8070:unity.default.txt_files                         │                    │\n",
      "│                 │                          │                                         │                        │ │            │                                      │ deployedImplementationType: Unity Catalog Volume                                                              │                    │\n",
      "│                 │                          │                                         │                        │ │            │                                      │                                                                                                               │                    │\n",
      "│                 │                          │                                         │                        │ └────────────┴──────────────────────────────────────┴───────────────────────────────────────────────────────────────────────────────────────────────────────────────┘                    │\n",
      "╰─────────────────┴──────────────────────────┴─────────────────────────────────────────┴────────────────────────┴──────────────────────────────────────────────────────────────────────────────────────────────────────────────────────────────────────────────────────────────────────────────────────────╯\n",
      "                                                                                                                  View Server 'view-server' @ Platform - https://host.docker.internal:9443                                                                                                                  \n"
     ]
    },
    {
     "data": {
      "text/html": [
       "<pre style=\"white-space:pre;overflow-x:auto;line-height:normal;font-family:Menlo,'DejaVu Sans Mono',consolas,'Courier New',monospace\"></pre>\n"
      ],
      "text/plain": []
     },
     "metadata": {},
     "output_type": "display_data"
    }
   ],
   "source": [
    "%run list_assets\n",
    "\n"
   ]
  },
  {
   "cell_type": "code",
   "execution_count": null,
   "id": "2847e63e-d6f1-456c-b1fb-c877b68deb8d",
   "metadata": {},
   "outputs": [],
   "source": []
  }
 ],
 "metadata": {
  "kernelspec": {
   "display_name": "Python 3 (ipykernel)",
   "language": "python",
   "name": "python3"
  },
  "language_info": {
   "codemirror_mode": {
    "name": "ipython",
    "version": 3
   },
   "file_extension": ".py",
   "mimetype": "text/x-python",
   "name": "python",
   "nbconvert_exporter": "python",
   "pygments_lexer": "ipython3",
   "version": "3.11.9"
  }
 },
 "nbformat": 4,
 "nbformat_minor": 5
}

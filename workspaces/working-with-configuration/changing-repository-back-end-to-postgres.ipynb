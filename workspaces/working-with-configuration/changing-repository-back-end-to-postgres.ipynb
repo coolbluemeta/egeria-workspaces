{
 "cells": [
  {
   "cell_type": "markdown",
   "id": "a2db4494-2398-47d6-95cc-c4590efe58f3",
   "metadata": {},
   "source": [
    "# Setting up XTDB to use Postgres with Egeria Workspaces\n",
    "## Pre-reqs \n",
    "* A running Egeria Workspaces environment. You can either use one of the sample docker compose scripts that starts up postgres along with egeria or you can use an external postgres.\n",
    "\n",
    "\n",
    "## Background\n",
    "\n",
    "Egeria supports several repository technologies including XTDB. XTDB itself can be configured to use different backend storage mechanisms including Key-Value (KV) stores, Kafka and databases such as Postgres. XTDB is typically configured to use multiple technologies for different purposes. XTDB capabilities can use different technologies for:\n",
    "\n",
    "* index - store \n",
    "* search\n",
    "* tx-log\n",
    "* document-store\n",
    "\n",
    "For development, our default configuration uses XTDB with the KV stores for the index-store, tx-log and document-store. However, sometimes it is useful to change the configuration to Postgres for the tx-log and document-store, in particular, for testing. Many other configurations are possible.\n",
    "\n",
    "This workbook describes how to switch the repository for the **qs-metadata-store** from the default to Postgres.\n",
    "\n",
    "## Approach\n",
    "\n",
    "To switch the repository of an Egeria **Metadata Access Store** server, we will need to update the server's configuration document with the new connection information and then restart it. This notebook provides a guide on how to do this. While this approach will work for most Egeria deployment environments, to be more specific we will focus on environments deploying Egeria Workspaces.\n",
    "\n",
    "The **Egeria Workspaces** github repository contains several different **Docker Compose** scripts that configure different combinations of technologies for use in development and experimentation of Egeria environments. We will use one of these configurations, called **egeria-platform-jupyter-proxy-pg-compose** which, as the name suggests, deploys an environment that includes Egeria, Jupyter Server, the Open Lineage Proxy Backend and Postgres. With a minor configuration change we will have Egeria use Postgres with XTDB for the **qs-metadata-store** server repository. \n",
    "\n",
    "## Steps\n",
    "1) Install docker with docker compose and start it (or a compatible alternate technology)\n",
    "2) Download a clone of egeria-workspaces and start the Egeria environment by:\n",
    "    - `git clone https://github.com/odpi/egeria-workspaces`\n",
    "    - in a terminal window, cd to the `egeria-workspaces\\compose-configs/egeria-platform-jupyter-proxy-pg-compose` directory\n",
    "    - enter the command `docker compose -f egeria-platform-jupyter-proxy-pg-compose up  --build`\n",
    "    This command should startup a number of docker containers - it may take a several minutes for everything to be ready.\n",
    "3) Run this **Jupyter Notebook** \n",
    "    - by opening jupyter in a browser - open the URL `https://localhost:8888`and type Egeria into the password box.\n",
    "    - This notebook is kept in the director `workbooks/optional configurations/XTDB`\n",
    "    - Continue to follow the guidance in this notebook by executing each cell."
   ]
  },
  {
   "cell_type": "markdown",
   "id": "1ca4c868-a559-419f-a93b-b585aca67c8d",
   "metadata": {},
   "source": [
    "## Import the required python libraries and set up the environment"
   ]
  },
  {
   "cell_type": "code",
   "execution_count": null,
   "id": "eb5eb8ff-5286-4c6b-9328-752ee380fb3b",
   "metadata": {},
   "outputs": [],
   "source": [
    "import os\n",
    "from pyegeria import EgeriaTech, CoreServerConfig"
   ]
  },
  {
   "cell_type": "code",
   "execution_count": null,
   "id": "6987ccff-647a-4fb0-a732-7a0179ec8599",
   "metadata": {},
   "outputs": [],
   "source": [
    "import asyncio\n",
    "import nest_asyncio\n",
    "nest_asyncio.apply()\n"
   ]
  },
  {
   "cell_type": "markdown",
   "id": "6fef0b26-3c4f-43ca-b474-92e63b55976e",
   "metadata": {},
   "source": [
    "## We will be updating the **metadata_store**"
   ]
  },
  {
   "cell_type": "code",
   "execution_count": null,
   "id": "23ba3d1f-a64d-4d43-b15d-8f723c6e8ad0",
   "metadata": {},
   "outputs": [],
   "source": [
    "view_server = os.environ.get(\"VIEW_SERVER\",\"view-server\")\n",
    "url = os.environ.get(\"EGERIA_VIEW_SERVER_URL\",\"https://host.docker.internal:9443\")\n",
    "user_id = os.environ.get(\"EGERIA_USER\", \"garygeeke\")\n",
    "user_pwd = os.environ.get(\"EGERIA_USER_PASSWORD\")\n",
    "metadata_store = os.environ.get(\"EGERIA_METADATA_STORE\")\n"
   ]
  },
  {
   "cell_type": "markdown",
   "id": "d5e04d02-b87e-4796-91f8-8ccd612e9b5b",
   "metadata": {},
   "source": [
    "## Set up the PostgreSQL configuration\n",
    "The configuration below works for the PostgreSQL server deployed in this docker configuraiton. You can see the PostgreSQL container. If you wanted to use a different postgres deployment, you could change these parameters."
   ]
  },
  {
   "cell_type": "code",
   "execution_count": null,
   "id": "c501c40d-3d05-4f3e-89c5-e2c8bbc40b2f",
   "metadata": {},
   "outputs": [],
   "source": [
    "pg_user = 'postgres'\n",
    "pg_pwd = 'egeria'\n",
    "pg_host = \"host.docker.internal\"\n",
    "pg_port = \"5442\""
   ]
  },
  {
   "cell_type": "markdown",
   "id": "51570e73-1d28-41be-b9bb-5dcdc0653af5",
   "metadata": {},
   "source": [
    "## Now we will update the configuration of the **metadata_store**"
   ]
  },
  {
   "cell_type": "code",
   "execution_count": null,
   "id": "5c600052-1ae9-4f21-8f05-211a2578bd09",
   "metadata": {},
   "outputs": [],
   "source": [
    "o_client: CoreServerConfig = CoreServerConfig(metadata_store, url, user_id, user_pwd)\n",
    "o_client.set_xtdb_pg_repository(pg_host, pg_port, pg_user, pg_pwd)\n"
   ]
  },
  {
   "cell_type": "markdown",
   "id": "c53c7ac4-c789-43b9-b35b-c4bbbeaa8c8c",
   "metadata": {},
   "source": [
    "## Finally, we restart the server so that it picks up its new configuration.\n",
    "* Don't be concerned about a timeout error if it occurs - in some environments, it takes longer for the **CoreContentPack** to be loaded. \n",
    "* Its a good idea to look at the console log to check for any errors - if you are running Egeria in docker, one way to check is by looking at the logs for the egeria-main-1 container."
   ]
  },
  {
   "cell_type": "code",
   "execution_count": null,
   "id": "196f80e8-c0f3-4009-9c9f-03ae484f544d",
   "metadata": {},
   "outputs": [],
   "source": [
    "r_client = EgeriaTech(view_server, url, 'garygeeke', user_pwd)\n",
    "token = r_client.create_egeria_bearer_token()\n",
    "r_client.activate_server_with_stored_config(\n",
    "                None, metadata_store\n",
    "            )"
   ]
  },
  {
   "cell_type": "code",
   "execution_count": null,
   "id": "512bf4fc-394b-4335-abf6-348e7cbcfc6d",
   "metadata": {},
   "outputs": [],
   "source": [
    "help (EgeriaTech.activate_server_with_stored_config)"
   ]
  },
  {
   "cell_type": "code",
   "execution_count": null,
   "id": "49000e3a-d2b7-46bc-a4da-2c3c33969842",
   "metadata": {},
   "outputs": [],
   "source": []
  }
 ],
 "metadata": {
  "kernelspec": {
   "display_name": "Python 3 (ipykernel)",
   "language": "python",
   "name": "python3"
  },
  "language_info": {
   "codemirror_mode": {
    "name": "ipython",
    "version": 3
   },
   "file_extension": ".py",
   "mimetype": "text/x-python",
   "name": "python",
   "nbconvert_exporter": "python",
   "pygments_lexer": "ipython3",
   "version": "3.11.10"
  }
 },
 "nbformat": 4,
 "nbformat_minor": 5
}

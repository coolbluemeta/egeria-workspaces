{
 "cells": [
  {
   "cell_type": "code",
   "execution_count": 5,
   "id": "1d91bd50-7edc-4186-bdf0-509fa069a10c",
   "metadata": {},
   "outputs": [],
   "source": [
    "import os\n",
    "view_server = os.environ.get(\"VIEW_SERVER\",\"view-server\")\n",
    "url = os.environ.get(\"EGERIA_VIEW_SERVER_URL\",\"https;//host.docker.internal:9443\")"
   ]
  },
  {
   "cell_type": "code",
   "execution_count": null,
   "id": "a31f8925-6942-4c23-abaf-202f0d1340a0",
   "metadata": {},
   "outputs": [],
   "source": [
    "a_client = AutomatedCuration(self.good_view_s, self.good_platform1_url, user_id=self.good_user_2,\n",
    "                                         user_pwd=\"secret\")\n",
    "token = a_client.create_egeria_bearer_token()"
   ]
  },
  {
   "cell_type": "code",
   "execution_count": 2,
   "id": "a2154268-2c25-4870-a69e-df589615ee2b",
   "metadata": {},
   "outputs": [],
   "source": [
    "from pyegeria import AutomatedCuration\n",
    "import asyncio\n",
    "import nest_asyncio\n",
    "nest_asyncio.apply()"
   ]
  }
 ],
 "metadata": {
  "kernelspec": {
   "display_name": "Python 3 (ipykernel)",
   "language": "python",
   "name": "python3"
  },
  "language_info": {
   "codemirror_mode": {
    "name": "ipython",
    "version": 3
   },
   "file_extension": ".py",
   "mimetype": "text/x-python",
   "name": "python",
   "nbconvert_exporter": "python",
   "pygments_lexer": "ipython3",
   "version": "3.11.9"
  }
 },
 "nbformat": 4,
 "nbformat_minor": 5
}

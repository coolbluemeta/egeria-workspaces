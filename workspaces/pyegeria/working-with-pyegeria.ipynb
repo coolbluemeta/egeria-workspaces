{
 "cells": [
  {
   "cell_type": "markdown",
   "id": "7bd735e1-0cf2-4d62-a1aa-35872ada5719",
   "metadata": {},
   "source": [
    "<!-- SPDX-License-Identifier: CC-BY-4.0 -->\n",
    "<!-- Copyright Contributors to the ODPi Egeria project 2024. -->\n",
    "\n",
    "![Egeria Logo](https://raw.githubusercontent.com/odpi/egeria/main/assets/img/ODPi_Egeria_Logo_color.png)\n",
    "\n",
    "### Egeria Workbook\n",
    "\n",
    "# Working with pyegeria\n",
    "\n",
    "## Introduction\n",
    "\n",
    "The `pyegeria` python library provides a wide-ranging set of python functions for interacting with the Egeria runtime.  In addition there is a command level interface (CLI) for issuing commands to Egeria and widgets to display information held by Egeria.\n",
    "\n",
    "This notebook provides an introductory guide to `pyegeria`.\n",
    "\n",
    "\n",
    "-----"
   ]
  },
  {
   "cell_type": "code",
   "execution_count": null,
   "id": "c642c879-7f62-4acb-9b92-23c18a022497",
   "metadata": {},
   "outputs": [],
   "source": [
    "\n",
    "%run initialize-pyegeria.ipynb\n"
   ]
  },
  {
   "cell_type": "markdown",
   "id": "a29e738c-4c7e-42cd-a40d-5bf6e5e2c8d8",
   "metadata": {},
   "source": [
    "----\n",
    "\n",
    "The python functions are organized into 5 separate clients:\n",
    "\n",
    "* **EgeriaMy** - for querying an individual's profiles, to-dos and adding feedback to metadata stored in Egeria.\n",
    "* **EgeriaCat** - for day-to-day use of Egeria\n",
    "* **EgeriaTech** - for setting up Egeria services and governance actions.\n",
    "* **EgeriaGov (coming)** - for creating and maintaining governance domains.\n",
    "* **EgeriaConfig** - for configuring new [Egeria OMAG Servers](https://egeria-project.org/concepts/omag-server/)\n",
    "\n",
    "`EgeriaCat`, `EgeriaTech` and `EgeriaGov` all extend `EgeriaMy`. `EgeriaConfig` is standalone.\n",
    "\n",
    "----"
   ]
  },
  {
   "cell_type": "markdown",
   "id": "53c12bc9-3de2-493d-82ba-774230182986",
   "metadata": {},
   "source": [
    "----\n",
    "\n",
    "### EgeriaTech help\n",
    "\n",
    "This is the call to create the client.\n",
    "\n",
    "----"
   ]
  },
  {
   "cell_type": "code",
   "execution_count": null,
   "id": "7884b9fe-3d40-4acb-a682-53012f637661",
   "metadata": {},
   "outputs": [],
   "source": [
    "egeria_tech = EgeriaTech(view_server, url, user_id, user_pwd)"
   ]
  },
  {
   "cell_type": "markdown",
   "id": "a1f602c7-6776-48b8-bcda-18f2884829fd",
   "metadata": {},
   "source": [
    "-----\n",
    "\n",
    "The next call logs the user into the Egeria platform, a token is returned.  It is retained by the client and automatically passed on each request to Egeria.  The token will eventually time out, at which time just reissue the `create_egeria_bearer_token()` function.\n",
    "\n",
    "-----"
   ]
  },
  {
   "cell_type": "code",
   "execution_count": null,
   "id": "7940d6c1-f0b1-40c8-bf58-d18e8f4f0ad3",
   "metadata": {},
   "outputs": [],
   "source": [
    "egeria_tech_token = egeria_tech.create_egeria_bearer_token()"
   ]
  },
  {
   "cell_type": "markdown",
   "id": "f5cb37aa-4274-4a72-bb39-56f0d874cf6a",
   "metadata": {},
   "source": [
    "----\n",
    "\n",
    "Now you are ready to use the functions that call Egeria.  It is possible to use the standard python methods to retrieve information about the available functions. For example `dir` lists the functions supported by the client.  \n",
    "\n",
    "----"
   ]
  },
  {
   "cell_type": "code",
   "execution_count": null,
   "id": "49b00290-d8ce-431f-a211-f0b2e3923e99",
   "metadata": {},
   "outputs": [],
   "source": [
    "dir(egeria_tech)"
   ]
  },
  {
   "cell_type": "markdown",
   "id": "6a2e0d0d-f1ff-41fc-a776-c9d90f2a560f",
   "metadata": {},
   "source": [
    "----\n",
    "\n",
    "A question mark (?) after the name of the client shows how to create an instance of the client.\n",
    "\n",
    "----"
   ]
  },
  {
   "cell_type": "code",
   "execution_count": null,
   "id": "3486c066-a7a4-47ab-8012-33ec226c1573",
   "metadata": {},
   "outputs": [],
   "source": [
    "EgeriaTech?"
   ]
  },
  {
   "cell_type": "markdown",
   "id": "03037fc6-5acc-46e4-99fc-7f3ec6e75300",
   "metadata": {},
   "source": [
    "----\n",
    "\n",
    "It is then possible to list the parameters of a specific function using the `help` function.\n",
    "\n",
    "----"
   ]
  },
  {
   "cell_type": "code",
   "execution_count": null,
   "id": "c83bd2ec-2438-446a-b559-ef09f4b8e585",
   "metadata": {},
   "outputs": [],
   "source": [
    "help(EgeriaTech.find_metadata_elements_with_string)"
   ]
  },
  {
   "cell_type": "code",
   "execution_count": null,
   "id": "171adc67-3b1e-4ed0-8034-ecd9834f8bb9",
   "metadata": {},
   "outputs": [],
   "source": [
    "help(EgeriaTech.get_anchored_metadata_element_graph)"
   ]
  },
  {
   "cell_type": "code",
   "execution_count": null,
   "id": "c2761fe0-0bd8-4bda-b150-9e3791b39892",
   "metadata": {},
   "outputs": [],
   "source": [
    "help(EgeriaTech.get_related_metadata_elements)"
   ]
  },
  {
   "cell_type": "code",
   "execution_count": null,
   "id": "4fb97f0f-737d-4e6a-895e-7c4ad72cd522",
   "metadata": {},
   "outputs": [],
   "source": [
    "help(EgeriaTech.get_asset_graph)"
   ]
  },
  {
   "cell_type": "markdown",
   "id": "20a1a12c-e054-4f09-9fed-09b9b87d6e1d",
   "metadata": {},
   "source": [
    "----\n",
    "\n",
    "If you execute a function without capturing the response in a python variable, the JSON returned from Egeria is displayed:\n",
    "\n",
    "----"
   ]
  },
  {
   "cell_type": "code",
   "execution_count": null,
   "id": "ead15779-2376-44af-8c55-7a15cda3bbc2",
   "metadata": {},
   "outputs": [],
   "source": [
    "\n",
    "egeria_tech.get_servers_by_name(\"qs-metadata-store\")\n"
   ]
  },
  {
   "cell_type": "markdown",
   "id": "0a43b897-2301-479c-89a5-824daaab85c2",
   "metadata": {},
   "source": [
    "----\n",
    "\n",
    "Assigning the results to a python variable means you can extract specific values:\n",
    "\n",
    "-----"
   ]
  },
  {
   "cell_type": "code",
   "execution_count": null,
   "id": "5cba8c67-40e8-46bd-bc24-31a98cf00dda",
   "metadata": {},
   "outputs": [],
   "source": [
    "\n",
    "def get_server_guid(serverName):\n",
    "    serverDetails = egeria_tech.get_servers_by_name(serverName)\n",
    "    if serverDetails:\n",
    "        elementHeader = serverDetails[0].get('elementHeader')\n",
    "        if elementHeader:\n",
    "            return elementHeader.get('guid')\n",
    "    return \"???\"\n",
    "            \n",
    "\n",
    "serverGUID = get_server_guid(\"qs-integration-daemon\")\n",
    "\n",
    "print(\"Unique identifier (guid) for 'qs-metadata-store' is \" + serverGUID)"
   ]
  },
  {
   "cell_type": "code",
   "execution_count": null,
   "id": "3a9574c6-4258-4ada-8b14-00c372c98973",
   "metadata": {},
   "outputs": [],
   "source": [
    "egeria_tech.get_server_report(serverGUID)"
   ]
  },
  {
   "cell_type": "markdown",
   "id": "1a660931-a5ab-45d4-8534-7aa723b8d963",
   "metadata": {},
   "source": [
    "----\n",
    "\n",
    "### EgeriaCat help\n",
    "\n",
    "This is the call to list the functions for EgeriaCat.\n",
    "\n",
    "----"
   ]
  },
  {
   "cell_type": "code",
   "execution_count": null,
   "id": "0c4fd117-f0f2-4fa4-97f8-53418438ac56",
   "metadata": {},
   "outputs": [],
   "source": [
    "from pyegeria import EgeriaCat\n",
    "\n",
    "egeria_cat = EgeriaCat(view_server, url, user_id, user_pwd)\n",
    "egeria_cat_token = egeria_cat.create_egeria_bearer_token()\n",
    "\n",
    "dir(egeria_cat)"
   ]
  },
  {
   "cell_type": "markdown",
   "id": "ba90b132-51c9-48e4-8eae-9a348ccf5586",
   "metadata": {},
   "source": [
    "----\n",
    "\n",
    "Next is the help request for `get_asset_graph`.\n",
    "\n",
    "-----"
   ]
  },
  {
   "cell_type": "code",
   "execution_count": null,
   "id": "0f2fb1b1-084f-4174-b67f-015ff87e3e43",
   "metadata": {},
   "outputs": [],
   "source": [
    "\n",
    "help(EgeriaCat.find_assets_in_domain)\n"
   ]
  },
  {
   "cell_type": "markdown",
   "id": "41f4a10b-a156-48f6-88e7-0e3f0e6c3a0c",
   "metadata": {},
   "source": [
    "----\n",
    "\n",
    "### EgeriaConfig help\n",
    "\n",
    "This is the call to list the functions for EgeriaConfig.\n",
    "\n",
    "----"
   ]
  },
  {
   "cell_type": "code",
   "execution_count": null,
   "id": "8312973a-584a-4628-bf95-18ceeb8164f1",
   "metadata": {},
   "outputs": [],
   "source": [
    "from pyegeria import EgeriaConfig\n",
    "\n",
    "egeria_config = EgeriaConfig(view_server, url, user_id, user_pwd)\n",
    "egeria_config_token = egeria_tech.create_egeria_bearer_token()\n",
    "\n",
    "dir(egeria_tech)"
   ]
  },
  {
   "cell_type": "markdown",
   "id": "a3390fbc-dafa-44f2-a1db-865ff0688e76",
   "metadata": {},
   "source": [
    "----\n",
    "\n",
    "Next is the help request for `find_elements_by_property_value`.\n",
    "\n",
    "-----"
   ]
  },
  {
   "cell_type": "code",
   "execution_count": null,
   "id": "d214859e-51a4-4a57-ab9d-f89532a868a4",
   "metadata": {},
   "outputs": [],
   "source": [
    "\n",
    "help(EgeriaConfig.get_known_servers)\n"
   ]
  },
  {
   "cell_type": "code",
   "execution_count": null,
   "id": "abeb4b87-50c4-402a-b66d-ba4fab0e3ec6",
   "metadata": {},
   "outputs": [],
   "source": []
  },
  {
   "cell_type": "code",
   "execution_count": null,
   "id": "4b8c703c-7da5-4ffe-adf9-a2b4229284c3",
   "metadata": {},
   "outputs": [],
   "source": [
    "from pyegeria.commands.cat.glossary_actions import display_glossaries\n"
   ]
  },
  {
   "cell_type": "code",
   "execution_count": null,
   "id": "8ff99f8a-bb09-4a93-9237-73964f393450",
   "metadata": {},
   "outputs": [],
   "source": [
    "# print(\"*\", view_server, url, user_id, user_pwd)\n",
    "display_glossaries(search_string=\"*\", view_server = view_server, url = url, uuser_id=user_id, user_pwd = user_pwd)\n"
   ]
  },
  {
   "cell_type": "code",
   "execution_count": null,
   "id": "3c436ef5-cb8e-4681-94dc-a5f4471f32da",
   "metadata": {},
   "outputs": [],
   "source": [
    "help(list_glossaries)"
   ]
  },
  {
   "cell_type": "code",
   "execution_count": null,
   "id": "fdd43df6-e9d2-4a34-a6ab-f79db6e309f5",
   "metadata": {},
   "outputs": [],
   "source": [
    "from pyegeria.commands import display_gov_eng_status\n"
   ]
  },
  {
   "cell_type": "code",
   "execution_count": null,
   "id": "8f5c09e8-993b-4871-baba-ba5fc58475ee",
   "metadata": {},
   "outputs": [],
   "source": []
  }
 ],
 "metadata": {
  "kernelspec": {
   "display_name": "Python 3 (ipykernel)",
   "language": "python",
   "name": "python3"
  },
  "language_info": {
   "codemirror_mode": {
    "name": "ipython",
    "version": 3
   },
   "file_extension": ".py",
   "mimetype": "text/x-python",
   "name": "python",
   "nbconvert_exporter": "python",
   "pygments_lexer": "ipython3",
   "version": "3.12.8"
  }
 },
 "nbformat": 4,
 "nbformat_minor": 5
}

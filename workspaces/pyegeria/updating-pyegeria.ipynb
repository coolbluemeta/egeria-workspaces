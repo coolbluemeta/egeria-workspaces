{
 "cells": [
  {
   "cell_type": "markdown",
   "id": "7bd735e1-0cf2-4d62-a1aa-35872ada5719",
   "metadata": {},
   "source": [
    "<!-- SPDX-License-Identifier: CC-BY-4.0 -->\n",
    "<!-- Copyright Contributors to the ODPi Egeria project 2024. -->\n",
    "\n",
    "![Egeria Logo](https://raw.githubusercontent.com/odpi/egeria/main/assets/img/ODPi_Egeria_Logo_color.png)\n",
    "\n",
    "### Egeria Workbook\n",
    "\n",
    "# Updating pyegeria\n",
    "\n",
    "## Introduction\n",
    "\n",
    "The `pyegeria` python library provides a wide-ranging set of python functions for interacting with the Egeria runtime.  In addition there is a command level interface (CLI) for issuing commands to Egeria and widgets to display information held by Egeria. The CLI and pyegeria commands are normally called from a terminal window. However, many of the functions can also be called within a Jupyter Notebook. \n",
    "\n",
    "This notebook ensures you have the latest level of pyegeria\n",
    "\n",
    "## Updating JupyterLab\n",
    "\n",
    "Pyegeria is installed in this JupyterLab environment.  However, it is advancing rapidly and it is worthwhile checking that you have the latest level.  Firstly, to upgrade the base python functions, run the following command:\n",
    "\n",
    "-----"
   ]
  },
  {
   "cell_type": "code",
   "execution_count": null,
   "id": "36af8e0d-0e44-4d63-8a81-0c1f83d52b5b",
   "metadata": {},
   "outputs": [],
   "source": [
    "\n",
    "pip install pyegeria --upgrade\n"
   ]
  },
  {
   "cell_type": "markdown",
   "id": "da0e39b0-1288-4703-82a3-aabca5af1ac9",
   "metadata": {},
   "source": [
    "----\n",
    "If the libraries are upgraded, you will need to restart the python kernel.  From the JupyterLab menubar select `Kernel->Restart Kernel...` and then confirm that you want the kernel to restart.\n",
    "\n",
    "## Updating the command environment\n",
    "\n",
    "The next step is to check that the widgets and CLI are up-to-date.  For this you need a Terminal window.  Click on the plus (+) to open an new tab.  This displays the launcher page.  Then click on *Terminal* to open up the Terminal window.\n",
    "\n",
    "----\n",
    "\n",
    "![Launcher](images/launcher.png)\n",
    "\n",
    "----\n",
    "\n",
    "From the Terminal window enter the command `pipx upgrade pyegeria` command.   This will upgrade the CLI if required.\n",
    "\n",
    "```\n",
    "$ pipx upgrade pyegeria\n",
    "Upgraded package pyegeria from 0.7.45 to 0.8.4.1 (location: /home/jovyan/.local/share/venvs/pipx/pyegeria)\n",
    "$\n",
    "\n",
    "```\n",
    "\n",
    "As a quick check to ensure the CLI is correctly installed, enter `pipx list` in the terminal window.  This will show all of the commands currently available.\n",
    "\n",
    "As pyegeria is being actively enhanced, the list of commands continues to grow and evolve.\n",
    "\n",
    "\n",
    "\n",
    "----"
   ]
  },
  {
   "cell_type": "code",
   "execution_count": null,
   "id": "29fab732-4734-4d81-968b-a2afb674ba82",
   "metadata": {},
   "outputs": [],
   "source": []
  },
  {
   "cell_type": "code",
   "execution_count": null,
   "id": "3eab7769-362e-428e-aef4-8e48e846b698",
   "metadata": {},
   "outputs": [],
   "source": []
  }
 ],
 "metadata": {
  "kernelspec": {
   "display_name": "Python 3 (ipykernel)",
   "language": "python",
   "name": "python3"
  },
  "language_info": {
   "codemirror_mode": {
    "name": "ipython",
    "version": 3
   },
   "file_extension": ".py",
   "mimetype": "text/x-python",
   "name": "python",
   "nbconvert_exporter": "python",
   "pygments_lexer": "ipython3",
   "version": "3.12.8"
  }
 },
 "nbformat": 4,
 "nbformat_minor": 5
}

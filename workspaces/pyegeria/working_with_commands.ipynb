{
 "cells": [
  {
   "cell_type": "markdown",
   "id": "7bd735e1-0cf2-4d62-a1aa-35872ada5719",
   "metadata": {},
   "source": [
    "<!-- SPDX-License-Identifier: CC-BY-4.0 -->\n",
    "<!-- Copyright Contributors to the ODPi Egeria project 2025. -->\n",
    "\n",
    "![Egeria Logo](https://raw.githubusercontent.com/odpi/egeria/main/assets/img/ODPi_Egeria_Logo_color.png)\n",
    "\n",
    "### Egeria Workbook\n",
    "\n",
    "# Working with pyegeria commands\n",
    "\n",
    "## Introduction\n",
    "\n",
    "The `pyegeria` python library provides a wide-ranging set of python functions for interacting with the Egeria runtime.  In addition there is a command level interface (CLI) for issuing commands to Egeria and widgets to display information held by Egeria.\n",
    "\n",
    "This notebook provides an introductory guide to using the commands from a Jupyter Notebook.\n",
    "\n",
    "\n",
    "-----"
   ]
  },
  {
   "cell_type": "code",
   "execution_count": 2,
   "id": "abeb4b87-50c4-402a-b66d-ba4fab0e3ec6",
   "metadata": {
    "execution": {
     "iopub.execute_input": "2025-03-07T18:39:13.049320Z",
     "iopub.status.busy": "2025-03-07T18:39:13.049091Z",
     "iopub.status.idle": "2025-03-07T18:39:13.151118Z",
     "shell.execute_reply": "2025-03-07T18:39:13.150699Z",
     "shell.execute_reply.started": "2025-03-07T18:39:13.049302Z"
    }
   },
   "outputs": [
    {
     "data": {
      "text/html": [
       "\n",
       "    <script src=\"https://unpkg.com/mermaid@11.4.1/dist/mermaid.min.js\"></script>\n",
       "    <script>\n",
       "        document.addEventListener('DOMContentLoaded', function() {\n",
       "            mermaid.initialize({startOnLoad: true});\n",
       "        });\n",
       "    </script>\n",
       "\n",
       "    "
      ],
      "text/plain": [
       "<IPython.core.display.HTML object>"
      ]
     },
     "metadata": {},
     "output_type": "display_data"
    }
   ],
   "source": [
    "%run initialize-pyegeria.ipynb"
   ]
  },
  {
   "cell_type": "code",
   "execution_count": 3,
   "id": "4b8c703c-7da5-4ffe-adf9-a2b4229284c3",
   "metadata": {
    "execution": {
     "iopub.execute_input": "2025-03-07T18:39:15.470250Z",
     "iopub.status.busy": "2025-03-07T18:39:15.469781Z",
     "iopub.status.idle": "2025-03-07T18:39:15.489722Z",
     "shell.execute_reply": "2025-03-07T18:39:15.488986Z",
     "shell.execute_reply.started": "2025-03-07T18:39:15.470219Z"
    }
   },
   "outputs": [
    {
     "ename": "ImportError",
     "evalue": "cannot import name 'display_glossaries' from 'pyegeria.commands.cat.glossary_actions' (/opt/conda/lib/python3.12/site-packages/pyegeria/commands/cat/glossary_actions.py)",
     "output_type": "error",
     "traceback": [
      "\u001b[0;31m---------------------------------------------------------------------------\u001b[0m",
      "\u001b[0;31mImportError\u001b[0m                               Traceback (most recent call last)",
      "Cell \u001b[0;32mIn[3], line 1\u001b[0m\n\u001b[0;32m----> 1\u001b[0m \u001b[38;5;28;01mfrom\u001b[39;00m\u001b[38;5;250m \u001b[39m\u001b[38;5;21;01mpyegeria\u001b[39;00m\u001b[38;5;21;01m.\u001b[39;00m\u001b[38;5;21;01mcommands\u001b[39;00m\u001b[38;5;21;01m.\u001b[39;00m\u001b[38;5;21;01mcat\u001b[39;00m\u001b[38;5;21;01m.\u001b[39;00m\u001b[38;5;21;01mglossary_actions\u001b[39;00m\u001b[38;5;250m \u001b[39m\u001b[38;5;28;01mimport\u001b[39;00m display_glossaries\n",
      "\u001b[0;31mImportError\u001b[0m: cannot import name 'display_glossaries' from 'pyegeria.commands.cat.glossary_actions' (/opt/conda/lib/python3.12/site-packages/pyegeria/commands/cat/glossary_actions.py)"
     ]
    }
   ],
   "source": [
    "from pyegeria.commands.cat.glossary_actions import display_glossaries\n"
   ]
  },
  {
   "cell_type": "code",
   "execution_count": null,
   "id": "8ff99f8a-bb09-4a93-9237-73964f393450",
   "metadata": {},
   "outputs": [],
   "source": [
    "# print(\"*\", view_server, url, user_id, user_pwd)\n",
    "display_glossaries(search_string=\"*\", view_server = view_server, url = url, uuser_id=user_id, user_pwd = user_pwd)\n"
   ]
  },
  {
   "cell_type": "code",
   "execution_count": null,
   "id": "3c436ef5-cb8e-4681-94dc-a5f4471f32da",
   "metadata": {},
   "outputs": [],
   "source": [
    "help(list_glossaries)"
   ]
  },
  {
   "cell_type": "code",
   "execution_count": null,
   "id": "fdd43df6-e9d2-4a34-a6ab-f79db6e309f5",
   "metadata": {},
   "outputs": [],
   "source": [
    "from pyegeria.commands import display_gov_eng_status\n"
   ]
  },
  {
   "cell_type": "code",
   "execution_count": null,
   "id": "8f5c09e8-993b-4871-baba-ba5fc58475ee",
   "metadata": {},
   "outputs": [],
   "source": []
  }
 ],
 "metadata": {
  "kernelspec": {
   "display_name": "Python 3 (ipykernel)",
   "language": "python",
   "name": "python3"
  },
  "language_info": {
   "codemirror_mode": {
    "name": "ipython",
    "version": 3
   },
   "file_extension": ".py",
   "mimetype": "text/x-python",
   "name": "python",
   "nbconvert_exporter": "python",
   "pygments_lexer": "ipython3",
   "version": "3.12.8"
  }
 },
 "nbformat": 4,
 "nbformat_minor": 5
}

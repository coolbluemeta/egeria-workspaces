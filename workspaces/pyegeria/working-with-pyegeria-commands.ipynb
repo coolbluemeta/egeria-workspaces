{
 "cells": [
  {
   "cell_type": "markdown",
   "id": "7bd735e1-0cf2-4d62-a1aa-35872ada5719",
   "metadata": {},
   "source": [
    "<!-- SPDX-License-Identifier: CC-BY-4.0 -->\n",
    "<!-- Copyright Contributors to the ODPi Egeria project 2024. -->\n",
    "\n",
    "![Egeria Logo](https://raw.githubusercontent.com/odpi/egeria/main/assets/img/ODPi_Egeria_Logo_color.png)\n",
    "\n",
    "### Egeria Workbook\n",
    "\n",
    "# Working with pyegeria commands\n",
    "\n",
    "## Introduction\n",
    "\n",
    "The `pyegeria` python library provides a wide-ranging set of python functions for interacting with the Egeria runtime.  In addition there is a command level interface (CLI) for issuing commands to Egeria and widgets to display information held by Egeria. The CLI and pyegeria commands are normally called from a terminal window. However, many of the functions can also be called within a Jupyter Notebook. \n",
    "\n",
    "This notebook provides an introduction to calling pyegeria commands within a notebook.\n",
    "\n",
    "## Ensuring you have the latest level of pyegeria\n",
    "\n",
    "Pyegeria is installed in this JupyterLab environment.  However, it is advancing rapidly and it is worthwhile checking that you have the latest level.  Firstly, to upgrade the base python functions, run the following command:\n",
    "\n",
    "-----"
   ]
  },
  {
   "cell_type": "code",
   "execution_count": null,
   "id": "a59eff5e-439e-4598-8993-e3b76b73e5d3",
   "metadata": {},
   "outputs": [],
   "source": [
    "pip install pyegeria --upgrade"
   ]
  },
  {
   "cell_type": "markdown",
   "id": "da0e39b0-1288-4703-82a3-aabca5af1ac9",
   "metadata": {},
   "source": [
    "----\n",
    "If the libraries are upgraded, you will need to restart the python kernel.  From the JupyterLab menubar select `Kernel->Restart Kernel...` and then confirm that you want the kernel to restart.\n",
    "\n",
    "The next step is to check that the widgets and CLI are up-to-date.  For this you need a Terminal window.  Click on the plus (+) to open an new tab.  This displays the launcher page.  Then click on *Terminal* to open up the Terminal window.\n",
    "\n",
    "----\n",
    "\n",
    "![Launcher](images/launcher.png)\n",
    "\n",
    "----\n",
    "\n",
    "From the Terminal window enter the command `pipx upgrade pyegeria` command.   This will upgrade the CLI if required.\n",
    "\n",
    "```\n",
    "$ pipx upgrade pyegeria\n",
    "Upgraded package pyegeria from 0.7.45 to 0.8.4.1 (location: /home/jovyan/.local/share/venvs/pipx/pyegeria)\n",
    "$\n",
    "\n",
    "```\n",
    "\n",
    "As a quick check to ensure the CLI is correctly installed, enter `pipx list` in the terminal window.  This will show all of the commands currently available.\n",
    "\n",
    "As pyegeria is being actively enhanced, the list of commands continues to grow and evolve.\n",
    "\n",
    "# Using the pyegeria python functions\n",
    "\n",
    "\n",
    "----"
   ]
  },
  {
   "cell_type": "markdown",
   "id": "511eb747-f5cf-4ea6-89a0-9d181a48206f",
   "metadata": {},
   "source": [
    "## First, we'll do a bit of set up so we can use the pyegeria functions."
   ]
  },
  {
   "cell_type": "code",
   "execution_count": null,
   "id": "c642c879-7f62-4acb-9b92-23c18a022497",
   "metadata": {},
   "outputs": [],
   "source": [
    "import os\n",
    "import asyncio\n",
    "import nest_asyncio\n",
    "nest_asyncio.apply()\n"
   ]
  },
  {
   "cell_type": "markdown",
   "id": "37bc4ce3-2f30-42e2-bb0b-d873b6b49f80",
   "metadata": {},
   "source": [
    "## Importing pyegeria commands\n",
    "\n",
    "To use the pyegeria commands within jupyter we must first import them. The following line imports the `display_integration_daemon_status` command that displays the status of connectors within the specified integration daemon."
   ]
  },
  {
   "cell_type": "code",
   "execution_count": null,
   "id": "a0af44cc-894b-40a1-a8cf-352d9c2c593d",
   "metadata": {},
   "outputs": [],
   "source": [
    "from pyegeria.commands import display_integration_daemon_status\n"
   ]
  },
  {
   "cell_type": "markdown",
   "id": "870c9239-3b8c-4f0b-955f-a4c391fb1fe6",
   "metadata": {},
   "source": [
    "Each command is defined with a sensible set of defaults. So if we execute the following line we will see a table listing the status of all registered connectors. Setting the paging parameter to True asks for a paged output, rather than a continuously updated view that might not work well in Jupyter."
   ]
  },
  {
   "cell_type": "code",
   "execution_count": null,
   "id": "1a51f48a-a7c0-47d7-ad76-b037cd9cbf28",
   "metadata": {},
   "outputs": [],
   "source": [
    "display_integration_daemon_status(paging=True, width=180)"
   ]
  },
  {
   "cell_type": "markdown",
   "id": "20a1a12c-e054-4f09-9fed-09b9b87d6e1d",
   "metadata": {},
   "source": [
    "----\n",
    "\n",
    "**Of course the list of connectors that we show depends on what metadata archives have been loaded...**\n",
    "\n",
    "----"
   ]
  },
  {
   "cell_type": "markdown",
   "id": "6a6c783f-2c8a-46a0-b06b-2237037e31ef",
   "metadata": {},
   "source": [
    "To understand this further, lets use the help command to look at how this command is defined. "
   ]
  },
  {
   "cell_type": "code",
   "execution_count": null,
   "id": "49b00290-d8ce-431f-a211-f0b2e3923e99",
   "metadata": {},
   "outputs": [],
   "source": [
    "help(display_integration_daemon_status)"
   ]
  },
  {
   "cell_type": "markdown",
   "id": "6a2e0d0d-f1ff-41fc-a776-c9d90f2a560f",
   "metadata": {},
   "source": [
    "----\n",
    "\n",
    "From the help listing, we can see that in fact the command takes quite a few parameters, allowing us signficant flexibility in how we use the command. Most notably, we can see that if we specify a `search_list` then we can filter the output to only match the connectors we want to retrieve status for. Most of the other parameters will default to their equivalent values set in the environment variables. But we can override any of them if we need to. Lets experiment with the `search_list`.\n",
    "\n",
    "----"
   ]
  },
  {
   "cell_type": "code",
   "execution_count": null,
   "id": "3486c066-a7a4-47ab-8012-33ec226c1573",
   "metadata": {},
   "outputs": [],
   "source": [
    "display_integration_daemon_status(['UnityCatalogServerSynchronizer'])"
   ]
  },
  {
   "cell_type": "markdown",
   "id": "24901ed0-7025-4af8-98d0-43616c5ebe0f",
   "metadata": {},
   "source": [
    "We can also specify a list of connectors to display the status of."
   ]
  },
  {
   "cell_type": "code",
   "execution_count": null,
   "id": "c83bd2ec-2438-446a-b559-ef09f4b8e585",
   "metadata": {},
   "outputs": [],
   "source": [
    "display_integration_daemon_status(['UnityCatalogServerSynchronizer', 'FilesCataloguer'])"
   ]
  },
  {
   "cell_type": "markdown",
   "id": "20a3c06d-a67c-4332-b69c-6828ca6b27cc",
   "metadata": {},
   "source": [
    "## Experimenting\n",
    "\n",
    "There are number of commands available to be used in the jupyter environment - and more will come as needed. The following cell imports all the currently available commands for you to experiment with. Have fun!\n"
   ]
  },
  {
   "cell_type": "code",
   "execution_count": null,
   "id": "fdd43df6-e9d2-4a34-a6ab-f79db6e309f5",
   "metadata": {},
   "outputs": [],
   "source": [
    "from pyegeria.commands import (display_gov_eng_status, display_integration_daemon_status, display_engine_activity_c, display_glossaries, display_glossary_terms, list_deployed_catalogs, \n",
    "    list_deployed_database_schemas, list_deployed_databases)\n"
   ]
  },
  {
   "cell_type": "code",
   "execution_count": null,
   "id": "8f5c09e8-993b-4871-baba-ba5fc58475ee",
   "metadata": {},
   "outputs": [],
   "source": [
    "display_glossaries()\n",
    "display_glossary_terms()"
   ]
  },
  {
   "cell_type": "code",
   "execution_count": null,
   "id": "fbc0fa69-bf0a-4a04-ad8f-a6ecbeafa000",
   "metadata": {},
   "outputs": [],
   "source": []
  }
 ],
 "metadata": {
  "kernelspec": {
   "display_name": "Python 3 (ipykernel)",
   "language": "python",
   "name": "python3"
  },
  "language_info": {
   "codemirror_mode": {
    "name": "ipython",
    "version": 3
   },
   "file_extension": ".py",
   "mimetype": "text/x-python",
   "name": "python",
   "nbconvert_exporter": "python",
   "pygments_lexer": "ipython3",
   "version": "3.12.8"
  }
 },
 "nbformat": 4,
 "nbformat_minor": 5
}

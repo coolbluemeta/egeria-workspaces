{
 "cells": [
  {
   "cell_type": "markdown",
   "id": "7bd735e1-0cf2-4d62-a1aa-35872ada5719",
   "metadata": {},
   "source": [
    "<!-- SPDX-License-Identifier: CC-BY-4.0 -->\n",
    "<!-- Copyright Contributors to the ODPi Egeria project 2024. -->\n",
    "\n",
    "![Egeria Logo](https://raw.githubusercontent.com/odpi/egeria/main/assets/img/ODPi_Egeria_Logo_color.png)\n",
    "\n",
    "### Egeria Workbook\n",
    "\n",
    "# Working with pyegeria commands\n",
    "\n",
    "## Introduction\n",
    "\n",
    "The `pyegeria` python library provides a wide-ranging set of python functions for interacting with the Egeria runtime.  In addition there is a command level interface (CLI) for issuing commands to Egeria and widgets to display information held by Egeria. The CLI and pyegeria commands are normally called from a terminal window. However, many of the functions can also be called within a Jupyter Notebook. \n",
    "\n",
    "This notebook provides an introduction to calling pyegeria commands within a notebook.\n",
    "\n",
    "## Ensuring you have the latest level of pyegeria\n",
    "\n",
    "Pyegeria is installed in this JupyterLab environment.  However, it is advancing rapidly and it is worthwhile checking that you have the latest level.  Firstly, to upgrade the base python functions, run the following command:\n",
    "\n",
    "-----"
   ]
  },
  {
   "cell_type": "code",
   "execution_count": 2,
   "id": "a59eff5e-439e-4598-8993-e3b76b73e5d3",
   "metadata": {
    "execution": {
     "iopub.execute_input": "2025-02-12T16:49:22.225030Z",
     "iopub.status.busy": "2025-02-12T16:49:22.224636Z",
     "iopub.status.idle": "2025-02-12T17:00:17.488999Z",
     "shell.execute_reply": "2025-02-12T17:00:17.488593Z",
     "shell.execute_reply.started": "2025-02-12T16:49:22.224992Z"
    }
   },
   "outputs": [
    {
     "name": "stdout",
     "output_type": "stream",
     "text": [
      "Requirement already satisfied: pyegeria in /opt/conda/lib/python3.12/site-packages (5.3.4.3)\n",
      "Collecting pyegeria\n",
      "  Using cached pyegeria-5.3.4.22-py3-none-any.whl.metadata (2.7 kB)\n",
      "Requirement already satisfied: click in /opt/conda/lib/python3.12/site-packages (from pyegeria) (8.1.8)\n",
      "Requirement already satisfied: confluent-kafka in /opt/conda/lib/python3.12/site-packages (from pyegeria) (2.8.0)\n",
      "Requirement already satisfied: httpx in /opt/conda/lib/python3.12/site-packages (from pyegeria) (0.28.1)\n",
      "Requirement already satisfied: jupyter in /opt/conda/lib/python3.12/site-packages (from pyegeria) (1.1.1)\n",
      "Requirement already satisfied: mermaid-py in /opt/conda/lib/python3.12/site-packages (from pyegeria) (0.7.0)\n",
      "Requirement already satisfied: psycopg2-binary<3.0.0,>=2.9.9 in /opt/conda/lib/python3.12/site-packages (from pyegeria) (2.9.10)\n",
      "Requirement already satisfied: pytest<9.0.0,>=8.2.2 in /opt/conda/lib/python3.12/site-packages (from pyegeria) (8.3.4)\n",
      "Requirement already satisfied: requests in /opt/conda/lib/python3.12/site-packages (from pyegeria) (2.32.3)\n",
      "Requirement already satisfied: rich in /opt/conda/lib/python3.12/site-packages (from pyegeria) (13.9.4)\n",
      "Requirement already satisfied: textual in /opt/conda/lib/python3.12/site-packages (from pyegeria) (1.0.0)\n",
      "Requirement already satisfied: trogon<0.7.0,>=0.6.0 in /opt/conda/lib/python3.12/site-packages (from pyegeria) (0.6.0)\n",
      "Requirement already satisfied: urllib3 in /opt/conda/lib/python3.12/site-packages (from pyegeria) (2.3.0)\n",
      "Requirement already satisfied: validators in /opt/conda/lib/python3.12/site-packages (from pyegeria) (0.34.0)\n",
      "Requirement already satisfied: iniconfig in /opt/conda/lib/python3.12/site-packages (from pytest<9.0.0,>=8.2.2->pyegeria) (2.0.0)\n",
      "Requirement already satisfied: packaging in /opt/conda/lib/python3.12/site-packages (from pytest<9.0.0,>=8.2.2->pyegeria) (24.2)\n",
      "Requirement already satisfied: pluggy<2,>=1.5 in /opt/conda/lib/python3.12/site-packages (from pytest<9.0.0,>=8.2.2->pyegeria) (1.5.0)\n",
      "Requirement already satisfied: markdown-it-py>=2.1.0 in /opt/conda/lib/python3.12/site-packages (from markdown-it-py[linkify,plugins]>=2.1.0->textual->pyegeria) (3.0.0)\n",
      "Requirement already satisfied: platformdirs<5,>=3.6.0 in /opt/conda/lib/python3.12/site-packages (from textual->pyegeria) (4.3.6)\n",
      "Requirement already satisfied: typing-extensions<5.0.0,>=4.4.0 in /opt/conda/lib/python3.12/site-packages (from textual->pyegeria) (4.12.2)\n",
      "Requirement already satisfied: pygments<3.0.0,>=2.13.0 in /opt/conda/lib/python3.12/site-packages (from rich->pyegeria) (2.19.1)\n",
      "Requirement already satisfied: anyio in /opt/conda/lib/python3.12/site-packages (from httpx->pyegeria) (4.8.0)\n",
      "Requirement already satisfied: certifi in /opt/conda/lib/python3.12/site-packages (from httpx->pyegeria) (2024.12.14)\n",
      "Requirement already satisfied: httpcore==1.* in /opt/conda/lib/python3.12/site-packages (from httpx->pyegeria) (1.0.7)\n",
      "Requirement already satisfied: idna in /opt/conda/lib/python3.12/site-packages (from httpx->pyegeria) (3.10)\n",
      "Requirement already satisfied: h11<0.15,>=0.13 in /opt/conda/lib/python3.12/site-packages (from httpcore==1.*->httpx->pyegeria) (0.14.0)\n",
      "Requirement already satisfied: notebook in /opt/conda/lib/python3.12/site-packages (from jupyter->pyegeria) (7.3.2)\n",
      "Requirement already satisfied: jupyter-console in /opt/conda/lib/python3.12/site-packages (from jupyter->pyegeria) (6.6.3)\n",
      "Requirement already satisfied: nbconvert in /opt/conda/lib/python3.12/site-packages (from jupyter->pyegeria) (7.16.5)\n",
      "Requirement already satisfied: ipykernel in /opt/conda/lib/python3.12/site-packages (from jupyter->pyegeria) (6.29.5)\n",
      "Requirement already satisfied: ipywidgets in /opt/conda/lib/python3.12/site-packages (from jupyter->pyegeria) (8.1.5)\n",
      "Requirement already satisfied: jupyterlab in /opt/conda/lib/python3.12/site-packages (from jupyter->pyegeria) (4.3.4)\n",
      "Requirement already satisfied: charset_normalizer<4,>=2 in /opt/conda/lib/python3.12/site-packages (from requests->pyegeria) (3.4.1)\n",
      "Requirement already satisfied: mdurl~=0.1 in /opt/conda/lib/python3.12/site-packages (from markdown-it-py>=2.1.0->markdown-it-py[linkify,plugins]>=2.1.0->textual->pyegeria) (0.1.2)\n",
      "Requirement already satisfied: linkify-it-py<3,>=1 in /opt/conda/lib/python3.12/site-packages (from markdown-it-py[linkify,plugins]>=2.1.0->textual->pyegeria) (2.0.3)\n",
      "Requirement already satisfied: mdit-py-plugins in /opt/conda/lib/python3.12/site-packages (from markdown-it-py[linkify,plugins]>=2.1.0->textual->pyegeria) (0.4.2)\n",
      "Requirement already satisfied: sniffio>=1.1 in /opt/conda/lib/python3.12/site-packages (from anyio->httpx->pyegeria) (1.3.1)\n",
      "Requirement already satisfied: comm>=0.1.1 in /opt/conda/lib/python3.12/site-packages (from ipykernel->jupyter->pyegeria) (0.2.2)\n",
      "Requirement already satisfied: debugpy>=1.6.5 in /opt/conda/lib/python3.12/site-packages (from ipykernel->jupyter->pyegeria) (1.8.11)\n",
      "Requirement already satisfied: ipython>=7.23.1 in /opt/conda/lib/python3.12/site-packages (from ipykernel->jupyter->pyegeria) (8.31.0)\n",
      "Requirement already satisfied: jupyter-client>=6.1.12 in /opt/conda/lib/python3.12/site-packages (from ipykernel->jupyter->pyegeria) (8.6.3)\n",
      "Requirement already satisfied: jupyter-core!=5.0.*,>=4.12 in /opt/conda/lib/python3.12/site-packages (from ipykernel->jupyter->pyegeria) (5.7.2)\n",
      "Requirement already satisfied: matplotlib-inline>=0.1 in /opt/conda/lib/python3.12/site-packages (from ipykernel->jupyter->pyegeria) (0.1.7)\n",
      "Requirement already satisfied: nest-asyncio in /opt/conda/lib/python3.12/site-packages (from ipykernel->jupyter->pyegeria) (1.6.0)\n",
      "Requirement already satisfied: psutil in /opt/conda/lib/python3.12/site-packages (from ipykernel->jupyter->pyegeria) (6.1.1)\n",
      "Requirement already satisfied: pyzmq>=24 in /opt/conda/lib/python3.12/site-packages (from ipykernel->jupyter->pyegeria) (26.2.0)\n",
      "Requirement already satisfied: tornado>=6.1 in /opt/conda/lib/python3.12/site-packages (from ipykernel->jupyter->pyegeria) (6.4.2)\n",
      "Requirement already satisfied: traitlets>=5.4.0 in /opt/conda/lib/python3.12/site-packages (from ipykernel->jupyter->pyegeria) (5.14.3)\n",
      "Requirement already satisfied: widgetsnbextension~=4.0.12 in /opt/conda/lib/python3.12/site-packages (from ipywidgets->jupyter->pyegeria) (4.0.13)\n",
      "Requirement already satisfied: jupyterlab_widgets~=3.0.12 in /opt/conda/lib/python3.12/site-packages (from ipywidgets->jupyter->pyegeria) (3.0.13)\n",
      "Requirement already satisfied: prompt-toolkit>=3.0.30 in /opt/conda/lib/python3.12/site-packages (from jupyter-console->jupyter->pyegeria) (3.0.48)\n",
      "Requirement already satisfied: async-lru>=1.0.0 in /opt/conda/lib/python3.12/site-packages (from jupyterlab->jupyter->pyegeria) (2.0.4)\n",
      "Requirement already satisfied: jinja2>=3.0.3 in /opt/conda/lib/python3.12/site-packages (from jupyterlab->jupyter->pyegeria) (3.1.5)\n",
      "Requirement already satisfied: jupyter-lsp>=2.0.0 in /opt/conda/lib/python3.12/site-packages (from jupyterlab->jupyter->pyegeria) (2.2.5)\n",
      "Requirement already satisfied: jupyter-server<3,>=2.4.0 in /opt/conda/lib/python3.12/site-packages (from jupyterlab->jupyter->pyegeria) (2.15.0)\n",
      "Requirement already satisfied: jupyterlab-server<3,>=2.27.1 in /opt/conda/lib/python3.12/site-packages (from jupyterlab->jupyter->pyegeria) (2.27.3)\n",
      "Requirement already satisfied: notebook-shim>=0.2 in /opt/conda/lib/python3.12/site-packages (from jupyterlab->jupyter->pyegeria) (0.2.4)\n",
      "Requirement already satisfied: setuptools>=40.8.0 in /opt/conda/lib/python3.12/site-packages (from jupyterlab->jupyter->pyegeria) (75.8.0)\n",
      "Requirement already satisfied: beautifulsoup4 in /opt/conda/lib/python3.12/site-packages (from nbconvert->jupyter->pyegeria) (4.12.3)\n",
      "Requirement already satisfied: bleach!=5.0.0 in /opt/conda/lib/python3.12/site-packages (from bleach[css]!=5.0.0->nbconvert->jupyter->pyegeria) (6.2.0)\n",
      "Requirement already satisfied: defusedxml in /opt/conda/lib/python3.12/site-packages (from nbconvert->jupyter->pyegeria) (0.7.1)\n",
      "Requirement already satisfied: jupyterlab-pygments in /opt/conda/lib/python3.12/site-packages (from nbconvert->jupyter->pyegeria) (0.3.0)\n",
      "Requirement already satisfied: markupsafe>=2.0 in /opt/conda/lib/python3.12/site-packages (from nbconvert->jupyter->pyegeria) (3.0.2)\n",
      "Requirement already satisfied: mistune<4,>=2.0.3 in /opt/conda/lib/python3.12/site-packages (from nbconvert->jupyter->pyegeria) (3.1.0)\n",
      "Requirement already satisfied: nbclient>=0.5.0 in /opt/conda/lib/python3.12/site-packages (from nbconvert->jupyter->pyegeria) (0.10.2)\n",
      "Requirement already satisfied: nbformat>=5.7 in /opt/conda/lib/python3.12/site-packages (from nbconvert->jupyter->pyegeria) (5.10.4)\n",
      "Requirement already satisfied: pandocfilters>=1.4.1 in /opt/conda/lib/python3.12/site-packages (from nbconvert->jupyter->pyegeria) (1.5.0)\n",
      "Requirement already satisfied: webencodings in /opt/conda/lib/python3.12/site-packages (from bleach!=5.0.0->bleach[css]!=5.0.0->nbconvert->jupyter->pyegeria) (0.5.1)\n",
      "Requirement already satisfied: tinycss2<1.5,>=1.1.0 in /opt/conda/lib/python3.12/site-packages (from bleach[css]!=5.0.0->nbconvert->jupyter->pyegeria) (1.4.0)\n",
      "Requirement already satisfied: decorator in /opt/conda/lib/python3.12/site-packages (from ipython>=7.23.1->ipykernel->jupyter->pyegeria) (5.1.1)\n",
      "Requirement already satisfied: jedi>=0.16 in /opt/conda/lib/python3.12/site-packages (from ipython>=7.23.1->ipykernel->jupyter->pyegeria) (0.19.2)\n",
      "Requirement already satisfied: pexpect>4.3 in /opt/conda/lib/python3.12/site-packages (from ipython>=7.23.1->ipykernel->jupyter->pyegeria) (4.9.0)\n",
      "Requirement already satisfied: stack_data in /opt/conda/lib/python3.12/site-packages (from ipython>=7.23.1->ipykernel->jupyter->pyegeria) (0.6.3)\n",
      "Requirement already satisfied: python-dateutil>=2.8.2 in /opt/conda/lib/python3.12/site-packages (from jupyter-client>=6.1.12->ipykernel->jupyter->pyegeria) (2.9.0.post0)\n",
      "Requirement already satisfied: argon2-cffi>=21.1 in /opt/conda/lib/python3.12/site-packages (from jupyter-server<3,>=2.4.0->jupyterlab->jupyter->pyegeria) (23.1.0)\n",
      "Requirement already satisfied: jupyter-events>=0.11.0 in /opt/conda/lib/python3.12/site-packages (from jupyter-server<3,>=2.4.0->jupyterlab->jupyter->pyegeria) (0.11.0)\n",
      "Requirement already satisfied: jupyter-server-terminals>=0.4.4 in /opt/conda/lib/python3.12/site-packages (from jupyter-server<3,>=2.4.0->jupyterlab->jupyter->pyegeria) (0.5.3)\n",
      "Requirement already satisfied: overrides>=5.0 in /opt/conda/lib/python3.12/site-packages (from jupyter-server<3,>=2.4.0->jupyterlab->jupyter->pyegeria) (7.7.0)\n",
      "Requirement already satisfied: prometheus-client>=0.9 in /opt/conda/lib/python3.12/site-packages (from jupyter-server<3,>=2.4.0->jupyterlab->jupyter->pyegeria) (0.21.1)\n",
      "Requirement already satisfied: send2trash>=1.8.2 in /opt/conda/lib/python3.12/site-packages (from jupyter-server<3,>=2.4.0->jupyterlab->jupyter->pyegeria) (1.8.3)\n",
      "Requirement already satisfied: terminado>=0.8.3 in /opt/conda/lib/python3.12/site-packages (from jupyter-server<3,>=2.4.0->jupyterlab->jupyter->pyegeria) (0.18.1)\n",
      "Requirement already satisfied: websocket-client>=1.7 in /opt/conda/lib/python3.12/site-packages (from jupyter-server<3,>=2.4.0->jupyterlab->jupyter->pyegeria) (1.8.0)\n",
      "Requirement already satisfied: babel>=2.10 in /opt/conda/lib/python3.12/site-packages (from jupyterlab-server<3,>=2.27.1->jupyterlab->jupyter->pyegeria) (2.16.0)\n",
      "Requirement already satisfied: json5>=0.9.0 in /opt/conda/lib/python3.12/site-packages (from jupyterlab-server<3,>=2.27.1->jupyterlab->jupyter->pyegeria) (0.10.0)\n",
      "Requirement already satisfied: jsonschema>=4.18.0 in /opt/conda/lib/python3.12/site-packages (from jupyterlab-server<3,>=2.27.1->jupyterlab->jupyter->pyegeria) (4.23.0)\n",
      "Requirement already satisfied: uc-micro-py in /opt/conda/lib/python3.12/site-packages (from linkify-it-py<3,>=1->markdown-it-py[linkify,plugins]>=2.1.0->textual->pyegeria) (1.0.3)\n",
      "Requirement already satisfied: fastjsonschema>=2.15 in /opt/conda/lib/python3.12/site-packages (from nbformat>=5.7->nbconvert->jupyter->pyegeria) (2.21.1)\n",
      "Requirement already satisfied: wcwidth in /opt/conda/lib/python3.12/site-packages (from prompt-toolkit>=3.0.30->jupyter-console->jupyter->pyegeria) (0.2.13)\n",
      "Requirement already satisfied: soupsieve>1.2 in /opt/conda/lib/python3.12/site-packages (from beautifulsoup4->nbconvert->jupyter->pyegeria) (2.5)\n",
      "Requirement already satisfied: argon2-cffi-bindings in /opt/conda/lib/python3.12/site-packages (from argon2-cffi>=21.1->jupyter-server<3,>=2.4.0->jupyterlab->jupyter->pyegeria) (21.2.0)\n",
      "Requirement already satisfied: parso<0.9.0,>=0.8.4 in /opt/conda/lib/python3.12/site-packages (from jedi>=0.16->ipython>=7.23.1->ipykernel->jupyter->pyegeria) (0.8.4)\n",
      "Requirement already satisfied: attrs>=22.2.0 in /opt/conda/lib/python3.12/site-packages (from jsonschema>=4.18.0->jupyterlab-server<3,>=2.27.1->jupyterlab->jupyter->pyegeria) (24.3.0)\n",
      "Requirement already satisfied: jsonschema-specifications>=2023.03.6 in /opt/conda/lib/python3.12/site-packages (from jsonschema>=4.18.0->jupyterlab-server<3,>=2.27.1->jupyterlab->jupyter->pyegeria) (2024.10.1)\n",
      "Requirement already satisfied: referencing>=0.28.4 in /opt/conda/lib/python3.12/site-packages (from jsonschema>=4.18.0->jupyterlab-server<3,>=2.27.1->jupyterlab->jupyter->pyegeria) (0.35.1)\n",
      "Requirement already satisfied: rpds-py>=0.7.1 in /opt/conda/lib/python3.12/site-packages (from jsonschema>=4.18.0->jupyterlab-server<3,>=2.27.1->jupyterlab->jupyter->pyegeria) (0.22.3)\n",
      "Requirement already satisfied: python-json-logger>=2.0.4 in /opt/conda/lib/python3.12/site-packages (from jupyter-events>=0.11.0->jupyter-server<3,>=2.4.0->jupyterlab->jupyter->pyegeria) (2.0.7)\n",
      "Requirement already satisfied: pyyaml>=5.3 in /opt/conda/lib/python3.12/site-packages (from jupyter-events>=0.11.0->jupyter-server<3,>=2.4.0->jupyterlab->jupyter->pyegeria) (6.0.2)\n",
      "Requirement already satisfied: rfc3339-validator in /opt/conda/lib/python3.12/site-packages (from jupyter-events>=0.11.0->jupyter-server<3,>=2.4.0->jupyterlab->jupyter->pyegeria) (0.1.4)\n",
      "Requirement already satisfied: rfc3986-validator>=0.1.1 in /opt/conda/lib/python3.12/site-packages (from jupyter-events>=0.11.0->jupyter-server<3,>=2.4.0->jupyterlab->jupyter->pyegeria) (0.1.1)\n",
      "Requirement already satisfied: ptyprocess>=0.5 in /opt/conda/lib/python3.12/site-packages (from pexpect>4.3->ipython>=7.23.1->ipykernel->jupyter->pyegeria) (0.7.0)\n",
      "Requirement already satisfied: six>=1.5 in /opt/conda/lib/python3.12/site-packages (from python-dateutil>=2.8.2->jupyter-client>=6.1.12->ipykernel->jupyter->pyegeria) (1.17.0)\n",
      "Requirement already satisfied: executing>=1.2.0 in /opt/conda/lib/python3.12/site-packages (from stack_data->ipython>=7.23.1->ipykernel->jupyter->pyegeria) (2.1.0)\n",
      "Requirement already satisfied: asttokens>=2.1.0 in /opt/conda/lib/python3.12/site-packages (from stack_data->ipython>=7.23.1->ipykernel->jupyter->pyegeria) (3.0.0)\n",
      "Requirement already satisfied: pure_eval in /opt/conda/lib/python3.12/site-packages (from stack_data->ipython>=7.23.1->ipykernel->jupyter->pyegeria) (0.2.3)\n",
      "Requirement already satisfied: fqdn in /opt/conda/lib/python3.12/site-packages (from jsonschema[format-nongpl]>=4.18.0->jupyter-events>=0.11.0->jupyter-server<3,>=2.4.0->jupyterlab->jupyter->pyegeria) (1.5.1)\n",
      "Requirement already satisfied: isoduration in /opt/conda/lib/python3.12/site-packages (from jsonschema[format-nongpl]>=4.18.0->jupyter-events>=0.11.0->jupyter-server<3,>=2.4.0->jupyterlab->jupyter->pyegeria) (20.11.0)\n",
      "Requirement already satisfied: jsonpointer>1.13 in /opt/conda/lib/python3.12/site-packages (from jsonschema[format-nongpl]>=4.18.0->jupyter-events>=0.11.0->jupyter-server<3,>=2.4.0->jupyterlab->jupyter->pyegeria) (3.0.0)\n",
      "Requirement already satisfied: uri-template in /opt/conda/lib/python3.12/site-packages (from jsonschema[format-nongpl]>=4.18.0->jupyter-events>=0.11.0->jupyter-server<3,>=2.4.0->jupyterlab->jupyter->pyegeria) (1.3.0)\n",
      "Requirement already satisfied: webcolors>=24.6.0 in /opt/conda/lib/python3.12/site-packages (from jsonschema[format-nongpl]>=4.18.0->jupyter-events>=0.11.0->jupyter-server<3,>=2.4.0->jupyterlab->jupyter->pyegeria) (24.11.1)\n",
      "Requirement already satisfied: cffi>=1.0.1 in /opt/conda/lib/python3.12/site-packages (from argon2-cffi-bindings->argon2-cffi>=21.1->jupyter-server<3,>=2.4.0->jupyterlab->jupyter->pyegeria) (1.17.1)\n",
      "Requirement already satisfied: pycparser in /opt/conda/lib/python3.12/site-packages (from cffi>=1.0.1->argon2-cffi-bindings->argon2-cffi>=21.1->jupyter-server<3,>=2.4.0->jupyterlab->jupyter->pyegeria) (2.22)\n",
      "Requirement already satisfied: arrow>=0.15.0 in /opt/conda/lib/python3.12/site-packages (from isoduration->jsonschema[format-nongpl]>=4.18.0->jupyter-events>=0.11.0->jupyter-server<3,>=2.4.0->jupyterlab->jupyter->pyegeria) (1.3.0)\n",
      "Requirement already satisfied: types-python-dateutil>=2.8.10 in /opt/conda/lib/python3.12/site-packages (from arrow>=0.15.0->isoduration->jsonschema[format-nongpl]>=4.18.0->jupyter-events>=0.11.0->jupyter-server<3,>=2.4.0->jupyterlab->jupyter->pyegeria) (2.9.0.20241206)\n",
      "Downloading pyegeria-5.3.4.22-py3-none-any.whl (44.1 MB)\n",
      "\u001b[2K   \u001b[90m━━━━━━━━━━━━━━━━━━━━━━━━━━━━━━━━━━━━━━━━\u001b[0m \u001b[32m44.1/44.1 MB\u001b[0m \u001b[31m91.5 kB/s\u001b[0m eta \u001b[36m0:00:00\u001b[0m00:02\u001b[0m00:13\u001b[0mm\n",
      "Installing collected packages: pyegeria\n",
      "  Attempting uninstall: pyegeria\n",
      "    Found existing installation: pyegeria 5.3.4.3\n",
      "    Uninstalling pyegeria-5.3.4.3:\n",
      "      Successfully uninstalled pyegeria-5.3.4.3\n",
      "Successfully installed pyegeria-5.3.4.22\n",
      "Note: you may need to restart the kernel to use updated packages.\n"
     ]
    }
   ],
   "source": [
    "pip install pyegeria --upgrade"
   ]
  },
  {
   "cell_type": "markdown",
   "id": "da0e39b0-1288-4703-82a3-aabca5af1ac9",
   "metadata": {},
   "source": [
    "----\n",
    "If the libraries are upgraded, you will need to restart the python kernel.  From the JupyterLab menubar select `Kernel->Restart Kernel...` and then confirm that you want the kernel to restart.\n",
    "\n",
    "The next step is to check that the widgets and CLI are up-to-date.  For this you need a Terminal window.  Click on the plus (+) to open an new tab.  This displays the launcher page.  Then click on *Terminal* to open up the Terminal window.\n",
    "\n",
    "----\n",
    "\n",
    "![Launcher](images/launcher.png)\n",
    "\n",
    "----\n",
    "\n",
    "From the Terminal window enter the command `pipx upgrade pyegeria` command.   This will upgrade the CLI if required.\n",
    "\n",
    "```\n",
    "$ pipx upgrade pyegeria\n",
    "Upgraded package pyegeria from 0.7.45 to 0.8.4.1 (location: /home/jovyan/.local/share/venvs/pipx/pyegeria)\n",
    "$\n",
    "\n",
    "```\n",
    "\n",
    "As a quick check to ensure the CLI is correctly installed, enter `pipx list` in the terminal window.  This will show all of the commands currently available.\n",
    "\n",
    "As pyegeria is being actively enhanced, the list of commands continues to grow and evolve.\n",
    "\n",
    "# Using the pyegeria python functions\n",
    "\n",
    "\n",
    "----"
   ]
  },
  {
   "cell_type": "markdown",
   "id": "511eb747-f5cf-4ea6-89a0-9d181a48206f",
   "metadata": {},
   "source": [
    "## First, we'll do a bit of set up so we can use the pyegeria functions."
   ]
  },
  {
   "cell_type": "code",
   "execution_count": null,
   "id": "c642c879-7f62-4acb-9b92-23c18a022497",
   "metadata": {},
   "outputs": [],
   "source": [
    "import os\n",
    "import asyncio\n",
    "import nest_asyncio\n",
    "nest_asyncio.apply()\n"
   ]
  },
  {
   "cell_type": "markdown",
   "id": "37bc4ce3-2f30-42e2-bb0b-d873b6b49f80",
   "metadata": {},
   "source": [
    "## Importing pyegeria commands\n",
    "\n",
    "To use the pyegeria commands within jupyter we must first import them. The following line imports the `display_integration_daemon_status` command that displays the status of connectors within the specified integration daemon."
   ]
  },
  {
   "cell_type": "code",
   "execution_count": null,
   "id": "a0af44cc-894b-40a1-a8cf-352d9c2c593d",
   "metadata": {},
   "outputs": [],
   "source": [
    "from pyegeria.commands import display_integration_daemon_status\n"
   ]
  },
  {
   "cell_type": "markdown",
   "id": "870c9239-3b8c-4f0b-955f-a4c391fb1fe6",
   "metadata": {},
   "source": [
    "Each command is defined with a sensible set of defaults. So if we execute the following line we will see a table listing the status of all registered connectors. Setting the paging parameter to True asks for a paged output, rather than a continuously updated view that might not work well in Jupyter."
   ]
  },
  {
   "cell_type": "code",
   "execution_count": null,
   "id": "1a51f48a-a7c0-47d7-ad76-b037cd9cbf28",
   "metadata": {},
   "outputs": [],
   "source": [
    "display_integration_daemon_status(paging=True, width=180)"
   ]
  },
  {
   "cell_type": "markdown",
   "id": "20a1a12c-e054-4f09-9fed-09b9b87d6e1d",
   "metadata": {},
   "source": [
    "----\n",
    "\n",
    "**Of course the list of connectors that we show depends on what metadata archives have been loaded...**\n",
    "\n",
    "----"
   ]
  },
  {
   "cell_type": "markdown",
   "id": "6a6c783f-2c8a-46a0-b06b-2237037e31ef",
   "metadata": {},
   "source": [
    "To understand this further, lets use the help command to look at how this command is defined. "
   ]
  },
  {
   "cell_type": "code",
   "execution_count": null,
   "id": "49b00290-d8ce-431f-a211-f0b2e3923e99",
   "metadata": {},
   "outputs": [],
   "source": [
    "help(display_integration_daemon_status)"
   ]
  },
  {
   "cell_type": "markdown",
   "id": "6a2e0d0d-f1ff-41fc-a776-c9d90f2a560f",
   "metadata": {},
   "source": [
    "----\n",
    "\n",
    "From the help listing, we can see that in fact the command takes quite a few parameters, allowing us signficant flexibility in how we use the command. Most notably, we can see that if we specify a `search_list` then we can filter the output to only match the connectors we want to retrieve status for. Most of the other parameters will default to their equivalent values set in the environment variables. But we can override any of them if we need to. Lets experiment with the `search_list`.\n",
    "\n",
    "----"
   ]
  },
  {
   "cell_type": "code",
   "execution_count": null,
   "id": "3486c066-a7a4-47ab-8012-33ec226c1573",
   "metadata": {},
   "outputs": [],
   "source": [
    "display_integration_daemon_status(['UnityCatalogServerSynchronizer'])"
   ]
  },
  {
   "cell_type": "markdown",
   "id": "24901ed0-7025-4af8-98d0-43616c5ebe0f",
   "metadata": {},
   "source": [
    "We can also specify a list of connectors to display the status of."
   ]
  },
  {
   "cell_type": "code",
   "execution_count": null,
   "id": "c83bd2ec-2438-446a-b559-ef09f4b8e585",
   "metadata": {},
   "outputs": [],
   "source": [
    "display_integration_daemon_status(['UnityCatalogServerSynchronizer', 'FilesCataloguer'])"
   ]
  },
  {
   "cell_type": "markdown",
   "id": "20a3c06d-a67c-4332-b69c-6828ca6b27cc",
   "metadata": {},
   "source": [
    "## Experimenting\n",
    "\n",
    "There are number of commands available to be used in the jupyter environment - and more will come as needed. The following cell imports all the currently available commands for you to experiment with. Have fun!\n"
   ]
  },
  {
   "cell_type": "code",
   "execution_count": null,
   "id": "fdd43df6-e9d2-4a34-a6ab-f79db6e309f5",
   "metadata": {},
   "outputs": [],
   "source": [
    "from pyegeria.commands import (display_gov_eng_status, display_integration_daemon_status, display_engine_activity_c, display_glossaries, display_glossary_terms, list_deployed_catalogs, \n",
    "    list_deployed_database_schemas, list_deployed_databases)\n"
   ]
  },
  {
   "cell_type": "code",
   "execution_count": null,
   "id": "8f5c09e8-993b-4871-baba-ba5fc58475ee",
   "metadata": {},
   "outputs": [],
   "source": [
    "display_glossaries()\n",
    "display_glossary_terms()"
   ]
  },
  {
   "cell_type": "code",
   "execution_count": null,
   "id": "fbc0fa69-bf0a-4a04-ad8f-a6ecbeafa000",
   "metadata": {},
   "outputs": [],
   "source": []
  }
 ],
 "metadata": {
  "kernelspec": {
   "display_name": "Python 3 (ipykernel)",
   "language": "python",
   "name": "python3"
  },
  "language_info": {
   "codemirror_mode": {
    "name": "ipython",
    "version": 3
   },
   "file_extension": ".py",
   "mimetype": "text/x-python",
   "name": "python",
   "nbconvert_exporter": "python",
   "pygments_lexer": "ipython3",
   "version": "3.12.8"
  }
 },
 "nbformat": 4,
 "nbformat_minor": 5
}

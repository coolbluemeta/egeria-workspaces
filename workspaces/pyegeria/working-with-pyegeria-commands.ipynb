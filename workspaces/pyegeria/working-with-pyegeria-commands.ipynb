{
 "cells": [
  {
   "cell_type": "markdown",
   "id": "7bd735e1-0cf2-4d62-a1aa-35872ada5719",
   "metadata": {},
   "source": [
    "<!-- SPDX-License-Identifier: CC-BY-4.0 -->\n",
    "<!-- Copyright Contributors to the ODPi Egeria project 2024. -->\n",
    "\n",
    "![Egeria Logo](https://raw.githubusercontent.com/odpi/egeria/main/assets/img/ODPi_Egeria_Logo_color.png)\n",
    "\n",
    "### Egeria Workbook\n",
    "\n",
    "# Working with pyegeria commands\n",
    "\n",
    "## Introduction\n",
    "\n",
    "The `pyegeria` python library provides a wide-ranging set of python functions for interacting with the Egeria runtime.  In addition there is a command level interface (CLI) for issuing commands to Egeria and widgets to display information held by Egeria. The CLI and pyegeria commands are normally called from a terminal window. However, many of the functions can also be called within a Jupyter Notebook. \n",
    "\n",
    "This notebook provides an introduction to calling pyegeria commands within a notebook.\n",
    "\n",
    "## Ensuring you have the latest level of pyegeria\n",
    "\n",
    "Pyegeria is installed in this JupyterLab environment.  However, it is advancing rapidly and it is worthwhile checking that you have the latest level.  Firstly, to upgrade the base python functions, run the following command:\n",
    "\n",
    "-----"
   ]
  },
  {
   "cell_type": "code",
   "execution_count": 1,
   "id": "a59eff5e-439e-4598-8993-e3b76b73e5d3",
   "metadata": {
    "execution": {
     "iopub.execute_input": "2025-01-21T12:59:24.119556Z",
     "iopub.status.busy": "2025-01-21T12:59:24.119412Z",
     "iopub.status.idle": "2025-01-21T13:01:33.722246Z",
     "shell.execute_reply": "2025-01-21T13:01:33.721685Z",
     "shell.execute_reply.started": "2025-01-21T12:59:24.119547Z"
    }
   },
   "outputs": [
    {
     "name": "stdout",
     "output_type": "stream",
     "text": [
      "Requirement already satisfied: pyegeria in /opt/conda/lib/python3.12/site-packages (5.3.1)\n",
      "Collecting pyegeria\n",
      "  Downloading pyegeria-5.3.3.2-py3-none-any.whl.metadata (2.7 kB)\n",
      "Requirement already satisfied: click in /opt/conda/lib/python3.12/site-packages (from pyegeria) (8.1.8)\n",
      "Requirement already satisfied: confluent-kafka in /opt/conda/lib/python3.12/site-packages (from pyegeria) (2.8.0)\n",
      "Requirement already satisfied: httpx in /opt/conda/lib/python3.12/site-packages (from pyegeria) (0.28.1)\n",
      "Requirement already satisfied: jupyter in /opt/conda/lib/python3.12/site-packages (from pyegeria) (1.1.1)\n",
      "Requirement already satisfied: mermaid-py in /opt/conda/lib/python3.12/site-packages (from pyegeria) (0.7.0)\n",
      "Requirement already satisfied: psycopg2-binary<3.0.0,>=2.9.9 in /opt/conda/lib/python3.12/site-packages (from pyegeria) (2.9.10)\n",
      "Requirement already satisfied: pytest<9.0.0,>=8.2.2 in /opt/conda/lib/python3.12/site-packages (from pyegeria) (8.3.4)\n",
      "Requirement already satisfied: requests in /opt/conda/lib/python3.12/site-packages (from pyegeria) (2.32.3)\n",
      "Requirement already satisfied: rich in /opt/conda/lib/python3.12/site-packages (from pyegeria) (13.9.4)\n",
      "Requirement already satisfied: textual in /opt/conda/lib/python3.12/site-packages (from pyegeria) (1.0.0)\n",
      "Requirement already satisfied: trogon<0.7.0,>=0.6.0 in /opt/conda/lib/python3.12/site-packages (from pyegeria) (0.6.0)\n",
      "Requirement already satisfied: urllib3 in /opt/conda/lib/python3.12/site-packages (from pyegeria) (2.3.0)\n",
      "Requirement already satisfied: validators in /opt/conda/lib/python3.12/site-packages (from pyegeria) (0.34.0)\n",
      "Requirement already satisfied: iniconfig in /opt/conda/lib/python3.12/site-packages (from pytest<9.0.0,>=8.2.2->pyegeria) (2.0.0)\n",
      "Requirement already satisfied: packaging in /opt/conda/lib/python3.12/site-packages (from pytest<9.0.0,>=8.2.2->pyegeria) (24.2)\n",
      "Requirement already satisfied: pluggy<2,>=1.5 in /opt/conda/lib/python3.12/site-packages (from pytest<9.0.0,>=8.2.2->pyegeria) (1.5.0)\n",
      "Requirement already satisfied: markdown-it-py>=2.1.0 in /opt/conda/lib/python3.12/site-packages (from markdown-it-py[linkify,plugins]>=2.1.0->textual->pyegeria) (3.0.0)\n",
      "Requirement already satisfied: platformdirs<5,>=3.6.0 in /opt/conda/lib/python3.12/site-packages (from textual->pyegeria) (4.3.6)\n",
      "Requirement already satisfied: typing-extensions<5.0.0,>=4.4.0 in /opt/conda/lib/python3.12/site-packages (from textual->pyegeria) (4.12.2)\n",
      "Requirement already satisfied: pygments<3.0.0,>=2.13.0 in /opt/conda/lib/python3.12/site-packages (from rich->pyegeria) (2.19.1)\n",
      "Requirement already satisfied: anyio in /opt/conda/lib/python3.12/site-packages (from httpx->pyegeria) (4.8.0)\n",
      "Requirement already satisfied: certifi in /opt/conda/lib/python3.12/site-packages (from httpx->pyegeria) (2024.12.14)\n",
      "Requirement already satisfied: httpcore==1.* in /opt/conda/lib/python3.12/site-packages (from httpx->pyegeria) (1.0.7)\n",
      "Requirement already satisfied: idna in /opt/conda/lib/python3.12/site-packages (from httpx->pyegeria) (3.10)\n",
      "Requirement already satisfied: h11<0.15,>=0.13 in /opt/conda/lib/python3.12/site-packages (from httpcore==1.*->httpx->pyegeria) (0.14.0)\n",
      "Requirement already satisfied: notebook in /opt/conda/lib/python3.12/site-packages (from jupyter->pyegeria) (7.3.2)\n",
      "Requirement already satisfied: jupyter-console in /opt/conda/lib/python3.12/site-packages (from jupyter->pyegeria) (6.6.3)\n",
      "Requirement already satisfied: nbconvert in /opt/conda/lib/python3.12/site-packages (from jupyter->pyegeria) (7.16.5)\n",
      "Requirement already satisfied: ipykernel in /opt/conda/lib/python3.12/site-packages (from jupyter->pyegeria) (6.29.5)\n",
      "Requirement already satisfied: ipywidgets in /opt/conda/lib/python3.12/site-packages (from jupyter->pyegeria) (8.1.5)\n",
      "Requirement already satisfied: jupyterlab in /opt/conda/lib/python3.12/site-packages (from jupyter->pyegeria) (4.3.4)\n",
      "Requirement already satisfied: charset_normalizer<4,>=2 in /opt/conda/lib/python3.12/site-packages (from requests->pyegeria) (3.4.1)\n",
      "Requirement already satisfied: mdurl~=0.1 in /opt/conda/lib/python3.12/site-packages (from markdown-it-py>=2.1.0->markdown-it-py[linkify,plugins]>=2.1.0->textual->pyegeria) (0.1.2)\n",
      "Requirement already satisfied: linkify-it-py<3,>=1 in /opt/conda/lib/python3.12/site-packages (from markdown-it-py[linkify,plugins]>=2.1.0->textual->pyegeria) (2.0.3)\n",
      "Requirement already satisfied: mdit-py-plugins in /opt/conda/lib/python3.12/site-packages (from markdown-it-py[linkify,plugins]>=2.1.0->textual->pyegeria) (0.4.2)\n",
      "Requirement already satisfied: sniffio>=1.1 in /opt/conda/lib/python3.12/site-packages (from anyio->httpx->pyegeria) (1.3.1)\n",
      "Requirement already satisfied: comm>=0.1.1 in /opt/conda/lib/python3.12/site-packages (from ipykernel->jupyter->pyegeria) (0.2.2)\n",
      "Requirement already satisfied: debugpy>=1.6.5 in /opt/conda/lib/python3.12/site-packages (from ipykernel->jupyter->pyegeria) (1.8.11)\n",
      "Requirement already satisfied: ipython>=7.23.1 in /opt/conda/lib/python3.12/site-packages (from ipykernel->jupyter->pyegeria) (8.31.0)\n",
      "Requirement already satisfied: jupyter-client>=6.1.12 in /opt/conda/lib/python3.12/site-packages (from ipykernel->jupyter->pyegeria) (8.6.3)\n",
      "Requirement already satisfied: jupyter-core!=5.0.*,>=4.12 in /opt/conda/lib/python3.12/site-packages (from ipykernel->jupyter->pyegeria) (5.7.2)\n",
      "Requirement already satisfied: matplotlib-inline>=0.1 in /opt/conda/lib/python3.12/site-packages (from ipykernel->jupyter->pyegeria) (0.1.7)\n",
      "Requirement already satisfied: nest-asyncio in /opt/conda/lib/python3.12/site-packages (from ipykernel->jupyter->pyegeria) (1.6.0)\n",
      "Requirement already satisfied: psutil in /opt/conda/lib/python3.12/site-packages (from ipykernel->jupyter->pyegeria) (6.1.1)\n",
      "Requirement already satisfied: pyzmq>=24 in /opt/conda/lib/python3.12/site-packages (from ipykernel->jupyter->pyegeria) (26.2.0)\n",
      "Requirement already satisfied: tornado>=6.1 in /opt/conda/lib/python3.12/site-packages (from ipykernel->jupyter->pyegeria) (6.4.2)\n",
      "Requirement already satisfied: traitlets>=5.4.0 in /opt/conda/lib/python3.12/site-packages (from ipykernel->jupyter->pyegeria) (5.14.3)\n",
      "Requirement already satisfied: widgetsnbextension~=4.0.12 in /opt/conda/lib/python3.12/site-packages (from ipywidgets->jupyter->pyegeria) (4.0.13)\n",
      "Requirement already satisfied: jupyterlab_widgets~=3.0.12 in /opt/conda/lib/python3.12/site-packages (from ipywidgets->jupyter->pyegeria) (3.0.13)\n",
      "Requirement already satisfied: prompt-toolkit>=3.0.30 in /opt/conda/lib/python3.12/site-packages (from jupyter-console->jupyter->pyegeria) (3.0.48)\n",
      "Requirement already satisfied: async-lru>=1.0.0 in /opt/conda/lib/python3.12/site-packages (from jupyterlab->jupyter->pyegeria) (2.0.4)\n",
      "Requirement already satisfied: jinja2>=3.0.3 in /opt/conda/lib/python3.12/site-packages (from jupyterlab->jupyter->pyegeria) (3.1.5)\n",
      "Requirement already satisfied: jupyter-lsp>=2.0.0 in /opt/conda/lib/python3.12/site-packages (from jupyterlab->jupyter->pyegeria) (2.2.5)\n",
      "Requirement already satisfied: jupyter-server<3,>=2.4.0 in /opt/conda/lib/python3.12/site-packages (from jupyterlab->jupyter->pyegeria) (2.15.0)\n",
      "Requirement already satisfied: jupyterlab-server<3,>=2.27.1 in /opt/conda/lib/python3.12/site-packages (from jupyterlab->jupyter->pyegeria) (2.27.3)\n",
      "Requirement already satisfied: notebook-shim>=0.2 in /opt/conda/lib/python3.12/site-packages (from jupyterlab->jupyter->pyegeria) (0.2.4)\n",
      "Requirement already satisfied: setuptools>=40.8.0 in /opt/conda/lib/python3.12/site-packages (from jupyterlab->jupyter->pyegeria) (75.8.0)\n",
      "Requirement already satisfied: beautifulsoup4 in /opt/conda/lib/python3.12/site-packages (from nbconvert->jupyter->pyegeria) (4.12.3)\n",
      "Requirement already satisfied: bleach!=5.0.0 in /opt/conda/lib/python3.12/site-packages (from bleach[css]!=5.0.0->nbconvert->jupyter->pyegeria) (6.2.0)\n",
      "Requirement already satisfied: defusedxml in /opt/conda/lib/python3.12/site-packages (from nbconvert->jupyter->pyegeria) (0.7.1)\n",
      "Requirement already satisfied: jupyterlab-pygments in /opt/conda/lib/python3.12/site-packages (from nbconvert->jupyter->pyegeria) (0.3.0)\n",
      "Requirement already satisfied: markupsafe>=2.0 in /opt/conda/lib/python3.12/site-packages (from nbconvert->jupyter->pyegeria) (3.0.2)\n",
      "Requirement already satisfied: mistune<4,>=2.0.3 in /opt/conda/lib/python3.12/site-packages (from nbconvert->jupyter->pyegeria) (3.1.0)\n",
      "Requirement already satisfied: nbclient>=0.5.0 in /opt/conda/lib/python3.12/site-packages (from nbconvert->jupyter->pyegeria) (0.10.2)\n",
      "Requirement already satisfied: nbformat>=5.7 in /opt/conda/lib/python3.12/site-packages (from nbconvert->jupyter->pyegeria) (5.10.4)\n",
      "Requirement already satisfied: pandocfilters>=1.4.1 in /opt/conda/lib/python3.12/site-packages (from nbconvert->jupyter->pyegeria) (1.5.0)\n",
      "Requirement already satisfied: webencodings in /opt/conda/lib/python3.12/site-packages (from bleach!=5.0.0->bleach[css]!=5.0.0->nbconvert->jupyter->pyegeria) (0.5.1)\n",
      "Requirement already satisfied: tinycss2<1.5,>=1.1.0 in /opt/conda/lib/python3.12/site-packages (from bleach[css]!=5.0.0->nbconvert->jupyter->pyegeria) (1.4.0)\n",
      "Requirement already satisfied: decorator in /opt/conda/lib/python3.12/site-packages (from ipython>=7.23.1->ipykernel->jupyter->pyegeria) (5.1.1)\n",
      "Requirement already satisfied: jedi>=0.16 in /opt/conda/lib/python3.12/site-packages (from ipython>=7.23.1->ipykernel->jupyter->pyegeria) (0.19.2)\n",
      "Requirement already satisfied: pexpect>4.3 in /opt/conda/lib/python3.12/site-packages (from ipython>=7.23.1->ipykernel->jupyter->pyegeria) (4.9.0)\n",
      "Requirement already satisfied: stack_data in /opt/conda/lib/python3.12/site-packages (from ipython>=7.23.1->ipykernel->jupyter->pyegeria) (0.6.3)\n",
      "Requirement already satisfied: python-dateutil>=2.8.2 in /opt/conda/lib/python3.12/site-packages (from jupyter-client>=6.1.12->ipykernel->jupyter->pyegeria) (2.9.0.post0)\n",
      "Requirement already satisfied: argon2-cffi>=21.1 in /opt/conda/lib/python3.12/site-packages (from jupyter-server<3,>=2.4.0->jupyterlab->jupyter->pyegeria) (23.1.0)\n",
      "Requirement already satisfied: jupyter-events>=0.11.0 in /opt/conda/lib/python3.12/site-packages (from jupyter-server<3,>=2.4.0->jupyterlab->jupyter->pyegeria) (0.11.0)\n",
      "Requirement already satisfied: jupyter-server-terminals>=0.4.4 in /opt/conda/lib/python3.12/site-packages (from jupyter-server<3,>=2.4.0->jupyterlab->jupyter->pyegeria) (0.5.3)\n",
      "Requirement already satisfied: overrides>=5.0 in /opt/conda/lib/python3.12/site-packages (from jupyter-server<3,>=2.4.0->jupyterlab->jupyter->pyegeria) (7.7.0)\n",
      "Requirement already satisfied: prometheus-client>=0.9 in /opt/conda/lib/python3.12/site-packages (from jupyter-server<3,>=2.4.0->jupyterlab->jupyter->pyegeria) (0.21.1)\n",
      "Requirement already satisfied: send2trash>=1.8.2 in /opt/conda/lib/python3.12/site-packages (from jupyter-server<3,>=2.4.0->jupyterlab->jupyter->pyegeria) (1.8.3)\n",
      "Requirement already satisfied: terminado>=0.8.3 in /opt/conda/lib/python3.12/site-packages (from jupyter-server<3,>=2.4.0->jupyterlab->jupyter->pyegeria) (0.18.1)\n",
      "Requirement already satisfied: websocket-client>=1.7 in /opt/conda/lib/python3.12/site-packages (from jupyter-server<3,>=2.4.0->jupyterlab->jupyter->pyegeria) (1.8.0)\n",
      "Requirement already satisfied: babel>=2.10 in /opt/conda/lib/python3.12/site-packages (from jupyterlab-server<3,>=2.27.1->jupyterlab->jupyter->pyegeria) (2.16.0)\n",
      "Requirement already satisfied: json5>=0.9.0 in /opt/conda/lib/python3.12/site-packages (from jupyterlab-server<3,>=2.27.1->jupyterlab->jupyter->pyegeria) (0.10.0)\n",
      "Requirement already satisfied: jsonschema>=4.18.0 in /opt/conda/lib/python3.12/site-packages (from jupyterlab-server<3,>=2.27.1->jupyterlab->jupyter->pyegeria) (4.23.0)\n",
      "Requirement already satisfied: uc-micro-py in /opt/conda/lib/python3.12/site-packages (from linkify-it-py<3,>=1->markdown-it-py[linkify,plugins]>=2.1.0->textual->pyegeria) (1.0.3)\n",
      "Requirement already satisfied: fastjsonschema>=2.15 in /opt/conda/lib/python3.12/site-packages (from nbformat>=5.7->nbconvert->jupyter->pyegeria) (2.21.1)\n",
      "Requirement already satisfied: wcwidth in /opt/conda/lib/python3.12/site-packages (from prompt-toolkit>=3.0.30->jupyter-console->jupyter->pyegeria) (0.2.13)\n",
      "Requirement already satisfied: soupsieve>1.2 in /opt/conda/lib/python3.12/site-packages (from beautifulsoup4->nbconvert->jupyter->pyegeria) (2.5)\n",
      "Requirement already satisfied: argon2-cffi-bindings in /opt/conda/lib/python3.12/site-packages (from argon2-cffi>=21.1->jupyter-server<3,>=2.4.0->jupyterlab->jupyter->pyegeria) (21.2.0)\n",
      "Requirement already satisfied: parso<0.9.0,>=0.8.4 in /opt/conda/lib/python3.12/site-packages (from jedi>=0.16->ipython>=7.23.1->ipykernel->jupyter->pyegeria) (0.8.4)\n",
      "Requirement already satisfied: attrs>=22.2.0 in /opt/conda/lib/python3.12/site-packages (from jsonschema>=4.18.0->jupyterlab-server<3,>=2.27.1->jupyterlab->jupyter->pyegeria) (24.3.0)\n",
      "Requirement already satisfied: jsonschema-specifications>=2023.03.6 in /opt/conda/lib/python3.12/site-packages (from jsonschema>=4.18.0->jupyterlab-server<3,>=2.27.1->jupyterlab->jupyter->pyegeria) (2024.10.1)\n",
      "Requirement already satisfied: referencing>=0.28.4 in /opt/conda/lib/python3.12/site-packages (from jsonschema>=4.18.0->jupyterlab-server<3,>=2.27.1->jupyterlab->jupyter->pyegeria) (0.35.1)\n",
      "Requirement already satisfied: rpds-py>=0.7.1 in /opt/conda/lib/python3.12/site-packages (from jsonschema>=4.18.0->jupyterlab-server<3,>=2.27.1->jupyterlab->jupyter->pyegeria) (0.22.3)\n",
      "Requirement already satisfied: python-json-logger>=2.0.4 in /opt/conda/lib/python3.12/site-packages (from jupyter-events>=0.11.0->jupyter-server<3,>=2.4.0->jupyterlab->jupyter->pyegeria) (2.0.7)\n",
      "Requirement already satisfied: pyyaml>=5.3 in /opt/conda/lib/python3.12/site-packages (from jupyter-events>=0.11.0->jupyter-server<3,>=2.4.0->jupyterlab->jupyter->pyegeria) (6.0.2)\n",
      "Requirement already satisfied: rfc3339-validator in /opt/conda/lib/python3.12/site-packages (from jupyter-events>=0.11.0->jupyter-server<3,>=2.4.0->jupyterlab->jupyter->pyegeria) (0.1.4)\n",
      "Requirement already satisfied: rfc3986-validator>=0.1.1 in /opt/conda/lib/python3.12/site-packages (from jupyter-events>=0.11.0->jupyter-server<3,>=2.4.0->jupyterlab->jupyter->pyegeria) (0.1.1)\n",
      "Requirement already satisfied: ptyprocess>=0.5 in /opt/conda/lib/python3.12/site-packages (from pexpect>4.3->ipython>=7.23.1->ipykernel->jupyter->pyegeria) (0.7.0)\n",
      "Requirement already satisfied: six>=1.5 in /opt/conda/lib/python3.12/site-packages (from python-dateutil>=2.8.2->jupyter-client>=6.1.12->ipykernel->jupyter->pyegeria) (1.17.0)\n",
      "Requirement already satisfied: executing>=1.2.0 in /opt/conda/lib/python3.12/site-packages (from stack_data->ipython>=7.23.1->ipykernel->jupyter->pyegeria) (2.1.0)\n",
      "Requirement already satisfied: asttokens>=2.1.0 in /opt/conda/lib/python3.12/site-packages (from stack_data->ipython>=7.23.1->ipykernel->jupyter->pyegeria) (3.0.0)\n",
      "Requirement already satisfied: pure_eval in /opt/conda/lib/python3.12/site-packages (from stack_data->ipython>=7.23.1->ipykernel->jupyter->pyegeria) (0.2.3)\n",
      "Requirement already satisfied: fqdn in /opt/conda/lib/python3.12/site-packages (from jsonschema[format-nongpl]>=4.18.0->jupyter-events>=0.11.0->jupyter-server<3,>=2.4.0->jupyterlab->jupyter->pyegeria) (1.5.1)\n",
      "Requirement already satisfied: isoduration in /opt/conda/lib/python3.12/site-packages (from jsonschema[format-nongpl]>=4.18.0->jupyter-events>=0.11.0->jupyter-server<3,>=2.4.0->jupyterlab->jupyter->pyegeria) (20.11.0)\n",
      "Requirement already satisfied: jsonpointer>1.13 in /opt/conda/lib/python3.12/site-packages (from jsonschema[format-nongpl]>=4.18.0->jupyter-events>=0.11.0->jupyter-server<3,>=2.4.0->jupyterlab->jupyter->pyegeria) (3.0.0)\n",
      "Requirement already satisfied: uri-template in /opt/conda/lib/python3.12/site-packages (from jsonschema[format-nongpl]>=4.18.0->jupyter-events>=0.11.0->jupyter-server<3,>=2.4.0->jupyterlab->jupyter->pyegeria) (1.3.0)\n",
      "Requirement already satisfied: webcolors>=24.6.0 in /opt/conda/lib/python3.12/site-packages (from jsonschema[format-nongpl]>=4.18.0->jupyter-events>=0.11.0->jupyter-server<3,>=2.4.0->jupyterlab->jupyter->pyegeria) (24.11.1)\n",
      "Requirement already satisfied: cffi>=1.0.1 in /opt/conda/lib/python3.12/site-packages (from argon2-cffi-bindings->argon2-cffi>=21.1->jupyter-server<3,>=2.4.0->jupyterlab->jupyter->pyegeria) (1.17.1)\n",
      "Requirement already satisfied: pycparser in /opt/conda/lib/python3.12/site-packages (from cffi>=1.0.1->argon2-cffi-bindings->argon2-cffi>=21.1->jupyter-server<3,>=2.4.0->jupyterlab->jupyter->pyegeria) (2.22)\n",
      "Requirement already satisfied: arrow>=0.15.0 in /opt/conda/lib/python3.12/site-packages (from isoduration->jsonschema[format-nongpl]>=4.18.0->jupyter-events>=0.11.0->jupyter-server<3,>=2.4.0->jupyterlab->jupyter->pyegeria) (1.3.0)\n",
      "Requirement already satisfied: types-python-dateutil>=2.8.10 in /opt/conda/lib/python3.12/site-packages (from arrow>=0.15.0->isoduration->jsonschema[format-nongpl]>=4.18.0->jupyter-events>=0.11.0->jupyter-server<3,>=2.4.0->jupyterlab->jupyter->pyegeria) (2.9.0.20241206)\n",
      "Downloading pyegeria-5.3.3.2-py3-none-any.whl (44.0 MB)\n",
      "\u001b[2K   \u001b[90m━━━━━━━━━━━━━━━━━━━━━━━━━━━━━━━━━━━━━━━━\u001b[0m \u001b[32m44.0/44.0 MB\u001b[0m \u001b[31m383.3 kB/s\u001b[0m eta \u001b[36m0:00:00\u001b[0m00:01\u001b[0m00:04\u001b[0m\n",
      "Installing collected packages: pyegeria\n",
      "  Attempting uninstall: pyegeria\n",
      "    Found existing installation: pyegeria 5.3.1\n",
      "    Uninstalling pyegeria-5.3.1:\n",
      "      Successfully uninstalled pyegeria-5.3.1\n",
      "Successfully installed pyegeria-5.3.3.2\n",
      "Note: you may need to restart the kernel to use updated packages.\n"
     ]
    }
   ],
   "source": [
    "pip install pyegeria --upgrade"
   ]
  },
  {
   "cell_type": "markdown",
   "id": "da0e39b0-1288-4703-82a3-aabca5af1ac9",
   "metadata": {},
   "source": [
    "----\n",
    "If the libraries are upgraded, you will need to restart the python kernel.  From the JupyterLab menubar select `Kernel->Restart Kernel...` and then confirm that you want the kernel to restart.\n",
    "\n",
    "The next step is to check that the widgets and CLI are up-to-date.  For this you need a Terminal window.  Click on the plus (+) to open an new tab.  This displays the launcher page.  Then click on *Terminal* to open up the Terminal window.\n",
    "\n",
    "----\n",
    "\n",
    "![Launcher](images/launcher.png)\n",
    "\n",
    "----\n",
    "\n",
    "From the Terminal window enter the command `pipx upgrade pyegeria` command.   This will upgrade the CLI if required.\n",
    "\n",
    "```\n",
    "$ pipx upgrade pyegeria\n",
    "Upgraded package pyegeria from 0.7.45 to 0.8.4.1 (location: /home/jovyan/.local/share/venvs/pipx/pyegeria)\n",
    "$\n",
    "\n",
    "```\n",
    "\n",
    "As a quick check to ensure the CLI is correctly installed, enter `pipx list` in the terminal window.  This will show all of the commands currently available.\n",
    "\n",
    "As pyegeria is being actively enhanced, the list of commands continues to grow and evolve.\n",
    "\n",
    "# Using the pyegeria python functions\n",
    "\n",
    "\n",
    "----"
   ]
  },
  {
   "cell_type": "markdown",
   "id": "511eb747-f5cf-4ea6-89a0-9d181a48206f",
   "metadata": {},
   "source": [
    "## First, we'll do a bit of set up so we can use the pyegeria functions."
   ]
  },
  {
   "cell_type": "code",
   "execution_count": 10,
   "id": "c642c879-7f62-4acb-9b92-23c18a022497",
   "metadata": {
    "execution": {
     "iopub.execute_input": "2025-01-21T13:28:12.838528Z",
     "iopub.status.busy": "2025-01-21T13:28:12.838104Z",
     "iopub.status.idle": "2025-01-21T13:28:12.841160Z",
     "shell.execute_reply": "2025-01-21T13:28:12.840796Z",
     "shell.execute_reply.started": "2025-01-21T13:28:12.838514Z"
    }
   },
   "outputs": [],
   "source": [
    "import os\n",
    "import asyncio\n",
    "import nest_asyncio\n",
    "nest_asyncio.apply()\n"
   ]
  },
  {
   "cell_type": "markdown",
   "id": "37bc4ce3-2f30-42e2-bb0b-d873b6b49f80",
   "metadata": {},
   "source": [
    "## Importing pyegeria commands\n",
    "\n",
    "To use the pyegeria commands within jupyter we must first import them. The following line imports the `display_integration_daemon_status` command that displays the status of connectors within the specified integration daemon."
   ]
  },
  {
   "cell_type": "code",
   "execution_count": 11,
   "id": "a0af44cc-894b-40a1-a8cf-352d9c2c593d",
   "metadata": {
    "execution": {
     "iopub.execute_input": "2025-01-21T13:28:15.500349Z",
     "iopub.status.busy": "2025-01-21T13:28:15.500208Z",
     "iopub.status.idle": "2025-01-21T13:28:15.503301Z",
     "shell.execute_reply": "2025-01-21T13:28:15.502857Z",
     "shell.execute_reply.started": "2025-01-21T13:28:15.500341Z"
    }
   },
   "outputs": [],
   "source": [
    "from pyegeria.commands import display_integration_daemon_status\n"
   ]
  },
  {
   "cell_type": "markdown",
   "id": "870c9239-3b8c-4f0b-955f-a4c391fb1fe6",
   "metadata": {},
   "source": [
    "Each command is defined with a sensible set of defaults. So if we execute the following line we will see a table listing the status of all registered connectors. Setting the paging parameter to True asks for a paged output, rather than a continuously updated view that might not work well in Jupyter."
   ]
  },
  {
   "cell_type": "code",
   "execution_count": 13,
   "id": "1a51f48a-a7c0-47d7-ad76-b037cd9cbf28",
   "metadata": {
    "execution": {
     "iopub.execute_input": "2025-01-21T13:31:54.093075Z",
     "iopub.status.busy": "2025-01-21T13:31:54.092909Z",
     "iopub.status.idle": "2025-01-21T13:31:54.774448Z",
     "shell.execute_reply": "2025-01-21T13:31:54.773841Z",
     "shell.execute_reply.started": "2025-01-21T13:31:54.093063Z"
    }
   },
   "outputs": [
    {
     "name": "stdout",
     "output_type": "stream",
     "text": [
      "                                                                Integration Daemon Status @ Tue Jan 21 13:31:54 2025                                                                \n",
      "╭─────────────────────────────────────────────────────────┬────────────┬────────────────────────────────┬────────────┬─────────────────────────────────┬───────────────────────────╮\n",
      "│                                                         │            │                                │ Min        │                                 │                           │\n",
      "│                                                         │            │                                │ Refresh    │                                 │                           │\n",
      "│ Connector Name                                          │ Status     │ Last Refresh Time              │ (mins)     │ Target Element                  │ Exception Message         │\n",
      "├─────────────────────────────────────────────────────────┼────────────┼────────────────────────────────┼────────────┼─────────────────────────────────┼───────────────────────────┤\n",
      "│ ContentPacksCataloguer                                  │ REFRESHING │ 2025-01-21T13:31:54            │ 60         │                                 │                           │\n",
      "├─────────────────────────────────────────────────────────┼────────────┼────────────────────────────────┼────────────┼─────────────────────────────────┼───────────────────────────┤\n",
      "│ FilesCataloguer                                         │ WAITING    │ 2025-01-21T13:27:28            │ 60         │                                 │                           │\n",
      "├─────────────────────────────────────────────────────────┼────────────┼────────────────────────────────┼────────────┼─────────────────────────────────┼───────────────────────────┤\n",
      "│ JDBCDatabaseCataloguer                                  │ WAITING    │ 2025-01-21T13:27:28            │ 60         │                                 │                           │\n",
      "├─────────────────────────────────────────────────────────┼────────────┼────────────────────────────────┼────────────┼─────────────────────────────────┼───────────────────────────┤\n",
      "│ MaintainLastUpdateDate                                  │ WAITING    │ 2025-01-21T13:27:28            │ 60         │                                 │                           │\n",
      "├─────────────────────────────────────────────────────────┼────────────┼────────────────────────────────┼────────────┼─────────────────────────────────┼───────────────────────────┤\n",
      "│ OMAGServerPlatformCataloguer                            │ WAITING    │ 2025-01-21T13:27:55            │ 60         │                                 │                           │\n",
      "├─────────────────────────────────────────────────────────┼────────────┼────────────────────────────────┼────────────┼─────────────────────────────────┼───────────────────────────┤\n",
      "│ OpenLineageAPIPublisher                                 │ WAITING    │ 2025-01-21T13:27:29            │ 60         │                                 │                           │\n",
      "├─────────────────────────────────────────────────────────┼────────────┼────────────────────────────────┼────────────┼─────────────────────────────────┼───────────────────────────┤\n",
      "│ OpenLineageCataloguer                                   │ WAITING    │ 2025-01-21T13:27:29            │ 60         │                                 │                           │\n",
      "├─────────────────────────────────────────────────────────┼────────────┼────────────────────────────────┼────────────┼─────────────────────────────────┼───────────────────────────┤\n",
      "│ OpenLineageFilePublisher                                │ WAITING    │ 2025-01-21T13:27:29            │ 60         │                                 │                           │\n",
      "├─────────────────────────────────────────────────────────┼────────────┼────────────────────────────────┼────────────┼─────────────────────────────────┼───────────────────────────┤\n",
      "│ OpenLineageGovernanceActionPublisher                    │ WAITING    │ 2025-01-21T13:27:29            │ 60         │                                 │                           │\n",
      "├─────────────────────────────────────────────────────────┼────────────┼────────────────────────────────┼────────────┼─────────────────────────────────┼───────────────────────────┤\n",
      "│ OpenLineageKafkaListener                                │ WAITING    │ 2025-01-21T13:27:30            │ 60         │                                 │                           │\n",
      "├─────────────────────────────────────────────────────────┼────────────┼────────────────────────────────┼────────────┼─────────────────────────────────┼───────────────────────────┤\n",
      "│ SampleDataCataloguer                                    │ WAITING    │ 2025-01-21T13:31:52            │ 1440       │                                 │                           │\n",
      "╰─────────────────────────────────────────────────────────┴────────────┴────────────────────────────────┴────────────┴─────────────────────────────────┴───────────────────────────╯\n",
      "                                    Integration Daemon Status for Server 'qs-integration-daemon' @ Platform - https://host.docker.internal:9443                                     \n"
     ]
    },
    {
     "data": {
      "text/html": [
       "<pre style=\"white-space:pre;overflow-x:auto;line-height:normal;font-family:Menlo,'DejaVu Sans Mono',consolas,'Courier New',monospace\"></pre>\n"
      ],
      "text/plain": []
     },
     "metadata": {},
     "output_type": "display_data"
    }
   ],
   "source": [
    "display_integration_daemon_status(paging=True, width=180)"
   ]
  },
  {
   "cell_type": "markdown",
   "id": "20a1a12c-e054-4f09-9fed-09b9b87d6e1d",
   "metadata": {},
   "source": [
    "----\n",
    "\n",
    "**Of course the list of connectors that we show depends on what metadata archives have been loaded...**\n",
    "\n",
    "----"
   ]
  },
  {
   "cell_type": "markdown",
   "id": "6a6c783f-2c8a-46a0-b06b-2237037e31ef",
   "metadata": {},
   "source": [
    "To understand this further, lets use the help command to look at how this command is defined. "
   ]
  },
  {
   "cell_type": "code",
   "execution_count": 14,
   "id": "49b00290-d8ce-431f-a211-f0b2e3923e99",
   "metadata": {
    "execution": {
     "iopub.execute_input": "2025-01-21T13:34:29.642875Z",
     "iopub.status.busy": "2025-01-21T13:34:29.642734Z",
     "iopub.status.idle": "2025-01-21T13:34:29.646550Z",
     "shell.execute_reply": "2025-01-21T13:34:29.646209Z",
     "shell.execute_reply.started": "2025-01-21T13:34:29.642863Z"
    }
   },
   "outputs": [
    {
     "name": "stdout",
     "output_type": "stream",
     "text": [
      "Help on function display_integration_daemon_status in module pyegeria.commands.ops.monitor_integ_daemon_status:\n",
      "\n",
      "display_integration_daemon_status(search_list: list[str] = ['*'], integ_server: str = 'qs-integration-daemon', integ_url: str = 'https://host.docker.internal:9443', view_server: str = 'qs-view-server', view_url: str = 'https://host.docker.internal:9443', user: str = 'erinoverview', user_pass: str = 'secret', paging: bool = False, jupyter: bool = 'True', width: int = '200', sort: bool = True) -> None\n",
      "    Display the status of connectors running on the specified Integration Daemon OMAG Server.\n",
      "\n",
      "    Parameters\n",
      "    ----------\n",
      "    search_list : list[str], optional\n",
      "        A list of connector names to search for. Default is [\"*\"], which returns all connectors.\n",
      "\n",
      "    integ_server : str, optional\n",
      "        The name of the integration daemon server. Default is EGERIA_INTEGRATION_DAEMON.\n",
      "\n",
      "    integ_url : str, optional\n",
      "        The URL of the integration daemon server. Default is EGERIA_INTEGRATION_DAEMON_URL.\n",
      "\n",
      "    view_server : str, optional\n",
      "        The name of the view server. Default is EGERIA_VIEW_SERVER.\n",
      "\n",
      "    view_url : str, optional\n",
      "        The URL of the view server. Default is EGERIA_VIEW_SERVER_URL.\n",
      "\n",
      "    user : str, optional\n",
      "        The username for authentication. Default is EGERIA_USER.\n",
      "\n",
      "    user_pass : str, optional\n",
      "        The password for authenticated access. Default is EGERIA_USER_PASSWORD.\n",
      "\n",
      "    paging : bool, optional\n",
      "        Determines whether to use paging or a live monitor for console output. Default is True.\n",
      "\n",
      "    jupyter : bool, optional\n",
      "        Determines whether running in a Jupyter environment. Default is EGERIA_JUPYTER.\n",
      "\n",
      "    width : int, optional\n",
      "        The width of the console display. Default is EGERIA_WIDTH.\n",
      "\n",
      "    sort : bool, optional\n",
      "        Determines whether to sort the connector reports. Default is True.\n",
      "\n",
      "    Returns\n",
      "    -------\n",
      "\n",
      "    Nothing\n",
      "\n"
     ]
    }
   ],
   "source": [
    "help(display_integration_daemon_status)"
   ]
  },
  {
   "cell_type": "markdown",
   "id": "6a2e0d0d-f1ff-41fc-a776-c9d90f2a560f",
   "metadata": {},
   "source": [
    "----\n",
    "\n",
    "From the help listing, we can see that in fact the command takes quite a few parameters, allowing us signficant flexibility in how we use the command. Most notably, we can see that if we specify a `search_list` then we can filter the output to only match the connectors we want to retrieve status for. Most of the other parameters will default to their equivalent values set in the environment variables. But we can override any of them if we need to. Lets experiment with the `search_list`.\n",
    "\n",
    "----"
   ]
  },
  {
   "cell_type": "code",
   "execution_count": null,
   "id": "3486c066-a7a4-47ab-8012-33ec226c1573",
   "metadata": {},
   "outputs": [],
   "source": [
    "display_integration_daemon_status(['UnityCatalogServerSynchronizer'])"
   ]
  },
  {
   "cell_type": "markdown",
   "id": "24901ed0-7025-4af8-98d0-43616c5ebe0f",
   "metadata": {},
   "source": [
    "We can also specify a list of connectors to display the status of."
   ]
  },
  {
   "cell_type": "code",
   "execution_count": null,
   "id": "c83bd2ec-2438-446a-b559-ef09f4b8e585",
   "metadata": {},
   "outputs": [],
   "source": [
    "display_integration_daemon_status(['UnityCatalogServerSynchronizer', 'FilesCataloguer'])"
   ]
  },
  {
   "cell_type": "markdown",
   "id": "20a3c06d-a67c-4332-b69c-6828ca6b27cc",
   "metadata": {},
   "source": [
    "## Experimenting\n",
    "\n",
    "There are number of commands available to be used in the jupyter environment - and more will come as needed. The following cell imports all the currently available commands for you to experiment with. Have fun!\n"
   ]
  },
  {
   "cell_type": "code",
   "execution_count": 18,
   "id": "fdd43df6-e9d2-4a34-a6ab-f79db6e309f5",
   "metadata": {
    "execution": {
     "iopub.execute_input": "2025-01-21T13:46:21.619860Z",
     "iopub.status.busy": "2025-01-21T13:46:21.619708Z",
     "iopub.status.idle": "2025-01-21T13:46:21.622748Z",
     "shell.execute_reply": "2025-01-21T13:46:21.622451Z",
     "shell.execute_reply.started": "2025-01-21T13:46:21.619851Z"
    }
   },
   "outputs": [],
   "source": [
    "from pyegeria.commands import (display_gov_eng_status, display_integration_daemon_status, display_engine_activity_c, display_glossaries, display_glossary_terms, list_deployed_catalogs, \n",
    "    list_deployed_database_schemas, list_deployed_databases)\n"
   ]
  },
  {
   "cell_type": "code",
   "execution_count": 20,
   "id": "8f5c09e8-993b-4871-baba-ba5fc58475ee",
   "metadata": {
    "execution": {
     "iopub.execute_input": "2025-01-21T13:46:51.644611Z",
     "iopub.status.busy": "2025-01-21T13:46:51.644456Z",
     "iopub.status.idle": "2025-01-21T13:46:52.184095Z",
     "shell.execute_reply": "2025-01-21T13:46:52.183638Z",
     "shell.execute_reply.started": "2025-01-21T13:46:51.644601Z"
    }
   },
   "outputs": [
    {
     "data": {
      "text/html": [
       "<pre style=\"white-space:pre;overflow-x:auto;line-height:normal;font-family:Menlo,'DejaVu Sans Mono',consolas,'Courier New',monospace\"><span style=\"color: #c0c0c0; text-decoration-color: #c0c0c0; background-color: #000000; font-weight: bold\">                                                                                Glossary List @ Tue Jan 21 13:46:51 2025                                                                                </span>\n",
       "<span style=\"color: #ffffff; text-decoration-color: #ffffff; background-color: #000000; font-weight: bold\">╭──────────────────────────────────┬────────────────────────────────────────┬──────────┬───────────────────────────────────────────────────────┬───────────────────────────────────────────────────────╮</span>\n",
       "<span style=\"color: #ffffff; text-decoration-color: #ffffff; background-color: #000000; font-weight: bold\">│</span><span style=\"color: #ffffff; text-decoration-color: #ffffff; background-color: #000087; font-weight: bold\"> Glossary Name                    </span><span style=\"color: #ffffff; text-decoration-color: #ffffff; background-color: #000000; font-weight: bold\">│</span><span style=\"color: #ffffff; text-decoration-color: #ffffff; background-color: #000087; font-weight: bold\">         Qualified Name &amp; GUID          </span><span style=\"color: #ffffff; text-decoration-color: #ffffff; background-color: #000000; font-weight: bold\">│</span><span style=\"color: #ffffff; text-decoration-color: #ffffff; background-color: #000087; font-weight: bold\"> Language </span><span style=\"color: #ffffff; text-decoration-color: #ffffff; background-color: #000000; font-weight: bold\">│</span><span style=\"color: #ffffff; text-decoration-color: #ffffff; background-color: #000087; font-weight: bold\"> Description                                           </span><span style=\"color: #ffffff; text-decoration-color: #ffffff; background-color: #000000; font-weight: bold\">│</span><span style=\"color: #ffffff; text-decoration-color: #ffffff; background-color: #000087; font-weight: bold\"> Usage                                                 </span><span style=\"color: #ffffff; text-decoration-color: #ffffff; background-color: #000000; font-weight: bold\">│</span>\n",
       "<span style=\"color: #ffffff; text-decoration-color: #ffffff; background-color: #000000; font-weight: bold\">├──────────────────────────────────┼────────────────────────────────────────┼──────────┼───────────────────────────────────────────────────────┼───────────────────────────────────────────────────────┤</span>\n",
       "<span style=\"color: #ffffff; text-decoration-color: #ffffff; background-color: #000000; font-weight: bold\">│ Sustainability Glossary          │        Glossary:Sustainability         │ English  │ Terminology associated with Coco Pharmaceutical's     │ For all Coco Pharmaceutical employees wishing to      │</span>\n",
       "<span style=\"color: #ffffff; text-decoration-color: #ffffff; background-color: #000000; font-weight: bold\">│                                  │                   &amp;                    │          │ sustainability initiative.                            │ understand more about sustainability and the          │</span>\n",
       "<span style=\"color: #ffffff; text-decoration-color: #ffffff; background-color: #000000; font-weight: bold\">│                                  │  30bfe79e-adf2-4fda-b9c5-9c86ad6b0d6c  │          │                                                       │ organization's efforts to improve its operations.     │</span>\n",
       "<span style=\"color: #ffffff; text-decoration-color: #ffffff; background-color: #000000; font-weight: bold\">├──────────────────────────────────┼────────────────────────────────────────┼──────────┼───────────────────────────────────────────────────────┼───────────────────────────────────────────────────────┤</span>\n",
       "<span style=\"color: #ffffff; text-decoration-color: #ffffff; background-color: #000000; font-weight: bold\">│ Teddy Bear Drop Foot Terminology │ Glossary:TeddyBearDropFootTerminology  │ English  │ This glossary describes terminology invented for the  │ Used with the Teddy Bear Drop Foot Demonstration      │</span>\n",
       "<span style=\"color: #ffffff; text-decoration-color: #ffffff; background-color: #000000; font-weight: bold\">│                                  │                   &amp;                    │          │ fictitious study into Teddy Bear Drop Foot that is    │ Study.                                                │</span>\n",
       "<span style=\"color: #ffffff; text-decoration-color: #ffffff; background-color: #000000; font-weight: bold\">│                                  │  c103d0c9-7581-47e1-a684-6bbe0ecd596f  │          │ being used to demonstrate aspects of open governance  │                                                       │</span>\n",
       "<span style=\"color: #ffffff; text-decoration-color: #ffffff; background-color: #000000; font-weight: bold\">│                                  │                                        │          │ without risk to real patient data.                    │                                                       │</span>\n",
       "<span style=\"color: #ffffff; text-decoration-color: #ffffff; background-color: #000000; font-weight: bold\">╰──────────────────────────────────┴────────────────────────────────────────┴──────────┴───────────────────────────────────────────────────────┴───────────────────────────────────────────────────────╯</span>\n",
       "<span style=\"color: #c0c0c0; text-decoration-color: #c0c0c0; background-color: #000000; font-weight: bold\">                                                              View Server 'qs-view-server' @ Platform - https://host.docker.internal:9443                                                               </span>\n",
       "</pre>\n"
      ],
      "text/plain": [
       "\u001b[1;37;40m                                                                                Glossary List @ Tue Jan 21 13:46:51 2025                                                                                \u001b[0m\n",
       "\u001b[1;97;40m╭──────────────────────────────────┬────────────────────────────────────────┬──────────┬───────────────────────────────────────────────────────┬───────────────────────────────────────────────────────╮\u001b[0m\n",
       "\u001b[1;97;40m│\u001b[0m\u001b[1;97;48;5;18m \u001b[0m\u001b[1;97;48;5;18mGlossary Name                   \u001b[0m\u001b[1;97;48;5;18m \u001b[0m\u001b[1;97;40m│\u001b[0m\u001b[1;97;48;5;18m \u001b[0m\u001b[1;97;48;5;18m        Qualified Name & GUID         \u001b[0m\u001b[1;97;48;5;18m \u001b[0m\u001b[1;97;40m│\u001b[0m\u001b[1;97;48;5;18m \u001b[0m\u001b[1;97;48;5;18mLanguage\u001b[0m\u001b[1;97;48;5;18m \u001b[0m\u001b[1;97;40m│\u001b[0m\u001b[1;97;48;5;18m \u001b[0m\u001b[1;97;48;5;18mDescription                                          \u001b[0m\u001b[1;97;48;5;18m \u001b[0m\u001b[1;97;40m│\u001b[0m\u001b[1;97;48;5;18m \u001b[0m\u001b[1;97;48;5;18mUsage                                                \u001b[0m\u001b[1;97;48;5;18m \u001b[0m\u001b[1;97;40m│\u001b[0m\n",
       "\u001b[1;97;40m├──────────────────────────────────┼────────────────────────────────────────┼──────────┼───────────────────────────────────────────────────────┼───────────────────────────────────────────────────────┤\u001b[0m\n",
       "\u001b[1;97;40m│\u001b[0m\u001b[1;97;40m \u001b[0m\u001b[1;97;40mSustainability Glossary         \u001b[0m\u001b[1;97;40m \u001b[0m\u001b[1;97;40m│\u001b[0m\u001b[1;97;40m \u001b[0m\u001b[1;97;40m       Glossary:Sustainability        \u001b[0m\u001b[1;97;40m \u001b[0m\u001b[1;97;40m│\u001b[0m\u001b[1;97;40m \u001b[0m\u001b[1;97;40mEnglish \u001b[0m\u001b[1;97;40m \u001b[0m\u001b[1;97;40m│\u001b[0m\u001b[1;97;40m \u001b[0m\u001b[1;97;40mTerminology associated with Coco Pharmaceutical's    \u001b[0m\u001b[1;97;40m \u001b[0m\u001b[1;97;40m│\u001b[0m\u001b[1;97;40m \u001b[0m\u001b[1;97;40mFor all Coco Pharmaceutical employees wishing to     \u001b[0m\u001b[1;97;40m \u001b[0m\u001b[1;97;40m│\u001b[0m\n",
       "\u001b[1;97;40m│\u001b[0m\u001b[1;97;40m                                  \u001b[0m\u001b[1;97;40m│\u001b[0m\u001b[1;97;40m \u001b[0m\u001b[1;97;40m                  &                   \u001b[0m\u001b[1;97;40m \u001b[0m\u001b[1;97;40m│\u001b[0m\u001b[1;97;40m          \u001b[0m\u001b[1;97;40m│\u001b[0m\u001b[1;97;40m \u001b[0m\u001b[1;97;40msustainability initiative.                           \u001b[0m\u001b[1;97;40m \u001b[0m\u001b[1;97;40m│\u001b[0m\u001b[1;97;40m \u001b[0m\u001b[1;97;40munderstand more about sustainability and the         \u001b[0m\u001b[1;97;40m \u001b[0m\u001b[1;97;40m│\u001b[0m\n",
       "\u001b[1;97;40m│\u001b[0m\u001b[1;97;40m                                  \u001b[0m\u001b[1;97;40m│\u001b[0m\u001b[1;97;40m \u001b[0m\u001b[1;97;40m 30bfe79e-adf2-4fda-b9c5-9c86ad6b0d6c \u001b[0m\u001b[1;97;40m \u001b[0m\u001b[1;97;40m│\u001b[0m\u001b[1;97;40m          \u001b[0m\u001b[1;97;40m│\u001b[0m\u001b[1;97;40m                                                       \u001b[0m\u001b[1;97;40m│\u001b[0m\u001b[1;97;40m \u001b[0m\u001b[1;97;40morganization's efforts to improve its operations.    \u001b[0m\u001b[1;97;40m \u001b[0m\u001b[1;97;40m│\u001b[0m\n",
       "\u001b[1;97;40m├──────────────────────────────────┼────────────────────────────────────────┼──────────┼───────────────────────────────────────────────────────┼───────────────────────────────────────────────────────┤\u001b[0m\n",
       "\u001b[1;97;40m│\u001b[0m\u001b[1;97;40m \u001b[0m\u001b[1;97;40mTeddy Bear Drop Foot Terminology\u001b[0m\u001b[1;97;40m \u001b[0m\u001b[1;97;40m│\u001b[0m\u001b[1;97;40m \u001b[0m\u001b[1;97;40mGlossary:TeddyBearDropFootTerminology \u001b[0m\u001b[1;97;40m \u001b[0m\u001b[1;97;40m│\u001b[0m\u001b[1;97;40m \u001b[0m\u001b[1;97;40mEnglish \u001b[0m\u001b[1;97;40m \u001b[0m\u001b[1;97;40m│\u001b[0m\u001b[1;97;40m \u001b[0m\u001b[1;97;40mThis glossary describes terminology invented for the \u001b[0m\u001b[1;97;40m \u001b[0m\u001b[1;97;40m│\u001b[0m\u001b[1;97;40m \u001b[0m\u001b[1;97;40mUsed with the Teddy Bear Drop Foot Demonstration     \u001b[0m\u001b[1;97;40m \u001b[0m\u001b[1;97;40m│\u001b[0m\n",
       "\u001b[1;97;40m│\u001b[0m\u001b[1;97;40m                                  \u001b[0m\u001b[1;97;40m│\u001b[0m\u001b[1;97;40m \u001b[0m\u001b[1;97;40m                  &                   \u001b[0m\u001b[1;97;40m \u001b[0m\u001b[1;97;40m│\u001b[0m\u001b[1;97;40m          \u001b[0m\u001b[1;97;40m│\u001b[0m\u001b[1;97;40m \u001b[0m\u001b[1;97;40mfictitious study into Teddy Bear Drop Foot that is   \u001b[0m\u001b[1;97;40m \u001b[0m\u001b[1;97;40m│\u001b[0m\u001b[1;97;40m \u001b[0m\u001b[1;97;40mStudy.                                               \u001b[0m\u001b[1;97;40m \u001b[0m\u001b[1;97;40m│\u001b[0m\n",
       "\u001b[1;97;40m│\u001b[0m\u001b[1;97;40m                                  \u001b[0m\u001b[1;97;40m│\u001b[0m\u001b[1;97;40m \u001b[0m\u001b[1;97;40m c103d0c9-7581-47e1-a684-6bbe0ecd596f \u001b[0m\u001b[1;97;40m \u001b[0m\u001b[1;97;40m│\u001b[0m\u001b[1;97;40m          \u001b[0m\u001b[1;97;40m│\u001b[0m\u001b[1;97;40m \u001b[0m\u001b[1;97;40mbeing used to demonstrate aspects of open governance \u001b[0m\u001b[1;97;40m \u001b[0m\u001b[1;97;40m│\u001b[0m\u001b[1;97;40m                                                       \u001b[0m\u001b[1;97;40m│\u001b[0m\n",
       "\u001b[1;97;40m│\u001b[0m\u001b[1;97;40m                                  \u001b[0m\u001b[1;97;40m│\u001b[0m\u001b[1;97;40m                                        \u001b[0m\u001b[1;97;40m│\u001b[0m\u001b[1;97;40m          \u001b[0m\u001b[1;97;40m│\u001b[0m\u001b[1;97;40m \u001b[0m\u001b[1;97;40mwithout risk to real patient data.                   \u001b[0m\u001b[1;97;40m \u001b[0m\u001b[1;97;40m│\u001b[0m\u001b[1;97;40m                                                       \u001b[0m\u001b[1;97;40m│\u001b[0m\n",
       "\u001b[1;97;40m╰──────────────────────────────────┴────────────────────────────────────────┴──────────┴───────────────────────────────────────────────────────┴───────────────────────────────────────────────────────╯\u001b[0m\n",
       "\u001b[1;37;40m                                                              View Server 'qs-view-server' @ Platform - https://host.docker.internal:9443                                                               \u001b[0m\n"
      ]
     },
     "metadata": {},
     "output_type": "display_data"
    },
    {
     "name": "stdout",
     "output_type": "stream",
     "text": [
      "No terms found!\n"
     ]
    },
    {
     "data": {
      "text/html": [
       "<pre style=\"white-space:pre;overflow-x:auto;line-height:normal;font-family:Menlo,'DejaVu Sans Mono',consolas,'Courier New',monospace\"></pre>\n"
      ],
      "text/plain": []
     },
     "metadata": {},
     "output_type": "display_data"
    },
    {
     "ename": "SystemExit",
     "evalue": "0",
     "output_type": "error",
     "traceback": [
      "An exception has occurred, use %tb to see the full traceback.\n",
      "\u001b[0;31mSystemExit\u001b[0m\u001b[0;31m:\u001b[0m 0\n"
     ]
    }
   ],
   "source": [
    "display_glossaries()\n",
    "display_glossary_terms()"
   ]
  },
  {
   "cell_type": "code",
   "execution_count": null,
   "id": "fbc0fa69-bf0a-4a04-ad8f-a6ecbeafa000",
   "metadata": {},
   "outputs": [],
   "source": []
  }
 ],
 "metadata": {
  "kernelspec": {
   "display_name": "Python 3 (ipykernel)",
   "language": "python",
   "name": "python3"
  },
  "language_info": {
   "codemirror_mode": {
    "name": "ipython",
    "version": 3
   },
   "file_extension": ".py",
   "mimetype": "text/x-python",
   "name": "python",
   "nbconvert_exporter": "python",
   "pygments_lexer": "ipython3",
   "version": "3.12.8"
  }
 },
 "nbformat": 4,
 "nbformat_minor": 5
}

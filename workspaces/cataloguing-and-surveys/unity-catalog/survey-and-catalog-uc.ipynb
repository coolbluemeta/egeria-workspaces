{
 "cells": [
  {
   "cell_type": "markdown",
   "id": "ea5b328c-8324-4604-832c-7c22a6f2011c",
   "metadata": {},
   "source": [
    "<!-- SPDX-License-Identifier: CC-BY-4.0 -->\n",
    "<!-- Copyright Contributors to the ODPi Egeria project 2024. -->\n",
    "\n",
    "![Egeria Logo](https://raw.githubusercontent.com/odpi/egeria/main/assets/img/ODPi_Egeria_Logo_color.png)\n",
    "\n",
    "### Egeria Workbook\n",
    "\n",
    "# Cataloguing Unity Catalog (UC)\n",
    "\n",
    "## Introduction\n",
    "\n",
    "Both Unity Catalog and Egeria are open source projects with the LF AI and Data.  The difference between these technologies is:\n",
    "\n",
    " * Unity Catalog is responsible for governing access to data; whereas Egeria governs the exchange of metadata between tools and systems, such as Unity Catalog.\n",
    "\n",
    " * Similarly, Unity Catalog maintains a metadata repository describing the data it is protecting.  In contrast, Egeria maintains a distributed network of metadata repositories containing metadata about the technology (systems, tools, data), the processes that are operating on them, along with the people and organizations involved.\n",
    "\n",
    "Run the code below to create a client to the Egeria severs.\n",
    "\n",
    "---\n"
   ]
  },
  {
   "cell_type": "code",
   "execution_count": null,
   "id": "0d69a112-bf72-48f4-b958-0f918a73b2f7",
   "metadata": {},
   "outputs": [],
   "source": [
    "import os\n",
    "view_server = os.environ.get(\"VIEW_SERVER\",\"view-server\")\n",
    "url = os.environ.get(\"EGERIA_VIEW_SERVER_URL\",\"https://localhost:9443\")\n",
    "user_id = os.environ.get(\"EGERIA_USER\", \"peterprofile\")\n",
    "user_pwd = os.environ.get(\"EGERIA_USER_PASSWORD\")\n",
    "\n",
    "from pyegeria import EgeriaTech\n",
    "import asyncio\n",
    "import nest_asyncio\n",
    "nest_asyncio.apply()"
   ]
  },
  {
   "cell_type": "code",
   "execution_count": null,
   "id": "f718e011-3d1d-48c9-b29d-ff5617906a61",
   "metadata": {},
   "outputs": [],
   "source": [
    "\n",
    "egeria_tech = EgeriaTech(view_server, url, user_id, user_pwd)\n",
    "token = egeria_tech.create_egeria_bearer_token()\n"
   ]
  },
  {
   "cell_type": "markdown",
   "id": "4ee3758f-7c63-4650-81f2-b640da78b8ac",
   "metadata": {},
   "source": [
    "---\n",
    "\n",
    "## Loading support for Unity Catalog\n",
    "\n",
    "The definition of the Unity Catalog connectors, templates and associated reference data are loaded via a [Content Pack](https://egeria-project.org/content-packs/) called `UnityCatalogContentPack.omarchive`.  The content pack can be loaded multiple times without ill-effect so run the following command to make sure it is loaded.\n",
    "\n",
    "---"
   ]
  },
  {
   "cell_type": "code",
   "execution_count": null,
   "id": "a1218c27-247a-4061-b46e-7fb7bfc5395a",
   "metadata": {},
   "outputs": [],
   "source": [
    "\n",
    "egeria_tech.add_archive_file(\"content-packs/UnityCatalogContentPack.omarchive\", None, \"active-metadata-store\")\n",
    "\n",
    "print(\"Archive loaded!\")\n"
   ]
  },
  {
   "cell_type": "markdown",
   "id": "36c7f26a-63ca-406f-be61-ea9519211b68",
   "metadata": {},
   "source": [
    "----\n",
    "\n",
    "## Survey a Unity Catalog Server\n",
    "\n",
    "The Unity Catalog support includes the ability to survey the contents of a Unity Catalog Server.  This command creates a description of the Unity Catalog Server and runs a survey to understand its contents.  A summary of the survey results can be found in /distribution-hub/surveys.\n",
    "\n",
    "---"
   ]
  },
  {
   "cell_type": "code",
   "execution_count": null,
   "id": "f8f4b200-0a6f-4505-86ac-036c3e40feaa",
   "metadata": {},
   "outputs": [],
   "source": [
    "createAndSurveyServerName=\"UnityCatalogServer:CreateAndSurveyGovernanceActionProcess\"\n",
    "\n",
    "requestParameters = {\n",
    "    \"hostURL\" : \"http://host.docker.internal\",\n",
    "    \"portNumber\" : \"8080\",\n",
    "    \"serverName\" : \"Unity Catalog 1\",  \n",
    "    \"versionIdentifier\" : \"V1.0\",\n",
    "    \"description\" : \"Local instance of the Unity Catalog (UC) Server.\",\n",
    "    \"serverUserId\" : \"uc1\"\n",
    "}\n",
    "\n",
    "egeria_tech.initiate_gov_action_process(createAndSurveyServerName, None, None, None, requestParameters, None, None)\n"
   ]
  },
  {
   "attachments": {},
   "cell_type": "markdown",
   "id": "2412088e-e799-4675-8fd2-6343ff396955",
   "metadata": {},
   "source": [
    "----\n",
    "\n",
    "Open up the survey file and review the contents of the Unity Catalog Server. Notice there can be multiple catalogs in a Unity Catalog Server.  Also notice the hierarchical naming of the unity catalog elements.  Catalogs have schemas inside them and the schemas can have tables, functions and/or volumes within them.\n",
    "\n",
    "----\n",
    "Use the command `hey_egeria_ops show engines activity --compressed` to view the governance actions that ran as a result of the survey requests.  \n",
    "There were two steps.  First it created a `SoftwareServer` entity to represent the Unity Catalog Server. \n",
    "This stores the network address of the server.  Then the survey was run using this information.\n",
    "\n",
    "-----\n",
    "\n",
    "Now navigate to `distribution-hub/logs/openlineage/GovernanceActions`.  This directory stores the open lineage events created when the surveys were run.  Each event record the start or stop of a governance action.\n",
    "\n",
    "----\n",
    "\n",
    "If the surveys look interesting, it is possible to synchronize the metadata between Unity Catalog and Egeria.  Run the command `hey_egeria_ops show integrations status` in a separate command window to start the monitor for the integration daemon.  You can see a list of connectors waiting to synchronize data with different types of technology.  At the bottom of this list are two connectors dedicated to synchronizing metadata between Egeria and Unity Catalog:\n",
    "\n",
    "* **UnityCatalogServerSynchronizer** synchronizes catalog information from a Unity Catalog Server.  It passes details of the catalogs it finds onto **UnityCatalogInsideCatalogSynchronizer**.\n",
    "* **UnityCatalogInsideCatalogSynchronizer** synchronizes the schema, volume, table and function metadata between Egeria and Unity Catalog.  \n",
    "\n",
    "The code below will request that the contents of the first Unity Catalog server is catalogued into Egeria.\n",
    "\n",
    "---"
   ]
  },
  {
   "cell_type": "code",
   "execution_count": null,
   "id": "e439ea75-05a0-4819-b86d-a1eeb8833af2",
   "metadata": {},
   "outputs": [],
   "source": [
    "\n",
    "createAndCatalogServerName=\"UnityCatalogServer:CreateAndCatalogGovernanceActionProcess\"\n",
    "\n",
    "requestParameters = {\n",
    "    \"hostURL\" : \"http://host.docker.internal\",\n",
    "    \"portNumber\" : \"8080\",\n",
    "    \"serverName\" : \"Unity Catalog 1\",  \n",
    "    \"versionIdentifier\" : \"V1.0\",\n",
    "    \"description\" : \"Local instance of the Unity Catalog (UC) Server.\",\n",
    "    \"serverUserId\" : \"uc1\"\n",
    "}\n",
    "\n",
    "egeria_tech.initiate_gov_action_process(createAndCatalogServerName, None, None, None, requestParameters, None, None)\n"
   ]
  },
  {
   "cell_type": "markdown",
   "id": "3168f74d-2dc2-4da6-803b-dda6083a5f04",
   "metadata": {},
   "source": [
    "----\n",
    "\n",
    "Switch back to the integration daemon monitor and you will see that there are now catalog targets for the server with UnityCatalogServerSynchronizer and for each Unity Catalog catlogs with UnityCatalogInsideCatalogSynchronizer.\n",
    "\n",
    "----"
   ]
  },
  {
   "cell_type": "markdown",
   "id": "1a41ed4e-c94e-4d86-83dc-c2fc4b0e7c33",
   "metadata": {},
   "source": [
    "\n",
    "You can uses the following commands to show the elements from Unity Catalog in Egeria:\n",
    "\n",
    "* `hey_egeria cat show tech-type-elements --tech_type 'Unity Catalog Server'` for the Unity Catalog Servers.\n",
    "* `hey_egeria cat show tech-type-elements --tech_type 'Unity Catalog Catalog'` for the Unity Catalog Catalogs.\n",
    "* `hey_egeria cat show tech-type-elements --tech_type 'Unity Catalog Schema'` for the Unity Catalog Schemas.\n",
    "* `hey_egeria cat show tech-type-elements --tech_type 'Unity Catalog Table'` for the Unity Catalog Tables.\n",
    "* `hey_egeria cat show tech-type-elements --tech_type 'Unity Catalog Volume'` for the Unity Catalog Volumes.\n",
    "* `hey_egeria cat show tech-type-elements --tech_type 'Unity Catalog Function'` for the Unity Catalog Functions.\n",
    "\n",
    "You can also use `hey_egeria_cat show assets inventory` to search for assets that include the word `inventory` in it.\n",
    "\n",
    "This shows that metadata can be copied from Unity Catalog into Egeria's metadata repository and represented using Open Metadata Types.  The next part of the demonstration show metadata flowing from Egeria to Unity Catalog.\n",
    "\n"
   ]
  },
  {
   "cell_type": "markdown",
   "id": "7843318d-6181-4ea2-b49e-61a6fd32e512",
   "metadata": {},
   "source": [
    "# Provisioning Unity Catalog (UC) from Egeria\n",
    "\n"
   ]
  },
  {
   "cell_type": "code",
   "execution_count": null,
   "id": "6216a89f-1319-4a45-90e7-c474ef128029",
   "metadata": {},
   "outputs": [],
   "source": [
    "token = egeria_client.create_egeria_bearer_token()"
   ]
  },
  {
   "cell_type": "code",
   "execution_count": null,
   "id": "fd0709ad-e859-4505-955b-1aebaf3ae3dc",
   "metadata": {},
   "outputs": [],
   "source": [
    "\n"
   ]
  },
  {
   "cell_type": "code",
   "execution_count": null,
   "id": "f2f1ee7c-884f-4dcc-98a9-d9e30470d205",
   "metadata": {},
   "outputs": [],
   "source": [
    "\n"
   ]
  },
  {
   "cell_type": "code",
   "execution_count": null,
   "id": "3a69ccdc-627e-46ca-adb2-81ee82e89ef6",
   "metadata": {},
   "outputs": [],
   "source": []
  },
  {
   "cell_type": "code",
   "execution_count": null,
   "id": "057d1bcb-a0e6-461d-b240-e450ac1fd947",
   "metadata": {},
   "outputs": [],
   "source": []
  },
  {
   "cell_type": "code",
   "execution_count": null,
   "id": "06443488-b877-42a4-b055-6a19b60a1fd6",
   "metadata": {},
   "outputs": [],
   "source": [
    "\n"
   ]
  },
  {
   "cell_type": "code",
   "execution_count": null,
   "id": "d65a2612-34a1-4c40-8b08-e2e7b5460ab9",
   "metadata": {},
   "outputs": [],
   "source": []
  }
 ],
 "metadata": {
  "kernelspec": {
   "display_name": "Python 3 (ipykernel)",
   "language": "python",
   "name": "python3"
  },
  "language_info": {
   "codemirror_mode": {
    "name": "ipython",
    "version": 3
   },
   "file_extension": ".py",
   "mimetype": "text/x-python",
   "name": "python",
   "nbconvert_exporter": "python",
   "pygments_lexer": "ipython3",
   "version": "3.11.10"
  }
 },
 "nbformat": 4,
 "nbformat_minor": 5
}

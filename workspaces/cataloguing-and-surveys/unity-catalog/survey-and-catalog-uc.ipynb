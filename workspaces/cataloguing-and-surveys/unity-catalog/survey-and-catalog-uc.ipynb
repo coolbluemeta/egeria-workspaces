{
 "cells": [
  {
   "cell_type": "markdown",
   "id": "ea5b328c-8324-4604-832c-7c22a6f2011c",
   "metadata": {},
   "source": [
    "<!-- SPDX-License-Identifier: CC-BY-4.0 -->\n",
    "<!-- Copyright Contributors to the ODPi Egeria project 2024. -->\n",
    "\n",
    "![Egeria Logo](https://raw.githubusercontent.com/odpi/egeria/main/assets/img/ODPi_Egeria_Logo_color.png)\n",
    "\n",
    "### Egeria Workbook\n",
    "\n",
    "# Surveying and Cataloguing Unity Catalog (UC)\n",
    "\n",
    "## Introduction\n",
    "\n",
    "Both Unity Catalog and Egeria are open source projects with the LF AI and Data.  The difference between these technologies is:\n",
    "\n",
    " * Unity Catalog is responsible for governing access to data; whereas Egeria governs the exchange of metadata between tools and systems, such as Unity Catalog.\n",
    "\n",
    " * Similarly, Unity Catalog maintains a metadata repository describing the data it is protecting.  In contrast, Egeria maintains a distributed network of metadata repositories containing metadata about the technology (systems, tools, data), the processes that are operating on them, along with the people and organizations involved.\n",
    "\n",
    "Run the code below to create a client to the Egeria severs.\n",
    "\n",
    "---\n"
   ]
  },
  {
   "cell_type": "code",
   "execution_count": 1,
   "id": "0d69a112-bf72-48f4-b958-0f918a73b2f7",
   "metadata": {},
   "outputs": [
    {
     "data": {
      "text/html": [
       "\n",
       "    <script type=\"text/javascript\">\n",
       "        if (!window.mermaid) {\n",
       "            var mermaidScript = document.createElement('script');\n",
       "            mermaidScript.src = \"https://cdnjs.cloudflare.com/ajax/libs/mermaid/10.9.1/mermaid.min.js\";\n",
       "            document.head.appendChild(mermaidScript);\n",
       "        }\n",
       "    </script>\n",
       "    "
      ],
      "text/plain": [
       "<IPython.core.display.HTML object>"
      ]
     },
     "metadata": {},
     "output_type": "display_data"
    }
   ],
   "source": [
    "import os\n",
    "view_server = os.environ.get(\"VIEW_SERVER\",\"view-server\")\n",
    "url = os.environ.get(\"EGERIA_VIEW_SERVER_URL\",\"https://localhost:9443\")\n",
    "user_id = os.environ.get(\"EGERIA_USER\", \"peterprofile\")\n",
    "user_pwd = os.environ.get(\"EGERIA_USER_PASSWORD\")\n",
    "\n",
    "from pyegeria import EgeriaTech, EgeriaCat\n",
    "import asyncio\n",
    "import nest_asyncio\n",
    "nest_asyncio.apply()\n",
    "\n",
    "from pyegeria import load_mermaid, render_mermaid, generate_process_graph\n",
    "load_mermaid()\n"
   ]
  },
  {
   "cell_type": "code",
   "execution_count": 2,
   "id": "75b6e892-192f-4e07-af64-bddbbf1c706e",
   "metadata": {},
   "outputs": [],
   "source": [
    "# print functions\n",
    "\n",
    "def print_property(indent, property_name, property_value):\n",
    "    print(indent + property_name + \": \" + property_value)\n",
    "\n",
    "def get_property(indent, property_name, properties):\n",
    "    if properties:\n",
    "       property_value=properties.get(property_name)\n",
    "       if property_value:\n",
    "           print_property(indent, property_name, property_value)\n",
    "\n",
    "def print_element_header(indent, element_header):\n",
    "    type_name = element_header[\"type\"][\"typeName\"]\n",
    "    guid = element_header[\"guid\"]\n",
    "    print(indent + type_name + \" [\" + guid + \"]\")\n",
    "\n",
    "def print_properties(indent, property_name, properties):\n",
    "    if properties:\n",
    "        if type(properties) is str:\n",
    "            print_property(indent, property_name, properties)\n",
    "        elif type(properties) is int:\n",
    "            print_property(indent, property_name, \"{}\".format(properties))\n",
    "        elif type(properties) is dict:\n",
    "            for key in properties.keys():\n",
    "                print_properties(indent, key, properties[key])\n",
    "        else:\n",
    "            print(f\"Funny property: type is {type(properties)}\")\n",
    "            \n",
    "def print_element(indent, element):\n",
    "    if element:\n",
    "        print()\n",
    "        print_element_header(indent + \"\", element.get(\"elementHeader\"))\n",
    "        print_properties(indent + \" > \", \"properties\", element.get(\"properties\"))\n",
    "        print_properties(indent + \" > \", \"referenceableProperties\", element.get(\"referenceableProperties\"))\n",
    "\n",
    "def print_related_elements(indent, related_elements):\n",
    "    if related_elements:\n",
    "        for related_element in related_elements:\n",
    "            if related_element:\n",
    "                print()\n",
    "                print_element_header(indent, related_element.get(\"relationshipHeader\"))\n",
    "                print_properties(indent + \" > \", \"relationshipProperties\", related_element.get(\"relationshipProperties\"))\n",
    "                print_element(indent + \"   \", related_element.get(\"relatedElement\"))\n",
    "                                \n",
    "def print_search_results(search_results):\n",
    "    if search_results:\n",
    "        if search_results == \"no assets found\":\n",
    "            print(search_results)\n",
    "        else:\n",
    "            for asset in search_results:\n",
    "                if asset:\n",
    "                    print()\n",
    "                    print(\"Asset: \")\n",
    "                    print_element_header(\" > \" , asset.get(\"elementHeader\"))\n",
    "                    print_properties(\" > \", \"properties\", asset.get(\"properties\"))\n",
    "                    matchingElements = asset.get(\"matchingElements\")\n",
    "                    if matchingElements:\n",
    "                        for matchingElement in matchingElements:\n",
    "                            print(\"Matching Element:\")\n",
    "                            print_element_header(\"   > \" , matchingElement.get(\"elementHeader\"))\n",
    "                            print_properties(\"   > \" , \"properties\", matchingElement.get(\"properties\"))\n",
    "\n",
    "def print_external_id_map(catalog):\n",
    "    if catalog:\n",
    "        catalog_guid = catalog[\"elementHeader\"][\"guid\"]\n",
    "        print_element(\"\", catalog)\n",
    "        external_ids = egeria_tech.get_related_elements(catalog_guid, \"ExternalIdScope\")\n",
    "        if external_ids:\n",
    "            for external_id in external_ids:\n",
    "                print()\n",
    "                relationship_properties = external_id.get(\"relationshipProperties\")\n",
    "                if relationship_properties:\n",
    "                    print_property(\" > \", \"Permitted Synchronization\", relationship_properties.get(\"permittedSynchronization\"))\n",
    "                related_element = external_id.get(\"relatedElement\")\n",
    "                external_id_guid = related_element[\"elementHeader\"][\"guid\"]\n",
    "                open_metadata_elements = egeria_tech.get_related_elements(external_id_guid, \"ExternalIdLink\")\n",
    "                print_related_elements(\"      \", open_metadata_elements)\n",
    "\n"
   ]
  },
  {
   "cell_type": "code",
   "execution_count": 3,
   "id": "f718e011-3d1d-48c9-b29d-ff5617906a61",
   "metadata": {},
   "outputs": [],
   "source": [
    "\n",
    "egeria_tech = EgeriaTech(view_server, url, user_id, user_pwd)\n",
    "token = egeria_tech.create_egeria_bearer_token()\n"
   ]
  },
  {
   "cell_type": "markdown",
   "id": "4ee3758f-7c63-4650-81f2-b640da78b8ac",
   "metadata": {},
   "source": [
    "---\n",
    "\n",
    "## Loading support for Unity Catalog\n",
    "\n",
    "The definition of the Unity Catalog connectors, templates and associated reference data are loaded via a [Content Pack](https://egeria-project.org/content-packs/) called `UnityCatalogContentPack.omarchive`.  The content pack can be loaded multiple times without ill-effect so run the following command to make sure it is loaded.\n",
    "\n",
    "---"
   ]
  },
  {
   "cell_type": "code",
   "execution_count": 4,
   "id": "a1218c27-247a-4061-b46e-7fb7bfc5395a",
   "metadata": {},
   "outputs": [
    {
     "name": "stdout",
     "output_type": "stream",
     "text": [
      "Archive loaded!\n"
     ]
    }
   ],
   "source": [
    "\n",
    "egeria_tech.add_archive_file(\"content-packs/UnityCatalogContentPack.omarchive\", None, \"active-metadata-store\")\n",
    "\n",
    "print(\"Archive loaded!\")\n"
   ]
  },
  {
   "cell_type": "markdown",
   "id": "68b6298e-67d2-4e91-b9ff-39dc92b9a4e4",
   "metadata": {},
   "source": [
    "----\n",
    "\n",
    "## Gathering data about your Unity Catalog Server\n",
    "\n",
    "You need to provide Egeria with some basic information about your Unity Catalog server.  Fill in the details below.\n",
    "\n",
    "-----"
   ]
  },
  {
   "cell_type": "code",
   "execution_count": 5,
   "id": "38b1fc42-1aca-4242-b160-9185515eeca9",
   "metadata": {},
   "outputs": [],
   "source": [
    "# This is the technology type if the server is the Open Source version of Unity Catalog.\n",
    "# Use \"Databricks Unity Catalog Server\" if this is a Databricks cloud service version of Unity Catalog.\n",
    "serverTechnologyType = \"Unity Catalog Server\"\n",
    "\n",
    "# This is the network location used to call the Unity Catalog Server.\n",
    "# For Unity Catalog running on your local machine, use:\n",
    "#   * \"http://localhost\" if Egeria is also running natively on your local machine, or\n",
    "#   * \"http://host.docker.internal\" if Egeria is running in a docker image.\n",
    "#\n",
    "hostURL=\"http://localhost\"\n",
    "portNumber=\"8080\"\n",
    "\n",
    "# This is a unique name that the server is known as\n",
    "serverName=\"Unity Catalog 1\"\n",
    "\n",
    "# Add a short description of the server\n",
    "description=\"Local instance of the Unity Catalog (UC) Server.\"\n",
    "\n",
    "# This is the verion of Unity Catalog\n",
    "versionIdentifier=\"v0.1.0-SNAPSHOT\"\n",
    "\n",
    "# This is the userId that the connectors will use when creating metadata in Egeria that describes resources in Unity Catalog.\n",
    "serverUserId=\"uc1\"\n",
    "\n",
    "# These values are user in later sections\n",
    "serverQualifiedName=serverTechnologyType + \":\" + serverName\n",
    "serverNetworkAddress=hostURL + \":\" + portNumber\n"
   ]
  },
  {
   "cell_type": "markdown",
   "id": "526ea0a1-61ef-45e8-b979-9e8aec39ef00",
   "metadata": {},
   "source": [
    "-----\n",
    "\n",
    "## Survey a Unity Catalog Server\n",
    "\n",
    "The Unity Catalog support includes the ability to survey the contents of a Unity Catalog Server.  This command creates a description of the Unity Catalog Server and runs a survey to understand its contents.  A summary of the survey results can be found in /distribution-hub/surveys.\n",
    "\n",
    "---"
   ]
  },
  {
   "cell_type": "code",
   "execution_count": 6,
   "id": "6fd24f3d-ab5e-4fd9-a320-e999254ae125",
   "metadata": {},
   "outputs": [
    {
     "data": {
      "text/html": [
       "\n",
       "    <div class=\"mermaid\">\n",
       "        \n",
       "---\n",
       "title: UnityCatalogServer:CreateAndSurvey\n",
       "---\n",
       "flowchart LR\n",
       "%%{init: {\"flowchart\": {\"htmlLabels\": false}} }%%\n",
       "\n",
       "Step1(\"`**Create the software server entity**\n",
       "*nwait_time*: 0\n",
       "*nmult_trig*: True`\")\n",
       "Step2(\"`**Run the survey.**\n",
       "*wait_time*: 0\n",
       "*mult_trig*: True`\")\n",
       "Step3(\"`**Print the survey report.**\n",
       "*wait_time*: 0\n",
       "*mult_trig*: True`\")\n",
       "Step1-->|set-up-complete|Step2\n",
       "Step2-->|survey-completed|Step3\n",
       "    </div>\n",
       "    <script type=\"text/javascript\">\n",
       "        if (window.mermaid) {\n",
       "    mermaid.initialize({startOnLoad: true});\n",
       "    mermaid.contentLoaded();\n",
       "    }\n",
       "    </script>\n",
       "    "
      ],
      "text/plain": [
       "<IPython.core.display.HTML object>"
      ]
     },
     "metadata": {},
     "output_type": "display_data"
    }
   ],
   "source": [
    "\n",
    "createAndSurveyServerName=\"UnityCatalogServer:CreateAndSurveyGovernanceActionProcess\"\n",
    "\n",
    "process_guid = egeria_tech.get_element_guid_by_unique_name(createAndSurveyServerName)\n",
    "\n",
    "mermaid_graph = generate_process_graph(process_guid)\n",
    "render_mermaid(mermaid_graph)\n"
   ]
  },
  {
   "cell_type": "code",
   "execution_count": 7,
   "id": "f8f4b200-0a6f-4505-86ac-036c3e40feaa",
   "metadata": {},
   "outputs": [
    {
     "data": {
      "text/plain": [
       "'344712e4-3037-4e0a-9336-f41768dfde3c'"
      ]
     },
     "execution_count": 7,
     "metadata": {},
     "output_type": "execute_result"
    }
   ],
   "source": [
    "\n",
    "requestParameters = {\n",
    "    \"hostURL\" : hostURL,\n",
    "    \"portNumber\" : portNumber,\n",
    "    \"serverName\" : serverName,  \n",
    "    \"versionIdentifier\" : versionIdentifier,\n",
    "    \"description\" : description,\n",
    "    \"serverUserId\" : serverUserId\n",
    "}\n",
    "\n",
    "egeria_tech.initiate_gov_action_process(createAndSurveyServerName, None, None, None, requestParameters, None, None)\n"
   ]
  },
  {
   "attachments": {},
   "cell_type": "markdown",
   "id": "2412088e-e799-4675-8fd2-6343ff396955",
   "metadata": {},
   "source": [
    "----\n",
    "\n",
    "Open up the survey file and review the contents of the Unity Catalog Server. Notice there can be multiple catalogs in a Unity Catalog Server.  Also notice the hierarchical naming of the unity catalog elements.  Catalogs have schemas inside them and the schemas can have tables, functions and/or volumes within them.\n",
    "\n",
    "----\n",
    "\n",
    "Use the command `hey_egeria_ops show engines activity --compressed` to view the governance actions that ran as a result of the survey requests.  \n",
    "There were two steps.  First it created a `SoftwareServer` element to represent the Unity Catalog Server. \n",
    "This stores the network address of the server.  Then the survey was run using this element.\n",
    "\n",
    "-----\n",
    "\n",
    "Now navigate to `distribution-hub/logs/openlineage/GovernanceActions`.  This directory stores the open lineage events created when the surveys were run.  Each event record the start or stop of a governance action.\n",
    "\n",
    "----\n",
    "\n",
    "If the surveys look interesting, it is possible to synchronize the metadata between Unity Catalog and Egeria.  Run the command `hey_egeria_ops show integrations status` in a separate command window to start the monitor for the integration daemon.  You can see a list of connectors waiting to synchronize data with different types of technology.  At the bottom of this list are two connectors dedicated to synchronizing metadata between Egeria and Unity Catalog:\n",
    "\n",
    "* **UnityCatalogServerSynchronizer** synchronizes catalog information from a Unity Catalog Server.  It passes details of the catalogs it finds onto **UnityCatalogInsideCatalogSynchronizer**.\n",
    "* **UnityCatalogInsideCatalogSynchronizer** synchronizes the schema, volume, table and function metadata between Egeria and Unity Catalog.  \n",
    "\n",
    "The code below will request that the contents of the first Unity Catalog server is catalogued into Egeria.\n",
    "\n",
    "---"
   ]
  },
  {
   "cell_type": "code",
   "execution_count": 8,
   "id": "bd5635f2-e41e-45b5-90be-8c80dd85f5e7",
   "metadata": {},
   "outputs": [
    {
     "data": {
      "text/html": [
       "\n",
       "    <div class=\"mermaid\">\n",
       "        \n",
       "---\n",
       "title: UnityCatalogServer:CreateAndCatalog\n",
       "---\n",
       "flowchart LR\n",
       "%%{init: {\"flowchart\": {\"htmlLabels\": false}} }%%\n",
       "\n",
       "Step1(\"`**Create the software server entity**\n",
       "*nwait_time*: 0\n",
       "*nmult_trig*: True`\")\n",
       "Step2(\"`**Connect server to integration connector.**\n",
       "*wait_time*: 0\n",
       "*mult_trig*: True`\")\n",
       "Step1-->|set-up-complete|Step2\n",
       "    </div>\n",
       "    <script type=\"text/javascript\">\n",
       "        if (window.mermaid) {\n",
       "    mermaid.initialize({startOnLoad: true});\n",
       "    mermaid.contentLoaded();\n",
       "    }\n",
       "    </script>\n",
       "    "
      ],
      "text/plain": [
       "<IPython.core.display.HTML object>"
      ]
     },
     "metadata": {},
     "output_type": "display_data"
    }
   ],
   "source": [
    "\n",
    "createAndCatalogServerName=\"UnityCatalogServer:CreateAndCatalogGovernanceActionProcess\"\n",
    "\n",
    "process_guid = egeria_tech.get_element_guid_by_unique_name(createAndCatalogServerName)\n",
    "\n",
    "mermaid_graph = generate_process_graph(process_guid)\n",
    "render_mermaid(mermaid_graph)\n"
   ]
  },
  {
   "cell_type": "code",
   "execution_count": 9,
   "id": "e439ea75-05a0-4819-b86d-a1eeb8833af2",
   "metadata": {},
   "outputs": [
    {
     "data": {
      "text/plain": [
       "'72840e98-5595-47cd-8e45-d0ec17209e4a'"
      ]
     },
     "execution_count": 9,
     "metadata": {},
     "output_type": "execute_result"
    }
   ],
   "source": [
    "\n",
    "requestParameters = {\n",
    "    \"hostURL\" : hostURL,\n",
    "    \"portNumber\" : portNumber,\n",
    "    \"serverName\" : serverName,  \n",
    "    \"versionIdentifier\" : versionIdentifier,\n",
    "    \"description\" : description,\n",
    "    \"serverUserId\" : serverUserId\n",
    "}\n",
    "\n",
    "egeria_tech.initiate_gov_action_process(createAndCatalogServerName, None, None, None, requestParameters, None, None)\n"
   ]
  },
  {
   "cell_type": "markdown",
   "id": "3168f74d-2dc2-4da6-803b-dda6083a5f04",
   "metadata": {},
   "source": [
    "----\n",
    "\n",
    "Switch back to the integration daemon monitor and you will see that there are now catalog targets for the server with UnityCatalogServerSynchronizer and for each Unity Catalog catlogs with UnityCatalogInsideCatalogSynchronizer.\n",
    "\n",
    "----"
   ]
  },
  {
   "cell_type": "markdown",
   "id": "bda2f891-10a5-41bb-bbf7-1212339f75c5",
   "metadata": {},
   "source": [
    "You can uses the following commands to show the elements from Unity Catalog in Egeria:\n",
    "\n",
    "* `hey_egeria cat show tech-type-elements --tech_type 'Unity Catalog Server'` for the Unity Catalog Servers.\n",
    "* `hey_egeria cat show tech-type-elements --tech_type 'Unity Catalog Catalog'` for the Unity Catalog Catalogs.\n",
    "* `hey_egeria cat show tech-type-elements --tech_type 'Unity Catalog Schema'` for the Unity Catalog Schemas.\n",
    "* `hey_egeria cat show tech-type-elements --tech_type 'Unity Catalog Table'` for the Unity Catalog Tables.\n",
    "* `hey_egeria cat show tech-type-elements --tech_type 'Unity Catalog Volume'` for the Unity Catalog Volumes.\n",
    "* `hey_egeria cat show tech-type-elements --tech_type 'Unity Catalog Function'` for the Unity Catalog Functions.\n",
    "\n",
    "You can also use `hey_egeria_cat show assets inventory` to search for assets that include the word `inventory` in it.\n",
    "\n",
    "----\n",
    "\n",
    "It is also possible to use python functions to retrieve information about the Unity Catalog resources.  This uses the `egeria_cat` client.\n",
    "\n",
    "----"
   ]
  },
  {
   "cell_type": "code",
   "execution_count": 10,
   "id": "1826ddcc-14f9-40ca-848a-2f1a77e3cd84",
   "metadata": {},
   "outputs": [],
   "source": [
    "\n",
    "egeria_cat = EgeriaCat(view_server, url, user_id, user_pwd)\n",
    "egeria_cat.set_bearer_token(token)\n"
   ]
  },
  {
   "cell_type": "markdown",
   "id": "afcab3ed-cf03-4dce-b6a9-0ccfbf8ae8a3",
   "metadata": {},
   "source": [
    "----\n",
    "\n",
    "The command below retrieves assets that match the search query.  If you see the message \"no assets found\" then re-run the request as the synchronization process may not have been comopleted.\n",
    "\n",
    "----"
   ]
  },
  {
   "cell_type": "code",
   "execution_count": 11,
   "id": "46fb242c-b9ac-496d-9719-cb2a7899ee9e",
   "metadata": {},
   "outputs": [
    {
     "name": "stdout",
     "output_type": "stream",
     "text": [
      "\n",
      "Asset: \n",
      " > DeployedDatabaseSchema [75a8ef4c-8ea0-43fc-a58f-1775364219d6]\n",
      " > class: AssetProperties\n",
      " > typeName: DeployedDatabaseSchema\n",
      " > qualifiedName: Unity Catalog Schema:http://localhost:8080:unity.default\n",
      " > displayName: default\n",
      " > displayDescription: Default schema\n",
      " > name: default\n",
      " > resourceName: unity.default\n",
      " > resourceDescription: Default schema\n",
      " > deployedImplementationType: Unity Catalog Schema\n",
      "Matching Element:\n",
      "   > VirtualRelationalTable [c93b6eb2-b477-4d7c-b7bd-942d7e1724aa]\n",
      "   > qualifiedName: Unity Catalog Table:http://localhost:8080:unity.default.numbers\n",
      "   > name: numbers\n",
      "   > description: External table\n",
      "   > resourceName: unity.default.numbers\n",
      "   > deployedImplementationType: Unity Catalog Table\n"
     ]
    }
   ],
   "source": [
    "\n",
    "search_results = egeria_cat.find_assets_in_domain(\"numbers\")\n",
    "\n",
    "print_search_results(search_results)\n",
    "       "
   ]
  },
  {
   "cell_type": "markdown",
   "id": "2dc2adf8-49bc-40a3-9b6e-e86858a0e432",
   "metadata": {},
   "source": [
    "----\n",
    "This shows that metadata can be copied from Unity Catalog into Egeria's metadata repository and represented using Open Metadata Types.  The next part of the demonstration show metadata flowing from Egeria to Unity Catalog.\n"
   ]
  },
  {
   "cell_type": "markdown",
   "id": "7843318d-6181-4ea2-b49e-61a6fd32e512",
   "metadata": {},
   "source": [
    "----\n",
    "\n",
    "# Provisioning Unity Catalog (UC) from Egeria\n",
    "\n",
    "Egeria has the ability to provision resources into Unity Catalog.  The desired resources are described in Egeria using Open Metadata Elements and linked to the representation of the server, catalog or schema where the new resource is to be created.  Once the description is in place, the appropriate Unity Catalog Integration Connector will create a matching definition in Unity Catalog.\n",
    "\n",
    "The sections below go through creating a catalog, then a schema within that catalog and then a volume within that schema.  Notice that the ordering is important.  The catalog must be created before it schemas etc.\n",
    "\n",
    "-----"
   ]
  },
  {
   "cell_type": "markdown",
   "id": "e845f3fb-d0b9-4826-9bab-af811b1a3159",
   "metadata": {},
   "source": [
    "----\n",
    "\n",
    "## Provision a new catalog into a Unity Catalog (UC) Server\n",
    "\n",
    "There is only one step to provision a new catalog into a Unity Catalog Server:\n",
    "\n",
    "-----"
   ]
  },
  {
   "cell_type": "code",
   "execution_count": 12,
   "id": "fd0709ad-e859-4505-955b-1aebaf3ae3dc",
   "metadata": {},
   "outputs": [
    {
     "data": {
      "text/html": [
       "\n",
       "    <div class=\"mermaid\">\n",
       "        \n",
       "---\n",
       "title: Provision Unity Catalog Catalog\n",
       "---\n",
       "flowchart LR\n",
       "%%{init: {\"flowchart\": {\"htmlLabels\": false}} }%%\n",
       "\n",
       "Step1(\"`**Create the new element**\n",
       "*nwait_time*: 0\n",
       "*nmult_trig*: True`\")\n",
       "    </div>\n",
       "    <script type=\"text/javascript\">\n",
       "        if (window.mermaid) {\n",
       "    mermaid.initialize({startOnLoad: true});\n",
       "    mermaid.contentLoaded();\n",
       "    }\n",
       "    </script>\n",
       "    "
      ],
      "text/plain": [
       "<IPython.core.display.HTML object>"
      ]
     },
     "metadata": {},
     "output_type": "display_data"
    }
   ],
   "source": [
    "\n",
    "provisionCatalogName=\"Provision:UnityCatalogCatalog:GovernanceActionProcess\"\n",
    "\n",
    "process_guid = egeria_tech.get_element_guid_by_unique_name(provisionCatalogName)\n",
    "\n",
    "mermaid_graph = generate_process_graph(process_guid)\n",
    "render_mermaid(mermaid_graph)\n"
   ]
  },
  {
   "cell_type": "markdown",
   "id": "f18b35c0-454b-448d-8812-54b3b44fc526",
   "metadata": {},
   "source": [
    "----\n",
    "\n",
    "Fill in details about the new catalog that you want to create.\n",
    "\n",
    "----"
   ]
  },
  {
   "cell_type": "code",
   "execution_count": 13,
   "id": "ef546715-5f79-41de-874a-a3c806dd54fa",
   "metadata": {},
   "outputs": [],
   "source": [
    "\n",
    "catalogName = \"new_catalog\"\n",
    "catalogDescription = \"My new catalog.\"\n"
   ]
  },
  {
   "cell_type": "markdown",
   "id": "41e8f654-8ed2-4424-b48f-fcae5d87768a",
   "metadata": {},
   "source": [
    "----\n",
    "\n",
    "Now run the governance process to create the catalog.\n",
    "\n",
    "----"
   ]
  },
  {
   "cell_type": "code",
   "execution_count": 14,
   "id": "1dcefaf1-8ecc-42cc-8260-316244be2f89",
   "metadata": {},
   "outputs": [
    {
     "data": {
      "text/plain": [
       "'103c0ed0-af5a-450e-9bac-3b4bf99c1466'"
      ]
     },
     "execution_count": 14,
     "metadata": {},
     "output_type": "execute_result"
    }
   ],
   "source": [
    "\n",
    "requestParameters = {\n",
    "    \"ucServerQualifiedName\" : serverQualifiedName,\n",
    "    \"serverNetworkAddress\" : serverNetworkAddress,\n",
    "    \"ucCatalogName\" : catalogName,\n",
    "    \"versionIdentifier\" : versionIdentifier,\n",
    "    \"description\" : catalogDescription\n",
    "}\n",
    "\n",
    "egeria_tech.initiate_gov_action_process(provisionCatalogName, None, None, None, requestParameters, None, None)\n"
   ]
  },
  {
   "cell_type": "markdown",
   "id": "49dcb940-b801-46b4-9a3e-5d646ae1c3a9",
   "metadata": {},
   "source": [
    "------\n",
    "\n",
    "The code below shows the catalog you now have defined.\n",
    "\n",
    "------"
   ]
  },
  {
   "cell_type": "code",
   "execution_count": 15,
   "id": "057d1bcb-a0e6-461d-b240-e450ac1fd947",
   "metadata": {},
   "outputs": [
    {
     "name": "stdout",
     "output_type": "stream",
     "text": [
      "\n",
      "Catalog [8ccf3201-c8cc-48a6-b53e-c84c7f4b24a2]\n",
      " > qualifiedName: Unity Catalog Catalog:http://localhost:8080:new_catalog\n",
      " > name: new_catalog\n",
      " > description: My new catalog.\n",
      " > capabilityVersion: v0.1.0-SNAPSHOT\n",
      " > deployedImplementationType: Unity Catalog Catalog\n"
     ]
    }
   ],
   "source": [
    "\n",
    "catalog_qualified_name=\"Unity Catalog Catalog:\" + serverNetworkAddress + \":\" + catalogName\n",
    "\n",
    "element=egeria_tech.get_element_by_unique_name(catalog_qualified_name)\n",
    "\n",
    "print_element(\"\", element)\n"
   ]
  },
  {
   "cell_type": "markdown",
   "id": "438b8400-0fab-4f04-a10d-c96429394a13",
   "metadata": {},
   "source": [
    "----\n",
    "\n",
    "The next command lists the relationships to other elements that this catalog has:\n",
    "\n",
    "----"
   ]
  },
  {
   "cell_type": "code",
   "execution_count": 16,
   "id": "756ed7ca-8fc7-41ab-af43-f038472579e7",
   "metadata": {},
   "outputs": [
    {
     "name": "stdout",
     "output_type": "stream",
     "text": [
      "8ccf3201-c8cc-48a6-b53e-c84c7f4b24a2\n",
      "\n",
      "SupportedSoftwareCapability [f2de94f4-1b3f-4abb-bedd-0fa96dd07b5a]\n",
      " > operationalStatus: Enabled\n",
      "\n",
      "   SoftwareServer [9a748d9d-4a3a-4d58-8c03-6fdfeeda4f55]\n",
      "    > versionIdentifier: v0.1.0-SNAPSHOT\n",
      "    > qualifiedName: Unity Catalog Server:Unity Catalog 1\n",
      "    > name: Unity Catalog 1\n",
      "    > description: Local instance of the Unity Catalog (UC) Server.\n",
      "    > resourceName: Unity Catalog 1\n",
      "    > deployedImplementationType: Unity Catalog Server\n",
      "\n",
      "SourcedFrom [4f402baf-2772-4cba-afe5-8e45f3fc3910]\n",
      " > sourceVersionNumber: 1728633401237\n",
      "\n",
      "   Catalog [5ee006aa-a6d6-411b-9b8d-5f720c079cae]\n",
      "    > qualifiedName: Unity Catalog Catalog:{{serverNetworkAddress}}:{{ucCatalogName}}\n",
      "    > name: {{ucCatalogName}}\n",
      "    > description: {{description}}\n",
      "    > capabilityVersion: {{versionIdentifier}}\n",
      "    > deployedImplementationType: Unity Catalog Catalog\n"
     ]
    }
   ],
   "source": [
    "\n",
    "catalog_guid=egeria_tech.get_element_guid_by_unique_name(catalog_qualified_name)\n",
    "print(catalog_guid)\n",
    "\n",
    "related_elements = egeria_tech.get_related_elements(catalog_guid)\n",
    "\n",
    "print_related_elements(\"\", related_elements)\n"
   ]
  },
  {
   "cell_type": "markdown",
   "id": "bf2e9f37-1375-471d-a8ec-12b450a793f2",
   "metadata": {},
   "source": [
    "----\n",
    "\n",
    "## Provision a new schema into a Unity Catalog (UC) Catalog\n",
    "\n",
    "This is the process to provision a new schema into a Unity Catalog Catalog:\n",
    "\n",
    "-----"
   ]
  },
  {
   "cell_type": "code",
   "execution_count": 17,
   "id": "d65a2612-34a1-4c40-8b08-e2e7b5460ab9",
   "metadata": {},
   "outputs": [
    {
     "data": {
      "text/html": [
       "\n",
       "    <div class=\"mermaid\">\n",
       "        \n",
       "---\n",
       "title: Provision Unity Catalog Schema\n",
       "---\n",
       "flowchart LR\n",
       "%%{init: {\"flowchart\": {\"htmlLabels\": false}} }%%\n",
       "\n",
       "Step1(\"`**Create the new element**\n",
       "*nwait_time*: 0\n",
       "*nmult_trig*: True`\")\n",
       "    </div>\n",
       "    <script type=\"text/javascript\">\n",
       "        if (window.mermaid) {\n",
       "    mermaid.initialize({startOnLoad: true});\n",
       "    mermaid.contentLoaded();\n",
       "    }\n",
       "    </script>\n",
       "    "
      ],
      "text/plain": [
       "<IPython.core.display.HTML object>"
      ]
     },
     "metadata": {},
     "output_type": "display_data"
    }
   ],
   "source": [
    "\n",
    "provisionSchemaName=\"Provision:UnityCatalogSchema:GovernanceActionProcess\"\n",
    "\n",
    "process_guid = egeria_tech.get_element_guid_by_unique_name(provisionSchemaName)\n",
    "\n",
    "mermaid_graph = generate_process_graph(process_guid)\n",
    "render_mermaid(mermaid_graph)\n"
   ]
  },
  {
   "cell_type": "markdown",
   "id": "87b0aaca-7d9e-40a6-963d-6a6f3b9486ba",
   "metadata": {},
   "source": [
    "----\n",
    "\n",
    "Fill in details about the new schema that you want to create.\n",
    "\n",
    "----"
   ]
  },
  {
   "cell_type": "code",
   "execution_count": 18,
   "id": "d49cee8c-0c50-44c8-8e3d-96468068329c",
   "metadata": {},
   "outputs": [],
   "source": [
    "\n",
    "schemaName = \"new_schema\"\n",
    "schemaDescription = \"My new schema.\"\n"
   ]
  },
  {
   "cell_type": "markdown",
   "id": "8c04bc3e-b4bc-4715-9b9e-90cde1353217",
   "metadata": {},
   "source": [
    "----\n",
    "\n",
    "Now run the governance process to create the schema.\n",
    "\n",
    "----"
   ]
  },
  {
   "cell_type": "code",
   "execution_count": 19,
   "id": "560109e8-c38c-4e7e-adc5-88b4bb9ca758",
   "metadata": {},
   "outputs": [
    {
     "data": {
      "text/plain": [
       "'54299bd4-fbdb-461c-98f5-d8a5af55afed'"
      ]
     },
     "execution_count": 19,
     "metadata": {},
     "output_type": "execute_result"
    }
   ],
   "source": [
    "\n",
    "requestParameters = {\n",
    "    \"serverNetworkAddress\" : serverNetworkAddress,\n",
    "    \"ucCatalogName\" : catalogName,\n",
    "    \"ucSchemaName\" : schemaName,\n",
    "    \"versionIdentifier\" : versionIdentifier,\n",
    "    \"description\" : schemaDescription\n",
    "}\n",
    "\n",
    "egeria_tech.initiate_gov_action_process(provisionSchemaName, None, None, None, requestParameters, None, None)\n"
   ]
  },
  {
   "cell_type": "markdown",
   "id": "83c6e6e8-2ef8-41d5-ae3d-97552815b3b9",
   "metadata": {},
   "source": [
    "------\n",
    "\n",
    "The code below shows the schema you now have defined.\n",
    "\n",
    "------"
   ]
  },
  {
   "cell_type": "code",
   "execution_count": 20,
   "id": "4cdfc337-225d-485e-9ffe-c12713e62447",
   "metadata": {},
   "outputs": [
    {
     "name": "stdout",
     "output_type": "stream",
     "text": [
      "\n",
      "DeployedDatabaseSchema [e5bcb9b3-b2ff-4c5e-8507-81033a388472]\n",
      " > versionIdentifier: v0.1.0-SNAPSHOT\n",
      " > qualifiedName: Unity Catalog Schema:http://localhost:8080:new_catalog.new_schema\n",
      " > name: new_schema\n",
      " > description: My new schema.\n",
      " > resourceName: new_catalog.new_schema\n",
      " > deployedImplementationType: Unity Catalog Schema\n"
     ]
    }
   ],
   "source": [
    "\n",
    "schema_qualified_name=\"Unity Catalog Schema:\" + serverNetworkAddress + \":\" + catalogName + \".\" + schemaName\n",
    "\n",
    "element=egeria_tech.get_element_by_unique_name(schema_qualified_name)\n",
    "\n",
    "print_element(\"\", element)\n"
   ]
  },
  {
   "cell_type": "markdown",
   "id": "c398ae6e-07b9-4cde-a4c8-d07fde1f61d1",
   "metadata": {},
   "source": [
    "----\n",
    "\n",
    "And the elements related to it ...\n",
    "\n",
    "____"
   ]
  },
  {
   "cell_type": "code",
   "execution_count": 21,
   "id": "f34ad4f1-e22d-4b90-8a61-ee31f92bde1b",
   "metadata": {},
   "outputs": [
    {
     "name": "stdout",
     "output_type": "stream",
     "text": [
      "e5bcb9b3-b2ff-4c5e-8507-81033a388472\n",
      "\n",
      "ServerAssetUse [c709d5b4-e926-41bc-a40a-2988a57943da]\n",
      " > useType: Owns\n",
      "\n",
      "   Catalog [8ccf3201-c8cc-48a6-b53e-c84c7f4b24a2]\n",
      "    > qualifiedName: Unity Catalog Catalog:http://localhost:8080:new_catalog\n",
      "    > name: new_catalog\n",
      "    > description: My new catalog.\n",
      "    > capabilityVersion: v0.1.0-SNAPSHOT\n",
      "    > deployedImplementationType: Unity Catalog Catalog\n",
      "\n",
      "SourcedFrom [5494d673-e5bd-4e3a-becc-dac263bcaf55]\n",
      " > sourceVersionNumber: 1728633401237\n",
      "\n",
      "   DeployedDatabaseSchema [5bf92b0f-3970-41ea-b0a3-aacfbf6fd92e]\n",
      "    > versionIdentifier: {{versionIdentifier}}\n",
      "    > qualifiedName: Unity Catalog Schema:{{serverNetworkAddress}}:{{ucCatalogName}}.{{ucSchemaName}}\n",
      "    > name: {{ucSchemaName}}\n",
      "    > description: {{description}}\n",
      "    > resourceName: {{ucCatalogName}}.{{ucSchemaName}}\n",
      "    > deployedImplementationType: Unity Catalog Schema\n"
     ]
    }
   ],
   "source": [
    "\n",
    "schema_guid=egeria_tech.get_element_guid_by_unique_name(schema_qualified_name)\n",
    "print(schema_guid)\n",
    "\n",
    "related_elements = egeria_tech.get_related_elements(schema_guid)\n",
    "\n",
    "print_related_elements(\"\", related_elements)\n"
   ]
  },
  {
   "cell_type": "markdown",
   "id": "91962afa-0472-44b2-9824-b90c0727c768",
   "metadata": {},
   "source": [
    "----\n",
    "\n",
    "## Provision a new volume into a Unity Catalog (UC) Schema\n",
    "\n",
    "This is the process to provision a new volume into a Unity Catalog Schema:\n",
    "\n",
    "-----"
   ]
  },
  {
   "cell_type": "code",
   "execution_count": 22,
   "id": "8cea671c-5246-4a88-9549-a6b7c07cfa4b",
   "metadata": {},
   "outputs": [
    {
     "data": {
      "text/html": [
       "\n",
       "    <div class=\"mermaid\">\n",
       "        \n",
       "---\n",
       "title: Provision Unity Catalog Volume\n",
       "---\n",
       "flowchart LR\n",
       "%%{init: {\"flowchart\": {\"htmlLabels\": false}} }%%\n",
       "\n",
       "Step1(\"`**Create the new element**\n",
       "*nwait_time*: 0\n",
       "*nmult_trig*: True`\")\n",
       "    </div>\n",
       "    <script type=\"text/javascript\">\n",
       "        if (window.mermaid) {\n",
       "    mermaid.initialize({startOnLoad: true});\n",
       "    mermaid.contentLoaded();\n",
       "    }\n",
       "    </script>\n",
       "    "
      ],
      "text/plain": [
       "<IPython.core.display.HTML object>"
      ]
     },
     "metadata": {},
     "output_type": "display_data"
    }
   ],
   "source": [
    "\n",
    "provisionVolumeName=\"Provision:UnityCatalogVolume:GovernanceActionProcess\"\n",
    "\n",
    "process_guid = egeria_tech.get_element_guid_by_unique_name(provisionVolumeName)\n",
    "\n",
    "mermaid_graph = generate_process_graph(process_guid)\n",
    "render_mermaid(mermaid_graph)\n"
   ]
  },
  {
   "cell_type": "markdown",
   "id": "f0dcabd0-a15f-493a-85f9-1f5f73631f5f",
   "metadata": {},
   "source": [
    "----\n",
    "\n",
    "Fill in details about the new volume that you want to create.\n",
    "\n",
    "----"
   ]
  },
  {
   "cell_type": "code",
   "execution_count": 23,
   "id": "4616a7d2-e61f-4890-b807-d5570ca43104",
   "metadata": {},
   "outputs": [],
   "source": [
    "\n",
    "volumeName = \"new_volume\"\n",
    "volumeDescription = \"My new volume.\"\n",
    "storageLocation = \"data/new_volume\"\n",
    "volumeType = \"EXTERNAL\"\n"
   ]
  },
  {
   "cell_type": "markdown",
   "id": "b5beff2b-b3a8-453a-ba9c-7531ad5f69e4",
   "metadata": {},
   "source": [
    "----\n",
    "\n",
    "Now run the governance process to create the volume.\n",
    "\n",
    "----"
   ]
  },
  {
   "cell_type": "code",
   "execution_count": 24,
   "id": "012fd16b-f4f2-425b-8cb1-a44017cf8f71",
   "metadata": {},
   "outputs": [
    {
     "data": {
      "text/plain": [
       "'f17e21ce-c250-480e-8f7f-85096d3d87da'"
      ]
     },
     "execution_count": 24,
     "metadata": {},
     "output_type": "execute_result"
    }
   ],
   "source": [
    "\n",
    "requestParameters = {\n",
    "    \"serverNetworkAddress\" : serverNetworkAddress,\n",
    "    \"ucCatalogName\" : catalogName,\n",
    "    \"ucSchemaName\" : schemaName,\n",
    "    \"ucVolumeName\" : volumeName,\n",
    "    \"versionIdentifier\" : versionIdentifier,\n",
    "    \"ucStorageLocation\" : storageLocation,\n",
    "    \"description\" : volumeDescription,\n",
    "    \"ucVolumeType\" : volumeType\n",
    "}\n",
    "\n",
    "egeria_tech.initiate_gov_action_process(provisionVolumeName, None, None, None, requestParameters, None, None)\n"
   ]
  },
  {
   "cell_type": "markdown",
   "id": "2677e095-0724-448b-b5ef-52d1dc39b7b4",
   "metadata": {},
   "source": [
    "------\n",
    "\n",
    "The code below shows the volume you now have defined.\n",
    "\n",
    "------"
   ]
  },
  {
   "cell_type": "code",
   "execution_count": 25,
   "id": "0af42a12-745c-474f-8174-5136336f0c54",
   "metadata": {},
   "outputs": [
    {
     "name": "stdout",
     "output_type": "stream",
     "text": [
      "\n",
      "DataFolder [8434e9f1-b071-4bbc-a0f4-11f1905ed1f5]\n",
      " > pathName: data/new_volume\n",
      " > versionIdentifier: v0.1.0-SNAPSHOT\n",
      " > qualifiedName: Unity Catalog Volume:http://localhost:8080:new_catalog.new_schema.new_volume\n",
      " > name: new_volume\n",
      " > description: My new volume.\n",
      " > resourceName: new_catalog.new_schema.new_volume\n",
      " > deployedImplementationType: Unity Catalog Volume\n"
     ]
    }
   ],
   "source": [
    "\n",
    "volume_qualified_name=\"Unity Catalog Volume:\" + serverNetworkAddress + \":\" + catalogName + \".\" + schemaName + \".\" + volumeName\n",
    "\n",
    "element=egeria_tech.get_element_by_unique_name(volume_qualified_name)\n",
    "\n",
    "print_element(\"\", element)\n"
   ]
  },
  {
   "cell_type": "markdown",
   "id": "bc2cae30-cafd-478f-8746-2a49390fc128",
   "metadata": {},
   "source": [
    "----\n",
    "\n",
    "And the elements related to this schema ...\n",
    "\n",
    "----"
   ]
  },
  {
   "cell_type": "code",
   "execution_count": 26,
   "id": "9e1581d4-9953-48a9-8dd8-5e39d275a5aa",
   "metadata": {},
   "outputs": [
    {
     "name": "stdout",
     "output_type": "stream",
     "text": [
      "8434e9f1-b071-4bbc-a0f4-11f1905ed1f5\n",
      "\n",
      "ReferenceableFacet [a117c401-e38f-497e-a778-20a011d7cc37]\n",
      " > source: Unity Catalog (UC)\n",
      "\n",
      "   PropertyFacet [ec6b158c-cb08-4990-8e00-057d56d0442d]\n",
      "    > schemaVersion: 1.0\n",
      "    > qualifiedName: Unity Catalog Volume:http://localhost:8080:new_catalog.new_schema.new_volume_propertyFacetFrom_Unity Catalog (UC)@1.0\n",
      "    > description: vendorProperties\n",
      "    > properties: {ucStorageLocation=data/new_volume, ucVolumeType=EXTERNAL}\n",
      "\n",
      "DataContentForDataSet [9cf81002-09f3-4c44-b2e0-e9aeffa2ac27]\n",
      "\n",
      "   DeployedDatabaseSchema [e5bcb9b3-b2ff-4c5e-8507-81033a388472]\n",
      "    > versionIdentifier: v0.1.0-SNAPSHOT\n",
      "    > qualifiedName: Unity Catalog Schema:http://localhost:8080:new_catalog.new_schema\n",
      "    > name: new_schema\n",
      "    > description: My new schema.\n",
      "    > resourceName: new_catalog.new_schema\n",
      "    > deployedImplementationType: Unity Catalog Schema\n",
      "\n",
      "SourcedFrom [521fbe9f-c8df-46ff-b9c4-a63582064d0d]\n",
      " > sourceVersionNumber: 1728633401237\n",
      "\n",
      "   DataFolder [92d2d2dc-0798-41f0-9512-b10548d312b7]\n",
      "    > pathName: {{ucStorageLocation}}\n",
      "    > versionIdentifier: {{versionIdentifier}}\n",
      "    > qualifiedName: Unity Catalog Volume:{{serverNetworkAddress}}:{{ucCatalogName}}.{{ucSchemaName}}.{{ucVolumeName}}\n",
      "    > name: {{ucVolumeName}}\n",
      "    > description: {{description}}\n",
      "    > resourceName: {{ucCatalogName}}.{{ucSchemaName}}.{{ucVolumeName}}\n",
      "    > deployedImplementationType: Unity Catalog Volume\n",
      "\n",
      "ConnectionToAsset [67270d93-2cec-4983-97a6-927d26d6ab7c]\n",
      "\n",
      "   Connection [5bd0226c-f599-4bd8-868b-7221433088f7]\n",
      "    > displayName: new_catalog.new_schema.new_volume connection\n",
      "    > qualifiedName: Unity Catalog Volume:http://localhost:8080:new_catalog.new_schema.new_volume:Connection\n",
      "\n",
      "FolderHierarchy [6b36a502-025d-4cfd-9df8-9e66e175ca70]\n",
      "\n",
      "   FileFolder [1663e1bb-863b-4b77-be96-b3e108bde280]\n",
      "    > pathName: /data\n",
      "    > qualifiedName: FileFolder:/data\n",
      "    > name: data\n",
      "    > resourceName: data\n",
      "    > deployedImplementationType: File System Directory\n"
     ]
    }
   ],
   "source": [
    "\n",
    "volume_guid=egeria_tech.get_element_guid_by_unique_name(volume_qualified_name)\n",
    "print(volume_guid)\n",
    "\n",
    "related_elements = egeria_tech.get_related_elements(volume_guid)\n",
    "\n",
    "print_related_elements(\"\", related_elements)\n"
   ]
  },
  {
   "cell_type": "markdown",
   "id": "96fa338f-191b-4fd0-b1fa-81417caf9163",
   "metadata": {},
   "source": [
    "----\n",
    "\n",
    "# Reviewing the integration\n",
    "\n",
    "As Egeria is exchanging messages with Unity Catalog, it is building a map of the identifiers from Unity Catalog and mapping them to the elements that have been created in the open metadata ecosystem.\n",
    "\n",
    "The functions below retrieve the mappings for each catalog within Unity Catalog (UC) serevers known to Egeria.\n",
    "\n",
    "-----"
   ]
  },
  {
   "cell_type": "code",
   "execution_count": 27,
   "id": "71ece98e-6dcb-4d5f-9025-3432645d2b2a",
   "metadata": {},
   "outputs": [
    {
     "name": "stdout",
     "output_type": "stream",
     "text": [
      "\n",
      "----------------------------\n",
      "\n",
      "Catalog [8ccf3201-c8cc-48a6-b53e-c84c7f4b24a2]\n",
      " > class: ReferenceableProperties\n",
      " > typeName: Catalog\n",
      " > name: new_catalog\n",
      " > description: My new catalog.\n",
      " > capabilityVersion: v0.1.0-SNAPSHOT\n",
      " > deployedImplementationType: Unity Catalog Catalog\n",
      " > qualifiedName: Unity Catalog Catalog:http://localhost:8080:new_catalog\n",
      "\n",
      " > Permitted Synchronization: ToThirdParty\n",
      "\n",
      "      ExternalIdLink [8ca0cf26-371b-458f-a652-a0887360ec23]\n",
      "       > lastSynchronized: 1728916791937\n",
      "       > mappingProperties: {ucCatalogName=new_catalog, ucSchemaName=new_schema, serverNetworkAddress=http://localhost:8080, schemaName=new_schema}\n",
      "       > source: Unity Catalog Catalog\n",
      "\n",
      "         DeployedDatabaseSchema [e5bcb9b3-b2ff-4c5e-8507-81033a388472]\n",
      "          > versionIdentifier: v0.1.0-SNAPSHOT\n",
      "          > qualifiedName: Unity Catalog Schema:http://localhost:8080:new_catalog.new_schema\n",
      "          > name: new_schema\n",
      "          > description: My new schema.\n",
      "          > resourceName: new_catalog.new_schema\n",
      "          > deployedImplementationType: Unity Catalog Schema\n",
      "\n",
      " > Permitted Synchronization: ToThirdParty\n",
      "\n",
      "      ExternalIdLink [fbb2bd07-fe9b-4fe0-984d-6c88f37fd6cf]\n",
      "       > lastSynchronized: 1728916798067\n",
      "       > mappingProperties: {ucCatalogName=new_catalog, ucVolumeName=new_volume, ucSchemaName=new_schema, serverNetworkAddress=http://localhost:8080}\n",
      "       > source: Unity Catalog Catalog\n",
      "\n",
      "         DataFolder [8434e9f1-b071-4bbc-a0f4-11f1905ed1f5]\n",
      "          > pathName: data/new_volume\n",
      "          > versionIdentifier: v0.1.0-SNAPSHOT\n",
      "          > qualifiedName: Unity Catalog Volume:http://localhost:8080:new_catalog.new_schema.new_volume\n",
      "          > name: new_volume\n",
      "          > description: My new volume.\n",
      "          > resourceName: new_catalog.new_schema.new_volume\n",
      "          > deployedImplementationType: Unity Catalog Volume\n",
      "\n",
      " > Permitted Synchronization: ToThirdParty\n",
      "\n",
      "      ExternalIdLink [46010143-1fef-42df-8378-22f070504935]\n",
      "       > lastSynchronized: 1728916784868\n",
      "       > mappingProperties: {ucCatalogName=new_catalog, serverNetworkAddress=http://localhost:8080}\n",
      "       > source: Unity Catalog Catalog\n",
      "\n",
      "         Catalog [8ccf3201-c8cc-48a6-b53e-c84c7f4b24a2]\n",
      "          > qualifiedName: Unity Catalog Catalog:http://localhost:8080:new_catalog\n",
      "          > name: new_catalog\n",
      "          > description: My new catalog.\n",
      "          > capabilityVersion: v0.1.0-SNAPSHOT\n",
      "          > deployedImplementationType: Unity Catalog Catalog\n",
      "\n",
      "----------------------------\n",
      "\n",
      "Catalog [6190e00d-1619-436a-8d55-47d09115a10f]\n",
      " > class: ReferenceableProperties\n",
      " > typeName: Catalog\n",
      " > name: clinical_trials\n",
      " > description: Clinical trials data for personalized medicine research.\n",
      " > deployedImplementationType: Unity Catalog Catalog\n",
      " > qualifiedName: Unity Catalog Catalog:http://localhost:8080:clinical_trials\n",
      "\n",
      " > Permitted Synchronization: FromThirdParty\n",
      "\n",
      "      ExternalIdLink [4cb7f3e3-548e-4a39-b2b6-5fd384f6ffc6]\n",
      "       > lastSynchronized: 1728916739469\n",
      "       > mappingProperties: {ucCatalogName=clinical_trials, ucVolumeName=weekly_measurements, ucSchemaName=werewolf_transformation, serverNetworkAddress=http://localhost:8080}\n",
      "       > source: Unity Catalog Catalog\n",
      "\n",
      "         DataFolder [1f8ad753-8ae2-4437-b5ff-6d017a77020f]\n",
      "          > pathName: /Users/amandachessell/coco_data_lake/clinical_trials/werewolf_transformation/volumes/weekly_measurements\n",
      "          > qualifiedName: Unity Catalog Volume:http://localhost:8080:clinical_trials.werewolf_transformation.weekly_measurements\n",
      "          > name: weekly_measurements\n",
      "          > description: Weekly measurements for patients on clinical trial.  This data may only be used for this clinical trial.\n",
      "          > resourceName: clinical_trials.werewolf_transformation.weekly_measurements\n",
      "          > deployedImplementationType: Unity Catalog Volume\n",
      "\n",
      " > Permitted Synchronization: FromThirdParty\n",
      "\n",
      "      ExternalIdLink [57213d9c-4cbf-439e-9df3-801b82debc81]\n",
      "       > lastSynchronized: 1728916736863\n",
      "       > mappingProperties: {ucCatalogName=clinical_trials, serverNetworkAddress=http://localhost:8080}\n",
      "       > source: Unity Catalog Catalog\n",
      "\n",
      "         Catalog [6190e00d-1619-436a-8d55-47d09115a10f]\n",
      "          > qualifiedName: Unity Catalog Catalog:http://localhost:8080:clinical_trials\n",
      "          > name: clinical_trials\n",
      "          > description: Clinical trials data for personalized medicine research.\n",
      "          > deployedImplementationType: Unity Catalog Catalog\n",
      "\n",
      " > Permitted Synchronization: FromThirdParty\n",
      "\n",
      "      ExternalIdLink [60362c50-e9b7-469f-8fe3-6cd5cfe35d20]\n",
      "       > lastSynchronized: 1728916738964\n",
      "       > mappingProperties: {ucCatalogName=clinical_trials, ucSchemaName=teddy_bear_drop_foot, serverNetworkAddress=http://localhost:8080, schemaName=teddy_bear_drop_foot}\n",
      "       > source: Unity Catalog Catalog\n",
      "\n",
      "         DeployedDatabaseSchema [648696c8-f852-4814-bb50-6b894fba68ab]\n",
      "          > qualifiedName: Unity Catalog Schema:http://localhost:8080:clinical_trials.teddy_bear_drop_foot\n",
      "          > name: teddy_bear_drop_foot\n",
      "          > description: Data for the Teddy Bear Drop Foot Clinical Trial.\n",
      "          > resourceName: clinical_trials.teddy_bear_drop_foot\n",
      "          > deployedImplementationType: Unity Catalog Schema\n",
      "\n",
      " > Permitted Synchronization: FromThirdParty\n",
      "\n",
      "      ExternalIdLink [16a02a26-2c83-44dc-90b2-418cc3298ddb]\n",
      "       > lastSynchronized: 1728916738730\n",
      "       > mappingProperties: {ucCatalogName=clinical_trials, ucSchemaName=werewolf_transformation, serverNetworkAddress=http://localhost:8080, schemaName=werewolf_transformation}\n",
      "       > source: Unity Catalog Catalog\n",
      "\n",
      "         DeployedDatabaseSchema [dbe6f7cd-8a10-480f-b0fb-7a5a179f1678]\n",
      "          > qualifiedName: Unity Catalog Schema:http://localhost:8080:clinical_trials.werewolf_transformation\n",
      "          > name: werewolf_transformation\n",
      "          > description: New treatment for accelerating the recovery of a werewolf after transformation.\n",
      "          > resourceName: clinical_trials.werewolf_transformation\n",
      "          > deployedImplementationType: Unity Catalog Schema\n",
      "\n",
      " > Permitted Synchronization: FromThirdParty\n",
      "\n",
      "      ExternalIdLink [a03eb284-5b3e-4cb9-ab47-87cf1130473c]\n",
      "       > lastSynchronized: 1728916738847\n",
      "       > mappingProperties: {ucCatalogName=clinical_trials, ucSchemaName=hiccups, serverNetworkAddress=http://localhost:8080, schemaName=hiccups}\n",
      "       > source: Unity Catalog Catalog\n",
      "\n",
      "         DeployedDatabaseSchema [70d84332-0b67-4df6-9a1c-bd22082811a2]\n",
      "          > qualifiedName: Unity Catalog Schema:http://localhost:8080:clinical_trials.hiccups\n",
      "          > name: hiccups\n",
      "          > description: New treatment for hiccups.\n",
      "          > resourceName: clinical_trials.hiccups\n",
      "          > deployedImplementationType: Unity Catalog Schema\n",
      "\n",
      " > Permitted Synchronization: FromThirdParty\n",
      "\n",
      "      ExternalIdLink [3ec58b14-9b95-4e8a-b174-d035dcd39cd9]\n",
      "       > lastSynchronized: 1728916740163\n",
      "       > mappingProperties: {ucCatalogName=clinical_trials, ucVolumeName=weekly_measurements, ucSchemaName=teddy_bear_drop_foot, serverNetworkAddress=http://localhost:8080}\n",
      "       > source: Unity Catalog Catalog\n",
      "\n",
      "         DataFolder [51529117-e350-47fe-8303-7b8f1b29faab]\n",
      "          > pathName: /Users/amandachessell/Code/uc/unitycatalog/coco-data-lake/research/clinical-trials/drop-foot/weekly-measurements\n",
      "          > qualifiedName: Unity Catalog Volume:http://localhost:8080:clinical_trials.teddy_bear_drop_foot.weekly_measurements\n",
      "          > name: weekly_measurements\n",
      "          > description: Weekly patient measurements: PROJ-CT-TBDF - Teddy Bear Drop Foot Clinical Trial\n",
      "          > resourceName: clinical_trials.teddy_bear_drop_foot.weekly_measurements\n",
      "          > deployedImplementationType: Unity Catalog Volume\n",
      "\n",
      "----------------------------\n",
      "\n",
      "Catalog [d3660034-efbc-427b-a400-698d398cc128]\n",
      " > class: ReferenceableProperties\n",
      " > typeName: Catalog\n",
      " > name: unity\n",
      " > description: Main catalog\n",
      " > deployedImplementationType: Unity Catalog Catalog\n",
      " > qualifiedName: Unity Catalog Catalog:http://localhost:8080:unity\n",
      "\n",
      " > Permitted Synchronization: FromThirdParty\n",
      "\n",
      "      ExternalIdLink [c7664de1-d081-4f33-b452-4b0a332e91b1]\n",
      "       > lastSynchronized: 1728916741154\n",
      "       > mappingProperties: {ucCatalogName=unity, ucVolumeName=txt_files, ucSchemaName=default, serverNetworkAddress=http://localhost:8080}\n",
      "       > source: Unity Catalog Catalog\n",
      "\n",
      "         DataFolder [221b357b-d314-4fb4-b9f9-050b2f7a5f8d]\n",
      "          > pathName: /Users/amandachessell/Code/uc/unitycatalog/etc/data/managed/unity/default/volumes/txt_files/\n",
      "          > qualifiedName: Unity Catalog Volume:http://localhost:8080:unity.default.txt_files\n",
      "          > name: txt_files\n",
      "          > resourceName: unity.default.txt_files\n",
      "          > deployedImplementationType: Unity Catalog Volume\n",
      "\n",
      " > Permitted Synchronization: FromThirdParty\n",
      "\n",
      "      ExternalIdLink [9f1bd14c-3861-4dab-bdd9-6c13bcca0539]\n",
      "       > lastSynchronized: 1728916741651\n",
      "       > mappingProperties: {ucCatalogName=unity, ucVolumeName=json_files, ucSchemaName=default, serverNetworkAddress=http://localhost:8080}\n",
      "       > source: Unity Catalog Catalog\n",
      "\n",
      "         DataFolder [cd7323bc-e7f7-4e3e-ac2e-aece63006171]\n",
      "          > pathName: /Users/amandachessell/Code/uc/unitycatalog/etc/data/external/unity/default/volumes/json_files/\n",
      "          > qualifiedName: Unity Catalog Volume:http://localhost:8080:unity.default.json_files\n",
      "          > name: json_files\n",
      "          > resourceName: unity.default.json_files\n",
      "          > deployedImplementationType: Unity Catalog Volume\n",
      "\n",
      " > Permitted Synchronization: FromThirdParty\n",
      "\n",
      "      ExternalIdLink [aa6b72ce-2225-4c98-968c-12a60e5015fc]\n",
      "       > lastSynchronized: 1728916741921\n",
      "       > mappingProperties: {ucCatalogName=unity, ucVolumeName=my_new_volume, ucSchemaName=default, serverNetworkAddress=http://localhost:8080}\n",
      "       > source: Unity Catalog Catalog\n",
      "\n",
      "         DataFolder [c24bd40f-8f3c-4237-90b6-c308701badb6]\n",
      "          > pathName: /Users/amandachessell/Code/uc/unitycatalog/data/my_volume\n",
      "          > qualifiedName: Unity Catalog Volume:http://localhost:8080:unity.default.my_new_volume\n",
      "          > name: my_new_volume\n",
      "          > description: Volume from Egeria.\n",
      "          > resourceName: unity.default.my_new_volume\n",
      "          > deployedImplementationType: Unity Catalog Volume\n",
      "\n",
      " > Permitted Synchronization: FromThirdParty\n",
      "\n",
      "      ExternalIdLink [8046eb8d-1bb2-48a3-af9b-4279f4323f77]\n",
      "       > lastSynchronized: 1728916742846\n",
      "       > mappingProperties: {ucCatalogName=unity, ucSchemaName=default, serverNetworkAddress=http://localhost:8080, ucFunctionName=sum}\n",
      "       > source: Unity Catalog Catalog\n",
      "\n",
      "         DeployedAPI [dde2d3cd-802c-47e0-a2ed-405879579a3c]\n",
      "          > qualifiedName: Unity Catalog Function:http://localhost:8080:unity.default.sum\n",
      "          > name: sum\n",
      "          > description: Adds two numbers.\n",
      "          > resourceName: unity.default.sum\n",
      "          > deployedImplementationType: Unity Catalog Function\n",
      "\n",
      " > Permitted Synchronization: FromThirdParty\n",
      "\n",
      "      ExternalIdLink [cde0d0a3-1dd2-48fc-9080-8a4c58d37477]\n",
      "       > lastSynchronized: 1728916736725\n",
      "       > mappingProperties: {ucCatalogName=unity, serverNetworkAddress=http://localhost:8080}\n",
      "       > source: Unity Catalog Catalog\n",
      "\n",
      "         Catalog [d3660034-efbc-427b-a400-698d398cc128]\n",
      "          > qualifiedName: Unity Catalog Catalog:http://localhost:8080:unity\n",
      "          > name: unity\n",
      "          > description: Main catalog\n",
      "          > deployedImplementationType: Unity Catalog Catalog\n",
      "\n",
      " > Permitted Synchronization: FromThirdParty\n",
      "\n",
      "      ExternalIdLink [4514504c-0d5a-4739-bc99-93ae995cf192]\n",
      "       > lastSynchronized: 1728916743003\n",
      "       > mappingProperties: {ucCatalogName=unity, ucSchemaName=default, serverNetworkAddress=http://localhost:8080, ucFunctionName=lowercase}\n",
      "       > source: Unity Catalog Catalog\n",
      "\n",
      "         DeployedAPI [2c315421-43a4-4a37-84e3-7bbf4cc88449]\n",
      "          > qualifiedName: Unity Catalog Function:http://localhost:8080:unity.default.lowercase\n",
      "          > name: lowercase\n",
      "          > description: Converts a string to lowercase.\n",
      "          > resourceName: unity.default.lowercase\n",
      "          > deployedImplementationType: Unity Catalog Function\n",
      "\n",
      " > Permitted Synchronization: FromThirdParty\n",
      "\n",
      "      ExternalIdLink [89935862-8ec8-438e-a832-b01618a8e45f]\n",
      "       > lastSynchronized: 1728916742131\n",
      "       > mappingProperties: {ucCatalogName=unity, ucVolumeName=my_new_volume2, ucSchemaName=default, serverNetworkAddress=http://localhost:8080}\n",
      "       > source: Unity Catalog Catalog\n",
      "\n",
      "         DataFolder [67278552-8ae9-4431-9a59-692cc1e070c6]\n",
      "          > pathName: /Users/amandachessell/Code/uc/unitycatalog/data/my_volume\n",
      "          > qualifiedName: Unity Catalog Volume:http://localhost:8080:unity.default.my_new_volume2\n",
      "          > name: my_new_volume2\n",
      "          > description: Volume from Egeria.\n",
      "          > resourceName: unity.default.my_new_volume2\n",
      "          > deployedImplementationType: Unity Catalog Volume\n",
      "\n",
      " > Permitted Synchronization: FromThirdParty\n",
      "\n",
      "      ExternalIdLink [0092241b-fbc3-4638-8685-c9cde290f3da]\n",
      "       > lastSynchronized: 1728916740341\n",
      "       > mappingProperties: {ucCatalogName=unity, ucSchemaName=default, serverNetworkAddress=http://localhost:8080, schemaName=default}\n",
      "       > source: Unity Catalog Catalog\n",
      "\n",
      "         DeployedDatabaseSchema [75a8ef4c-8ea0-43fc-a58f-1775364219d6]\n",
      "          > qualifiedName: Unity Catalog Schema:http://localhost:8080:unity.default\n",
      "          > name: default\n",
      "          > description: Default schema\n",
      "          > resourceName: unity.default\n",
      "          > deployedImplementationType: Unity Catalog Schema\n",
      "\n",
      " > Permitted Synchronization: FromThirdParty\n",
      "\n",
      "      ExternalIdLink [6a78db18-ab65-4ff4-b9fa-576b3707544c]\n",
      "       > lastSynchronized: 1728916740451\n",
      "       > mappingProperties: {ucCatalogName=unity, ucSchemaName=clinical_trial_drop_foot, serverNetworkAddress=http://localhost:8080, schemaName=clinical_trial_drop_foot}\n",
      "       > source: Unity Catalog Catalog\n",
      "\n",
      "         DeployedDatabaseSchema [98216028-ae0e-493e-ad4b-16315e5416ee]\n",
      "          > qualifiedName: Unity Catalog Schema:http://localhost:8080:unity.clinical_trial_drop_foot\n",
      "          > name: clinical_trial_drop_foot\n",
      "          > description: Example clinical trial used for education and testing of governance procedures.\n",
      "          > resourceName: unity.clinical_trial_drop_foot\n",
      "          > deployedImplementationType: Unity Catalog Schema\n",
      "\n",
      " > Permitted Synchronization: FromThirdParty\n",
      "\n",
      "      ExternalIdLink [4e9e17ed-d85e-436a-b70a-7d2793ff6fd5]\n",
      "       > lastSynchronized: 1728916742482\n",
      "       > mappingProperties: {ucCatalogName=unity, ucSchemaName=default, serverNetworkAddress=http://localhost:8080, ucTableName=marksheet_uniform}\n",
      "       > source: Unity Catalog Catalog\n",
      "\n",
      "         VirtualRelationalTable [a8f41a9c-1ad2-4efa-95cb-4d539bae8b4c]\n",
      "          > qualifiedName: Unity Catalog Table:http://localhost:8080:unity.default.marksheet_uniform\n",
      "          > name: marksheet_uniform\n",
      "          > description: Uniform table\n",
      "          > resourceName: unity.default.marksheet_uniform\n",
      "          > deployedImplementationType: Unity Catalog Table\n",
      "\n",
      " > Permitted Synchronization: FromThirdParty\n",
      "\n",
      "      ExternalIdLink [42f39ad7-1746-499c-a510-3928fec008ed]\n",
      "       > lastSynchronized: 1728916742685\n",
      "       > mappingProperties: {ucCatalogName=unity, ucSchemaName=default, serverNetworkAddress=http://localhost:8080, ucTableName=marksheet}\n",
      "       > source: Unity Catalog Catalog\n",
      "\n",
      "         VirtualRelationalTable [bd47e44b-8cd1-4736-8be7-98915006070e]\n",
      "          > qualifiedName: Unity Catalog Table:http://localhost:8080:unity.default.marksheet\n",
      "          > name: marksheet\n",
      "          > description: Managed table\n",
      "          > resourceName: unity.default.marksheet\n",
      "          > deployedImplementationType: Unity Catalog Table\n",
      "\n",
      " > Permitted Synchronization: FromThirdParty\n",
      "\n",
      "      ExternalIdLink [1c6f0be6-fdb2-4328-ac19-f83bbea8f6dd]\n",
      "       > lastSynchronized: 1728916742290\n",
      "       > mappingProperties: {ucCatalogName=unity, ucSchemaName=default, serverNetworkAddress=http://localhost:8080, ucTableName=numbers}\n",
      "       > source: Unity Catalog Catalog\n",
      "\n",
      "         VirtualRelationalTable [c93b6eb2-b477-4d7c-b7bd-942d7e1724aa]\n",
      "          > qualifiedName: Unity Catalog Table:http://localhost:8080:unity.default.numbers\n",
      "          > name: numbers\n",
      "          > description: External table\n",
      "          > resourceName: unity.default.numbers\n",
      "          > deployedImplementationType: Unity Catalog Table\n"
     ]
    }
   ],
   "source": [
    "\n",
    "unity_catalog_catalogs = egeria_tech.get_technology_type_elements(\"Unity Catalog Catalog\")\n",
    "\n",
    "if unity_catalog_catalogs:\n",
    "    for catalog in unity_catalog_catalogs:\n",
    "        print()\n",
    "        print(\"----------------------------\")\n",
    "        print_external_id_map(catalog)\n",
    "        "
   ]
  },
  {
   "cell_type": "code",
   "execution_count": null,
   "id": "427bdf7b-b014-4eb2-8116-35f56e2f2311",
   "metadata": {},
   "outputs": [],
   "source": []
  },
  {
   "cell_type": "code",
   "execution_count": null,
   "id": "43625bc0-251a-4762-9895-0694aba9bae8",
   "metadata": {},
   "outputs": [],
   "source": []
  },
  {
   "cell_type": "code",
   "execution_count": null,
   "id": "36c7f8d7-5678-4d23-b07a-ec8cd8ce5acb",
   "metadata": {},
   "outputs": [],
   "source": []
  }
 ],
 "metadata": {
  "kernelspec": {
   "display_name": "Python 3 (ipykernel)",
   "language": "python",
   "name": "python3"
  },
  "language_info": {
   "codemirror_mode": {
    "name": "ipython",
    "version": 3
   },
   "file_extension": ".py",
   "mimetype": "text/x-python",
   "name": "python",
   "nbconvert_exporter": "python",
   "pygments_lexer": "ipython3",
   "version": "3.11.10"
  }
 },
 "nbformat": 4,
 "nbformat_minor": 5
}

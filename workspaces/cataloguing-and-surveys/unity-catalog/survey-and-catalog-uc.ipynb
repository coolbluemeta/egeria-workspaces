{
 "cells": [
  {
   "cell_type": "markdown",
   "id": "ea5b328c-8324-4604-832c-7c22a6f2011c",
   "metadata": {},
   "source": [
    "<!-- SPDX-License-Identifier: CC-BY-4.0 -->\n",
    "<!-- Copyright Contributors to the ODPi Egeria project 2024. -->\n",
    "\n",
    "![Egeria Logo](https://raw.githubusercontent.com/odpi/egeria/main/assets/img/ODPi_Egeria_Logo_color.png)\n",
    "\n",
    "### Egeria Workbook\n",
    "\n",
    "# Surveying and Cataloguing Unity Catalog (UC)\n",
    "\n",
    "## Introduction\n",
    "\n",
    "Both Unity Catalog and Egeria are open source projects with the LF AI and Data.  The difference between these technologies is:\n",
    "\n",
    " * Unity Catalog is responsible for governing access to data; whereas Egeria governs the exchange of metadata between tools and systems, such as Unity Catalog.\n",
    "\n",
    " * Similarly, Unity Catalog maintains a metadata repository describing the data it is protecting.  In contrast, Egeria maintains a distributed network of metadata repositories containing metadata about the technology (systems, tools, data), the processes that are operating on them, along with the people and organizations involved.\n",
    "\n",
    "This notebook shows the integration between Egeria and Unity Catalog. Egeria can run surveys of the catalogs within a Unity Catalog server, it can catalog the contents of these catalogs (so that they can be incorporated in larger governance processes and searches) and it is possible to provision catalogs, schemas and volumes to a Unity Catalog Server.\n",
    "\n",
    "Run the code below to initialize Egeria's python libaries and create a client to the Egeria servers.\n",
    "\n",
    "---\n"
   ]
  },
  {
   "cell_type": "code",
   "execution_count": null,
   "id": "0d69a112-bf72-48f4-b958-0f918a73b2f7",
   "metadata": {},
   "outputs": [],
   "source": [
    "# Initialize pyegeria\n",
    "\n",
    "%run ../../pyegeria/initialize-pyegeria.ipynb\n"
   ]
  },
  {
   "cell_type": "code",
   "execution_count": null,
   "id": "f718e011-3d1d-48c9-b29d-ff5617906a61",
   "metadata": {},
   "outputs": [],
   "source": [
    "\n",
    "egeria_tech = EgeriaTech(view_server, url, user_id, user_pwd)\n",
    "token = egeria_tech.create_egeria_bearer_token()\n"
   ]
  },
  {
   "cell_type": "markdown",
   "id": "4ee3758f-7c63-4650-81f2-b640da78b8ac",
   "metadata": {},
   "source": [
    "---\n",
    "\n",
    "## Loading support for Unity Catalog\n",
    "\n",
    "The definition of the Unity Catalog connectors, templates and associated reference data are loaded via a [Content Pack](https://egeria-project.org/content-packs/) called `UnityCatalogContentPack.omarchive`.  The content pack can be loaded multiple times without ill-effect so run the following command to make sure it is loaded.\n",
    "\n",
    "---"
   ]
  },
  {
   "cell_type": "code",
   "execution_count": null,
   "id": "a1218c27-247a-4061-b46e-7fb7bfc5395a",
   "metadata": {},
   "outputs": [],
   "source": [
    "\n",
    "egeria_tech.add_archive_file(\"content-packs/UnityCatalogContentPack.omarchive\", None, \"qs-metadata-store\")\n",
    "\n",
    "print(\"Archive loaded!\")\n"
   ]
  },
  {
   "cell_type": "markdown",
   "id": "a4cb5992-8b3e-4b81-ac0c-69a61e1d6509",
   "metadata": {},
   "source": [
    "----\n",
    "\n",
    "Run the command command below to confirm that the connectors that synchronize metadata between Egeria and Unity Catalog are running, waiting for work:\n",
    "\n",
    "* UnityCatalogServerSynchronizer synchronizes catalog information from a Unity Catalog Server. It passes details of the catalogs it finds onto UnityCatalogInsideCatalogSynchronizer.\n",
    "* UnityCatalogInsideCatalogSynchronizer synchronizes the schema, volume, table and function metadata between Egeria and Unity Catalog.\n",
    "\n",
    "----"
   ]
  },
  {
   "cell_type": "code",
   "execution_count": null,
   "id": "b84947db-7d93-4643-b228-a22587d69a5d",
   "metadata": {},
   "outputs": [],
   "source": [
    "display_integration_daemon_status(['UnityCatalogServerSynchronizer', 'UnityCatalogInsideCatalogSynchronizer'], paging=True, width=150)"
   ]
  },
  {
   "cell_type": "markdown",
   "id": "55b48a98-efe8-4b19-9e1e-a9ece9774f82",
   "metadata": {},
   "source": [
    "----\n",
    "\n",
    "## Gathering data about your Unity Catalog Server\n",
    "\n",
    "You need to provide Egeria with some basic information about your Unity Catalog server.  Fill in the details below.\n",
    "\n",
    "-----"
   ]
  },
  {
   "cell_type": "code",
   "execution_count": null,
   "id": "38b1fc42-1aca-4242-b160-9185515eeca9",
   "metadata": {},
   "outputs": [],
   "source": [
    "# This is the technology type if the server is the Open Source version of Unity Catalog.\n",
    "# Use \"Databricks Unity Catalog Server\" if this is a Databricks cloud service version of Unity Catalog.\n",
    "serverTechnologyType = \"Unity Catalog Server\"\n",
    "\n",
    "# This is the network location used to call the Unity Catalog Server.\n",
    "# For Unity Catalog running on your local machine, use:\n",
    "#   * \"http://localhost\" if Egeria is also running natively on your local machine, or\n",
    "#   * \"http://host.docker.internal\" if Egeria is running in a docker image.\n",
    "#\n",
    "hostURL=\"http://host.docker.local\"\n",
    "portNumber=\"8080\"\n",
    "\n",
    "# This is a unique name that the server is known as\n",
    "serverName=\"Unity Catalog 1\"\n",
    "\n",
    "# Add a short description of the server\n",
    "description=\"Local instance of the Unity Catalog (UC) Server.\"\n",
    "\n",
    "# This is the verion of Unity Catalog\n",
    "versionIdentifier=\"v0.3.0-SNAPSHOT\"\n",
    "\n",
    "# This is the userId that the connectors will use when creating metadata in Egeria that describes resources in Unity Catalog.\n",
    "serverUserId=\"uc1\"\n",
    "\n",
    "# These values are user in later sections\n",
    "serverQualifiedName=serverTechnologyType + \":\" + serverName\n",
    "serverNetworkAddress=hostURL + \":\" + portNumber\n"
   ]
  },
  {
   "cell_type": "markdown",
   "id": "526ea0a1-61ef-45e8-b979-9e8aec39ef00",
   "metadata": {},
   "source": [
    "-----\n",
    "\n",
    "## Survey a Unity Catalog Server\n",
    "\n",
    "The Unity Catalog support includes the ability to survey the contents of a Unity Catalog Server.  This command creates a description of the Unity Catalog Server and runs a survey to understand its contents.  A summary of the survey results can be found in /distribution-hub/surveys.\n",
    "\n",
    "---"
   ]
  },
  {
   "cell_type": "code",
   "execution_count": null,
   "id": "6fd24f3d-ab5e-4fd9-a320-e999254ae125",
   "metadata": {},
   "outputs": [],
   "source": [
    "\n",
    "createAndSurveyServerName=\"UnityCatalogServer:CreateAndSurveyGovernanceActionProcess\"\n",
    "\n",
    "process_guid = egeria_tech.get_element_guid_by_unique_name(createAndSurveyServerName)\n",
    "\n",
    "process_graph = egeria_tech.get_gov_action_process_graph(process_guid)\n",
    "print_governance_action_process_graph(process_graph)\n"
   ]
  },
  {
   "cell_type": "code",
   "execution_count": null,
   "id": "f8f4b200-0a6f-4505-86ac-036c3e40feaa",
   "metadata": {},
   "outputs": [],
   "source": [
    "\n",
    "requestParameters = {\n",
    "    \"hostURL\" : hostURL,\n",
    "    \"portNumber\" : portNumber,\n",
    "    \"serverName\" : serverName,  \n",
    "    \"versionIdentifier\" : versionIdentifier,\n",
    "    \"description\" : description,\n",
    "    \"serverUserId\" : serverUserId\n",
    "}\n",
    "\n",
    "egeria_tech.initiate_gov_action_process(createAndSurveyServerName, None, None, None, requestParameters, None, None)\n"
   ]
  },
  {
   "cell_type": "markdown",
   "id": "cb62bfde-4760-4965-a192-a63734ed2943",
   "metadata": {},
   "source": [
    "----\n",
    "\n",
    "The command below displays the latest governance actions.  You should see they are in **ACTIONED** status.  If you see failures it means that either the Unity Catalog server is not running or the values describing its location are not correct.  If Unity Catalog is down, restart it and re-run the cell above.  If you realize one or more of the values describing Unity Catalog is not right, go to the bottom of this notebook to the section **Starting again ...** and run the delete process.  Then you can go back up to the section called **Gathering data about your Unity Catalog Server** and carry on from there.\n",
    "\n",
    "----"
   ]
  },
  {
   "cell_type": "code",
   "execution_count": null,
   "id": "494e7a6f-981d-46b1-b4b4-08b9dbf593cd",
   "metadata": {},
   "outputs": [],
   "source": [
    "display_engine_activity_c()"
   ]
  },
  {
   "cell_type": "markdown",
   "id": "859f4f1f-fc29-4c41-a417-7fe4a55535bd",
   "metadata": {},
   "source": [
    "----\n",
    "\n",
    "Open up the survey file and review the contents of the Unity Catalog Server. Notice there can be multiple catalogs in a Unity Catalog Server.  Also notice the hierarchical naming of the unity catalog elements.  Catalogs have schemas inside them and the schemas can have tables, functions and/or volumes within them.\n",
    "\n",
    "----\n",
    "\n",
    "Use the command `hey_egeria_ops show engines activity --compressed` to view the governance actions that ran as a result of the survey requests.  \n",
    "There were two steps.  First it created a `SoftwareServer` element to represent the Unity Catalog Server. \n",
    "This stores the network address of the server.  Then the survey was run using this element.\n",
    "\n",
    "-----\n",
    "\n",
    "Now navigate to `distribution-hub/logs/openlineage/GovernanceActions`.  This directory stores the open lineage events created when the surveys were run.  Each event record the start or stop of a governance action.\n",
    "\n"
   ]
  },
  {
   "cell_type": "markdown",
   "id": "75b3de18-5c00-4ef8-b1e0-307f0c11359a",
   "metadata": {},
   "source": [
    "---\n",
    "\n",
    "## Cataloguing Unity Catalog metadata in Egeria\n",
    "\n",
    "If the surveys look interesting, it is possible to synchronize the metadata between Unity Catalog and Egeria.  Run the command command below. \n",
    "\n",
    "The process shown below will request that the contents of the first Unity Catalog server is catalogued into Egeria.\n",
    "\n",
    "---"
   ]
  },
  {
   "cell_type": "code",
   "execution_count": null,
   "id": "bd5635f2-e41e-45b5-90be-8c80dd85f5e7",
   "metadata": {},
   "outputs": [],
   "source": [
    "\n",
    "createAndCatalogServerName=\"UnityCatalogServer:CreateAsCatalogTargetGovernanceActionProcess\"\n",
    "\n",
    "process_guid = egeria_tech.get_element_guid_by_unique_name(createAndCatalogServerName)\n",
    "\n",
    "process_graph = egeria_tech.get_gov_action_process_graph(process_guid)\n",
    "print_governance_action_process_graph(process_graph)\n"
   ]
  },
  {
   "cell_type": "markdown",
   "id": "4cdfb079-c88b-47f8-a8b2-f6a22190f11f",
   "metadata": {},
   "source": [
    "----\n",
    "\n",
    "The code below will configure these connectors to catalog the server.\n",
    "\n",
    "----"
   ]
  },
  {
   "cell_type": "code",
   "execution_count": null,
   "id": "e439ea75-05a0-4819-b86d-a1eeb8833af2",
   "metadata": {},
   "outputs": [],
   "source": [
    "\n",
    "requestParameters = {\n",
    "    \"hostURL\" : hostURL,\n",
    "    \"portNumber\" : portNumber,\n",
    "    \"serverName\" : serverName,  \n",
    "    \"versionIdentifier\" : versionIdentifier,\n",
    "    \"description\" : description,\n",
    "    \"serverUserId\" : serverUserId\n",
    "}\n",
    "\n",
    "egeria_tech.initiate_gov_action_process(createAndCatalogServerName, None, None, None, requestParameters, None, None)\n"
   ]
  },
  {
   "cell_type": "markdown",
   "id": "b6dbd30f-6ded-4411-a3c6-fe9a6089af98",
   "metadata": {},
   "source": [
    "----\n",
    "\n",
    "Again it is possible to watch the execution of the process.  Notice that only 2 engine actions are activated.\n",
    "\n",
    "----"
   ]
  },
  {
   "cell_type": "code",
   "execution_count": null,
   "id": "1ba9ebc8-ae7b-421c-a989-187387b35fe6",
   "metadata": {},
   "outputs": [],
   "source": [
    "display_engine_activity_c()"
   ]
  },
  {
   "cell_type": "markdown",
   "id": "49d65628-7bd8-4848-a376-2dbd2bcb6210",
   "metadata": {},
   "source": [
    "----\n",
    "\n",
    "The effect of the process is to configure the *UnityCatalogServerSynchronizer* connector to extract the catalog found in the Unity Catalog Server and then configure the *UnityCatalogInsideCatalogSynchronizer* to catalog each one it finds.\n",
    "The Target Element column shows the details of the server/catalogs they are working with.\n",
    "\n",
    "----"
   ]
  },
  {
   "cell_type": "code",
   "execution_count": null,
   "id": "029a2fcb-b56e-49b7-8b47-619a8a9b498c",
   "metadata": {},
   "outputs": [],
   "source": [
    "display_integration_daemon_status(['UnityCatalogServerSynchronizer', 'UnityCatalogInsideCatalogSynchronizer'], paging=True, width=200)"
   ]
  },
  {
   "cell_type": "markdown",
   "id": "bab9ab17-f993-41a9-81a7-2696897123ca",
   "metadata": {},
   "source": [
    "---\n",
    "\n",
    "Below is a graph of the elements found during the cataloguing process.  You can see the schemas and the tables, volumes and functions underneath them.  The types of the elements are shown using [open metadata types](https://egeria-project.org/connectors/unity-catalog/#open-metadata-type-mapping-for-unity-catalog).\n",
    "\n",
    "---"
   ]
  },
  {
   "cell_type": "code",
   "execution_count": null,
   "id": "ffd49f85-d137-43b8-a988-85c57556ab02",
   "metadata": {},
   "outputs": [],
   "source": [
    "unity_default_qualified_name=\"Unity Catalog Schema:\" + serverNetworkAddress + \":unity.default\"\n",
    "\n",
    "guid=egeria_tech.get_element_guid_by_unique_name(unity_default_qualified_name)\n",
    "\n",
    "print(guid)\n",
    "\n",
    "graph = egeria_tech.get_asset_lineage_mermaid_graph(guid)\n",
    "\n",
    "render_mermaid(graph)"
   ]
  },
  {
   "cell_type": "markdown",
   "id": "bda2f891-10a5-41bb-bbf7-1212339f75c5",
   "metadata": {},
   "source": [
    "----\n",
    "\n",
    "You can use the following commands to show the elements from Unity Catalog in Egeria:\n",
    "\n",
    "* `hey_egeria cat show tech-type-elements --tech_type 'Unity Catalog Server'` for the Unity Catalog Servers.\n",
    "* `hey_egeria cat show tech-type-elements --tech_type 'Unity Catalog Catalog'` for the Unity Catalog Catalogs.\n",
    "* `hey_egeria cat show tech-type-elements --tech_type 'Unity Catalog Schema'` for the Unity Catalog Schemas.\n",
    "* `hey_egeria cat show tech-type-elements --tech_type 'Unity Catalog Table'` for the Unity Catalog Tables.\n",
    "* `hey_egeria cat show tech-type-elements --tech_type 'Unity Catalog Volume'` for the Unity Catalog Volumes.\n",
    "* `hey_egeria cat show tech-type-elements --tech_type 'Unity Catalog Function'` for the Unity Catalog Functions.\n",
    "\n",
    "You can also use `hey_egeria_cat show assets inventory` to search for assets that include the word `inventory` in it.\n",
    "\n",
    "----\n",
    "\n",
    "It is also possible to use python functions to retrieve information about the Unity Catalog resources.  This uses the `egeria_cat` client.\n",
    "\n",
    "----"
   ]
  },
  {
   "cell_type": "code",
   "execution_count": null,
   "id": "3f26d7e3-4edb-4ead-923e-f64268d0b11f",
   "metadata": {},
   "outputs": [],
   "source": [
    "from pyegeria.commands.ops.list_catalog_targets import display_catalog_targets\n",
    "\n",
    "display_catalog_targets(\"UnityCatalogInsideCatalogSynchronizer\",\n",
    "                       view_server,\n",
    "                       url,\n",
    "                       user_id,\n",
    "                       user_pwd)\n"
   ]
  },
  {
   "cell_type": "code",
   "execution_count": null,
   "id": "1826ddcc-14f9-40ca-848a-2f1a77e3cd84",
   "metadata": {},
   "outputs": [],
   "source": [
    "\n",
    "egeria_cat = EgeriaCat(view_server, url, user_id, user_pwd)\n",
    "egeria_cat.set_bearer_token(token)\n"
   ]
  },
  {
   "cell_type": "markdown",
   "id": "afcab3ed-cf03-4dce-b6a9-0ccfbf8ae8a3",
   "metadata": {},
   "source": [
    "----\n",
    "\n",
    "The command below retrieves assets that match the search query.  If you see the message \"no assets found\" then re-run the request as the synchronization process may not have been comopleted.\n",
    "\n",
    "----"
   ]
  },
  {
   "cell_type": "code",
   "execution_count": null,
   "id": "46fb242c-b9ac-496d-9719-cb2a7899ee9e",
   "metadata": {},
   "outputs": [],
   "source": [
    "\n",
    "search_results = egeria_cat.find_in_asset_domain(\"numbers\")\n",
    "\n",
    "print_search_results(search_results)\n",
    "       "
   ]
  },
  {
   "cell_type": "markdown",
   "id": "2dc2adf8-49bc-40a3-9b6e-e86858a0e432",
   "metadata": {},
   "source": [
    "----\n",
    "This shows that metadata can be copied from Unity Catalog into Egeria's metadata repository and represented using Open Metadata Types.  The next part of the demonstration show metadata flowing from Egeria to Unity Catalog.\n"
   ]
  },
  {
   "cell_type": "markdown",
   "id": "7843318d-6181-4ea2-b49e-61a6fd32e512",
   "metadata": {},
   "source": [
    "----\n",
    "\n",
    "# Provisioning Unity Catalog (UC) from Egeria\n",
    "\n",
    "Egeria has the ability to provision resources into Unity Catalog.  The desired resources are described in Egeria using Open Metadata Elements and linked to the representation of the server, catalog or schema where the new resource is to be created.  Once the description is in place, the appropriate Unity Catalog Integration Connector will create a matching definition in Unity Catalog.\n",
    "\n",
    "The sections below go through creating a catalog, then a schema within that catalog and then a volume within that schema.  Notice that the ordering is important.  The catalog must be created before it schemas etc.\n",
    "\n",
    "-----"
   ]
  },
  {
   "cell_type": "markdown",
   "id": "e845f3fb-d0b9-4826-9bab-af811b1a3159",
   "metadata": {},
   "source": [
    "----\n",
    "\n",
    "## Provision a new catalog into a Unity Catalog (UC) Server\n",
    "\n",
    "There is only one step to provision a new catalog into a Unity Catalog Server:\n",
    "\n",
    "-----"
   ]
  },
  {
   "cell_type": "code",
   "execution_count": null,
   "id": "fd0709ad-e859-4505-955b-1aebaf3ae3dc",
   "metadata": {},
   "outputs": [],
   "source": [
    "\n",
    "provisionCatalogName=\"Provision:UnityCatalogCatalog:GovernanceActionProcess\"\n",
    "\n",
    "process_guid = egeria_tech.get_element_guid_by_unique_name(provisionCatalogName)\n",
    "\n",
    "process_graph = egeria_tech.get_gov_action_process_graph(process_guid)\n",
    "print_governance_action_process_graph(process_graph)\n"
   ]
  },
  {
   "cell_type": "markdown",
   "id": "f18b35c0-454b-448d-8812-54b3b44fc526",
   "metadata": {},
   "source": [
    "----\n",
    "\n",
    "Fill in details about the new catalog that you want to create.\n",
    "\n",
    "----"
   ]
  },
  {
   "cell_type": "code",
   "execution_count": null,
   "id": "ef546715-5f79-41de-874a-a3c806dd54fa",
   "metadata": {},
   "outputs": [],
   "source": [
    "\n",
    "catalogName = \"new_catalog\"\n",
    "catalogDescription = \"My new catalog.\"\n"
   ]
  },
  {
   "cell_type": "markdown",
   "id": "41e8f654-8ed2-4424-b48f-fcae5d87768a",
   "metadata": {},
   "source": [
    "----\n",
    "\n",
    "Now run the governance process to create the catalog.\n",
    "\n",
    "----"
   ]
  },
  {
   "cell_type": "code",
   "execution_count": null,
   "id": "1dcefaf1-8ecc-42cc-8260-316244be2f89",
   "metadata": {},
   "outputs": [],
   "source": [
    "\n",
    "requestParameters = {\n",
    "    \"ucServerQualifiedName\" : serverQualifiedName,\n",
    "    \"serverNetworkAddress\" : serverNetworkAddress,\n",
    "    \"ucCatalogName\" : catalogName,\n",
    "    \"versionIdentifier\" : versionIdentifier,\n",
    "    \"description\" : catalogDescription\n",
    "}\n",
    "\n",
    "egeria_tech.initiate_gov_action_process(provisionCatalogName, None, None, None, requestParameters, None, None)\n"
   ]
  },
  {
   "cell_type": "markdown",
   "id": "49dcb940-b801-46b4-9a3e-5d646ae1c3a9",
   "metadata": {},
   "source": [
    "------\n",
    "\n",
    "The code below shows the catalog you now have defined.\n",
    "\n",
    "------"
   ]
  },
  {
   "cell_type": "code",
   "execution_count": null,
   "id": "057d1bcb-a0e6-461d-b240-e450ac1fd947",
   "metadata": {},
   "outputs": [],
   "source": [
    "\n",
    "catalog_qualified_name=\"Unity Catalog Catalog:\" + serverNetworkAddress + \":\" + catalogName\n",
    "\n",
    "element=egeria_tech.get_element_by_unique_name(catalog_qualified_name)\n",
    "\n",
    "print_element(\"\", element)\n"
   ]
  },
  {
   "cell_type": "markdown",
   "id": "438b8400-0fab-4f04-a10d-c96429394a13",
   "metadata": {},
   "source": [
    "----\n",
    "\n",
    "The next command lists the relationships to other elements that this catalog has:\n",
    "\n",
    "----"
   ]
  },
  {
   "cell_type": "code",
   "execution_count": null,
   "id": "756ed7ca-8fc7-41ab-af43-f038472579e7",
   "metadata": {},
   "outputs": [],
   "source": [
    "\n",
    "catalog_guid=egeria_tech.get_element_guid_by_unique_name(catalog_qualified_name)\n",
    "print(catalog_guid)\n",
    "\n",
    "related_elements = egeria_tech.get_related_elements(catalog_guid)\n",
    "\n",
    "print_related_elements(\"\", related_elements)\n"
   ]
  },
  {
   "cell_type": "markdown",
   "id": "bf2e9f37-1375-471d-a8ec-12b450a793f2",
   "metadata": {},
   "source": [
    "----\n",
    "\n",
    "## Provision a new schema into a Unity Catalog (UC) Catalog\n",
    "\n",
    "This is the process to provision a new schema into a Unity Catalog Catalog:\n",
    "\n",
    "-----"
   ]
  },
  {
   "cell_type": "code",
   "execution_count": null,
   "id": "d65a2612-34a1-4c40-8b08-e2e7b5460ab9",
   "metadata": {},
   "outputs": [],
   "source": [
    "\n",
    "provisionSchemaName=\"Provision:UnityCatalogSchema:GovernanceActionProcess\"\n",
    "\n",
    "process_guid = egeria_tech.get_element_guid_by_unique_name(provisionSchemaName)\n",
    "\n",
    "process_graph = egeria_tech.get_gov_action_process_graph(process_guid)\n",
    "print_governance_action_process_graph(process_graph)\n"
   ]
  },
  {
   "cell_type": "markdown",
   "id": "87b0aaca-7d9e-40a6-963d-6a6f3b9486ba",
   "metadata": {},
   "source": [
    "----\n",
    "\n",
    "Fill in details about the new schema that you want to create.\n",
    "\n",
    "----"
   ]
  },
  {
   "cell_type": "code",
   "execution_count": null,
   "id": "d49cee8c-0c50-44c8-8e3d-96468068329c",
   "metadata": {},
   "outputs": [],
   "source": [
    "\n",
    "schemaName = \"new_schema\"\n",
    "schemaDescription = \"My new schema.\"\n"
   ]
  },
  {
   "cell_type": "markdown",
   "id": "8c04bc3e-b4bc-4715-9b9e-90cde1353217",
   "metadata": {},
   "source": [
    "----\n",
    "\n",
    "Now run the governance process to create the schema.\n",
    "\n",
    "----"
   ]
  },
  {
   "cell_type": "code",
   "execution_count": null,
   "id": "560109e8-c38c-4e7e-adc5-88b4bb9ca758",
   "metadata": {},
   "outputs": [],
   "source": [
    "\n",
    "requestParameters = {\n",
    "    \"serverNetworkAddress\" : serverNetworkAddress,\n",
    "    \"ucCatalogName\" : catalogName,\n",
    "    \"ucSchemaName\" : schemaName,\n",
    "    \"versionIdentifier\" : versionIdentifier,\n",
    "    \"description\" : schemaDescription\n",
    "}\n",
    "\n",
    "egeria_tech.initiate_gov_action_process(provisionSchemaName, None, None, None, requestParameters, None, None)\n"
   ]
  },
  {
   "cell_type": "markdown",
   "id": "83c6e6e8-2ef8-41d5-ae3d-97552815b3b9",
   "metadata": {},
   "source": [
    "------\n",
    "\n",
    "The code below shows the schema you now have defined.\n",
    "\n",
    "------"
   ]
  },
  {
   "cell_type": "code",
   "execution_count": null,
   "id": "4cdfc337-225d-485e-9ffe-c12713e62447",
   "metadata": {},
   "outputs": [],
   "source": [
    "\n",
    "schema_qualified_name=\"Unity Catalog Schema:\" + serverNetworkAddress + \":\" + catalogName + \".\" + schemaName\n",
    "\n",
    "element=egeria_tech.get_element_by_unique_name(schema_qualified_name)\n",
    "\n",
    "print_element(\"\", element)\n"
   ]
  },
  {
   "cell_type": "markdown",
   "id": "c398ae6e-07b9-4cde-a4c8-d07fde1f61d1",
   "metadata": {},
   "source": [
    "----\n",
    "\n",
    "And the elements related to it ...\n",
    "\n",
    "____"
   ]
  },
  {
   "cell_type": "code",
   "execution_count": null,
   "id": "f34ad4f1-e22d-4b90-8a61-ee31f92bde1b",
   "metadata": {},
   "outputs": [],
   "source": [
    "\n",
    "schema_guid=egeria_tech.get_element_guid_by_unique_name(schema_qualified_name)\n",
    "print(schema_guid)\n",
    "\n",
    "related_elements = egeria_tech.get_related_elements(schema_guid)\n",
    "\n",
    "print_related_elements(\"\", related_elements)\n"
   ]
  },
  {
   "cell_type": "markdown",
   "id": "91962afa-0472-44b2-9824-b90c0727c768",
   "metadata": {},
   "source": [
    "----\n",
    "\n",
    "## Provision a new volume into a Unity Catalog (UC) Schema\n",
    "\n",
    "This is the process to provision a new volume into a Unity Catalog Schema:\n",
    "\n",
    "-----"
   ]
  },
  {
   "cell_type": "code",
   "execution_count": null,
   "id": "8cea671c-5246-4a88-9549-a6b7c07cfa4b",
   "metadata": {},
   "outputs": [],
   "source": [
    "\n",
    "provisionVolumeName=\"Provision:UnityCatalogVolume:GovernanceActionProcess\"\n",
    "\n",
    "process_guid = egeria_tech.get_element_guid_by_unique_name(provisionVolumeName)\n",
    "\n",
    "process_graph = egeria_tech.get_gov_action_process_graph(process_guid)\n",
    "print_governance_action_process_graph(process_graph)\n"
   ]
  },
  {
   "cell_type": "markdown",
   "id": "f0dcabd0-a15f-493a-85f9-1f5f73631f5f",
   "metadata": {},
   "source": [
    "----\n",
    "\n",
    "Fill in details about the new volume that you want to create.\n",
    "\n",
    "----"
   ]
  },
  {
   "cell_type": "code",
   "execution_count": null,
   "id": "4616a7d2-e61f-4890-b807-d5570ca43104",
   "metadata": {},
   "outputs": [],
   "source": [
    "\n",
    "volumeName = \"new_volume\"\n",
    "volumeDescription = \"My new volume.\"\n",
    "storageLocation = \"data/new_volume\"\n",
    "volumeType = \"EXTERNAL\"\n"
   ]
  },
  {
   "cell_type": "markdown",
   "id": "b5beff2b-b3a8-453a-ba9c-7531ad5f69e4",
   "metadata": {},
   "source": [
    "----\n",
    "\n",
    "Now run the governance process to create the volume.\n",
    "\n",
    "----"
   ]
  },
  {
   "cell_type": "code",
   "execution_count": null,
   "id": "012fd16b-f4f2-425b-8cb1-a44017cf8f71",
   "metadata": {},
   "outputs": [],
   "source": [
    "\n",
    "requestParameters = {\n",
    "    \"serverNetworkAddress\" : serverNetworkAddress,\n",
    "    \"ucCatalogName\" : catalogName,\n",
    "    \"ucSchemaName\" : schemaName,\n",
    "    \"ucVolumeName\" : volumeName,\n",
    "    \"versionIdentifier\" : versionIdentifier,\n",
    "    \"ucStorageLocation\" : storageLocation,\n",
    "    \"description\" : volumeDescription,\n",
    "    \"ucVolumeType\" : volumeType\n",
    "}\n",
    "\n",
    "egeria_tech.initiate_gov_action_process(provisionVolumeName, None, None, None, requestParameters, None, None)\n"
   ]
  },
  {
   "cell_type": "markdown",
   "id": "2677e095-0724-448b-b5ef-52d1dc39b7b4",
   "metadata": {},
   "source": [
    "------\n",
    "\n",
    "The code below shows the volume you now have defined.\n",
    "\n",
    "------"
   ]
  },
  {
   "cell_type": "code",
   "execution_count": null,
   "id": "0af42a12-745c-474f-8174-5136336f0c54",
   "metadata": {},
   "outputs": [],
   "source": [
    "\n",
    "volume_qualified_name=\"Unity Catalog Volume:\" + serverNetworkAddress + \":\" + catalogName + \".\" + schemaName + \".\" + volumeName\n",
    "\n",
    "element=egeria_tech.get_element_by_unique_name(volume_qualified_name)\n",
    "\n",
    "print_element(\"\", element)\n"
   ]
  },
  {
   "cell_type": "markdown",
   "id": "bc2cae30-cafd-478f-8746-2a49390fc128",
   "metadata": {},
   "source": [
    "----\n",
    "\n",
    "And the elements related to this schema ...\n",
    "\n",
    "----"
   ]
  },
  {
   "cell_type": "code",
   "execution_count": null,
   "id": "9e1581d4-9953-48a9-8dd8-5e39d275a5aa",
   "metadata": {},
   "outputs": [],
   "source": [
    "\n",
    "volume_guid=egeria_tech.get_element_guid_by_unique_name(volume_qualified_name)\n",
    "print(volume_guid)\n",
    "\n",
    "related_elements = egeria_tech.get_related_elements(volume_guid)\n",
    "\n",
    "print_related_elements(\"\", related_elements)\n"
   ]
  },
  {
   "cell_type": "markdown",
   "id": "96fa338f-191b-4fd0-b1fa-81417caf9163",
   "metadata": {},
   "source": [
    "----\n",
    "\n",
    "# Reviewing the integration\n",
    "\n",
    "As Egeria is exchanging messages with Unity Catalog, it is building a map of the identifiers from Unity Catalog and mapping them to the elements that have been created in the open metadata ecosystem.\n",
    "\n",
    "The functions below retrieve the mappings for each catalog within Unity Catalog (UC) serevers known to Egeria.\n",
    "\n",
    "-----"
   ]
  },
  {
   "cell_type": "code",
   "execution_count": null,
   "id": "71ece98e-6dcb-4d5f-9025-3432645d2b2a",
   "metadata": {},
   "outputs": [],
   "source": [
    "\n",
    "unity_catalog_catalogs = egeria_tech.get_technology_type_elements(\"Unity Catalog Catalog\")\n",
    "\n",
    "if unity_catalog_catalogs:\n",
    "    for catalog in unity_catalog_catalogs:\n",
    "        print()\n",
    "        print(\"----------------------------\")\n",
    "        print_external_id_map(catalog)\n",
    "        "
   ]
  },
  {
   "cell_type": "markdown",
   "id": "1fd6c6a6-79bb-4da5-a4fd-01156dfc1488",
   "metadata": {},
   "source": [
    "----\n",
    "\n",
    "# Starting again ...\n",
    "\n",
    "If you made a mistake in the server details supplied for Unity Catalog, it is possible to remove the server definition using the delete process as follows.  Leave all of the settings unchanged and run this process.  Then you can go to the top, change the settings and re-run the survey and/or catalog processes are desired.\n",
    "\n",
    "-----"
   ]
  },
  {
   "cell_type": "code",
   "execution_count": null,
   "id": "224d9f95-46c0-4f85-b02b-1e91fec6c737",
   "metadata": {},
   "outputs": [],
   "source": [
    "deleteCatalogName=\"UnityCatalogServer:DeleteAssetWithTemplateGovernanceActionProcess\"\n",
    "\n",
    "process_guid = egeria_tech.get_element_guid_by_unique_name(deleteCatalogName)\n",
    "\n",
    "process_graph = egeria_tech.get_gov_action_process_graph(process_guid)\n",
    "print_governance_action_process_graph(process_graph)\n"
   ]
  },
  {
   "cell_type": "code",
   "execution_count": null,
   "id": "5ebf5013-a7d9-4c6e-8f3e-de2c85013211",
   "metadata": {},
   "outputs": [],
   "source": [
    "requestParameters = {\n",
    "    \"hostURL\" : hostURL,\n",
    "    \"portNumber\" : portNumber,\n",
    "    \"serverName\" : serverName,  \n",
    "    \"versionIdentifier\" : versionIdentifier,\n",
    "    \"description\" : description,\n",
    "    \"serverUserId\" : serverUserId\n",
    "}\n",
    "\n",
    "egeria_tech.initiate_gov_action_process(deleteCatalogName, None, None, None, requestParameters, None, None)"
   ]
  },
  {
   "cell_type": "markdown",
   "id": "ca1590b2-4a6f-444d-b7fe-d5be06c02e44",
   "metadata": {},
   "source": [
    "------"
   ]
  }
 ],
 "metadata": {
  "kernelspec": {
   "display_name": "Python 3 (ipykernel)",
   "language": "python",
   "name": "python3"
  },
  "language_info": {
   "codemirror_mode": {
    "name": "ipython",
    "version": 3
   },
   "file_extension": ".py",
   "mimetype": "text/x-python",
   "name": "python",
   "nbconvert_exporter": "python",
   "pygments_lexer": "ipython3",
   "version": "3.12.8"
  }
 },
 "nbformat": 4,
 "nbformat_minor": 5
}

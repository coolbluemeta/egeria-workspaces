{
 "cells": [
  {
   "cell_type": "markdown",
   "id": "ea5b328c-8324-4604-832c-7c22a6f2011c",
   "metadata": {},
   "source": [
    "<!-- SPDX-License-Identifier: CC-BY-4.0 -->\n",
    "<!-- Copyright Contributors to the ODPi Egeria project 2024. -->\n",
    "\n",
    "![Egeria Logo](https://raw.githubusercontent.com/odpi/egeria/main/assets/img/ODPi_Egeria_Logo_color.png)\n",
    "\n",
    "### Egeria Workbook\n",
    "\n",
    "# Surveying and Cataloguing Unity Catalog (UC)\n",
    "\n",
    "## Introduction\n",
    "\n",
    "Both Unity Catalog and Egeria are open source projects with the LF AI and Data.  The difference between these technologies is:\n",
    "\n",
    " * Unity Catalog is responsible for governing access to data; whereas Egeria governs the exchange of metadata between tools and systems, such as Unity Catalog.\n",
    "\n",
    " * Similarly, Unity Catalog maintains a metadata repository describing the data it is protecting.  In contrast, Egeria maintains a distributed network of metadata repositories containing metadata about the technology (systems, tools, data), the processes that are operating on them, along with the people and organizations involved.\n",
    "\n",
    "This notebook shows the integration between Egeria and Unity Catalog. Egeria can run surveys of the catalogs within a Unity Catalog server, it can catalog the contents of these catalogs (so that they can be incorporated in larger governance processes and searches) and it is possible to provision catalogs, schemas and volumes to a Unity Catalog Server.\n",
    "\n",
    "Run the code below to initialize Egeria's python libaries and create a client to the Egeria servers.\n",
    "\n",
    "---\n"
   ]
  },
  {
   "cell_type": "code",
   "execution_count": 1,
   "id": "0d69a112-bf72-48f4-b958-0f918a73b2f7",
   "metadata": {
    "execution": {
     "iopub.execute_input": "2025-01-29T16:31:38.500630Z",
     "iopub.status.busy": "2025-01-29T16:31:38.500358Z",
     "iopub.status.idle": "2025-01-29T16:31:38.727413Z",
     "shell.execute_reply": "2025-01-29T16:31:38.726958Z",
     "shell.execute_reply.started": "2025-01-29T16:31:38.500612Z"
    }
   },
   "outputs": [
    {
     "data": {
      "text/html": [
       "\n",
       "    <script type=\"text/javascript\">\n",
       "        if (!window.mermaid) {\n",
       "            var mermaidScript = document.createElement('script');\n",
       "            mermaidScript.src = \"https://cdnjs.cloudflare.com/ajax/libs/mermaid/10.9.1/mermaid.min.js\";\n",
       "            document.head.appendChild(mermaidScript);\n",
       "        }\n",
       "    </script>\n",
       "    "
      ],
      "text/plain": [
       "<IPython.core.display.HTML object>"
      ]
     },
     "metadata": {},
     "output_type": "display_data"
    }
   ],
   "source": [
    "# Initialize pyegeria\n",
    "\n",
    "%run ../../pyegeria/initialize-pyegeria.ipynb\n"
   ]
  },
  {
   "cell_type": "code",
   "execution_count": 2,
   "id": "f718e011-3d1d-48c9-b29d-ff5617906a61",
   "metadata": {
    "execution": {
     "iopub.execute_input": "2025-01-29T16:31:39.494557Z",
     "iopub.status.busy": "2025-01-29T16:31:39.494394Z",
     "iopub.status.idle": "2025-01-29T16:31:39.697220Z",
     "shell.execute_reply": "2025-01-29T16:31:39.696722Z",
     "shell.execute_reply.started": "2025-01-29T16:31:39.494546Z"
    }
   },
   "outputs": [],
   "source": [
    "\n",
    "egeria_tech = EgeriaTech(view_server, url, user_id, user_pwd)\n",
    "token = egeria_tech.create_egeria_bearer_token()\n"
   ]
  },
  {
   "cell_type": "markdown",
   "id": "4ee3758f-7c63-4650-81f2-b640da78b8ac",
   "metadata": {},
   "source": [
    "---\n",
    "\n",
    "## Loading support for Unity Catalog\n",
    "\n",
    "The definition of the Unity Catalog connectors, templates and associated reference data are loaded via a [Content Pack](https://egeria-project.org/content-packs/) called `UnityCatalogContentPack.omarchive`.  The content pack can be loaded multiple times without ill-effect so run the following command to make sure it is loaded.\n",
    "\n",
    "---"
   ]
  },
  {
   "cell_type": "code",
   "execution_count": 3,
   "id": "a1218c27-247a-4061-b46e-7fb7bfc5395a",
   "metadata": {
    "execution": {
     "iopub.execute_input": "2025-01-29T16:31:41.242465Z",
     "iopub.status.busy": "2025-01-29T16:31:41.242255Z",
     "iopub.status.idle": "2025-01-29T16:31:45.263476Z",
     "shell.execute_reply": "2025-01-29T16:31:45.263050Z",
     "shell.execute_reply.started": "2025-01-29T16:31:41.242450Z"
    }
   },
   "outputs": [
    {
     "name": "stdout",
     "output_type": "stream",
     "text": [
      "Archive loaded!\n"
     ]
    }
   ],
   "source": [
    "\n",
    "egeria_tech.add_archive_file(\"content-packs/UnityCatalogContentPack.omarchive\", None, \"qs-metadata-store\")\n",
    "\n",
    "print(\"Archive loaded!\")\n"
   ]
  },
  {
   "cell_type": "markdown",
   "id": "a4cb5992-8b3e-4b81-ac0c-69a61e1d6509",
   "metadata": {},
   "source": [
    "----\n",
    "\n",
    "Run the command command below to confirm that the connectors that synchronize metadata between Egeria and Unity Catalog are running, waiting for work:\n",
    "\n",
    "* UnityCatalogServerSynchronizer synchronizes catalog information from a Unity Catalog Server. It passes details of the catalogs it finds onto UnityCatalogInsideCatalogSynchronizer.\n",
    "* UnityCatalogInsideCatalogSynchronizer synchronizes the schema, volume, table and function metadata between Egeria and Unity Catalog.\n",
    "\n",
    "----"
   ]
  },
  {
   "cell_type": "code",
   "execution_count": 4,
   "id": "b84947db-7d93-4643-b228-a22587d69a5d",
   "metadata": {
    "execution": {
     "iopub.execute_input": "2025-01-29T16:31:49.556291Z",
     "iopub.status.busy": "2025-01-29T16:31:49.555926Z",
     "iopub.status.idle": "2025-01-29T16:31:49.924158Z",
     "shell.execute_reply": "2025-01-29T16:31:49.923752Z",
     "shell.execute_reply.started": "2025-01-29T16:31:49.556271Z"
    }
   },
   "outputs": [
    {
     "name": "stdout",
     "output_type": "stream",
     "text": [
      "                                                 Integration Daemon Status @ Wed Jan 29 16:31:49 2025                                                 \n",
      "╭───────────────────────────────────────┬────────┬─────────────────────┬────────┬────────────────────────────────────────────────┬───────────────────╮\n",
      "│                                       │        │                     │ Min    │                                                │                   │\n",
      "│                                       │        │                     │ Refre… │                                                │                   │\n",
      "│ Connector Name                        │ Status │ Last Refresh Time   │ (mins) │ Target Element                                 │ Exception Message │\n",
      "├───────────────────────────────────────┼────────┼─────────────────────┼────────┼────────────────────────────────────────────────┼───────────────────┤\n",
      "│ UnityCatalogInsideCatalogSynchronizer │ WAITI… │ 2025-01-29T16:14:30 │ 60     │ ┏━━┳━━┳━━━━━━━━━━━━━━━━━━━━━━━━━━━━━━━━━━━━━━┓ │ ---               │\n",
      "│                                       │        │                     │        │ ┃  ┃  ┃ Relationship GUID                    ┃ │                   │\n",
      "│                                       │        │                     │        │ ┡━━╇━━╇━━━━━━━━━━━━━━━━━━━━━━━━━━━━━━━━━━━━━━┩ │                   │\n",
      "│                                       │        │                     │        │ │  │  │ 47c03545-5bb9-4f4e-95f5-d5f347db0a25 │ │                   │\n",
      "│                                       │        │                     │        │ │  │  │ 79266dd9-5bac-48c0-a6fd-b9836783d24b │ │                   │\n",
      "│                                       │        │                     │        │ └──┴──┴──────────────────────────────────────┘ │                   │\n",
      "├───────────────────────────────────────┼────────┼─────────────────────┼────────┼────────────────────────────────────────────────┼───────────────────┤\n",
      "│ UnityCatalogServerSynchronizer        │ WAITI… │ 2025-01-29T16:14:31 │ 60     │ ┏━━┳━━┳━━━━━━━━━━━━━━━━━━━━━━━━━━━━━━━━━━━━━━┓ │ ---               │\n",
      "│                                       │        │                     │        │ ┃  ┃  ┃ Relationship GUID                    ┃ │                   │\n",
      "│                                       │        │                     │        │ ┡━━╇━━╇━━━━━━━━━━━━━━━━━━━━━━━━━━━━━━━━━━━━━━┩ │                   │\n",
      "│                                       │        │                     │        │ │  │  │ acb0749e-4d85-4065-b9a7-1d302f7e335f │ │                   │\n",
      "│                                       │        │                     │        │ └──┴──┴──────────────────────────────────────┘ │                   │\n",
      "╰───────────────────────────────────────┴────────┴─────────────────────┴────────┴────────────────────────────────────────────────┴───────────────────╯\n",
      "                     Integration Daemon Status for Server 'qs-integration-daemon' @ Platform - https://host.docker.internal:9443                      \n"
     ]
    },
    {
     "data": {
      "text/html": [
       "<pre style=\"white-space:pre;overflow-x:auto;line-height:normal;font-family:Menlo,'DejaVu Sans Mono',consolas,'Courier New',monospace\"></pre>\n"
      ],
      "text/plain": []
     },
     "metadata": {},
     "output_type": "display_data"
    }
   ],
   "source": [
    "display_integration_daemon_status(['UnityCatalogServerSynchronizer', 'UnityCatalogInsideCatalogSynchronizer'], paging=True, width=150)"
   ]
  },
  {
   "cell_type": "markdown",
   "id": "55b48a98-efe8-4b19-9e1e-a9ece9774f82",
   "metadata": {},
   "source": [
    "----\n",
    "\n",
    "## Gathering data about your Unity Catalog Server\n",
    "\n",
    "You need to provide Egeria with some basic information about your Unity Catalog server.  Fill in the details below.\n",
    "\n",
    "-----"
   ]
  },
  {
   "cell_type": "code",
   "execution_count": 5,
   "id": "38b1fc42-1aca-4242-b160-9185515eeca9",
   "metadata": {
    "execution": {
     "iopub.execute_input": "2025-01-29T16:31:59.120734Z",
     "iopub.status.busy": "2025-01-29T16:31:59.120507Z",
     "iopub.status.idle": "2025-01-29T16:31:59.295403Z",
     "shell.execute_reply": "2025-01-29T16:31:59.295057Z",
     "shell.execute_reply.started": "2025-01-29T16:31:59.120718Z"
    }
   },
   "outputs": [],
   "source": [
    "# This is the technology type if the server is the Open Source version of Unity Catalog.\n",
    "# Use \"Databricks Unity Catalog Server\" if this is a Databricks cloud service version of Unity Catalog.\n",
    "serverTechnologyType = \"Unity Catalog Server\"\n",
    "\n",
    "# This is the network location used to call the Unity Catalog Server.\n",
    "# For Unity Catalog running on your local machine, use:\n",
    "#   * \"http://localhost\" if Egeria is also running natively on your local machine, or\n",
    "#   * \"http://host.docker.internal\" if Egeria is running in a docker image.\n",
    "#\n",
    "hostURL=\"http://host.docker.internal\"\n",
    "portNumber=\"8087\"\n",
    "\n",
    "# This is a unique name that the server is known as\n",
    "serverName=\"Unity Catalog 1\"\n",
    "\n",
    "# Add a short description of the server\n",
    "description=\"Local instance of the Unity Catalog (UC) Server.\"\n",
    "\n",
    "# This is the verion of Unity Catalog\n",
    "versionIdentifier=\"v0.3.0-SNAPSHOT\"\n",
    "\n",
    "# This is the userId that the connectors will use when creating metadata in Egeria that describes resources in Unity Catalog.\n",
    "serverUserId=\"uc1\"\n",
    "\n",
    "# These values are user in later sections\n",
    "serverQualifiedName=serverTechnologyType + \":\" + serverName\n",
    "serverNetworkAddress=hostURL + \":\" + portNumber\n",
    "search_results = egeria_tech.find_in_asset_domain(\"coco-sus\")"
   ]
  },
  {
   "cell_type": "markdown",
   "id": "526ea0a1-61ef-45e8-b979-9e8aec39ef00",
   "metadata": {},
   "source": [
    "-----\n",
    "\n",
    "## Survey a Unity Catalog Server\n",
    "\n",
    "The Unity Catalog support includes the ability to survey the contents of a Unity Catalog Server.  This command creates a description of the Unity Catalog Server and runs a survey to understand its contents.  A summary of the survey results can be found in /distribution-hub/surveys.\n",
    "\n",
    "---"
   ]
  },
  {
   "cell_type": "code",
   "execution_count": 8,
   "id": "6fd24f3d-ab5e-4fd9-a320-e999254ae125",
   "metadata": {
    "execution": {
     "iopub.execute_input": "2025-01-28T21:27:47.499464Z",
     "iopub.status.busy": "2025-01-28T21:27:47.499301Z",
     "iopub.status.idle": "2025-01-28T21:27:47.760433Z",
     "shell.execute_reply": "2025-01-28T21:27:47.759994Z",
     "shell.execute_reply.started": "2025-01-28T21:27:47.499453Z"
    }
   },
   "outputs": [
    {
     "data": {
      "text/html": [
       "\n",
       "    <div class=\"mermaid\">\n",
       "        ---\n",
       "title: Process - UnityCatalogServer:CreateAndSurvey [39dbedae-7753-4d05-9a7a-4a6c80cb02f5]\n",
       "---\n",
       "flowchart LR\n",
       "%%{init: {\"flowchart\": {\"htmlLabels\": false}} }%%\n",
       "\n",
       "d78ec6fa-67bb-422c-887d-2a0edba1dbab(\"`*GovernanceActionProcessStep*\n",
       "**Create the asset entity**`\")\n",
       "5b59d90a-3ccb-406f-9b01-dd10f2206577(\"`*GovernanceActionProcessStep*\n",
       "**Run the survey.**`\")\n",
       "7179a5d5-16fd-4635-8267-49e70c85a538(\"`*GovernanceActionProcessStep*\n",
       "**Print the survey report.**`\")\n",
       "d78ec6fa-67bb-422c-887d-2a0edba1dbab-->|\"set-up-complete\"|5b59d90a-3ccb-406f-9b01-dd10f2206577\n",
       "5b59d90a-3ccb-406f-9b01-dd10f2206577-->|\"survey-completed\"|7179a5d5-16fd-4635-8267-49e70c85a538\n",
       "\n",
       "    </div>\n",
       "    <script type=\"text/javascript\">\n",
       "        if (window.mermaid) {\n",
       "    mermaid.initialize({startOnLoad: true});\n",
       "    mermaid.contentLoaded();\n",
       "    }\n",
       "    </script>\n",
       "    "
      ],
      "text/plain": [
       "<IPython.core.display.HTML object>"
      ]
     },
     "metadata": {},
     "output_type": "display_data"
    },
    {
     "data": {
      "text/html": [
       "\n",
       "    <div class=\"mermaid\">\n",
       "        ---\n",
       "title: Specification for - UnityCatalogServer:CreateAndSurvey [39dbedae-7753-4d05-9a7a-4a6c80cb02f5]\n",
       "---\n",
       "flowchart TD\n",
       "%%{init: {\"flowchart\": {\"htmlLabels\": false}} }%%\n",
       "\n",
       "supportedRequestParameter(\"`*propertyType*\n",
       "**supportedRequestParameter**`\")\n",
       "supportedRequestParameter:0(\"`**portNumber**\n",
       "dataType: string\n",
       "description: The number of the port to use to connect to a service.\n",
       "required: true\n",
       "example: 1234\n",
       "`\")\n",
       "supportedRequestParameter-->supportedRequestParameter:0\n",
       "supportedRequestParameter:1(\"`**description**\n",
       "dataType: string\n",
       "required: true\n",
       "example: This file contains a week's worth of patient data for the Teddy Bear Drop Foot clinical trial.\n",
       "`\")\n",
       "supportedRequestParameter-->supportedRequestParameter:1\n",
       "supportedRequestParameter:2(\"`**hostURL**\n",
       "dataType: string\n",
       "description: The host IP address or domain name of the server with the HTTP protocol prefix.\n",
       "required: true\n",
       "example: https://coconet.com\n",
       "`\")\n",
       "supportedRequestParameter-->supportedRequestParameter:2\n",
       "supportedRequestParameter:3(\"`**serverName**\n",
       "dataType: string\n",
       "description: The name of the server being catalogued.\n",
       "required: true\n",
       "example: myServer\n",
       "`\")\n",
       "supportedRequestParameter-->supportedRequestParameter:3\n",
       "supportedRequestParameter:4(\"`**versionIdentifier**\n",
       "dataType: string\n",
       "description: The string version identifier for the element.  This is typically of the form Vx.y.z where x is the major version number, y is the minor version number, and z is an option patch identifier.\n",
       "required: true\n",
       "example: V1.0\n",
       "`\")\n",
       "supportedRequestParameter-->supportedRequestParameter:4\n",
       "\n",
       "    </div>\n",
       "    <script type=\"text/javascript\">\n",
       "        if (window.mermaid) {\n",
       "    mermaid.initialize({startOnLoad: true});\n",
       "    mermaid.contentLoaded();\n",
       "    }\n",
       "    </script>\n",
       "    "
      ],
      "text/plain": [
       "<IPython.core.display.HTML object>"
      ]
     },
     "metadata": {},
     "output_type": "display_data"
    }
   ],
   "source": [
    "\n",
    "createAndSurveyServerName=\"UnityCatalogServer:CreateAndSurveyGovernanceActionProcess\"\n",
    "\n",
    "process_guid = egeria_tech.get_element_guid_by_unique_name(createAndSurveyServerName)\n",
    "\n",
    "process_graph = egeria_tech.get_gov_action_process_graph(process_guid)\n",
    "print_governance_action_process_graph(process_graph)\n"
   ]
  },
  {
   "cell_type": "code",
   "execution_count": 9,
   "id": "f8f4b200-0a6f-4505-86ac-036c3e40feaa",
   "metadata": {
    "execution": {
     "iopub.execute_input": "2025-01-28T21:27:50.903486Z",
     "iopub.status.busy": "2025-01-28T21:27:50.903312Z",
     "iopub.status.idle": "2025-01-28T21:27:51.125642Z",
     "shell.execute_reply": "2025-01-28T21:27:51.125176Z",
     "shell.execute_reply.started": "2025-01-28T21:27:50.903475Z"
    }
   },
   "outputs": [
    {
     "data": {
      "text/plain": [
       "'87cd2706-75c3-43dc-8415-7919073eb3ea'"
      ]
     },
     "execution_count": 9,
     "metadata": {},
     "output_type": "execute_result"
    }
   ],
   "source": [
    "\n",
    "requestParameters = {\n",
    "    \"hostURL\" : hostURL,\n",
    "    \"portNumber\" : portNumber,\n",
    "    \"serverName\" : serverName,  \n",
    "    \"versionIdentifier\" : versionIdentifier,\n",
    "    \"description\" : description,\n",
    "    \"serverUserId\" : serverUserId\n",
    "}\n",
    "\n",
    "egeria_tech.initiate_gov_action_process(createAndSurveyServerName, None, None, None, requestParameters, None, None)\n"
   ]
  },
  {
   "cell_type": "markdown",
   "id": "cb62bfde-4760-4965-a192-a63734ed2943",
   "metadata": {},
   "source": [
    "----\n",
    "\n",
    "The command below displays the latest governance actions.  You should see they are in **ACTIONED** status.  If you see failures it means that either the Unity Catalog server is not running or the values describing its location are not correct.  If Unity Catalog is down, restart it and re-run the cell above.  If you realize one or more of the values describing Unity Catalog is not right, go to the bottom of this notebook to the section **Starting again ...** and run the delete process.  Then you can go back up to the section called **Gathering data about your Unity Catalog Server** and carry on from there.\n",
    "\n",
    "----"
   ]
  },
  {
   "cell_type": "code",
   "execution_count": 11,
   "id": "494e7a6f-981d-46b1-b4b4-08b9dbf593cd",
   "metadata": {
    "execution": {
     "iopub.execute_input": "2025-01-28T21:28:11.953822Z",
     "iopub.status.busy": "2025-01-28T21:28:11.953650Z",
     "iopub.status.idle": "2025-01-28T21:28:12.225930Z",
     "shell.execute_reply": "2025-01-28T21:28:12.225507Z",
     "shell.execute_reply.started": "2025-01-28T21:28:11.953810Z"
    }
   },
   "outputs": [
    {
     "name": "stdout",
     "output_type": "stream",
     "text": [
      "                                                     Engine Action Status for Platform https://host.docker.internal:9443 @ Tue Jan 28 21:28:11 2025                                                     \n",
      "╭─────────────────────┬─────────────────────────────────────────────┬─────────────────────────────────────────────┬───────────────┬─────────────────────┬──────────────────────────────────────────────╮\n",
      "│ Requested Time      │ Core Info                                   │ Target Elements                             │ Action Status │ Completion Time     │ Core Results                                 │\n",
      "├─────────────────────┼─────────────────────────────────────────────┼─────────────────────────────────────────────┼───────────────┼─────────────────────┼──────────────────────────────────────────────┤\n",
      "│ 2025-01-28T21:28:00 │                                             │                                             │ ACTIONED      │ 2025-01-28T21:28:06 │                                              │\n",
      "│                     │  • Start Time: 2025-01-28T21:28:05          │  • Target Name: newAsset                    │               │                     │  • Completion Guards: ['service-completed']  │\n",
      "│                     │  • Engine Name: Stewardship                 │     • Target GUID:                          │               │                     │  • Completion Message:                       │\n",
      "│                     │  • GUID:                                    │       e56068c3-cc6d-4f57-9d6a-1f493465a904  │               │                     │    REPORT-GENERATORS-0002 The report         │\n",
      "│                     │    10bf23c5-fd96-4265-a76f-54fd06178e40     │     • Target Type: SoftwareServer           │               │                     │    generating service                        │\n",
      "│                     │  • Request Type: print-survey-report        │  • Target Name: surveyReport                │               │                     │    print-survey-report-governance-action-se… │\n",
      "│                     │  • Process Name:                            │     • Target GUID:                          │               │                     │    created report Survey Report for          │\n",
      "│                     │    UnityCatalogServer:CreateAndSurveyGover… │       613c7a78-e6c0-48d1-b238-97795aef2158  │               │                     │    e56068c3-cc6d-4f57-9d6a-1f493465a904-Tue  │\n",
      "│                     │                                             │     • Target Type: SurveyReport             │               │                     │    Jan 28 20:44:53 UTC 2025.md               │\n",
      "│                     │ ─────────────────────────────────────────── │                                             │               │                     │                                              │\n",
      "│                     │                                             │ ─────────────────────────────────────────── │               │                     │                                              │\n",
      "│                     │  • Request Parameters:                      │                                             │               │                     │                                              │\n",
      "├─────────────────────┼─────────────────────────────────────────────┼─────────────────────────────────────────────┼───────────────┼─────────────────────┼──────────────────────────────────────────────┤\n",
      "│ 2025-01-28T21:27:54 │                                             │                                             │ ACTIONED      │ 2025-01-28T21:28:00 │                                              │\n",
      "│                     │  • Start Time: 2025-01-28T21:27:58          │  • Target Name: newAsset                    │               │                     │  • Completion Guards: ['survey-completed']   │\n",
      "│                     │  • Engine Name: UnityCatalogSurvey          │     • Target GUID:                          │               │                     │  • Completion Message:                       │\n",
      "│                     │  • GUID:                                    │       e56068c3-cc6d-4f57-9d6a-1f493465a904  │               │                     │    OMES-SURVEY-ACTION-0019 The survey action │\n",
      "│                     │    de2aaaae-0428-4f7e-bdb3-3b9b72b8f976     │     • Target Type: SoftwareServer           │               │                     │    service                                   │\n",
      "│                     │  • Request Type:                            │                                             │               │                     │    oss-unity-catalog-server-survey-service   │\n",
      "│                     │    survey-unity-catalog-server              │ ─────────────────────────────────────────── │               │                     │    has completed the analysis of asset       │\n",
      "│                     │  • Process Name:                            │                                             │               │                     │    e56068c3-cc6d-4f57-9d6a-1f493465a904 with │\n",
      "│                     │    UnityCatalogServer:CreateAndSurveyGover… │                                             │               │                     │    request type survey-unity-catalog-server  │\n",
      "│                     │                                             │                                             │               │                     │    in 1724 milliseconds; the results are     │\n",
      "│                     │ ─────────────────────────────────────────── │                                             │               │                     │    stored in survey report                   │\n",
      "│                     │                                             │                                             │               │                     │    613c7a78-e6c0-48d1-b238-97795aef2158      │\n",
      "│                     │  • Request Parameters:                      │                                             │               │                     │                                              │\n",
      "│                     │     • versionIdentifier: v0.3.0-SNAPSHOT    │                                             │               │                     │                                              │\n",
      "│                     │     • description: Local instance of the    │                                             │               │                     │                                              │\n",
      "│                     │       Unity Catalog (UC) Server.            │                                             │               │                     │                                              │\n",
      "│                     │     • serverName: Unity Catalog 1           │                                             │               │                     │                                              │\n",
      "│                     │     • hostURL: http://host.docker.internal  │                                             │               │                     │                                              │\n",
      "│                     │     • serverUserId: uc1                     │                                             │               │                     │                                              │\n",
      "│                     │     • portNumber: 8087                      │                                             │               │                     │                                              │\n",
      "│                     │     • templateGUID:                         │                                             │               │                     │                                              │\n",
      "│                     │       dcca9788-b30f-4007-b1ac-ec634aff6879  │                                             │               │                     │                                              │\n",
      "├─────────────────────┼─────────────────────────────────────────────┼─────────────────────────────────────────────┼───────────────┼─────────────────────┼──────────────────────────────────────────────┤\n",
      "│ 2025-01-28T21:27:51 │                                             │                                             │ ACTIONED      │ 2025-01-28T21:27:54 │                                              │\n",
      "│                     │  • Start Time: 2025-01-28T21:27:54          │                                             │               │                     │  • Completion Guards: ['set-up-complete']    │\n",
      "│                     │  • Engine Name: UnityCatalogGovernance      │                                             │               │                     │  • Completion Message:                       │\n",
      "│                     │  • GUID:                                    │                                             │               │                     │    GOVERNANCE-ACTION-CONNECTORS-0034 The     │\n",
      "│                     │    71f7f56b-3832-4339-a4c7-13f66cef24d4     │                                             │               │                     │    create-asset-governance-service           │\n",
      "│                     │  • Request Type:                            │                                             │               │                     │    governance action service has created a   │\n",
      "│                     │    create-unity-catalog-server              │                                             │               │                     │    new SoftwareServer asset called Unity     │\n",
      "│                     │  • Process Name:                            │                                             │               │                     │    Catalog Server:Unity Catalog 1            │\n",
      "│                     │    UnityCatalogServer:CreateAndSurveyGover… │                                             │               │                     │    (e56068c3-cc6d-4f57-9d6a-1f493465a904)    │\n",
      "│                     │                                             │                                             │               │                     │                                              │\n",
      "│                     │ ─────────────────────────────────────────── │                                             │               │                     │                                              │\n",
      "│                     │                                             │                                             │               │                     │                                              │\n",
      "│                     │  • Request Parameters:                      │                                             │               │                     │                                              │\n",
      "│                     │     • versionIdentifier: v0.3.0-SNAPSHOT    │                                             │               │                     │                                              │\n",
      "│                     │     • description: Local instance of the    │                                             │               │                     │                                              │\n",
      "│                     │       Unity Catalog (UC) Server.            │                                             │               │                     │                                              │\n",
      "│                     │     • serverName: Unity Catalog 1           │                                             │               │                     │                                              │\n",
      "│                     │     • hostURL: http://host.docker.internal  │                                             │               │                     │                                              │\n",
      "│                     │     • serverUserId: uc1                     │                                             │               │                     │                                              │\n",
      "│                     │     • portNumber: 8087                      │                                             │               │                     │                                              │\n",
      "│                     │     • templateGUID:                         │                                             │               │                     │                                              │\n",
      "│                     │       dcca9788-b30f-4007-b1ac-ec634aff6879  │                                             │               │                     │                                              │\n",
      "╰─────────────────────┴─────────────────────────────────────────────┴─────────────────────────────────────────────┴───────────────┴─────────────────────┴──────────────────────────────────────────────╯\n",
      "                                                        Engine Status for Server 'qs-view-server' @ Platform - https://host.docker.internal:9443                                                        \n"
     ]
    },
    {
     "data": {
      "text/html": [
       "<pre style=\"white-space:pre;overflow-x:auto;line-height:normal;font-family:Menlo,'DejaVu Sans Mono',consolas,'Courier New',monospace\"></pre>\n"
      ],
      "text/plain": []
     },
     "metadata": {},
     "output_type": "display_data"
    }
   ],
   "source": [
    "display_engine_activity_c()"
   ]
  },
  {
   "cell_type": "markdown",
   "id": "859f4f1f-fc29-4c41-a417-7fe4a55535bd",
   "metadata": {},
   "source": [
    "----\n",
    "\n",
    "Open up the survey file and review the contents of the Unity Catalog Server. Notice there can be multiple catalogs in a Unity Catalog Server.  Also notice the hierarchical naming of the unity catalog elements.  Catalogs have schemas inside them and the schemas can have tables, functions and/or volumes within them.\n",
    "\n",
    "----\n",
    "\n",
    "Use the command `hey_egeria_ops show engines activity --compressed` to view the governance actions that ran as a result of the survey requests.  \n",
    "There were two steps.  First it created a `SoftwareServer` element to represent the Unity Catalog Server. \n",
    "This stores the network address of the server.  Then the survey was run using this element.\n",
    "\n",
    "-----\n",
    "\n",
    "Now navigate to `distribution-hub/logs/openlineage/GovernanceActions`.  This directory stores the open lineage events created when the surveys were run.  Each event record the start or stop of a governance action.\n",
    "\n"
   ]
  },
  {
   "cell_type": "markdown",
   "id": "75b3de18-5c00-4ef8-b1e0-307f0c11359a",
   "metadata": {},
   "source": [
    "---\n",
    "\n",
    "## Cataloguing Unity Catalog metadata in Egeria\n",
    "\n",
    "If the surveys look interesting, it is possible to synchronize the metadata between Unity Catalog and Egeria.  Run the command command below. \n",
    "\n",
    "The process shown below will request that the contents of the first Unity Catalog server is catalogued into Egeria.\n",
    "\n",
    "---"
   ]
  },
  {
   "cell_type": "code",
   "execution_count": 12,
   "id": "bd5635f2-e41e-45b5-90be-8c80dd85f5e7",
   "metadata": {
    "execution": {
     "iopub.execute_input": "2025-01-28T21:28:26.173536Z",
     "iopub.status.busy": "2025-01-28T21:28:26.173107Z",
     "iopub.status.idle": "2025-01-28T21:28:26.332971Z",
     "shell.execute_reply": "2025-01-28T21:28:26.332637Z",
     "shell.execute_reply.started": "2025-01-28T21:28:26.173508Z"
    }
   },
   "outputs": [
    {
     "data": {
      "text/html": [
       "\n",
       "    <div class=\"mermaid\">\n",
       "        ---\n",
       "title: Process - UnityCatalogServer:CreateAsCatalogTarget [3671953d-b7f2-4e83-af45-22777df8748b]\n",
       "---\n",
       "flowchart LR\n",
       "%%{init: {\"flowchart\": {\"htmlLabels\": false}} }%%\n",
       "\n",
       "43962b9f-b5d4-4827-bab1-2f55076cbe03(\"`*GovernanceActionProcessStep*\n",
       "**Create the SoftwareServer entity**`\")\n",
       "08630c61-2403-4ae4-a54a-0028e72f2642(\"`*GovernanceActionProcessStep*\n",
       "**Connect new asset to integration connector**`\")\n",
       "43962b9f-b5d4-4827-bab1-2f55076cbe03-->|\"set-up-complete\"|08630c61-2403-4ae4-a54a-0028e72f2642\n",
       "\n",
       "    </div>\n",
       "    <script type=\"text/javascript\">\n",
       "        if (window.mermaid) {\n",
       "    mermaid.initialize({startOnLoad: true});\n",
       "    mermaid.contentLoaded();\n",
       "    }\n",
       "    </script>\n",
       "    "
      ],
      "text/plain": [
       "<IPython.core.display.HTML object>"
      ]
     },
     "metadata": {},
     "output_type": "display_data"
    },
    {
     "data": {
      "text/html": [
       "\n",
       "    <div class=\"mermaid\">\n",
       "        ---\n",
       "title: Specification for - UnityCatalogServer:CreateAsCatalogTarget [3671953d-b7f2-4e83-af45-22777df8748b]\n",
       "---\n",
       "flowchart TD\n",
       "%%{init: {\"flowchart\": {\"htmlLabels\": false}} }%%\n",
       "\n",
       "supportedRequestParameter(\"`*propertyType*\n",
       "**supportedRequestParameter**`\")\n",
       "supportedRequestParameter:0(\"`**description**\n",
       "dataType: string\n",
       "required: true\n",
       "example: This file contains a week's worth of patient data for the Teddy Bear Drop Foot clinical trial.\n",
       "`\")\n",
       "supportedRequestParameter-->supportedRequestParameter:0\n",
       "supportedRequestParameter:1(\"`**serverName**\n",
       "dataType: string\n",
       "description: The name of the server being catalogued.\n",
       "required: true\n",
       "example: myServer\n",
       "`\")\n",
       "supportedRequestParameter-->supportedRequestParameter:1\n",
       "supportedRequestParameter:2(\"`**portNumber**\n",
       "dataType: string\n",
       "description: The number of the port to use to connect to a service.\n",
       "required: true\n",
       "example: 1234\n",
       "`\")\n",
       "supportedRequestParameter-->supportedRequestParameter:2\n",
       "supportedRequestParameter:3(\"`**hostURL**\n",
       "dataType: string\n",
       "description: The host IP address or domain name of the server with the HTTP protocol prefix.\n",
       "required: true\n",
       "example: https://coconet.com\n",
       "`\")\n",
       "supportedRequestParameter-->supportedRequestParameter:3\n",
       "supportedRequestParameter:4(\"`**versionIdentifier**\n",
       "dataType: string\n",
       "description: The string version identifier for the element.  This is typically of the form Vx.y.z where x is the major version number, y is the minor version number, and z is an option patch identifier.\n",
       "required: true\n",
       "example: V1.0\n",
       "`\")\n",
       "supportedRequestParameter-->supportedRequestParameter:4\n",
       "\n",
       "    </div>\n",
       "    <script type=\"text/javascript\">\n",
       "        if (window.mermaid) {\n",
       "    mermaid.initialize({startOnLoad: true});\n",
       "    mermaid.contentLoaded();\n",
       "    }\n",
       "    </script>\n",
       "    "
      ],
      "text/plain": [
       "<IPython.core.display.HTML object>"
      ]
     },
     "metadata": {},
     "output_type": "display_data"
    }
   ],
   "source": [
    "\n",
    "createAndCatalogServerName=\"UnityCatalogServer:CreateAsCatalogTargetGovernanceActionProcess\"\n",
    "\n",
    "process_guid = egeria_tech.get_element_guid_by_unique_name(createAndCatalogServerName)\n",
    "\n",
    "process_graph = egeria_tech.get_gov_action_process_graph(process_guid)\n",
    "print_governance_action_process_graph(process_graph)\n"
   ]
  },
  {
   "cell_type": "markdown",
   "id": "4cdfb079-c88b-47f8-a8b2-f6a22190f11f",
   "metadata": {},
   "source": [
    "----\n",
    "\n",
    "The code below will configure these connectors to catalog the server.\n",
    "\n",
    "----"
   ]
  },
  {
   "cell_type": "code",
   "execution_count": 13,
   "id": "e439ea75-05a0-4819-b86d-a1eeb8833af2",
   "metadata": {
    "execution": {
     "iopub.execute_input": "2025-01-28T21:28:37.180811Z",
     "iopub.status.busy": "2025-01-28T21:28:37.180629Z",
     "iopub.status.idle": "2025-01-28T21:28:37.410818Z",
     "shell.execute_reply": "2025-01-28T21:28:37.410535Z",
     "shell.execute_reply.started": "2025-01-28T21:28:37.180801Z"
    }
   },
   "outputs": [
    {
     "data": {
      "text/plain": [
       "'93108d89-e8aa-4d46-9a59-52abdf7fa602'"
      ]
     },
     "execution_count": 13,
     "metadata": {},
     "output_type": "execute_result"
    }
   ],
   "source": [
    "\n",
    "requestParameters = {\n",
    "    \"hostURL\" : hostURL,\n",
    "    \"portNumber\" : portNumber,\n",
    "    \"serverName\" : serverName,  \n",
    "    \"versionIdentifier\" : versionIdentifier,\n",
    "    \"description\" : description,\n",
    "    \"serverUserId\" : serverUserId\n",
    "}\n",
    "\n",
    "egeria_tech.initiate_gov_action_process(createAndCatalogServerName, None, None, None, requestParameters, None, None)\n"
   ]
  },
  {
   "cell_type": "markdown",
   "id": "b6dbd30f-6ded-4411-a3c6-fe9a6089af98",
   "metadata": {},
   "source": [
    "----\n",
    "\n",
    "Again it is possible to watch the execution of the process.  Notice that only 2 engine actions are activated.\n",
    "\n",
    "----"
   ]
  },
  {
   "cell_type": "code",
   "execution_count": 14,
   "id": "1ba9ebc8-ae7b-421c-a989-187387b35fe6",
   "metadata": {
    "execution": {
     "iopub.execute_input": "2025-01-28T21:30:10.770969Z",
     "iopub.status.busy": "2025-01-28T21:30:10.770809Z",
     "iopub.status.idle": "2025-01-28T21:30:11.071712Z",
     "shell.execute_reply": "2025-01-28T21:30:11.071286Z",
     "shell.execute_reply.started": "2025-01-28T21:30:10.770960Z"
    }
   },
   "outputs": [
    {
     "name": "stdout",
     "output_type": "stream",
     "text": [
      "                                                     Engine Action Status for Platform https://host.docker.internal:9443 @ Tue Jan 28 21:30:10 2025                                                     \n",
      "╭─────────────────────┬─────────────────────────────────────────────┬─────────────────────────────────────────────┬───────────────┬─────────────────────┬──────────────────────────────────────────────╮\n",
      "│ Requested Time      │ Core Info                                   │ Target Elements                             │ Action Status │ Completion Time     │ Core Results                                 │\n",
      "├─────────────────────┼─────────────────────────────────────────────┼─────────────────────────────────────────────┼───────────────┼─────────────────────┼──────────────────────────────────────────────┤\n",
      "│ 2025-01-28T21:28:40 │                                             │                                             │ ACTIONED      │ 2025-01-28T21:28:43 │                                              │\n",
      "│                     │  • Start Time: 2025-01-28T21:28:43          │  • Target Name: newAsset                    │               │                     │  • Completion Guards: ['set-up-complete']    │\n",
      "│                     │  • Engine Name: UnityCatalogGovernance      │     • Target GUID:                          │               │                     │  • Completion Message:                       │\n",
      "│                     │  • GUID:                                    │       e56068c3-cc6d-4f57-9d6a-1f493465a904  │               │                     │    GOVERNANCE-ACTION-CONNECTORS-0032         │\n",
      "│                     │    3f9f6a2e-1aa8-410f-ac95-39aac401f53d     │     • Target Type: SoftwareServer           │               │                     │    Integration connector                     │\n",
      "│                     │  • Request Type:                            │  • Target Name: integrationConnector        │               │                     │    Egeria:IntegrationGroup:UnityCatalog:Uni… │\n",
      "│                     │    catalog-unity-catalog-server             │     • Target GUID:                          │               │                     │    is now cataloging SoftwareServer server   │\n",
      "│                     │  • Process Name:                            │       06d068d9-9e08-4e67-8c59-073bbf1013af  │               │                     │    Unity Catalog 1                           │\n",
      "│                     │    UnityCatalogServer:CreateAsCatalogTarge… │     • Target Type: IntegrationConnector     │               │                     │                                              │\n",
      "│                     │                                             │                                             │               │                     │                                              │\n",
      "│                     │ ─────────────────────────────────────────── │ ─────────────────────────────────────────── │               │                     │                                              │\n",
      "│                     │                                             │                                             │               │                     │                                              │\n",
      "│                     │  • Request Parameters:                      │                                             │               │                     │                                              │\n",
      "│                     │     • versionIdentifier: v0.3.0-SNAPSHOT    │                                             │               │                     │                                              │\n",
      "│                     │     • description: Local instance of the    │                                             │               │                     │                                              │\n",
      "│                     │       Unity Catalog (UC) Server.            │                                             │               │                     │                                              │\n",
      "│                     │     • serverName: Unity Catalog 1           │                                             │               │                     │                                              │\n",
      "│                     │     • hostURL: http://host.docker.internal  │                                             │               │                     │                                              │\n",
      "│                     │     • serverUserId: uc1                     │                                             │               │                     │                                              │\n",
      "│                     │     • portNumber: 8087                      │                                             │               │                     │                                              │\n",
      "│                     │     • templateGUID:                         │                                             │               │                     │                                              │\n",
      "│                     │       dcca9788-b30f-4007-b1ac-ec634aff6879  │                                             │               │                     │                                              │\n",
      "├─────────────────────┼─────────────────────────────────────────────┼─────────────────────────────────────────────┼───────────────┼─────────────────────┼──────────────────────────────────────────────┤\n",
      "│ 2025-01-28T21:28:37 │                                             │                                             │ ACTIONED      │ 2025-01-28T21:28:40 │                                              │\n",
      "│                     │  • Start Time: 2025-01-28T21:28:40          │                                             │               │                     │  • Completion Guards: ['set-up-complete']    │\n",
      "│                     │  • Engine Name: UnityCatalogGovernance      │                                             │               │                     │  • Completion Message:                       │\n",
      "│                     │  • GUID:                                    │                                             │               │                     │    GOVERNANCE-ACTION-CONNECTORS-0034 The     │\n",
      "│                     │    6c647c68-70db-4a80-a302-a8bb7ce0eb82     │                                             │               │                     │    create-asset-governance-service           │\n",
      "│                     │  • Request Type:                            │                                             │               │                     │    governance action service has created a   │\n",
      "│                     │    create-unity-catalog-server              │                                             │               │                     │    new SoftwareServer asset called Unity     │\n",
      "│                     │  • Process Name:                            │                                             │               │                     │    Catalog Server:Unity Catalog 1            │\n",
      "│                     │    UnityCatalogServer:CreateAsCatalogTarge… │                                             │               │                     │    (e56068c3-cc6d-4f57-9d6a-1f493465a904)    │\n",
      "│                     │                                             │                                             │               │                     │                                              │\n",
      "│                     │ ─────────────────────────────────────────── │                                             │               │                     │                                              │\n",
      "│                     │                                             │                                             │               │                     │                                              │\n",
      "│                     │  • Request Parameters:                      │                                             │               │                     │                                              │\n",
      "│                     │     • versionIdentifier: v0.3.0-SNAPSHOT    │                                             │               │                     │                                              │\n",
      "│                     │     • description: Local instance of the    │                                             │               │                     │                                              │\n",
      "│                     │       Unity Catalog (UC) Server.            │                                             │               │                     │                                              │\n",
      "│                     │     • serverName: Unity Catalog 1           │                                             │               │                     │                                              │\n",
      "│                     │     • hostURL: http://host.docker.internal  │                                             │               │                     │                                              │\n",
      "│                     │     • serverUserId: uc1                     │                                             │               │                     │                                              │\n",
      "│                     │     • portNumber: 8087                      │                                             │               │                     │                                              │\n",
      "│                     │     • templateGUID:                         │                                             │               │                     │                                              │\n",
      "│                     │       dcca9788-b30f-4007-b1ac-ec634aff6879  │                                             │               │                     │                                              │\n",
      "├─────────────────────┼─────────────────────────────────────────────┼─────────────────────────────────────────────┼───────────────┼─────────────────────┼──────────────────────────────────────────────┤\n",
      "│ 2025-01-28T21:28:00 │                                             │                                             │ ACTIONED      │ 2025-01-28T21:28:06 │                                              │\n",
      "│                     │  • Start Time: 2025-01-28T21:28:05          │  • Target Name: newAsset                    │               │                     │  • Completion Guards: ['service-completed']  │\n",
      "│                     │  • Engine Name: Stewardship                 │     • Target GUID:                          │               │                     │  • Completion Message:                       │\n",
      "│                     │  • GUID:                                    │       e56068c3-cc6d-4f57-9d6a-1f493465a904  │               │                     │    REPORT-GENERATORS-0002 The report         │\n",
      "│                     │    10bf23c5-fd96-4265-a76f-54fd06178e40     │     • Target Type: SoftwareServer           │               │                     │    generating service                        │\n",
      "│                     │  • Request Type: print-survey-report        │  • Target Name: surveyReport                │               │                     │    print-survey-report-governance-action-se… │\n",
      "│                     │  • Process Name:                            │     • Target GUID:                          │               │                     │    created report Survey Report for          │\n",
      "│                     │    UnityCatalogServer:CreateAndSurveyGover… │       613c7a78-e6c0-48d1-b238-97795aef2158  │               │                     │    e56068c3-cc6d-4f57-9d6a-1f493465a904-Tue  │\n",
      "│                     │                                             │     • Target Type: SurveyReport             │               │                     │    Jan 28 20:44:53 UTC 2025.md               │\n",
      "│                     │ ─────────────────────────────────────────── │                                             │               │                     │                                              │\n",
      "│                     │                                             │ ─────────────────────────────────────────── │               │                     │                                              │\n",
      "│                     │  • Request Parameters:                      │                                             │               │                     │                                              │\n",
      "├─────────────────────┼─────────────────────────────────────────────┼─────────────────────────────────────────────┼───────────────┼─────────────────────┼──────────────────────────────────────────────┤\n",
      "│ 2025-01-28T21:27:54 │                                             │                                             │ ACTIONED      │ 2025-01-28T21:28:00 │                                              │\n",
      "│                     │  • Start Time: 2025-01-28T21:27:58          │  • Target Name: newAsset                    │               │                     │  • Completion Guards: ['survey-completed']   │\n",
      "│                     │  • Engine Name: UnityCatalogSurvey          │     • Target GUID:                          │               │                     │  • Completion Message:                       │\n",
      "│                     │  • GUID:                                    │       e56068c3-cc6d-4f57-9d6a-1f493465a904  │               │                     │    OMES-SURVEY-ACTION-0019 The survey action │\n",
      "│                     │    de2aaaae-0428-4f7e-bdb3-3b9b72b8f976     │     • Target Type: SoftwareServer           │               │                     │    service                                   │\n",
      "│                     │  • Request Type:                            │                                             │               │                     │    oss-unity-catalog-server-survey-service   │\n",
      "│                     │    survey-unity-catalog-server              │ ─────────────────────────────────────────── │               │                     │    has completed the analysis of asset       │\n",
      "│                     │  • Process Name:                            │                                             │               │                     │    e56068c3-cc6d-4f57-9d6a-1f493465a904 with │\n",
      "│                     │    UnityCatalogServer:CreateAndSurveyGover… │                                             │               │                     │    request type survey-unity-catalog-server  │\n",
      "│                     │                                             │                                             │               │                     │    in 1724 milliseconds; the results are     │\n",
      "│                     │ ─────────────────────────────────────────── │                                             │               │                     │    stored in survey report                   │\n",
      "│                     │                                             │                                             │               │                     │    613c7a78-e6c0-48d1-b238-97795aef2158      │\n",
      "│                     │  • Request Parameters:                      │                                             │               │                     │                                              │\n",
      "│                     │     • versionIdentifier: v0.3.0-SNAPSHOT    │                                             │               │                     │                                              │\n",
      "│                     │     • description: Local instance of the    │                                             │               │                     │                                              │\n",
      "│                     │       Unity Catalog (UC) Server.            │                                             │               │                     │                                              │\n",
      "│                     │     • serverName: Unity Catalog 1           │                                             │               │                     │                                              │\n",
      "│                     │     • hostURL: http://host.docker.internal  │                                             │               │                     │                                              │\n",
      "│                     │     • serverUserId: uc1                     │                                             │               │                     │                                              │\n",
      "│                     │     • portNumber: 8087                      │                                             │               │                     │                                              │\n",
      "│                     │     • templateGUID:                         │                                             │               │                     │                                              │\n",
      "│                     │       dcca9788-b30f-4007-b1ac-ec634aff6879  │                                             │               │                     │                                              │\n",
      "├─────────────────────┼─────────────────────────────────────────────┼─────────────────────────────────────────────┼───────────────┼─────────────────────┼──────────────────────────────────────────────┤\n",
      "│ 2025-01-28T21:27:51 │                                             │                                             │ ACTIONED      │ 2025-01-28T21:27:54 │                                              │\n",
      "│                     │  • Start Time: 2025-01-28T21:27:54          │                                             │               │                     │  • Completion Guards: ['set-up-complete']    │\n",
      "│                     │  • Engine Name: UnityCatalogGovernance      │                                             │               │                     │  • Completion Message:                       │\n",
      "│                     │  • GUID:                                    │                                             │               │                     │    GOVERNANCE-ACTION-CONNECTORS-0034 The     │\n",
      "│                     │    71f7f56b-3832-4339-a4c7-13f66cef24d4     │                                             │               │                     │    create-asset-governance-service           │\n",
      "│                     │  • Request Type:                            │                                             │               │                     │    governance action service has created a   │\n",
      "│                     │    create-unity-catalog-server              │                                             │               │                     │    new SoftwareServer asset called Unity     │\n",
      "│                     │  • Process Name:                            │                                             │               │                     │    Catalog Server:Unity Catalog 1            │\n",
      "│                     │    UnityCatalogServer:CreateAndSurveyGover… │                                             │               │                     │    (e56068c3-cc6d-4f57-9d6a-1f493465a904)    │\n",
      "│                     │                                             │                                             │               │                     │                                              │\n",
      "│                     │ ─────────────────────────────────────────── │                                             │               │                     │                                              │\n",
      "│                     │                                             │                                             │               │                     │                                              │\n",
      "│                     │  • Request Parameters:                      │                                             │               │                     │                                              │\n",
      "│                     │     • versionIdentifier: v0.3.0-SNAPSHOT    │                                             │               │                     │                                              │\n",
      "│                     │     • description: Local instance of the    │                                             │               │                     │                                              │\n",
      "│                     │       Unity Catalog (UC) Server.            │                                             │               │                     │                                              │\n",
      "│                     │     • serverName: Unity Catalog 1           │                                             │               │                     │                                              │\n",
      "│                     │     • hostURL: http://host.docker.internal  │                                             │               │                     │                                              │\n",
      "│                     │     • serverUserId: uc1                     │                                             │               │                     │                                              │\n",
      "│                     │     • portNumber: 8087                      │                                             │               │                     │                                              │\n",
      "│                     │     • templateGUID:                         │                                             │               │                     │                                              │\n",
      "│                     │       dcca9788-b30f-4007-b1ac-ec634aff6879  │                                             │               │                     │                                              │\n",
      "╰─────────────────────┴─────────────────────────────────────────────┴─────────────────────────────────────────────┴───────────────┴─────────────────────┴──────────────────────────────────────────────╯\n",
      "                                                        Engine Status for Server 'qs-view-server' @ Platform - https://host.docker.internal:9443                                                        \n"
     ]
    },
    {
     "data": {
      "text/html": [
       "<pre style=\"white-space:pre;overflow-x:auto;line-height:normal;font-family:Menlo,'DejaVu Sans Mono',consolas,'Courier New',monospace\"></pre>\n"
      ],
      "text/plain": []
     },
     "metadata": {},
     "output_type": "display_data"
    }
   ],
   "source": [
    "display_engine_activity_c()"
   ]
  },
  {
   "cell_type": "markdown",
   "id": "49d65628-7bd8-4848-a376-2dbd2bcb6210",
   "metadata": {},
   "source": [
    "----\n",
    "\n",
    "The effect of the process is to configure the *UnityCatalogServerSynchronizer* connector to extract the catalog found in the Unity Catalog Server and then configure the *UnityCatalogInsideCatalogSynchronizer* to catalog each one it finds.\n",
    "The Target Element column shows the details of the server/catalogs they are working with.\n",
    "\n",
    "----"
   ]
  },
  {
   "cell_type": "code",
   "execution_count": 15,
   "id": "029a2fcb-b56e-49b7-8b47-619a8a9b498c",
   "metadata": {
    "execution": {
     "iopub.execute_input": "2025-01-28T21:30:17.083126Z",
     "iopub.status.busy": "2025-01-28T21:30:17.082884Z",
     "iopub.status.idle": "2025-01-28T21:30:17.496476Z",
     "shell.execute_reply": "2025-01-28T21:30:17.496050Z",
     "shell.execute_reply.started": "2025-01-28T21:30:17.083106Z"
    }
   },
   "outputs": [
    {
     "name": "stdout",
     "output_type": "stream",
     "text": [
      "                                                                          Integration Daemon Status @ Tue Jan 28 21:30:17 2025                                                                          \n",
      "╭───────────────────────────────────────┬────────┬─────────────────────┬────────┬──────────────────────────────────────────────────────────────────────────────────────────────────┬───────────────────╮\n",
      "│                                       │        │                     │ Min    │                                                                                                  │                   │\n",
      "│                                       │        │                     │ Refre… │                                                                                                  │                   │\n",
      "│ Connector Name                        │ Status │ Last Refresh Time   │ (mins) │ Target Element                                                                                   │ Exception Message │\n",
      "├───────────────────────────────────────┼────────┼─────────────────────┼────────┼──────────────────────────────────────────────────────────────────────────────────────────────────┼───────────────────┤\n",
      "│ UnityCatalogInsideCatalogSynchronizer │ WAITI… │ 2025-01-28T21:29:02 │ 60     │ ┏━━━━━━━━━━━━━┳━━━━━━━━━━━━━━━━━━━━━━━━━━━━━━━━━━━━━━┳━━━━━━━━━━━━━━━━━━━━━━━━━━━━━━━━━━━━━━┓    │ ---               │\n",
      "│                                       │        │                     │        │ ┃ Target      ┃ UniqueName                           ┃ Relationship GUID                    ┃    │                   │\n",
      "│                                       │        │                     │        │ ┡━━━━━━━━━━━━━╇━━━━━━━━━━━━━━━━━━━━━━━━━━━━━━━━━━━━━━╇━━━━━━━━━━━━━━━━━━━━━━━━━━━━━━━━━━━━━━┩    │                   │\n",
      "│                                       │        │                     │        │ │ unity       │ Unity Catalog Server:Unity Catalog 1 │ 47c03545-5bb9-4f4e-95f5-d5f347db0a25 │    │                   │\n",
      "│                                       │        │                     │        │ │ new_catalog │ Unity Catalog Server:Unity Catalog 1 │ 79266dd9-5bac-48c0-a6fd-b9836783d24b │    │                   │\n",
      "│                                       │        │                     │        │ └─────────────┴──────────────────────────────────────┴──────────────────────────────────────┘    │                   │\n",
      "├───────────────────────────────────────┼────────┼─────────────────────┼────────┼──────────────────────────────────────────────────────────────────────────────────────────────────┼───────────────────┤\n",
      "│ UnityCatalogServerSynchronizer        │ WAITI… │ 2025-01-28T21:28:47 │ 60     │ ┏━━━━━━━━━━━━━━━━━┳━━━━━━━━━━━━━━━━━━━━━━━━━━━━━━━━━━━━━┳━━━━━━━━━━━━━━━━━━━━━━━━━━━━━━━━━━━━━━┓ │ ---               │\n",
      "│                                       │        │                     │        │ ┃ Target          ┃ UniqueName                          ┃ Relationship GUID                    ┃ │                   │\n",
      "│                                       │        │                     │        │ ┡━━━━━━━━━━━━━━━━━╇━━━━━━━━━━━━━━━━━━━━━━━━━━━━━━━━━━━━━╇━━━━━━━━━━━━━━━━━━━━━━━━━━━━━━━━━━━━━━┩ │                   │\n",
      "│                                       │        │                     │        │ │ Unity Catalog 1 │ Unity Catalog Server:Unity Catalog  │ acb0749e-4d85-4065-b9a7-1d302f7e335f │ │                   │\n",
      "│                                       │        │                     │        │ │                 │ 1                                   │                                      │ │                   │\n",
      "│                                       │        │                     │        │ └─────────────────┴─────────────────────────────────────┴──────────────────────────────────────┘ │                   │\n",
      "╰───────────────────────────────────────┴────────┴─────────────────────┴────────┴──────────────────────────────────────────────────────────────────────────────────────────────────┴───────────────────╯\n",
      "                                              Integration Daemon Status for Server 'qs-integration-daemon' @ Platform - https://host.docker.internal:9443                                               \n"
     ]
    },
    {
     "data": {
      "text/html": [
       "<pre style=\"white-space:pre;overflow-x:auto;line-height:normal;font-family:Menlo,'DejaVu Sans Mono',consolas,'Courier New',monospace\"></pre>\n"
      ],
      "text/plain": []
     },
     "metadata": {},
     "output_type": "display_data"
    }
   ],
   "source": [
    "display_integration_daemon_status(['UnityCatalogServerSynchronizer', 'UnityCatalogInsideCatalogSynchronizer'], paging=True, width=200)"
   ]
  },
  {
   "cell_type": "markdown",
   "id": "bab9ab17-f993-41a9-81a7-2696897123ca",
   "metadata": {},
   "source": [
    "---\n",
    "\n",
    "Below is a graph of the elements found during the cataloguing process.  You can see the schemas and the tables, volumes and functions underneath them.  The types of the elements are shown using [open metadata types](https://egeria-project.org/connectors/unity-catalog/#open-metadata-type-mapping-for-unity-catalog).\n",
    "\n",
    "---"
   ]
  },
  {
   "cell_type": "code",
   "execution_count": 50,
   "id": "ffd49f85-d137-43b8-a988-85c57556ab02",
   "metadata": {
    "execution": {
     "iopub.execute_input": "2025-01-29T15:43:17.166564Z",
     "iopub.status.busy": "2025-01-29T15:43:17.166241Z",
     "iopub.status.idle": "2025-01-29T15:43:17.774360Z",
     "shell.execute_reply": "2025-01-29T15:43:17.773824Z",
     "shell.execute_reply.started": "2025-01-29T15:43:17.166547Z"
    }
   },
   "outputs": [
    {
     "name": "stdout",
     "output_type": "stream",
     "text": [
      "83621335-f39d-4710-ab4c-bb9cc1f84b1d\n",
      "---\n",
      "title: Lineage Graph for Asset - default [83621335-f39d-4710-ab4c-bb9cc1f84b1d]\n",
      "---\n",
      "flowchart TD\n",
      "%%{init: {\"flowchart\": {\"htmlLabels\": false}} }%%\n",
      "\n",
      "83621335-f39d-4710-ab4c-bb9cc1f84b1d(\"`*DeployedDatabaseSchema*\n",
      "**default**`\")\n",
      "daf8bb5f-417f-4fa7-837e-0fed7d145de3(\"`*VirtualRelationalTable*\n",
      "**marksheet**`\")\n",
      "570e8558-a2e8-44f4-b0a6-9460eb0f0712(\"`*DataFolder*\n",
      "**unity.default.marksheet_storageLocation**`\")\n",
      "f83148ea-a3c9-4738-b24c-903c4c110abc(\"`*DeployedAPI*\n",
      "**sum**`\")\n",
      "ea42e044-9073-466f-9cd8-2d19b8ef186a(\"`*DataFolder*\n",
      "**json_files**`\")\n",
      "9c55271a-be19-4d24-b46f-465573b58cac(\"`*VirtualRelationalTable*\n",
      "**marksheet_uniform**`\")\n",
      "d3b53bda-d95a-4b9e-a829-40768dd8259c(\"`*DataFolder*\n",
      "**unity.default.marksheet_uniform_storageLocation**`\")\n",
      "c206a44f-1b2e-424c-9657-f94d35bbdf36(\"`*DeployedAPI*\n",
      "**lowercase**`\")\n",
      "1426c8a6-5cf6-4cb7-8674-51e1dbcd85cf(\"`*VirtualRelationalTable*\n",
      "**numbers**`\")\n",
      "f2569e3f-2b26-415b-a656-4097fd502e3d(\"`*DataFolder*\n",
      "**unity.default.numbers_storageLocation**`\")\n",
      "929de0ea-8682-4dd6-a9d0-94ea015f4232(\"`*VirtualRelationalTable*\n",
      "**user_countries**`\")\n",
      "4bc8c643-89f0-4bf1-9fac-9c5127d5ce3f(\"`*DataFolder*\n",
      "**unity.default.user_countries_storageLocation**`\")\n",
      "93bdbec7-0bc4-46ca-b210-2a72cfa56864(\"`*DataFolder*\n",
      "**txt_files**`\")\n",
      "1426c8a6-5cf6-4cb7-8674-51e1dbcd85cf-->|\"DataContentForDataSet\"|83621335-f39d-4710-ab4c-bb9cc1f84b1d\n",
      "c206a44f-1b2e-424c-9657-f94d35bbdf36-->|\"DataContentForDataSet\"|83621335-f39d-4710-ab4c-bb9cc1f84b1d\n",
      "d3b53bda-d95a-4b9e-a829-40768dd8259c-->|\"DataContentForDataSet\"|9c55271a-be19-4d24-b46f-465573b58cac\n",
      "4bc8c643-89f0-4bf1-9fac-9c5127d5ce3f-->|\"DataContentForDataSet\"|929de0ea-8682-4dd6-a9d0-94ea015f4232\n",
      "929de0ea-8682-4dd6-a9d0-94ea015f4232-->|\"DataContentForDataSet\"|83621335-f39d-4710-ab4c-bb9cc1f84b1d\n",
      "9c55271a-be19-4d24-b46f-465573b58cac-->|\"DataContentForDataSet\"|83621335-f39d-4710-ab4c-bb9cc1f84b1d\n",
      "f2569e3f-2b26-415b-a656-4097fd502e3d-->|\"DataContentForDataSet\"|1426c8a6-5cf6-4cb7-8674-51e1dbcd85cf\n",
      "daf8bb5f-417f-4fa7-837e-0fed7d145de3-->|\"DataContentForDataSet\"|83621335-f39d-4710-ab4c-bb9cc1f84b1d\n",
      "570e8558-a2e8-44f4-b0a6-9460eb0f0712-->|\"DataContentForDataSet\"|daf8bb5f-417f-4fa7-837e-0fed7d145de3\n",
      "ea42e044-9073-466f-9cd8-2d19b8ef186a-->|\"DataContentForDataSet\"|83621335-f39d-4710-ab4c-bb9cc1f84b1d\n",
      "f83148ea-a3c9-4738-b24c-903c4c110abc-->|\"DataContentForDataSet\"|83621335-f39d-4710-ab4c-bb9cc1f84b1d\n",
      "93bdbec7-0bc4-46ca-b210-2a72cfa56864-->|\"DataContentForDataSet\"|83621335-f39d-4710-ab4c-bb9cc1f84b1d\n",
      "\n"
     ]
    },
    {
     "data": {
      "text/html": [
       "\n",
       "    <div class=\"mermaid\">\n",
       "        ---\n",
       "title: Lineage Graph for Asset - default [83621335-f39d-4710-ab4c-bb9cc1f84b1d]\n",
       "---\n",
       "flowchart TD\n",
       "%%{init: {\"flowchart\": {\"htmlLabels\": false}} }%%\n",
       "\n",
       "83621335-f39d-4710-ab4c-bb9cc1f84b1d(\"`*DeployedDatabaseSchema*\n",
       "**default**`\")\n",
       "daf8bb5f-417f-4fa7-837e-0fed7d145de3(\"`*VirtualRelationalTable*\n",
       "**marksheet**`\")\n",
       "570e8558-a2e8-44f4-b0a6-9460eb0f0712(\"`*DataFolder*\n",
       "**unity.default.marksheet_storageLocation**`\")\n",
       "f83148ea-a3c9-4738-b24c-903c4c110abc(\"`*DeployedAPI*\n",
       "**sum**`\")\n",
       "ea42e044-9073-466f-9cd8-2d19b8ef186a(\"`*DataFolder*\n",
       "**json_files**`\")\n",
       "9c55271a-be19-4d24-b46f-465573b58cac(\"`*VirtualRelationalTable*\n",
       "**marksheet_uniform**`\")\n",
       "d3b53bda-d95a-4b9e-a829-40768dd8259c(\"`*DataFolder*\n",
       "**unity.default.marksheet_uniform_storageLocation**`\")\n",
       "c206a44f-1b2e-424c-9657-f94d35bbdf36(\"`*DeployedAPI*\n",
       "**lowercase**`\")\n",
       "1426c8a6-5cf6-4cb7-8674-51e1dbcd85cf(\"`*VirtualRelationalTable*\n",
       "**numbers**`\")\n",
       "f2569e3f-2b26-415b-a656-4097fd502e3d(\"`*DataFolder*\n",
       "**unity.default.numbers_storageLocation**`\")\n",
       "929de0ea-8682-4dd6-a9d0-94ea015f4232(\"`*VirtualRelationalTable*\n",
       "**user_countries**`\")\n",
       "4bc8c643-89f0-4bf1-9fac-9c5127d5ce3f(\"`*DataFolder*\n",
       "**unity.default.user_countries_storageLocation**`\")\n",
       "93bdbec7-0bc4-46ca-b210-2a72cfa56864(\"`*DataFolder*\n",
       "**txt_files**`\")\n",
       "1426c8a6-5cf6-4cb7-8674-51e1dbcd85cf-->|\"DataContentForDataSet\"|83621335-f39d-4710-ab4c-bb9cc1f84b1d\n",
       "c206a44f-1b2e-424c-9657-f94d35bbdf36-->|\"DataContentForDataSet\"|83621335-f39d-4710-ab4c-bb9cc1f84b1d\n",
       "d3b53bda-d95a-4b9e-a829-40768dd8259c-->|\"DataContentForDataSet\"|9c55271a-be19-4d24-b46f-465573b58cac\n",
       "4bc8c643-89f0-4bf1-9fac-9c5127d5ce3f-->|\"DataContentForDataSet\"|929de0ea-8682-4dd6-a9d0-94ea015f4232\n",
       "929de0ea-8682-4dd6-a9d0-94ea015f4232-->|\"DataContentForDataSet\"|83621335-f39d-4710-ab4c-bb9cc1f84b1d\n",
       "9c55271a-be19-4d24-b46f-465573b58cac-->|\"DataContentForDataSet\"|83621335-f39d-4710-ab4c-bb9cc1f84b1d\n",
       "f2569e3f-2b26-415b-a656-4097fd502e3d-->|\"DataContentForDataSet\"|1426c8a6-5cf6-4cb7-8674-51e1dbcd85cf\n",
       "daf8bb5f-417f-4fa7-837e-0fed7d145de3-->|\"DataContentForDataSet\"|83621335-f39d-4710-ab4c-bb9cc1f84b1d\n",
       "570e8558-a2e8-44f4-b0a6-9460eb0f0712-->|\"DataContentForDataSet\"|daf8bb5f-417f-4fa7-837e-0fed7d145de3\n",
       "ea42e044-9073-466f-9cd8-2d19b8ef186a-->|\"DataContentForDataSet\"|83621335-f39d-4710-ab4c-bb9cc1f84b1d\n",
       "f83148ea-a3c9-4738-b24c-903c4c110abc-->|\"DataContentForDataSet\"|83621335-f39d-4710-ab4c-bb9cc1f84b1d\n",
       "93bdbec7-0bc4-46ca-b210-2a72cfa56864-->|\"DataContentForDataSet\"|83621335-f39d-4710-ab4c-bb9cc1f84b1d\n",
       "\n",
       "click 83621335-f39d-4710-ab4c-bb9cc1f84b1d \"https://egeria-project.org/\"\n",
       "    </div>\n",
       "    <script type=\"text/javascript\">\n",
       "        if (window.mermaid) {\n",
       "    mermaid.initialize({startOnLoad: true});\n",
       "    mermaid.contentLoaded();\n",
       "    }\n",
       "    </script>\n",
       "    "
      ],
      "text/plain": [
       "<IPython.core.display.HTML object>"
      ]
     },
     "metadata": {},
     "output_type": "display_data"
    }
   ],
   "source": [
    "unity_default_qualified_name=\"Unity Catalog Schema:\" + serverNetworkAddress + \":unity.default\"\n",
    "\n",
    "guid=egeria_tech.get_element_guid_by_unique_name(unity_default_qualified_name)\n",
    "\n",
    "print(guid)\n",
    "\n",
    "graph = egeria_tech.get_asset_lineage_mermaid_graph(guid)\n",
    "icon = 'n3@{ img: \"https://raw.githubusercontent.com/odpi/egeria/refs/heads/main/assets/img/ODPi_Egeria_Logo_color.png\", h: 200, w: 300, pos: \"b\"'\n",
    "graph = graph \n",
    "ln = '\\nclick 83621335-f39d-4710-ab4c-bb9cc1f84b1d \"https://egeria-project.org/\"'\n",
    "print(graph)\n",
    "render_mermaid(graph+ln)"
   ]
  },
  {
   "cell_type": "markdown",
   "id": "bda2f891-10a5-41bb-bbf7-1212339f75c5",
   "metadata": {},
   "source": [
    "----\n",
    "\n",
    "You can use the following commands to show the elements from Unity Catalog in Egeria:\n",
    "\n",
    "* `hey_egeria cat show tech-type-elements --tech_type 'Unity Catalog Server'` for the Unity Catalog Servers.\n",
    "* `hey_egeria cat show tech-type-elements --tech_type 'Unity Catalog Catalog'` for the Unity Catalog Catalogs.\n",
    "* `hey_egeria cat show tech-type-elements --tech_type 'Unity Catalog Schema'` for the Unity Catalog Schemas.\n",
    "* `hey_egeria cat show tech-type-elements --tech_type 'Unity Catalog Table'` for the Unity Catalog Tables.\n",
    "* `hey_egeria cat show tech-type-elements --tech_type 'Unity Catalog Volume'` for the Unity Catalog Volumes.\n",
    "* `hey_egeria cat show tech-type-elements --tech_type 'Unity Catalog Function'` for the Unity Catalog Functions.\n",
    "\n",
    "You can also use `hey_egeria_cat show assets inventory` to search for assets that include the word `inventory` in it.\n",
    "\n",
    "----\n",
    "\n",
    "It is also possible to use python functions to retrieve information about the Unity Catalog resources.  This uses the `egeria_cat` client.\n",
    "\n",
    "----"
   ]
  },
  {
   "cell_type": "code",
   "execution_count": 17,
   "id": "3f26d7e3-4edb-4ead-923e-f64268d0b11f",
   "metadata": {
    "execution": {
     "iopub.execute_input": "2025-01-28T21:30:28.262890Z",
     "iopub.status.busy": "2025-01-28T21:30:28.262745Z",
     "iopub.status.idle": "2025-01-28T21:30:28.447603Z",
     "shell.execute_reply": "2025-01-28T21:30:28.447235Z",
     "shell.execute_reply.started": "2025-01-28T21:30:28.262881Z"
    }
   },
   "outputs": [
    {
     "name": "stdout",
     "output_type": "stream",
     "text": [
      "\u001b[1;37;40m                                             All Catalog Targets for Integration Connector UnityCatalogInsideCatalogSynchronizer @ Tue Jan 28 21:30:28 2025                                             \u001b[0m\n",
      "\u001b[1;37;40m╭──────────────────────────────────────┬─────────────────────────────────────────────┬────────────────────────────────────────────┬─────────────────────────────────────────────┬──────────────────────╮\u001b[0m\n",
      "\u001b[1;37;40m│\u001b[0m\u001b[37;48;5;18m                                      \u001b[0m\u001b[1;37;40m│\u001b[0m\u001b[37;48;5;18m                                             \u001b[0m\u001b[1;37;40m│\u001b[0m\u001b[37;48;5;18m                                            \u001b[0m\u001b[1;37;40m│\u001b[0m\u001b[37;48;5;18m                                             \u001b[0m\u001b[1;37;40m│\u001b[0m\u001b[37;48;5;18m \u001b[0m\u001b[37;48;5;18mOperational         \u001b[0m\u001b[37;48;5;18m \u001b[0m\u001b[1;37;40m│\u001b[0m\n",
      "\u001b[1;37;40m│\u001b[0m\u001b[37;48;5;18m \u001b[0m\u001b[37;48;5;18mName of Target                      \u001b[0m\u001b[37;48;5;18m \u001b[0m\u001b[1;37;40m│\u001b[0m\u001b[37;48;5;18m \u001b[0m\u001b[37;48;5;18mCatalog Target                             \u001b[0m\u001b[37;48;5;18m \u001b[0m\u001b[1;37;40m│\u001b[0m\u001b[37;48;5;18m \u001b[0m\u001b[37;48;5;18mConfiguration Properties                  \u001b[0m\u001b[37;48;5;18m \u001b[0m\u001b[1;37;40m│\u001b[0m\u001b[37;48;5;18m \u001b[0m\u001b[37;48;5;18mTemplate Properties                        \u001b[0m\u001b[37;48;5;18m \u001b[0m\u001b[1;37;40m│\u001b[0m\u001b[37;48;5;18m \u001b[0m\u001b[37;48;5;18mInstructions        \u001b[0m\u001b[37;48;5;18m \u001b[0m\u001b[1;37;40m│\u001b[0m\n",
      "\u001b[1;37;40m├──────────────────────────────────────┼─────────────────────────────────────────────┼────────────────────────────────────────────┼─────────────────────────────────────────────┼──────────────────────┤\u001b[0m\n",
      "\u001b[1;37;40m│\u001b[0m\u001b[1;37;40m \u001b[0m\u001b[1;37;40mUnity Catalog Server:Unity Catalog 1\u001b[0m\u001b[1;37;40m \u001b[0m\u001b[1;37;40m│\u001b[0m\u001b[1;37;40m \u001b[0m\u001b[1;37;40m                                           \u001b[0m\u001b[1;37;40m \u001b[0m\u001b[1;37;40m│\u001b[0m\u001b[1;37;40m \u001b[0m\u001b[1;37;40m                                          \u001b[0m\u001b[1;37;40m \u001b[0m\u001b[1;37;40m│\u001b[0m\u001b[1;37;40m \u001b[0m\u001b[1;37;40m                                           \u001b[0m\u001b[1;37;40m \u001b[0m\u001b[1;37;40m│\u001b[0m\u001b[1;37;40m \u001b[0m\u001b[1;37;40m                    \u001b[0m\u001b[1;37;40m \u001b[0m\u001b[1;37;40m│\u001b[0m\n",
      "\u001b[1;37;40m│\u001b[0m\u001b[1;37;40m                                      \u001b[0m\u001b[1;37;40m│\u001b[0m\u001b[1;37;40m \u001b[0m\u001b[1;33;40m • \u001b[0m\u001b[1;37;40mTarget Name: unity                      \u001b[0m\u001b[1;37;40m \u001b[0m\u001b[1;37;40m│\u001b[0m\u001b[1;37;40m \u001b[0m\u001b[1;33;40m • \u001b[0m\u001b[1;37;40mversionIdentifier: v0.3.0-SNAPSHOT     \u001b[0m\u001b[1;37;40m \u001b[0m\u001b[1;37;40m│\u001b[0m\u001b[1;37;40m \u001b[0m\u001b[1;33;40m • \u001b[0m\u001b[1;37;40mUnity Catalog Registered Model Version: \u001b[0m\u001b[1;37;40m \u001b[0m\u001b[1;37;40m│\u001b[0m\u001b[1;37;40m \u001b[0m\u001b[1;33;40m • \u001b[0m\u001b[1;37;40mBOTH_DIRECTIONS  \u001b[0m\u001b[1;37;40m \u001b[0m\u001b[1;37;40m│\u001b[0m\n",
      "\u001b[1;37;40m│\u001b[0m\u001b[1;37;40m                                      \u001b[0m\u001b[1;37;40m│\u001b[0m\u001b[1;37;40m \u001b[0m\u001b[1;33;40m • \u001b[0m\u001b[1;37;40mTarget Source: Unity Catalog            \u001b[0m\u001b[1;37;40m \u001b[0m\u001b[1;37;40m│\u001b[0m\u001b[1;37;40m \u001b[0m\u001b[1;33;40m • \u001b[0m\u001b[1;37;40mucCatalogName: unity                   \u001b[0m\u001b[1;37;40m \u001b[0m\u001b[1;37;40m│\u001b[0m\u001b[1;37;40m \u001b[0m\u001b[1;33;40m   \u001b[0m\u001b[1;37;40m1364bfe7-8295-4e99-9243-8840aeac4cf1    \u001b[0m\u001b[1;37;40m \u001b[0m\u001b[1;37;40m│\u001b[0m\u001b[1;37;40m \u001b[0m\u001b[1;33;40m • \u001b[0m\u001b[1;37;40mARCHIVE          \u001b[0m\u001b[1;37;40m \u001b[0m\u001b[1;37;40m│\u001b[0m\n",
      "\u001b[1;37;40m│\u001b[0m\u001b[1;37;40m                                      \u001b[0m\u001b[1;37;40m│\u001b[0m\u001b[1;37;40m \u001b[0m\u001b[1;33;40m   \u001b[0m\u001b[1;37;40mCatalog:http://host.docker.internal:808…\u001b[0m\u001b[1;37;40m \u001b[0m\u001b[1;37;40m│\u001b[0m\u001b[1;37;40m \u001b[0m\u001b[1;33;40m • \u001b[0m\u001b[1;37;40mdescription: Local instance of the     \u001b[0m\u001b[1;37;40m \u001b[0m\u001b[1;37;40m│\u001b[0m\u001b[1;37;40m \u001b[0m\u001b[1;33;40m • \u001b[0m\u001b[1;37;40mUnity Catalog Registered Model:         \u001b[0m\u001b[1;37;40m \u001b[0m\u001b[1;37;40m│\u001b[0m\u001b[1;37;40m                      \u001b[0m\u001b[1;37;40m│\u001b[0m\n",
      "\u001b[1;37;40m│\u001b[0m\u001b[1;37;40m                                      \u001b[0m\u001b[1;37;40m│\u001b[0m\u001b[1;37;40m \u001b[0m\u001b[1;33;40m • \u001b[0m\u001b[1;37;40mRelationship Guid:                      \u001b[0m\u001b[1;37;40m \u001b[0m\u001b[1;37;40m│\u001b[0m\u001b[1;37;40m \u001b[0m\u001b[1;33;40m   \u001b[0m\u001b[1;37;40mUnity Catalog (UC) Server.             \u001b[0m\u001b[1;37;40m \u001b[0m\u001b[1;37;40m│\u001b[0m\u001b[1;37;40m \u001b[0m\u001b[1;33;40m   \u001b[0m\u001b[1;37;40m0d762ec5-c1f5-4364-aa64-e7e00d27f837    \u001b[0m\u001b[1;37;40m \u001b[0m\u001b[1;37;40m│\u001b[0m\u001b[1;37;40m                      \u001b[0m\u001b[1;37;40m│\u001b[0m\n",
      "\u001b[1;37;40m│\u001b[0m\u001b[1;37;40m                                      \u001b[0m\u001b[1;37;40m│\u001b[0m\u001b[1;37;40m \u001b[0m\u001b[1;33;40m   \u001b[0m\u001b[1;37;40m47c03545-5bb9-4f4e-95f5-d5f347db0a25    \u001b[0m\u001b[1;37;40m \u001b[0m\u001b[1;37;40m│\u001b[0m\u001b[1;37;40m \u001b[0m\u001b[1;33;40m • \u001b[0m\u001b[1;37;40mserverName: Unity Catalog 1            \u001b[0m\u001b[1;37;40m \u001b[0m\u001b[1;37;40m│\u001b[0m\u001b[1;37;40m \u001b[0m\u001b[1;33;40m • \u001b[0m\u001b[1;37;40mUnity Catalog Server:                   \u001b[0m\u001b[1;37;40m \u001b[0m\u001b[1;37;40m│\u001b[0m\u001b[1;37;40m                      \u001b[0m\u001b[1;37;40m│\u001b[0m\n",
      "\u001b[1;37;40m│\u001b[0m\u001b[1;37;40m                                      \u001b[0m\u001b[1;37;40m│\u001b[0m\u001b[1;37;40m                                             \u001b[0m\u001b[1;37;40m│\u001b[0m\u001b[1;37;40m \u001b[0m\u001b[1;33;40m • \u001b[0m\u001b[1;37;40mguid:                                  \u001b[0m\u001b[1;37;40m \u001b[0m\u001b[1;37;40m│\u001b[0m\u001b[1;37;40m \u001b[0m\u001b[1;33;40m   \u001b[0m\u001b[1;37;40mdcca9788-b30f-4007-b1ac-ec634aff6879    \u001b[0m\u001b[1;37;40m \u001b[0m\u001b[1;37;40m│\u001b[0m\u001b[1;37;40m                      \u001b[0m\u001b[1;37;40m│\u001b[0m\n",
      "\u001b[1;37;40m│\u001b[0m\u001b[1;37;40m                                      \u001b[0m\u001b[1;37;40m│\u001b[0m\u001b[1;37;40m                                             \u001b[0m\u001b[1;37;40m│\u001b[0m\u001b[1;37;40m \u001b[0m\u001b[1;33;40m   \u001b[0m\u001b[1;37;40md7ce69ff-62d7-4209-9dc3-c9c9da583c8e   \u001b[0m\u001b[1;37;40m \u001b[0m\u001b[1;37;40m│\u001b[0m\u001b[1;37;40m \u001b[0m\u001b[1;33;40m • \u001b[0m\u001b[1;37;40mUnity Catalog Catalog:                  \u001b[0m\u001b[1;37;40m \u001b[0m\u001b[1;37;40m│\u001b[0m\u001b[1;37;40m                      \u001b[0m\u001b[1;37;40m│\u001b[0m\n",
      "\u001b[1;37;40m│\u001b[0m\u001b[1;37;40m                                      \u001b[0m\u001b[1;37;40m│\u001b[0m\u001b[1;37;40m                                             \u001b[0m\u001b[1;37;40m│\u001b[0m\u001b[1;37;40m \u001b[0m\u001b[1;33;40m • \u001b[0m\u001b[1;37;40mhostURL: http://host.docker.internal   \u001b[0m\u001b[1;37;40m \u001b[0m\u001b[1;37;40m│\u001b[0m\u001b[1;37;40m \u001b[0m\u001b[1;33;40m   \u001b[0m\u001b[1;37;40m5ee006aa-a6d6-411b-9b8d-5f720c079cae    \u001b[0m\u001b[1;37;40m \u001b[0m\u001b[1;37;40m│\u001b[0m\u001b[1;37;40m                      \u001b[0m\u001b[1;37;40m│\u001b[0m\n",
      "\u001b[1;37;40m│\u001b[0m\u001b[1;37;40m                                      \u001b[0m\u001b[1;37;40m│\u001b[0m\u001b[1;37;40m                                             \u001b[0m\u001b[1;37;40m│\u001b[0m\u001b[1;37;40m \u001b[0m\u001b[1;33;40m • \u001b[0m\u001b[1;37;40mserverUserId: uc1                      \u001b[0m\u001b[1;37;40m \u001b[0m\u001b[1;37;40m│\u001b[0m\u001b[1;37;40m \u001b[0m\u001b[1;33;40m • \u001b[0m\u001b[1;37;40mUnity Catalog Volume:                   \u001b[0m\u001b[1;37;40m \u001b[0m\u001b[1;37;40m│\u001b[0m\u001b[1;37;40m                      \u001b[0m\u001b[1;37;40m│\u001b[0m\n",
      "\u001b[1;37;40m│\u001b[0m\u001b[1;37;40m                                      \u001b[0m\u001b[1;37;40m│\u001b[0m\u001b[1;37;40m                                             \u001b[0m\u001b[1;37;40m│\u001b[0m\u001b[1;37;40m \u001b[0m\u001b[1;33;40m • \u001b[0m\u001b[1;37;40mUnityCatalogFriendshipGUID:            \u001b[0m\u001b[1;37;40m \u001b[0m\u001b[1;37;40m│\u001b[0m\u001b[1;37;40m \u001b[0m\u001b[1;33;40m   \u001b[0m\u001b[1;37;40m92d2d2dc-0798-41f0-9512-b10548d312b7    \u001b[0m\u001b[1;37;40m \u001b[0m\u001b[1;37;40m│\u001b[0m\u001b[1;37;40m                      \u001b[0m\u001b[1;37;40m│\u001b[0m\n",
      "\u001b[1;37;40m│\u001b[0m\u001b[1;37;40m                                      \u001b[0m\u001b[1;37;40m│\u001b[0m\u001b[1;37;40m                                             \u001b[0m\u001b[1;37;40m│\u001b[0m\u001b[1;37;40m \u001b[0m\u001b[1;33;40m   \u001b[0m\u001b[1;37;40m74dde22f-2249-4ea3-af2b-b39e73f79b81   \u001b[0m\u001b[1;37;40m \u001b[0m\u001b[1;37;40m│\u001b[0m\u001b[1;37;40m \u001b[0m\u001b[1;33;40m • \u001b[0m\u001b[1;37;40mUnity Catalog Table:                    \u001b[0m\u001b[1;37;40m \u001b[0m\u001b[1;37;40m│\u001b[0m\u001b[1;37;40m                      \u001b[0m\u001b[1;37;40m│\u001b[0m\n",
      "\u001b[1;37;40m│\u001b[0m\u001b[1;37;40m                                      \u001b[0m\u001b[1;37;40m│\u001b[0m\u001b[1;37;40m                                             \u001b[0m\u001b[1;37;40m│\u001b[0m\u001b[1;37;40m \u001b[0m\u001b[1;33;40m • \u001b[0m\u001b[1;37;40mportNumber: 8087                       \u001b[0m\u001b[1;37;40m \u001b[0m\u001b[1;37;40m│\u001b[0m\u001b[1;37;40m \u001b[0m\u001b[1;33;40m   \u001b[0m\u001b[1;37;40m6cc1e5f5-4c1e-4290-a80e-e06643ffb13d    \u001b[0m\u001b[1;37;40m \u001b[0m\u001b[1;37;40m│\u001b[0m\u001b[1;37;40m                      \u001b[0m\u001b[1;37;40m│\u001b[0m\n",
      "\u001b[1;37;40m│\u001b[0m\u001b[1;37;40m                                      \u001b[0m\u001b[1;37;40m│\u001b[0m\u001b[1;37;40m                                             \u001b[0m\u001b[1;37;40m│\u001b[0m\u001b[1;37;40m \u001b[0m\u001b[1;33;40m • \u001b[0m\u001b[1;37;40mtemplateGUID:                          \u001b[0m\u001b[1;37;40m \u001b[0m\u001b[1;37;40m│\u001b[0m\u001b[1;37;40m \u001b[0m\u001b[1;33;40m • \u001b[0m\u001b[1;37;40mUnity Catalog Function:                 \u001b[0m\u001b[1;37;40m \u001b[0m\u001b[1;37;40m│\u001b[0m\u001b[1;37;40m                      \u001b[0m\u001b[1;37;40m│\u001b[0m\n",
      "\u001b[1;37;40m│\u001b[0m\u001b[1;37;40m                                      \u001b[0m\u001b[1;37;40m│\u001b[0m\u001b[1;37;40m                                             \u001b[0m\u001b[1;37;40m│\u001b[0m\u001b[1;37;40m \u001b[0m\u001b[1;33;40m   \u001b[0m\u001b[1;37;40mdcca9788-b30f-4007-b1ac-ec634aff6879   \u001b[0m\u001b[1;37;40m \u001b[0m\u001b[1;37;40m│\u001b[0m\u001b[1;37;40m \u001b[0m\u001b[1;33;40m   \u001b[0m\u001b[1;37;40ma490ba65-6104-4213-9be9-524e16fed8aa    \u001b[0m\u001b[1;37;40m \u001b[0m\u001b[1;37;40m│\u001b[0m\u001b[1;37;40m                      \u001b[0m\u001b[1;37;40m│\u001b[0m\n",
      "\u001b[1;37;40m│\u001b[0m\u001b[1;37;40m                                      \u001b[0m\u001b[1;37;40m│\u001b[0m\u001b[1;37;40m                                             \u001b[0m\u001b[1;37;40m│\u001b[0m\u001b[1;37;40m                                            \u001b[0m\u001b[1;37;40m│\u001b[0m\u001b[1;37;40m \u001b[0m\u001b[1;33;40m • \u001b[0m\u001b[1;37;40mUnity Catalog Schema:                   \u001b[0m\u001b[1;37;40m \u001b[0m\u001b[1;37;40m│\u001b[0m\u001b[1;37;40m                      \u001b[0m\u001b[1;37;40m│\u001b[0m\n",
      "\u001b[1;37;40m│\u001b[0m\u001b[1;37;40m                                      \u001b[0m\u001b[1;37;40m│\u001b[0m\u001b[1;37;40m                                             \u001b[0m\u001b[1;37;40m│\u001b[0m\u001b[1;37;40m                                            \u001b[0m\u001b[1;37;40m│\u001b[0m\u001b[1;37;40m \u001b[0m\u001b[1;33;40m   \u001b[0m\u001b[1;37;40m5bf92b0f-3970-41ea-b0a3-aacfbf6fd92e    \u001b[0m\u001b[1;37;40m \u001b[0m\u001b[1;37;40m│\u001b[0m\u001b[1;37;40m                      \u001b[0m\u001b[1;37;40m│\u001b[0m\n",
      "\u001b[1;37;40m│\u001b[0m\u001b[1;37;40m                                      \u001b[0m\u001b[1;37;40m│\u001b[0m\u001b[1;37;40m                                             \u001b[0m\u001b[1;37;40m│\u001b[0m\u001b[1;37;40m                                            \u001b[0m\u001b[1;37;40m│\u001b[0m\u001b[1;37;40m \u001b[0m\u001b[1;33;40m • \u001b[0m\u001b[1;37;40mDatabricks Unity Catalog Server:        \u001b[0m\u001b[1;37;40m \u001b[0m\u001b[1;37;40m│\u001b[0m\u001b[1;37;40m                      \u001b[0m\u001b[1;37;40m│\u001b[0m\n",
      "\u001b[1;37;40m│\u001b[0m\u001b[1;37;40m                                      \u001b[0m\u001b[1;37;40m│\u001b[0m\u001b[1;37;40m                                             \u001b[0m\u001b[1;37;40m│\u001b[0m\u001b[1;37;40m                                            \u001b[0m\u001b[1;37;40m│\u001b[0m\u001b[1;37;40m \u001b[0m\u001b[1;33;40m   \u001b[0m\u001b[1;37;40m3f7f62f6-4abc-424e-9f92-523306e7d5d5    \u001b[0m\u001b[1;37;40m \u001b[0m\u001b[1;37;40m│\u001b[0m\u001b[1;37;40m                      \u001b[0m\u001b[1;37;40m│\u001b[0m\n",
      "\u001b[1;37;40m├──────────────────────────────────────┼─────────────────────────────────────────────┼────────────────────────────────────────────┼─────────────────────────────────────────────┼──────────────────────┤\u001b[0m\n",
      "\u001b[1;37;40m│\u001b[0m\u001b[1;37;40m \u001b[0m\u001b[1;37;40mUnity Catalog Server:Unity Catalog 1\u001b[0m\u001b[1;37;40m \u001b[0m\u001b[1;37;40m│\u001b[0m\u001b[1;37;40m \u001b[0m\u001b[1;37;40m                                           \u001b[0m\u001b[1;37;40m \u001b[0m\u001b[1;37;40m│\u001b[0m\u001b[1;37;40m \u001b[0m\u001b[1;37;40m                                          \u001b[0m\u001b[1;37;40m \u001b[0m\u001b[1;37;40m│\u001b[0m\u001b[1;37;40m \u001b[0m\u001b[1;37;40m                                           \u001b[0m\u001b[1;37;40m \u001b[0m\u001b[1;37;40m│\u001b[0m\u001b[1;37;40m \u001b[0m\u001b[1;37;40m                    \u001b[0m\u001b[1;37;40m \u001b[0m\u001b[1;37;40m│\u001b[0m\n",
      "\u001b[1;37;40m│\u001b[0m\u001b[1;37;40m                                      \u001b[0m\u001b[1;37;40m│\u001b[0m\u001b[1;37;40m \u001b[0m\u001b[1;33;40m • \u001b[0m\u001b[1;37;40mTarget Name: new_catalog                \u001b[0m\u001b[1;37;40m \u001b[0m\u001b[1;37;40m│\u001b[0m\u001b[1;37;40m \u001b[0m\u001b[1;33;40m • \u001b[0m\u001b[1;37;40mversionIdentifier: v0.3.0-SNAPSHOT     \u001b[0m\u001b[1;37;40m \u001b[0m\u001b[1;37;40m│\u001b[0m\u001b[1;37;40m \u001b[0m\u001b[1;33;40m • \u001b[0m\u001b[1;37;40mUnity Catalog Registered Model Version: \u001b[0m\u001b[1;37;40m \u001b[0m\u001b[1;37;40m│\u001b[0m\u001b[1;37;40m \u001b[0m\u001b[1;33;40m • \u001b[0m\u001b[1;37;40mBOTH_DIRECTIONS  \u001b[0m\u001b[1;37;40m \u001b[0m\u001b[1;37;40m│\u001b[0m\n",
      "\u001b[1;37;40m│\u001b[0m\u001b[1;37;40m                                      \u001b[0m\u001b[1;37;40m│\u001b[0m\u001b[1;37;40m \u001b[0m\u001b[1;33;40m • \u001b[0m\u001b[1;37;40mTarget Source: Unity Catalog            \u001b[0m\u001b[1;37;40m \u001b[0m\u001b[1;37;40m│\u001b[0m\u001b[1;37;40m \u001b[0m\u001b[1;33;40m • \u001b[0m\u001b[1;37;40mucCatalogName: new_catalog             \u001b[0m\u001b[1;37;40m \u001b[0m\u001b[1;37;40m│\u001b[0m\u001b[1;37;40m \u001b[0m\u001b[1;33;40m   \u001b[0m\u001b[1;37;40m1364bfe7-8295-4e99-9243-8840aeac4cf1    \u001b[0m\u001b[1;37;40m \u001b[0m\u001b[1;37;40m│\u001b[0m\u001b[1;37;40m \u001b[0m\u001b[1;33;40m • \u001b[0m\u001b[1;37;40mARCHIVE          \u001b[0m\u001b[1;37;40m \u001b[0m\u001b[1;37;40m│\u001b[0m\n",
      "\u001b[1;37;40m│\u001b[0m\u001b[1;37;40m                                      \u001b[0m\u001b[1;37;40m│\u001b[0m\u001b[1;37;40m \u001b[0m\u001b[1;33;40m   \u001b[0m\u001b[1;37;40mCatalog:http://host.docker.internal:808…\u001b[0m\u001b[1;37;40m \u001b[0m\u001b[1;37;40m│\u001b[0m\u001b[1;37;40m \u001b[0m\u001b[1;33;40m • \u001b[0m\u001b[1;37;40mdescription: Local instance of the     \u001b[0m\u001b[1;37;40m \u001b[0m\u001b[1;37;40m│\u001b[0m\u001b[1;37;40m \u001b[0m\u001b[1;33;40m • \u001b[0m\u001b[1;37;40mUnity Catalog Registered Model:         \u001b[0m\u001b[1;37;40m \u001b[0m\u001b[1;37;40m│\u001b[0m\u001b[1;37;40m                      \u001b[0m\u001b[1;37;40m│\u001b[0m\n",
      "\u001b[1;37;40m│\u001b[0m\u001b[1;37;40m                                      \u001b[0m\u001b[1;37;40m│\u001b[0m\u001b[1;37;40m \u001b[0m\u001b[1;33;40m • \u001b[0m\u001b[1;37;40mRelationship Guid:                      \u001b[0m\u001b[1;37;40m \u001b[0m\u001b[1;37;40m│\u001b[0m\u001b[1;37;40m \u001b[0m\u001b[1;33;40m   \u001b[0m\u001b[1;37;40mUnity Catalog (UC) Server.             \u001b[0m\u001b[1;37;40m \u001b[0m\u001b[1;37;40m│\u001b[0m\u001b[1;37;40m \u001b[0m\u001b[1;33;40m   \u001b[0m\u001b[1;37;40m0d762ec5-c1f5-4364-aa64-e7e00d27f837    \u001b[0m\u001b[1;37;40m \u001b[0m\u001b[1;37;40m│\u001b[0m\u001b[1;37;40m                      \u001b[0m\u001b[1;37;40m│\u001b[0m\n",
      "\u001b[1;37;40m│\u001b[0m\u001b[1;37;40m                                      \u001b[0m\u001b[1;37;40m│\u001b[0m\u001b[1;37;40m \u001b[0m\u001b[1;33;40m   \u001b[0m\u001b[1;37;40m79266dd9-5bac-48c0-a6fd-b9836783d24b    \u001b[0m\u001b[1;37;40m \u001b[0m\u001b[1;37;40m│\u001b[0m\u001b[1;37;40m \u001b[0m\u001b[1;33;40m • \u001b[0m\u001b[1;37;40mserverName: Unity Catalog 1            \u001b[0m\u001b[1;37;40m \u001b[0m\u001b[1;37;40m│\u001b[0m\u001b[1;37;40m \u001b[0m\u001b[1;33;40m • \u001b[0m\u001b[1;37;40mUnity Catalog Server:                   \u001b[0m\u001b[1;37;40m \u001b[0m\u001b[1;37;40m│\u001b[0m\u001b[1;37;40m                      \u001b[0m\u001b[1;37;40m│\u001b[0m\n",
      "\u001b[1;37;40m│\u001b[0m\u001b[1;37;40m                                      \u001b[0m\u001b[1;37;40m│\u001b[0m\u001b[1;37;40m                                             \u001b[0m\u001b[1;37;40m│\u001b[0m\u001b[1;37;40m \u001b[0m\u001b[1;33;40m • \u001b[0m\u001b[1;37;40mguid:                                  \u001b[0m\u001b[1;37;40m \u001b[0m\u001b[1;37;40m│\u001b[0m\u001b[1;37;40m \u001b[0m\u001b[1;33;40m   \u001b[0m\u001b[1;37;40mdcca9788-b30f-4007-b1ac-ec634aff6879    \u001b[0m\u001b[1;37;40m \u001b[0m\u001b[1;37;40m│\u001b[0m\u001b[1;37;40m                      \u001b[0m\u001b[1;37;40m│\u001b[0m\n",
      "\u001b[1;37;40m│\u001b[0m\u001b[1;37;40m                                      \u001b[0m\u001b[1;37;40m│\u001b[0m\u001b[1;37;40m                                             \u001b[0m\u001b[1;37;40m│\u001b[0m\u001b[1;37;40m \u001b[0m\u001b[1;33;40m   \u001b[0m\u001b[1;37;40mc08f96a2-e247-4e17-8014-f8e3619e5890   \u001b[0m\u001b[1;37;40m \u001b[0m\u001b[1;37;40m│\u001b[0m\u001b[1;37;40m \u001b[0m\u001b[1;33;40m • \u001b[0m\u001b[1;37;40mUnity Catalog Catalog:                  \u001b[0m\u001b[1;37;40m \u001b[0m\u001b[1;37;40m│\u001b[0m\u001b[1;37;40m                      \u001b[0m\u001b[1;37;40m│\u001b[0m\n",
      "\u001b[1;37;40m│\u001b[0m\u001b[1;37;40m                                      \u001b[0m\u001b[1;37;40m│\u001b[0m\u001b[1;37;40m                                             \u001b[0m\u001b[1;37;40m│\u001b[0m\u001b[1;37;40m \u001b[0m\u001b[1;33;40m • \u001b[0m\u001b[1;37;40mhostURL: http://host.docker.internal   \u001b[0m\u001b[1;37;40m \u001b[0m\u001b[1;37;40m│\u001b[0m\u001b[1;37;40m \u001b[0m\u001b[1;33;40m   \u001b[0m\u001b[1;37;40m5ee006aa-a6d6-411b-9b8d-5f720c079cae    \u001b[0m\u001b[1;37;40m \u001b[0m\u001b[1;37;40m│\u001b[0m\u001b[1;37;40m                      \u001b[0m\u001b[1;37;40m│\u001b[0m\n",
      "\u001b[1;37;40m│\u001b[0m\u001b[1;37;40m                                      \u001b[0m\u001b[1;37;40m│\u001b[0m\u001b[1;37;40m                                             \u001b[0m\u001b[1;37;40m│\u001b[0m\u001b[1;37;40m \u001b[0m\u001b[1;33;40m • \u001b[0m\u001b[1;37;40mserverUserId: uc1                      \u001b[0m\u001b[1;37;40m \u001b[0m\u001b[1;37;40m│\u001b[0m\u001b[1;37;40m \u001b[0m\u001b[1;33;40m • \u001b[0m\u001b[1;37;40mUnity Catalog Volume:                   \u001b[0m\u001b[1;37;40m \u001b[0m\u001b[1;37;40m│\u001b[0m\u001b[1;37;40m                      \u001b[0m\u001b[1;37;40m│\u001b[0m\n",
      "\u001b[1;37;40m│\u001b[0m\u001b[1;37;40m                                      \u001b[0m\u001b[1;37;40m│\u001b[0m\u001b[1;37;40m                                             \u001b[0m\u001b[1;37;40m│\u001b[0m\u001b[1;37;40m \u001b[0m\u001b[1;33;40m • \u001b[0m\u001b[1;37;40mUnityCatalogFriendshipGUID:            \u001b[0m\u001b[1;37;40m \u001b[0m\u001b[1;37;40m│\u001b[0m\u001b[1;37;40m \u001b[0m\u001b[1;33;40m   \u001b[0m\u001b[1;37;40m92d2d2dc-0798-41f0-9512-b10548d312b7    \u001b[0m\u001b[1;37;40m \u001b[0m\u001b[1;37;40m│\u001b[0m\u001b[1;37;40m                      \u001b[0m\u001b[1;37;40m│\u001b[0m\n",
      "\u001b[1;37;40m│\u001b[0m\u001b[1;37;40m                                      \u001b[0m\u001b[1;37;40m│\u001b[0m\u001b[1;37;40m                                             \u001b[0m\u001b[1;37;40m│\u001b[0m\u001b[1;37;40m \u001b[0m\u001b[1;33;40m   \u001b[0m\u001b[1;37;40m74dde22f-2249-4ea3-af2b-b39e73f79b81   \u001b[0m\u001b[1;37;40m \u001b[0m\u001b[1;37;40m│\u001b[0m\u001b[1;37;40m \u001b[0m\u001b[1;33;40m • \u001b[0m\u001b[1;37;40mUnity Catalog Table:                    \u001b[0m\u001b[1;37;40m \u001b[0m\u001b[1;37;40m│\u001b[0m\u001b[1;37;40m                      \u001b[0m\u001b[1;37;40m│\u001b[0m\n",
      "\u001b[1;37;40m│\u001b[0m\u001b[1;37;40m                                      \u001b[0m\u001b[1;37;40m│\u001b[0m\u001b[1;37;40m                                             \u001b[0m\u001b[1;37;40m│\u001b[0m\u001b[1;37;40m \u001b[0m\u001b[1;33;40m • \u001b[0m\u001b[1;37;40mportNumber: 8087                       \u001b[0m\u001b[1;37;40m \u001b[0m\u001b[1;37;40m│\u001b[0m\u001b[1;37;40m \u001b[0m\u001b[1;33;40m   \u001b[0m\u001b[1;37;40m6cc1e5f5-4c1e-4290-a80e-e06643ffb13d    \u001b[0m\u001b[1;37;40m \u001b[0m\u001b[1;37;40m│\u001b[0m\u001b[1;37;40m                      \u001b[0m\u001b[1;37;40m│\u001b[0m\n",
      "\u001b[1;37;40m│\u001b[0m\u001b[1;37;40m                                      \u001b[0m\u001b[1;37;40m│\u001b[0m\u001b[1;37;40m                                             \u001b[0m\u001b[1;37;40m│\u001b[0m\u001b[1;37;40m \u001b[0m\u001b[1;33;40m • \u001b[0m\u001b[1;37;40mtemplateGUID:                          \u001b[0m\u001b[1;37;40m \u001b[0m\u001b[1;37;40m│\u001b[0m\u001b[1;37;40m \u001b[0m\u001b[1;33;40m • \u001b[0m\u001b[1;37;40mUnity Catalog Function:                 \u001b[0m\u001b[1;37;40m \u001b[0m\u001b[1;37;40m│\u001b[0m\u001b[1;37;40m                      \u001b[0m\u001b[1;37;40m│\u001b[0m\n",
      "\u001b[1;37;40m│\u001b[0m\u001b[1;37;40m                                      \u001b[0m\u001b[1;37;40m│\u001b[0m\u001b[1;37;40m                                             \u001b[0m\u001b[1;37;40m│\u001b[0m\u001b[1;37;40m \u001b[0m\u001b[1;33;40m   \u001b[0m\u001b[1;37;40mdcca9788-b30f-4007-b1ac-ec634aff6879   \u001b[0m\u001b[1;37;40m \u001b[0m\u001b[1;37;40m│\u001b[0m\u001b[1;37;40m \u001b[0m\u001b[1;33;40m   \u001b[0m\u001b[1;37;40ma490ba65-6104-4213-9be9-524e16fed8aa    \u001b[0m\u001b[1;37;40m \u001b[0m\u001b[1;37;40m│\u001b[0m\u001b[1;37;40m                      \u001b[0m\u001b[1;37;40m│\u001b[0m\n",
      "\u001b[1;37;40m│\u001b[0m\u001b[1;37;40m                                      \u001b[0m\u001b[1;37;40m│\u001b[0m\u001b[1;37;40m                                             \u001b[0m\u001b[1;37;40m│\u001b[0m\u001b[1;37;40m                                            \u001b[0m\u001b[1;37;40m│\u001b[0m\u001b[1;37;40m \u001b[0m\u001b[1;33;40m • \u001b[0m\u001b[1;37;40mUnity Catalog Schema:                   \u001b[0m\u001b[1;37;40m \u001b[0m\u001b[1;37;40m│\u001b[0m\u001b[1;37;40m                      \u001b[0m\u001b[1;37;40m│\u001b[0m\n",
      "\u001b[1;37;40m│\u001b[0m\u001b[1;37;40m                                      \u001b[0m\u001b[1;37;40m│\u001b[0m\u001b[1;37;40m                                             \u001b[0m\u001b[1;37;40m│\u001b[0m\u001b[1;37;40m                                            \u001b[0m\u001b[1;37;40m│\u001b[0m\u001b[1;37;40m \u001b[0m\u001b[1;33;40m   \u001b[0m\u001b[1;37;40m5bf92b0f-3970-41ea-b0a3-aacfbf6fd92e    \u001b[0m\u001b[1;37;40m \u001b[0m\u001b[1;37;40m│\u001b[0m\u001b[1;37;40m                      \u001b[0m\u001b[1;37;40m│\u001b[0m\n",
      "\u001b[1;37;40m│\u001b[0m\u001b[1;37;40m                                      \u001b[0m\u001b[1;37;40m│\u001b[0m\u001b[1;37;40m                                             \u001b[0m\u001b[1;37;40m│\u001b[0m\u001b[1;37;40m                                            \u001b[0m\u001b[1;37;40m│\u001b[0m\u001b[1;37;40m \u001b[0m\u001b[1;33;40m • \u001b[0m\u001b[1;37;40mDatabricks Unity Catalog Server:        \u001b[0m\u001b[1;37;40m \u001b[0m\u001b[1;37;40m│\u001b[0m\u001b[1;37;40m                      \u001b[0m\u001b[1;37;40m│\u001b[0m\n",
      "\u001b[1;37;40m│\u001b[0m\u001b[1;37;40m                                      \u001b[0m\u001b[1;37;40m│\u001b[0m\u001b[1;37;40m                                             \u001b[0m\u001b[1;37;40m│\u001b[0m\u001b[1;37;40m                                            \u001b[0m\u001b[1;37;40m│\u001b[0m\u001b[1;37;40m \u001b[0m\u001b[1;33;40m   \u001b[0m\u001b[1;37;40m3f7f62f6-4abc-424e-9f92-523306e7d5d5    \u001b[0m\u001b[1;37;40m \u001b[0m\u001b[1;37;40m│\u001b[0m\u001b[1;37;40m                      \u001b[0m\u001b[1;37;40m│\u001b[0m\n",
      "\u001b[1;37;40m╰──────────────────────────────────────┴─────────────────────────────────────────────┴────────────────────────────────────────────┴─────────────────────────────────────────────┴──────────────────────╯\u001b[0m\n",
      "\u001b[2;3m                                                          Catalog Targets for 'qs-view-server' @ Platform - https://host.docker.internal:9443                                                           \u001b[0m\n"
     ]
    },
    {
     "data": {
      "text/html": [
       "<pre style=\"white-space:pre;overflow-x:auto;line-height:normal;font-family:Menlo,'DejaVu Sans Mono',consolas,'Courier New',monospace\"></pre>\n"
      ],
      "text/plain": []
     },
     "metadata": {},
     "output_type": "display_data"
    }
   ],
   "source": [
    "from pyegeria.commands.ops.list_catalog_targets import display_catalog_targets\n",
    "\n",
    "display_catalog_targets(\"UnityCatalogInsideCatalogSynchronizer\",\n",
    "                       view_server,\n",
    "                       url,\n",
    "                       user_id,\n",
    "                       user_pwd)\n"
   ]
  },
  {
   "cell_type": "code",
   "execution_count": 18,
   "id": "1826ddcc-14f9-40ca-848a-2f1a77e3cd84",
   "metadata": {
    "execution": {
     "iopub.execute_input": "2025-01-28T21:30:33.798283Z",
     "iopub.status.busy": "2025-01-28T21:30:33.797912Z",
     "iopub.status.idle": "2025-01-28T21:30:33.806881Z",
     "shell.execute_reply": "2025-01-28T21:30:33.806378Z",
     "shell.execute_reply.started": "2025-01-28T21:30:33.798263Z"
    }
   },
   "outputs": [],
   "source": [
    "\n",
    "egeria_cat = EgeriaCat(view_server, url, user_id, user_pwd)\n",
    "egeria_cat.set_bearer_token(token)\n"
   ]
  },
  {
   "cell_type": "markdown",
   "id": "afcab3ed-cf03-4dce-b6a9-0ccfbf8ae8a3",
   "metadata": {},
   "source": [
    "----\n",
    "\n",
    "The command below retrieves assets that match the search query.  If you see the message \"no assets found\" then re-run the request as the synchronization process may not have been comopleted.\n",
    "\n",
    "----"
   ]
  },
  {
   "cell_type": "code",
   "execution_count": 19,
   "id": "46fb242c-b9ac-496d-9719-cb2a7899ee9e",
   "metadata": {
    "execution": {
     "iopub.execute_input": "2025-01-28T21:30:41.713140Z",
     "iopub.status.busy": "2025-01-28T21:30:41.712969Z",
     "iopub.status.idle": "2025-01-28T21:30:41.865701Z",
     "shell.execute_reply": "2025-01-28T21:30:41.865255Z",
     "shell.execute_reply.started": "2025-01-28T21:30:41.713128Z"
    }
   },
   "outputs": [
    {
     "name": "stdout",
     "output_type": "stream",
     "text": [
      "\n",
      "Asset: \n",
      " > DeployedDatabaseSchema [83621335-f39d-4710-ab4c-bb9cc1f84b1d]\n",
      " > class: AssetProperties\n",
      " > typeName: DeployedDatabaseSchema\n",
      " > qualifiedName: Unity Catalog Schema:http://host.docker.internal:8087:unity.default\n",
      " > displayName: default\n",
      " > displayDescription: Default schema\n",
      " > name: default\n",
      " > resourceName: unity.default\n",
      " > resourceDescription: Default schema\n",
      " > deployedImplementationType: Unity Catalog Schema\n",
      "Matching Element:\n",
      "   > DeployedAPI [f83148ea-a3c9-4738-b24c-903c4c110abc]\n",
      "   > qualifiedName: Unity Catalog Function:http://host.docker.internal:8087:unity.default.sum\n",
      "   > name: sum\n",
      "   > description: Adds two numbers.\n",
      "   > resourceName: unity.default.sum\n",
      "   > deployedImplementationType: Unity Catalog Function\n",
      "Matching Element:\n",
      "   > VirtualRelationalTable [1426c8a6-5cf6-4cb7-8674-51e1dbcd85cf]\n",
      "   > qualifiedName: Unity Catalog Table:http://host.docker.internal:8087:unity.default.numbers\n",
      "   > name: numbers\n",
      "   > description: External table\n",
      "   > resourceName: unity.default.numbers\n",
      "   > deployedImplementationType: Unity Catalog Table\n",
      "\n",
      "Asset: \n",
      " > VirtualRelationalTable [1426c8a6-5cf6-4cb7-8674-51e1dbcd85cf]\n",
      " > class: AssetProperties\n",
      " > typeName: VirtualRelationalTable\n",
      " > qualifiedName: Unity Catalog Table:http://host.docker.internal:8087:unity.default.numbers\n",
      " > displayName: numbers\n",
      " > displayDescription: External table\n",
      " > name: numbers\n",
      " > resourceName: unity.default.numbers\n",
      " > resourceDescription: External table\n",
      " > deployedImplementationType: Unity Catalog Table\n",
      "Matching Element:\n",
      "   > TabularSchemaType [5f752731-7fbc-48f6-9d84-052e43ab1080]\n",
      "   > qualifiedName: Unity Catalog Table:http://host.docker.internal:8087:unity.default.numbers_rootSchemaType\n",
      "Matching Element:\n",
      "   > DataFolder [f2569e3f-2b26-415b-a656-4097fd502e3d]\n",
      "   > pathName: file:///home/unitycatalog/etc/data/external/unity/default/tables/numbers\n",
      "   > qualifiedName: Unity Catalog Table:http://host.docker.internal:8087:unity.default.numbers_storageLocation\n",
      "   > name: unity.default.numbers_storageLocation\n",
      "   > description: Location of files for table unity.default.numbers\n",
      "Matching Element:\n",
      "   > PropertyFacet [473769ed-e00c-45ef-ac70-8a35c4afcc66]\n",
      "   > schemaVersion: 1.0\n",
      "   > qualifiedName: Unity Catalog Table:http://host.docker.internal:8087:unity.default.numbers_propertyFacetFrom_Unity Catalog (UC)@1.0\n",
      "   > description: vendorProperties\n",
      "   > properties: {ucTableType=EXTERNAL, ucStorageLocation=file:///home/unitycatalog/etc/data/external/unity/default/tables/numbers}\n"
     ]
    }
   ],
   "source": [
    "\n",
    "search_results = egeria_cat.find_in_asset_domain(\"numbers\")\n",
    "\n",
    "print_search_results(search_results)\n",
    "       "
   ]
  },
  {
   "cell_type": "markdown",
   "id": "2dc2adf8-49bc-40a3-9b6e-e86858a0e432",
   "metadata": {},
   "source": [
    "----\n",
    "This shows that metadata can be copied from Unity Catalog into Egeria's metadata repository and represented using Open Metadata Types.  The next part of the demonstration show metadata flowing from Egeria to Unity Catalog.\n"
   ]
  },
  {
   "cell_type": "markdown",
   "id": "7843318d-6181-4ea2-b49e-61a6fd32e512",
   "metadata": {},
   "source": [
    "----\n",
    "\n",
    "# Provisioning Unity Catalog (UC) from Egeria\n",
    "\n",
    "Egeria has the ability to provision resources into Unity Catalog.  The desired resources are described in Egeria using Open Metadata Elements and linked to the representation of the server, catalog or schema where the new resource is to be created.  Once the description is in place, the appropriate Unity Catalog Integration Connector will create a matching definition in Unity Catalog.\n",
    "\n",
    "The sections below go through creating a catalog, then a schema within that catalog and then a volume within that schema.  Notice that the ordering is important.  The catalog must be created before it schemas etc.\n",
    "\n",
    "-----"
   ]
  },
  {
   "cell_type": "markdown",
   "id": "e845f3fb-d0b9-4826-9bab-af811b1a3159",
   "metadata": {},
   "source": [
    "----\n",
    "\n",
    "## Provision a new catalog into a Unity Catalog (UC) Server\n",
    "\n",
    "There is only one step to provision a new catalog into a Unity Catalog Server:\n",
    "\n",
    "-----"
   ]
  },
  {
   "cell_type": "code",
   "execution_count": 20,
   "id": "fd0709ad-e859-4505-955b-1aebaf3ae3dc",
   "metadata": {
    "execution": {
     "iopub.execute_input": "2025-01-28T21:30:50.874821Z",
     "iopub.status.busy": "2025-01-28T21:30:50.874664Z",
     "iopub.status.idle": "2025-01-28T21:30:50.977708Z",
     "shell.execute_reply": "2025-01-28T21:30:50.977371Z",
     "shell.execute_reply.started": "2025-01-28T21:30:50.874810Z"
    }
   },
   "outputs": [
    {
     "data": {
      "text/html": [
       "\n",
       "    <div class=\"mermaid\">\n",
       "        ---\n",
       "title: Process - Provision Unity Catalog Catalog [96671ff3-cfde-4509-bd70-003fce210286]\n",
       "---\n",
       "flowchart LR\n",
       "%%{init: {\"flowchart\": {\"htmlLabels\": false}} }%%\n",
       "\n",
       "97601109-25a8-485b-aeab-b1b772990d0d(\"`*GovernanceActionProcessStep*\n",
       "**Create the new element**`\")\n",
       "\n",
       "    </div>\n",
       "    <script type=\"text/javascript\">\n",
       "        if (window.mermaid) {\n",
       "    mermaid.initialize({startOnLoad: true});\n",
       "    mermaid.contentLoaded();\n",
       "    }\n",
       "    </script>\n",
       "    "
      ],
      "text/plain": [
       "<IPython.core.display.HTML object>"
      ]
     },
     "metadata": {},
     "output_type": "display_data"
    }
   ],
   "source": [
    "\n",
    "provisionCatalogName=\"Provision:UnityCatalogCatalog:GovernanceActionProcess\"\n",
    "\n",
    "process_guid = egeria_tech.get_element_guid_by_unique_name(provisionCatalogName)\n",
    "\n",
    "process_graph = egeria_tech.get_gov_action_process_graph(process_guid)\n",
    "print_governance_action_process_graph(process_graph)\n"
   ]
  },
  {
   "cell_type": "markdown",
   "id": "f18b35c0-454b-448d-8812-54b3b44fc526",
   "metadata": {},
   "source": [
    "----\n",
    "\n",
    "Fill in details about the new catalog that you want to create.\n",
    "\n",
    "----"
   ]
  },
  {
   "cell_type": "code",
   "execution_count": 22,
   "id": "ef546715-5f79-41de-874a-a3c806dd54fa",
   "metadata": {
    "execution": {
     "iopub.execute_input": "2025-01-28T21:31:07.650360Z",
     "iopub.status.busy": "2025-01-28T21:31:07.650179Z",
     "iopub.status.idle": "2025-01-28T21:31:07.652789Z",
     "shell.execute_reply": "2025-01-28T21:31:07.652418Z",
     "shell.execute_reply.started": "2025-01-28T21:31:07.650350Z"
    }
   },
   "outputs": [],
   "source": [
    "\n",
    "catalogName = \"new_catalog\"\n",
    "catalogDescription = \"My new catalog.\"\n"
   ]
  },
  {
   "cell_type": "markdown",
   "id": "41e8f654-8ed2-4424-b48f-fcae5d87768a",
   "metadata": {},
   "source": [
    "----\n",
    "\n",
    "Now run the governance process to create the catalog.\n",
    "\n",
    "----"
   ]
  },
  {
   "cell_type": "code",
   "execution_count": 23,
   "id": "1dcefaf1-8ecc-42cc-8260-316244be2f89",
   "metadata": {
    "execution": {
     "iopub.execute_input": "2025-01-28T21:31:11.821946Z",
     "iopub.status.busy": "2025-01-28T21:31:11.821799Z",
     "iopub.status.idle": "2025-01-28T21:31:12.053844Z",
     "shell.execute_reply": "2025-01-28T21:31:12.053477Z",
     "shell.execute_reply.started": "2025-01-28T21:31:11.821938Z"
    }
   },
   "outputs": [
    {
     "data": {
      "text/plain": [
       "'88a87432-5729-4e00-89fd-782bda3d26a6'"
      ]
     },
     "execution_count": 23,
     "metadata": {},
     "output_type": "execute_result"
    }
   ],
   "source": [
    "\n",
    "requestParameters = {\n",
    "    \"ucServerQualifiedName\" : serverQualifiedName,\n",
    "    \"serverNetworkAddress\" : serverNetworkAddress,\n",
    "    \"ucCatalogName\" : catalogName,\n",
    "    \"versionIdentifier\" : versionIdentifier,\n",
    "    \"description\" : catalogDescription\n",
    "}\n",
    "\n",
    "egeria_tech.initiate_gov_action_process(provisionCatalogName, None, None, None, requestParameters, None, None)\n"
   ]
  },
  {
   "cell_type": "markdown",
   "id": "49dcb940-b801-46b4-9a3e-5d646ae1c3a9",
   "metadata": {},
   "source": [
    "------\n",
    "\n",
    "The code below shows the catalog you now have defined.\n",
    "\n",
    "------"
   ]
  },
  {
   "cell_type": "code",
   "execution_count": 24,
   "id": "057d1bcb-a0e6-461d-b240-e450ac1fd947",
   "metadata": {
    "execution": {
     "iopub.execute_input": "2025-01-28T21:31:50.132478Z",
     "iopub.status.busy": "2025-01-28T21:31:50.132209Z",
     "iopub.status.idle": "2025-01-28T21:31:50.183290Z",
     "shell.execute_reply": "2025-01-28T21:31:50.182716Z",
     "shell.execute_reply.started": "2025-01-28T21:31:50.132462Z"
    }
   },
   "outputs": [
    {
     "name": "stdout",
     "output_type": "stream",
     "text": [
      "\n",
      "DataAccessManager [c08f96a2-e247-4e17-8014-f8e3619e5890]\n",
      " > qualifiedName: Unity Catalog Catalog:http://host.docker.internal:8087:new_catalog\n",
      " > name: new_catalog\n",
      " > description: My new catalog.\n",
      " > deployedImplementationType: Unity Catalog Catalog\n"
     ]
    }
   ],
   "source": [
    "\n",
    "catalog_qualified_name=\"Unity Catalog Catalog:\" + serverNetworkAddress + \":\" + catalogName\n",
    "\n",
    "element=egeria_tech.get_element_by_unique_name(catalog_qualified_name)\n",
    "\n",
    "print_element(\"\", element)\n"
   ]
  },
  {
   "cell_type": "markdown",
   "id": "438b8400-0fab-4f04-a10d-c96429394a13",
   "metadata": {},
   "source": [
    "----\n",
    "\n",
    "The next command lists the relationships to other elements that this catalog has:\n",
    "\n",
    "----"
   ]
  },
  {
   "cell_type": "code",
   "execution_count": 25,
   "id": "756ed7ca-8fc7-41ab-af43-f038472579e7",
   "metadata": {
    "execution": {
     "iopub.execute_input": "2025-01-28T21:31:55.660147Z",
     "iopub.status.busy": "2025-01-28T21:31:55.660010Z",
     "iopub.status.idle": "2025-01-28T21:31:55.757191Z",
     "shell.execute_reply": "2025-01-28T21:31:55.756688Z",
     "shell.execute_reply.started": "2025-01-28T21:31:55.660136Z"
    }
   },
   "outputs": [
    {
     "name": "stdout",
     "output_type": "stream",
     "text": [
      "c08f96a2-e247-4e17-8014-f8e3619e5890\n",
      "\n",
      "ExternalIdScope [25f0f1e3-4c66-4e2a-8a83-5b00e8911c05]\n",
      " > permittedSynchronization: FromThirdParty\n",
      "\n",
      "   ExternalId [1e78a65a-b44d-4733-8533-fc222157b383]\n",
      "    > keyPattern: Local Key\n",
      "    > externalInstanceLastUpdateTime: 1737827629629\n",
      "    > identifier: f97d089d-dc99-46ef-85cb-50a8e93b2cff\n",
      "    > externalInstanceVersion: 0\n",
      "    > externalInstanceCreationTime: 1737827629629\n",
      "    > qualifiedName: f97d089d-dc99-46ef-85cb-50a8e93b2cff:abd0aeb3-7ce0-426d-bcb8-723cb75d3276\n",
      "    > externalInstanceTypeName: schema\n",
      "\n",
      "ExternalIdScope [96373b60-f305-4703-b3e3-6cdc27fdb0b8]\n",
      " > permittedSynchronization: FromThirdParty\n",
      "\n",
      "   ExternalId [df4a363e-0ddf-4cfd-91c3-86a9885464e8]\n",
      "    > keyPattern: Local Key\n",
      "    > externalInstanceLastUpdateTime: 1737827583740\n",
      "    > identifier: d694cfa0-dbaf-4059-8e04-2b8ba5da96fe\n",
      "    > externalInstanceVersion: 0\n",
      "    > externalInstanceCreationTime: 1737827583740\n",
      "    > qualifiedName: d694cfa0-dbaf-4059-8e04-2b8ba5da96fe:0d4e6237-89ca-4f5e-8787-7a66534fa776\n",
      "    > externalInstanceTypeName: catalog\n",
      "\n",
      "ExternalIdLink [e1ea9623-4ffb-4753-8ede-8c0a3fb829bf]\n",
      " > mappingProperties: {ucCatalogName=new_catalog, serverNetworkAddress=http://host.docker.internal:8087}\n",
      " > lastSynchronized: 1738099726704\n",
      " > source: Unity Catalog Catalog\n",
      "\n",
      "   ExternalId [df4a363e-0ddf-4cfd-91c3-86a9885464e8]\n",
      "    > keyPattern: Local Key\n",
      "    > externalInstanceLastUpdateTime: 1737827583740\n",
      "    > identifier: d694cfa0-dbaf-4059-8e04-2b8ba5da96fe\n",
      "    > externalInstanceVersion: 0\n",
      "    > externalInstanceCreationTime: 1737827583740\n",
      "    > qualifiedName: d694cfa0-dbaf-4059-8e04-2b8ba5da96fe:0d4e6237-89ca-4f5e-8787-7a66534fa776\n",
      "    > externalInstanceTypeName: catalog\n",
      "\n",
      "SupportedSoftwareCapability [8e9aa5a4-eb97-4b00-82c3-9d013f355b59]\n",
      " > operationalStatus: Enabled\n",
      "\n",
      "   SoftwareServer [e56068c3-cc6d-4f57-9d6a-1f493465a904]\n",
      "    > versionIdentifier: v0.3.0-SNAPSHOT\n",
      "    > qualifiedName: Unity Catalog Server:Unity Catalog 1\n",
      "    > name: Unity Catalog 1\n",
      "    > description: Local instance of the Unity Catalog (UC) Server.\n",
      "    > resourceName: Unity Catalog 1\n",
      "    > deployedImplementationType: Unity Catalog Server\n",
      "\n",
      "ServerAssetUse [a21cdbfc-7bbe-4b20-8501-8273f380594c]\n",
      " > useType: Owns\n",
      "\n",
      "   DeployedDatabaseSchema [990dbfc3-e015-47c8-8fef-503f3ac1382f]\n",
      "    > qualifiedName: Unity Catalog Schema:http://host.docker.internal:8087:new_catalog.new_schema\n",
      "    > name: new_schema\n",
      "    > description: My new schema.\n",
      "    > resourceName: new_catalog.new_schema\n",
      "    > deployedImplementationType: Unity Catalog Schema\n",
      "\n",
      "ReferenceableFacet [c00f3ae9-8327-4f2c-8757-4983b4dfdcef]\n",
      " > source: Unity Catalog (UC)\n",
      "\n",
      "   PropertyFacet [bda94ae0-cf8d-40d0-ac89-3b88f6830215]\n",
      "    > schemaVersion: 1.0\n",
      "    > qualifiedName: Unity Catalog Catalog:http://host.docker.internal:8087:new_catalog_propertyFacet\n",
      "    > description: vendorProperties\n",
      "    > properties: {ucBrowseOnly=false}\n",
      "\n",
      "SourcedFrom [49585bd9-b517-4e30-939c-a821c7e100cb]\n",
      " > sourceVersionNumber: 1737731023412\n",
      "\n",
      "   DataAccessManager [5ee006aa-a6d6-411b-9b8d-5f720c079cae]\n",
      "    > qualifiedName: Unity Catalog Catalog:{{serverNetworkAddress}}:{{ucCatalogName}}\n",
      "    > name: {{ucCatalogName}}\n",
      "    > description: {{description}}\n",
      "    > capabilityVersion: {{versionIdentifier}}\n",
      "    > deployedImplementationType: Unity Catalog Catalog\n"
     ]
    }
   ],
   "source": [
    "\n",
    "catalog_guid=egeria_tech.get_element_guid_by_unique_name(catalog_qualified_name)\n",
    "print(catalog_guid)\n",
    "\n",
    "related_elements = egeria_tech.get_related_elements(catalog_guid)\n",
    "\n",
    "print_related_elements(\"\", related_elements)\n"
   ]
  },
  {
   "cell_type": "markdown",
   "id": "bf2e9f37-1375-471d-a8ec-12b450a793f2",
   "metadata": {},
   "source": [
    "----\n",
    "\n",
    "## Provision a new schema into a Unity Catalog (UC) Catalog\n",
    "\n",
    "This is the process to provision a new schema into a Unity Catalog Catalog:\n",
    "\n",
    "-----"
   ]
  },
  {
   "cell_type": "code",
   "execution_count": 26,
   "id": "d65a2612-34a1-4c40-8b08-e2e7b5460ab9",
   "metadata": {
    "execution": {
     "iopub.execute_input": "2025-01-28T21:31:58.574925Z",
     "iopub.status.busy": "2025-01-28T21:31:58.574738Z",
     "iopub.status.idle": "2025-01-28T21:31:58.670192Z",
     "shell.execute_reply": "2025-01-28T21:31:58.669886Z",
     "shell.execute_reply.started": "2025-01-28T21:31:58.574913Z"
    }
   },
   "outputs": [
    {
     "data": {
      "text/html": [
       "\n",
       "    <div class=\"mermaid\">\n",
       "        ---\n",
       "title: Process - Provision Unity Catalog Schema [b5cccd1b-34ff-4069-b4c5-031f4f7d77e1]\n",
       "---\n",
       "flowchart LR\n",
       "%%{init: {\"flowchart\": {\"htmlLabels\": false}} }%%\n",
       "\n",
       "bfa4802c-6fdd-4a3a-acfa-3e01cca453b6(\"`*GovernanceActionProcessStep*\n",
       "**Create the new element**`\")\n",
       "\n",
       "    </div>\n",
       "    <script type=\"text/javascript\">\n",
       "        if (window.mermaid) {\n",
       "    mermaid.initialize({startOnLoad: true});\n",
       "    mermaid.contentLoaded();\n",
       "    }\n",
       "    </script>\n",
       "    "
      ],
      "text/plain": [
       "<IPython.core.display.HTML object>"
      ]
     },
     "metadata": {},
     "output_type": "display_data"
    }
   ],
   "source": [
    "\n",
    "provisionSchemaName=\"Provision:UnityCatalogSchema:GovernanceActionProcess\"\n",
    "\n",
    "process_guid = egeria_tech.get_element_guid_by_unique_name(provisionSchemaName)\n",
    "\n",
    "process_graph = egeria_tech.get_gov_action_process_graph(process_guid)\n",
    "print_governance_action_process_graph(process_graph)\n"
   ]
  },
  {
   "cell_type": "markdown",
   "id": "87b0aaca-7d9e-40a6-963d-6a6f3b9486ba",
   "metadata": {},
   "source": [
    "----\n",
    "\n",
    "Fill in details about the new schema that you want to create.\n",
    "\n",
    "----"
   ]
  },
  {
   "cell_type": "code",
   "execution_count": 27,
   "id": "d49cee8c-0c50-44c8-8e3d-96468068329c",
   "metadata": {
    "execution": {
     "iopub.execute_input": "2025-01-28T21:32:04.681867Z",
     "iopub.status.busy": "2025-01-28T21:32:04.681522Z",
     "iopub.status.idle": "2025-01-28T21:32:04.687480Z",
     "shell.execute_reply": "2025-01-28T21:32:04.686725Z",
     "shell.execute_reply.started": "2025-01-28T21:32:04.681843Z"
    }
   },
   "outputs": [],
   "source": [
    "\n",
    "schemaName = \"new_schema\"\n",
    "schemaDescription = \"My new schema.\"\n"
   ]
  },
  {
   "cell_type": "markdown",
   "id": "8c04bc3e-b4bc-4715-9b9e-90cde1353217",
   "metadata": {},
   "source": [
    "----\n",
    "\n",
    "Now run the governance process to create the schema.\n",
    "\n",
    "----"
   ]
  },
  {
   "cell_type": "code",
   "execution_count": 28,
   "id": "560109e8-c38c-4e7e-adc5-88b4bb9ca758",
   "metadata": {
    "execution": {
     "iopub.execute_input": "2025-01-28T21:32:06.718515Z",
     "iopub.status.busy": "2025-01-28T21:32:06.718363Z",
     "iopub.status.idle": "2025-01-28T21:32:06.948163Z",
     "shell.execute_reply": "2025-01-28T21:32:06.947838Z",
     "shell.execute_reply.started": "2025-01-28T21:32:06.718506Z"
    }
   },
   "outputs": [
    {
     "data": {
      "text/plain": [
       "'8dba48d1-b96e-4e67-8522-3daf14dbf20a'"
      ]
     },
     "execution_count": 28,
     "metadata": {},
     "output_type": "execute_result"
    }
   ],
   "source": [
    "\n",
    "requestParameters = {\n",
    "    \"serverNetworkAddress\" : serverNetworkAddress,\n",
    "    \"ucCatalogName\" : catalogName,\n",
    "    \"ucSchemaName\" : schemaName,\n",
    "    \"versionIdentifier\" : versionIdentifier,\n",
    "    \"description\" : schemaDescription\n",
    "}\n",
    "\n",
    "egeria_tech.initiate_gov_action_process(provisionSchemaName, None, None, None, requestParameters, None, None)\n"
   ]
  },
  {
   "cell_type": "markdown",
   "id": "83c6e6e8-2ef8-41d5-ae3d-97552815b3b9",
   "metadata": {},
   "source": [
    "------\n",
    "\n",
    "The code below shows the schema you now have defined.\n",
    "\n",
    "------"
   ]
  },
  {
   "cell_type": "code",
   "execution_count": 29,
   "id": "4cdfc337-225d-485e-9ffe-c12713e62447",
   "metadata": {
    "execution": {
     "iopub.execute_input": "2025-01-28T21:32:49.367004Z",
     "iopub.status.busy": "2025-01-28T21:32:49.366827Z",
     "iopub.status.idle": "2025-01-28T21:32:49.406209Z",
     "shell.execute_reply": "2025-01-28T21:32:49.405891Z",
     "shell.execute_reply.started": "2025-01-28T21:32:49.366992Z"
    }
   },
   "outputs": [
    {
     "name": "stdout",
     "output_type": "stream",
     "text": [
      "\n",
      "DeployedDatabaseSchema [990dbfc3-e015-47c8-8fef-503f3ac1382f]\n",
      " > qualifiedName: Unity Catalog Schema:http://host.docker.internal:8087:new_catalog.new_schema\n",
      " > name: new_schema\n",
      " > description: My new schema.\n",
      " > resourceName: new_catalog.new_schema\n",
      " > deployedImplementationType: Unity Catalog Schema\n"
     ]
    }
   ],
   "source": [
    "\n",
    "schema_qualified_name=\"Unity Catalog Schema:\" + serverNetworkAddress + \":\" + catalogName + \".\" + schemaName\n",
    "\n",
    "element=egeria_tech.get_element_by_unique_name(schema_qualified_name)\n",
    "\n",
    "print_element(\"\", element)\n"
   ]
  },
  {
   "cell_type": "markdown",
   "id": "c398ae6e-07b9-4cde-a4c8-d07fde1f61d1",
   "metadata": {},
   "source": [
    "----\n",
    "\n",
    "And the elements related to it ...\n",
    "\n",
    "____"
   ]
  },
  {
   "cell_type": "code",
   "execution_count": 30,
   "id": "f34ad4f1-e22d-4b90-8a61-ee31f92bde1b",
   "metadata": {
    "execution": {
     "iopub.execute_input": "2025-01-28T21:32:56.084255Z",
     "iopub.status.busy": "2025-01-28T21:32:56.084122Z",
     "iopub.status.idle": "2025-01-28T21:32:56.175410Z",
     "shell.execute_reply": "2025-01-28T21:32:56.174841Z",
     "shell.execute_reply.started": "2025-01-28T21:32:56.084246Z"
    }
   },
   "outputs": [
    {
     "name": "stdout",
     "output_type": "stream",
     "text": [
      "990dbfc3-e015-47c8-8fef-503f3ac1382f\n",
      "\n",
      "ExternalIdLink [7a771536-8461-46de-be0d-6933203de23f]\n",
      " > mappingProperties: {ucCatalogName=new_catalog, ucSchemaName=new_schema, serverNetworkAddress=http://host.docker.internal:8087, schemaName=new_schema}\n",
      " > lastSynchronized: 1738099739073\n",
      " > source: Unity Catalog Catalog\n",
      "\n",
      "   ExternalId [1e78a65a-b44d-4733-8533-fc222157b383]\n",
      "    > keyPattern: Local Key\n",
      "    > externalInstanceLastUpdateTime: 1737827629629\n",
      "    > identifier: f97d089d-dc99-46ef-85cb-50a8e93b2cff\n",
      "    > externalInstanceVersion: 0\n",
      "    > externalInstanceCreationTime: 1737827629629\n",
      "    > qualifiedName: f97d089d-dc99-46ef-85cb-50a8e93b2cff:abd0aeb3-7ce0-426d-bcb8-723cb75d3276\n",
      "    > externalInstanceTypeName: schema\n",
      "\n",
      "ServerAssetUse [a21cdbfc-7bbe-4b20-8501-8273f380594c]\n",
      " > useType: Owns\n",
      "\n",
      "   DataAccessManager [c08f96a2-e247-4e17-8014-f8e3619e5890]\n",
      "    > qualifiedName: Unity Catalog Catalog:http://host.docker.internal:8087:new_catalog\n",
      "    > name: new_catalog\n",
      "    > description: My new catalog.\n",
      "    > deployedImplementationType: Unity Catalog Catalog\n",
      "\n",
      "ReferenceableFacet [2c90d23d-8555-4cbb-be02-c9602d8c05f0]\n",
      " > source: Unity Catalog (UC)\n",
      "\n",
      "   PropertyFacet [817be56e-ba75-487b-b2ae-bf9ef24394c1]\n",
      "    > schemaVersion: 1.0\n",
      "    > qualifiedName: Unity Catalog Schema:http://host.docker.internal:8087:new_catalog.new_schema_propertyFacet\n",
      "    > description: vendorProperties\n",
      "    > properties: {ucBrowseOnly=false}\n",
      "\n",
      "SourcedFrom [6c43039d-2ab5-42b2-a3eb-7d1169df4732]\n",
      " > sourceVersionNumber: 1737731023412\n",
      "\n",
      "   DeployedDatabaseSchema [5bf92b0f-3970-41ea-b0a3-aacfbf6fd92e]\n",
      "    > versionIdentifier: {{versionIdentifier}}\n",
      "    > qualifiedName: Unity Catalog Schema:{{serverNetworkAddress}}:{{ucCatalogName}}.{{ucSchemaName}}\n",
      "    > name: {{ucSchemaName}}\n",
      "    > description: {{description}}\n",
      "    > resourceName: {{ucCatalogName}}.{{ucSchemaName}}\n",
      "    > deployedImplementationType: Unity Catalog Schema\n"
     ]
    }
   ],
   "source": [
    "\n",
    "schema_guid=egeria_tech.get_element_guid_by_unique_name(schema_qualified_name)\n",
    "print(schema_guid)\n",
    "\n",
    "related_elements = egeria_tech.get_related_elements(schema_guid)\n",
    "\n",
    "print_related_elements(\"\", related_elements)\n"
   ]
  },
  {
   "cell_type": "markdown",
   "id": "91962afa-0472-44b2-9824-b90c0727c768",
   "metadata": {},
   "source": [
    "----\n",
    "\n",
    "## Provision a new volume into a Unity Catalog (UC) Schema\n",
    "\n",
    "This is the process to provision a new volume into a Unity Catalog Schema:\n",
    "\n",
    "-----"
   ]
  },
  {
   "cell_type": "code",
   "execution_count": 31,
   "id": "8cea671c-5246-4a88-9549-a6b7c07cfa4b",
   "metadata": {
    "execution": {
     "iopub.execute_input": "2025-01-28T21:33:01.824906Z",
     "iopub.status.busy": "2025-01-28T21:33:01.824754Z",
     "iopub.status.idle": "2025-01-28T21:33:01.937495Z",
     "shell.execute_reply": "2025-01-28T21:33:01.937101Z",
     "shell.execute_reply.started": "2025-01-28T21:33:01.824892Z"
    }
   },
   "outputs": [
    {
     "data": {
      "text/html": [
       "\n",
       "    <div class=\"mermaid\">\n",
       "        ---\n",
       "title: Process - Provision Unity Catalog Volume [ed8cf149-e71a-46a1-9871-20448bc988eb]\n",
       "---\n",
       "flowchart LR\n",
       "%%{init: {\"flowchart\": {\"htmlLabels\": false}} }%%\n",
       "\n",
       "3b2d5432-57e7-4daa-9c34-cb8d3297bbb7(\"`*GovernanceActionProcessStep*\n",
       "**Create the new element**`\")\n",
       "\n",
       "    </div>\n",
       "    <script type=\"text/javascript\">\n",
       "        if (window.mermaid) {\n",
       "    mermaid.initialize({startOnLoad: true});\n",
       "    mermaid.contentLoaded();\n",
       "    }\n",
       "    </script>\n",
       "    "
      ],
      "text/plain": [
       "<IPython.core.display.HTML object>"
      ]
     },
     "metadata": {},
     "output_type": "display_data"
    }
   ],
   "source": [
    "\n",
    "provisionVolumeName=\"Provision:UnityCatalogVolume:GovernanceActionProcess\"\n",
    "\n",
    "process_guid = egeria_tech.get_element_guid_by_unique_name(provisionVolumeName)\n",
    "\n",
    "process_graph = egeria_tech.get_gov_action_process_graph(process_guid)\n",
    "print_governance_action_process_graph(process_graph)\n"
   ]
  },
  {
   "cell_type": "markdown",
   "id": "f0dcabd0-a15f-493a-85f9-1f5f73631f5f",
   "metadata": {},
   "source": [
    "----\n",
    "\n",
    "Fill in details about the new volume that you want to create.\n",
    "\n",
    "----"
   ]
  },
  {
   "cell_type": "code",
   "execution_count": 32,
   "id": "4616a7d2-e61f-4890-b807-d5570ca43104",
   "metadata": {
    "execution": {
     "iopub.execute_input": "2025-01-28T21:33:04.434137Z",
     "iopub.status.busy": "2025-01-28T21:33:04.433282Z",
     "iopub.status.idle": "2025-01-28T21:33:04.440583Z",
     "shell.execute_reply": "2025-01-28T21:33:04.439860Z",
     "shell.execute_reply.started": "2025-01-28T21:33:04.434088Z"
    }
   },
   "outputs": [],
   "source": [
    "\n",
    "volumeName = \"new_volume\"\n",
    "volumeDescription = \"My new volume.\"\n",
    "storageLocation = \"data/new_volume\"\n",
    "volumeType = \"EXTERNAL\"\n"
   ]
  },
  {
   "cell_type": "markdown",
   "id": "b5beff2b-b3a8-453a-ba9c-7531ad5f69e4",
   "metadata": {},
   "source": [
    "----\n",
    "\n",
    "Now run the governance process to create the volume.\n",
    "\n",
    "----"
   ]
  },
  {
   "cell_type": "code",
   "execution_count": 33,
   "id": "012fd16b-f4f2-425b-8cb1-a44017cf8f71",
   "metadata": {
    "execution": {
     "iopub.execute_input": "2025-01-28T21:33:06.601922Z",
     "iopub.status.busy": "2025-01-28T21:33:06.601771Z",
     "iopub.status.idle": "2025-01-28T21:33:06.811297Z",
     "shell.execute_reply": "2025-01-28T21:33:06.810965Z",
     "shell.execute_reply.started": "2025-01-28T21:33:06.601911Z"
    }
   },
   "outputs": [
    {
     "data": {
      "text/plain": [
       "'0494ab54-5481-4dc7-9551-23aaa6b2f1bb'"
      ]
     },
     "execution_count": 33,
     "metadata": {},
     "output_type": "execute_result"
    }
   ],
   "source": [
    "\n",
    "requestParameters = {\n",
    "    \"serverNetworkAddress\" : serverNetworkAddress,\n",
    "    \"ucCatalogName\" : catalogName,\n",
    "    \"ucSchemaName\" : schemaName,\n",
    "    \"ucVolumeName\" : volumeName,\n",
    "    \"versionIdentifier\" : versionIdentifier,\n",
    "    \"ucStorageLocation\" : storageLocation,\n",
    "    \"description\" : volumeDescription,\n",
    "    \"ucVolumeType\" : volumeType\n",
    "}\n",
    "\n",
    "egeria_tech.initiate_gov_action_process(provisionVolumeName, None, None, None, requestParameters, None, None)\n"
   ]
  },
  {
   "cell_type": "markdown",
   "id": "2677e095-0724-448b-b5ef-52d1dc39b7b4",
   "metadata": {},
   "source": [
    "------\n",
    "\n",
    "The code below shows the volume you now have defined.\n",
    "\n",
    "------"
   ]
  },
  {
   "cell_type": "code",
   "execution_count": 36,
   "id": "0af42a12-745c-474f-8174-5136336f0c54",
   "metadata": {
    "execution": {
     "iopub.execute_input": "2025-01-28T21:38:53.966556Z",
     "iopub.status.busy": "2025-01-28T21:38:53.966401Z",
     "iopub.status.idle": "2025-01-28T21:38:54.008762Z",
     "shell.execute_reply": "2025-01-28T21:38:54.008372Z",
     "shell.execute_reply.started": "2025-01-28T21:38:53.966548Z"
    }
   },
   "outputs": [
    {
     "name": "stdout",
     "output_type": "stream",
     "text": [
      "\n",
      "DataFolder [61708091-fe45-42c2-975d-edbef4626df9]\n",
      " > pathName: data/new_volume\n",
      " > versionIdentifier: v0.3.0-SNAPSHOT\n",
      " > qualifiedName: Unity Catalog Volume:http://host.docker.internal:8087:new_catalog.new_schema.new_volume\n",
      " > name: new_volume\n",
      " > description: My new volume.\n",
      " > resourceName: new_catalog.new_schema.new_volume\n",
      " > deployedImplementationType: Unity Catalog Volume\n"
     ]
    }
   ],
   "source": [
    "\n",
    "volume_qualified_name=\"Unity Catalog Volume:\" + serverNetworkAddress + \":\" + catalogName + \".\" + schemaName + \".\" + volumeName\n",
    "\n",
    "element=egeria_tech.get_element_by_unique_name(volume_qualified_name)\n",
    "\n",
    "print_element(\"\", element)\n"
   ]
  },
  {
   "cell_type": "markdown",
   "id": "bc2cae30-cafd-478f-8746-2a49390fc128",
   "metadata": {},
   "source": [
    "----\n",
    "\n",
    "And the elements related to this schema ...\n",
    "\n",
    "----"
   ]
  },
  {
   "cell_type": "code",
   "execution_count": 37,
   "id": "9e1581d4-9953-48a9-8dd8-5e39d275a5aa",
   "metadata": {
    "execution": {
     "iopub.execute_input": "2025-01-28T21:39:42.640282Z",
     "iopub.status.busy": "2025-01-28T21:39:42.640055Z",
     "iopub.status.idle": "2025-01-28T21:39:42.760976Z",
     "shell.execute_reply": "2025-01-28T21:39:42.760571Z",
     "shell.execute_reply.started": "2025-01-28T21:39:42.640266Z"
    }
   },
   "outputs": [
    {
     "name": "stdout",
     "output_type": "stream",
     "text": [
      "61708091-fe45-42c2-975d-edbef4626df9\n",
      "\n",
      "ExternalIdLink [ee422263-70e0-4c47-bcea-f1bea4b27866]\n",
      " > mappingProperties: {ucCatalogName=new_catalog, ucVolumeName=new_volume, ucSchemaName=new_schema, serverNetworkAddress=http://host.docker.internal:8087}\n",
      " > lastSynchronized: 1738099993127\n",
      " > source: Unity Catalog Catalog\n",
      "\n",
      "   ExternalId [4645d2cc-2a05-452a-abaa-20a6712a04d3]\n",
      "    > keyPattern: Local Key\n",
      "    > externalInstanceLastUpdateTime: 1738099993050\n",
      "    > identifier: 986e5246-6cb7-4171-a5d9-79b3e10b1d2b\n",
      "    > externalInstanceVersion: 0\n",
      "    > externalInstanceCreationTime: 1738099993050\n",
      "    > qualifiedName: 986e5246-6cb7-4171-a5d9-79b3e10b1d2b:10de4ed6-4653-497f-bc08-b47cb8eeb6a0\n",
      "    > externalInstanceTypeName: volume\n",
      "\n",
      "ReferenceableFacet [0e05bc97-32e9-419b-83e8-37a676632877]\n",
      " > source: Unity Catalog (UC)\n",
      "\n",
      "   PropertyFacet [7322b3cb-1e8a-476e-b011-09e7274bcc47]\n",
      "    > schemaVersion: 1.0\n",
      "    > qualifiedName: Unity Catalog Volume:http://host.docker.internal:8087:new_catalog.new_schema.new_volume_propertyFacetFrom_Unity Catalog (UC)@1.0\n",
      "    > description: vendorProperties\n",
      "    > properties: {ucStorageLocation=data/new_volume, ucVolumeType=EXTERNAL}\n",
      "\n",
      "DataContentForDataSet [c9b3a373-d57b-4a2b-bb9e-51bbf318c507]\n",
      "\n",
      "   DeployedDatabaseSchema [990dbfc3-e015-47c8-8fef-503f3ac1382f]\n",
      "    > qualifiedName: Unity Catalog Schema:http://host.docker.internal:8087:new_catalog.new_schema\n",
      "    > name: new_schema\n",
      "    > description: My new schema.\n",
      "    > resourceName: new_catalog.new_schema\n",
      "    > deployedImplementationType: Unity Catalog Schema\n",
      "\n",
      "SourcedFrom [600a33bf-017f-4309-9867-f80a4e65988b]\n",
      " > sourceVersionNumber: 1737731023412\n",
      "\n",
      "   DataFolder [92d2d2dc-0798-41f0-9512-b10548d312b7]\n",
      "    > pathName: {{ucStorageLocation}}\n",
      "    > versionIdentifier: {{versionIdentifier}}\n",
      "    > qualifiedName: Unity Catalog Volume:{{serverNetworkAddress}}:{{ucCatalogName}}.{{ucSchemaName}}.{{ucVolumeName}}\n",
      "    > name: {{ucVolumeName}}\n",
      "    > description: {{description}}\n",
      "    > resourceName: {{ucCatalogName}}.{{ucSchemaName}}.{{ucVolumeName}}\n",
      "    > deployedImplementationType: Unity Catalog Volume\n",
      "\n",
      "ConnectionToAsset [0087a8b3-ba0a-46e9-9799-c9a3feb85b77]\n",
      "\n",
      "   Connection [1bc88114-459e-42be-a7de-f483298a4823]\n",
      "    > displayName: new_catalog.new_schema.new_volume connection\n",
      "    > qualifiedName: Unity Catalog Volume:http://host.docker.internal:8087:new_catalog.new_schema.new_volume:Connection\n",
      "\n",
      "FolderHierarchy [817cac24-8073-46de-9b4b-106e1db15ec1]\n",
      "\n",
      "   FileFolder [89f291b2-15c6-4ef7-95f4-da2a5b4b9ecb]\n",
      "    > pathName: /data\n",
      "    > qualifiedName: FileFolder:/data\n",
      "    > name: data\n",
      "    > resourceName: data\n",
      "    > deployedImplementationType: File System Directory\n"
     ]
    }
   ],
   "source": [
    "\n",
    "volume_guid=egeria_tech.get_element_guid_by_unique_name(volume_qualified_name)\n",
    "print(volume_guid)\n",
    "\n",
    "related_elements = egeria_tech.get_related_elements(volume_guid)\n",
    "\n",
    "print_related_elements(\"\", related_elements)\n"
   ]
  },
  {
   "cell_type": "markdown",
   "id": "96fa338f-191b-4fd0-b1fa-81417caf9163",
   "metadata": {},
   "source": [
    "----\n",
    "\n",
    "# Reviewing the integration\n",
    "\n",
    "As Egeria is exchanging messages with Unity Catalog, it is building a map of the identifiers from Unity Catalog and mapping them to the elements that have been created in the open metadata ecosystem.\n",
    "\n",
    "The functions below retrieve the mappings for each catalog within Unity Catalog (UC) serevers known to Egeria.\n",
    "\n",
    "-----"
   ]
  },
  {
   "cell_type": "code",
   "execution_count": 38,
   "id": "71ece98e-6dcb-4d5f-9025-3432645d2b2a",
   "metadata": {
    "execution": {
     "iopub.execute_input": "2025-01-28T21:39:44.876384Z",
     "iopub.status.busy": "2025-01-28T21:39:44.875718Z",
     "iopub.status.idle": "2025-01-28T21:39:45.633141Z",
     "shell.execute_reply": "2025-01-28T21:39:45.632611Z",
     "shell.execute_reply.started": "2025-01-28T21:39:44.876327Z"
    }
   },
   "outputs": [
    {
     "name": "stdout",
     "output_type": "stream",
     "text": [
      "\n",
      "----------------------------\n",
      "\n",
      "DataAccessManager [d7ce69ff-62d7-4209-9dc3-c9c9da583c8e]\n",
      " > class: ReferenceableProperties\n",
      " > typeName: DataAccessManager\n",
      " > name: unity\n",
      " > description: Main catalog\n",
      " > deployedImplementationType: Unity Catalog Catalog\n",
      " > qualifiedName: Unity Catalog Catalog:http://host.docker.internal:8087:unity\n",
      "\n",
      " > Permitted Synchronization: FromThirdParty\n",
      "\n",
      "      ExternalIdLink [328d2272-5583-4676-9ca7-c6d574a91ab4]\n",
      "       > lastSynchronized: 1738099730664\n",
      "       > mappingProperties: {ucCatalogName=unity, ucSchemaName=default, serverNetworkAddress=http://host.docker.internal:8087, schemaName=default}\n",
      "       > source: Unity Catalog Catalog\n",
      "\n",
      "         DeployedDatabaseSchema [83621335-f39d-4710-ab4c-bb9cc1f84b1d]\n",
      "          > qualifiedName: Unity Catalog Schema:http://host.docker.internal:8087:unity.default\n",
      "          > name: default\n",
      "          > description: Default schema\n",
      "          > resourceName: unity.default\n",
      "          > deployedImplementationType: Unity Catalog Schema\n",
      "\n",
      " > Permitted Synchronization: FromThirdParty\n",
      "\n",
      "      ExternalIdLink [3817203f-a3d3-4ce8-86ac-d45692aef394]\n",
      "       > lastSynchronized: 1738099737763\n",
      "       > mappingProperties: {ucCatalogName=unity, ucSchemaName=default, serverNetworkAddress=http://host.docker.internal:8087, ucFunctionName=lowercase}\n",
      "       > source: Unity Catalog Catalog\n",
      "\n",
      "         DeployedAPI [c206a44f-1b2e-424c-9657-f94d35bbdf36]\n",
      "          > qualifiedName: Unity Catalog Function:http://host.docker.internal:8087:unity.default.lowercase\n",
      "          > name: lowercase\n",
      "          > description: Converts a string to lowercase.\n",
      "          > resourceName: unity.default.lowercase\n",
      "          > deployedImplementationType: Unity Catalog Function\n",
      "\n",
      " > Permitted Synchronization: FromThirdParty\n",
      "\n",
      "      ExternalIdLink [63bfdaf9-bba7-410a-834f-e4c5e4237b45]\n",
      "       > lastSynchronized: 1738099736209\n",
      "       > mappingProperties: {ucCatalogName=unity, ucSchemaName=default, serverNetworkAddress=http://host.docker.internal:8087, ucTableName=marksheet_uniform}\n",
      "       > source: Unity Catalog Catalog\n",
      "\n",
      "         VirtualRelationalTable [9c55271a-be19-4d24-b46f-465573b58cac]\n",
      "          > qualifiedName: Unity Catalog Table:http://host.docker.internal:8087:unity.default.marksheet_uniform\n",
      "          > name: marksheet_uniform\n",
      "          > description: Uniform table\n",
      "          > resourceName: unity.default.marksheet_uniform\n",
      "          > deployedImplementationType: Unity Catalog Table\n",
      "\n",
      " > Permitted Synchronization: FromThirdParty\n",
      "\n",
      "      ExternalIdLink [cd0ed8bf-560b-4b51-b663-a8d1e8553645]\n",
      "       > lastSynchronized: 1738099738569\n",
      "       > mappingProperties: {ucCatalogName=unity, ucModelName=moo, ucSchemaName=test, serverNetworkAddress=http://host.docker.internal:8087}\n",
      "       > source: Unity Catalog Catalog\n",
      "\n",
      "         DeployedAnalyticsModel [ab73d80f-8ed7-463d-91b5-17cc84b723e3]\n",
      "          > qualifiedName: Unity Catalog Registered Model:http://host.docker.internal:8087:unity.test.moo\n",
      "          > name: moo\n",
      "          > resourceName: unity.test.moo\n",
      "          > deployedImplementationType: Unity Catalog Registered Model\n",
      "\n",
      " > Permitted Synchronization: FromThirdParty\n",
      "\n",
      "      ExternalIdLink [c8ec50d0-8afe-46c6-88df-868830b29bff]\n",
      "       > lastSynchronized: 1738099733550\n",
      "       > mappingProperties: {ucCatalogName=unity, ucVolumeName=json_files, ucSchemaName=default, serverNetworkAddress=http://host.docker.internal:8087}\n",
      "       > source: Unity Catalog Catalog\n",
      "\n",
      "         DataFolder [ea42e044-9073-466f-9cd8-2d19b8ef186a]\n",
      "          > pathName: /home/unitycatalog/etc/data/external/unity/default/volumes/json_files\n",
      "          > qualifiedName: Unity Catalog Volume:http://host.docker.internal:8087:unity.default.json_files\n",
      "          > name: json_files\n",
      "          > resourceName: unity.default.json_files\n",
      "          > deployedImplementationType: Unity Catalog Volume\n",
      "\n",
      " > Permitted Synchronization: FromThirdParty\n",
      "\n",
      "      ExternalIdLink [0b89f61b-fa67-4283-8712-82e4496a39bc]\n",
      "       > lastSynchronized: 1738099731031\n",
      "       > mappingProperties: {ucCatalogName=unity, ucSchemaName=test, serverNetworkAddress=http://host.docker.internal:8087, schemaName=test}\n",
      "       > source: Unity Catalog Catalog\n",
      "\n",
      "         DeployedDatabaseSchema [7272d544-19d1-40f8-a113-391e4b5672f3]\n",
      "          > qualifiedName: Unity Catalog Schema:http://host.docker.internal:8087:unity.test\n",
      "          > name: test\n",
      "          > resourceName: unity.test\n",
      "          > deployedImplementationType: Unity Catalog Schema\n",
      "\n",
      " > Permitted Synchronization: FromThirdParty\n",
      "\n",
      "      ExternalIdLink [389f77f2-594d-4020-b49d-9533d3e30337]\n",
      "       > lastSynchronized: 1738099727106\n",
      "       > mappingProperties: {ucCatalogName=unity, serverNetworkAddress=http://host.docker.internal:8087}\n",
      "       > source: Unity Catalog Catalog\n",
      "\n",
      "         DataAccessManager [d7ce69ff-62d7-4209-9dc3-c9c9da583c8e]\n",
      "          > qualifiedName: Unity Catalog Catalog:http://host.docker.internal:8087:unity\n",
      "          > name: unity\n",
      "          > description: Main catalog\n",
      "          > deployedImplementationType: Unity Catalog Catalog\n",
      "\n",
      " > Permitted Synchronization: FromThirdParty\n",
      "\n",
      "      ExternalIdLink [b8014e2f-f411-446c-bdbb-c51e735b726b]\n",
      "       > lastSynchronized: 1738099737224\n",
      "       > mappingProperties: {ucCatalogName=unity, ucSchemaName=default, serverNetworkAddress=http://host.docker.internal:8087, ucTableName=user_countries}\n",
      "       > source: Unity Catalog Catalog\n",
      "\n",
      "         VirtualRelationalTable [929de0ea-8682-4dd6-a9d0-94ea015f4232]\n",
      "          > qualifiedName: Unity Catalog Table:http://host.docker.internal:8087:unity.default.user_countries\n",
      "          > name: user_countries\n",
      "          > description: Partitioned table\n",
      "          > resourceName: unity.default.user_countries\n",
      "          > deployedImplementationType: Unity Catalog Table\n",
      "\n",
      " > Permitted Synchronization: FromThirdParty\n",
      "\n",
      "      ExternalIdLink [166113e5-5b6d-4a0e-9d5e-a15d0276ba26]\n",
      "       > lastSynchronized: 1738099735244\n",
      "       > mappingProperties: {ucCatalogName=unity, ucVolumeName=txt_files, ucSchemaName=default, serverNetworkAddress=http://host.docker.internal:8087}\n",
      "       > source: Unity Catalog Catalog\n",
      "\n",
      "         DataFolder [93bdbec7-0bc4-46ca-b210-2a72cfa56864]\n",
      "          > pathName: /home/unitycatalog/etc/data/managed/unity/default/volumes/txt_files/\n",
      "          > qualifiedName: Unity Catalog Volume:http://host.docker.internal:8087:unity.default.txt_files\n",
      "          > name: txt_files\n",
      "          > resourceName: unity.default.txt_files\n",
      "          > deployedImplementationType: Unity Catalog Volume\n",
      "\n",
      " > Permitted Synchronization: FromThirdParty\n",
      "\n",
      "      ExternalIdLink [66021dd8-04c9-4eb5-8699-a6be06031fd1]\n",
      "       > lastSynchronized: 1738099738171\n",
      "       > mappingProperties: {ucCatalogName=unity, ucSchemaName=default, serverNetworkAddress=http://host.docker.internal:8087, ucFunctionName=sum}\n",
      "       > source: Unity Catalog Catalog\n",
      "\n",
      "         DeployedAPI [f83148ea-a3c9-4738-b24c-903c4c110abc]\n",
      "          > qualifiedName: Unity Catalog Function:http://host.docker.internal:8087:unity.default.sum\n",
      "          > name: sum\n",
      "          > description: Adds two numbers.\n",
      "          > resourceName: unity.default.sum\n",
      "          > deployedImplementationType: Unity Catalog Function\n",
      "\n",
      " > Permitted Synchronization: FromThirdParty\n",
      "\n",
      "      ExternalIdLink [859b12ff-fe81-49c4-8561-ad77517c09d0]\n",
      "       > lastSynchronized: 1738099735739\n",
      "       > mappingProperties: {ucCatalogName=unity, ucSchemaName=default, serverNetworkAddress=http://host.docker.internal:8087, ucTableName=marksheet}\n",
      "       > source: Unity Catalog Catalog\n",
      "\n",
      "         VirtualRelationalTable [daf8bb5f-417f-4fa7-837e-0fed7d145de3]\n",
      "          > qualifiedName: Unity Catalog Table:http://host.docker.internal:8087:unity.default.marksheet\n",
      "          > name: marksheet\n",
      "          > description: Managed table\n",
      "          > resourceName: unity.default.marksheet\n",
      "          > deployedImplementationType: Unity Catalog Table\n",
      "\n",
      " > Permitted Synchronization: FromThirdParty\n",
      "\n",
      "      ExternalIdLink [99ad0d50-3b4a-4dec-a579-3c31376c2b28]\n",
      "       > lastSynchronized: 1738099736715\n",
      "       > mappingProperties: {ucCatalogName=unity, ucSchemaName=default, serverNetworkAddress=http://host.docker.internal:8087, ucTableName=numbers}\n",
      "       > source: Unity Catalog Catalog\n",
      "\n",
      "         VirtualRelationalTable [1426c8a6-5cf6-4cb7-8674-51e1dbcd85cf]\n",
      "          > qualifiedName: Unity Catalog Table:http://host.docker.internal:8087:unity.default.numbers\n",
      "          > name: numbers\n",
      "          > description: External table\n",
      "          > resourceName: unity.default.numbers\n",
      "          > deployedImplementationType: Unity Catalog Table\n",
      "\n",
      "----------------------------\n",
      "\n",
      "DataAccessManager [c08f96a2-e247-4e17-8014-f8e3619e5890]\n",
      " > class: ReferenceableProperties\n",
      " > typeName: DataAccessManager\n",
      " > name: new_catalog\n",
      " > description: My new catalog.\n",
      " > deployedImplementationType: Unity Catalog Catalog\n",
      " > qualifiedName: Unity Catalog Catalog:http://host.docker.internal:8087:new_catalog\n",
      "\n",
      " > Permitted Synchronization: FromThirdParty\n",
      "\n",
      "      ExternalIdLink [7a771536-8461-46de-be0d-6933203de23f]\n",
      "       > lastSynchronized: 1738099739073\n",
      "       > mappingProperties: {ucCatalogName=new_catalog, ucSchemaName=new_schema, serverNetworkAddress=http://host.docker.internal:8087, schemaName=new_schema}\n",
      "       > source: Unity Catalog Catalog\n",
      "\n",
      "         DeployedDatabaseSchema [990dbfc3-e015-47c8-8fef-503f3ac1382f]\n",
      "          > qualifiedName: Unity Catalog Schema:http://host.docker.internal:8087:new_catalog.new_schema\n",
      "          > name: new_schema\n",
      "          > description: My new schema.\n",
      "          > resourceName: new_catalog.new_schema\n",
      "          > deployedImplementationType: Unity Catalog Schema\n",
      "\n",
      " > Permitted Synchronization: ToThirdParty\n",
      "\n",
      "      ExternalIdLink [ee422263-70e0-4c47-bcea-f1bea4b27866]\n",
      "       > lastSynchronized: 1738099993127\n",
      "       > mappingProperties: {ucCatalogName=new_catalog, ucVolumeName=new_volume, ucSchemaName=new_schema, serverNetworkAddress=http://host.docker.internal:8087}\n",
      "       > source: Unity Catalog Catalog\n",
      "\n",
      "         DataFolder [61708091-fe45-42c2-975d-edbef4626df9]\n",
      "          > pathName: data/new_volume\n",
      "          > versionIdentifier: v0.3.0-SNAPSHOT\n",
      "          > qualifiedName: Unity Catalog Volume:http://host.docker.internal:8087:new_catalog.new_schema.new_volume\n",
      "          > name: new_volume\n",
      "          > description: My new volume.\n",
      "          > resourceName: new_catalog.new_schema.new_volume\n",
      "          > deployedImplementationType: Unity Catalog Volume\n",
      "\n",
      " > Permitted Synchronization: FromThirdParty\n",
      "\n",
      "      ExternalIdLink [e1ea9623-4ffb-4753-8ede-8c0a3fb829bf]\n",
      "       > lastSynchronized: 1738099726704\n",
      "       > mappingProperties: {ucCatalogName=new_catalog, serverNetworkAddress=http://host.docker.internal:8087}\n",
      "       > source: Unity Catalog Catalog\n",
      "\n",
      "         DataAccessManager [c08f96a2-e247-4e17-8014-f8e3619e5890]\n",
      "          > qualifiedName: Unity Catalog Catalog:http://host.docker.internal:8087:new_catalog\n",
      "          > name: new_catalog\n",
      "          > description: My new catalog.\n",
      "          > deployedImplementationType: Unity Catalog Catalog\n"
     ]
    }
   ],
   "source": [
    "\n",
    "unity_catalog_catalogs = egeria_tech.get_technology_type_elements(\"Unity Catalog Catalog\")\n",
    "\n",
    "if unity_catalog_catalogs:\n",
    "    for catalog in unity_catalog_catalogs:\n",
    "        print()\n",
    "        print(\"----------------------------\")\n",
    "        print_external_id_map(catalog)\n",
    "        "
   ]
  },
  {
   "cell_type": "markdown",
   "id": "1fd6c6a6-79bb-4da5-a4fd-01156dfc1488",
   "metadata": {},
   "source": [
    "----\n",
    "\n",
    "# Starting again ...\n",
    "\n",
    "If you made a mistake in the server details supplied for Unity Catalog, it is possible to remove the server definition using the delete process as follows.  Leave all of the settings unchanged and run this process.  Then you can go to the top, change the settings and re-run the survey and/or catalog processes are desired.\n",
    "\n",
    "-----"
   ]
  },
  {
   "cell_type": "code",
   "execution_count": null,
   "id": "224d9f95-46c0-4f85-b02b-1e91fec6c737",
   "metadata": {},
   "outputs": [],
   "source": [
    "deleteCatalogName=\"UnityCatalogServer:DeleteAssetWithTemplateGovernanceActionProcess\"\n",
    "\n",
    "process_guid = egeria_tech.get_element_guid_by_unique_name(deleteCatalogName)\n",
    "\n",
    "process_graph = egeria_tech.get_gov_action_process_graph(process_guid)\n",
    "print_governance_action_process_graph(process_graph)\n"
   ]
  },
  {
   "cell_type": "code",
   "execution_count": null,
   "id": "5ebf5013-a7d9-4c6e-8f3e-de2c85013211",
   "metadata": {},
   "outputs": [],
   "source": [
    "requestParameters = {\n",
    "    \"hostURL\" : hostURL,\n",
    "    \"portNumber\" : portNumber,\n",
    "    \"serverName\" : serverName,  \n",
    "    \"versionIdentifier\" : versionIdentifier,\n",
    "    \"description\" : description,\n",
    "    \"serverUserId\" : serverUserId\n",
    "}\n",
    "\n",
    "egeria_tech.initiate_gov_action_process(deleteCatalogName, None, None, None, requestParameters, None, None)"
   ]
  },
  {
   "cell_type": "markdown",
   "id": "ca1590b2-4a6f-444d-b7fe-d5be06c02e44",
   "metadata": {},
   "source": [
    "------"
   ]
  }
 ],
 "metadata": {
  "kernelspec": {
   "display_name": "Python 3 (ipykernel)",
   "language": "python",
   "name": "python3"
  },
  "language_info": {
   "codemirror_mode": {
    "name": "ipython",
    "version": 3
   },
   "file_extension": ".py",
   "mimetype": "text/x-python",
   "name": "python",
   "nbconvert_exporter": "python",
   "pygments_lexer": "ipython3",
   "version": "3.12.8"
  }
 },
 "nbformat": 4,
 "nbformat_minor": 5
}

{
 "cells": [
  {
   "cell_type": "code",
   "execution_count": 1,
   "id": "ffae858d-83f6-4156-acb6-2e80113253b4",
   "metadata": {},
   "outputs": [],
   "source": [
    "import asyncio\n",
    "import nest_asyncio\n",
    "nest_asyncio.apply()"
   ]
  },
  {
   "cell_type": "code",
   "execution_count": null,
   "id": "fada8b63-d100-4c6b-aba8-3b6692b8e9ee",
   "metadata": {},
   "outputs": [],
   "source": [
    "%run uc_catalog_viewer --url http://egeria.pdr-associates.com:8070"
   ]
  },
  {
   "cell_type": "code",
   "execution_count": 2,
   "id": "9809d799-2d9c-434f-a6fe-027c5a939e1c",
   "metadata": {},
   "outputs": [
    {
     "name": "stdout",
     "output_type": "stream",
     "text": [
      "                                                                               UC OSS Catalog @ Wed Oct 16 13:41:46 2024                                                                                \n",
      "╭────────────────────────┬────────────────────────┬─────────────────────────────────┬─────────────────────────────────┬──────────────────────────────────────────────────────────────┬─────────────────╮\n",
      "│ Catalog Name           │ Catalog Comment        │ Schema Name                     │ Schema Comment                  │ Vol/Tab                                                      │ Details         │\n",
      "├────────────────────────┼────────────────────────┼─────────────────────────────────┼─────────────────────────────────┼──────────────────────────────────────────────────────────────┼─────────────────┤\n",
      "│ unity                  │ Main catalog           │ default                         │ Default schema                  │ Functions                                                    │                 │\n",
      "│                        │                        │                                 │                                 │ * name: sum                                                  │                 │\n",
      "│                        │                        │                                 │                                 │         * comment: Adds two numbers.                         │                 │\n",
      "│                        │                        │                                 │                                 │         * function_id: 0188f6e0-006e-410c-9aa7-7ded9079469a  │                 │\n",
      "│                        │                        │                                 │                                 │         * function_type: INT                                 │                 │\n",
      "│                        │                        │                                 │                                 │         * sql_access: NO_SQL                                 │                 │\n",
      "│                        │                        │                                 │                                 │                                                              │                 │\n",
      "│                        │                        │                                 │                                 │ * name: lowercase                                            │                 │\n",
      "│                        │                        │                                 │                                 │         * comment: Converts a string to lowercase.           │                 │\n",
      "│                        │                        │                                 │                                 │         * function_id: c6c8524e-51d5-42ad-a2c7-969849dd3b79  │                 │\n",
      "│                        │                        │                                 │                                 │         * function_type: STRING                              │                 │\n",
      "│                        │                        │                                 │                                 │         * sql_access: NO_SQL                                 │                 │\n",
      "│                        │                        │                                 │                                 │                                                              │                 │\n",
      "├────────────────────────┼────────────────────────┼─────────────────────────────────┼─────────────────────────────────┼──────────────────────────────────────────────────────────────┼─────────────────┤\n",
      "│ unity                  │ Main catalog           │ default                         │ Default schema                  │ Volumes                                                      │                 │\n",
      "│                        │                        │                                 │                                 │                                                              │                 │\n",
      "│                        │                        │                                 │                                 │ * name: txt_files                                            │                 │\n",
      "│                        │                        │                                 │                                 │         * comment: None                                      │                 │\n",
      "│                        │                        │                                 │                                 │         * created_at: 1720433131455                          │                 │\n",
      "│                        │                        │                                 │                                 │         * updated_at: 1720433131455                          │                 │\n",
      "│                        │                        │                                 │                                 │         * volume_id: f4ca0bb0-26eb-425a-b564-ff4113363837    │                 │\n",
      "│                        │                        │                                 │                                 │         * volume_type: MANAGED                               │                 │\n",
      "│                        │                        │                                 │                                 │         * storage_location:                                  │                 │\n",
      "│                        │                        │                                 │                                 │ file:///Users/amandachessell/Code/uc/unitycatalog/etc/data/… │                 │\n",
      "│                        │                        │                                 │                                 │                                                              │                 │\n",
      "│                        │                        │                                 │                                 │ * name: json_files                                           │                 │\n",
      "│                        │                        │                                 │                                 │         * comment: None                                      │                 │\n",
      "│                        │                        │                                 │                                 │         * created_at: 1720433131455                          │                 │\n",
      "│                        │                        │                                 │                                 │         * updated_at: 1720433131455                          │                 │\n",
      "│                        │                        │                                 │                                 │         * volume_id: 003b2b4c-5289-4437-a995-fd9cbd66efdb    │                 │\n",
      "│                        │                        │                                 │                                 │         * volume_type: EXTERNAL                              │                 │\n",
      "│                        │                        │                                 │                                 │         * storage_location:                                  │                 │\n",
      "│                        │                        │                                 │                                 │ file:///Users/amandachessell/Code/uc/unitycatalog/etc/data/… │                 │\n",
      "│                        │                        │                                 │                                 │                                                              │                 │\n",
      "│                        │                        │                                 │                                 │ * name: my_new_volume                                        │                 │\n",
      "│                        │                        │                                 │                                 │         * comment: Volume from Egeria.                       │                 │\n",
      "│                        │                        │                                 │                                 │         * created_at: 1728587901963                          │                 │\n",
      "│                        │                        │                                 │                                 │         * updated_at: 1728587901963                          │                 │\n",
      "│                        │                        │                                 │                                 │         * volume_id: 0658a6c2-c719-4b88-968f-be185ba89c19    │                 │\n",
      "│                        │                        │                                 │                                 │         * volume_type: EXTERNAL                              │                 │\n",
      "│                        │                        │                                 │                                 │         * storage_location:                                  │                 │\n",
      "│                        │                        │                                 │                                 │ file:///Users/amandachessell/Code/uc/unitycatalog/data/my_v… │                 │\n",
      "│                        │                        │                                 │                                 │                                                              │                 │\n",
      "│                        │                        │                                 │                                 │ * name: my_new_volume2                                       │                 │\n",
      "│                        │                        │                                 │                                 │         * comment: Volume from Egeria.                       │                 │\n",
      "│                        │                        │                                 │                                 │         * created_at: 1728588673178                          │                 │\n",
      "│                        │                        │                                 │                                 │         * updated_at: 1728588673178                          │                 │\n",
      "│                        │                        │                                 │                                 │         * volume_id: 42ece607-a552-41ea-a3d5-c5104a46ca2a    │                 │\n",
      "│                        │                        │                                 │                                 │         * volume_type: EXTERNAL                              │                 │\n",
      "│                        │                        │                                 │                                 │         * storage_location:                                  │                 │\n",
      "│                        │                        │                                 │                                 │ file:///Users/amandachessell/Code/uc/unitycatalog/data/my_v… │                 │\n",
      "│                        │                        │                                 │                                 │                                                              │                 │\n",
      "├────────────────────────┼────────────────────────┼─────────────────────────────────┼─────────────────────────────────┼──────────────────────────────────────────────────────────────┼─────────────────┤\n",
      "│ unity                  │ Main catalog           │ clinical_trial_drop_foot        │ Example clinical trial used for │ Tables                                                       │                 │\n",
      "│                        │                        │                                 │ education and testing of        │                                                              │                 │\n",
      "│                        │                        │                                 │ governance procedures.          │                                                              │                 │\n",
      "├────────────────────────┼────────────────────────┼─────────────────────────────────┼─────────────────────────────────┼──────────────────────────────────────────────────────────────┼─────────────────┤\n",
      "│ clinical_trials        │ Clinical trials data   │ werewolf_transformation         │ New treatment for accelerating  │ Volumes                                                      │                 │\n",
      "│                        │ for personalized       │                                 │ the recovery of a werewolf      │                                                              │                 │\n",
      "│                        │ medicine research.     │                                 │ after transformation.           │ * name: weekly_measurements                                  │                 │\n",
      "│                        │                        │                                 │                                 │         * comment: Weekly measurements for patients on       │                 │\n",
      "│                        │                        │                                 │                                 │ clinical trial.  This data may only be used for this         │                 │\n",
      "│                        │                        │                                 │                                 │ clinical trial.                                              │                 │\n",
      "│                        │                        │                                 │                                 │         * created_at: 1722596880113                          │                 │\n",
      "│                        │                        │                                 │                                 │         * updated_at: 1722596880113                          │                 │\n",
      "│                        │                        │                                 │                                 │         * volume_id: 4005440d-236c-4029-bea3-f60f36b18449    │                 │\n",
      "│                        │                        │                                 │                                 │         * volume_type: EXTERNAL                              │                 │\n",
      "│                        │                        │                                 │                                 │         * storage_location:                                  │                 │\n",
      "│                        │                        │                                 │                                 │ file:///Users/amandachessell/coco_data_lake/clinical_trials… │                 │\n",
      "│                        │                        │                                 │                                 │                                                              │                 │\n",
      "├────────────────────────┼────────────────────────┼─────────────────────────────────┼─────────────────────────────────┼──────────────────────────────────────────────────────────────┼─────────────────┤\n",
      "│ clinical_trials        │ Clinical trials data   │ teddy_bear_drop_foot            │ Data for the Teddy Bear Drop    │ Volumes                                                      │                 │\n",
      "│                        │ for personalized       │                                 │ Foot Clinical Trial.            │                                                              │                 │\n",
      "│                        │ medicine research.     │                                 │                                 │ * name: weekly_measurements                                  │                 │\n",
      "│                        │                        │                                 │                                 │         * comment: Weekly patient measurements: PROJ-CT-TBDF │                 │\n",
      "│                        │                        │                                 │                                 │ - Teddy Bear Drop Foot Clinical Trial                        │                 │\n",
      "│                        │                        │                                 │                                 │         * created_at: 1726666188217                          │                 │\n",
      "│                        │                        │                                 │                                 │         * updated_at: 1726666188217                          │                 │\n",
      "│                        │                        │                                 │                                 │         * volume_id: 3989d691-0eaf-40bd-b3ef-47746b818f78    │                 │\n",
      "│                        │                        │                                 │                                 │         * volume_type: EXTERNAL                              │                 │\n",
      "│                        │                        │                                 │                                 │         * storage_location:                                  │                 │\n",
      "│                        │                        │                                 │                                 │ file:///Users/amandachessell/Code/uc/unitycatalog/coco-data… │                 │\n",
      "│                        │                        │                                 │                                 │                                                              │                 │\n",
      "├────────────────────────┼────────────────────────┼─────────────────────────────────┼─────────────────────────────────┼──────────────────────────────────────────────────────────────┼─────────────────┤\n",
      "│ clinical_trials        │ Clinical trials data   │ teddy_bear_drop_foot            │ Data for the Teddy Bear Drop    │ Tables                                                       │                 │\n",
      "│                        │ for personalized       │                                 │ Foot Clinical Trial.            │                                                              │                 │\n",
      "│                        │ medicine research.     │                                 │                                 │                                                              │                 │\n",
      "├────────────────────────┼────────────────────────┼─────────────────────────────────┼─────────────────────────────────┼──────────────────────────────────────────────────────────────┼─────────────────┤\n",
      "│ new_catalog            │ My new catalog.        │ new_schema                      │ My new schema.                  │ Volumes                                                      │                 │\n",
      "│                        │                        │                                 │                                 │                                                              │                 │\n",
      "│                        │                        │                                 │                                 │ * name: new_volume                                           │                 │\n",
      "│                        │                        │                                 │                                 │         * comment: My new volume.                            │                 │\n",
      "│                        │                        │                                 │                                 │         * created_at: 1729085634713                          │                 │\n",
      "│                        │                        │                                 │                                 │         * updated_at: 1729085634713                          │                 │\n",
      "│                        │                        │                                 │                                 │         * volume_id: 6a66b366-93b0-42d0-af56-332a263381dd    │                 │\n",
      "│                        │                        │                                 │                                 │         * volume_type: EXTERNAL                              │                 │\n",
      "│                        │                        │                                 │                                 │         * storage_location:                                  │                 │\n",
      "│                        │                        │                                 │                                 │ file:///Users/amandachessell/Code/uc/unitycatalog/data/new_… │                 │\n",
      "│                        │                        │                                 │                                 │                                                              │                 │\n",
      "├────────────────────────┼────────────────────────┼─────────────────────────────────┼─────────────────────────────────┼──────────────────────────────────────────────────────────────┼─────────────────┤\n",
      "│ new_catalog            │ My new catalog.        │ new_schema                      │ My new schema.                  │ Tables                                                       │                 │\n",
      "╰────────────────────────┴────────────────────────┴─────────────────────────────────┴─────────────────────────────────┴──────────────────────────────────────────────────────────────┴─────────────────╯\n",
      "                                                                              Running on http://host.docker.internal:8080                                                                               \n"
     ]
    },
    {
     "data": {
      "text/html": [
       "<pre style=\"white-space:pre;overflow-x:auto;line-height:normal;font-family:Menlo,'DejaVu Sans Mono',consolas,'Courier New',monospace\"></pre>\n"
      ],
      "text/plain": []
     },
     "metadata": {},
     "output_type": "display_data"
    }
   ],
   "source": [
    "%run uc_catalog_viewer --url http://host.docker.internal:8080"
   ]
  },
  {
   "cell_type": "code",
   "execution_count": null,
   "id": "2277f64b-7c86-445b-b434-3a339d56320a",
   "metadata": {},
   "outputs": [],
   "source": [
    "from pyegeria import AssetCatalog\n"
   ]
  },
  {
   "cell_type": "code",
   "execution_count": null,
   "id": "9a8d79b3-c5a7-4b31-88a7-93b536cd0584",
   "metadata": {},
   "outputs": [],
   "source": [
    "a_client = AssetCatalog('view-server', 'https://host.docker.internal:9443','erinoverview','secret')\n",
    "token = a_client.create_egeria_bearer_token()\n",
    "\n",
    "asset_guid = 'd6b1a015-90b3-42fe-89df-beadac21b74a'\n",
    "\n",
    "asset_graph = a_client.get_asset_graph(asset_guid)\n"
   ]
  },
  {
   "cell_type": "code",
   "execution_count": null,
   "id": "d8d9b4b1-d34c-474c-97e7-261f4d72b7b9",
   "metadata": {},
   "outputs": [],
   "source": [
    "\n",
    "display_name = asset_graph['properties']['displayName']\n",
    "relationships = asset_graph['relationships']\n",
    "for rel in relationships:\n",
    "    type_name = rel['type']['typeName']\n",
    "    if type_name == 'ExternalIdScope':\n",
    "        catalog = rel[\"end1\"][\"uniqueName\"]\n",
    "        print(f\"Name: {display_name}, Catalog: {catalog}\\n\")\n",
    "            \n",
    "    "
   ]
  },
  {
   "cell_type": "code",
   "execution_count": null,
   "id": "6173789f-b1f6-48a3-8136-459314d0c514",
   "metadata": {},
   "outputs": [],
   "source": [
    "catalog_guid = '79454899-6550-48ab-b2ff-d988fb687110'\n"
   ]
  },
  {
   "cell_type": "code",
   "execution_count": null,
   "id": "3ed3c3a6-800f-446d-a0bf-f73112a3f63a",
   "metadata": {},
   "outputs": [],
   "source": []
  }
 ],
 "metadata": {
  "kernelspec": {
   "display_name": "Python 3 (ipykernel)",
   "language": "python",
   "name": "python3"
  },
  "language_info": {
   "codemirror_mode": {
    "name": "ipython",
    "version": 3
   },
   "file_extension": ".py",
   "mimetype": "text/x-python",
   "name": "python",
   "nbconvert_exporter": "python",
   "pygments_lexer": "ipython3",
   "version": "3.11.10"
  }
 },
 "nbformat": 4,
 "nbformat_minor": 5
}

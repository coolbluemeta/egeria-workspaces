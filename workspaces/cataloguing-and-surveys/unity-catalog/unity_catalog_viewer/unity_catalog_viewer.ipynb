{
 "cells": [
  {
   "cell_type": "code",
   "execution_count": 1,
   "id": "ffae858d-83f6-4156-acb6-2e80113253b4",
   "metadata": {
    "execution": {
     "iopub.execute_input": "2025-01-21T17:42:05.358446Z",
     "iopub.status.busy": "2025-01-21T17:42:05.358201Z",
     "iopub.status.idle": "2025-01-21T17:42:05.364605Z",
     "shell.execute_reply": "2025-01-21T17:42:05.363823Z",
     "shell.execute_reply.started": "2025-01-21T17:42:05.358431Z"
    }
   },
   "outputs": [],
   "source": [
    "import asyncio\n",
    "import nest_asyncio\n",
    "nest_asyncio.apply()"
   ]
  },
  {
   "cell_type": "code",
   "execution_count": 2,
   "id": "fada8b63-d100-4c6b-aba8-3b6692b8e9ee",
   "metadata": {
    "execution": {
     "iopub.execute_input": "2025-01-21T17:42:07.459394Z",
     "iopub.status.busy": "2025-01-21T17:42:07.459165Z",
     "iopub.status.idle": "2025-01-21T17:42:07.463638Z",
     "shell.execute_reply": "2025-01-21T17:42:07.462939Z",
     "shell.execute_reply.started": "2025-01-21T17:42:07.459381Z"
    }
   },
   "outputs": [],
   "source": [
    "#%run uc_catalog_viewer --url http://egeria.pdr-associates.com:8070"
   ]
  },
  {
   "cell_type": "code",
   "execution_count": 3,
   "id": "9809d799-2d9c-434f-a6fe-027c5a939e1c",
   "metadata": {
    "execution": {
     "iopub.execute_input": "2025-01-21T17:42:12.940145Z",
     "iopub.status.busy": "2025-01-21T17:42:12.939935Z",
     "iopub.status.idle": "2025-01-21T17:42:13.408284Z",
     "shell.execute_reply": "2025-01-21T17:42:13.407879Z",
     "shell.execute_reply.started": "2025-01-21T17:42:12.940132Z"
    }
   },
   "outputs": [
    {
     "ename": "TypeError",
     "evalue": "Client.__init__() got an unexpected keyword argument 'proxies'",
     "output_type": "error",
     "traceback": [
      "\u001b[0;31m---------------------------------------------------------------------------\u001b[0m",
      "\u001b[0;31mTypeError\u001b[0m                                 Traceback (most recent call last)",
      "File \u001b[0;32m~/workbooks/cataloguing-and-surveys/unity-catalog/unity_catalog_viewer/uc_catalog_viewer.py:164\u001b[0m\n\u001b[1;32m    162\u001b[0m url \u001b[38;5;241m=\u001b[39m args\u001b[38;5;241m.\u001b[39murl \u001b[38;5;28;01mif\u001b[39;00m args\u001b[38;5;241m.\u001b[39murl \u001b[38;5;129;01mis\u001b[39;00m \u001b[38;5;129;01mnot\u001b[39;00m \u001b[38;5;28;01mNone\u001b[39;00m \u001b[38;5;28;01melse\u001b[39;00m \u001b[38;5;124m\"\u001b[39m\u001b[38;5;124mhttp://egeria.pdr-associates.com:8070\u001b[39m\u001b[38;5;124m\"\u001b[39m\n\u001b[1;32m    163\u001b[0m userid \u001b[38;5;241m=\u001b[39m args\u001b[38;5;241m.\u001b[39muserid \u001b[38;5;28;01mif\u001b[39;00m args\u001b[38;5;241m.\u001b[39muserid \u001b[38;5;129;01mis\u001b[39;00m \u001b[38;5;129;01mnot\u001b[39;00m \u001b[38;5;28;01mNone\u001b[39;00m \u001b[38;5;28;01melse\u001b[39;00m \u001b[38;5;124m'\u001b[39m\u001b[38;5;124mgarygeeke\u001b[39m\u001b[38;5;124m'\u001b[39m\n\u001b[0;32m--> 164\u001b[0m \u001b[43mdisplay_catalog\u001b[49m\u001b[43m(\u001b[49m\u001b[43murl\u001b[49m\u001b[43m)\u001b[49m\n",
      "File \u001b[0;32m~/workbooks/cataloguing-and-surveys/unity-catalog/unity_catalog_viewer/uc_catalog_viewer.py:29\u001b[0m, in \u001b[0;36mdisplay_catalog\u001b[0;34m(url)\u001b[0m\n\u001b[1;32m     27\u001b[0m \u001b[38;5;28;01mdef\u001b[39;00m\u001b[38;5;250m \u001b[39m\u001b[38;5;21mdisplay_catalog\u001b[39m(url:\u001b[38;5;28mstr\u001b[39m):\n\u001b[1;32m     28\u001b[0m     base_url \u001b[38;5;241m=\u001b[39m url \u001b[38;5;241m+\u001b[39m \u001b[38;5;124m\"\u001b[39m\u001b[38;5;124m/api/2.1/unity-catalog\u001b[39m\u001b[38;5;124m\"\u001b[39m\n\u001b[0;32m---> 29\u001b[0m     uc_client \u001b[38;5;241m=\u001b[39m \u001b[43mUnitycatalog\u001b[49m\u001b[43m(\u001b[49m\u001b[43mbase_url\u001b[49m\u001b[38;5;241;43m=\u001b[39;49m\u001b[43mbase_url\u001b[49m\u001b[43m,\u001b[49m\u001b[43m \u001b[49m\u001b[43m)\u001b[49m\n\u001b[1;32m     31\u001b[0m     \u001b[38;5;28;01mdef\u001b[39;00m\u001b[38;5;250m \u001b[39m\u001b[38;5;21mgenerate_table\u001b[39m() \u001b[38;5;241m-\u001b[39m\u001b[38;5;241m>\u001b[39m Table:\n\u001b[1;32m     32\u001b[0m \u001b[38;5;250m        \u001b[39m\u001b[38;5;124;03m\"\"\"Make a new table.\"\"\"\u001b[39;00m\n",
      "File \u001b[0;32m/opt/conda/lib/python3.12/site-packages/unitycatalog/_client.py:89\u001b[0m, in \u001b[0;36mUnitycatalog.__init__\u001b[0;34m(self, base_url, timeout, max_retries, default_headers, default_query, http_client, _strict_response_validation)\u001b[0m\n\u001b[1;32m     86\u001b[0m \u001b[38;5;28;01mif\u001b[39;00m base_url \u001b[38;5;129;01mis\u001b[39;00m \u001b[38;5;28;01mNone\u001b[39;00m:\n\u001b[1;32m     87\u001b[0m     base_url \u001b[38;5;241m=\u001b[39m \u001b[38;5;124mf\u001b[39m\u001b[38;5;124m\"\u001b[39m\u001b[38;5;124mhttp://localhost:8080/api/2.1/unity-catalog\u001b[39m\u001b[38;5;124m\"\u001b[39m\n\u001b[0;32m---> 89\u001b[0m \u001b[38;5;28;43msuper\u001b[39;49m\u001b[43m(\u001b[49m\u001b[43m)\u001b[49m\u001b[38;5;241;43m.\u001b[39;49m\u001b[38;5;21;43m__init__\u001b[39;49m\u001b[43m(\u001b[49m\n\u001b[1;32m     90\u001b[0m \u001b[43m    \u001b[49m\u001b[43mversion\u001b[49m\u001b[38;5;241;43m=\u001b[39;49m\u001b[43m__version__\u001b[49m\u001b[43m,\u001b[49m\n\u001b[1;32m     91\u001b[0m \u001b[43m    \u001b[49m\u001b[43mbase_url\u001b[49m\u001b[38;5;241;43m=\u001b[39;49m\u001b[43mbase_url\u001b[49m\u001b[43m,\u001b[49m\n\u001b[1;32m     92\u001b[0m \u001b[43m    \u001b[49m\u001b[43mmax_retries\u001b[49m\u001b[38;5;241;43m=\u001b[39;49m\u001b[43mmax_retries\u001b[49m\u001b[43m,\u001b[49m\n\u001b[1;32m     93\u001b[0m \u001b[43m    \u001b[49m\u001b[43mtimeout\u001b[49m\u001b[38;5;241;43m=\u001b[39;49m\u001b[43mtimeout\u001b[49m\u001b[43m,\u001b[49m\n\u001b[1;32m     94\u001b[0m \u001b[43m    \u001b[49m\u001b[43mhttp_client\u001b[49m\u001b[38;5;241;43m=\u001b[39;49m\u001b[43mhttp_client\u001b[49m\u001b[43m,\u001b[49m\n\u001b[1;32m     95\u001b[0m \u001b[43m    \u001b[49m\u001b[43mcustom_headers\u001b[49m\u001b[38;5;241;43m=\u001b[39;49m\u001b[43mdefault_headers\u001b[49m\u001b[43m,\u001b[49m\n\u001b[1;32m     96\u001b[0m \u001b[43m    \u001b[49m\u001b[43mcustom_query\u001b[49m\u001b[38;5;241;43m=\u001b[39;49m\u001b[43mdefault_query\u001b[49m\u001b[43m,\u001b[49m\n\u001b[1;32m     97\u001b[0m \u001b[43m    \u001b[49m\u001b[43m_strict_response_validation\u001b[49m\u001b[38;5;241;43m=\u001b[39;49m\u001b[43m_strict_response_validation\u001b[49m\u001b[43m,\u001b[49m\n\u001b[1;32m     98\u001b[0m \u001b[43m\u001b[49m\u001b[43m)\u001b[49m\n\u001b[1;32m    100\u001b[0m \u001b[38;5;28mself\u001b[39m\u001b[38;5;241m.\u001b[39mcatalogs \u001b[38;5;241m=\u001b[39m resources\u001b[38;5;241m.\u001b[39mCatalogsResource(\u001b[38;5;28mself\u001b[39m)\n\u001b[1;32m    101\u001b[0m \u001b[38;5;28mself\u001b[39m\u001b[38;5;241m.\u001b[39mschemas \u001b[38;5;241m=\u001b[39m resources\u001b[38;5;241m.\u001b[39mSchemasResource(\u001b[38;5;28mself\u001b[39m)\n",
      "File \u001b[0;32m/opt/conda/lib/python3.12/site-packages/unitycatalog/_base_client.py:824\u001b[0m, in \u001b[0;36mSyncAPIClient.__init__\u001b[0;34m(self, version, base_url, max_retries, timeout, transport, proxies, limits, http_client, custom_headers, custom_query, _strict_response_validation)\u001b[0m\n\u001b[1;32m    807\u001b[0m     \u001b[38;5;28;01mraise\u001b[39;00m \u001b[38;5;167;01mTypeError\u001b[39;00m(\n\u001b[1;32m    808\u001b[0m         \u001b[38;5;124mf\u001b[39m\u001b[38;5;124m\"\u001b[39m\u001b[38;5;124mInvalid `http_client` argument; Expected an instance of `httpx.Client` but got \u001b[39m\u001b[38;5;132;01m{\u001b[39;00m\u001b[38;5;28mtype\u001b[39m(http_client)\u001b[38;5;132;01m}\u001b[39;00m\u001b[38;5;124m\"\u001b[39m\n\u001b[1;32m    809\u001b[0m     )\n\u001b[1;32m    811\u001b[0m \u001b[38;5;28msuper\u001b[39m()\u001b[38;5;241m.\u001b[39m\u001b[38;5;21m__init__\u001b[39m(\n\u001b[1;32m    812\u001b[0m     version\u001b[38;5;241m=\u001b[39mversion,\n\u001b[1;32m    813\u001b[0m     limits\u001b[38;5;241m=\u001b[39mlimits,\n\u001b[0;32m   (...)\u001b[0m\n\u001b[1;32m    822\u001b[0m     _strict_response_validation\u001b[38;5;241m=\u001b[39m_strict_response_validation,\n\u001b[1;32m    823\u001b[0m )\n\u001b[0;32m--> 824\u001b[0m \u001b[38;5;28mself\u001b[39m\u001b[38;5;241m.\u001b[39m_client \u001b[38;5;241m=\u001b[39m http_client \u001b[38;5;129;01mor\u001b[39;00m \u001b[43mSyncHttpxClientWrapper\u001b[49m\u001b[43m(\u001b[49m\n\u001b[1;32m    825\u001b[0m \u001b[43m    \u001b[49m\u001b[43mbase_url\u001b[49m\u001b[38;5;241;43m=\u001b[39;49m\u001b[43mbase_url\u001b[49m\u001b[43m,\u001b[49m\n\u001b[1;32m    826\u001b[0m \u001b[43m    \u001b[49m\u001b[38;5;66;43;03m# cast to a valid type because mypy doesn't understand our type narrowing\u001b[39;49;00m\n\u001b[1;32m    827\u001b[0m \u001b[43m    \u001b[49m\u001b[43mtimeout\u001b[49m\u001b[38;5;241;43m=\u001b[39;49m\u001b[43mcast\u001b[49m\u001b[43m(\u001b[49m\u001b[43mTimeout\u001b[49m\u001b[43m,\u001b[49m\u001b[43m \u001b[49m\u001b[43mtimeout\u001b[49m\u001b[43m)\u001b[49m\u001b[43m,\u001b[49m\n\u001b[1;32m    828\u001b[0m \u001b[43m    \u001b[49m\u001b[43mproxies\u001b[49m\u001b[38;5;241;43m=\u001b[39;49m\u001b[43mproxies\u001b[49m\u001b[43m,\u001b[49m\n\u001b[1;32m    829\u001b[0m \u001b[43m    \u001b[49m\u001b[43mtransport\u001b[49m\u001b[38;5;241;43m=\u001b[39;49m\u001b[43mtransport\u001b[49m\u001b[43m,\u001b[49m\n\u001b[1;32m    830\u001b[0m \u001b[43m    \u001b[49m\u001b[43mlimits\u001b[49m\u001b[38;5;241;43m=\u001b[39;49m\u001b[43mlimits\u001b[49m\u001b[43m,\u001b[49m\n\u001b[1;32m    831\u001b[0m \u001b[43m    \u001b[49m\u001b[43mfollow_redirects\u001b[49m\u001b[38;5;241;43m=\u001b[39;49m\u001b[38;5;28;43;01mTrue\u001b[39;49;00m\u001b[43m,\u001b[49m\n\u001b[1;32m    832\u001b[0m \u001b[43m\u001b[49m\u001b[43m)\u001b[49m\n",
      "File \u001b[0;32m/opt/conda/lib/python3.12/site-packages/unitycatalog/_base_client.py:722\u001b[0m, in \u001b[0;36m_DefaultHttpxClient.__init__\u001b[0;34m(self, **kwargs)\u001b[0m\n\u001b[1;32m    720\u001b[0m kwargs\u001b[38;5;241m.\u001b[39msetdefault(\u001b[38;5;124m\"\u001b[39m\u001b[38;5;124mlimits\u001b[39m\u001b[38;5;124m\"\u001b[39m, DEFAULT_CONNECTION_LIMITS)\n\u001b[1;32m    721\u001b[0m kwargs\u001b[38;5;241m.\u001b[39msetdefault(\u001b[38;5;124m\"\u001b[39m\u001b[38;5;124mfollow_redirects\u001b[39m\u001b[38;5;124m\"\u001b[39m, \u001b[38;5;28;01mTrue\u001b[39;00m)\n\u001b[0;32m--> 722\u001b[0m \u001b[38;5;28;43msuper\u001b[39;49m\u001b[43m(\u001b[49m\u001b[43m)\u001b[49m\u001b[38;5;241;43m.\u001b[39;49m\u001b[38;5;21;43m__init__\u001b[39;49m\u001b[43m(\u001b[49m\u001b[38;5;241;43m*\u001b[39;49m\u001b[38;5;241;43m*\u001b[39;49m\u001b[43mkwargs\u001b[49m\u001b[43m)\u001b[49m\n",
      "\u001b[0;31mTypeError\u001b[0m: Client.__init__() got an unexpected keyword argument 'proxies'"
     ]
    }
   ],
   "source": [
    "%run uc_catalog_viewer --url http://host.docker.internal:8080"
   ]
  },
  {
   "cell_type": "code",
   "execution_count": null,
   "id": "2277f64b-7c86-445b-b434-3a339d56320a",
   "metadata": {},
   "outputs": [],
   "source": [
    "from pyegeria import AssetCatalog\n"
   ]
  },
  {
   "cell_type": "code",
   "execution_count": null,
   "id": "9a8d79b3-c5a7-4b31-88a7-93b536cd0584",
   "metadata": {},
   "outputs": [],
   "source": [
    "a_client = AssetCatalog('qs-view-server', 'https://host.docker.internal:9443','erinoverview','secret')\n",
    "token = a_client.create_egeria_bearer_token()\n",
    "\n",
    "asset_guid = 'd6b1a015-90b3-42fe-89df-beadac21b74a'\n",
    "\n",
    "asset_graph = a_client.get_asset_graph(asset_guid)\n"
   ]
  },
  {
   "cell_type": "code",
   "execution_count": null,
   "id": "d8d9b4b1-d34c-474c-97e7-261f4d72b7b9",
   "metadata": {},
   "outputs": [],
   "source": [
    "\n",
    "display_name = asset_graph['properties']['displayName']\n",
    "relationships = asset_graph['relationships']\n",
    "for rel in relationships:\n",
    "    type_name = rel['type']['typeName']\n",
    "    if type_name == 'ExternalIdScope':\n",
    "        catalog = rel[\"end1\"][\"uniqueName\"]\n",
    "        print(f\"Name: {display_name}, Catalog: {catalog}\\n\")\n",
    "            \n",
    "    "
   ]
  },
  {
   "cell_type": "code",
   "execution_count": null,
   "id": "6173789f-b1f6-48a3-8136-459314d0c514",
   "metadata": {},
   "outputs": [],
   "source": [
    "catalog_guid = '79454899-6550-48ab-b2ff-d988fb687110'\n"
   ]
  },
  {
   "cell_type": "code",
   "execution_count": null,
   "id": "3ed3c3a6-800f-446d-a0bf-f73112a3f63a",
   "metadata": {},
   "outputs": [],
   "source": []
  }
 ],
 "metadata": {
  "kernelspec": {
   "display_name": "Python 3 (ipykernel)",
   "language": "python",
   "name": "python3"
  },
  "language_info": {
   "codemirror_mode": {
    "name": "ipython",
    "version": 3
   },
   "file_extension": ".py",
   "mimetype": "text/x-python",
   "name": "python",
   "nbconvert_exporter": "python",
   "pygments_lexer": "ipython3",
   "version": "3.12.8"
  }
 },
 "nbformat": 4,
 "nbformat_minor": 5
}

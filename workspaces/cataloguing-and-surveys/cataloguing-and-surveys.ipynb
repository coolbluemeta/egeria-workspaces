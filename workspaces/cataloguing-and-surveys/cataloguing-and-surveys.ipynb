{
 "cells": [
  {
   "cell_type": "markdown",
   "id": "94577c57-e998-4a20-85b6-d4f0486f6655",
   "metadata": {},
   "source": [
    "<!-- SPDX-License-Identifier: CC-BY-4.0 -->\n",
    "<!-- Copyright Contributors to the ODPi Egeria project 2024. -->\n",
    "\n",
    "![Egeria Logo](https://raw.githubusercontent.com/odpi/egeria/main/assets/img/ODPi_Egeria_Logo_color.png)\n",
    "\n",
    "### Egeria Workbook\n",
    "\n",
    "# Cataloguing and surveys\n",
    "\n",
    "## Introduction\n",
    "\n",
    "Organizations typically have a lot of deployed technology containing data and its associated metadata.  Often you want to capture the metadata about these technologies.  Egeria offers two options that can be used independently, but have extra value when they are used together.\n",
    "\n",
    "* A *Survey* - In this option, a survey service connects to the deployed technology, extracts the metadata and compiles a report of this metadata to allow you to view what is available.  The report is stored in the open metadata repositories.  Optionally this can be printed out in a markdown report, or a summay exported as a CSV file.\n",
    "* Then you can *Catalog* the deployed technology -  In this option, a cataloguing service connectors to the deployed technology, extracts the metadata and builds an open metadata catalog of the contents.  This can be searched and enriched using Egeria's APIs and governance processes.\n",
    "\n",
    "Often the cataloguing service can be configured to only catalog requested resources (or it can be configured to ignore specific resources), allowing you to create a catalog of the most interesting/valuable resouces without cluttering up your catalog with irrelevant resources.  The output from the survey can be used to decide what to catalog.\n",
    "\n",
    "Similarly, once you have your resources catalogued, a regular survey can be used to plot how the resource is changing over time.\n",
    "\n",
    "Egeria has pre-build services for popular open source technologies. For example:\n",
    "\n",
    "* [Cataloguing and surveying files on a file system](files/survey-and-catalog-files.ipynb)\n",
    "* [Cataloguing and Surveying Unity Catalog servers](unity-catalog/survey-and-catalog-uc.ipynb)\n",
    "* [Cataloguing and Surveying PostgreSQL Servers](postgres/survey-and-catalog-postgres.ipynb)\n",
    "* [Cataloguing and Surveying Apache Atlas Servers](apache-atlas/survey-and-catalog-atlas.ipynb)\n",
    "\n",
    "In addition, it is possible to capture and distribute Open Lineage events:\n",
    "\n",
    "* [Publishing Open Lineage Events to Marquez](marquez/publish-to-marquez.ipynb)\n",
    "* [Capture Open Lineage Event from an Apache Kafka Topic](apache-kafka/kafka-open-lineage-events.ipynb)\n",
    "\n",
    "----"
   ]
  },
  {
   "cell_type": "code",
   "execution_count": null,
   "id": "559977df-32bc-4457-b025-00f62c8f9c6b",
   "metadata": {},
   "outputs": [],
   "source": []
  }
 ],
 "metadata": {
  "kernelspec": {
   "display_name": "Python 3 (ipykernel)",
   "language": "python",
   "name": "python3"
  },
  "language_info": {
   "codemirror_mode": {
    "name": "ipython",
    "version": 3
   },
   "file_extension": ".py",
   "mimetype": "text/x-python",
   "name": "python",
   "nbconvert_exporter": "python",
   "pygments_lexer": "ipython3",
   "version": "3.11.10"
  }
 },
 "nbformat": 4,
 "nbformat_minor": 5
}

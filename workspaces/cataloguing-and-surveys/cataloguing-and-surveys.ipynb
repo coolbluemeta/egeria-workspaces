{
 "cells": [
  {
   "cell_type": "markdown",
   "id": "94577c57-e998-4a20-85b6-d4f0486f6655",
   "metadata": {},
   "source": [
    "<!-- SPDX-License-Identifier: CC-BY-4.0 -->\n",
    "<!-- Copyright Contributors to the ODPi Egeria project 2024. -->\n",
    "\n",
    "![Egeria Logo](https://raw.githubusercontent.com/odpi/egeria/main/assets/img/ODPi_Egeria_Logo_color.png)\n",
    "\n",
    "### Egeria Workbook\n",
    "\n",
    "# Cataloguing and surveys\n",
    "\n",
    "## Introduction"
   ]
  },
  {
   "cell_type": "code",
   "execution_count": null,
   "id": "559977df-32bc-4457-b025-00f62c8f9c6b",
   "metadata": {},
   "outputs": [],
   "source": []
  }
 ],
 "metadata": {
  "kernelspec": {
   "display_name": "Python 3 (ipykernel)",
   "language": "python",
   "name": "python3"
  },
  "language_info": {
   "codemirror_mode": {
    "name": "ipython",
    "version": 3
   },
   "file_extension": ".py",
   "mimetype": "text/x-python",
   "name": "python",
   "nbconvert_exporter": "python",
   "pygments_lexer": "ipython3",
   "version": "3.11.10"
  }
 },
 "nbformat": 4,
 "nbformat_minor": 5
}

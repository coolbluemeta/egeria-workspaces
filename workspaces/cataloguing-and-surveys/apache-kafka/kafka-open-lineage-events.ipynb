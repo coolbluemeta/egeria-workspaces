{
 "cells": [
  {
   "cell_type": "markdown",
   "id": "5d3ce06d-0a7d-4fe1-bb5f-4aa56623a884",
   "metadata": {},
   "source": [
    "\n",
    "\n",
    "![Egeria Logo](https://raw.githubusercontent.com/odpi/egeria/main/assets/img/ODPi_Egeria_Logo_color.png)\n",
    "\n",
    "### Egeria Workbook\n",
    "\n",
    "# Receiving Open Lineage Events via Kafka\n",
    "\n",
    "## Introduction\n",
    "\n",
    "Open Lineage supports a proxy backend server that is able to distribute events via Apache Kafka.  This workbook sets up Egeria to receive these events.\n",
    "\n",
    "---"
   ]
  },
  {
   "cell_type": "code",
   "execution_count": null,
   "id": "dfe33057-8389-4394-93db-a2aa3c3d3522",
   "metadata": {},
   "outputs": [],
   "source": [
    "# Initialize pyegeria\n",
    "\n",
    "%run ../../pyegeria/initialize-pyegeria.ipynb\n"
   ]
  },
  {
   "cell_type": "code",
   "execution_count": null,
   "id": "88a3e1fc-683c-4ec7-95bd-331f8e841c6b",
   "metadata": {},
   "outputs": [],
   "source": [
    "# Create client to egeria\n",
    "\n",
    "egeria_tech = EgeriaTech(view_server, url, user_id, user_pwd)\n",
    "token = egeria_tech.create_egeria_bearer_token()"
   ]
  },
  {
   "cell_type": "markdown",
   "id": "fb5d0722-6db3-4ac3-9483-a156b0f047f1",
   "metadata": {},
   "source": [
    "----\n",
    "\n",
    "There is a governance action process called *HarvestOpenLineageEvents:CreateAsCatalogTargetGovernanceActionProcess* that sets up Apache "
   ]
  },
  {
   "cell_type": "code",
   "execution_count": null,
   "id": "67df3b10-6557-4bbd-8199-15f5f930e08b",
   "metadata": {},
   "outputs": [],
   "source": [
    "createAndCatalogServerName=\"HarvestOpenLineageEvents:CreateAsCatalogTargetGovernanceActionProcess\"\n",
    "\n",
    "process_guid = egeria_tech.get_element_guid_by_unique_name(createAndCatalogServerName)\n",
    "\n",
    "process_graph = egeria_tech.get_gov_action_process_graph(process_guid)\n",
    "print_governance_action_process_graph(process_graph)\n"
   ]
  },
  {
   "cell_type": "markdown",
   "id": "d2712c19-fe40-4d43-96df-2e4edeff632b",
   "metadata": {},
   "source": [
    "-----\n",
    "\n",
    "We begin by defining which Apache Kafka topic is being used by other systems to publish open lineage events, and then call the governance action process.\n",
    "\n",
    "----"
   ]
  },
  {
   "cell_type": "code",
   "execution_count": null,
   "id": "946b87f0-596c-463b-b180-ebb3c2bcab75",
   "metadata": {
    "editable": true,
    "slideshow": {
     "slide_type": ""
    },
    "tags": []
   },
   "outputs": [],
   "source": [
    "\n",
    "requestParameters = {\n",
    "    \"serverName\" : \"LocalKafka\",\n",
    "    \"hostIdentifier\": \"host.docker.internal\",\n",
    "    \"portNumber\": \"9192\",\n",
    "    \"description\" : \"Receive open lineage events via Kafka Topic.\",\n",
    "    \"topicDescription\": \"Open Lineage Events for Backend Proxy\",\n",
    "    \"versionIdentifier\" : \"V1.0\",\n",
    "    \"fullTopicName\": \"openlineage.events\",\n",
    "    \"shortTopicName\": \"openlineage.events\",\n",
    "    \"eventDirection\": \"inOut\"\n",
    "}\n",
    "\n",
    "egeria_tech.initiate_gov_action_process(createAndCatalogServerName, None, None, None, requestParameters, None, None)\n",
    "\n"
   ]
  },
  {
   "cell_type": "markdown",
   "id": "ff61aa06-5eaf-45cf-bf63-73f6c702153e",
   "metadata": {},
   "source": [
    "----\n",
    "\n",
    "The command below displays the latest governance actions.  You should see they are in **ACTIONED** status.  If you see failures it means that either Apache Kafka is not running or the values describing its location are not correct.  If Apache Kafka is down, restart it and re-run the cell above.  If you realize one or more of the values describing topic to listen on is not right, correct the values and retry the process.\n",
    "\n",
    "----"
   ]
  },
  {
   "cell_type": "code",
   "execution_count": null,
   "id": "03308d31-59cf-4006-ae44-8677a688cbde",
   "metadata": {},
   "outputs": [],
   "source": [
    "\n",
    "display_engine_activity_c()\n"
   ]
  },
  {
   "cell_type": "markdown",
   "id": "824b8132-cdbe-4a01-83eb-0a39feb43b5f",
   "metadata": {},
   "source": [
    "----\n",
    "\n",
    "The effect of the process is to configure the *OpenLineageKafkaListener* connector to start listening for Open Lineage Events.\n",
    "The Target Element column shows the details of the Apache Kafka Topics it is listening to.\n",
    "\n",
    "----"
   ]
  },
  {
   "cell_type": "code",
   "execution_count": null,
   "id": "4a1028c8-79cb-4f10-a9d7-c2de4c8dc9ce",
   "metadata": {},
   "outputs": [],
   "source": [
    "\n",
    "display_integration_daemon_status(['OpenLineageKafkaListener'], paging=True, width=200)\n"
   ]
  },
  {
   "cell_type": "code",
   "execution_count": null,
   "id": "0705fedf-0f30-42f0-9a4d-9513d528372a",
   "metadata": {},
   "outputs": [],
   "source": []
  }
 ],
 "metadata": {
  "kernelspec": {
   "display_name": "Python 3 (ipykernel)",
   "language": "python",
   "name": "python3"
  },
  "language_info": {
   "codemirror_mode": {
    "name": "ipython",
    "version": 3
   },
   "file_extension": ".py",
   "mimetype": "text/x-python",
   "name": "python",
   "nbconvert_exporter": "python",
   "pygments_lexer": "ipython3",
   "version": "3.12.8"
  }
 },
 "nbformat": 4,
 "nbformat_minor": 5
}

{
 "cells": [
  {
   "cell_type": "markdown",
   "id": "5d3ce06d-0a7d-4fe1-bb5f-4aa56623a884",
   "metadata": {},
   "source": [
    "\n",
    "\n",
    "![Egeria Logo](https://raw.githubusercontent.com/odpi/egeria/main/assets/img/ODPi_Egeria_Logo_color.png)\n",
    "\n",
    "### Egeria Workbook\n",
    "\n",
    "# Receiving Open Lineage Events via Kafka\n",
    "\n",
    "## Introduction\n",
    "\n",
    "Open Lineage supports a proxy backend server that is able to distribute events via Apache Kafka.  This workbook sets up Egeria to receive these events.\n",
    "\n",
    "---"
   ]
  },
  {
   "cell_type": "code",
   "execution_count": 2,
   "id": "dfe33057-8389-4394-93db-a2aa3c3d3522",
   "metadata": {},
   "outputs": [],
   "source": [
    "# Initialize pyegeria\n",
    "\n",
    "%run ../pyegeria/initialize-pyegeria.ipynb\n"
   ]
  },
  {
   "cell_type": "code",
   "execution_count": 3,
   "id": "88a3e1fc-683c-4ec7-95bd-331f8e841c6b",
   "metadata": {},
   "outputs": [],
   "source": [
    "# Create client to egeria\n",
    "\n",
    "egeria_client = EgeriaTech(view_server, url, user_id, user_pwd)\n",
    "token = egeria_client.create_egeria_bearer_token()"
   ]
  },
  {
   "cell_type": "markdown",
   "id": "d2712c19-fe40-4d43-96df-2e4edeff632b",
   "metadata": {},
   "source": [
    "-----\n",
    "\n",
    "We begin by defining which Apache Kafka topic is being used by other systems to publish open lineage events.\n",
    "\n",
    "----"
   ]
  },
  {
   "cell_type": "code",
   "execution_count": 6,
   "id": "946b87f0-596c-463b-b180-ebb3c2bcab75",
   "metadata": {
    "editable": true,
    "slideshow": {
     "slide_type": ""
    },
    "tags": []
   },
   "outputs": [
    {
     "name": "stdout",
     "output_type": "stream",
     "text": [
      "GUID of Kafka Topic is: 637f94b5-29b3-483f-b56c-adaaeab50090\n"
     ]
    }
   ],
   "source": [
    "topic_template_guid=TEMPLATE_GUIDS[\"Apache Kafka Topic\"]\n",
    "\n",
    "body = {\n",
    "    \"templateGUID\": topic_template_guid,\n",
    "    \"isOwnAnchor\": True,\n",
    "    \"placeholderPropertyValues\": {\n",
    "        \"serverName\" : \"LocalKafka\",\n",
    "        \"hostIdentifier\": \"host.docker.internal\",\n",
    "        \"portNumber\": \"9192\",\n",
    "        \"description\" : \"Receive open lineage events via Kafka Topic.\",\n",
    "        \"topicDescription\": \"Open Lineage Events for Backend Proxy\",\n",
    "        \"fullTopicName\": \"openlineage.events\",\n",
    "        \"shortTopicName\": \"openlineage.events\",\n",
    "        \"eventDirection\": \"inOut\"\n",
    "    }\n",
    "}\n",
    "            \n",
    "endpoint_guid = egeria_client.create_element_from_template(body)\n",
    "print(\"GUID of Kafka Topic is: \" + endpoint_guid)\n"
   ]
  },
  {
   "cell_type": "markdown",
   "id": "fb2e2260-0502-49e5-8284-a5ac7e340d1c",
   "metadata": {
    "editable": true,
    "slideshow": {
     "slide_type": ""
    },
    "tags": []
   },
   "source": [
    "---\n",
    "\n",
    "Once the endpoint is defined, we can add it as a catalog target to the **OpenLineageKafkaListener** integration connector.\n",
    "\n",
    "----\n"
   ]
  },
  {
   "cell_type": "code",
   "execution_count": 7,
   "id": "1c9ddeb8-e693-4c85-a637-b6081feae3df",
   "metadata": {
    "editable": true,
    "slideshow": {
     "slide_type": ""
    },
    "tags": []
   },
   "outputs": [
    {
     "data": {
      "text/plain": [
       "'8f376c9b-2c11-49d1-85fe-ebb834f7e76a'"
      ]
     },
     "execution_count": 7,
     "metadata": {},
     "output_type": "execute_result"
    }
   ],
   "source": [
    "\n",
    "kafka_open_lineage_listener_guid=INTEGRATION_GUIDS[\"OpenLineageKafkaListener\"]\n",
    "\n",
    "egeria_client.add_catalog_target(kafka_open_lineage_listener_guid, \n",
    "                                 endpoint_guid, \n",
    "                                 \"incomingOpenLineage\",\n",
    "                                 None,\n",
    "                                 None,\n",
    "                                 None,\n",
    "                                 None)\n",
    "                      \n"
   ]
  },
  {
   "cell_type": "markdown",
   "id": "567bff4d-db4b-46b9-b0c7-015758663339",
   "metadata": {},
   "source": [
    "----\n",
    "\n",
    "You can see that the **OpenLineageKafkaListener** is configured to listen on the topic by using the `hey_egeria_ops show integrations status` command in a Terminal window of this JupyterLab environment.\n",
    "\n",
    "![Open Lineage Listener Configured](images/open-lineage-listener-configured.png)\n",
    "\n",
    "\n",
    "## Testing the integration\n",
    "\n"
   ]
  },
  {
   "cell_type": "code",
   "execution_count": null,
   "id": "0705fedf-0f30-42f0-9a4d-9513d528372a",
   "metadata": {},
   "outputs": [],
   "source": []
  }
 ],
 "metadata": {
  "kernelspec": {
   "display_name": "Python 3 (ipykernel)",
   "language": "python",
   "name": "python3"
  },
  "language_info": {
   "codemirror_mode": {
    "name": "ipython",
    "version": 3
   },
   "file_extension": ".py",
   "mimetype": "text/x-python",
   "name": "python",
   "nbconvert_exporter": "python",
   "pygments_lexer": "ipython3",
   "version": "3.12.7"
  }
 },
 "nbformat": 4,
 "nbformat_minor": 5
}

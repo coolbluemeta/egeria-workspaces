{
 "cells": [
  {
   "cell_type": "markdown",
   "id": "5d3ce06d-0a7d-4fe1-bb5f-4aa56623a884",
   "metadata": {},
   "source": [
    "\n",
    "\n",
    "![Egeria Logo](https://raw.githubusercontent.com/odpi/egeria/main/assets/img/ODPi_Egeria_Logo_color.png)\n",
    "\n",
    "### Egeria Workbook\n",
    "\n",
    "# Receiving Open Lineage Events via Kafka\n",
    "\n",
    "## Introduction\n",
    "\n",
    "Open Lineage supports a proxy backend server that is able to distribute events via Apache Kafka.  This workbook sets up Egeria to receive these events.\n",
    "\n",
    "---"
   ]
  },
  {
   "cell_type": "code",
   "execution_count": 1,
   "id": "dfe33057-8389-4394-93db-a2aa3c3d3522",
   "metadata": {
    "execution": {
     "iopub.execute_input": "2025-03-18T17:31:03.093771Z",
     "iopub.status.busy": "2025-03-18T17:31:03.093270Z",
     "iopub.status.idle": "2025-03-18T17:31:03.303869Z",
     "shell.execute_reply": "2025-03-18T17:31:03.303622Z",
     "shell.execute_reply.started": "2025-03-18T17:31:03.093738Z"
    }
   },
   "outputs": [
    {
     "data": {
      "text/html": [
       "\n",
       "    <script src=\"https://unpkg.com/mermaid@11.4.1/dist/mermaid.min.js\"></script>\n",
       "    <script>\n",
       "        document.addEventListener('DOMContentLoaded', function() {\n",
       "            mermaid.initialize({startOnLoad: true});\n",
       "        });\n",
       "    </script>\n",
       "\n",
       "    "
      ],
      "text/plain": [
       "<IPython.core.display.HTML object>"
      ]
     },
     "metadata": {},
     "output_type": "display_data"
    }
   ],
   "source": [
    "# Initialize pyegeria\n",
    "\n",
    "%run ../../pyegeria/initialize-pyegeria.ipynb\n"
   ]
  },
  {
   "cell_type": "code",
   "execution_count": 2,
   "id": "88a3e1fc-683c-4ec7-95bd-331f8e841c6b",
   "metadata": {
    "execution": {
     "iopub.execute_input": "2025-03-18T17:31:03.734114Z",
     "iopub.status.busy": "2025-03-18T17:31:03.733735Z",
     "iopub.status.idle": "2025-03-18T17:31:03.961283Z",
     "shell.execute_reply": "2025-03-18T17:31:03.960626Z",
     "shell.execute_reply.started": "2025-03-18T17:31:03.734098Z"
    }
   },
   "outputs": [],
   "source": [
    "# Create client to egeria\n",
    "\n",
    "egeria_tech = EgeriaTech(view_server, url, user_id, user_pwd)\n",
    "token = egeria_tech.create_egeria_bearer_token()"
   ]
  },
  {
   "cell_type": "markdown",
   "id": "fb5d0722-6db3-4ac3-9483-a156b0f047f1",
   "metadata": {},
   "source": [
    "----\n",
    "\n",
    "There is a governance action process called *HarvestOpenLineageEvents:CreateAsCatalogTargetGovernanceActionProcess* that sets up Apache "
   ]
  },
  {
   "cell_type": "code",
   "execution_count": 3,
   "id": "67df3b10-6557-4bbd-8199-15f5f930e08b",
   "metadata": {
    "execution": {
     "iopub.execute_input": "2025-03-18T17:31:05.057978Z",
     "iopub.status.busy": "2025-03-18T17:31:05.057678Z",
     "iopub.status.idle": "2025-03-18T17:31:05.213332Z",
     "shell.execute_reply": "2025-03-18T17:31:05.212513Z",
     "shell.execute_reply.started": "2025-03-18T17:31:05.057959Z"
    }
   },
   "outputs": [
    {
     "data": {
      "text/html": [
       "\n",
       "    <div>\n",
       "                <h3 id=\"mermaid-graph-8a341a90-ae4c-490e-958e-46e971bdc0d0-61da-heading\" style=\"margin: 20px 0; font-size: 1.5em; text-align: center;\">\n",
       "                    Process - HarvestOpenLineageEvents:CreateAsCatalogTarget \n",
       "                </h3>\n",
       "                <p id=\"mermaid-graph-8a341a90-ae4c-490e-958e-46e971bdc0d0-61da-subheading\" style=\"margin: 0; padding: 5px; font-size: 1em; text-align: center; color: gray; flex: 0 0 auto;\">\n",
       "                    GUID: 8a341a90-ae4c-490e-958e-46e971bdc0d0\n",
       "                </p>\n",
       "                </div>\n",
       "    <div class=\"mermaid\">\n",
       "        flowchart LR\n",
       "%%{init: {&quot;flowchart&quot;: {&quot;htmlLabels&quot;: false}} }%%\n",
       "\n",
       "8a341a90-ae4c-490e-958e-46e971bdc0d0@{ shape: subproc, label: &quot;*Governance Action Process*\n",
       "**HarvestOpenLineageEvents:CreateAsCatalogTarget**&quot;}\n",
       "0b3ffc09-4719-4e5e-b422-62be1b90a753@{ shape: text, label: &quot;*Description*\n",
       "**Create a Apache Kafka Topic and configure an integration connector to harvest its contents.**&quot;}\n",
       "8a341a90-ae4c-490e-958e-46e971bdc0d0~~~0b3ffc09-4719-4e5e-b422-62be1b90a753\n",
       "368dc3b3-199a-41da-86c0-18422b12e24d(&quot;`*Governance Action Process Step*\n",
       "**Create the KafkaTopic entity**`&quot;)\n",
       "cd610214-dd39-4602-abaf-6048bf38b862(&quot;`*Governance Action Process Step*\n",
       "**Connect new asset to integration connector**`&quot;)\n",
       "368dc3b3-199a-41da-86c0-18422b12e24d==&gt;|&quot;set-up-complete&quot;|cd610214-dd39-4602-abaf-6048bf38b862\n",
       "style 8a341a90-ae4c-490e-958e-46e971bdc0d0 color:#FFFFFF, fill:#838cc7, stroke:#3079ab\n",
       "style 0b3ffc09-4719-4e5e-b422-62be1b90a753 color:#000000, fill:#F9F7ED, stroke:#b7c0c7\n",
       "    </div>\n",
       "    <script type=\"text/javascript\">\n",
       "        if (window.mermaid) {\n",
       "    mermaid.initialize({startOnLoad: true});\n",
       "    mermaid.contentLoaded();\n",
       "    }\n",
       "    </script>\n",
       "    "
      ],
      "text/plain": [
       "<IPython.core.display.HTML object>"
      ]
     },
     "metadata": {},
     "output_type": "display_data"
    },
    {
     "data": {
      "text/html": [
       "\n",
       "    <div>\n",
       "                <h3 id=\"mermaid-graph-8a341a90-ae4c-490e-958e-46e971bdc0d0-4023-heading\" style=\"margin: 20px 0; font-size: 1.5em; text-align: center;\">\n",
       "                    Specification for - HarvestOpenLineageEvents:CreateAsCatalogTarget \n",
       "                </h3>\n",
       "                <p id=\"mermaid-graph-8a341a90-ae4c-490e-958e-46e971bdc0d0-4023-subheading\" style=\"margin: 0; padding: 5px; font-size: 1em; text-align: center; color: gray; flex: 0 0 auto;\">\n",
       "                    GUID: 8a341a90-ae4c-490e-958e-46e971bdc0d0\n",
       "                </p>\n",
       "                </div>\n",
       "    <div class=\"mermaid\">\n",
       "        flowchart TD\n",
       "%%{init: {&quot;flowchart&quot;: {&quot;htmlLabels&quot;: false}} }%%\n",
       "\n",
       "supportedRequestParameter(&quot;`*property Type*\n",
       "**supportedRequestParameter**`&quot;)\n",
       "supportedRequestParameter:0(&quot;`**portNumber**\n",
       "dataType: string\n",
       "description: The number of the port to use to connect to a service.\n",
       "required: true\n",
       "example: 1234\n",
       "`&quot;)\n",
       "supportedRequestParameter==&gt;supportedRequestParameter:0\n",
       "supportedRequestParameter:1(&quot;`**serverName**\n",
       "dataType: string\n",
       "description: The name of the server being catalogued.\n",
       "required: true\n",
       "example: myServer\n",
       "`&quot;)\n",
       "supportedRequestParameter==&gt;supportedRequestParameter:1\n",
       "supportedRequestParameter:2(&quot;`**fullTopicName**\n",
       "dataType: string\n",
       "description: The full name of the topic.\n",
       "required: true\n",
       "example: egeria.omag.server.active-metadata-store.omas.assetconsumer.outTopic\n",
       "`&quot;)\n",
       "supportedRequestParameter==&gt;supportedRequestParameter:2\n",
       "supportedRequestParameter:3(&quot;`**eventDirection**\n",
       "dataType: string\n",
       "description: By default, this connector supports both the receiving and sending of events on a particular topic. It is possible to turn off, either the ability to listen for events through the consumer, or send events through the producer. This is achieved by setting the eventDirection configuration property, which can be &#x27;inOut&#x27; (default value), &#x27;outOnly&#x27; or &#x27;inOnly&#x27;.\n",
       "required: true\n",
       "example: outOnly\n",
       "`&quot;)\n",
       "supportedRequestParameter==&gt;supportedRequestParameter:3\n",
       "supportedRequestParameter:4(&quot;`**versionIdentifier**\n",
       "dataType: string\n",
       "description: The string version identifier for the element.  This is typically of the form Vx.y.z where x is the major version number, y is the minor version number, and z is an option patch identifier.\n",
       "required: true\n",
       "example: V1.0\n",
       "`&quot;)\n",
       "supportedRequestParameter==&gt;supportedRequestParameter:4\n",
       "supportedRequestParameter:5(&quot;`**description**\n",
       "dataType: string\n",
       "required: true\n",
       "example: This file contains a week&#x27;s worth of patient data for the Teddy Bear Drop Foot clinical trial.\n",
       "`&quot;)\n",
       "supportedRequestParameter==&gt;supportedRequestParameter:5\n",
       "supportedRequestParameter:6(&quot;`**shortTopicName**\n",
       "dataType: string\n",
       "description: The display name of the topic.\n",
       "required: true\n",
       "example: AssetConsumer.outTopic on active-metadata-store\n",
       "`&quot;)\n",
       "supportedRequestParameter==&gt;supportedRequestParameter:6\n",
       "supportedRequestParameter:7(&quot;`**hostIdentifier**\n",
       "dataType: string\n",
       "description: The host IP address or domain name.\n",
       "required: true\n",
       "example: coconet.com\n",
       "`&quot;)\n",
       "supportedRequestParameter==&gt;supportedRequestParameter:7\n",
       "    </div>\n",
       "    <script type=\"text/javascript\">\n",
       "        if (window.mermaid) {\n",
       "    mermaid.initialize({startOnLoad: true});\n",
       "    mermaid.contentLoaded();\n",
       "    }\n",
       "    </script>\n",
       "    "
      ],
      "text/plain": [
       "<IPython.core.display.HTML object>"
      ]
     },
     "metadata": {},
     "output_type": "display_data"
    }
   ],
   "source": [
    "createAndCatalogServerName=\"HarvestOpenLineageEvents:CreateAsCatalogTargetGovernanceActionProcess\"\n",
    "\n",
    "process_guid = egeria_tech.get_element_guid_by_unique_name(createAndCatalogServerName)\n",
    "\n",
    "process_graph = egeria_tech.get_gov_action_process_graph(process_guid)\n",
    "print_governance_action_process_graph(process_graph)\n"
   ]
  },
  {
   "cell_type": "markdown",
   "id": "d2712c19-fe40-4d43-96df-2e4edeff632b",
   "metadata": {},
   "source": [
    "-----\n",
    "\n",
    "We begin by defining which Apache Kafka topic is being used by other systems to publish open lineage events, and then call the governance action process.\n",
    "\n",
    "----"
   ]
  },
  {
   "cell_type": "code",
   "execution_count": 4,
   "id": "946b87f0-596c-463b-b180-ebb3c2bcab75",
   "metadata": {
    "editable": true,
    "execution": {
     "iopub.execute_input": "2025-03-18T17:31:13.393955Z",
     "iopub.status.busy": "2025-03-18T17:31:13.393152Z",
     "iopub.status.idle": "2025-03-18T17:31:13.536048Z",
     "shell.execute_reply": "2025-03-18T17:31:13.535313Z",
     "shell.execute_reply.started": "2025-03-18T17:31:13.393916Z"
    },
    "slideshow": {
     "slide_type": ""
    },
    "tags": []
   },
   "outputs": [
    {
     "data": {
      "text/plain": [
       "'dbfebf22-a6a4-4a4e-9998-e2aefd41c76e'"
      ]
     },
     "execution_count": 4,
     "metadata": {},
     "output_type": "execute_result"
    }
   ],
   "source": [
    "\n",
    "requestParameters = {\n",
    "    \"serverName\" : \"LocalKafka2\",\n",
    "    \"hostIdentifier\": \"localhost\",\n",
    "    \"portNumber\": \"9092\",\n",
    "    \"description\" : \"Receive open lineage events via Kafka Topic.\",\n",
    "    \"topicDescription\": \"Open Lineage Events for Backend Proxy\",\n",
    "    \"versionIdentifier\" : \"V1.0\",\n",
    "    \"fullTopicName\": \"openlineage.events\",\n",
    "    \"shortTopicName\": \"openlineage.events\",\n",
    "    \"eventDirection\": \"inOut\"\n",
    "}\n",
    "\n",
    "egeria_tech.initiate_gov_action_process(createAndCatalogServerName, None, None, None, requestParameters, None, None)\n",
    "\n"
   ]
  },
  {
   "cell_type": "markdown",
   "id": "ff61aa06-5eaf-45cf-bf63-73f6c702153e",
   "metadata": {},
   "source": [
    "----\n",
    "\n",
    "The command below displays the latest governance actions.  You should see they are in **ACTIONED** status.  If you see failures it means that either Apache Kafka is not running or the values describing its location are not correct.  If Apache Kafka is down, restart it and re-run the cell above.  If you realize one or more of the values describing topic to listen on is not right, correct the values and retry the process.\n",
    "\n",
    "----"
   ]
  },
  {
   "cell_type": "code",
   "execution_count": 5,
   "id": "03308d31-59cf-4006-ae44-8677a688cbde",
   "metadata": {
    "execution": {
     "iopub.execute_input": "2025-03-18T17:31:22.470397Z",
     "iopub.status.busy": "2025-03-18T17:31:22.470137Z",
     "iopub.status.idle": "2025-03-18T17:31:22.848765Z",
     "shell.execute_reply": "2025-03-18T17:31:22.848377Z",
     "shell.execute_reply.started": "2025-03-18T17:31:22.470372Z"
    }
   },
   "outputs": [
    {
     "name": "stdout",
     "output_type": "stream",
     "text": [
      "                                                     Engine Action Status for Platform https://host.docker.internal:9443 @ Tue Mar 18 17:31:22 2025                                                     \n",
      "╭─────────────────────┬─────────────────────────────────────────────┬─────────────────────────────────────────────┬───────────────┬─────────────────────┬──────────────────────────────────────────────╮\n",
      "│ Requested Time      │ Core Info                                   │ Target Elements                             │ Action Status │ Completion Time     │ Core Results                                 │\n",
      "├─────────────────────┼─────────────────────────────────────────────┼─────────────────────────────────────────────┼───────────────┼─────────────────────┼──────────────────────────────────────────────┤\n",
      "│ 2025-03-18T17:31:16 │                                             │                                             │ ACTIONED      │ 2025-03-18T17:31:19 │                                              │\n",
      "│                     │  • Start Time: 2025-03-18T17:31:19          │  • Target Name: newAsset                    │               │                     │  • Completion Guards: ['set-up-complete']    │\n",
      "│                     │  • Engine Name: AssetOnboarding             │     • Target GUID:                          │               │                     │  • Completion Message:                       │\n",
      "│                     │  • GUID:                                    │       e5b20a85-6fc8-4e8f-830d-df5217a227aa  │               │                     │    GOVERNANCE-ACTION-CONNECTORS-0032         │\n",
      "│                     │    496981e4-0b80-43c4-a843-3afde977f852     │     • Target Type: KafkaTopic               │               │                     │    Integration connector                     │\n",
      "│                     │  • Request Type: harvest-open-lineage-topic │  • Target Name: integrationConnector        │               │                     │    Egeria:IntegrationGroup:Default:OpenLine… │\n",
      "│                     │  • Process Name:                            │     • Target GUID:                          │               │                     │    is now cataloging KafkaTopic server       │\n",
      "│                     │    HarvestOpenLineageEvents:CreateAsCatalo… │       980b989c-de78-4e6a-a58d-51049d7381bf  │               │                     │    openlineage.events                        │\n",
      "│                     │                                             │     • Target Type: IntegrationConnector     │               │                     │                                              │\n",
      "│                     │ ─────────────────────────────────────────── │                                             │               │                     │                                              │\n",
      "│                     │                                             │ ─────────────────────────────────────────── │               │                     │                                              │\n",
      "│                     │  • Request Parameters:                      │                                             │               │                     │                                              │\n",
      "│                     │     • versionIdentifier: V1.0               │                                             │               │                     │                                              │\n",
      "│                     │     • hostIdentifier: localhost             │                                             │               │                     │                                              │\n",
      "│                     │     • description: Receive open lineage     │                                             │               │                     │                                              │\n",
      "│                     │       events via Kafka Topic.               │                                             │               │                     │                                              │\n",
      "│                     │     • serverName: LocalKafka2               │                                             │               │                     │                                              │\n",
      "│                     │     • shortTopicName: openlineage.events    │                                             │               │                     │                                              │\n",
      "│                     │     • fullTopicName: openlineage.events     │                                             │               │                     │                                              │\n",
      "│                     │     • portNumber: 9092                      │                                             │               │                     │                                              │\n",
      "│                     │     • templateGUID:                         │                                             │               │                     │                                              │\n",
      "│                     │       ea8f81c9-c59c-47de-9525-7cc59d1251e5  │                                             │               │                     │                                              │\n",
      "│                     │     • topicDescription: Open Lineage Events │                                             │               │                     │                                              │\n",
      "│                     │       for Backend Proxy                     │                                             │               │                     │                                              │\n",
      "│                     │     • eventDirection: inOut                 │                                             │               │                     │                                              │\n",
      "├─────────────────────┼─────────────────────────────────────────────┼─────────────────────────────────────────────┼───────────────┼─────────────────────┼──────────────────────────────────────────────┤\n",
      "│ 2025-03-18T17:31:13 │                                             │                                             │ ACTIONED      │ 2025-03-18T17:31:16 │                                              │\n",
      "│                     │  • Start Time: 2025-03-18T17:31:16          │                                             │               │                     │  • Completion Guards: ['set-up-complete']    │\n",
      "│                     │  • Engine Name: AssetOnboarding             │                                             │               │                     │  • Completion Message:                       │\n",
      "│                     │  • GUID:                                    │                                             │               │                     │    GOVERNANCE-ACTION-CONNECTORS-0034 The     │\n",
      "│                     │    bd676d81-eb79-4777-8e95-99bbd685dabb     │                                             │               │                     │    create-asset-governance-service           │\n",
      "│                     │  • Request Type: create-kafka-topic         │                                             │               │                     │    governance action service has created a   │\n",
      "│                     │  • Process Name:                            │                                             │               │                     │    new KafkaTopic asset called Apache Kafka  │\n",
      "│                     │    HarvestOpenLineageEvents:CreateAsCatalo… │                                             │               │                     │    Topic:LocalKafka2.openlineage.events:inO… │\n",
      "│                     │                                             │                                             │               │                     │    (e5b20a85-6fc8-4e8f-830d-df5217a227aa)    │\n",
      "│                     │ ─────────────────────────────────────────── │                                             │               │                     │                                              │\n",
      "│                     │                                             │                                             │               │                     │                                              │\n",
      "│                     │  • Request Parameters:                      │                                             │               │                     │                                              │\n",
      "│                     │     • versionIdentifier: V1.0               │                                             │               │                     │                                              │\n",
      "│                     │     • hostIdentifier: localhost             │                                             │               │                     │                                              │\n",
      "│                     │     • description: Receive open lineage     │                                             │               │                     │                                              │\n",
      "│                     │       events via Kafka Topic.               │                                             │               │                     │                                              │\n",
      "│                     │     • serverName: LocalKafka2               │                                             │               │                     │                                              │\n",
      "│                     │     • shortTopicName: openlineage.events    │                                             │               │                     │                                              │\n",
      "│                     │     • fullTopicName: openlineage.events     │                                             │               │                     │                                              │\n",
      "│                     │     • portNumber: 9092                      │                                             │               │                     │                                              │\n",
      "│                     │     • templateGUID:                         │                                             │               │                     │                                              │\n",
      "│                     │       ea8f81c9-c59c-47de-9525-7cc59d1251e5  │                                             │               │                     │                                              │\n",
      "│                     │     • topicDescription: Open Lineage Events │                                             │               │                     │                                              │\n",
      "│                     │       for Backend Proxy                     │                                             │               │                     │                                              │\n",
      "│                     │     • eventDirection: inOut                 │                                             │               │                     │                                              │\n",
      "╰─────────────────────┴─────────────────────────────────────────────┴─────────────────────────────────────────────┴───────────────┴─────────────────────┴──────────────────────────────────────────────╯\n",
      "                                                        Engine Status for Server 'qs-view-server' @ Platform - https://host.docker.internal:9443                                                        \n"
     ]
    },
    {
     "data": {
      "text/html": [
       "<pre style=\"white-space:pre;overflow-x:auto;line-height:normal;font-family:Menlo,'DejaVu Sans Mono',consolas,'Courier New',monospace\"></pre>\n"
      ],
      "text/plain": []
     },
     "metadata": {},
     "output_type": "display_data"
    }
   ],
   "source": [
    "\n",
    "display_engine_activity_c(row_limit=2)\n"
   ]
  },
  {
   "cell_type": "markdown",
   "id": "824b8132-cdbe-4a01-83eb-0a39feb43b5f",
   "metadata": {},
   "source": [
    "----\n",
    "\n",
    "The effect of the process is to configure the *OpenLineageKafkaListener* connector to start listening for Open Lineage Events.\n",
    "The Target Element column shows the details of the Apache Kafka Topics it is listening to.\n",
    "\n",
    "----"
   ]
  },
  {
   "cell_type": "code",
   "execution_count": null,
   "id": "4a1028c8-79cb-4f10-a9d7-c2de4c8dc9ce",
   "metadata": {},
   "outputs": [],
   "source": [
    "\n",
    "display_integration_daemon_status(['OpenLineageKafkaListener'], paging=True, width=200)\n"
   ]
  },
  {
   "cell_type": "code",
   "execution_count": null,
   "id": "0705fedf-0f30-42f0-9a4d-9513d528372a",
   "metadata": {},
   "outputs": [],
   "source": []
  }
 ],
 "metadata": {
  "kernelspec": {
   "display_name": "Python 3 (ipykernel)",
   "language": "python",
   "name": "python3"
  },
  "language_info": {
   "codemirror_mode": {
    "name": "ipython",
    "version": 3
   },
   "file_extension": ".py",
   "mimetype": "text/x-python",
   "name": "python",
   "nbconvert_exporter": "python",
   "pygments_lexer": "ipython3",
   "version": "3.12.8"
  }
 },
 "nbformat": 4,
 "nbformat_minor": 5
}

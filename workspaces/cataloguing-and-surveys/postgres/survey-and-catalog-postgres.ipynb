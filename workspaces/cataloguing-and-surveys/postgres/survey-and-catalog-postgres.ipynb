{
 "cells": [
  {
   "cell_type": "markdown",
   "id": "bbf73747-32b1-4088-9720-b5dcb7d5bbd1",
   "metadata": {},
   "source": [
    "<!-- SPDX-License-Identifier: CC-BY-4.0 -->\n",
    "<!-- Copyright Contributors to the ODPi Egeria project 2024. -->\n",
    "\n",
    "![Egeria Logo](https://raw.githubusercontent.com/odpi/egeria/main/assets/img/ODPi_Egeria_Logo_color.png)\n",
    "\n",
    "### Egeria Workbook\n",
    "\n",
    "# Cataloguing and surveying PostgreSQL Servers\n",
    "\n",
    "## Introduction"
   ]
  },
  {
   "cell_type": "code",
   "execution_count": null,
   "id": "448b3b48-1ecf-49da-9445-117fdd9e24fb",
   "metadata": {},
   "outputs": [],
   "source": [
    "import os\n",
    "view_server = os.environ.get(\"VIEW_SERVER\",\"view-server\")\n",
    "url = os.environ.get(\"EGERIA_VIEW_SERVER_URL\",\"https://localhost:9443\")\n",
    "user_id = os.environ.get(\"EGERIA_USER\", \"peterprofile\")\n",
    "user_pwd = os.environ.get(\"EGERIA_USER_PASSWORD\")\n",
    "\n",
    "from pyegeria import EgeriaTech\n",
    "import asyncio\n",
    "import nest_asyncio\n",
    "nest_asyncio.apply()"
   ]
  },
  {
   "cell_type": "code",
   "execution_count": null,
   "id": "a4edcd1b-3177-435b-a631-6380d761eaf8",
   "metadata": {},
   "outputs": [],
   "source": [
    "\n",
    "egeria_tech = EgeriaTech(view_server, url, user_id, user_pwd)\n",
    "token = egeria_tech.create_egeria_bearer_token()\n"
   ]
  },
  {
   "cell_type": "markdown",
   "id": "90e4f374-25e5-4a2d-8eb4-62ae8c4baa4f",
   "metadata": {},
   "source": [
    "---\n",
    "\n",
    "## Loading support for PostgreSQL Servers\n",
    "\n",
    "The definition of the postgres connectors, templates and associated reference data are loaded via a [Content Pack](https://egeria-project.org/content-packs/) called `PostgresContentPack.omarchive`.  The content pack can be loaded multiple times without ill-effect so run the following command to make sure it is loaded.\n",
    "\n",
    "---"
   ]
  },
  {
   "cell_type": "code",
   "execution_count": null,
   "id": "fe30e926-e414-4a44-bab4-f6ddd32f64f7",
   "metadata": {},
   "outputs": [],
   "source": [
    "\n",
    "egeria_tech.add_archive_file(\"content-packs/PostgresContentPack.omarchive\", None, \"active-metadata-store\")\n",
    "\n",
    "print(\"Archive loaded!\")\n"
   ]
  },
  {
   "cell_type": "markdown",
   "id": "c540da1f-2da5-4b19-aedb-4191f08462f4",
   "metadata": {},
   "source": [
    "----\n",
    "\n",
    "## Survey a PostgreSQL Server\n",
    "\n",
    "Egeria's PostgreSQL support includes the ability to survey the contents of a PostgreSQL Server to discover the databases that is manages.  This command creates a description of the PostgreSQL Server and runs a survey to understand its contents.  A summary of the survey results can be found in /distribution-hub/surveys.\n",
    "\n",
    "---"
   ]
  },
  {
   "cell_type": "code",
   "execution_count": null,
   "id": "e2fc2619-730f-4e22-9c5f-688600e9aabd",
   "metadata": {},
   "outputs": [],
   "source": [
    "\n",
    "createAndSurveyServerName=\"PostgreSQLServer:CreateAndSurveyGovernanceActionProcess\"\n",
    "\n",
    "from pyegeria import load_mermaid, render_mermaid, generate_process_graph\n",
    "\n",
    "load_mermaid()\n",
    "\n",
    "process_guid = egeria_tech.get_element_guid_by_unique_name(createAndSurveyServerName)\n",
    "\n",
    "mermaid_graph = generate_process_graph(process_guid)\n",
    "render_mermaid(mermaid_graph)\n"
   ]
  },
  {
   "cell_type": "code",
   "execution_count": null,
   "id": "1204b07f-d405-4783-b4ef-0df90c010609",
   "metadata": {},
   "outputs": [],
   "source": [
    "\n",
    "\n",
    "requestParameters = {\n",
    "    \"serverName\" : \"LocalPostgreSQL1\",\n",
    "    \"hostIdentifier\" : \"host.docker.internal\",\n",
    "    \"portNumber\" : \"5442\",\n",
    "    \"secretsStorePathName\" : \"loading-bay/secrets/default.omsecrets\",\n",
    "    \"versionIdentifier\" : \"1.0\",\n",
    "    \"description\" : \"PostgreSQL database in egeria-workspaces.\"\n",
    "}\n",
    "\n",
    "egeria_tech.initiate_gov_action_process(createAndSurveyServerName, None, None, None, requestParameters, None, None)\n",
    "\n"
   ]
  },
  {
   "cell_type": "markdown",
   "id": "e0d0f33e-165d-4289-b268-3d711581fd94",
   "metadata": {},
   "source": [
    "----\n",
    "\n",
    "This next command catalogs the databases it finds on the PostgreSQL Server.\n",
    "\n",
    "----"
   ]
  },
  {
   "cell_type": "code",
   "execution_count": null,
   "id": "b68ce00d-568f-4b58-8731-a3d80692a932",
   "metadata": {},
   "outputs": [],
   "source": [
    "\n",
    "createAndCatalogServerName=\"PostgreSQLServer:CreateAsCatalogTargetGovernanceActionProcess\"\n",
    "\n",
    "from pyegeria import load_mermaid, render_mermaid, generate_process_graph\n",
    "\n",
    "load_mermaid()\n",
    "\n",
    "process_guid = egeria_tech.get_element_guid_by_unique_name(createAndCatalogServerName)\n",
    "\n",
    "mermaid_graph = generate_process_graph(process_guid)\n",
    "render_mermaid(mermaid_graph)\n"
   ]
  },
  {
   "cell_type": "code",
   "execution_count": null,
   "id": "5e1154b5-add3-4cb6-843c-5ea0de20c3e4",
   "metadata": {},
   "outputs": [],
   "source": [
    "\n",
    "\n",
    "requestParameters = {\n",
    "    \"serverName\" : \"LocalPostgreSQL1\",\n",
    "    \"hostIdentifier\" : \"host.docker.internal\",\n",
    "    \"portNumber\" : \"5442\",\n",
    "    \"secretsStorePathName\" : \"loading-bay/secrets/default.omsecrets\",\n",
    "    \"versionIdentifier\" : \"1.0\",\n",
    "    \"description\" : \"PostgreSQL database in egeria-workspaces.\"\n",
    "}\n",
    "\n",
    "egeria_tech.initiate_gov_action_process(createAndCatalogServerName, None, None, None, requestParameters, None, None)\n",
    "\n"
   ]
  }
 ],
 "metadata": {
  "kernelspec": {
   "display_name": "Python 3 (ipykernel)",
   "language": "python",
   "name": "python3"
  },
  "language_info": {
   "codemirror_mode": {
    "name": "ipython",
    "version": 3
   },
   "file_extension": ".py",
   "mimetype": "text/x-python",
   "name": "python",
   "nbconvert_exporter": "python",
   "pygments_lexer": "ipython3",
   "version": "3.12.7"
  }
 },
 "nbformat": 4,
 "nbformat_minor": 5
}

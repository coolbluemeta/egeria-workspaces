{
 "cells": [
  {
   "cell_type": "code",
   "execution_count": 1,
   "id": "7f2f5e7b-ea0b-4be2-b6fa-653d02133e3f",
   "metadata": {
    "ExecuteTime": {
     "end_time": "2024-07-19T16:29:46.214376Z",
     "start_time": "2024-07-19T16:29:46.210863Z"
    }
   },
   "outputs": [],
   "source": [
    "import asyncio\n",
    "import nest_asyncio\n",
    "nest_asyncio.apply()"
   ]
  },
  {
   "cell_type": "code",
   "execution_count": 2,
   "id": "19eefeb4-a81f-41b7-94ab-cadc07eaf6c2",
   "metadata": {
    "ExecuteTime": {
     "end_time": "2024-07-19T16:29:52.325578Z",
     "start_time": "2024-07-19T16:29:52.322074Z"
    }
   },
   "outputs": [],
   "source": [
    "from pyegeria import AutomatedCuration\n",
    "a_client = AutomatedCuration(\"view-server\", \"https://localhost:9443\", user_id='erinoverview',\n",
    "                                         user_pwd=\"secret\")"
   ]
  },
  {
   "cell_type": "code",
   "execution_count": 3,
   "id": "75c033ce-729e-4157-94a9-8cdc5dc74308",
   "metadata": {
    "ExecuteTime": {
     "end_time": "2024-07-19T16:29:54.011550Z",
     "start_time": "2024-07-19T16:29:53.770506Z"
    }
   },
   "outputs": [
    {
     "name": "stdout",
     "output_type": "stream",
     "text": [
      "All connection attempts failed\n",
      "FAILED\n"
     ]
    }
   ],
   "source": [
    "token = a_client.create_egeria_bearer_token()\n",
    "print(token)"
   ]
  },
  {
   "cell_type": "code",
   "execution_count": null,
   "id": "bcd1929b-5bed-47b7-912a-2f23caf92e2a",
   "metadata": {
    "ExecuteTime": {
     "end_time": "2024-07-19T16:30:27.783804Z",
     "start_time": "2024-07-19T16:30:27.094126Z"
    }
   },
   "outputs": [],
   "source": [
    "response = a_client.get_technology_type_detail(\"OSS Unity Catalog (UC) Server\")"
   ]
  },
  {
   "cell_type": "code",
   "execution_count": null,
   "id": "ea6b05e6-fa22-40bc-8742-eb733098e723",
   "metadata": {
    "ExecuteTime": {
     "end_time": "2024-07-19T16:30:30.613857Z",
     "start_time": "2024-07-19T16:30:30.610394Z"
    }
   },
   "outputs": [],
   "source": [
    "import json\n",
    "print(f\"{json.dumps(response, indent=2)}\")"
   ]
  },
  {
   "cell_type": "code",
   "execution_count": null,
   "id": "f6500e17-27dd-4623-9a9b-7aef30d4e2d1",
   "metadata": {
    "ExecuteTime": {
     "end_time": "2024-07-19T16:31:00.262599Z",
     "start_time": "2024-07-19T16:31:00.204995Z"
    }
   },
   "outputs": [],
   "source": [
    "#!/usr/bin/env python3\n",
    "\"\"\"\n",
    "SPDX-License-Identifier: Apache-2.0\n",
    "Copyright Contributors to the ODPi Egeria project.\n",
    "\n",
    "A simple viewer for collections - provide the root and we display the hierarchy\n",
    "\n",
    "\"\"\"\n",
    "\n",
    "import argparse\n",
    "\n",
    "from rich import print\n",
    "from rich.panel import Panel\n",
    "from rich.prompt import Prompt\n",
    "from rich.text import Text\n",
    "from rich.tree import Tree\n",
    "from rich.console import Console\n",
    "from pyegeria import (UserNotAuthorizedException, PropertyServerException,\n",
    "                      InvalidParameterException, AutomatedCuration)\n",
    "from pyegeria._exceptions import (\n",
    "    print_exception_response,\n",
    ")\n",
    "\n",
    "console = Console()\n",
    "disable_ssl_warnings = True\n",
    "\n",
    "platform = \"https://127.0.0.1:9443\"\n",
    "user = \"erinoverview\"\n",
    "view_server = \"view-server\"\n",
    "\n",
    "\n",
    "def tech_viewer(tech: str, server_name:str, platform_url:str, user:str):\n",
    "\n",
    "    def view_tech_details(a_client: AutomatedCuration, root_collection_name: str, tree: Tree) -> Tree:\n",
    "        l2: Tree = None\n",
    "        tech_details = a_client.get_technology_type_detail(tech)\n",
    "        if (type(tech_details) is dict) and (len(tech_details)>0):\n",
    "            name = tech_details.get('name','---')\n",
    "            qualified_name = tech_details.get('qualifiedName',\"---\")\n",
    "            category = tech_details.get('category','---')\n",
    "            description = tech_details.get('description','---')\n",
    "\n",
    "            style = \"\"\n",
    "            l2 = tree.add(Text(f\"Name: {name}\", \"bold red\"))\n",
    "            l2 = tree.add(Text(f\"* QualifiedName: {qualified_name}\",\"bold white\"))\n",
    "            l2 = tree.add(Text(f\"* Category: {category}\", \"bold white\"))\n",
    "            l2 = tree.add(Text(f\"* Technology Description: {description}\", \"bold white\"))\n",
    "            ext_ref = tech_details.get('externalReferences', None)\n",
    "\n",
    "            if ext_ref is not None:\n",
    "                uri = ext_ref[0][\"properties\"].get(\"uri\", \"---\")\n",
    "                # console.print(f\" {type(ext_ref)}, {len(ext_ref)}\")\n",
    "                l2 = tree.add(Text(f'* URI: {uri}', \"bold white\"))\n",
    "\n",
    "            resource_list = tech_details.get('resourceList',None)\n",
    "            if resource_list:\n",
    "                t_r = tree.add(\"Resource List[bold red]\")\n",
    "                for resource in resource_list:\n",
    "                    resource_use = Text(f\"[bold white]{resource.get('resourceUse','---')}\", \"\")\n",
    "                    resource_use_description = Text(f\"[bold white]{resource.get('resourceUseDescription','---')}\", \"\")\n",
    "                    type_name = Text(f\"[bold white]{resource['relatedElement']['type'].get('typeName','---')}\", \"\")\n",
    "                    unique_name = Text(f\"[bold white]{resource['relatedElement'].get('uniqueName','---')}\", \"\")\n",
    "                    related_guid = Text(f\"[bold white]{resource['relatedElement'].get('guid','---')}\", \"\")\n",
    "                    resource_text = (f\"[bold red]Resource\\n\"\n",
    "                                     f\"[white]Resource use: {resource_use}[white]\\nDescription: \"\n",
    "                                     f\"{resource_use_description}\\nType Name: {type_name}\\n\"\n",
    "                                     f\"[white]Unique Name: {unique_name}\\n[white]Related GUID: {related_guid}\\n\")\n",
    "                    p = Panel.fit(resource_text)\n",
    "                    tt = t_r.add(p, style=style)\n",
    "\n",
    "        else:\n",
    "            tt = tree.add(f\"Tech type {tech} was not found - please check the tech type name\")\n",
    "\n",
    "        return tt\n",
    "\n",
    "    try:\n",
    "        tree = Tree(f\"[bold bright green]{tech}\", guide_style=\"bold bright_blue\")\n",
    "        a_client = AutomatedCuration(view_server, platform,\n",
    "                                     user_id=user)\n",
    "\n",
    "        token = a_client.create_egeria_bearer_token(user, \"secret\")\n",
    "        view_tech_details(a_client,tech,tree)\n",
    "        print(tree)\n",
    "\n",
    "    except (\n",
    "        InvalidParameterException,\n",
    "        PropertyServerException,\n",
    "        UserNotAuthorizedException\n",
    "    ) as e:\n",
    "        print_exception_response(e)\n",
    "\n",
    "\n",
    "def main():\n",
    "    parser = argparse.ArgumentParser()\n",
    "\n",
    "    parser.add_argument(\"--server\", help=\"Name of the server to display status for\")\n",
    "    parser.add_argument(\"--url\", help=\"URL Platform to connect to\")\n",
    "    parser.add_argument(\"--userid\", help=\"User Id\")\n",
    "    args = parser.parse_args()\n",
    "\n",
    "    server = args.server if args.server is not None else \"view-server\"\n",
    "    url = args.url if args.url is not None else \"https://localhost:9443\"\n",
    "    userid = args.userid if args.userid is not None else 'erinoverview'\n",
    "\n",
    "    tech = Prompt.ask(\"Enter the Technology to start from:\", default=\"PostgreSQL Server\")\n",
    "    tech_viewer(tech,server, url, userid)\n"
   ]
  },
  {
   "cell_type": "code",
   "execution_count": null,
   "id": "b51998b6-070a-4b28-b647-45f22917b255",
   "metadata": {
    "ExecuteTime": {
     "end_time": "2024-07-19T16:31:02.693291Z",
     "start_time": "2024-07-19T16:31:02.195416Z"
    }
   },
   "outputs": [],
   "source": [
    "tech_viewer(\"PostgreSQL Server\", 'view-server', 'https://127.0.0.1:9443', 'erinoverview')"
   ]
  },
  {
   "cell_type": "code",
   "execution_count": null,
   "id": "82bccd62-fb0f-4f94-a117-4b37f57cbf42",
   "metadata": {},
   "outputs": [],
   "source": []
  }
 ],
 "metadata": {
  "kernelspec": {
   "display_name": "python312",
   "language": "python",
   "name": "python312"
  },
  "language_info": {
   "codemirror_mode": {
    "name": "ipython",
    "version": 3
   },
   "file_extension": ".py",
   "mimetype": "text/x-python",
   "name": "python",
   "nbconvert_exporter": "python",
   "pygments_lexer": "ipython3",
   "version": "3.12.4"
  }
 },
 "nbformat": 4,
 "nbformat_minor": 5
}

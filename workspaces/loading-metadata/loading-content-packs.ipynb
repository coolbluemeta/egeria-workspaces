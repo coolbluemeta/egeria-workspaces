{
 "cells": [
  {
   "cell_type": "markdown",
   "id": "6041fdd1-f2b1-45c7-9f59-a581db73f726",
   "metadata": {},
   "source": [
    "<!-- SPDX-License-Identifier: CC-BY-4.0 -->\n",
    "<!-- Copyright Contributors to the ODPi Egeria project 2024. -->\n",
    "\n",
    "![Egeria Logo](https://raw.githubusercontent.com/odpi/egeria/main/assets/img/ODPi_Egeria_Logo_color.png)\n",
    "\n",
    "### Egeria Workbook\n",
    "\n",
    "# Loading content packs\n",
    "\n",
    "## Introduction\n",
    "\n",
    "A content pack is a collection of curated metadata that can be loaded into your metadata store.  Egeria includes a number of content packs that can be used to explore various features of egeria ot to test your integration code.  This workbook shows how to load a content pack that is stored as a file.  These files have a file extension of `omarchive`.\n",
    "\n",
    "## Listing the content packs\n",
    "\n",
    "A list of content packs installed in Egeria's runtime container can be retrieved using the `hey_egeria_cat show list-archives` command or through the `EgeriaTech` python libraries:\n",
    "\n",
    "----"
   ]
  },
  {
   "cell_type": "code",
   "execution_count": 10,
   "id": "c77a1e2d-f13d-45bf-8fdf-3efe86a6d8cc",
   "metadata": {},
   "outputs": [],
   "source": [
    "import os\n",
    "view_server = os.environ.get(\"VIEW_SERVER\",\"view-server\")\n",
    "url = os.environ.get(\"EGERIA_VIEW_SERVER_URL\",\"https://host.docker.internal:9443\")\n",
    "user_id = os.environ.get(\"EGERIA_USER\", \"peterprofile\")\n",
    "user_pwd = os.environ.get(\"EGERIA_USER_PASSWORD\")\n",
    "\n",
    "from pyegeria import EgeriaTech\n",
    "import asyncio\n",
    "import nest_asyncio\n",
    "nest_asyncio.apply()\n",
    "\n",
    "from datetime import datetime\n",
    "\n",
    "egeria_tech = EgeriaTech(view_server, url, user_id, user_pwd)\n",
    "egeria_tech_token = egeria_tech.create_egeria_bearer_token()"
   ]
  },
  {
   "cell_type": "code",
   "execution_count": 11,
   "id": "ab11f094-b534-4163-bf34-bd50f8fde3dd",
   "metadata": {},
   "outputs": [
    {
     "name": "stdout",
     "output_type": "stream",
     "text": [
      "Known Archive Files:\n",
      "* /deployments/content-packs/SimpleAPICatalog.omarchive\n",
      "* /deployments/content-packs/SimpleCatalog.omarchive\n",
      "* /deployments/content-packs/SimpleEventCatalog.omarchive\n",
      "* /deployments/content-packs/CocoGovernanceEngineDefinitionsArchive.omarchive\n",
      "* /deployments/content-packs/CocoClinicalTrialsTemplatesArchive.omarchive\n",
      "* /deployments/content-packs/CocoComboArchive.omarchive\n",
      "* /deployments/content-packs/CocoGovernanceEngineDefinitionsArchive.omarchive\n",
      "* /deployments/content-packs/OpenMetadataTypes.omarchive\n",
      "* /deployments/content-packs/CocoGovernanceProgramArchive.omarchive\n",
      "* /deployments/content-packs/SimpleDataCatalog.omarchive\n",
      "* /deployments/content-packs/CocoTypesArchive.omarchive\n",
      "* /deployments/content-packs/CocoOrganizationArchive.omarchive\n",
      "* /deployments/content-packs/CocoSustainabilityArchive.omarchive\n",
      "* /deployments/content-packs/CloudInformationModel.omarchive\n",
      "* /deployments/content-packs/SimpleGovernanceCatalog.omarchive\n",
      "* /deployments/content-packs/CoreContentPack.omarchive\n",
      "* /deployments/content-packs/CocoBusinessSystemsArchive.omarchive\n"
     ]
    }
   ],
   "source": [
    "\n",
    "archiveList = egeria_tech.get_elements_by_property_value(\"omarchive\", [\"fileExtension\"], \"ArchiveFile\")\n",
    "if archiveList:\n",
    "    print(\"Known Archive Files:\")\n",
    "    for archiveFile in archiveList:\n",
    "        if archiveFile:\n",
    "            properties = archiveFile.get('properties')\n",
    "            if properties:\n",
    "               print(\"* \" + properties.get('pathName'))\n",
    "            "
   ]
  },
  {
   "cell_type": "markdown",
   "id": "a1772520-f97f-4db4-95df-891f88f6ede7",
   "metadata": {},
   "source": [
    "----\n",
    "\n",
    "A description of these content packs can be found in the [Egeria documentation](https://egeria-project.org/content-packs/).\n",
    "\n",
    "\n",
    "To load one of these archives, you need to choose a metadata access server where you want the metadata to be stored and then call the load function with the name of the archive.\n",
    "\n",
    "The code below lists the metadata access servers currently known to Egeria:\n",
    "\n",
    "----"
   ]
  },
  {
   "cell_type": "code",
   "execution_count": 12,
   "id": "1c1d35d6-babe-4e95-9de3-ef0bac821442",
   "metadata": {},
   "outputs": [
    {
     "name": "stdout",
     "output_type": "stream",
     "text": [
      "Known Metadata Access Servers:\n",
      "* simple-metadata-store (7a28acc2-a0b6-45a9-973d-2718fae3a87e) - A metadata store that supports Open Metadata Access Services (OMASs) without event notifications.\n",
      "* active-metadata-store (828a1280-9251-4509-b7d4-22f326690cec) - A metadata store that supports Open Metadata Access Services (OMASs) with event notifications.  It provides metadata to view-server, engine-host and integration-daemon.\n"
     ]
    }
   ],
   "source": [
    "serverList = egeria_tech.get_technology_type_elements(\"Metadata Access Server\")\n",
    "\n",
    "if serverList:\n",
    "    print(\"Known Metadata Access Servers:\")\n",
    "    for server in serverList:\n",
    "        if server:\n",
    "            guid=\"???\"\n",
    "            serverName=\"????\"\n",
    "            description=\"???????\"\n",
    "            elementHeader = server.get('elementHeader')\n",
    "            if elementHeader:\n",
    "                guid = elementHeader.get('guid')\n",
    "            properties = server.get('referenceableProperties')\n",
    "            if properties:\n",
    "                extendedProperties = properties.get('extendedProperties')\n",
    "                if extendedProperties:\n",
    "                    serverName=extendedProperties.get('resourceName')\n",
    "                    description=extendedProperties.get('description')\n",
    "            print(\"* \" + serverName + \" (\" + guid + \") - \" + description)\n",
    "            "
   ]
  },
  {
   "cell_type": "markdown",
   "id": "86b86609-7daf-458e-9fc4-63375e0316f8",
   "metadata": {},
   "source": [
    "----\n",
    "\n",
    "In the code below, the */deployments/content-packs/CocoComboArchive.omarchive* archive is loaded into the *active-metadata-server*.  It does not matter if the same archive is loaded multiple times.  This does not result in duplicate versons of the same element.\n",
    "\n",
    "-----"
   ]
  },
  {
   "cell_type": "code",
   "execution_count": 13,
   "id": "65a9a1e1-dd92-4fba-98ad-04df9d4c27af",
   "metadata": {},
   "outputs": [],
   "source": [
    "\n",
    "def get_server_guid(serverName):\n",
    "    serverDetails = egeria_tech.get_elements_by_property_value(serverName, [\"resourceName\"], \"SoftwareServer\")\n",
    "    if serverDetails:\n",
    "        elementHeader = serverDetails[0].get('elementHeader')\n",
    "        if elementHeader:\n",
    "            return elementHeader.get('guid')\n",
    "    return \"???\"\n",
    "            \n",
    "\n",
    "serverGUID = get_server_guid(\"active-metadata-store\")\n",
    "\n",
    "egeria_tech.add_archive_file(\"/deployments/content-packs/CocoComboArchive.omarchive\", serverGUID)\n"
   ]
  },
  {
   "cell_type": "markdown",
   "id": "0cc56a13-6a2a-46cd-a065-6437534c0de6",
   "metadata": {},
   "source": [
    "----\n",
    "\n",
    "There is no response, however the archive is loaded if it responds without an error.  If an error comes back indicating that there has been a time out, then the archive will continue to load in the server until it is complete.\n",
    "\n",
    "----"
   ]
  },
  {
   "cell_type": "code",
   "execution_count": null,
   "id": "75d05a58-8694-4100-932a-5fe1a49aba27",
   "metadata": {},
   "outputs": [],
   "source": []
  }
 ],
 "metadata": {
  "kernelspec": {
   "display_name": "Python 3 (ipykernel)",
   "language": "python",
   "name": "python3"
  },
  "language_info": {
   "codemirror_mode": {
    "name": "ipython",
    "version": 3
   },
   "file_extension": ".py",
   "mimetype": "text/x-python",
   "name": "python",
   "nbconvert_exporter": "python",
   "pygments_lexer": "ipython3",
   "version": "3.11.9"
  }
 },
 "nbformat": 4,
 "nbformat_minor": 5
}

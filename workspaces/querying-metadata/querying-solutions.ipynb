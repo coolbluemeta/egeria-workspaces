{
 "cells": [
  {
   "cell_type": "markdown",
   "id": "12293783-7a4d-488a-a712-7c149b8a0afc",
   "metadata": {},
   "source": [
    "<!-- SPDX-License-Identifier: CC-BY-4.0 -->\n",
    "<!-- Copyright Contributors to the ODPi Egeria project 2024. -->\n",
    "\n",
    "![Egeria Logo](https://raw.githubusercontent.com/odpi/egeria/main/assets/img/ODPi_Egeria_Logo_color.png)\n",
    "\n",
    "### Egeria Workbook\n",
    "\n",
    "# Querying solutions\n",
    "\n",
    "## Introduction"
   ]
  },
  {
   "cell_type": "code",
   "execution_count": null,
   "id": "102f1cbc-caed-43e2-bebf-79f8e37d8278",
   "metadata": {},
   "outputs": [],
   "source": [
    "# Initialize pyegeria\n",
    "\n",
    "%run ../pyegeria/initialize-pyegeria.ipynb"
   ]
  },
  {
   "cell_type": "code",
   "execution_count": null,
   "id": "1f504f5a-5713-426e-95e6-aae754d9d8c3",
   "metadata": {},
   "outputs": [],
   "source": [
    "egeria_tech = EgeriaTech(view_server, url, user_id, user_pwd)\n",
    "token = egeria_tech.create_egeria_bearer_token()"
   ]
  },
  {
   "cell_type": "code",
   "execution_count": null,
   "id": "5155be4f-c7db-4f08-a89d-b5df64aadabd",
   "metadata": {},
   "outputs": [],
   "source": [
    "egeria_tech.add_archive_file(\"content-packs/CocoComboArchive.omarchive\", None, \"Metadata Access Store::qs-metadata-store\")\n",
    "\n",
    "print(\"Archive loaded!\")"
   ]
  },
  {
   "cell_type": "code",
   "execution_count": null,
   "id": "bceebca6-d459-4955-b1d2-2fa6c4e540a7",
   "metadata": {},
   "outputs": [],
   "source": [
    "egeria_cat = EgeriaCat(view_server, url, user_id, user_pwd)\n",
    "egeria_cat.set_bearer_token(token)"
   ]
  },
  {
   "cell_type": "code",
   "execution_count": null,
   "id": "86192fe5-d51e-4b66-9664-826563c2e3fa",
   "metadata": {},
   "outputs": [],
   "source": [
    "\n",
    "print_information_supply_chains(egeria_tech, \"Treatment Validation\", add_implementation=True)\n"
   ]
  },
  {
   "cell_type": "code",
   "execution_count": null,
   "id": "fe2189e1-6699-4f3c-847f-2f6496784385",
   "metadata": {},
   "outputs": [],
   "source": [
    "\n",
    "print_information_supply_chains(egeria_tech, \"Sustainability Reporting\", add_implementation=False)\n"
   ]
  },
  {
   "cell_type": "code",
   "execution_count": null,
   "id": "d5289291-99f3-498e-b882-98eb8229babd",
   "metadata": {},
   "outputs": [],
   "source": [
    "\n",
    "print_information_supply_chains(egeria_tech, \"Sustainability Reporting\", add_implementation=True)\n"
   ]
  },
  {
   "cell_type": "code",
   "execution_count": null,
   "id": "5972ab93-5ab4-4f23-81a9-ee9efa865def",
   "metadata": {},
   "outputs": [],
   "source": [
    "\n",
    "print_information_supply_chains(egeria_tech, \"New Employee Onboarding\", add_implementation=True)\n"
   ]
  },
  {
   "cell_type": "code",
   "execution_count": null,
   "id": "59d17c81-fbbc-407e-be02-32f1df2ffe2f",
   "metadata": {},
   "outputs": [],
   "source": [
    "\n",
    "\n",
    "print_solution_blueprints(egeria_tech, \"Sustainability Reporting Solution Blueprint\")\n"
   ]
  },
  {
   "cell_type": "code",
   "execution_count": null,
   "id": "afccdcb5-25aa-452a-bf3d-ba3c16fb1d91",
   "metadata": {},
   "outputs": [],
   "source": [
    "\n",
    "print_solution_blueprints(egeria_tech, \"Clinical Trial Management Solution Blueprint\")\n"
   ]
  },
  {
   "cell_type": "code",
   "execution_count": null,
   "id": "c0932015-f56e-4538-921e-40f63b877a62",
   "metadata": {},
   "outputs": [],
   "source": [
    "\n",
    "print_solution_roles(egeria_tech, \"Clinical Trial Manager\")\n"
   ]
  },
  {
   "cell_type": "code",
   "execution_count": null,
   "id": "8687269c-06ec-4e8e-bfc9-8107e7987908",
   "metadata": {},
   "outputs": [],
   "source": [
    "\n",
    "print_solution_roles(egeria_tech, \"Clinical Trial Sponsor\")\n"
   ]
  },
  {
   "cell_type": "code",
   "execution_count": null,
   "id": "9b83cd49-3185-44b4-8164-d3806d703d17",
   "metadata": {},
   "outputs": [],
   "source": [
    "\n",
    "print_solution_components(egeria_tech, \"Set up clinical trial\")"
   ]
  },
  {
   "cell_type": "code",
   "execution_count": null,
   "id": "9d1b6acd-b151-4af2-9bcc-358dfaacf7c3",
   "metadata": {},
   "outputs": [],
   "source": [
    "\n",
    "print_solution_components(egeria_tech, \"Pipeline\")"
   ]
  },
  {
   "cell_type": "code",
   "execution_count": null,
   "id": "79264fb6-acb1-448c-960b-a97b58d23c9f",
   "metadata": {},
   "outputs": [],
   "source": []
  },
  {
   "cell_type": "code",
   "execution_count": null,
   "id": "b69bc7f0-9b14-49e8-b3d0-dfad63221491",
   "metadata": {},
   "outputs": [],
   "source": []
  },
  {
   "cell_type": "code",
   "execution_count": null,
   "id": "4ee43f83-4db1-4fd3-a995-254505bfdd3b",
   "metadata": {},
   "outputs": [],
   "source": []
  }
 ],
 "metadata": {
  "kernelspec": {
   "display_name": "Python 3 (ipykernel)",
   "language": "python",
   "name": "python3"
  },
  "language_info": {
   "codemirror_mode": {
    "name": "ipython",
    "version": 3
   },
   "file_extension": ".py",
   "mimetype": "text/x-python",
   "name": "python",
   "nbconvert_exporter": "python",
   "pygments_lexer": "ipython3",
   "version": "3.12.8"
  }
 },
 "nbformat": 4,
 "nbformat_minor": 5
}

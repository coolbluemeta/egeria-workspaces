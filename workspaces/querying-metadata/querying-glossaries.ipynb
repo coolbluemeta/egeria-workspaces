{
 "cells": [
  {
   "cell_type": "markdown",
   "id": "12293783-7a4d-488a-a712-7c149b8a0afc",
   "metadata": {},
   "source": [
    "<!-- SPDX-License-Identifier: CC-BY-4.0 -->\n",
    "<!-- Copyright Contributors to the ODPi Egeria project 2024. -->\n",
    "\n",
    "![Egeria Logo](https://raw.githubusercontent.com/odpi/egeria/main/assets/img/ODPi_Egeria_Logo_color.png)\n",
    "\n",
    "### Egeria Workbook\n",
    "\n",
    "# Querying glossaries\n",
    "\n",
    "## Introduction"
   ]
  },
  {
   "cell_type": "code",
   "execution_count": null,
   "id": "102f1cbc-caed-43e2-bebf-79f8e37d8278",
   "metadata": {},
   "outputs": [],
   "source": [
    "# Initialize pyegeria\n",
    "\n",
    "%run ../pyegeria/initialize-pyegeria.ipynb"
   ]
  },
  {
   "cell_type": "code",
   "execution_count": null,
   "id": "1f504f5a-5713-426e-95e6-aae754d9d8c3",
   "metadata": {},
   "outputs": [],
   "source": [
    "egeria_tech = EgeriaTech(view_server, url, user_id, user_pwd)\n",
    "token = egeria_tech.create_egeria_bearer_token()"
   ]
  },
  {
   "cell_type": "code",
   "execution_count": null,
   "id": "5155be4f-c7db-4f08-a89d-b5df64aadabd",
   "metadata": {},
   "outputs": [],
   "source": [
    "egeria_tech.add_archive_file(\"content-packs/CloudInformationModel.omarchive\", None, \"qs-metadata-store\")\n",
    "\n",
    "print(\"Archive loaded!\")"
   ]
  },
  {
   "cell_type": "code",
   "execution_count": null,
   "id": "0906a485-0a16-40f6-8ce1-ba128b999424",
   "metadata": {},
   "outputs": [],
   "source": [
    "egeria_tech.add_archive_file(\"content-packs/SimpleCatalog.omarchive\", None, \"qs-metadata-store\")\n",
    "\n",
    "print(\"Archive loaded!\")"
   ]
  },
  {
   "cell_type": "code",
   "execution_count": null,
   "id": "bceebca6-d459-4955-b1d2-2fa6c4e540a7",
   "metadata": {},
   "outputs": [],
   "source": [
    "egeria_cat = EgeriaCat(view_server, url, user_id, user_pwd)\n",
    "egeria_cat.set_bearer_token(token)"
   ]
  },
  {
   "cell_type": "code",
   "execution_count": null,
   "id": "f3d7a7ce-fba8-4186-8d90-a354e35e3821",
   "metadata": {},
   "outputs": [],
   "source": [
    "\n",
    "print_glossaries(egeria_tech, \"Glossary:CloudInformationModel\")\n"
   ]
  },
  {
   "cell_type": "code",
   "execution_count": null,
   "id": "eda866e0-6287-4500-93a7-2fa4dbb52cae",
   "metadata": {},
   "outputs": [],
   "source": [
    "\n",
    "print_glossary_categories(egeria_tech, \"Chemicals\")\n"
   ]
  },
  {
   "cell_type": "code",
   "execution_count": null,
   "id": "cd60d9ce-a108-4d86-9269-c81a64008f4d",
   "metadata": {},
   "outputs": [],
   "source": [
    "\n",
    "print_glossary_categories(egeria_tech, \"Party\")\n"
   ]
  },
  {
   "cell_type": "code",
   "execution_count": null,
   "id": "2bed32e5-72f4-4d06-ae48-0760c6abe774",
   "metadata": {},
   "outputs": [],
   "source": [
    "\n",
    "print_glossary_terms(egeria_tech, \"Party Role\")\n"
   ]
  },
  {
   "cell_type": "code",
   "execution_count": null,
   "id": "1fdca8bc-46fd-4eed-81be-0f5066139e3a",
   "metadata": {},
   "outputs": [],
   "source": [
    "\n",
    "print_glossary_terms(egeria_tech, \"Angle\")\n"
   ]
  },
  {
   "cell_type": "code",
   "execution_count": null,
   "id": "72adfed5-ee3c-4729-903d-0f4e0e688b32",
   "metadata": {},
   "outputs": [],
   "source": [
    "\n",
    "print_glossary_terms(egeria_tech, \"CustomerId\")\n"
   ]
  },
  {
   "cell_type": "code",
   "execution_count": null,
   "id": "4d52e28e-1694-400d-86c5-2f8c49a2c71e",
   "metadata": {},
   "outputs": [],
   "source": []
  }
 ],
 "metadata": {
  "kernelspec": {
   "display_name": "Python 3 (ipykernel)",
   "language": "python",
   "name": "python3"
  },
  "language_info": {
   "codemirror_mode": {
    "name": "ipython",
    "version": 3
   },
   "file_extension": ".py",
   "mimetype": "text/x-python",
   "name": "python",
   "nbconvert_exporter": "python",
   "pygments_lexer": "ipython3",
   "version": "3.12.8"
  }
 },
 "nbformat": 4,
 "nbformat_minor": 5
}

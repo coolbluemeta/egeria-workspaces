{
 "cells": [
  {
   "cell_type": "markdown",
   "id": "12293783-7a4d-488a-a712-7c149b8a0afc",
   "metadata": {},
   "source": [
    "<!-- SPDX-License-Identifier: CC-BY-4.0 -->\n",
    "<!-- Copyright Contributors to the ODPi Egeria project 2024. -->\n",
    "\n",
    "![Egeria Logo](https://raw.githubusercontent.com/odpi/egeria/main/assets/img/ODPi_Egeria_Logo_color.png)\n",
    "\n",
    "### Egeria Workbook\n",
    "\n",
    "# Querying metadata\n",
    "\n",
    "## Introduction"
   ]
  },
  {
   "cell_type": "code",
   "execution_count": null,
   "id": "102f1cbc-caed-43e2-bebf-79f8e37d8278",
   "metadata": {},
   "outputs": [],
   "source": [
    "# Initialize pyegeria\n",
    "\n",
    "%run ../pyegeria/initialize-pyegeria.ipynb"
   ]
  },
  {
   "cell_type": "code",
   "execution_count": null,
   "id": "1f504f5a-5713-426e-95e6-aae754d9d8c3",
   "metadata": {},
   "outputs": [],
   "source": [
    "egeria_tech = EgeriaTech(view_server, url, user_id, user_pwd)\n",
    "token = egeria_tech.create_egeria_bearer_token()"
   ]
  },
  {
   "cell_type": "code",
   "execution_count": null,
   "id": "b6b58367-b977-4bce-bbc4-1bdc1550bbd1",
   "metadata": {},
   "outputs": [],
   "source": [
    "                \n",
    "print_asset_graph(egeria_tech, \"View Server::qs-view-server\")"
   ]
  },
  {
   "cell_type": "code",
   "execution_count": null,
   "id": "5155be4f-c7db-4f08-a89d-b5df64aadabd",
   "metadata": {},
   "outputs": [],
   "source": [
    "egeria_tech.add_archive_file(\"content-packs/CocoComboArchive.omarchive\", None, \"qs-metadata-store\")\n",
    "\n",
    "print(\"Archive loaded!\")"
   ]
  },
  {
   "cell_type": "code",
   "execution_count": null,
   "id": "bceebca6-d459-4955-b1d2-2fa6c4e540a7",
   "metadata": {},
   "outputs": [],
   "source": [
    "egeria_cat = EgeriaCat(view_server, url, user_id, user_pwd)\n",
    "egeria_cat.set_bearer_token(token)"
   ]
  },
  {
   "cell_type": "code",
   "execution_count": null,
   "id": "6b312bed-7bbc-4358-818c-8d900f228c9f",
   "metadata": {},
   "outputs": [],
   "source": [
    "search_results = egeria_cat.find_in_asset_domain(\"Apache Kafka\")\n",
    "\n",
    "print_search_results(search_results)"
   ]
  },
  {
   "cell_type": "code",
   "execution_count": null,
   "id": "5b114c9b-1849-43ed-84ec-4cbfbd3c5759",
   "metadata": {},
   "outputs": [],
   "source": [
    "\n",
    "print_asset_graph(egeria_tech, \"System::coco-sus\")\n"
   ]
  },
  {
   "cell_type": "code",
   "execution_count": null,
   "id": "85746fe6-9880-481f-bad1-886b0aca1836",
   "metadata": {},
   "outputs": [],
   "source": [
    "\n",
    "print_asset_lineage_graph(egeria_tech, \"System::coco-sus\")\n"
   ]
  },
  {
   "cell_type": "code",
   "execution_count": null,
   "id": "f3d7a7ce-fba8-4186-8d90-a354e35e3821",
   "metadata": {},
   "outputs": [],
   "source": [
    "\n",
    "print_asset_lineage_graph(egeria_tech, \"Data File Collection::Validated Incoming Weekly Measurements for the Teddy Bear Drop Foot Clinical Trial.\")\n"
   ]
  },
  {
   "cell_type": "code",
   "execution_count": null,
   "id": "eda866e0-6287-4500-93a7-2fa4dbb52cae",
   "metadata": {},
   "outputs": [],
   "source": [
    "\n",
    "print_asset_graph(egeria_tech, \"Data File Collection::Validated Incoming Weekly Measurements for the Teddy Bear Drop Foot Clinical Trial.\")\n"
   ]
  },
  {
   "cell_type": "code",
   "execution_count": null,
   "id": "2bed32e5-72f4-4d06-ae48-0760c6abe774",
   "metadata": {},
   "outputs": [],
   "source": [
    "\n",
    "print_asset_graph(egeria_tech, \"Data File Collection::Validated Incoming Weekly Measurements for the Teddy Bear Drop Foot Clinical Trial.\")\n"
   ]
  },
  {
   "cell_type": "code",
   "execution_count": null,
   "id": "3ffca085-147b-41f4-b831-fe10fbce7d0f",
   "metadata": {},
   "outputs": [],
   "source": [
    "\n",
    "print_asset_lineage_edge_graph(egeria_tech, \"System::coco-sus\")\n"
   ]
  },
  {
   "cell_type": "code",
   "execution_count": null,
   "id": "4f394197-8bdf-4ec0-9a58-a2d270020161",
   "metadata": {},
   "outputs": [],
   "source": [
    "\n",
    "print_asset_lineage_graph(egeria_tech, \"System::coco-sus\", limit_to_isc_qualified_name=\"InformationSupplyChain::Sustainability Reporting\")\n"
   ]
  },
  {
   "cell_type": "code",
   "execution_count": null,
   "id": "14e49f18-1c70-40f9-a503-83657ea033e8",
   "metadata": {},
   "outputs": [],
   "source": [
    "\n",
    "print_asset_lineage_graph(egeria_tech, \"System::coco-sus\", hilight_isc_qualified_name=\"InformationSupplyChain::Sustainability Reporting\")\n"
   ]
  },
  {
   "cell_type": "code",
   "execution_count": null,
   "id": "6456a5f2-b2df-4a89-b494-b7b5abd62b25",
   "metadata": {},
   "outputs": [],
   "source": [
    "\n",
    "print_asset_lineage_graph(egeria_tech, \"System::coco-sus\", hilight_isc_qualified_name=\"InformationSupplyChain:Personalized Treatment Ordering\")\n"
   ]
  },
  {
   "cell_type": "code",
   "execution_count": null,
   "id": "27a96e50-777a-4678-8302-f3d606320b44",
   "metadata": {},
   "outputs": [],
   "source": [
    "# This is the network location used to call the Unity Catalog Server.\n",
    "# For Unity Catalog running on your local machine, use:\n",
    "#   * \"http://localhost\" if Egeria is also running natively on your local machine, or\n",
    "#   * \"http://host.docker.internal\" if Egeria is running in a docker image.\n",
    "#\n",
    "hostURL=\"http://localhost\"\n",
    "#hostURL=\"http://host.docker.internal\"\n",
    "portNumber=\"8087\"\n",
    "\n",
    "serverNetworkAddress=hostURL + \":\" + portNumber\n",
    "\n",
    "unity_default_qualified_name=\"Unity Catalog Schema::\" + serverNetworkAddress + \"::unity.default\"\n",
    "\n",
    "print_asset_lineage_graph(egeria_tech,unity_default_qualified_name)"
   ]
  },
  {
   "cell_type": "code",
   "execution_count": null,
   "id": "e2be05a3-ab21-4bf6-9068-edeb7b5adffd",
   "metadata": {},
   "outputs": [],
   "source": []
  }
 ],
 "metadata": {
  "kernelspec": {
   "display_name": "Python 3 (ipykernel)",
   "language": "python",
   "name": "python3"
  },
  "language_info": {
   "codemirror_mode": {
    "name": "ipython",
    "version": 3
   },
   "file_extension": ".py",
   "mimetype": "text/x-python",
   "name": "python",
   "nbconvert_exporter": "python",
   "pygments_lexer": "ipython3",
   "version": "3.12.8"
  }
 },
 "nbformat": 4,
 "nbformat_minor": 5
}

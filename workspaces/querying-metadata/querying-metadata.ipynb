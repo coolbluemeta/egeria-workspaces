{
 "cells": [
  {
   "cell_type": "markdown",
   "id": "12293783-7a4d-488a-a712-7c149b8a0afc",
   "metadata": {},
   "source": [
    "<!-- SPDX-License-Identifier: CC-BY-4.0 -->\n",
    "<!-- Copyright Contributors to the ODPi Egeria project 2024. -->\n",
    "\n",
    "![Egeria Logo](https://raw.githubusercontent.com/odpi/egeria/main/assets/img/ODPi_Egeria_Logo_color.png)\n",
    "\n",
    "### Egeria Workbook\n",
    "\n",
    "# Querying metadata\n",
    "\n",
    "## Introduction"
   ]
  },
  {
   "cell_type": "code",
   "execution_count": null,
   "id": "102f1cbc-caed-43e2-bebf-79f8e37d8278",
   "metadata": {},
   "outputs": [],
   "source": [
    "# Initialize pyegeria\n",
    "\n",
    "%run ../pyegeria/initialize-pyegeria.ipynb"
   ]
  },
  {
   "cell_type": "code",
   "execution_count": null,
   "id": "1f504f5a-5713-426e-95e6-aae754d9d8c3",
   "metadata": {},
   "outputs": [],
   "source": [
    "egeria_tech = EgeriaTech(view_server, url, user_id, user_pwd)\n",
    "token = egeria_tech.create_egeria_bearer_token()"
   ]
  },
  {
   "cell_type": "code",
   "execution_count": null,
   "id": "1b2bf1c3-4028-47b6-9426-e9c1526d98ea",
   "metadata": {},
   "outputs": [],
   "source": [
    "def print_asset_graph(unique_name):\n",
    "    guid=egeria_tech.get_element_guid_by_unique_name(unique_name)\n",
    "    if guid == \"No elements found\":\n",
    "        print(guid)\n",
    "    else:\n",
    "        graph_response = egeria_tech.get_asset_graph(guid)\n",
    "        if graph_response:\n",
    "            asset_graph = graph_response.get('mermaidGraph')\n",
    "            if asset_graph:\n",
    "                render_mermaid(asset_graph)"
   ]
  },
  {
   "cell_type": "code",
   "execution_count": null,
   "id": "b6b58367-b977-4bce-bbc4-1bdc1550bbd1",
   "metadata": {},
   "outputs": [],
   "source": [
    "                \n",
    "print_asset_graph(\"View Server:qs-view-server\")"
   ]
  },
  {
   "cell_type": "code",
   "execution_count": null,
   "id": "5155be4f-c7db-4f08-a89d-b5df64aadabd",
   "metadata": {},
   "outputs": [],
   "source": [
    "egeria_tech.add_archive_file(\"content-packs/CocoComboArchive.omarchive\", None, \"qs-metadata-store\")\n",
    "\n",
    "print(\"Archive loaded!\")"
   ]
  },
  {
   "cell_type": "code",
   "execution_count": null,
   "id": "bceebca6-d459-4955-b1d2-2fa6c4e540a7",
   "metadata": {},
   "outputs": [],
   "source": [
    "egeria_cat = EgeriaCat(view_server, url, user_id, user_pwd)\n",
    "egeria_cat.set_bearer_token(token)"
   ]
  },
  {
   "cell_type": "code",
   "execution_count": null,
   "id": "6b312bed-7bbc-4358-818c-8d900f228c9f",
   "metadata": {},
   "outputs": [],
   "source": [
    "search_results = egeria_cat.find_in_asset_domain(\"coco-sus\")\n",
    "\n",
    "print_search_results(search_results)"
   ]
  },
  {
   "cell_type": "code",
   "execution_count": null,
   "id": "5b114c9b-1849-43ed-84ec-4cbfbd3c5759",
   "metadata": {},
   "outputs": [],
   "source": [
    "\n",
    "print_asset_graph(\"System:coco-sus\")\n"
   ]
  },
  {
   "cell_type": "code",
   "execution_count": null,
   "id": "85746fe6-9880-481f-bad1-886b0aca1836",
   "metadata": {},
   "outputs": [],
   "source": [
    "\n",
    "def print_asset_lineage_graph(unique_name):\n",
    "    guid=egeria_tech.get_element_guid_by_unique_name(unique_name)\n",
    "    if guid == \"No elements found\":\n",
    "        print(guid)\n",
    "    else:\n",
    "        graph_response = egeria_tech.get_asset_lineage_graph(guid)\n",
    "        if graph_response:\n",
    "            asset_graph = graph_response.get('mermaidGraph')\n",
    "            if asset_graph:\n",
    "                render_mermaid(asset_graph)\n",
    "\n",
    "                \n",
    "print_asset_lineage_graph(\"System:coco-sus\")\n"
   ]
  },
  {
   "cell_type": "code",
   "execution_count": null,
   "id": "64842737-2261-44d0-9203-ca3da5091861",
   "metadata": {},
   "outputs": [],
   "source": []
  },
  {
   "cell_type": "code",
   "execution_count": null,
   "id": "d39a8234-2cbe-409a-be47-65a7c5b2df49",
   "metadata": {},
   "outputs": [],
   "source": [
    "\n",
    "def print_information_supply_chains(search_string):\n",
    "    information_supply_chains=egeria_tech.find_information_supply_chains(search_string)\n",
    "    if information_supply_chains:\n",
    "        if information_supply_chains == \"No Elements Found\":\n",
    "            print(information_supply_chains)\n",
    "        else: \n",
    "            for information_supply_chain in information_supply_chains:\n",
    "                if information_supply_chain:\n",
    "                    print(information_supply_chain)\n",
    "                    isc_graph = information_supply_chain.get('mermaidGraph')\n",
    "                    if isc_graph:\n",
    "                        render_mermaid(isc_graph)\n",
    "\n",
    "print_information_supply_chains(\"Personalized\")"
   ]
  },
  {
   "cell_type": "code",
   "execution_count": null,
   "id": "86192fe5-d51e-4b66-9664-826563c2e3fa",
   "metadata": {},
   "outputs": [],
   "source": [
    "\n",
    "print_information_supply_chains(\"Clinical\")\n"
   ]
  },
  {
   "cell_type": "code",
   "execution_count": null,
   "id": "fe2189e1-6699-4f3c-847f-2f6496784385",
   "metadata": {},
   "outputs": [],
   "source": [
    "\n",
    "print_information_supply_chains(\"Sustainability Reporting\")\n"
   ]
  },
  {
   "cell_type": "code",
   "execution_count": null,
   "id": "59d17c81-fbbc-407e-be02-32f1df2ffe2f",
   "metadata": {},
   "outputs": [],
   "source": [
    "\n",
    "def print_solution_blueprints(search_string):\n",
    "    solution_blueprints=egeria_tech.find_solution_blueprints(search_string)\n",
    "    if solution_blueprints:\n",
    "        if solution_blueprints == \"No Elements Found\":\n",
    "            print(solution_blueprints)\n",
    "        else:\n",
    "            for solution_blueprint in solution_blueprints:\n",
    "                if solution_blueprint:\n",
    "                    blueprint_graph = solution_blueprint.get('mermaidGraph')\n",
    "                    if blueprint_graph:\n",
    "                        render_mermaid(blueprint_graph)\n",
    "\n",
    "print_solution_blueprints(\"Sustainability Reporting Solution Blueprint\")\n"
   ]
  },
  {
   "cell_type": "code",
   "execution_count": null,
   "id": "afccdcb5-25aa-452a-bf3d-ba3c16fb1d91",
   "metadata": {},
   "outputs": [],
   "source": [
    "print_solution_blueprints(\"Clinical Trial Management Solution Blueprint\")"
   ]
  },
  {
   "cell_type": "code",
   "execution_count": null,
   "id": "c0932015-f56e-4538-921e-40f63b877a62",
   "metadata": {},
   "outputs": [],
   "source": [
    "\n",
    "def print_solution_roles(search_string):\n",
    "    solution_roles=egeria_tech.find_solution_roles(search_string)\n",
    "    if solution_roles:\n",
    "        if solution_roles == \"No Elements Found\":\n",
    "            print(solution_roles)\n",
    "        else:\n",
    "            for solution_role in solution_roles:\n",
    "                if solution_role:\n",
    "                    role_graph = solution_role.get('mermaidGraph')\n",
    "                    if role_graph:\n",
    "                        render_mermaid(role_graph)\n",
    "\n",
    "print_solution_roles(\"Clinical Trial Manager\")\n"
   ]
  },
  {
   "cell_type": "code",
   "execution_count": null,
   "id": "9b83cd49-3185-44b4-8164-d3806d703d17",
   "metadata": {},
   "outputs": [],
   "source": [
    "\n",
    "def print_solution_components(search_string):\n",
    "    solution_components=egeria_tech.find_solution_components(search_string)\n",
    "    if solution_components:\n",
    "        if solution_components == \"No Elements Found\":\n",
    "            print(solution_components)\n",
    "        else:\n",
    "            for solution_component in solution_components:\n",
    "                if solution_component:\n",
    "                    component_graph = solution_component.get('mermaidGraph')\n",
    "                    if component_graph:\n",
    "                        render_mermaid(component_graph)\n",
    "\n",
    "print_solution_components(\"Pipeline\")"
   ]
  },
  {
   "cell_type": "code",
   "execution_count": null,
   "id": "268a95c7-83bc-4ca9-bdfc-c188b1fbff17",
   "metadata": {},
   "outputs": [],
   "source": [
    "mermaid_graph = \"---\\ntitle: Solution Component - Weekly Measurements Onboarding Pipeline [7f5dca65-50b4-4103-9ac7-3a406a09047a]\\n---\\nflowchart TD\\n%%{init: {\\\"flowchart\\\": {\\\"htmlLabels\\\": false}} }%%\\n\\nae59e361-2888-4c26-96f9-a098c082ac5e@{ shape: text, label: \\\"*Description*\\n**Move landing area files to data lake, catalog files in data lake with lineage from the landing area and validate/certify that the data contains valid values.  The cataloguing includes lineage, retention, origin, governance zones.  The quality validation survey will add a certification to the file asset if the data contains valid values.**\\\"}\\n7f5dca65-50b4-4103-9ac7-3a406a09047a@{ shape: subproc, label: \\\"*Solution Component*\\n**Weekly Measurements Onboarding Pipeline**\\\"}\\n07705e15-efff-4f80-8992-f04ac85e0ef1@{ shape: rect, label: \\\"*Solution Component*\\n**Landing Folder Cataloguer**\\\"}\\n07705e15-efff-4f80-8992-f04ac85e0ef1==>|\\\"request onboarding,\\n[Solution Linking Wire]\\\"|7f5dca65-50b4-4103-9ac7-3a406a09047a\\na5d4d638-6836-47e5-99d0-fdcde637e13f@{ shape: rect, label: \\\"*Solution Component*\\n**Weekly Measurements Data Lake Folder**\\\"}\\n7f5dca65-50b4-4103-9ac7-3a406a09047a==>|\\\"save new files,\\n[Solution Linking Wire]\\\"|a5d4d638-6836-47e5-99d0-fdcde637e13f\\nf37f3735-28a1-4e03-9ff5-3fe2f137f661@{ shape: trap-t, label: \\\"*Solution Actor Role*\\n**Clinical Trial Manager**\\\"}\\nf37f3735-28a1-4e03-9ff5-3fe2f137f661==>|\\\"Steward\\\"|7f5dca65-50b4-4103-9ac7-3a406a09047a\\nb0290339-c96c-4b05-904f-12fc98e54e14@{ shape: trap-t, label: \\\"*Solution Actor Role*\\n**Certified Data Engineer**\\\"}\\nb0290339-c96c-4b05-904f-12fc98e54e14==>|\\\"Steward\\\"|7f5dca65-50b4-4103-9ac7-3a406a09047a\\n04ae768e-3816-47bc-bddb-c9ae25018684@{ shape: hex, label: \\\"*Information Supply Chain Segment*\\n**Hospital Delivers Patient Weekly Readings**\\\"}\\n04ae768e-3816-47bc-bddb-c9ae25018684==>|\\\"InformationSupplyChainLink\\\"|7f5dca65-50b4-4103-9ac7-3a406a09047a\\n1f71e403-1187-4f03-a1dd-ae7dc105f06f@{ shape: flip-tri, label: \\\"*Information Supply Chain*\\n**Clinical Trial Treatment Validation**\\\"}\\n1f71e403-1187-4f03-a1dd-ae7dc105f06f==>|\\\"InformationSupplyChainComposition\\\"|04ae768e-3816-47bc-bddb-c9ae25018684\\nstyle f37f3735-28a1-4e03-9ff5-3fe2f137f661 color:#FFFFFF, fill:#AA00FF, stroke:#E1D5E7\\nstyle b0290339-c96c-4b05-904f-12fc98e54e14 color:#FFFFFF, fill:#AA00FF, stroke:#E1D5E7\\nstyle 1f71e403-1187-4f03-a1dd-ae7dc105f06f color:#FFFFFF, fill:#004563, stroke:#b7c0c7\\nstyle ae59e361-2888-4c26-96f9-a098c082ac5e color:#000000, fill:#F9F7ED, stroke:#b7c0c7\\nstyle 04ae768e-3816-47bc-bddb-c9ae25018684 color:#004563, fill:#b7c0c7, stroke:#004563\\nstyle 7f5dca65-50b4-4103-9ac7-3a406a09047a color:#FFFFFF, fill:#838cc7, stroke:#3079ab\\nstyle 07705e15-efff-4f80-8992-f04ac85e0ef1 color:#FFFFFF, fill:#838cc7, stroke:#3079ab\\nstyle a5d4d638-6836-47e5-99d0-fdcde637e13f color:#FFFFFF, fill:#838cc7, stroke:#3079ab\\n\"\n",
    "\n",
    "print(mermaid_graph)"
   ]
  },
  {
   "cell_type": "code",
   "execution_count": null,
   "id": "15b8c6ab-5fc1-47b5-b177-fe92088359d7",
   "metadata": {},
   "outputs": [],
   "source": []
  }
 ],
 "metadata": {
  "kernelspec": {
   "display_name": "Python 3 (ipykernel)",
   "language": "python",
   "name": "python3"
  },
  "language_info": {
   "codemirror_mode": {
    "name": "ipython",
    "version": 3
   },
   "file_extension": ".py",
   "mimetype": "text/x-python",
   "name": "python",
   "nbconvert_exporter": "python",
   "pygments_lexer": "ipython3",
   "version": "3.12.8"
  }
 },
 "nbformat": 4,
 "nbformat_minor": 5
}

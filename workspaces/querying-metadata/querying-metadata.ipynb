{
 "cells": [
  {
   "cell_type": "markdown",
   "id": "12293783-7a4d-488a-a712-7c149b8a0afc",
   "metadata": {},
   "source": [
    "<!-- SPDX-License-Identifier: CC-BY-4.0 -->\n",
    "<!-- Copyright Contributors to the ODPi Egeria project 2024. -->\n",
    "\n",
    "![Egeria Logo](https://raw.githubusercontent.com/odpi/egeria/main/assets/img/ODPi_Egeria_Logo_color.png)\n",
    "\n",
    "### Egeria Workbook\n",
    "\n",
    "# Querying metadata\n",
    "\n",
    "## Introduction"
   ]
  },
  {
   "cell_type": "code",
   "execution_count": null,
   "id": "102f1cbc-caed-43e2-bebf-79f8e37d8278",
   "metadata": {},
   "outputs": [],
   "source": [
    "# Initialize pyegeria\n",
    "\n",
    "%run ../pyegeria/initialize-pyegeria.ipynb"
   ]
  },
  {
   "cell_type": "code",
   "execution_count": null,
   "id": "1f504f5a-5713-426e-95e6-aae754d9d8c3",
   "metadata": {},
   "outputs": [],
   "source": [
    "egeria_tech = EgeriaTech(view_server, url, user_id, user_pwd)\n",
    "token = egeria_tech.create_egeria_bearer_token()"
   ]
  },
  {
   "cell_type": "code",
   "execution_count": null,
   "id": "5155be4f-c7db-4f08-a89d-b5df64aadabd",
   "metadata": {},
   "outputs": [],
   "source": [
    "egeria_tech.add_archive_file(\"content-packs/CocoComboArchive.omarchive\", None, \"qs-metadata-store\")\n",
    "\n",
    "print(\"Archive loaded!\")"
   ]
  },
  {
   "cell_type": "code",
   "execution_count": null,
   "id": "2274be74-2ff9-45a7-9ab5-38fb7f3bcdcd",
   "metadata": {},
   "outputs": [],
   "source": [
    "\n",
    "asset_graph = egeria_tech.get_asset_lineage_mermaid_graph(\"8a578f0d-f7ae-4255-b4a5-236241fa5449\")\n",
    "\n",
    "print(asset_graph)\n",
    "render_mermaid(asset_graph)\n"
   ]
  },
  {
   "cell_type": "code",
   "execution_count": null,
   "id": "0c695e60-23cd-4292-9b0b-93da8ff7f60e",
   "metadata": {},
   "outputs": [],
   "source": [
    "\n",
    "guid=egeria_tech.get_element_guid_by_unique_name(\"View Server:qs-view-server\")\n",
    "\n",
    "print(guid)\n",
    "\n",
    "graph_response = egeria_tech.get_asset_graph(guid)\n",
    "\n",
    "if graph_response:\n",
    "    asset_graph = graph_response.get('mermaidGraph')\n",
    "    if asset_graph:\n",
    "        print(asset_graph)\n",
    "        render_mermaid(asset_graph)\n"
   ]
  },
  {
   "cell_type": "code",
   "execution_count": null,
   "id": "bceebca6-d459-4955-b1d2-2fa6c4e540a7",
   "metadata": {},
   "outputs": [],
   "source": [
    "egeria_cat = EgeriaCat(view_server, url, user_id, user_pwd)\n",
    "egeria_cat.set_bearer_token(token)"
   ]
  },
  {
   "cell_type": "code",
   "execution_count": null,
   "id": "6b312bed-7bbc-4358-818c-8d900f228c9f",
   "metadata": {},
   "outputs": [],
   "source": [
    "search_results = egeria_cat.find_in_asset_domain(\"coco-sus\")\n",
    "\n",
    "print_search_results(search_results)"
   ]
  },
  {
   "cell_type": "code",
   "execution_count": null,
   "id": "d39a8234-2cbe-409a-be47-65a7c5b2df49",
   "metadata": {},
   "outputs": [],
   "source": []
  },
  {
   "cell_type": "code",
   "execution_count": null,
   "id": "59d17c81-fbbc-407e-be02-32f1df2ffe2f",
   "metadata": {},
   "outputs": [],
   "source": []
  }
 ],
 "metadata": {
  "kernelspec": {
   "display_name": "Python 3 (ipykernel)",
   "language": "python",
   "name": "python3"
  },
  "language_info": {
   "codemirror_mode": {
    "name": "ipython",
    "version": 3
   },
   "file_extension": ".py",
   "mimetype": "text/x-python",
   "name": "python",
   "nbconvert_exporter": "python",
   "pygments_lexer": "ipython3",
   "version": "3.12.8"
  }
 },
 "nbformat": 4,
 "nbformat_minor": 5
}

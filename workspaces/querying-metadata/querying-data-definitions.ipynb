{
 "cells": [
  {
   "cell_type": "markdown",
   "id": "12293783-7a4d-488a-a712-7c149b8a0afc",
   "metadata": {},
   "source": [
    "<!-- SPDX-License-Identifier: CC-BY-4.0 -->\n",
    "<!-- Copyright Contributors to the ODPi Egeria project 2024. -->\n",
    "\n",
    "![Egeria Logo](https://raw.githubusercontent.com/odpi/egeria/main/assets/img/ODPi_Egeria_Logo_color.png)\n",
    "\n",
    "### Egeria Workbook\n",
    "\n",
    "# Querying data definitions\n",
    "\n",
    "## Introduction"
   ]
  },
  {
   "cell_type": "code",
   "execution_count": 14,
   "id": "102f1cbc-caed-43e2-bebf-79f8e37d8278",
   "metadata": {
    "execution": {
     "iopub.execute_input": "2025-05-17T20:49:03.078423Z",
     "iopub.status.busy": "2025-05-17T20:49:03.077263Z",
     "iopub.status.idle": "2025-05-17T20:49:03.107394Z",
     "shell.execute_reply": "2025-05-17T20:49:03.106957Z",
     "shell.execute_reply.started": "2025-05-17T20:49:03.078363Z"
    }
   },
   "outputs": [
    {
     "data": {
      "text/html": [
       "\n",
       "    <script src=\"https://unpkg.com/mermaid@11.6.0/dist/mermaid.min.js\"></script>\n",
       "    <script>\n",
       "        document.addEventListener('DOMContentLoaded', function() {\n",
       "            mermaid.initialize({startOnLoad: true},\n",
       "            {maxTextSize: 300000});\n",
       "        });\n",
       "    </script>\n",
       "\n",
       "    "
      ],
      "text/plain": [
       "<IPython.core.display.HTML object>"
      ]
     },
     "metadata": {},
     "output_type": "display_data"
    }
   ],
   "source": [
    "# Initialize pyegeria\n",
    "\n",
    "%run ../pyegeria/initialize-pyegeria.ipynb"
   ]
  },
  {
   "cell_type": "code",
   "execution_count": 15,
   "id": "1f504f5a-5713-426e-95e6-aae754d9d8c3",
   "metadata": {
    "execution": {
     "iopub.execute_input": "2025-05-17T20:49:03.525752Z",
     "iopub.status.busy": "2025-05-17T20:49:03.525531Z",
     "iopub.status.idle": "2025-05-17T20:49:03.704608Z",
     "shell.execute_reply": "2025-05-17T20:49:03.703981Z",
     "shell.execute_reply.started": "2025-05-17T20:49:03.525738Z"
    }
   },
   "outputs": [],
   "source": [
    "egeria_tech = EgeriaTech(view_server, url, user_id, user_pwd)\n",
    "token = egeria_tech.create_egeria_bearer_token()"
   ]
  },
  {
   "cell_type": "code",
   "execution_count": 3,
   "id": "5155be4f-c7db-4f08-a89d-b5df64aadabd",
   "metadata": {
    "execution": {
     "iopub.execute_input": "2025-05-17T15:40:52.710325Z",
     "iopub.status.busy": "2025-05-17T15:40:52.710006Z",
     "iopub.status.idle": "2025-05-17T15:41:04.015891Z",
     "shell.execute_reply": "2025-05-17T15:41:04.014983Z",
     "shell.execute_reply.started": "2025-05-17T15:40:52.710307Z"
    }
   },
   "outputs": [
    {
     "name": "stdout",
     "output_type": "stream",
     "text": [
      "Archive loaded!\n"
     ]
    }
   ],
   "source": [
    "egeria_tech.add_archive_file(\"content-packs/CloudInformationModel.omarchive\", None, \"qs-metadata-store\")\n",
    "\n",
    "print(\"Archive loaded!\")"
   ]
  },
  {
   "cell_type": "code",
   "execution_count": 4,
   "id": "0b92932e-88ee-4514-a37f-5c7d4f862df1",
   "metadata": {
    "execution": {
     "iopub.execute_input": "2025-05-17T15:41:04.947812Z",
     "iopub.status.busy": "2025-05-17T15:41:04.947390Z",
     "iopub.status.idle": "2025-05-17T15:41:06.331691Z",
     "shell.execute_reply": "2025-05-17T15:41:06.330848Z",
     "shell.execute_reply.started": "2025-05-17T15:41:04.947784Z"
    }
   },
   "outputs": [
    {
     "name": "stdout",
     "output_type": "stream",
     "text": [
      "Archive loaded!\n"
     ]
    }
   ],
   "source": [
    "egeria_tech.add_archive_file(\"content-packs/CocoComboArchive.omarchive\", None, \"qs-metadata-store\")\n",
    "\n",
    "print(\"Archive loaded!\")"
   ]
  },
  {
   "cell_type": "code",
   "execution_count": 5,
   "id": "f3d7a7ce-fba8-4186-8d90-a354e35e3821",
   "metadata": {
    "execution": {
     "iopub.execute_input": "2025-05-17T15:41:07.369940Z",
     "iopub.status.busy": "2025-05-17T15:41:07.368991Z",
     "iopub.status.idle": "2025-05-17T15:41:07.529602Z",
     "shell.execute_reply": "2025-05-17T15:41:07.528990Z",
     "shell.execute_reply.started": "2025-05-17T15:41:07.369902Z"
    }
   },
   "outputs": [
    {
     "ename": "AttributeError",
     "evalue": "'EgeriaTech' object has no attribute 'get_collection_graph'",
     "output_type": "error",
     "traceback": [
      "\u001b[0;31m---------------------------------------------------------------------------\u001b[0m",
      "\u001b[0;31mAttributeError\u001b[0m                            Traceback (most recent call last)",
      "Cell \u001b[0;32mIn[5], line 1\u001b[0m\n\u001b[0;32m----> 1\u001b[0m \u001b[43mprint_collections\u001b[49m\u001b[43m(\u001b[49m\u001b[43megeria_tech\u001b[49m\u001b[43m,\u001b[49m\u001b[43m \u001b[49m\u001b[38;5;124;43m\"\u001b[39;49m\u001b[38;5;124;43mCloudInformationModel\u001b[39;49m\u001b[38;5;124;43m\"\u001b[39;49m\u001b[43m)\u001b[49m\n",
      "File \u001b[0;32m/tmp/ipykernel_87333/3630581967.py:12\u001b[0m, in \u001b[0;36mprint_collections\u001b[0;34m(egeria_tech, search_string)\u001b[0m\n\u001b[1;32m     10\u001b[0m \u001b[38;5;28;01mif\u001b[39;00m collection:\n\u001b[1;32m     11\u001b[0m     collection_guid \u001b[38;5;241m=\u001b[39m collection[\u001b[38;5;124m'\u001b[39m\u001b[38;5;124melementHeader\u001b[39m\u001b[38;5;124m'\u001b[39m][\u001b[38;5;124m'\u001b[39m\u001b[38;5;124mguid\u001b[39m\u001b[38;5;124m'\u001b[39m]\n\u001b[0;32m---> 12\u001b[0m     collection_graph \u001b[38;5;241m=\u001b[39m \u001b[43megeria_tech\u001b[49m\u001b[38;5;241;43m.\u001b[39;49m\u001b[43mget_collection_graph\u001b[49m(collection_guid)\n\u001b[1;32m     13\u001b[0m     \u001b[38;5;28;01mif\u001b[39;00m collection_graph:\n\u001b[1;32m     14\u001b[0m         \u001b[38;5;28;01mif\u001b[39;00m \u001b[38;5;28mtype\u001b[39m(collection_graph) \u001b[38;5;241m==\u001b[39m \u001b[38;5;28mstr\u001b[39m:\n",
      "\u001b[0;31mAttributeError\u001b[0m: 'EgeriaTech' object has no attribute 'get_collection_graph'"
     ]
    }
   ],
   "source": [
    "\n",
    "print_collections(egeria_tech, \"CloudInformationModel\")\n"
   ]
  },
  {
   "cell_type": "code",
   "execution_count": 13,
   "id": "4d52e28e-1694-400d-86c5-2f8c49a2c71e",
   "metadata": {
    "execution": {
     "iopub.execute_input": "2025-05-17T20:48:28.792640Z",
     "iopub.status.busy": "2025-05-17T20:48:28.792227Z",
     "iopub.status.idle": "2025-05-17T20:48:28.803632Z",
     "shell.execute_reply": "2025-05-17T20:48:28.802416Z",
     "shell.execute_reply.started": "2025-05-17T20:48:28.792610Z"
    }
   },
   "outputs": [
    {
     "name": "stdout",
     "output_type": "stream",
     "text": [
      "---\n",
      "title: Data Field - Related Party Role [33439003-55a6-3ee8-a8d8-b653017ec168]\n",
      "---\n",
      "flowchart TD\n",
      "%%{init: {\"flowchart\": {\"htmlLabels\": false}} }%%\n",
      "\n",
      "1@{ shape: text, label: \"*Description*\n",
      "**What is the secondary party role this relation involves**\"}\n",
      "2@{ shape: rect, label: \"*Data Field*\n",
      "**Related Party Role**\"}\n",
      "3@{ shape: rect, label: \"*Data Field*\n",
      "**Party Relationship Type**\"}\n",
      "3==>|\"[0] 1..*\"|2\n",
      "style 1 color:#000000, fill:#F9F7ED, stroke:#b7c0c7\n",
      "style 2 color:#000000, fill:#ffe3cc, stroke:#f9845b\n",
      "style 3 color:#000000, fill:#ffe3cc, stroke:#f9845b\n",
      "\n"
     ]
    },
    {
     "data": {
      "text/html": [
       "\n",
       "    <div>\n",
       "                <h3 id=\"mermaid-graph-33439003-55a6-3ee8-a8d8-b653017ec168-9bc8-heading\" style=\"margin: 20px 0; font-size: 1.5em; text-align: center;\">\n",
       "                    Data Field - Related Party Role \n",
       "                </h3>\n",
       "                <p id=\"mermaid-graph-33439003-55a6-3ee8-a8d8-b653017ec168-9bc8-subheading\" style=\"margin: 0; padding: 5px; font-size: 1em; text-align: center; color: gray; flex: 0 0 auto;\">\n",
       "                    GUID: 33439003-55a6-3ee8-a8d8-b653017ec168\n",
       "                </p>\n",
       "                </div>\n",
       "    <div class=\"mermaid\">\n",
       "        flowchart TD\n",
       "%%{init: {&quot;flowchart&quot;: {&quot;htmlLabels&quot;: false}} }%%\n",
       "\n",
       "1@{ shape: text, label: &quot;*Description*\n",
       "**What is the secondary party role this relation involves**&quot;}\n",
       "2@{ shape: rect, label: &quot;*Data Field*\n",
       "**Related Party Role**&quot;}\n",
       "3@{ shape: rect, label: &quot;*Data Field*\n",
       "**Party Relationship Type**&quot;}\n",
       "3==&gt;|&quot;[0] 1..*&quot;|2\n",
       "style 1 color:#000000, fill:#F9F7ED, stroke:#b7c0c7\n",
       "style 2 color:#000000, fill:#ffe3cc, stroke:#f9845b\n",
       "style 3 color:#000000, fill:#ffe3cc, stroke:#f9845b\n",
       "    </div>\n",
       "    <script type=\"text/javascript\">\n",
       "        if (window.mermaid) {\n",
       "    mermaid.initialize({startOnLoad: true});\n",
       "    mermaid.contentLoaded();\n",
       "    }\n",
       "    </script>\n",
       "    "
      ],
      "text/plain": [
       "<IPython.core.display.HTML object>"
      ]
     },
     "metadata": {},
     "output_type": "display_data"
    }
   ],
   "source": [
    "mermaid_graph=\"---\\ntitle: Data Field - Related Party Role [33439003-55a6-3ee8-a8d8-b653017ec168]\\n---\\nflowchart TD\\n%%{init: {\\\"flowchart\\\": {\\\"htmlLabels\\\": false}} }%%\\n\\n1@{ shape: text, label: \\\"*Description*\\n**What is the secondary party role this relation involves**\\\"}\\n2@{ shape: rect, label: \\\"*Data Field*\\n**Related Party Role**\\\"}\\n3@{ shape: rect, label: \\\"*Data Field*\\n**Party Relationship Type**\\\"}\\n3==>|\\\"[0] 1..*\\\"|2\\nstyle 1 color:#000000, fill:#F9F7ED, stroke:#b7c0c7\\nstyle 2 color:#000000, fill:#ffe3cc, stroke:#f9845b\\nstyle 3 color:#000000, fill:#ffe3cc, stroke:#f9845b\\n\"\n",
    "\n",
    "print(mermaid_graph)\n",
    "render_mermaid(mermaid_graph)"
   ]
  },
  {
   "cell_type": "code",
   "execution_count": 16,
   "id": "7463b543-eb8d-42da-8f3a-5c4808284683",
   "metadata": {
    "execution": {
     "iopub.execute_input": "2025-05-17T20:49:37.337380Z",
     "iopub.status.busy": "2025-05-17T20:49:37.337212Z",
     "iopub.status.idle": "2025-05-17T20:49:37.516317Z",
     "shell.execute_reply": "2025-05-17T20:49:37.515466Z",
     "shell.execute_reply.started": "2025-05-17T20:49:37.337370Z"
    }
   },
   "outputs": [
    {
     "ename": "InvalidParameterException",
     "evalue": "A client-side error 400 20: 49: 37 was received by method _async_find_data_fields from API call Client during the call https://host.docker.internal:9443/servers/qs-view-server/api/open-metadata/data-designer/data-fields/by-search-string?startFrom=0&pageSize=500&startsWith=<built-in method lower of str object at 0xaaaaade72950>&endsWith=false&ignoreCase=true. The error message was CLIENT-SIDE-REST-API-CONNECTOR-503-002",
     "output_type": "error",
     "traceback": [
      "\u001b[0;31m---------------------------------------------------------------------------\u001b[0m",
      "\u001b[0;31mInvalidParameterException\u001b[0m                 Traceback (most recent call last)",
      "Cell \u001b[0;32mIn[16], line 1\u001b[0m\n\u001b[0;32m----> 1\u001b[0m \u001b[43mprint_data_fields\u001b[49m\u001b[43m(\u001b[49m\u001b[43megeria_tech\u001b[49m\u001b[43m,\u001b[49m\u001b[43m \u001b[49m\u001b[38;5;124;43m\"\u001b[39;49m\u001b[38;5;124;43mParty Role\u001b[39;49m\u001b[38;5;124;43m\"\u001b[39;49m\u001b[43m)\u001b[49m\n",
      "File \u001b[0;32m/tmp/ipykernel_87333/1251651077.py:17\u001b[0m, in \u001b[0;36mprint_data_fields\u001b[0;34m(egeria_tech, search_string)\u001b[0m\n\u001b[1;32m     16\u001b[0m \u001b[38;5;28;01mdef\u001b[39;00m\u001b[38;5;250m \u001b[39m\u001b[38;5;21mprint_data_fields\u001b[39m(egeria_tech, search_string):\n\u001b[0;32m---> 17\u001b[0m     data_fields\u001b[38;5;241m=\u001b[39m\u001b[43megeria_tech\u001b[49m\u001b[38;5;241;43m.\u001b[39;49m\u001b[43mfind_data_fields\u001b[49m\u001b[43m(\u001b[49m\u001b[43msearch_string\u001b[49m\u001b[43m)\u001b[49m\n\u001b[1;32m     18\u001b[0m     \u001b[38;5;28;01mif\u001b[39;00m data_fields:\n\u001b[1;32m     19\u001b[0m         \u001b[38;5;28;01mif\u001b[39;00m \u001b[38;5;28mtype\u001b[39m(data_fields) \u001b[38;5;241m==\u001b[39m \u001b[38;5;28mstr\u001b[39m:\n",
      "File \u001b[0;32m/opt/conda/lib/python3.12/site-packages/pyegeria/data_designer_omvs.py:2526\u001b[0m, in \u001b[0;36mDataDesigner.find_data_fields\u001b[0;34m(self, filter, start_from, page_size, starts_with, ends_with, ignore_case, output_format)\u001b[0m\n\u001b[1;32m   2488\u001b[0m \u001b[38;5;250m    \u001b[39m\u001b[38;5;124;03m\"\"\" Retrieve the list of data fields elements that contain the search string filter.\u001b[39;00m\n\u001b[1;32m   2489\u001b[0m \n\u001b[1;32m   2490\u001b[0m \u001b[38;5;124;03m    Parameters\u001b[39;00m\n\u001b[0;32m   (...)\u001b[0m\n\u001b[1;32m   2522\u001b[0m \n\u001b[1;32m   2523\u001b[0m \u001b[38;5;124;03m\"\"\"\u001b[39;00m\n\u001b[1;32m   2525\u001b[0m     loop \u001b[38;5;241m=\u001b[39m asyncio\u001b[38;5;241m.\u001b[39mget_event_loop()\n\u001b[0;32m-> 2526\u001b[0m     response \u001b[38;5;241m=\u001b[39m \u001b[43mloop\u001b[49m\u001b[38;5;241;43m.\u001b[39;49m\u001b[43mrun_until_complete\u001b[49m\u001b[43m(\u001b[49m\n\u001b[1;32m   2527\u001b[0m \u001b[43m        \u001b[49m\u001b[38;5;28;43mself\u001b[39;49m\u001b[38;5;241;43m.\u001b[39;49m\u001b[43m_async_find_data_fields\u001b[49m\u001b[43m(\u001b[49m\u001b[38;5;28;43mfilter\u001b[39;49m\u001b[43m,\u001b[49m\u001b[43m \u001b[49m\u001b[43mstart_from\u001b[49m\u001b[43m,\u001b[49m\u001b[43m \u001b[49m\u001b[43mpage_size\u001b[49m\u001b[43m,\u001b[49m\u001b[43m \u001b[49m\u001b[43mstarts_with\u001b[49m\u001b[43m,\u001b[49m\u001b[43m \u001b[49m\u001b[43mends_with\u001b[49m\u001b[43m,\u001b[49m\u001b[43m \u001b[49m\u001b[43mignore_case\u001b[49m\u001b[43m,\u001b[49m\n\u001b[1;32m   2528\u001b[0m \u001b[43m                                     \u001b[49m\u001b[43moutput_format\u001b[49m\u001b[43m)\u001b[49m\u001b[43m)\u001b[49m\n\u001b[1;32m   2529\u001b[0m     \u001b[38;5;28;01mreturn\u001b[39;00m response\n",
      "File \u001b[0;32m/opt/conda/lib/python3.12/site-packages/nest_asyncio.py:98\u001b[0m, in \u001b[0;36m_patch_loop.<locals>.run_until_complete\u001b[0;34m(self, future)\u001b[0m\n\u001b[1;32m     95\u001b[0m \u001b[38;5;28;01mif\u001b[39;00m \u001b[38;5;129;01mnot\u001b[39;00m f\u001b[38;5;241m.\u001b[39mdone():\n\u001b[1;32m     96\u001b[0m     \u001b[38;5;28;01mraise\u001b[39;00m \u001b[38;5;167;01mRuntimeError\u001b[39;00m(\n\u001b[1;32m     97\u001b[0m         \u001b[38;5;124m'\u001b[39m\u001b[38;5;124mEvent loop stopped before Future completed.\u001b[39m\u001b[38;5;124m'\u001b[39m)\n\u001b[0;32m---> 98\u001b[0m \u001b[38;5;28;01mreturn\u001b[39;00m \u001b[43mf\u001b[49m\u001b[38;5;241;43m.\u001b[39;49m\u001b[43mresult\u001b[49m\u001b[43m(\u001b[49m\u001b[43m)\u001b[49m\n",
      "File \u001b[0;32m/opt/conda/lib/python3.12/asyncio/futures.py:202\u001b[0m, in \u001b[0;36mFuture.result\u001b[0;34m(self)\u001b[0m\n\u001b[1;32m    200\u001b[0m \u001b[38;5;28mself\u001b[39m\u001b[38;5;241m.\u001b[39m__log_traceback \u001b[38;5;241m=\u001b[39m \u001b[38;5;28;01mFalse\u001b[39;00m\n\u001b[1;32m    201\u001b[0m \u001b[38;5;28;01mif\u001b[39;00m \u001b[38;5;28mself\u001b[39m\u001b[38;5;241m.\u001b[39m_exception \u001b[38;5;129;01mis\u001b[39;00m \u001b[38;5;129;01mnot\u001b[39;00m \u001b[38;5;28;01mNone\u001b[39;00m:\n\u001b[0;32m--> 202\u001b[0m     \u001b[38;5;28;01mraise\u001b[39;00m \u001b[38;5;28mself\u001b[39m\u001b[38;5;241m.\u001b[39m_exception\u001b[38;5;241m.\u001b[39mwith_traceback(\u001b[38;5;28mself\u001b[39m\u001b[38;5;241m.\u001b[39m_exception_tb)\n\u001b[1;32m    203\u001b[0m \u001b[38;5;28;01mreturn\u001b[39;00m \u001b[38;5;28mself\u001b[39m\u001b[38;5;241m.\u001b[39m_result\n",
      "File \u001b[0;32m/opt/conda/lib/python3.12/asyncio/tasks.py:314\u001b[0m, in \u001b[0;36mTask.__step_run_and_handle_result\u001b[0;34m(***failed resolving arguments***)\u001b[0m\n\u001b[1;32m    310\u001b[0m \u001b[38;5;28;01mtry\u001b[39;00m:\n\u001b[1;32m    311\u001b[0m     \u001b[38;5;28;01mif\u001b[39;00m exc \u001b[38;5;129;01mis\u001b[39;00m \u001b[38;5;28;01mNone\u001b[39;00m:\n\u001b[1;32m    312\u001b[0m         \u001b[38;5;66;03m# We use the `send` method directly, because coroutines\u001b[39;00m\n\u001b[1;32m    313\u001b[0m         \u001b[38;5;66;03m# don't have `__iter__` and `__next__` methods.\u001b[39;00m\n\u001b[0;32m--> 314\u001b[0m         result \u001b[38;5;241m=\u001b[39m \u001b[43mcoro\u001b[49m\u001b[38;5;241;43m.\u001b[39;49m\u001b[43msend\u001b[49m\u001b[43m(\u001b[49m\u001b[38;5;28;43;01mNone\u001b[39;49;00m\u001b[43m)\u001b[49m\n\u001b[1;32m    315\u001b[0m     \u001b[38;5;28;01melse\u001b[39;00m:\n\u001b[1;32m    316\u001b[0m         result \u001b[38;5;241m=\u001b[39m coro\u001b[38;5;241m.\u001b[39mthrow(exc)\n",
      "File \u001b[0;32m/opt/conda/lib/python3.12/site-packages/pyegeria/data_designer_omvs.py:2476\u001b[0m, in \u001b[0;36mDataDesigner._async_find_data_fields\u001b[0;34m(self, filter, start_from, page_size, starts_with, ends_with, ignore_case, output_format)\u001b[0m\n\u001b[1;32m   2469\u001b[0m possible_query_params \u001b[38;5;241m=\u001b[39m query_string(\n\u001b[1;32m   2470\u001b[0m     [(\u001b[38;5;124m\"\u001b[39m\u001b[38;5;124mstartFrom\u001b[39m\u001b[38;5;124m\"\u001b[39m, start_from), (\u001b[38;5;124m\"\u001b[39m\u001b[38;5;124mpageSize\u001b[39m\u001b[38;5;124m\"\u001b[39m, page_size), (\u001b[38;5;124m\"\u001b[39m\u001b[38;5;124mstartsWith\u001b[39m\u001b[38;5;124m\"\u001b[39m, \u001b[38;5;28mstr\u001b[39m(starts_with)\u001b[38;5;241m.\u001b[39mlower),\n\u001b[1;32m   2471\u001b[0m      (\u001b[38;5;124m\"\u001b[39m\u001b[38;5;124mendsWith\u001b[39m\u001b[38;5;124m\"\u001b[39m, \u001b[38;5;28mstr\u001b[39m(ends_with)\u001b[38;5;241m.\u001b[39mlower()), (\u001b[38;5;124m\"\u001b[39m\u001b[38;5;124mignoreCase\u001b[39m\u001b[38;5;124m\"\u001b[39m, \u001b[38;5;28mstr\u001b[39m(ignore_case)\u001b[38;5;241m.\u001b[39mlower()), ])\n\u001b[1;32m   2473\u001b[0m url \u001b[38;5;241m=\u001b[39m (\u001b[38;5;124mf\u001b[39m\u001b[38;5;124m\"\u001b[39m\u001b[38;5;132;01m{\u001b[39;00mbase_path(\u001b[38;5;28mself\u001b[39m,\u001b[38;5;250m \u001b[39m\u001b[38;5;28mself\u001b[39m\u001b[38;5;241m.\u001b[39mview_server)\u001b[38;5;132;01m}\u001b[39;00m\u001b[38;5;124m/data-fields/by-search-string\u001b[39m\u001b[38;5;124m\"\u001b[39m\n\u001b[1;32m   2474\u001b[0m        \u001b[38;5;124mf\u001b[39m\u001b[38;5;124m\"\u001b[39m\u001b[38;5;132;01m{\u001b[39;00mpossible_query_params\u001b[38;5;132;01m}\u001b[39;00m\u001b[38;5;124m\"\u001b[39m)\n\u001b[0;32m-> 2476\u001b[0m response: Response \u001b[38;5;241m=\u001b[39m \u001b[38;5;28;01mawait\u001b[39;00m \u001b[38;5;28mself\u001b[39m\u001b[38;5;241m.\u001b[39m_async_make_request(\u001b[38;5;124m\"\u001b[39m\u001b[38;5;124mPOST\u001b[39m\u001b[38;5;124m\"\u001b[39m, url, body_slimmer(body))\n\u001b[1;32m   2478\u001b[0m elements \u001b[38;5;241m=\u001b[39m response\u001b[38;5;241m.\u001b[39mjson()\u001b[38;5;241m.\u001b[39mget(\u001b[38;5;124m\"\u001b[39m\u001b[38;5;124melements\u001b[39m\u001b[38;5;124m\"\u001b[39m, NO_ELEMENTS_FOUND)\n\u001b[1;32m   2479\u001b[0m \u001b[38;5;28;01mif\u001b[39;00m \u001b[38;5;28mtype\u001b[39m(elements) \u001b[38;5;129;01mis\u001b[39;00m \u001b[38;5;28mstr\u001b[39m:\n",
      "File \u001b[0;32m/opt/conda/lib/python3.12/site-packages/pyegeria/_client.py:517\u001b[0m, in \u001b[0;36mClient._async_make_request\u001b[0;34m(self, request_type, endpoint, payload, time_out)\u001b[0m\n\u001b[1;32m    515\u001b[0m         \u001b[38;5;28;01mraise\u001b[39;00m UserNotAuthorizedException(exc_msg)\n\u001b[1;32m    516\u001b[0m     \u001b[38;5;28;01melse\u001b[39;00m:\n\u001b[0;32m--> 517\u001b[0m         \u001b[38;5;28;01mraise\u001b[39;00m InvalidParameterException(exc_msg)\n\u001b[1;32m    519\u001b[0m \u001b[38;5;28;01melif\u001b[39;00m response\u001b[38;5;241m.\u001b[39mstatus_code \u001b[38;5;129;01min\u001b[39;00m (\u001b[38;5;241m500\u001b[39m, \u001b[38;5;241m501\u001b[39m, \u001b[38;5;241m502\u001b[39m, \u001b[38;5;241m503\u001b[39m, \u001b[38;5;241m504\u001b[39m):\n\u001b[1;32m    520\u001b[0m     \u001b[38;5;66;03m# server errors\u001b[39;00m\n\u001b[1;32m    521\u001b[0m     msg \u001b[38;5;241m=\u001b[39m (\n\u001b[1;32m    522\u001b[0m         OMAGCommonErrorCode\u001b[38;5;241m.\u001b[39mEXCEPTION_RESPONSE_FROM_API\u001b[38;5;241m.\u001b[39mvalue[\n\u001b[1;32m    523\u001b[0m             \u001b[38;5;124m\"\u001b[39m\u001b[38;5;124mmessage_template\u001b[39m\u001b[38;5;124m\"\u001b[39m\n\u001b[0;32m   (...)\u001b[0m\n\u001b[1;32m    534\u001b[0m         \u001b[38;5;241m+\u001b[39m \u001b[38;5;124m\"\u001b[39m\u001b[38;5;124m'\u001b[39m\u001b[38;5;124m\"\u001b[39m\n\u001b[1;32m    535\u001b[0m     )\n",
      "\u001b[0;31mInvalidParameterException\u001b[0m: A client-side error 400 20: 49: 37 was received by method _async_find_data_fields from API call Client during the call https://host.docker.internal:9443/servers/qs-view-server/api/open-metadata/data-designer/data-fields/by-search-string?startFrom=0&pageSize=500&startsWith=<built-in method lower of str object at 0xaaaaade72950>&endsWith=false&ignoreCase=true. The error message was CLIENT-SIDE-REST-API-CONNECTOR-503-002"
     ]
    }
   ],
   "source": [
    "print_data_fields(egeria_tech, \"Party Role\")"
   ]
  },
  {
   "cell_type": "code",
   "execution_count": null,
   "id": "4d67343f-57bb-4825-aedc-3165519fae5e",
   "metadata": {},
   "outputs": [],
   "source": []
  }
 ],
 "metadata": {
  "kernelspec": {
   "display_name": "Python 3 (ipykernel)",
   "language": "python",
   "name": "python3"
  },
  "language_info": {
   "codemirror_mode": {
    "name": "ipython",
    "version": 3
   },
   "file_extension": ".py",
   "mimetype": "text/x-python",
   "name": "python",
   "nbconvert_exporter": "python",
   "pygments_lexer": "ipython3",
   "version": "3.12.8"
  }
 },
 "nbformat": 4,
 "nbformat_minor": 5
}

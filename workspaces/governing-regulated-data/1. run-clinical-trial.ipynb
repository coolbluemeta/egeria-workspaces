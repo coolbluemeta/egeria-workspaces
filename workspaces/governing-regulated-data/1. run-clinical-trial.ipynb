{
 "cells": [
  {
   "cell_type": "markdown",
   "id": "c93ae5dc-3253-44c5-be86-7f33b492c0ea",
   "metadata": {},
   "source": [
    "![Egeria Logo](https://raw.githubusercontent.com/odpi/egeria/main/assets/img/ODPi_Egeria_Logo_color.png)\n",
    "\n",
    "### Egeria Coco Lab\n",
    "\n",
    "# Setting Up A Clinical Trial\n",
    "\n",
    "## Introduction\n",
    "\n",
    "Clinical trials are used to test that new treatments are both safe and effective.  They involve taking measurements from various patients both before and after they start the treatment.\n",
    "\n",
    "The data comes in from a variety of hospitals.  It is personally sensitive to the patients, of importance to the business, and subject to regulatory control and so care is needed that:\n",
    "\n",
    "* it has been collected correctly\n",
    "* it is protected at all times\n",
    "* the correct data sharing agreements are in place to provide legal cover, both for the hospitals and Coco Pharmaceuticals.\n",
    "\n",
    "We look at this process from the perspective of\n",
    "\n",
    "1. The **business (clinical research)** who manage the clinical trial.  Tessa Tube is Coco Pharmaceutical's Chief Research Officer. She commissions any new trial, sets out the requirements and objectives for the study.  Tanya Tidie is responsible for the administration of the clinical trial.  She organizaes the data sharing agreements with the hospitals and monitors the progress to ensure all of the evidence is in place to show to the regulators.\n",
    "   \n",
    "2. The **data engineer** who sets up the data pipelines. Peter Profile is responsible for selecting the Unity Catalog that will protect the data from the clinical trial, setting up a schema and volume for the weekly measurements data in that catalog and, as the hospitals complete their registration into the clinical trail, activate the landing area and onboarding pipeline for data fro mthe hospital.\n",
    "\n",
    "3. The **data scientist** who analyses the resulting data.  Callie Quartile is the data scientist who has to locate, access and analyse the data.  She needs to be sure the data is of sufficient quality and she has the right permissions to perform the type of analysis she wants.\n",
    "   \n",
    "<figure style=\"margin-left: 0%; display:inline-block;\">\n",
    "<img src=\"https://raw.githubusercontent.com/odpi/egeria-docs/main/site/docs/practices/coco-pharmaceuticals/personas/tessa-tube.png\">\n",
    "<figcaption style=\"margin-left: 15%;\"><strong>Tessa Tube</strong></figcaption>\n",
    "</figure>\n",
    "    \n",
    "<figure style=\"margin-left: 7%; display:inline-block;\">\n",
    "<img src=\"https://raw.githubusercontent.com/odpi/egeria-docs/main/site/docs/practices/coco-pharmaceuticals/personas/tanya-tidie.png\">\n",
    "<figcaption style=\"margin-left: 15%;\"><strong>Tanya Tidie</strong></figcaption>\n",
    "</figure>\n",
    "\n",
    "<figure style=\"margin-left: 7%; display:inline-block;\">\n",
    "<img src=\"https://raw.githubusercontent.com/odpi/egeria-docs/main/site/docs/practices/coco-pharmaceuticals/personas/peter-profile.png\">\n",
    "<figcaption style=\"margin-left: 15%;\"><strong>Peter Profile</strong></figcaption>\n",
    "</figure>\n",
    "\n",
    "<figure style=\"margin-left: 7%; display:inline-block;\">\n",
    "<img src=\"https://raw.githubusercontent.com/odpi/egeria-docs/main/site/docs/practices/coco-pharmaceuticals/personas/callie-quartile.png\">\n",
    "<figcaption style=\"margin-left: 15%;\"><strong>Callie Quartile</strong></figcaption>\n",
    "</figure>\n",
    "\n",
    "\n",
    "----\n",
    "## Checking environment set up\n",
    "\n",
    "Lets get started by initializing the python interface to Egeria - pyegeria.\n",
    "\n",
    "----"
   ]
  },
  {
   "cell_type": "code",
   "execution_count": null,
   "id": "cf4ae0ed-32cb-420f-9499-f0139e1fd19f",
   "metadata": {},
   "outputs": [],
   "source": [
    "# Initialize pyegeria\n",
    "\n",
    "%run ../pyegeria/initialize-pyegeria.ipynb\n",
    "\n",
    "from datetime import datetime\n"
   ]
  },
  {
   "cell_type": "markdown",
   "id": "dc69a439-80d2-4fe3-8bd2-236449e9a2e8",
   "metadata": {},
   "source": [
    "----\n",
    "\n",
    "The code below creates a client to validate the set up.  It is necessary to have the unity catalog integration connectors actively cataloguing Unity Catalog and the specialized governance engines for Coco Pharmaceuticals up and running.  This is achieved by running the HTTP Client collection called `AddCocoMetadataToQuickStartServers.http` and run the notebook [Survey and Catalog Unity Catalog](../cataloguing-and-surveys/unity-catalog/survey-and-catalog-uc.ipynb).\n",
    "\n",
    "----"
   ]
  },
  {
   "cell_type": "code",
   "execution_count": null,
   "id": "9325fc82-7592-47ac-b204-34ddd22ab07b",
   "metadata": {},
   "outputs": [],
   "source": [
    "user_id = \"erinoverview\"\n",
    "egeria_client = EgeriaTech(view_server, url, user_id, user_pwd)\n",
    "token = egeria_client.create_egeria_bearer_token()"
   ]
  },
  {
   "cell_type": "markdown",
   "id": "6088164e-0d10-425d-8887-6464ce5b6553",
   "metadata": {},
   "source": [
    "----\n",
    "\n",
    "This content pack contains the definitions of the Coco Pharmaceuticals organization.\n",
    "\n",
    "----"
   ]
  },
  {
   "cell_type": "code",
   "execution_count": null,
   "id": "43c9a4f1-8e8e-4b35-a7d2-241b1efbea70",
   "metadata": {},
   "outputs": [],
   "source": [
    "\n",
    "egeria_client.add_archive_file(\"content-packs/CocoComboArchive.omarchive\", None, \"qs-metadata-store\")\n",
    "\n",
    "print(\"CocoComboArchive loaded!\")\n"
   ]
  },
  {
   "cell_type": "markdown",
   "id": "242e84d9-8de0-44b3-9ac8-e8d1611fcd59",
   "metadata": {},
   "source": [
    "----\n",
    "\n",
    "The next archive loads the PostgreSQL templates used when deploying the pipelines for the clinical trials.\n",
    "\n",
    "----"
   ]
  },
  {
   "cell_type": "code",
   "execution_count": null,
   "id": "9493da57-e418-473e-8d21-5a4a05b4bb07",
   "metadata": {},
   "outputs": [],
   "source": [
    "\n",
    "egeria_client.add_archive_file(\"content-packs/PostgresContentPack.omarchive\", None, \"qs-metadata-store\")\n",
    "\n",
    "print(\"PostgresContentPack loaded!\")\n"
   ]
  },
  {
   "cell_type": "markdown",
   "id": "ff85540b-67c3-4794-844b-1d73af0bcb23",
   "metadata": {},
   "source": [
    "----\n",
    "\n",
    "Check that these governance engines that support the clinical trial are running ... \n",
    "\n",
    "----"
   ]
  },
  {
   "cell_type": "code",
   "execution_count": null,
   "id": "38335e3c-f739-4d57-955c-89e8c3d127e7",
   "metadata": {},
   "outputs": [],
   "source": [
    "display_gov_eng_status(['AssetOnboarding','AssetQuality@CocoPharmaceuticals','ClinicalTrials@CocoPharmaceuticals','UnityCatalogGovernance','UnityCatalogSurvey'],\n",
    "                       status_filter=[\"*\"],\n",
    "                       engine_host = 'qs-engine-host',  view_server = 'qs-view-server',\n",
    "                       paging = True, jupyter = True,width = 170,sort = True)"
   ]
  },
  {
   "cell_type": "markdown",
   "id": "5d0b179b-2c48-449c-84a1-7e47355cca33",
   "metadata": {},
   "source": [
    "----\n",
    "\n",
    "A PostgreSQL database is used by the data scientist as part of their analysis of the data from the clinical trial.\n",
    "\n",
    "----"
   ]
  },
  {
   "cell_type": "code",
   "execution_count": null,
   "id": "ec1cf912-8477-47df-acfc-7038d0e47926",
   "metadata": {
    "scrolled": true
   },
   "outputs": [],
   "source": [
    "# Set up the details of the PostgreSQL Server - check localhost is correct wrt where the OMAG Server PLatform is runnng.\n",
    "## Use \"localhost\" if the OMAG Server Platform is runing natively; use \"host.docker.internal\" if the OMAG Server Plaform is running in docker (default)\n",
    "\n",
    "postgres_host_identifier=\"localhost\"\n",
    "#postgres_host_identifier=\"host.docker.internal\"\n",
    "\n",
    "postgres_port_number=\"5432\"\n",
    "#postgres_port_number=\"5442\"\n",
    "postgres_database_name=\"clinical_trials\"\n",
    "\n",
    "postgres_server_name=\"LocalPostgreSQL1\"\n",
    "postgres_secrets_collection_name = \"PostgreSQL Server:LocalPostgreSQL1\"\n",
    "secrets_store_path_name = \"loading-bay/secrets/default.omsecrets\"\n"
   ]
  },
  {
   "cell_type": "markdown",
   "id": "bc8e2c0d-b22b-44c1-a093-872f2ef0a565",
   "metadata": {},
   "source": [
    "----\n",
    "\n",
    "Data is received into the Coco Data Lake.  This is protected by multiple deployments of Unity Catalog Server one at each site with different types of storage attached.\n",
    "\n",
    "A Unity Catalog Server can contain multiple catalogs.  The code below assumes that you have a Unity Catalog Server running that is catalogued as `Unity Catalog 1` and there is a catalog within it called `clinical_trials`.  The **Unity Catalog Survey and Catalog Workbook** will set this up.  You can change the names if you like.\n",
    "\n",
    "----"
   ]
  },
  {
   "cell_type": "code",
   "execution_count": null,
   "id": "ba95c685-2299-445e-a673-af90b783ab14",
   "metadata": {},
   "outputs": [],
   "source": [
    "# Set up the details of the Unity Catalog Server - check localhost is correct wrt where the OMAG Server PLatform is runnng.\n",
    "## Use \"http://localhost:8087\" if the OMAG Server Platform is runing natively; use \"http://host.docker.internal:8087\" if the OMAG Server Plaform is running in docker (default)\n",
    "\n",
    "uc_server_url=\"http://localhost:8087\"\n",
    "#uc_server_url=\"http://host.docker.internal:8087\"\n",
    "\n",
    "# Catalog name used by all clinical trials - set up in AddCocoMetadataToQuickStartServers.http\n",
    "catalog_name=\"clinical_trials\"\n",
    "\n",
    "# If all is well, a goud should be returned for the catalog, indicating that \n",
    "catalog_guid=egeria_client.get_element_guid_by_unique_name(\"Unity Catalog Catalog::\" + uc_server_url + \"::\" + catalog_name)\n",
    "print(catalog_guid)"
   ]
  },
  {
   "cell_type": "markdown",
   "id": "d9165bd3-c2c9-46c7-95db-ccaafec2fdd6",
   "metadata": {},
   "source": [
    "-----\n",
    "\n",
    "The next set of variables allow this notebook to run in different environments.  If you are using the standard quickstart environment then there is no need to change these values.\n",
    "\n",
    "-----"
   ]
  },
  {
   "cell_type": "code",
   "execution_count": null,
   "id": "635eac6e-de86-4f60-96bb-a757f3bd5812",
   "metadata": {},
   "outputs": [],
   "source": [
    "\n",
    "tessas_user_id = \"tessatube\"\n",
    "tessas_view_server=view_server\n",
    "tessas_view_server_url=url\n",
    "tessas_user_pwd = os.environ.get(\"EGERIA_USER_PASSWORD\")\n",
    "\n",
    "tanyas_user_id = \"tanyatidie\"\n",
    "tanyas_view_server=view_server\n",
    "tanyas_view_server_url=url\n",
    "tanyas_user_pwd = os.environ.get(\"EGERIA_USER_PASSWORD\")\n",
    "\n",
    "callies_user_id = \"calliequartile\"\n",
    "callies_view_server=view_server\n",
    "callies_view_server_url=url\n",
    "callies_user_pwd = os.environ.get(\"EGERIA_USER_PASSWORD\")\n",
    "\n",
    "peters_user_id=\"peterprofile\"\n",
    "peters_view_server=view_server\n",
    "peters_view_server_url=url\n",
    "peters_user_pwd = os.environ.get(\"EGERIA_USER_PASSWORD\")\n"
   ]
  },
  {
   "cell_type": "markdown",
   "id": "aecd649e-7994-41d8-9e20-f84f3c75be86",
   "metadata": {},
   "source": [
    "\n",
    "----\n",
    "\n",
    "## Clinical Trial Solution Blueprint\n",
    "\n",
    "This query shows the solution blueprint for all clinical trial processing at Coco Pharmaceuticals.  \n",
    "\n",
    "Solution blueprint definitions are created through a simple markdown document that is loaded into Egeria using the Dr.Egeria feature.  It is a generic description of how a particular type of project (clinical trials in this example) operate.  A solution blueprint contains a description of the people (or more specifically the roles of the people) involved in this type of project along with both the manual and automated processes in use. It provides a convenient structure for linking descriptions of the governance requirements and responsibilities into a business operational view.  Thus the solution blueprint consolidates the aspects of an activity that the organisation wishes to be consistent.  This may be for cost, or quality and/or regulatory reasons.\n",
    "The solution blueprint also provides a familiar structure to to report the operational status of each part of the end-to-end processing\n",
    "\n",
    "Now look at this solution blueprint in detail.  \n",
    "\n",
    "If we start from the top, there is data coming in from one or more hospitals, and each hospital has a coordinator that ensures the hospital is delivering the data as agreed.  We don’t really know exactly how each hospital manages their data - just that whatever processes they have, will deliver the appropriate data into the landing area folder for the hospital.  \n",
    "\n",
    "The delivery of data from a hospital is immediately detected by the landing folder cataloguer which initiates an onboarding request for the data.  \n",
    "\n",
    "The onboarding pipeline is responsible for moving the data to the safety of the data lake and ensuring it is correctly catalogued.  This is a critical step, and it is set up and managed by a data engineer, who is supported by the clinical trial manager if there are issues with the data from any of the hospitals.  Once  the data is in the data lake, it is picked up by the clinical trials researchers and data scientists for analysis and ultimately to deliver a report summarising the findings of the clinical trial.\n",
    "\n",
    "Notice that down the centre of the solution blueprint is a high level view of how the data for the clinical trial flows.   The processes and roles that support this data flow are linked to either side.\n"
   ]
  },
  {
   "cell_type": "code",
   "execution_count": null,
   "id": "28b092c9-00e4-4f04-ab95-9fba525ae295",
   "metadata": {},
   "outputs": [],
   "source": [
    "\n",
    "print_solution_blueprints(egeria_client, \"Clinical Trial Management Solution Blueprint\")\n"
   ]
  },
  {
   "cell_type": "markdown",
   "id": "25771c33-ef3f-4b64-9867-3e266b85f885",
   "metadata": {},
   "source": [
    "----\n",
    "\n",
    "Since the solution blueprint is generic, projects are used to track the progress of individual clinical trials.  These are created using templates associated with the solution blueprint.  These templates help to ensure consistency from project to project.   One of the key templates is the information suppy chain template.  This identifies which components in the solution blueprint are responsible for lineage.  It also divides the data flow into segments.  A segment shows the part of the data flow that is the responsibility of a particular team, organization or persion.  For clinical trials, this includes:\n",
    "\n",
    "* The delivery of data from the hospitals\n",
    "* The onboarding and validating of data from the hospitals into the data lake\n",
    "* The provisioning of data into the sandboxes used for analysing the clinical trial measurements\n",
    "* The assessment of the clinical trial data\n",
    "* The reporting of the results\n",
    "\n",
    "\n",
    "Here is the information supply chain template for clinical trials ... notice that some solution components are linked to multiple solution components.  This signifies a handover of responsibility for the data.\n",
    "\n",
    "----"
   ]
  },
  {
   "cell_type": "code",
   "execution_count": null,
   "id": "7afe80b2-c08d-4b61-81d5-a9eea577f651",
   "metadata": {},
   "outputs": [],
   "source": [
    "\n",
    "print_information_supply_chains(egeria_client, \"Clinical Trial Treatment Validation::{{clinicalTrialId}}\", True, True)\n"
   ]
  },
  {
   "cell_type": "markdown",
   "id": "ed2aef63-b5f0-469c-96b7-0bc45f3d1ad1",
   "metadata": {},
   "source": [
    "-----\n",
    "\n",
    "Other [templates](https://egeria-project.org/features/templated-cataloguing/overview/) are used to ensure that as digital resources are catalogued, they have the right structure, classifications and attachments.\n",
    "\n",
    "----"
   ]
  },
  {
   "cell_type": "code",
   "execution_count": null,
   "id": "876ffad3-c93a-46d5-ba00-f806e451231c",
   "metadata": {},
   "outputs": [],
   "source": [
    "# Identify the standard onboarding pipeline\n",
    "\n",
    "onboarding_pipeline_name = \"Onboard Landing Area Files For Clinical Trial Project\"\n",
    "onboarding_pipeline_guid = egeria_client.get_guid_for_name(onboarding_pipeline_name) \n",
    "print(onboarding_pipeline_guid)\n",
    "\n",
    "\n",
    "# Identify the templates that are used to create consistency in the clinical trial process\n",
    "\n",
    "data_lake_schema_template_guid=TEMPLATE_GUIDS['Unity Catalog Schema']\n",
    "print(\"dataLakeSchemaTemplateGUID: \" + data_lake_schema_template_guid)\n",
    "print_asset_graph_by_guid(egeria_client, data_lake_schema_template_guid)\n",
    "\n",
    "data_lake_volume_template_guid=TEMPLATE_GUIDS['Unity Catalog Volume']\n",
    "print(\"dataLakeVolumeTemplateGUID: \" + data_lake_volume_template_guid)\n",
    "print_asset_graph_by_guid(egeria_client, data_lake_volume_template_guid)\n",
    "\n",
    "data_lake_file_template_guid = egeria_client.get_element_guid_by_unique_name(\"DataLake::{{clinicalTrialId}}::WeeklyMeasurements::{{hospitalName}}::{{fileName}}\")\n",
    "print(\"dataLakeFileTemplateGUID: \" + data_lake_file_template_guid)\n",
    "print_asset_graph_by_guid(egeria_client, data_lake_file_template_guid)\n",
    "\n",
    "landing_area_directory_template_guid = egeria_client.get_element_guid_by_unique_name(\"Data Folder::{{fileSystemName}}.{{directoryPathName}}\")\n",
    "print(\"landingAreaDirectoryTemplateGUID: \" + landing_area_directory_template_guid)\n",
    "print_asset_graph_by_guid(egeria_client, landing_area_directory_template_guid)\n",
    "\n",
    "landing_area_file_template_guid = egeria_client.get_element_guid_by_unique_name(\"LandingArea::{{hospitalName}}::{{clinicalTrialId}}::WeeklyMeasurements::{{fileName}}\")\n",
    "print(\"landingAreaFileTemplateGUID: \" + landing_area_file_template_guid)\n",
    "print_asset_graph_by_guid(egeria_client, landing_area_file_template_guid)\n",
    "\n",
    "validated_weekly_files_template_guid = egeria_client.get_element_guid_by_unique_name(\"Data File Collection::{{displayName}}\")\n",
    "print(\"validatedWeeklyFilesTemplateGUID: \" + validated_weekly_files_template_guid)\n",
    "print_asset_graph_by_guid(egeria_client, validated_weekly_files_template_guid)"
   ]
  },
  {
   "cell_type": "markdown",
   "id": "6eaf192f-9512-4358-a476-625a6b0d4677",
   "metadata": {},
   "source": [
    "---\n",
    "\n",
    "At Coco Pharmaceuticals, clinical trial projects are part of the *Clinical Trial Management* campaign.  This is a project that is responsible for the generic resources used by all clinical trials.\n",
    "\n",
    "---"
   ]
  },
  {
   "cell_type": "code",
   "execution_count": null,
   "id": "98731f6f-36a0-44de-a264-81fa52d4476c",
   "metadata": {},
   "outputs": [],
   "source": [
    "\n",
    "parent_project_name=\"Campaign:Clinical Trials Management\"\n",
    "parent_project_guid=egeria_client.get_element_guid_by_unique_name(parent_project_name)\n",
    "\n",
    "print(\"Parent project: \" + parent_project_name)\n",
    "print(\"  parent project GUID: \" + parent_project_guid)\n",
    "\n",
    "print_project(egeria_client, parent_project_guid)\n"
   ]
  },
  {
   "attachments": {},
   "cell_type": "markdown",
   "id": "2727aecb-0d1c-4744-befa-5cdd660ece98",
   "metadata": {},
   "source": [
    "----\n",
    "\n",
    "The definitions and functions that follow are generic for all clinical trials that are set up in this notebook.  They are added here to simplify the steps in each clinical trial.\n",
    "\n",
    "----"
   ]
  },
  {
   "cell_type": "code",
   "execution_count": null,
   "id": "cb90d75a-94d4-4bef-8f50-c2063c5c0527",
   "metadata": {
    "scrolled": true
   },
   "outputs": [],
   "source": [
    "# These functions drive calls to Egeria at different phases of the clinical trial\n",
    "\n",
    "\n",
    "def set_up_clinical_trial(egeria_tech,parent_project_guid, clinical_trial_owner_guid, clinical_trial_manager_guid, project_manager_guid, data_engineer_guid, integration_developer_guid, data_scientist_guid, project_identifier, project_name, project_description): \n",
    "    set_up_clinical_trial_name=\"ClinicalTrials@CocoPharmaceuticals::set-up-clinical-trial\"\n",
    "    action_targets = [{\n",
    "          \"class\" : \"NewActionTarget\",\n",
    "          \"actionTargetName\": \"clinicalTrialParentProject\",\n",
    "          \"actionTargetGUID\": parent_project_guid\n",
    "        },\n",
    "        {\n",
    "          \"class\" : \"NewActionTarget\",\n",
    "          \"actionTargetName\": \"clinicalTrialOwner\",\n",
    "          \"actionTargetGUID\": clinical_trial_owner_guid \n",
    "        },\n",
    "        {\n",
    "          \"class\" : \"NewActionTarget\",\n",
    "          \"actionTargetName\": \"clinicalTrialManager\",\n",
    "          \"actionTargetGUID\": clinical_trial_manager_guid \n",
    "        },\n",
    "        {\n",
    "          \"class\" : \"NewActionTarget\",\n",
    "          \"actionTargetName\": \"itProjectManager\",\n",
    "          \"actionTargetGUID\": project_manager_guid\n",
    "        },\n",
    "        {\n",
    "          \"class\" : \"NewActionTarget\",\n",
    "          \"actionTargetName\": \"dataEngineer\",\n",
    "          \"actionTargetGUID\": data_engineer_guid\n",
    "        },\n",
    "        {\n",
    "          \"class\" : \"NewActionTarget\",\n",
    "          \"actionTargetName\": \"integrationDeveloper\",\n",
    "          \"actionTargetGUID\": integration_developer_guid\n",
    "        },\n",
    "        {\n",
    "          \"class\" : \"NewActionTarget\",\n",
    "          \"actionTargetName\": \"dataScientist\",\n",
    "          \"actionTargetGUID\": data_scientist_guid\n",
    "        }]\n",
    "    \n",
    "    request_parameters = request_parameters = {\n",
    "         \"clinicalTrialId\" : project_identifier,\n",
    "         \"clinicalTrialName\" : project_name,\n",
    "         \"clinicalTrialDescription\" : project_description\n",
    "    }\n",
    "    \n",
    "    egeria_tech.initiate_gov_action_type(set_up_clinical_trial_name, None, action_targets, None, request_parameters, None, None)\n",
    "\n",
    "\n",
    "\n",
    "def nominate_hospital(egeria_tech, project_identifier, hospital_guid, contact_person_guid):\n",
    "    nominate_hospital_name = \"ClinicalTrials::\" + project_identifier + \"::nominate-hospital\"\n",
    "    process_guid = egeria_tech.get_element_guid_by_unique_name(nominate_hospital_name)\n",
    "    print(nominate_hospital_name + \" [\" + process_guid + \"] running for hospital: \" + hospital_guid)\n",
    "    if process_guid != \"No elements found\":\n",
    "        action_targets = [{\n",
    "              \"class\" : \"NewActionTarget\",\n",
    "              \"actionTargetName\": \"hospital\",\n",
    "              \"actionTargetGUID\": hospital_guid\n",
    "            },\n",
    "            {\n",
    "              \"class\" : \"NewActionTarget\",\n",
    "              \"actionTargetName\": \"hospitalContactPerson\",\n",
    "              \"actionTargetGUID\": contact_person_guid\n",
    "            }]\n",
    "        \n",
    "        egeria_tech.initiate_gov_action_process(nominate_hospital_name, None, action_targets, datetime.now(), None, None, None)\n",
    "\n",
    "\n",
    "\n",
    "def set_up_data_lake(egeria_tech, project_identifier, project_name, project_directory_name, project_schema_name):\n",
    "    set_up_data_lake_process_name=\"ClinicalTrials::\" + project_identifier + \"::set-up-data-lake\"\n",
    "    process_guid = egeria_tech.get_element_guid_by_unique_name(set_up_data_lake_process_name)\n",
    "    print(set_up_data_lake_process_name + \" [\" + process_guid + \"] running\")\n",
    "    if process_guid != \"No elements found\":    \n",
    "        data_lake_directory_path_name=\"coco-data-lake/research/clinical-trials/\" + project_directory_name + \"/weekly-measurements\"\n",
    "        \n",
    "        airflow_dag_name=\"populate_\" + project_schema_name + \"_sandbox\"\n",
    "        \n",
    "        action_targets = [{\n",
    "              \"class\" : \"NewActionTarget\",\n",
    "              \"actionTargetName\": \"dataLakeCatalog\",\n",
    "              \"actionTargetGUID\": catalog_guid\n",
    "            },\n",
    "            {\n",
    "              \"class\" : \"NewActionTarget\",\n",
    "              \"actionTargetName\": \"onboardingPipeline\",\n",
    "              \"actionTargetGUID\": onboarding_pipeline_guid \n",
    "            }]\n",
    "        \n",
    "        request_parameters = {\n",
    "             \"dataLakeVolumeTemplateGUID\" : data_lake_volume_template_guid,\n",
    "             \"dataLakeSchemaTemplateGUID\" : data_lake_schema_template_guid,\n",
    "             \"dataLakeFileTemplateGUID\" : data_lake_file_template_guid,\n",
    "             \"landingAreaDirectoryTemplateGUID\" : landing_area_directory_template_guid,\n",
    "             \"landingAreaFileTemplateGUID\" : landing_area_file_template_guid,\n",
    "             \"dataLakeSchemaName\" : project_schema_name,\n",
    "             \"dataLakeSchemaDescription\" : \"Data for the \" + project_name + \".\",\n",
    "             \"dataLakeVolumeName\" : \"weekly_measurements\",\n",
    "             \"dataLakeVolumeDescription\" : \"Weekly patient measurements\",\n",
    "             \"dataLakeVolumeDirectoryPathName\" : data_lake_directory_path_name,\n",
    "             \"validatedWeeklyFilesDataSetName\" : \"Validated Incoming Weekly Measurements for the \" + project_name + \".\",\n",
    "             \"validatedWeeklyFilesTemplateGUID\" : validated_weekly_files_template_guid,\n",
    "             \"airflowDAGName\" : airflow_dag_name,\n",
    "             \"serverName\" : postgres_server_name,\n",
    "             \"hostIdentifier\" : postgres_host_identifier,\n",
    "             \"portNumber\" : postgres_port_number,\n",
    "             \"secretsStorePathName\" : secrets_store_path_name,\n",
    "             \"secretsCollectionName\" : postgres_secrets_collection_name,\n",
    "             \"versionIdentifier\" : \"1.0\",\n",
    "             \"databaseName\" : postgres_database_name,\n",
    "             \"schemaName\" : project_schema_name,\n",
    "             \"schemaDescription\" : \"PostgreSQL database schema for the \" + project_name + \".\"\n",
    "        }\n",
    "        \n",
    "        egeria_tech.initiate_gov_action_process(set_up_data_lake_process_name, None, action_targets, None, request_parameters, None, None)\n",
    "        return airflow_dag_name\n",
    "\n",
    "\n",
    "\n",
    "def certify_hospital(egeria_tech, project_identifier, hospital_guid):\n",
    "    certify_hospital_name = \"ClinicalTrials::\" + project_identifier + \"::certify-hospital\"\n",
    "    process_guid = egeria_tech.get_element_guid_by_unique_name(certify_hospital_name)\n",
    "    print(certify_hospital_name + \" [\" + process_guid + \"] running for hospital: \" + hospital_guid)\n",
    "    if process_guid != \"No elements found\":\n",
    "        action_targets = [{\n",
    "              \"class\" : \"NewActionTarget\",\n",
    "              \"actionTargetName\": \"hospital\",\n",
    "              \"actionTargetGUID\": hospital_guid\n",
    "            }]\n",
    "        egeria_tech.initiate_gov_action_process(certify_hospital_name, None, action_targets, datetime.now(), None, None, None)\n",
    "\n",
    "\n",
    "\n",
    "def onboard_hospital(egeria_tech, project_identifier, project_directory_name, hospital_guid, hospital_landing_area_folder):\n",
    "    onboard_hospital_name = \"ClinicalTrials::\" + project_identifier + \"::onboard-hospital\"\n",
    "    process_guid = egeria_tech.get_element_guid_by_unique_name(onboard_hospital_name)\n",
    "    print(onboard_hospital_name + \" [\" + process_guid + \"] running for hospital: \" + hospital_guid)\n",
    "    if process_guid != \"No elements found\":\n",
    "        landing_area_directory_name=\"landing-area/hospitals/\" + hospital_landing_area_folder + \"/clinical-trials/\" + project_directory_name\n",
    "        actionTargets = [{\n",
    "              \"class\" : \"NewActionTarget\",\n",
    "              \"actionTargetName\": \"hospital\",\n",
    "              \"actionTargetGUID\": hospital_guid\n",
    "            }]\n",
    "        requestParameters = {\n",
    "            \"landingAreaDirectoryPathName\" : landing_area_directory_name\n",
    "        }\n",
    "        egeria_tech.initiate_gov_action_process(onboard_hospital_name, None, actionTargets, datetime.now(), requestParameters, None, None)\n",
    "        return landing_area_directory_name\n",
    "    else:\n",
    "        return None"
   ]
  },
  {
   "cell_type": "code",
   "execution_count": null,
   "id": "d87f8ab0-4089-4217-b818-81ccc9d986fc",
   "metadata": {
    "scrolled": true
   },
   "outputs": [],
   "source": [
    "# These are the sample data files found in Egeria's distribution\n",
    "\n",
    "oak_dene_source_folder   = 'loading-bay/sample-data/oak-dene-drop-foot-weekly-measurements'\n",
    "old_market_source_folder = 'loading-bay/sample-data/old-market-drop-foot-weekly-measurements'\n",
    "hampton_source_folder    = 'loading-bay/sample-data/hampton-drop-foot-weekly-measurements'\n",
    "\n",
    "# This function simulates the delivery of a file from a hospital.\n",
    "\n",
    "def add_file_to_landing_area(egeria_client, source_folder, destination_folder, week_number):\n",
    "    add_file_to_landing_area_name=\"ClinicalTrials@CocoPharmaceuticals::simulate-ftp\"\n",
    "    source_file_name = source_folder + \"/\" + \"week\" + week_number + \".csv\"\n",
    "    print(\"Moving \" + source_file_name + \" to \" + destination_folder)\n",
    "    request_parameters = {\n",
    "        \"sourceFile\" : source_file_name,\n",
    "        \"destinationDirectory\" : destination_folder\n",
    "    }\n",
    "    egeria_client.initiate_gov_action_type(add_file_to_landing_area_name, None, None, None, request_parameters, None)\n",
    "    "
   ]
  },
  {
   "cell_type": "markdown",
   "id": "ef4b4189-afbf-41ae-ba19-066480828ca1",
   "metadata": {},
   "source": [
    "----\n",
    "\n",
    "## Teddy Bear Drop Foot Clinical Trial\n",
    "\n",
    "In this first clinical trial, we step through each phase slowly and observe the behaviour of the associated templates and governance actions.  \n",
    "\n",
    "### Initializing the clinical trial\n",
    "\n",
    "Tessa Tube is the lead researcher at Coco Pharmaceuticals.  She is the *Clinical Trial Sponsor*.   In addition to monitoring the clinical trial throughout its lifetime, she has two specific actions to perform, one at the start of the trial and one at the end:\n",
    "\n",
    "\n",
    "---"
   ]
  },
  {
   "cell_type": "code",
   "execution_count": null,
   "id": "fadd0a95-2252-4a0c-a4b6-c2cd631d0d96",
   "metadata": {},
   "outputs": [],
   "source": [
    "\n",
    "tessas_client = EgeriaTech(tessas_view_server, tessas_view_server_url, tessas_user_id, tessas_user_pwd)\n",
    "token = tessas_client.create_egeria_bearer_token()\n",
    "\n",
    "print_solution_roles(tessas_client, \"Clinical Trial Sponsor\")\n"
   ]
  },
  {
   "cell_type": "markdown",
   "id": "df3d5905-a066-45ab-bccc-75ff7ab6b409",
   "metadata": {},
   "source": [
    "----\n",
    "\n",
    "The clinical trial that Tessa is setting up is for the `Teddy Bear Drop Foot` condition that afflicts elderly teddy bears as their stuffung sags, loosening their hip joints.  The clinical trial is given an identifier, name and description along with resource names used to set up specific file directories and schema for the data being processed by each stage in the clinicl trial.\n",
    "\n",
    "----"
   ]
  },
  {
   "cell_type": "code",
   "execution_count": null,
   "id": "36e6f60b-dc49-4308-8e55-720177687e3d",
   "metadata": {},
   "outputs": [],
   "source": [
    "print()\n",
    "\n",
    "project_identifier=\"PROJ-CT-TBDF\"\n",
    "project_name=\"Teddy Bear Drop Foot Clinical Trial\"\n",
    "project_description=\"Clinical trial related to the new treatment for Teddy Bear Drop Foot.\"\n",
    "project_directory_name=\"teddy-bear-drop-foot\"\n",
    "project_schema_name=\"teddy_bear_drop_foot\"\n",
    "\n",
    "print(\"Project \" + project_identifier + \": \" + project_name)\n",
    "print(\"  \" + project_description)\n",
    "\n",
    "print()\n"
   ]
  },
  {
   "cell_type": "markdown",
   "id": "b241bc4b-78e9-4f43-83e3-ddbc6876027e",
   "metadata": {},
   "source": [
    "----\n",
    "\n",
    "The people involved in the clinical trial are identified.  There is a person for each of the solution roles in the blueprint.\n",
    "\n",
    "----"
   ]
  },
  {
   "cell_type": "code",
   "execution_count": null,
   "id": "dd94f73f-4091-4b60-91d0-e26ab0e3bfb2",
   "metadata": {},
   "outputs": [],
   "source": [
    "print()\n",
    "\n",
    "clinical_trial_owner_name=\"Tessa Tube\"\n",
    "print(\"clinical trial owner name: \" + clinical_trial_owner_name)\n",
    "clinical_trial_owner_guid = tessas_client.get_guid_for_name(clinical_trial_owner_name)\n",
    "print(\"clinical trial owner GUID: \" + clinical_trial_owner_guid)\n",
    "\n",
    "print()\n",
    "clinical_trial_manager_name=\"Tanya Tidie\"\n",
    "print(\"clinical trial manager name: \" + clinical_trial_manager_name)\n",
    "clinical_trial_manager_guid = tessas_client.get_guid_for_name(clinical_trial_manager_name)\n",
    "print(\"clinical trial manager GUID: \" + clinical_trial_manager_guid)\n",
    "\n",
    "print()\n",
    "data_scientist_name=\"Callie Quartile\"\n",
    "print(\"data scientist name: \" + data_scientist_name)\n",
    "data_scientist_guid = tessas_client.get_guid_for_name(data_scientist_name)\n",
    "print(\"data scientist GUID: \" + data_scientist_guid)\n",
    "\n",
    "print()\n",
    "data_engineer_name=\"Peter Profile\"\n",
    "print(\"data engineer name: \" + data_engineer_name)\n",
    "data_engineer_guid = tessas_client.get_guid_for_name(data_engineer_name) \n",
    "print(\"data engineer GUID: \" + data_engineer_guid)\n",
    "\n",
    "print()\n",
    "project_manager_name=\"Polly Tasker\"\n",
    "print(\"project manager name: \" + project_manager_name)\n",
    "project_manager_guid = tessas_client.get_guid_for_name(project_manager_name) \n",
    "print(\"project manager GUID: \" + project_manager_guid)\n",
    "\n",
    "print()\n",
    "integration_developer_name=\"Bob Nitter\"\n",
    "print(\"integration developer name: \" + integration_developer_name)\n",
    "integration_developer_guid = tessas_client.get_guid_for_name(integration_developer_name) \n",
    "print(\"integration developer GUID: \" + integration_developer_guid)\n",
    "\n",
    "print()"
   ]
  },
  {
   "cell_type": "markdown",
   "id": "89c45fa4-4af3-4ac6-a480-7ca1d7dfacac",
   "metadata": {},
   "source": [
    "---\n",
    "\n",
    "Once Tessa has an agreed scope and purpose for a new clinical trial, she is ready to set up the project resources that will control the clinical trial.\n",
    "\n",
    "---"
   ]
  },
  {
   "cell_type": "code",
   "execution_count": null,
   "id": "9ede2b4f-affa-44de-862d-7d333ceb6f39",
   "metadata": {},
   "outputs": [],
   "source": [
    "\n",
    "print_solution_components(tessas_client, \"Set up clinical trial\")\n"
   ]
  },
  {
   "cell_type": "markdown",
   "id": "39ea10d0-6f38-4c18-81e7-b55fb23006c0",
   "metadata": {},
   "source": [
    "---\n",
    "\n",
    "The `set-up-clinical-trial` governance action type creates the specific governance processes that will be used by the staff during the clinical trial.  It uses generic process definitions to create these specific processes that are initialized with all of the correct values for the clinical trial.  This approach reduces the chance that someone will use a wrong value by accident when running the later processes for the clinical trial.\n",
    "\n",
    "---"
   ]
  },
  {
   "cell_type": "code",
   "execution_count": null,
   "id": "e560b782-dcd6-45e4-a5ee-7bfcf35022db",
   "metadata": {},
   "outputs": [],
   "source": [
    "\n",
    "set_up_clinical_trial(tessas_client,\n",
    "                      parent_project_guid,\n",
    "                      clinical_trial_owner_guid,\n",
    "                      clinical_trial_manager_guid,\n",
    "                      project_manager_guid,\n",
    "                      data_engineer_guid,\n",
    "                      integration_developer_guid,\n",
    "                      data_scientist_guid,\n",
    "                      project_identifier, \n",
    "                      project_name,\n",
    "                      project_description) \n"
   ]
  },
  {
   "cell_type": "markdown",
   "id": "e0df4d63-d9d9-49cd-839d-02e671434922",
   "metadata": {},
   "source": [
    "----\n",
    "\n",
    "The command below shows the status of the governance action.  Run (and re-run) the cell below until you see the status \"ACTIONED\".  You may see statuses such as \"PROPOSED\", \"APPROVED\", \"IN_PROGRESS\" but not \"FAILED\".\n",
    "\n",
    "----"
   ]
  },
  {
   "cell_type": "code",
   "execution_count": null,
   "id": "2febfbd4-1696-4722-a398-1192db6531ea",
   "metadata": {
    "scrolled": true
   },
   "outputs": [],
   "source": [
    "\n",
    "display_engine_activity_c(row_limit=1,width=170)\n"
   ]
  },
  {
   "cell_type": "markdown",
   "id": "e96698a6-4aab-4d45-8ad1-ef4ce837cca1",
   "metadata": {},
   "source": [
    "-----\n",
    "\n",
    "The set-up-clinical-trial governance action has created the following processes that are specific to this clinical trial and are set up with details of the correct project and people.\n",
    "\n",
    "-----"
   ]
  },
  {
   "cell_type": "code",
   "execution_count": null,
   "id": "cc0ac31f-73d0-4eb4-92e3-ac364a00b8e4",
   "metadata": {},
   "outputs": [],
   "source": [
    "\n",
    "print_matching_gov_action_processes(tessas_client, project_identifier)\n"
   ]
  },
  {
   "cell_type": "markdown",
   "id": "f4c3f54c-737d-4a65-af4c-a992ee71fb7b",
   "metadata": {},
   "source": [
    "---\n",
    "\n",
    "These processes are linked to the appropriate tasks in the new clinical trial project that were also defined by the set up process...\n",
    "\n",
    "---"
   ]
  },
  {
   "cell_type": "code",
   "execution_count": null,
   "id": "566feb63-2c8e-4948-bc9a-d2a218b69b6b",
   "metadata": {},
   "outputs": [],
   "source": [
    "\n",
    "project_guid=tessas_client.get_element_guid_by_unique_name(\"Project::\" + project_identifier + \"::\" + project_name)\n",
    "print(project_guid)\n",
    "if project_guid != \"No elements found\":\n",
    "    print_project(tessas_client, project_guid)\n",
    "    print_project_graph(tessas_client, project_guid)\n",
    "\n",
    "print_project_graph(egeria_client, parent_project_guid)\n"
   ]
  },
  {
   "cell_type": "markdown",
   "id": "997d3f49-80a5-44ca-83e3-8c09f08363c7",
   "metadata": {},
   "source": [
    "----\n",
    "\n",
    "Notice an empty data specification has been created and linked to the appropriate tasks.  The dark lines show the dependencies between  the tasks.  Completing this data specification is required before many tasks can proceed.\n",
    "\n",
    "There is also the [information supply chain](https://egeria-project.org/concepts/information-supply-chain/) that identifies the lineage that is relevant to this project.  Notice that the project details are filled out in the placeholders of the information supply chain template.  On the left are the **segments** showing how the responsbility for the data is passed from team to team.  These are linked to the relevant solution components supporting the data processing/movement.  As the project progresses and resources are deployed to support it, these resources will appear in the implementation of the information supply chain.\n",
    "\n",
    "---"
   ]
  },
  {
   "cell_type": "code",
   "execution_count": null,
   "id": "29f76be6-c5ef-410a-8d83-d6048595473b",
   "metadata": {},
   "outputs": [],
   "source": [
    "\n",
    "print_information_supply_chains(tessas_client, \"Clinical Trial Treatment Validation::\" + project_identifier, True, True)\n"
   ]
  },
  {
   "cell_type": "markdown",
   "id": "4c6352d1-9374-4a06-bdc2-cba2e5dc91ee",
   "metadata": {},
   "source": [
    "----\n",
    "\n",
    "### Nominating Hospitals\n",
    "\n",
    "Tanya Tidie is the clinical trial manager, responsible for the business arrangements for each clinical trial. This includes managing the relationships with the hospitals, ensuring all of the \"paperwork\" associated with the clinical trial is in place for the sponsors and regulators as well as handling any issues with the data received from the hospitals.\n",
    "\n",
    "----"
   ]
  },
  {
   "cell_type": "code",
   "execution_count": null,
   "id": "82c8559d-002c-4cae-bf35-e143b9738f37",
   "metadata": {},
   "outputs": [],
   "source": [
    "\n",
    "tanyas_client = EgeriaTech(tanyas_view_server, tanyas_view_server_url, tanyas_user_id, tanyas_user_pwd)\n",
    "token = tanyas_client.create_egeria_bearer_token()\n",
    "\n",
    "print_solution_roles(tanyas_client, \"Clinical Trial Manager\")\n"
   ]
  },
  {
   "attachments": {},
   "cell_type": "markdown",
   "id": "9f8e86a0-0482-4c8d-87d7-cdc50354b298",
   "metadata": {},
   "source": [
    "---\n",
    "\n",
    "These are the hospitals and associated contact people that Tanya works with.\n",
    "\n",
    "----"
   ]
  },
  {
   "cell_type": "code",
   "execution_count": null,
   "id": "359b36b8-4892-4642-a7dc-9164fef4e59f",
   "metadata": {},
   "outputs": [],
   "source": [
    "\n",
    "# Identify the hospitals that take part in one or more clinical trials.\n",
    "\n",
    "print()\n",
    "\n",
    "oak_dene_hospital_name=\"Oak Dene Hospital\"\n",
    "print(oak_dene_hospital_name)\n",
    "oak_dene_hospital_guid=tanyas_client.get_element_guid_by_unique_name(\"Organization::\" + oak_dene_hospital_name)\n",
    "print(\"  oakDeneHospitalGUID: \" + oak_dene_hospital_guid)\n",
    "oak_dene_contact_person_name=\"Robbie Records\"\n",
    "print(\"  oakDeneContactPersonName: \" + oak_dene_contact_person_name)\n",
    "oak_dene_contact_person_guid=tanyas_client.get_guid_for_name(oak_dene_contact_person_name)\n",
    "print(\"  oakDeneContactPersonGUID: \" + oak_dene_contact_person_guid)\n",
    "oak_dene_landing_folder_directory=\"oak-dene\"\n",
    "\n",
    "print()\n",
    "old_market_hospital_name=\"Old Market Hospital\"\n",
    "print(old_market_hospital_name)\n",
    "old_market_hospital_guid=tanyas_client.get_element_guid_by_unique_name(\"Organization::\" + old_market_hospital_name)\n",
    "print(\"  oldMarketHospitalGUID: \" + old_market_hospital_guid)\n",
    "old_market_contact_person_name=\"Nellie Dunn\"\n",
    "print(\"  oldMarketContactPersonName: \" + old_market_contact_person_name)\n",
    "old_market_contact_person_guid=tanyas_client.get_guid_for_name(old_market_contact_person_name)\n",
    "print(\"  oldMarketContactPersonGUID: \" + old_market_contact_person_guid)\n",
    "old_market_landing_folder_directory=\"old-market\"\n",
    "\n",
    "\n",
    "print()\n",
    "hampton_hospital_name=\"Hampton Hospital\"\n",
    "print(hampton_hospital_name)\n",
    "hampton_hospital_guid=tanyas_client.get_element_guid_by_unique_name(\"Organization::\" + hampton_hospital_name)\n",
    "print(\"  hamptonHospitalGUID: \" + hampton_hospital_guid)\n",
    "hampton_contact_person_name=\"Grant Able\"\n",
    "print(\"  hamptonContactPersonName: \" + hampton_contact_person_name)\n",
    "hampton_contact_person_guid=tanyas_client.get_guid_for_name(hampton_contact_person_name)\n",
    "print(\"  hamptonContactPersonGUID: \" + hampton_contact_person_guid)\n",
    "hampton_landing_folder_directory=\"hampton\"\n",
    "\n",
    "\n",
    "print()\n",
    "bowden_arrow_hospital_name=\"Bowden Arrow Hospital\"\n",
    "print(bowden_arrow_hospital_name)\n",
    "bowden_arrow_hospital_guid=tanyas_client.get_element_guid_by_unique_name(\"Organization::\" + bowden_arrow_hospital_name)\n",
    "print(\"  bowdenArrowHospitalGUID: \" + bowden_arrow_hospital_guid)\n",
    "bowden_arrow_contact_person_name=\"Julie Stitched\"\n",
    "print(\"  bowdenArrowContactPersonName: \" + bowden_arrow_contact_person_name)\n",
    "bowden_arrow_contact_person_guid=tanyas_client.get_guid_for_name(bowden_arrow_contact_person_name)\n",
    "print(\"  bowdenArrowContactPersonGUID: \" + bowden_arrow_contact_person_guid)\n",
    "bowden_arrow_landing_folder_directory=\"bowden-arrow\"\n",
    "print()\n",
    "\n"
   ]
  },
  {
   "cell_type": "markdown",
   "id": "53775808-58bf-447c-9477-d8417aea4920",
   "metadata": {},
   "source": [
    "----\n",
    "\n",
    "Tanya's work with the hospital is tracked under the \"HospitalManagement\" task for this project.  This task is dependent on completing the data specification for the project sicne it plays a major role when setting up the data sharing agreements with the hospitals.\n",
    "\n",
    "----"
   ]
  },
  {
   "cell_type": "code",
   "execution_count": null,
   "id": "dd37fb67-efb2-4b19-82e5-ccd8d5cfd656",
   "metadata": {},
   "outputs": [],
   "source": [
    "\n",
    "project_guid=tanyas_client.get_element_guid_by_unique_name(\"Project::\" + project_identifier + \"::HospitalManagement\")\n",
    "print(project_guid)\n",
    "\n",
    "if project_guid != \"No elements found\":\n",
    "    print_project_graph(tanyas_client, project_guid)\n"
   ]
  },
  {
   "cell_type": "markdown",
   "id": "22fb8df7-94a9-4dfc-be05-993805831e4a",
   "metadata": {},
   "source": [
    "----\n",
    "\n",
    "Once the data specificaiton is in place, and the basic data sharing agreement has been defined, Tanya begins to work with the hospitals that will take part in the clinical trial.  For each one, she runs nominate-hospital to identify the people at the hospital that are going to complete the requirements (training, signing data sharing agreements, ...) necessary to participate.\n",
    "\n",
    "----"
   ]
  },
  {
   "cell_type": "code",
   "execution_count": null,
   "id": "ec5254d4-22cc-4aa9-84ed-72895adc97f7",
   "metadata": {},
   "outputs": [],
   "source": [
    "\n",
    "print_solution_components(tanyas_client, \"Nominate Hospital\")\n"
   ]
  },
  {
   "cell_type": "markdown",
   "id": "4f2a2ebb-149c-4a1f-bc4a-068b8e91e5ea",
   "metadata": {},
   "source": [
    "----\n",
    "\n",
    "In this clinical trial, patients are associated with three hospitals:\n",
    "\n",
    "* Oak Dene Hospital\n",
    "* Old Market Hospital\n",
    "* Hampton Hospital\n",
    "\n",
    "----"
   ]
  },
  {
   "cell_type": "code",
   "execution_count": null,
   "id": "42478d64-400f-486b-ae52-46690d2d8618",
   "metadata": {},
   "outputs": [],
   "source": [
    "\n",
    "# Nominate each hospital\n",
    "\n",
    "nominate_hospital(tanyas_client, project_identifier, oak_dene_hospital_guid, oak_dene_contact_person_guid)\n",
    "nominate_hospital(tanyas_client, project_identifier, old_market_hospital_guid, old_market_contact_person_guid)\n",
    "nominate_hospital(tanyas_client, project_identifier, hampton_hospital_guid, hampton_contact_person_guid)\n"
   ]
  },
  {
   "cell_type": "code",
   "execution_count": null,
   "id": "cbb21cde-13aa-44ec-8adf-7ed68fbf8d6a",
   "metadata": {
    "scrolled": true
   },
   "outputs": [],
   "source": [
    "\n",
    "# Check that each nominate hospital process is \"ACTIONED\"\n",
    "\n",
    "display_engine_activity_c(row_limit=3, width=150)"
   ]
  },
  {
   "cell_type": "code",
   "execution_count": null,
   "id": "9ea5bcd0-2221-439c-81ca-33a18bc11277",
   "metadata": {},
   "outputs": [],
   "source": [
    "\n",
    "print_related_elements_for_name(tanyas_client, 'CertificationType:: Participating Hospital for an approved Clinical Trial', \"Certification\")\n",
    "\n",
    "mermaidGraph=\"---\\ntitle: Certifications - Participating Hospital for an approved Clinical Trial [5acc69bf-dfbb-4e4a-b47b-19d610f2cb06]\\n---\\nflowchart LR\\n%%{init: {\\\"flowchart\\\": {\\\"htmlLabels\\\": false}} }%%\\n\\n1@{ shape: doc, label: \\\"*Certification Type*\\n**Participating Hospital for an approved Clinical Trial**\\\"}\\n2@{ shape: text, label: \\\"*Title*\\n**Participating Hospital for an approved Clinical Trial**\\\"}\\n3@{ shape: text, label: \\\"*Summary*\\n**The hospital is participating in the associated Clinical Trial.**\\\"}\\n2~~~3\\n4@{ shape: text, label: \\\"*Description*\\n**This certification is started when the hospital completes the necessary preparations for the clinical trail.**\\\"}\\n3~~~4\\n5@{ shape: trap-t, label: \\\"*Organization*\\n**Oak Dene Hospital**\\\"}\\n1==>|\\\"Certification\\\"|5\\n6@{ shape: trap-t, label: \\\"*Person*\\n**Tessa Tube**\\\"}\\n5-->|\\\"certifiedBy\\\"|6\\n7@{ shape: trap-t, label: \\\"*Person*\\n**Tanya Tidie**\\\"}\\n5-->|\\\"custodian\\\"|7\\n8@{ shape: trap-t, label: \\\"*Person*\\n**Robbie Records**\\\"}\\n5-->|\\\"recipient\\\"|8\\n9@{ shape: trap-t, label: \\\"*Organization*\\n**Hampton Hospital**\\\"}\\n1==>|\\\"Certification\\\"|9\\n9-->|\\\"certifiedBy\\\"|6\\n9-->|\\\"custodian\\\"|7\\n10@{ shape: trap-t, label: \\\"*Person*\\n**Grant Able**\\\"}\\n9-->|\\\"recipient\\\"|10\\n11@{ shape: trap-t, label: \\\"*Organization*\\n**Old Market Hospital**\\\"}\\n1==>|\\\"Certification\\\"|11\\n11-->|\\\"certifiedBy\\\"|6\\n11-->|\\\"custodian\\\"|7\\n12@{ shape: trap-t, label: \\\"*Person*\\n**Nellie Dunn**\\\"}\\n11-->|\\\"recipient\\\"|12\\nstyle 11 color:#000000, fill:#FFE599, stroke:#000000\\nstyle 1 color:#FFFFFF, fill:#006400, stroke:#000000\\nstyle 12 color:#000000, fill:#FFE599, stroke:#000000\\nstyle 2 color:#000000, fill:#F9F7ED, stroke:#b7c0c7\\nstyle 3 color:#000000, fill:#F9F7ED, stroke:#b7c0c7\\nstyle 4 color:#000000, fill:#F9F7ED, stroke:#b7c0c7\\nstyle 5 color:#000000, fill:#FFE599, stroke:#000000\\nstyle 6 color:#000000, fill:#FFE599, stroke:#000000\\nstyle 7 color:#000000, fill:#FFE599, stroke:#000000\\nstyle 8 color:#000000, fill:#FFE599, stroke:#000000\\nstyle 9 color:#000000, fill:#FFE599, stroke:#000000\\nstyle 10 color:#000000, fill:#FFE599, stroke:#000000\\n\"\n",
    "render_mermaid(mermaidGraph)"
   ]
  },
  {
   "cell_type": "markdown",
   "id": "af00ea4a-2eee-49b0-8e38-9f8f0b0949a6",
   "metadata": {},
   "source": [
    "----\n",
    "\n",
    "### Setting up the data lake\n",
    "\n",
    "Peter Profile is a data engineer at Coco Pharmaceuticals and is reponsible for the data pipelines and data stores that support the clinical trial.\n",
    "\n",
    "---"
   ]
  },
  {
   "cell_type": "code",
   "execution_count": null,
   "id": "f5b8748a-10d1-4e6a-8ae1-f2016b8d67ba",
   "metadata": {},
   "outputs": [],
   "source": [
    "\n",
    "peters_client = EgeriaTech(peters_view_server, peters_view_server_url, peters_user_id, peters_user_pwd)\n",
    "token = peters_client.create_egeria_bearer_token()\n",
    "\n",
    "print_solution_roles(peters_client, \"Certified Data Engineer\")\n"
   ]
  },
  {
   "cell_type": "markdown",
   "id": "7481422d-f48a-4ad7-9724-0c2c27a14230",
   "metadata": {},
   "source": [
    "-----\n",
    "\n",
    "Peter first task is to set up the data and the data stores that are independent of the hospital supplying the data.  This includes components and templates that are influenced by the shape of the data needed by Coco Pharmaceuticals to validate their new treatment.  Like, Tanya, Peter can begin setting up the data lake and data stores once the data dpecification is agreed since it is used to generate the correct schemas for these stores.\n",
    "\n",
    "The data specification is also used at a later stage when each hospital is onboarded since the data validator in the onboarding pipeline dynamically validates that the incoming data conforms to the requirements laid out in the data specification.\n",
    "\n",
    "---"
   ]
  },
  {
   "cell_type": "code",
   "execution_count": null,
   "id": "511974ec-3866-4bae-a47a-40af4d67cecd",
   "metadata": {},
   "outputs": [],
   "source": [
    "\n",
    "project_guid=peters_client.get_element_guid_by_unique_name(\"Project::\" + project_identifier + \"::OnboardingPipelines\")\n",
    "print(project_guid)\n",
    "\n",
    "if project_guid != \"No elements found\":\n",
    "    print_project_graph(peters_client, project_guid)\n"
   ]
  },
  {
   "cell_type": "markdown",
   "id": "a138ee4f-d323-4664-a210-9e0997b0de95",
   "metadata": {},
   "source": [
    "----\n",
    "\n",
    "However the first stage is to lay down the hospital independent data stores in the data lake and sandbox used by the data scientist and researchers.\n",
    "\n",
    "----"
   ]
  },
  {
   "cell_type": "code",
   "execution_count": null,
   "id": "acaa67be-8765-4aff-b5ea-93b8f32f8644",
   "metadata": {},
   "outputs": [],
   "source": [
    "\n",
    "print_solution_components(peters_client, \"Set up Data Lake\")\n"
   ]
  },
  {
   "cell_type": "markdown",
   "id": "e5cdf029-e28a-450f-bb0b-56a39b1c4ec3",
   "metadata": {},
   "source": [
    "----\n",
    "\n",
    "The function below runs the set up data lake for this project.\n",
    "\n",
    "----"
   ]
  },
  {
   "cell_type": "code",
   "execution_count": null,
   "id": "83109fd3-df3f-43a2-98d1-690757479a09",
   "metadata": {},
   "outputs": [],
   "source": [
    "\n",
    "airflow_dag_name=set_up_data_lake(peters_client, project_identifier, project_name, project_directory_name, project_schema_name)\n",
    "\n",
    "print(airflow_dag_name)"
   ]
  },
  {
   "cell_type": "code",
   "execution_count": null,
   "id": "3112b6d0-449b-45ce-9550-86f04525bfc0",
   "metadata": {
    "scrolled": true
   },
   "outputs": [],
   "source": [
    "## Check that set up data lake is ACTIONED\n",
    "\n",
    "display_engine_activity_c(row_limit=1, width=170)\n"
   ]
  },
  {
   "cell_type": "markdown",
   "id": "c86cb1d6-f898-458b-a948-0684532c673b",
   "metadata": {},
   "source": [
    "----\n",
    "\n",
    "One of the services that is configured by \"set up data lake\" is the integration connector that monitors new files in the Unity Catalog volume that holds the validated files received from the hospitals.  It records the time that the last file was received to help the data scientists to determine if new data has arrived since they last ran their analysis.\n"
   ]
  },
  {
   "cell_type": "code",
   "execution_count": null,
   "id": "f510e7ed-96a9-4088-9789-589fd47e197f",
   "metadata": {},
   "outputs": [],
   "source": [
    "\n",
    "display_integration_daemon_status(['MaintainLastUpdateDate', 'FilesCataloguer'], paging=True, width=170)\n"
   ]
  },
  {
   "cell_type": "markdown",
   "id": "70f11edc-9cb1-416e-a7bb-05149d336938",
   "metadata": {},
   "source": [
    "----\n",
    "\n",
    "It is now possible to see the part of the information supply chain that has just been set up.  It is shown in the \"implementation\" grey box.  Notice that each component is linked to the solution component it represents.\n",
    "\n",
    "---"
   ]
  },
  {
   "cell_type": "code",
   "execution_count": null,
   "id": "c4233457-32a3-483c-b7b2-54199e3905fd",
   "metadata": {},
   "outputs": [],
   "source": [
    "\n",
    "print_information_supply_chains(peters_client, \"Clinical Trial Treatment Validation::\" + project_identifier, True, True)\n"
   ]
  },
  {
   "cell_type": "markdown",
   "id": "6ae24052-94af-4e10-838c-1dd0aa7f3be7",
   "metadata": {},
   "source": [
    "-----\n",
    "\n",
    "The first part of the information supply chain will be added when the hospitals are cenrtified and onboarded into the clinical trial.\n",
    "\n",
    "-----\n",
    "\n",
    "### Certifying Hospitals (Round One)\n",
    "\n",
    "Once a hospital has completed all of the requirements, it can be certified for the clinical trial.  This means it can supply data to the clinical trial.  At the start of the clinical trial, Robbie Record, for Oak Dene and Grant Able for Hampton Hospital are ready to go.  Nellie Dunn still does not have the data sharing agreements signed for Old Market.  As a result, only Oak Dene and Hampton hospitals are certified.\n",
    "\n",
    "----"
   ]
  },
  {
   "cell_type": "code",
   "execution_count": null,
   "id": "737299d8-9bca-4a72-b105-58173be781b0",
   "metadata": {},
   "outputs": [],
   "source": [
    "\n",
    "tanyas_client = EgeriaTech(tanyas_view_server, tanyas_view_server_url, tanyas_user_id, tanyas_user_pwd)\n",
    "token = tanyas_client.create_egeria_bearer_token()\n",
    "\n",
    "certify_hospital(tanyas_client, project_identifier, oak_dene_hospital_guid)\n",
    "certify_hospital(tanyas_client, project_identifier, hampton_hospital_guid)\n"
   ]
  },
  {
   "cell_type": "code",
   "execution_count": null,
   "id": "1d94aab9-9257-406e-9d04-c90ee187ae6b",
   "metadata": {},
   "outputs": [],
   "source": [
    "\n",
    "display_engine_activity_c(row_limit=2, width=170)\n"
   ]
  },
  {
   "cell_type": "markdown",
   "id": "7da61cf7-4f0b-436a-9635-43b56c0aaee8",
   "metadata": {},
   "source": [
    "----\n",
    "\n",
    "## Creating the pipelines for each hospital\n",
    "\n",
    "The clinical trial is about to start, and so Peter creates the pipelines for the three hospitals, not realizing that Old Market Hospital is not ready.\n",
    "\n",
    "-----"
   ]
  },
  {
   "cell_type": "code",
   "execution_count": null,
   "id": "659c964b-0ce9-407d-9e5e-2ebe17f28991",
   "metadata": {},
   "outputs": [],
   "source": [
    "peters_client = EgeriaTech(peters_view_server, peters_view_server_url, peters_user_id, peters_user_pwd)\n",
    "token = peters_client.create_egeria_bearer_token()"
   ]
  },
  {
   "cell_type": "code",
   "execution_count": null,
   "id": "069005ad-3a2b-47ad-975b-e6855003279e",
   "metadata": {},
   "outputs": [],
   "source": [
    "oak_dene_landing_area_directory_name=onboard_hospital(peters_client, project_identifier, project_directory_name, oak_dene_hospital_guid, oak_dene_landing_folder_directory)\n",
    "old_market_landing_area_directory_name=onboard_hospital(peters_client, project_identifier, project_directory_name, old_market_hospital_guid, old_market_landing_folder_directory)\n",
    "hampton_landing_area_directory_name=onboard_hospital(peters_client, project_identifier, project_directory_name, hampton_hospital_guid, hampton_landing_folder_directory)"
   ]
  },
  {
   "cell_type": "markdown",
   "id": "3c3c9273-74ff-408e-bcf9-931b07f20d3e",
   "metadata": {},
   "source": [
    "----\n",
    "\n",
    "Notice that the process for Old Market Hospital fails because it is not certified.\n",
    "\n",
    "----"
   ]
  },
  {
   "cell_type": "code",
   "execution_count": null,
   "id": "bf8fd57c-e83e-4598-9aff-6065af65cb30",
   "metadata": {},
   "outputs": [],
   "source": [
    "\n",
    "display_engine_activity_c(row_limit=3, width=170)\n"
   ]
  },
  {
   "cell_type": "markdown",
   "id": "fe6c628b-9ea4-4f40-8285-1344e344f632",
   "metadata": {},
   "source": [
    "----\n",
    "\n",
    "Notice that the pipelines for Oak Dene and Hampton Hospital are set up ... but nothing for Old Market.  This means that data from uncertified hospitals cannot be accidently included in the clinical trial.\n",
    "\n",
    "----"
   ]
  },
  {
   "cell_type": "code",
   "execution_count": null,
   "id": "d2f1d9ef-8bc1-4b28-a603-48f212a13109",
   "metadata": {},
   "outputs": [],
   "source": [
    "display_integration_daemon_status(['MaintainLastUpdateDate', 'FilesCataloguer'], paging=True, width=170)"
   ]
  },
  {
   "cell_type": "markdown",
   "id": "58da8daa-b30a-4aad-8e63-34d7aab647c3",
   "metadata": {},
   "source": [
    "----\n",
    "\n",
    "And the lineage now includes the data feeds from these hospitals ...\n",
    "\n",
    "----"
   ]
  },
  {
   "cell_type": "code",
   "execution_count": null,
   "id": "e62e4f6a-94f4-47ad-b376-a0e4c1fe1afb",
   "metadata": {},
   "outputs": [],
   "source": [
    "\n",
    "print_information_supply_chains(egeria_client, \"Clinical Trial Treatment Validation::\" + project_identifier, True, True)\n"
   ]
  },
  {
   "attachments": {},
   "cell_type": "markdown",
   "id": "176798d9-2ed0-4990-b078-e88fd2756d31",
   "metadata": {},
   "source": [
    "----\n",
    "\n",
    "### Add data to pipelines\n",
    "\n",
    "At this point, the processes are set up for Oak Dene Hospital and Hampton Hospital.  It is possible to add the data files to their landing area and they will be systematically added to the data lake folder.   No files are processed for Old Market Hospital.\n",
    "\n",
    "----\n",
    "\n",
    "The data onboarding pipeline is called `Onboard Landing Area Files For Teddy Bear Drop Foot Project`.\n",
    "\n",
    "----"
   ]
  },
  {
   "cell_type": "code",
   "execution_count": null,
   "id": "7ca45e47-fb36-40bd-ba60-6c9cc72452f8",
   "metadata": {},
   "outputs": [],
   "source": [
    "\n",
    "onboarding_pipeline_guid = peters_client.get_guid_for_name(onboarding_pipeline_name) \n",
    "\n",
    "process_graph = peters_client.get_gov_action_process_graph(onboarding_pipeline_guid)\n",
    "print_governance_action_process_graph(process_graph)\n"
   ]
  },
  {
   "cell_type": "markdown",
   "id": "cb46137f-d9a4-4749-bdb5-039c15784a82",
   "metadata": {},
   "source": [
    "---\n",
    "\n",
    "Let's add Oak Dene Hospital's data for week 1 of the clinical trial ...\n",
    "\n",
    "---"
   ]
  },
  {
   "cell_type": "code",
   "execution_count": null,
   "id": "32d46daf-863f-4d7d-9bb0-012519dc1671",
   "metadata": {},
   "outputs": [],
   "source": [
    "add_file_to_landing_area(peters_client, oak_dene_source_folder, oak_dene_landing_area_directory_name, \"1\")"
   ]
  },
  {
   "cell_type": "markdown",
   "id": "b013b3a7-a2e7-4c83-86ae-132b699b1ff6",
   "metadata": {},
   "source": [
    "---\n",
    "\n",
    "The command below prints out the process steps that have run ...\n",
    "\n",
    "---"
   ]
  },
  {
   "cell_type": "code",
   "execution_count": null,
   "id": "d6ad3f15-6087-48e1-bb8a-79af827658f1",
   "metadata": {},
   "outputs": [],
   "source": [
    "oak_dene_onboarding_process_name=\"Coco::GovernanceActionProcess::\" + project_identifier + \"::\" + oak_dene_hospital_name + \"::WeeklyMeasurements::Onboarding\"\n",
    "print(oak_dene_onboarding_process_name)\n",
    "print_process_instances(peters_client, oak_dene_onboarding_process_name)"
   ]
  },
  {
   "cell_type": "code",
   "execution_count": null,
   "id": "dd3b5abc-ba05-47b8-8639-2b89398cd6f5",
   "metadata": {},
   "outputs": [],
   "source": [
    "add_file_to_landing_area(peters_client, hampton_source_folder, hampton_landing_area_directory_name, \"1\")"
   ]
  },
  {
   "cell_type": "code",
   "execution_count": null,
   "id": "01b5b8ce-99dd-44aa-971e-1a75acaf6778",
   "metadata": {},
   "outputs": [],
   "source": [
    "hampton_onboarding_process_name=\"Coco::GovernanceActionProcess::\" + project_identifier + \"::\" + hampton_hospital_name + \"::WeeklyMeasurements::Onboarding\"\n",
    "print(hampton_onboarding_process_name)\n",
    "print_process_instances(peters_client, hampton_onboarding_process_name)"
   ]
  },
  {
   "cell_type": "code",
   "execution_count": null,
   "id": "591277f6-5d2a-4c1f-912c-10f701097142",
   "metadata": {},
   "outputs": [],
   "source": [
    "add_file_to_landing_area(peters_client, oak_dene_source_folder, oak_dene_landing_area_directory_name, \"2\")\n",
    "add_file_to_landing_area(peters_client, hampton_source_folder, hampton_landing_area_directory_name, \"2\")"
   ]
  },
  {
   "cell_type": "code",
   "execution_count": null,
   "id": "a0483f9b-c04c-4943-b0b3-a61fd935def3",
   "metadata": {},
   "outputs": [],
   "source": [
    "print_process_instances(peters_client, oak_dene_onboarding_process_name)\n",
    "print_process_instances(peters_client, hampton_onboarding_process_name)"
   ]
  },
  {
   "cell_type": "code",
   "execution_count": null,
   "id": "b4462a07-d279-423d-834e-eb0eef85b77f",
   "metadata": {
    "scrolled": true
   },
   "outputs": [],
   "source": [
    "display_engine_activity_c(row_limit=4, width=170)"
   ]
  },
  {
   "cell_type": "code",
   "execution_count": null,
   "id": "f7138d47-4b28-446c-b691-ea6160d31a0e",
   "metadata": {},
   "outputs": [],
   "source": [
    "print_information_supply_chains(peters_client, \"Clinical Trial Treatment Validation::\" + project_identifier, True, False)\n"
   ]
  },
  {
   "cell_type": "code",
   "execution_count": null,
   "id": "69649c29-2ea5-42f3-80bb-b78d2b79c851",
   "metadata": {},
   "outputs": [],
   "source": [
    "print_information_supply_chains(peters_client, \"Clinical Trial Treatment Validation::\" + project_identifier, True, True)\n"
   ]
  },
  {
   "cell_type": "markdown",
   "id": "687e173c-f5b6-49b6-81a9-a069b45be38e",
   "metadata": {},
   "source": [
    "----\n",
    "## Callie looks for status\n",
    "\n"
   ]
  },
  {
   "cell_type": "code",
   "execution_count": null,
   "id": "7ddf9d90-92c1-414a-84f3-a5a2415c47b7",
   "metadata": {},
   "outputs": [],
   "source": [
    "\n",
    "callies_client = EgeriaTech(callies_view_server, callies_view_server_url, callies_user_id, callies_user_pwd)\n",
    "token = callies_client.create_egeria_bearer_token()\n",
    "\n",
    "print_solution_roles(callies_client, \"New Treatment Data Scientist\")\n"
   ]
  },
  {
   "cell_type": "code",
   "execution_count": null,
   "id": "a0b1ce71-529f-4cad-abe5-0043f09253d3",
   "metadata": {},
   "outputs": [],
   "source": [
    "postgres_db_schema_asset_name = \"PostgreSQL Relational Database Schema::LocalPostgreSQL1::clinical_trials.teddy_bear_drop_foot\"\n",
    "\n",
    "print_asset_graph(callies_client, postgres_db_schema_asset_name)"
   ]
  },
  {
   "cell_type": "code",
   "execution_count": null,
   "id": "07242178-505f-4322-8fbd-020edf5911ce",
   "metadata": {},
   "outputs": [],
   "source": [
    "oak_dene_landing_area_folder = \"Data Folder::.landing-area/hospitals/oak-dene/clinical-trials/teddy-bear-drop-foot\"\n",
    "\n",
    "print_asset_graph(callies_client, oak_dene_landing_area_folder)\n",
    "print_asset_isc_graph(callies_client, oak_dene_landing_area_folder)\n",
    "print_asset_field_level_lineage_graph(callies_client, oak_dene_landing_area_folder)\n",
    "print_asset_action_graph(callies_client, oak_dene_landing_area_folder)\n",
    "print_asset_local_lineage_graph(callies_client, oak_dene_landing_area_folder)\n",
    "print_files_in_folder(callies_client, oak_dene_landing_area_folder, False)\n",
    "print_files_in_folder(callies_client, oak_dene_landing_area_folder, True)"
   ]
  },
  {
   "cell_type": "code",
   "execution_count": null,
   "id": "5d9f85dc-1e07-46a4-92dd-72f38ee440d6",
   "metadata": {},
   "outputs": [],
   "source": [
    "oak_dene_landing_area_folder = \"Data Folder::.landing-area/hospitals/oak-dene/clinical-trials/teddy-bear-drop-foot\"\n",
    "\n",
    "print_asset_graph(callies_client, oak_dene_landing_area_folder)\n",
    "print_asset_isc_graph(callies_client, oak_dene_landing_area_folder)\n",
    "print_asset_field_level_lineage_graph(callies_client, oak_dene_landing_area_folder)\n",
    "print_asset_action_graph(callies_client, oak_dene_landing_area_folder)\n",
    "print_asset_local_lineage_graph(callies_client, oak_dene_landing_area_folder)\n",
    "print_files_in_folder(callies_client, oak_dene_landing_area_folder, False)\n",
    "print_files_in_folder(callies_client, oak_dene_landing_area_folder, True)"
   ]
  },
  {
   "cell_type": "code",
   "execution_count": null,
   "id": "b29d4a85-6cd2-4193-8676-db28ee68618b",
   "metadata": {},
   "outputs": [],
   "source": [
    "data_lake_folder_unique_name = \"DataFolder::/Users/amandachessell/Code/ODPi/egeria-oak/egeria/open-metadata-distribution/omag-server-platform/build/unpacked/egeria-platform-5.4-SNAPSHOT-distribution.tar.gz/assembly/platform/coco-data-lake/research/clinical-trials/teddy-bear-drop-foot/weekly-measurements\"\n",
    "\n",
    "print_asset_graph(callies_client, data_lake_folder_unique_name)\n",
    "print_asset_isc_graph(callies_client, data_lake_folder_unique_name)\n",
    "print_asset_field_level_lineage_graph(callies_client, data_lake_folder_unique_name)\n",
    "print_asset_action_graph(callies_client, data_lake_folder_unique_name)\n",
    "print_asset_local_lineage_graph(callies_client, data_lake_folder_unique_name)\n",
    "print_files_in_folder(callies_client, data_lake_folder_unique_name, False)\n",
    "print_files_in_folder(callies_client, data_lake_folder_unique_name, True)"
   ]
  },
  {
   "cell_type": "code",
   "execution_count": null,
   "id": "552a8c09-4188-4ae6-97b9-0abb1fa93f2b",
   "metadata": {},
   "outputs": [],
   "source": [
    "integration_connector_unique_name = \"Egeria:IntegrationGroup:Default::GeneralFilesMonitorIntegrationConnector\"\n",
    "\n",
    "print_asset_graph(callies_client, integration_connector_unique_name)\n",
    "print_asset_isc_graph(callies_client, integration_connector_unique_name)\n",
    "print_asset_field_level_lineage_graph(callies_client, integration_connector_unique_name)\n",
    "print_asset_action_graph(callies_client, integration_connector_unique_name)\n",
    "print_asset_local_lineage_graph(callies_client, integration_connector_unique_name)\n"
   ]
  },
  {
   "cell_type": "code",
   "execution_count": null,
   "id": "3a7e706e-67c1-4ddc-891f-4c6eb6175216",
   "metadata": {},
   "outputs": [],
   "source": [
    "\n",
    "print_asset_lineage_graph(callies_client, postgres_db_schema_asset_name)\n"
   ]
  },
  {
   "cell_type": "code",
   "execution_count": null,
   "id": "da84bf7f-8371-4b4b-b02c-0c42b5670a9c",
   "metadata": {},
   "outputs": [],
   "source": [
    "\n",
    "print_asset_isc_graph(callies_client, postgres_db_schema_asset_name)\n"
   ]
  },
  {
   "cell_type": "code",
   "execution_count": null,
   "id": "7522c138-f0ae-4f37-acb1-06b3b28a9e3b",
   "metadata": {},
   "outputs": [],
   "source": [
    "\n",
    "print_asset_isc_graph(callies_client, \"Egeria:IntegrationGroup:Default::GeneralFilesMonitorIntegrationConnector\")\n"
   ]
  },
  {
   "cell_type": "code",
   "execution_count": null,
   "id": "17ae1d97-3a2f-464b-972a-61089545f2b3",
   "metadata": {},
   "outputs": [],
   "source": [
    "\n",
    "print_asset_field_level_lineage_graph(callies_client, postgres_db_schema_asset_name)\n"
   ]
  },
  {
   "cell_type": "code",
   "execution_count": null,
   "id": "108a5460-790c-4251-bf67-fa2155ca1d71",
   "metadata": {},
   "outputs": [],
   "source": [
    "\n",
    "print_request_for_actions(callies_client, \"Failed To Pass Quality Gate\")\n"
   ]
  },
  {
   "cell_type": "code",
   "execution_count": null,
   "id": "02d528ed-1de5-43a9-bbab-f69e1bcc0826",
   "metadata": {},
   "outputs": [],
   "source": [
    "\n",
    "data_lake_file_000000 = \"DataLake::PROJ-CT-TBDF::CSVFile::/Users/amandachessell/Code/ODPi/egeria-oak/egeria/open-metadata-distribution/omag-server-platform/build/unpacked/egeria-platform-5.4-SNAPSHOT-distribution.tar.gz/assembly/platform/coco-data-lake/research/clinical-trials/teddy-bear-drop-foot/weekly-measurements/PROJ-CT-TBDF_000000.csv\"\n",
    "data_lake_file_000000 = \"DataLake::PROJ-CT-TBDF::WeeklyMeasurements::Oak Dene Hospital::PROJ-CT-TBDF_000000.csv\"\n",
    "\n",
    "print_asset_graph(callies_client, data_lake_file_000000)\n"
   ]
  },
  {
   "cell_type": "code",
   "execution_count": null,
   "id": "62212623-217a-4a8e-9e70-fdc24aa0a5db",
   "metadata": {},
   "outputs": [],
   "source": [
    "\n",
    "data_lake_file_000001 = \"DataLake::PROJ-CT-TBDF::WeeklyMeasurements::Hampton Hospital::PROJ-CT-TBDF_000001.csv\"\n",
    "\n",
    "print_asset_graph(callies_client, data_lake_file_000001)\n",
    "print_asset_local_lineage_graph(callies_client, data_lake_file_000001)\n",
    "print_asset_lineage_graph(callies_client, data_lake_file_000001)\n"
   ]
  },
  {
   "cell_type": "code",
   "execution_count": null,
   "id": "04342bc6-5992-4c91-adda-848093f575a3",
   "metadata": {},
   "outputs": [],
   "source": [
    "\n",
    "data_lake_file_000005 = \"DataLake::PROJ-CT-TBDF::WeeklyMeasurements::Old Market Hospital::PROJ-CT-TBDF_000005.csv\"\n",
    "\n",
    "print_asset_graph(callies_client, data_lake_file_000005)\n",
    "print_asset_local_lineage_graph(callies_client, data_lake_file_000005)\n",
    "print_asset_lineage_graph(callies_client, data_lake_file_000005)\n"
   ]
  },
  {
   "cell_type": "code",
   "execution_count": null,
   "id": "344d3c08-5a82-4fe9-acf8-8d6f82a8fddb",
   "metadata": {},
   "outputs": [],
   "source": [
    "\n",
    "print_asset_field_level_lineage_graph(callies_client, data_lake_file_000000)\n"
   ]
  },
  {
   "cell_type": "code",
   "execution_count": null,
   "id": "66731643-1833-4f20-97a5-16cbe5911f71",
   "metadata": {},
   "outputs": [],
   "source": [
    "\n",
    "print_asset_field_level_lineage_graph(callies_client, data_lake_file_000005)\n"
   ]
  },
  {
   "cell_type": "code",
   "execution_count": null,
   "id": "d59da365-767b-4b93-9d8b-a45ba2415abc",
   "metadata": {},
   "outputs": [],
   "source": [
    "\n",
    "\n",
    "guid=\"8c1a07a8-cd41-4c52-9dff-65ff377ca7e7\"\n",
    "related_list = callies_client.get_all_related_metadata_elements(guid, {\"forLineage\" : True }, True)\n",
    "if type(related_list) == str:\n",
    "    print(related_list)\n",
    "else:\n",
    "    mermaid_graph = related_list.get('mermaidGraph')\n",
    "    if mermaid_graph:\n",
    "        render_mermaid(mermaid_graph)\n",
    "                "
   ]
  },
  {
   "cell_type": "code",
   "execution_count": null,
   "id": "ef93fd94-e519-4aa3-9162-756fcf7d4544",
   "metadata": {},
   "outputs": [],
   "source": [
    "\n",
    "print_asset_lineage_graph_by_guid(callies_client, \"073e8264-54aa-45be-a16e-e3b9d18e567b\")\n"
   ]
  },
  {
   "cell_type": "code",
   "execution_count": null,
   "id": "a8c82b8a-7598-4049-aad9-dba215140605",
   "metadata": {},
   "outputs": [],
   "source": [
    "\n",
    "print_asset_graph(callies_client, \"Unity Catalog Volume::\" + uc_server_url + \"::clinical_trials.teddy_bear_drop_foot.weekly_measurements\")\n"
   ]
  },
  {
   "cell_type": "code",
   "execution_count": null,
   "id": "49911847-709e-4b31-a529-45b059acae2e",
   "metadata": {
    "scrolled": true
   },
   "outputs": [],
   "source": [
    "\n",
    "body = {\n",
    "            \"class\" : \"FindRequestBody\",\n",
    "            \"metadataElementTypeName\": \"DataFolder\"\n",
    "}\n",
    "callies_client.find_metadata_elements(body)"
   ]
  },
  {
   "cell_type": "code",
   "execution_count": null,
   "id": "793d1e9e-0cd1-425f-a194-91035e7fc735",
   "metadata": {},
   "outputs": [],
   "source": [
    "\n",
    "print_files_in_folder(callies_client, \"Data Folder::.landing-area/hospitals/oak-dene/clinical-trials/teddy-bear-drop-foot\", True)\n"
   ]
  },
  {
   "cell_type": "code",
   "execution_count": null,
   "id": "26cc5efb-e904-46b4-b00e-17f48de3fef0",
   "metadata": {},
   "outputs": [],
   "source": [
    "\n",
    "print_asset_lineage_graph(callies_client, \"PostgreSQL Relational Database Schema::LocalPostgreSQL1::clinical_trials.teddy_bear_drop_foot\")\n"
   ]
  },
  {
   "cell_type": "code",
   "execution_count": null,
   "id": "ddf09b93-a2f2-47d6-96b1-7c5a3dc9e5aa",
   "metadata": {},
   "outputs": [],
   "source": [
    "\n",
    "print_related_elements_for_name(callies_client, 'CertificationType:: Valid weekly measurements data for Clinical Trial', \"Certification\")\n",
    "\n",
    "mermaidGraph=\"---\\ntitle: Certifications - Valid data for Teddy Bear Drop Foot Clinical Trial [8a921039-ad5f-454d-ae17-e5a5b69f9333]\\n---\\nflowchart LR\\n%%{init: {\\\"flowchart\\\": {\\\"htmlLabels\\\": false}} }%%\\n\\n1@{ shape: doc, label: \\\"*Certification Type*\\n**Valid data for Teddy Bear Drop Foot Clinical Trial**\\\"}\\n2@{ shape: text, label: \\\"*Title*\\n**Valid data for Teddy Bear Drop Foot Clinical Trial**\\\"}\\n3@{ shape: text, label: \\\"*Summary*\\n**The data in this file matches the specification for the Teddy Bear Drop Foot Clinical Trial.**\\\"}\\n2~~~3\\n4@{ shape: text, label: \\\"*Description*\\n**Within Project**\\\"}\\n3~~~4\\n5@{ shape: tag-doc, label: \\\"*C S V File*\\n**PROJ-CT-TBDF_000003.csv from Hampton Hospital**\\\"}\\n1==>|\\\"Certification\\\"|5\\n6@{ shape: stadium, label: \\\"*Survey Action Service*\\n**Validate that the data in a weekly measurements file passes data validation checks.**\\\"}\\n5-->|\\\"certifiedBy\\\"|6\\n7@{ shape: trap-t, label: \\\"*Person*\\n**Peter Profile**\\\"}\\n5-->|\\\"certifiedBy\\\"|7\\n8@{ shape: tag-doc, label: \\\"*C S V File*\\n**PROJ-CT-TBDF_000002.csv from Oak Dene Hospital**\\\"}\\n1==>|\\\"Certification\\\"|8\\n8-->|\\\"certifiedBy\\\"|6\\n8-->|\\\"certifiedBy\\\"|7\\n9@{ shape: tag-doc, label: \\\"*C S V File*\\n**PROJ-CT-TBDF_000000.csv from Oak Dene Hospital**\\\"}\\n1==>|\\\"Certification\\\"|9\\n9-->|\\\"certifiedBy\\\"|6\\n9-->|\\\"certifiedBy\\\"|7\\nstyle 1 color:#FFFFFF, fill:#006400, stroke:#000000\\nstyle 2 color:#000000, fill:#F9F7ED, stroke:#b7c0c7\\nstyle 3 color:#000000, fill:#F9F7ED, stroke:#b7c0c7\\nstyle 4 color:#000000, fill:#F9F7ED, stroke:#b7c0c7\\nstyle 5 color:#000000, fill:#f0e68c, stroke:#004563\\nstyle 6 color:#000000, fill:#f0e68c, stroke:#004563\\nstyle 7 color:#000000, fill:#FFE599, stroke:#000000\\nstyle 8 color:#000000, fill:#f0e68c, stroke:#004563\\nstyle 9 color:#000000, fill:#f0e68c, stroke:#004563\\n\"\n",
    "render_mermaid(mermaidGraph)\n"
   ]
  },
  {
   "cell_type": "code",
   "execution_count": null,
   "id": "a6313a81-1020-4e24-a2be-bfb68c598a67",
   "metadata": {},
   "outputs": [],
   "source": [
    "\n",
    "print_asset_graph(callies_client, \"Data File Collection::Validated Incoming Weekly Measurements for the Teddy Bear Drop Foot Clinical Trial.\")\n"
   ]
  },
  {
   "cell_type": "code",
   "execution_count": null,
   "id": "9c596b57-38e7-46e5-bf26-751f057c6bf8",
   "metadata": {},
   "outputs": [],
   "source": [
    "\n",
    "print_asset_lineage_graph(callies_client, \"Data File Collection::Validated Incoming Weekly Measurements for the Teddy Bear Drop Foot Clinical Trial.\")\n"
   ]
  },
  {
   "cell_type": "code",
   "execution_count": null,
   "id": "f4e15064-12ed-4f58-aa49-b2168f5ac112",
   "metadata": {},
   "outputs": [],
   "source": [
    "\n",
    "print_asset_lineage_graph(callies_client, \"DataLake::PROJ-CT-TBDF::CSVFile::/Users/amandachessell/Code/ODPi/egeria-oak/egeria/open-metadata-distribution/omag-server-platform/build/unpacked/egeria-platform-5.4-SNAPSHOT-distribution.tar.gz/assembly/platform/coco-data-lake/research/clinical-trials/teddy-bear-drop-foot/weekly-measurements/PROJ-CT-TBDF_000001.csv\")\n"
   ]
  },
  {
   "cell_type": "code",
   "execution_count": null,
   "id": "9d0e776d-57f9-4d2a-be8c-d5b31eccc7bd",
   "metadata": {},
   "outputs": [],
   "source": [
    "\n",
    "print_information_supply_chains(callies_client, \"Clinical Trial Treatment Validation::\" + project_identifier, False)\n"
   ]
  },
  {
   "cell_type": "code",
   "execution_count": null,
   "id": "afd6eeff-7c93-43ee-820f-80feb2d8ac21",
   "metadata": {},
   "outputs": [],
   "source": [
    "\n",
    "print_information_supply_chains(callies_client, \"Clinical Trial Treatment Validation::\" + project_identifier, True, False)\n"
   ]
  },
  {
   "cell_type": "code",
   "execution_count": null,
   "id": "db0532b7-8364-44aa-811c-5256886c6cca",
   "metadata": {},
   "outputs": [],
   "source": [
    "\n",
    "print_information_supply_chains(callies_client, \"Clinical Trial Treatment Validation::\" + project_identifier, True, True)\n"
   ]
  },
  {
   "cell_type": "code",
   "execution_count": null,
   "id": "4297bda3-01d3-4e7e-b210-bb2db85e0041",
   "metadata": {},
   "outputs": [],
   "source": [
    "print_anchor_graph(callies_client, oak_dene_hospital_name)"
   ]
  },
  {
   "cell_type": "code",
   "execution_count": null,
   "id": "1f119e96-e6f4-4360-9836-099045df358e",
   "metadata": {},
   "outputs": [],
   "source": [
    "\n",
    "print_solution_components(callies_client, \"Pipeline\")\n"
   ]
  },
  {
   "cell_type": "code",
   "execution_count": null,
   "id": "c2863cc6-130b-4a6e-95d0-b0aba4652836",
   "metadata": {},
   "outputs": [],
   "source": [
    "\n",
    "print_solution_components(callies_client, \"Treatment Validation Sandbox\")\n"
   ]
  },
  {
   "cell_type": "code",
   "execution_count": null,
   "id": "d445988d-d910-4103-8ca2-777c64db703a",
   "metadata": {},
   "outputs": [],
   "source": [
    "\n",
    "print_solution_components(callies_client, \"Treatment\")\n"
   ]
  },
  {
   "cell_type": "code",
   "execution_count": null,
   "id": "38412be0-ed13-40bf-8839-30738c3d0cc2",
   "metadata": {},
   "outputs": [],
   "source": [
    "\n",
    "print_solution_components(callies_client, \"Populate\")\n"
   ]
  },
  {
   "cell_type": "code",
   "execution_count": null,
   "id": "c87db182-6a55-4197-bc97-c16467a921f5",
   "metadata": {},
   "outputs": [],
   "source": [
    "search_results = callies_client.find_in_asset_domain(\"Validated Incoming\")\n",
    "\n",
    "print_search_results(search_results)"
   ]
  },
  {
   "cell_type": "code",
   "execution_count": null,
   "id": "8d1e4806-fab7-47b2-a288-b266876c8be3",
   "metadata": {},
   "outputs": [],
   "source": [
    "search_results = callies_client.find_in_asset_domain(\"LandingArea::Hampton\")\n",
    "\n",
    "print_search_results(search_results)"
   ]
  },
  {
   "cell_type": "code",
   "execution_count": null,
   "id": "2f814f4e-d62a-4fc4-b3eb-12d2345f4710",
   "metadata": {
    "scrolled": true
   },
   "outputs": [],
   "source": [
    "search_results = callies_client.find_in_asset_domain(\"DataLake::\" + project_identifier + \"::WeeklyMeasurements::\")\n",
    "\n",
    "print_search_results(search_results)"
   ]
  },
  {
   "cell_type": "code",
   "execution_count": null,
   "id": "e82678e2-7cb8-40db-b633-82d214015927",
   "metadata": {
    "scrolled": true
   },
   "outputs": [],
   "source": [
    "search_results = callies_client.find_in_asset_domain(project_identifier + \"_000003.csv\")\n",
    "\n",
    "print_search_results(search_results)"
   ]
  },
  {
   "cell_type": "code",
   "execution_count": null,
   "id": "b296a3b0-755b-471f-92f2-a00b44881967",
   "metadata": {},
   "outputs": [],
   "source": [
    "print_asset_graph(callies_client, \"Coco:GovernanceActionProcess:ClinicalTrials:WeeklyMeasurements:Onboarding\")"
   ]
  },
  {
   "cell_type": "code",
   "execution_count": null,
   "id": "b25d1052-e936-4002-945f-62321e316211",
   "metadata": {},
   "outputs": [],
   "source": [
    "print_asset_graph(callies_client, \"Apache Airflow DAG:\" + airflow_dag_name)"
   ]
  },
  {
   "cell_type": "code",
   "execution_count": null,
   "id": "5ef00b7c-bce1-4bcc-9b8c-10eeaaa9268b",
   "metadata": {},
   "outputs": [],
   "source": [
    "\n",
    "print_asset_lineage_graph(callies_client, \"Apache Airflow DAG:\" + airflow_dag_name)\n"
   ]
  },
  {
   "cell_type": "code",
   "execution_count": null,
   "id": "ea46f3ae-751b-44f0-9d03-205daf2f2b79",
   "metadata": {},
   "outputs": [],
   "source": [
    "\n",
    "mermaidGraph=\"---\\ntitle: Certifications - Valid data for Teddy Bear Drop Foot Clinical Trial [8a921039-ad5f-454d-ae17-e5a5b69f9333]\\n---\\nflowchart LR\\n%%{init: {\\\"flowchart\\\": {\\\"htmlLabels\\\": false}} }%%\\n\\n1@{ shape: doc, label: \\\"*Certification Type*\\n**Valid data for Teddy Bear Drop Foot Clinical Trial**\\\"}\\n2@{ shape: text, label: \\\"*Title*\\n**Valid data for Teddy Bear Drop Foot Clinical Trial**\\\"}\\n3@{ shape: text, label: \\\"*Summary*\\n**The data in this file matches the specification for the Teddy Bear Drop Foot Clinical Trial.**\\\"}\\n2~~~3\\n4@{ shape: text, label: \\\"*Description*\\n**Within Project**\\\"}\\n3~~~4\\n5@{ shape: tag-doc, label: \\\"*C S V File*\\n**Oak Dene Hospital teddy bear measurements received on Wed May 28 18:08:30 BST 2025 for Teddy Bear Drop Foot Clinical Trial**\\\"}\\n1==>|\\\"Certification\\\"|5\\n6@{ shape: tag-doc, label: \\\"*C S V File*\\n**Oak Dene Hospital teddy bear measurements received on Wed May 28 18:08:30 BST 2025 for Teddy Bear Drop Foot Clinical Trial**\\\"}\\n1==>|\\\"Certification\\\"|6\\n7@{ shape: tag-doc, label: \\\"*C S V File*\\n**Oak Dene Hospital teddy bear measurements received on Wed May 28 18:08:30 BST 2025 for Teddy Bear Drop Foot Clinical Trial**\\\"}\\n1==>|\\\"Certification\\\"|7\\nstyle 1 color:#FFFFFF, fill:#006400, stroke:#000000\\nstyle 2 color:#000000, fill:#F9F7ED, stroke:#b7c0c7\\nstyle 3 color:#000000, fill:#F9F7ED, stroke:#b7c0c7\\nstyle 4 color:#000000, fill:#F9F7ED, stroke:#b7c0c7\\nstyle 5 color:#000000, fill:#f0e68c, stroke:#004563\\nstyle 6 color:#000000, fill:#f0e68c, stroke:#004563\\nstyle 7 color:#000000, fill:#f0e68c, stroke:#004563\\n\"\n",
    "print(mermaidGraph)\n",
    "render_mermaid(mermaidGraph)\n"
   ]
  },
  {
   "cell_type": "markdown",
   "id": "22206743-5c2c-4c03-9dbc-c52e355c2272",
   "metadata": {},
   "source": [
    "----\n",
    "### Certifying Old Market Hospital\n",
    "\n",
    "At last, Old Market Hospital is readdy to join the clinical trial.  Tanya certifies the hospital.\n",
    "\n",
    "---"
   ]
  },
  {
   "cell_type": "code",
   "execution_count": null,
   "id": "592d438f-89c7-457b-8c2c-bb85f1846862",
   "metadata": {},
   "outputs": [],
   "source": [
    "\n",
    "tanyas_client = EgeriaTech(tanyas_view_server, tanyas_view_server_url, tanyas_user_id, tanyas_user_pwd)\n",
    "token = tanyas_client.create_egeria_bearer_token()\n",
    "\n",
    "certify_hospital(tanyas_client, project_identifier, old_market_hospital_guid)\n"
   ]
  },
  {
   "cell_type": "code",
   "execution_count": null,
   "id": "6980fff3-f470-4e07-af52-f6a278b0536a",
   "metadata": {
    "scrolled": true
   },
   "outputs": [],
   "source": [
    "\n",
    "display_engine_activity_c(row_limit=1,width=170)\n"
   ]
  },
  {
   "cell_type": "markdown",
   "id": "ae324d02-5ef6-4bbd-9962-bd801e18f60d",
   "metadata": {},
   "source": [
    "----\n",
    "\n",
    "Peter is then able to create the onboarding pipeline for Old Market Hospital\n",
    "\n",
    "----"
   ]
  },
  {
   "cell_type": "code",
   "execution_count": null,
   "id": "2a0b040f-067a-40f1-aeee-3d2df2b3eb4b",
   "metadata": {},
   "outputs": [],
   "source": [
    "\n",
    "peters_client = EgeriaTech(peters_view_server, peters_view_server_url, peters_user_id, peters_user_pwd)\n",
    "token = peters_client.create_egeria_bearer_token()\n",
    "\n",
    "old_market_landing_area_directory_name=onboard_hospital(peters_client, project_identifier, project_directory_name, old_market_hospital_guid, old_market_landing_folder_directory)\n"
   ]
  },
  {
   "cell_type": "code",
   "execution_count": null,
   "id": "3a5be054-25cc-42a0-b106-d99bb0b7ffd9",
   "metadata": {
    "scrolled": true
   },
   "outputs": [],
   "source": [
    "\n",
    "display_engine_activity_c(row_limit=1,width=170)\n"
   ]
  },
  {
   "cell_type": "code",
   "execution_count": null,
   "id": "56e22f7b-fdea-47ec-a283-2ebaeed0b98d",
   "metadata": {},
   "outputs": [],
   "source": [
    "\n",
    "display_integration_daemon_status(['MaintainLastUpdateDate', 'FilesCataloguer'], paging=True, width=170)\n"
   ]
  },
  {
   "cell_type": "markdown",
   "id": "6c088fbf-f5f8-457e-8d56-0e52ebed35f9",
   "metadata": {},
   "source": [
    "----\n",
    "\n",
    "Now any files that are added to Old Market Hospital's landing area are ingested into the data lake. Add week 1 data.\n",
    "\n",
    "----"
   ]
  },
  {
   "cell_type": "code",
   "execution_count": null,
   "id": "6ec0791c-ed16-460b-8887-c74e9dce7d6d",
   "metadata": {},
   "outputs": [],
   "source": [
    "add_file_to_landing_area(peters_client, old_market_source_folder, old_market_landing_area_directory_name, \"1\")"
   ]
  },
  {
   "cell_type": "markdown",
   "id": "47d97274-a1fa-4414-9b96-afba9e92769a",
   "metadata": {},
   "source": [
    "----\n",
    "\n",
    "Check that the pipeline is running ok\n",
    "\n",
    "----"
   ]
  },
  {
   "cell_type": "code",
   "execution_count": null,
   "id": "a1672a21-813f-4a20-9239-af2f09c79a4b",
   "metadata": {},
   "outputs": [],
   "source": [
    "display_engine_activity_c(row_limit=1, width=170)"
   ]
  },
  {
   "cell_type": "markdown",
   "id": "42a1c9b0-83ea-4aaa-912c-38617018cf28",
   "metadata": {},
   "source": [
    "----\n",
    "\n",
    "Try week 2\n",
    "\n",
    "-----"
   ]
  },
  {
   "cell_type": "code",
   "execution_count": null,
   "id": "fc60ef17-a7c2-48e5-b4e3-ba73d7decc5b",
   "metadata": {},
   "outputs": [],
   "source": [
    "add_file_to_landing_area(peters_client, old_market_source_folder, old_market_landing_area_directory_name, \"2\")"
   ]
  },
  {
   "cell_type": "code",
   "execution_count": null,
   "id": "6a0c3805-55d2-41cb-b6ea-ecf9a6c042af",
   "metadata": {},
   "outputs": [],
   "source": [
    "display_engine_activity_c(row_limit=3, width=170)"
   ]
  },
  {
   "cell_type": "markdown",
   "id": "08117844-9370-4a31-b5da-abdfd07a7546",
   "metadata": {},
   "source": [
    "-----\n",
    "\n",
    "Now Old Market Hospital is caught up and the subsequent weeks can continue in synchronization.\n",
    "\n",
    "----"
   ]
  },
  {
   "cell_type": "code",
   "execution_count": null,
   "id": "14d03920-1710-4e40-b622-84ca683650f2",
   "metadata": {},
   "outputs": [],
   "source": [
    "\n",
    "add_file_to_landing_area(peters_client, oak_dene_source_folder, oak_dene_landing_area_directory_name, \"3\")\n",
    "add_file_to_landing_area(peters_client, hampton_source_folder, hampton_landing_area_directory_name, \"3\")\n",
    "add_file_to_landing_area(peters_client, old_market_source_folder, old_market_landing_area_directory_name, \"3\")\n"
   ]
  },
  {
   "cell_type": "code",
   "execution_count": null,
   "id": "57e548ab-07f8-4741-9712-6f76ed05266f",
   "metadata": {},
   "outputs": [],
   "source": [
    "display_engine_activity_c(row_limit=3, width=170)"
   ]
  },
  {
   "cell_type": "code",
   "execution_count": null,
   "id": "e2393120-f1f7-4516-8261-d40a3d86ac1c",
   "metadata": {},
   "outputs": [],
   "source": [
    "\n",
    "add_file_to_landing_area(peters_client, oak_dene_source_folder, oak_dene_landing_area_directory_name, \"4\")\n",
    "add_file_to_landing_area(peters_client, hampton_source_folder, hampton_landing_area_directory_name, \"4\")\n",
    "add_file_to_landing_area(peters_client, old_market_source_folder, old_market_landing_area_directory_name, \"4\")\n"
   ]
  },
  {
   "cell_type": "code",
   "execution_count": null,
   "id": "19bf6770-e687-4ad7-adb4-55571eeecdb7",
   "metadata": {},
   "outputs": [],
   "source": [
    "display_engine_activity_c(row_limit=3, width=170)"
   ]
  },
  {
   "cell_type": "code",
   "execution_count": null,
   "id": "f7005c79-5395-4c58-b1fd-312edaf02f09",
   "metadata": {},
   "outputs": [],
   "source": [
    "\n",
    "add_file_to_landing_area(peters_client, oak_dene_source_folder, oak_dene_landing_area_directory_name, \"5\")\n",
    "add_file_to_landing_area(peters_client, hampton_source_folder, hampton_landing_area_directory_name, \"5\")\n",
    "add_file_to_landing_area(peters_client, old_market_source_folder, old_market_landing_area_directory_name, \"5\")\n"
   ]
  },
  {
   "cell_type": "code",
   "execution_count": null,
   "id": "50c7be11-a686-431a-b872-54d4a9c5ed45",
   "metadata": {},
   "outputs": [],
   "source": [
    "display_engine_activity_c(row_limit=3, width=170)"
   ]
  },
  {
   "cell_type": "markdown",
   "id": "3717e9c5-a766-4096-9178-8078e9649e80",
   "metadata": {},
   "source": [
    "----\n",
    "### After all hospitals are registered ...\n",
    "\n",
    "---"
   ]
  },
  {
   "cell_type": "code",
   "execution_count": null,
   "id": "80966479-1eaa-4448-baf3-53025a2f6733",
   "metadata": {},
   "outputs": [],
   "source": [
    "\n",
    "callies_client = EgeriaTech(callies_view_server, callies_view_server_url, callies_user_id, callies_user_pwd)\n",
    "token = callies_client.create_egeria_bearer_token()\n"
   ]
  },
  {
   "cell_type": "code",
   "execution_count": null,
   "id": "6c885ed6-779d-40a0-86a9-3c267e936ec3",
   "metadata": {},
   "outputs": [],
   "source": [
    "\n",
    "print_asset_lineage_graph(callies_client, \"PostgreSQL Relational Database Schema::LocalPostgreSQL1::clinical_trials.teddy_bear_drop_foot\")\n"
   ]
  },
  {
   "cell_type": "code",
   "execution_count": null,
   "id": "12f575bf-ce35-43d1-b7f3-b478dc19cb10",
   "metadata": {},
   "outputs": [],
   "source": [
    "\n",
    "print_information_supply_chains(callies_client, \"Clinical Trial Treatment Validation::PROJ-CT-TBDF\", add_implementation=True, for_lineage=True)\n"
   ]
  },
  {
   "cell_type": "code",
   "execution_count": null,
   "id": "633c0d00-8ef8-4b95-a420-ebd2fa7a26ab",
   "metadata": {},
   "outputs": [],
   "source": []
  },
  {
   "cell_type": "markdown",
   "id": "24fe1cf8-8ef0-45f7-9608-00551a2178ab",
   "metadata": {},
   "source": [
    "------\n",
    "\n",
    "## Dragon Breath Clinical Trial\n",
    "\n",
    "The cells below step through setting up a new clinical trial using the same steps used for Teddy Bear Dop Foot to show the use of both the standard and specialized resources for a clinical trial.\n",
    "\n",
    "\n",
    "----"
   ]
  },
  {
   "cell_type": "code",
   "execution_count": null,
   "id": "309bf7ce-6d60-4a9b-b665-1e813a7ba4e1",
   "metadata": {},
   "outputs": [],
   "source": [
    "\n",
    "print()\n",
    "\n",
    "project_identifier=\"PROJ-CT-DB\"\n",
    "project_name=\"Dragon Breath Clinical Trial\"\n",
    "project_description=\"Clinical trial related to the new treatment to enhance the volume and quality of the lungs.\"\n",
    "project_directory_name=\"dragon-breath\"\n",
    "project_schema_name=\"dragon_breath\"\n",
    "\n",
    "print(\"Project \" + project_identifier + \": \" + project_name)\n",
    "print(\"  \" + project_description)\n"
   ]
  },
  {
   "cell_type": "code",
   "execution_count": null,
   "id": "9ccaa4e5-34c0-4ca8-ba0e-f1bf42a72d10",
   "metadata": {
    "scrolled": true
   },
   "outputs": [],
   "source": [
    "\n",
    "tessas_client = EgeriaTech(tessas_view_server, tessas_view_server_url, tessas_user_id, tessas_user_pwd)\n",
    "token = tessas_client.create_egeria_bearer_token()\n",
    "\n",
    "set_up_clinical_trial(tessas_client,\n",
    "                      parent_project_guid,\n",
    "                      clinical_trial_owner_guid,\n",
    "                      clinical_trial_manager_guid,\n",
    "                      project_manager_guid,\n",
    "                      data_engineer_guid,\n",
    "                      integration_developer_guid,\n",
    "                      data_scientist_guid,\n",
    "                      project_identifier, \n",
    "                      project_name,\n",
    "                      project_description) \n"
   ]
  },
  {
   "cell_type": "code",
   "execution_count": null,
   "id": "f1574fef-33b9-4734-a240-3fa2db821ac0",
   "metadata": {
    "scrolled": true
   },
   "outputs": [],
   "source": [
    "\n",
    "display_engine_activity_c(row_limit=1,width=170)\n"
   ]
  },
  {
   "cell_type": "code",
   "execution_count": null,
   "id": "0928cbd1-d41f-4dd3-9e93-7ce5f3ebb779",
   "metadata": {
    "scrolled": true
   },
   "outputs": [],
   "source": [
    "\n",
    "print_matching_gov_action_processes(tessas_client, project_identifier)\n",
    "\n",
    "\n",
    "project_guid=tessas_client.get_element_guid_by_unique_name(\"Project::\" + project_identifier + \"::\" + project_name)\n",
    "print_project_graph(tessas_client, project_guid)\n"
   ]
  },
  {
   "cell_type": "code",
   "execution_count": null,
   "id": "c388eef6-3346-48f1-8f01-a0e95863a97d",
   "metadata": {},
   "outputs": [],
   "source": [
    "\n",
    "tanyas_client = EgeriaTech(tanyas_view_server, tanyas_view_server_url, tanyas_user_id, tanyas_user_pwd)\n",
    "token = tanyas_client.create_egeria_bearer_token()\n",
    "\n",
    "nominate_hospital(tanyas_client, project_identifier, bowden_arrow_hospital_guid, bowden_arrow_contact_person_guid)\n"
   ]
  },
  {
   "cell_type": "code",
   "execution_count": null,
   "id": "18994813-07b4-47b0-a858-aa2641c60257",
   "metadata": {
    "scrolled": true
   },
   "outputs": [],
   "source": [
    "\n",
    "display_engine_activity_c(row_limit=1,width=170)\n"
   ]
  },
  {
   "cell_type": "code",
   "execution_count": null,
   "id": "9774f26b-83b5-41aa-9935-38702b20e8da",
   "metadata": {},
   "outputs": [],
   "source": [
    "\n",
    "peters_client = EgeriaTech(peters_view_server, peters_view_server_url, peters_user_id, peters_user_pwd)\n",
    "token = peters_client.create_egeria_bearer_token()\n",
    "\n",
    "set_up_data_lake(peters_client, project_identifier, project_name, project_directory_name, project_schema_name)\n"
   ]
  },
  {
   "cell_type": "code",
   "execution_count": null,
   "id": "472953fa-ac69-42f2-8ae4-f1ffcf9cd99c",
   "metadata": {
    "scrolled": true
   },
   "outputs": [],
   "source": [
    "\n",
    "display_engine_activity_c(row_limit=1,width=170)\n"
   ]
  },
  {
   "cell_type": "code",
   "execution_count": null,
   "id": "27e48977-873b-42b7-9171-0aface5e96a6",
   "metadata": {},
   "outputs": [],
   "source": [
    "\n",
    "tanyas_client = EgeriaTech(tanyas_view_server, tanyas_view_server_url, tanyas_user_id, tanyas_user_pwd)\n",
    "token = tanyas_client.create_egeria_bearer_token()\n",
    "\n",
    "certify_hospital(tanyas_client, project_identifier, bowden_arrow_hospital_guid)\n"
   ]
  },
  {
   "cell_type": "code",
   "execution_count": null,
   "id": "c025c446-102d-4117-af5b-1f9c50502ebc",
   "metadata": {
    "scrolled": true
   },
   "outputs": [],
   "source": [
    "\n",
    "display_engine_activity_c(row_limit=1,width=170)\n"
   ]
  },
  {
   "cell_type": "code",
   "execution_count": null,
   "id": "c3650c58-c833-4d5b-9209-143810a3bb84",
   "metadata": {},
   "outputs": [],
   "source": [
    "peters_client = EgeriaTech(peters_view_server, peters_view_server_url, peters_user_id, peters_user_pwd)\n",
    "token = peters_client.create_egeria_bearer_token()\n",
    "\n",
    "bowden_arrow_landing_area_directory_name=onboard_hospital(peters_client, project_identifier, project_directory_name, bowden_arrow_hospital_guid, bowden_arrow_landing_folder_directory)"
   ]
  },
  {
   "cell_type": "code",
   "execution_count": null,
   "id": "1de50157-e1f3-42e2-b3bd-b569a803d82a",
   "metadata": {
    "scrolled": true
   },
   "outputs": [],
   "source": [
    "\n",
    "display_engine_activity_c(row_limit=2,width=170)\n"
   ]
  },
  {
   "cell_type": "code",
   "execution_count": null,
   "id": "6d892388-aa23-4c53-a988-14fed4f20f3b",
   "metadata": {},
   "outputs": [],
   "source": [
    "print_information_supply_chains(peters_client, \"Clinical Trial Treatment Validation::\" + project_identifier, True, True)"
   ]
  },
  {
   "cell_type": "code",
   "execution_count": null,
   "id": "af5280b1-509e-4740-a1d6-4704027af3f2",
   "metadata": {},
   "outputs": [],
   "source": [
    "\n",
    "print_asset_lineage_graph(peters_client, \"Data File Collection::Validated Incoming Weekly Measurements for the \" + project_name + \".\")\n"
   ]
  },
  {
   "cell_type": "markdown",
   "id": "6e878fb2-001c-4e05-8789-e5ecf3b28ab6",
   "metadata": {},
   "source": [
    "-----\n",
    "\n",
    "## Falcon Feather Mite\n"
   ]
  },
  {
   "cell_type": "code",
   "execution_count": null,
   "id": "dd9c6676-44f3-464f-b282-5c0dc799ace9",
   "metadata": {},
   "outputs": [],
   "source": [
    "\n",
    "print()\n",
    "\n",
    "project_identifier=\"PROJ-CT-FFM\"\n",
    "project_name=\"Falcon Feather Mite Clinical Trial\"\n",
    "project_description=\"Clinical trial related to the new treatment to cuew feather mites in falcons.\"\n",
    "project_directory_name=\"falcon-feather-mite\"\n",
    "project_schema_name=\"falcon-feather-mite\"\n",
    "\n",
    "print(\"Project \" + project_identifier + \": \" + project_name)\n",
    "print(\"  \" + project_description)\n"
   ]
  },
  {
   "cell_type": "code",
   "execution_count": null,
   "id": "ba0f2cc5-865a-4136-9693-b507091ed8ea",
   "metadata": {
    "scrolled": true
   },
   "outputs": [],
   "source": [
    "\n",
    "tessas_client = EgeriaTech(tessas_view_server, tessas_view_server_url, tessas_user_id, tessas_user_pwd)\n",
    "token = tessas_client.create_egeria_bearer_token()\n",
    "\n",
    "set_up_clinical_trial(tessas_client,\n",
    "                      parent_project_guid,\n",
    "                      clinical_trial_owner_guid,\n",
    "                      clinical_trial_manager_guid,\n",
    "                      project_manager_guid,\n",
    "                      data_engineer_guid,\n",
    "                      integration_developer_guid,\n",
    "                      data_scientist_guid,\n",
    "                      project_identifier, \n",
    "                      project_name,\n",
    "                      project_description) \n"
   ]
  },
  {
   "cell_type": "code",
   "execution_count": null,
   "id": "24d5e4e7-1b03-4851-aae8-9f70c2575e74",
   "metadata": {
    "scrolled": true
   },
   "outputs": [],
   "source": [
    "\n",
    "display_engine_activity_c(row_limit=1,width=170)\n"
   ]
  },
  {
   "cell_type": "code",
   "execution_count": null,
   "id": "5e77da06-d575-4853-8f60-a329fddc2174",
   "metadata": {
    "scrolled": true
   },
   "outputs": [],
   "source": [
    "\n",
    "print_matching_gov_action_processes(tessas_client, project_identifier)\n",
    "\n",
    "\n",
    "project_guid=tessas_client.get_element_guid_by_unique_name(\"Project::\" + project_identifier + \"::\" + project_name)\n",
    "print_project_graph(tessas_client, project_guid)\n"
   ]
  },
  {
   "cell_type": "code",
   "execution_count": null,
   "id": "f98371f9-9246-4f49-9b0d-9ffdadfd4043",
   "metadata": {},
   "outputs": [],
   "source": [
    "\n",
    "tanyas_client = EgeriaTech(tanyas_view_server, tanyas_view_server_url, tanyas_user_id, tanyas_user_pwd)\n",
    "token = tanyas_client.create_egeria_bearer_token()\n",
    "\n",
    "nominate_hospital(tanyas_client, project_identifier, old_market_hospital_guid, old_market_contact_person_guid)\n",
    "nominate_hospital(tanyas_client, project_identifier, hampton_hospital_guid, hampton_contact_person_guid)\n"
   ]
  },
  {
   "cell_type": "code",
   "execution_count": null,
   "id": "36496e25-cf4b-4d08-b84d-918a8d5ec34c",
   "metadata": {
    "scrolled": true
   },
   "outputs": [],
   "source": [
    "\n",
    "display_engine_activity_c(row_limit=1,width=170)\n"
   ]
  },
  {
   "cell_type": "code",
   "execution_count": null,
   "id": "a3ab39f2-6b3b-4f14-8dfb-6c9b1e623a95",
   "metadata": {},
   "outputs": [],
   "source": [
    "\n",
    "peters_client = EgeriaTech(peters_view_server, peters_view_server_url, peters_user_id, peters_user_pwd)\n",
    "token = peters_client.create_egeria_bearer_token()\n",
    "\n",
    "set_up_data_lake(peters_client, project_identifier, project_name, project_directory_name, project_schema_name)\n"
   ]
  },
  {
   "cell_type": "code",
   "execution_count": null,
   "id": "a4b1bce1-38fd-46ed-9229-cec386b20095",
   "metadata": {
    "scrolled": true
   },
   "outputs": [],
   "source": [
    "\n",
    "display_engine_activity_c(row_limit=1,width=170)\n"
   ]
  },
  {
   "cell_type": "code",
   "execution_count": null,
   "id": "c2726949-1fd8-4446-9f3c-e6ab20d7537d",
   "metadata": {},
   "outputs": [],
   "source": [
    "\n",
    "tanyas_client = EgeriaTech(tanyas_view_server, tanyas_view_server_url, tanyas_user_id, tanyas_user_pwd)\n",
    "token = tanyas_client.create_egeria_bearer_token()\n",
    "\n",
    "certify_hospital(tanyas_client, project_identifier, old_market_hospital_guid)\n",
    "certify_hospital(tanyas_client, project_identifier, hampton_hospital_guid)\n"
   ]
  },
  {
   "cell_type": "code",
   "execution_count": null,
   "id": "5cfc6c7a-ab03-48fd-bdb9-2b52c31a9ebe",
   "metadata": {
    "scrolled": true
   },
   "outputs": [],
   "source": [
    "\n",
    "display_engine_activity_c(row_limit=1,width=170)\n"
   ]
  },
  {
   "cell_type": "code",
   "execution_count": null,
   "id": "9d0a317a-a558-447d-90eb-0ed68d53d03f",
   "metadata": {},
   "outputs": [],
   "source": [
    "peters_client = EgeriaTech(peters_view_server, peters_view_server_url, peters_user_id, peters_user_pwd)\n",
    "token = peters_client.create_egeria_bearer_token()\n",
    "\n",
    "old_market_landing_area_directory_name=onboard_hospital(peters_client, project_identifier, project_directory_name, old_market_hospital_guid, old_market_landing_folder_directory)\n",
    "hampton_landing_area_directory_name=onboard_hospital(peters_client, project_identifier, project_directory_name, hampton_hospital_guid, hampton_landing_folder_directory)"
   ]
  },
  {
   "cell_type": "code",
   "execution_count": null,
   "id": "ce3460f3-c3b4-4848-b688-cc08660d9da9",
   "metadata": {
    "scrolled": true
   },
   "outputs": [],
   "source": [
    "\n",
    "display_engine_activity_c(row_limit=1,width=170)\n"
   ]
  },
  {
   "cell_type": "code",
   "execution_count": null,
   "id": "e535fed0-6630-4258-b5d8-464b81e226ea",
   "metadata": {},
   "outputs": [],
   "source": [
    "print_information_supply_chains(peters_client, \"Clinical Trial Treatment Validation::\" + project_identifier, True, True)"
   ]
  },
  {
   "cell_type": "code",
   "execution_count": null,
   "id": "427c8285-c4e7-490b-98b5-7e53a6f1c3a0",
   "metadata": {},
   "outputs": [],
   "source": [
    "\n",
    "print_asset_lineage_graph(peters_client, \"Data File Collection::Validated Incoming Weekly Measurements for the \" + project_name + \".\")\n"
   ]
  },
  {
   "cell_type": "markdown",
   "id": "a7c177a6-c7e2-4666-9eda-29e08fd4cf95",
   "metadata": {},
   "source": [
    "-----\n",
    "\n",
    "## Werewolf Transformation\n"
   ]
  },
  {
   "cell_type": "code",
   "execution_count": null,
   "id": "7cda1be3-5851-4f9d-8c6b-cf192a518845",
   "metadata": {},
   "outputs": [],
   "source": [
    "\n",
    "print()\n",
    "\n",
    "project_identifier=\"PROJ-CT-WTF\"\n",
    "project_name=\"Werewolf Transformation Clinical Trial\"\n",
    "project_description=\"Clinical trial related to the new treatment to minimise or prevent werewolf transformation.\"\n",
    "project_directory_name=\"werewolf-transformation\"\n",
    "project_schema_name=\"werewolf_transformation\"\n",
    "\n",
    "print(\"Project \" + project_identifier + \": \" + project_name)\n",
    "print(\"  \" + project_description)\n"
   ]
  },
  {
   "cell_type": "code",
   "execution_count": null,
   "id": "cf265f98-d30b-47dd-ae04-fab830924fce",
   "metadata": {
    "scrolled": true
   },
   "outputs": [],
   "source": [
    "\n",
    "tessas_client = EgeriaTech(tessas_view_server, tessas_view_server_url, tessas_user_id, tessas_user_pwd)\n",
    "token = tessas_client.create_egeria_bearer_token()\n",
    "\n",
    "set_up_clinical_trial(tessas_client,\n",
    "                      parent_project_guid,\n",
    "                      clinical_trial_owner_guid,\n",
    "                      clinical_trial_manager_guid,\n",
    "                      project_manager_guid,\n",
    "                      data_engineer_guid,\n",
    "                      integration_developer_guid,\n",
    "                      data_scientist_guid,\n",
    "                      project_identifier, \n",
    "                      project_name,\n",
    "                      project_description) \n"
   ]
  },
  {
   "cell_type": "code",
   "execution_count": null,
   "id": "f55ee0f9-60de-4527-b728-b6af1ad07a59",
   "metadata": {
    "scrolled": true
   },
   "outputs": [],
   "source": [
    "\n",
    "display_engine_activity_c(row_limit=1,width=170)\n"
   ]
  },
  {
   "cell_type": "code",
   "execution_count": null,
   "id": "be4c5441-34cf-46f6-b089-854f6a63caca",
   "metadata": {},
   "outputs": [],
   "source": [
    "\n",
    "print_matching_gov_action_processes(tessas_client, project_identifier)\n",
    "\n",
    "\n",
    "project_guid=tessas_client.get_element_guid_by_unique_name(\"Project::\" + project_identifier + \"::\" + project_name)\n",
    "print_project_graph(tessas_client, project_guid)\n"
   ]
  },
  {
   "cell_type": "code",
   "execution_count": null,
   "id": "a98d83cf-f85a-44ba-9c20-56f708b65208",
   "metadata": {},
   "outputs": [],
   "source": [
    "\n",
    "tanyas_client = EgeriaTech(tanyas_view_server, tanyas_view_server_url, tanyas_user_id, tanyas_user_pwd)\n",
    "token = tanyas_client.create_egeria_bearer_token()\n",
    "\n",
    "nominate_hospital(tanyas_client, project_identifier, oak_dene_hospital_guid, oak_dene_contact_person_guid)\n",
    "nominate_hospital(tanyas_client, project_identifier, old_market_hospital_guid, old_market_contact_person_guid)\n",
    "nominate_hospital(tanyas_client, project_identifier, hampton_hospital_guid, hampton_contact_person_guid)\n",
    "nominate_hospital(tanyas_client, project_identifier, bowden_arrow_hospital_guid, bowden_arrow_contact_person_guid)\n"
   ]
  },
  {
   "cell_type": "code",
   "execution_count": null,
   "id": "4f4b2547-34dc-4def-a36b-1c4bcdb16171",
   "metadata": {
    "scrolled": true
   },
   "outputs": [],
   "source": [
    "\n",
    "display_engine_activity_c(row_limit=4, width=150)\n"
   ]
  },
  {
   "cell_type": "code",
   "execution_count": null,
   "id": "76cba00f-65b3-47fc-bcbf-47dfef363900",
   "metadata": {},
   "outputs": [],
   "source": [
    "\n",
    "peters_client = EgeriaTech(peters_view_server, peters_view_server_url, peters_user_id, peters_user_pwd)\n",
    "token = peters_client.create_egeria_bearer_token()\n",
    "\n",
    "set_up_data_lake(peters_client, project_identifier, project_name, project_directory_name, project_schema_name)\n"
   ]
  },
  {
   "cell_type": "code",
   "execution_count": null,
   "id": "73c06eaf-82f0-4363-8211-7283c7f18c14",
   "metadata": {
    "scrolled": true
   },
   "outputs": [],
   "source": [
    "\n",
    "display_engine_activity_c(row_limit=1, width=150)\n"
   ]
  },
  {
   "cell_type": "code",
   "execution_count": null,
   "id": "aea0ea18-895f-43fb-808b-b3918df2fc8a",
   "metadata": {},
   "outputs": [],
   "source": [
    "\n",
    "tanyas_client = EgeriaTech(tanyas_view_server, tanyas_view_server_url, tanyas_user_id, tanyas_user_pwd)\n",
    "token = tanyas_client.create_egeria_bearer_token()\n",
    "\n",
    "certify_hospital(tanyas_client, project_identifier, oak_dene_hospital_guid)\n",
    "certify_hospital(tanyas_client, project_identifier, old_market_hospital_guid)\n",
    "certify_hospital(tanyas_client, project_identifier, hampton_hospital_guid)\n",
    "certify_hospital(tanyas_client, project_identifier, bowden_arrow_hospital_guid)\n"
   ]
  },
  {
   "cell_type": "code",
   "execution_count": null,
   "id": "6d1f3823-e417-427a-9ba5-6530f085b02d",
   "metadata": {
    "scrolled": true
   },
   "outputs": [],
   "source": [
    "\n",
    "display_engine_activity_c(row_limit=4, width=150)\n"
   ]
  },
  {
   "cell_type": "code",
   "execution_count": null,
   "id": "ff0b2405-5864-4786-bcf9-7dbd1deb473d",
   "metadata": {},
   "outputs": [],
   "source": [
    "peters_client = EgeriaTech(peters_view_server, peters_view_server_url, peters_user_id, peters_user_pwd)\n",
    "token = peters_client.create_egeria_bearer_token()\n",
    "\n",
    "oak_dene_landing_area_directory_name=onboard_hospital(peters_client, project_identifier, project_directory_name, oak_dene_hospital_guid, oak_dene_landing_folder_directory)\n",
    "old_market_landing_area_directory_name=onboard_hospital(peters_client, project_identifier, project_directory_name, old_market_hospital_guid, old_market_landing_folder_directory)\n",
    "hampton_landing_area_directory_name=onboard_hospital(peters_client, project_identifier, project_directory_name, hampton_hospital_guid, hampton_landing_folder_directory)\n",
    "bowden_arrow_landing_area_directory_name=onboard_hospital(peters_client, project_identifier, project_directory_name, bowden_arrow_hospital_guid, bowden_arrow_landing_folder_directory)"
   ]
  },
  {
   "cell_type": "code",
   "execution_count": null,
   "id": "072d4cb6-7d57-49aa-9609-fe836edf2cca",
   "metadata": {},
   "outputs": [],
   "source": [
    "\n",
    "print_information_supply_chains(peters_client, \"Clinical Trial Treatment Validation::\" + project_identifier, True, True)\n"
   ]
  },
  {
   "cell_type": "code",
   "execution_count": null,
   "id": "d4655bfe-a249-4a71-9a1f-af7056d23c14",
   "metadata": {},
   "outputs": [],
   "source": [
    "\n",
    "print_information_supply_chains(peters_client, \"Clinical Trial Treatment Validation::\" + project_identifier, True, True)\n"
   ]
  },
  {
   "cell_type": "code",
   "execution_count": null,
   "id": "765580ee-818d-4b7f-82d4-1f41ac89eb07",
   "metadata": {},
   "outputs": [],
   "source": [
    "\n",
    "add_file_to_landing_area(peters_client, oak_dene_source_folder, oak_dene_landing_area_directory_name, \"1\")\n"
   ]
  },
  {
   "cell_type": "code",
   "execution_count": null,
   "id": "7818da72-8fe9-4f64-b5c8-9b9fb499f6e7",
   "metadata": {},
   "outputs": [],
   "source": [
    "\n",
    "print_information_supply_chains(peters_client, \"Clinical Trial Treatment Validation::\" + project_identifier, True, True)\n"
   ]
  },
  {
   "cell_type": "code",
   "execution_count": null,
   "id": "5886631a-fcc2-4b33-a27b-4057729bc84e",
   "metadata": {},
   "outputs": [],
   "source": [
    "\n",
    "print_asset_lineage_graph(peters_client, \"Data File Collection::Validated Incoming Weekly Measurements for the \" + project_name + \".\")\n"
   ]
  },
  {
   "cell_type": "code",
   "execution_count": null,
   "id": "2bf09295-7908-4416-94ba-d5d61e752286",
   "metadata": {},
   "outputs": [],
   "source": [
    "integration_connector_unique_name = \"Egeria:IntegrationGroup:Default::GeneralFilesMonitorIntegrationConnector\"\n",
    "\n",
    "print_asset_graph(callies_client, integration_connector_unique_name)\n",
    "print_asset_isc_graph(callies_client, integration_connector_unique_name)\n",
    "print_asset_field_level_lineage_graph(callies_client, integration_connector_unique_name)\n",
    "print_asset_action_graph(callies_client, integration_connector_unique_name)\n",
    "print_asset_local_lineage_graph(callies_client, integration_connector_unique_name)\n"
   ]
  },
  {
   "cell_type": "code",
   "execution_count": null,
   "id": "b6c98348-f353-4580-b790-d4ffc5756d83",
   "metadata": {},
   "outputs": [],
   "source": []
  }
 ],
 "metadata": {
  "kernelspec": {
   "display_name": "Python 3 (ipykernel)",
   "language": "python",
   "name": "python3"
  },
  "language_info": {
   "codemirror_mode": {
    "name": "ipython",
    "version": 3
   },
   "file_extension": ".py",
   "mimetype": "text/x-python",
   "name": "python",
   "nbconvert_exporter": "python",
   "pygments_lexer": "ipython3",
   "version": "3.12.8"
  }
 },
 "nbformat": 4,
 "nbformat_minor": 5
}

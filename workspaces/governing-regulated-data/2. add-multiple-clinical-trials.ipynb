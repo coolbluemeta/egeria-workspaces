{
 "cells": [
  {
   "cell_type": "markdown",
   "id": "f383d7a7-16be-40d0-9b84-c58518a79a7c",
   "metadata": {},
   "source": [
    "![Egeria Logo](https://raw.githubusercontent.com/odpi/egeria/main/assets/img/ODPi_Egeria_Logo_color.png)\n",
    "\n",
    "### Egeria Coco Lab\n",
    "\n",
    "# Setting Up A Clinical Trial\n",
    "\n",
    "## Introduction\n",
    "\n",
    "This notebook adds multiple clinical trials to Egeria to demonstrate the difference between information supply chains and solution blueprints.\n"
   ]
  },
  {
   "cell_type": "code",
   "execution_count": null,
   "id": "fcb7c73e-4023-46f5-9416-0446e2db52f5",
   "metadata": {},
   "outputs": [],
   "source": [
    "# Initialize pyegeria\n",
    "\n",
    "%run ../pyegeria/initialize-pyegeria.ipynb\n",
    "\n",
    "from datetime import datetime\n"
   ]
  },
  {
   "cell_type": "code",
   "execution_count": null,
   "id": "d0f3e685-0108-4766-a616-f672bf3345b2",
   "metadata": {},
   "outputs": [],
   "source": [
    "\n",
    "user_id = \"erinoverview\"\n",
    "egeria_client = EgeriaTech(view_server, url, user_id, user_pwd)\n",
    "token = egeria_client.create_egeria_bearer_token()\n"
   ]
  },
  {
   "cell_type": "code",
   "execution_count": null,
   "id": "8fa426df-8782-4b3c-b257-2f231caa3d88",
   "metadata": {},
   "outputs": [],
   "source": [
    "\n",
    "egeria_client.add_archive_file(\"content-packs/CocoComboArchive.omarchive\", None, \"qs-metadata-store\")\n",
    "\n",
    "print(\"CocoComboArchive loaded!\")\n"
   ]
  },
  {
   "cell_type": "code",
   "execution_count": null,
   "id": "ccdec646-537e-4079-bb89-4243ce3cf12f",
   "metadata": {},
   "outputs": [],
   "source": [
    "display_gov_eng_status(['AssetOnboarding','AssetQuality@CocoPharmaceuticals','ClinicalTrials@CocoPharmaceuticals','UnityCatalogGovernance','UnityCatalogSurvey'],\n",
    "                       status_filter=[\"*\"],\n",
    "                       engine_host = 'qs-engine-host',  view_server = 'qs-view-server',\n",
    "                       paging = True, jupyter = True,width = 170,sort = True)"
   ]
  },
  {
   "cell_type": "code",
   "execution_count": null,
   "id": "b8e66d2a-1a30-4367-b1bd-a6e01cf055f8",
   "metadata": {},
   "outputs": [],
   "source": [
    "\n",
    "print_solution_blueprints(egeria_client, \"Clinical Trial Management Solution Blueprint\")\n"
   ]
  },
  {
   "cell_type": "code",
   "execution_count": null,
   "id": "8e836a8b-d471-4fb3-a88c-0ceaad3d9dad",
   "metadata": {},
   "outputs": [],
   "source": [
    "\n",
    "parent_project_name=\"Campaign:Clinical Trials Management\"\n",
    "parent_project_guid=egeria_client.get_element_guid_by_unique_name(parent_project_name)\n",
    "\n",
    "print(\"Parent project: \" + parent_project_name)\n",
    "print(\"  parent project GUID: \" + parent_project_guid)\n",
    "\n",
    "print_project(egeria_client, parent_project_guid)\n"
   ]
  },
  {
   "cell_type": "code",
   "execution_count": null,
   "id": "9c577997-f324-4582-9b81-7f721dc9dd49",
   "metadata": {},
   "outputs": [],
   "source": [
    "# use the same people for each of these clinical trials\n",
    "\n",
    "print()\n",
    "\n",
    "clinical_trial_owner_name=\"Tessa Tube\"\n",
    "print(\"clinical trial owner name: \" + clinical_trial_owner_name)\n",
    "clinical_trial_owner_guid = egeria_client.get_guid_for_name(clinical_trial_owner_name)\n",
    "print(\"clinical trial owner GUID: \" + clinical_trial_owner_guid)\n",
    "\n",
    "print()\n",
    "clinical_trial_manager_name=\"Tanya Tidie\"\n",
    "print(\"clinical trial manager name: \" + clinical_trial_manager_name)\n",
    "clinical_trial_manager_guid = egeria_client.get_guid_for_name(clinical_trial_manager_name)\n",
    "print(\"clinical trial manager GUID: \" + clinical_trial_manager_guid)\n",
    "\n",
    "print()\n",
    "data_scientist_name=\"Callie Quartile\"\n",
    "print(\"data scientist name: \" + data_scientist_name)\n",
    "data_scientist_guid = egeria_client.get_guid_for_name(data_scientist_name)\n",
    "print(\"data scientist GUID: \" + data_scientist_guid)\n",
    "\n",
    "print()\n",
    "data_engineer_name=\"Peter Profile\"\n",
    "print(\"data engineer name: \" + data_engineer_name)\n",
    "data_engineer_guid = egeria_client.get_guid_for_name(data_engineer_name) \n",
    "print(\"data engineer GUID: \" + data_engineer_guid)\n",
    "\n",
    "print()\n",
    "project_manager_name=\"Polly Tasker\"\n",
    "print(\"project manager name: \" + project_manager_name)\n",
    "project_manager_guid = egeria_client.get_guid_for_name(project_manager_name) \n",
    "print(\"project manager GUID: \" + project_manager_guid)\n",
    "\n",
    "print()\n",
    "integration_developer_name=\"Bob Nitter\"\n",
    "print(\"integration developer name: \" + integration_developer_name)\n",
    "integration_developer_guid = egeria_client.get_guid_for_name(integration_developer_name) \n",
    "print(\"integration developer GUID: \" + integration_developer_guid)\n",
    "\n",
    "print()"
   ]
  },
  {
   "cell_type": "code",
   "execution_count": null,
   "id": "3f11a341-4398-47a7-9b29-962aafb65a46",
   "metadata": {},
   "outputs": [],
   "source": [
    "# Identify the hospitals\n",
    "\n",
    "print()\n",
    "\n",
    "oak_dene_hospital_name=\"Oak Dene Hospital\"\n",
    "print(oak_dene_hospital_name)\n",
    "oak_dene_hospital_guid=egeria_client.get_element_guid_by_unique_name(\"Organization::\" + oak_dene_hospital_name)\n",
    "print(\"  oakDeneHospitalGUID: \" + oak_dene_hospital_guid)\n",
    "oak_dene_contact_person_name=\"Robbie Records\"\n",
    "print(\"  oakDeneContactPersonName: \" + oak_dene_contact_person_name)\n",
    "oak_dene_contact_person_guid=egeria_client.get_guid_for_name(oak_dene_contact_person_name)\n",
    "print(\"  oakDeneContactPersonGUID: \" + oak_dene_contact_person_guid)\n",
    "\n",
    "print()\n",
    "old_market_hospital_name=\"Old Market Hospital\"\n",
    "print(old_market_hospital_name)\n",
    "old_market_hospital_guid=egeria_client.get_element_guid_by_unique_name(\"Organization::\" + old_market_hospital_name)\n",
    "print(\"  oldMarketHospitalGUID: \" + old_market_hospital_guid)\n",
    "old_market_contact_person_name=\"Nellie Dunn\"\n",
    "print(\"  oldMarketContactPersonName: \" + old_market_contact_person_name)\n",
    "old_market_contact_person_guid=egeria_client.get_guid_for_name(old_market_contact_person_name)\n",
    "print(\"  oldMarketContactPersonGUID: \" + old_market_contact_person_guid)\n",
    "\n",
    "print()\n",
    "hampton_hospital_name=\"Hampton Hospital\"\n",
    "print(hampton_hospital_name)\n",
    "hampton_hospital_guid=egeria_client.get_element_guid_by_unique_name(\"Organization::\" + hampton_hospital_name)\n",
    "print(\"  hamptonHospitalGUID: \" + hampton_hospital_guid)\n",
    "hampton_contact_person_name=\"Grant Able\"\n",
    "print(\"  hamptonContactPersonName: \" + hampton_contact_person_name)\n",
    "hampton_contact_person_guid=egeria_client.get_guid_for_name(hampton_contact_person_name)\n",
    "print(\"  hamptonContactPersonGUID: \" + hampton_contact_person_guid)\n",
    "\n",
    "\n",
    "print()\n",
    "bowden_arrow_hospital_name=\"Bowden Arrow Hospital\"\n",
    "print(bowden_arrow_hospital_name)\n",
    "bowden_arrow_hospital_guid=egeria_client.get_element_guid_by_unique_name(\"Organization::\" + bowden_arrow_hospital_name)\n",
    "print(\"  hamptonHospitalGUID: \" + bowden_arrow_hospital_guid)\n",
    "bowden_arrow_contact_person_name=\"Julie Stitched\"\n",
    "print(\"  hamptonContactPersonName: \" + bowden_arrow_contact_person_name)\n",
    "bowden_arrow_contact_person_guid=egeria_client.get_guid_for_name(bowden_arrow_contact_person_name)\n",
    "print(\"  hamptonContactPersonGUID: \" + bowden_arrow_contact_person_guid)\n",
    "print()\n",
    "\n",
    "\n",
    "oak_dene_source_folder = '../opt/coco-pharmaceuticals/oak-dene-drop-foot-weekly-measurements'\n",
    "old_market_source_folder = '../opt/coco-pharmaceuticals/old-market-drop-foot-weekly-measurements'\n",
    "hampton_source_folder = '../opt/coco-pharmaceuticals/hampton-drop-foot-weekly-measurements'\n"
   ]
  },
  {
   "cell_type": "code",
   "execution_count": null,
   "id": "b4658fdd-cca6-4c6f-9e0f-9406e9266b55",
   "metadata": {
    "scrolled": true
   },
   "outputs": [],
   "source": [
    "## Identifiy the templates\n",
    "\n",
    "data_lake_schema_template_guid=TEMPLATE_GUIDS['Unity Catalog Schema']\n",
    "print(\"dataLakeSchemaTemplateGUID: \" + data_lake_schema_template_guid)\n",
    "print_asset_graph_by_guid(egeria_client, data_lake_schema_template_guid)\n",
    "\n",
    "data_lake_volume_template_guid=TEMPLATE_GUIDS['Unity Catalog Volume']\n",
    "print(\"dataLakeVolumeTemplateGUID: \" + data_lake_volume_template_guid)\n",
    "print_asset_graph_by_guid(egeria_client, data_lake_volume_template_guid)\n",
    "\n",
    "data_lake_file_template_guid = tessas_client.get_element_guid_by_unique_name(\"DataLake::{{clinicalTrialId}}::CSVFile::{{filePathName}}\")\n",
    "print(\"dataLakeFileTemplateGUID: \" + data_lake_file_template_guid)\n",
    "print_asset_graph_by_guid(egeria_client, data_lake_file_template_guid)\n",
    "\n",
    "landing_area_directory_template_guid = tessas_client.get_element_guid_by_unique_name(\"Data Folder:{{fileSystemName}}.{{directoryPathName}}\")\n",
    "print(\"landingAreaDirectoryTemplateGUID: \" + landing_area_directory_template_guid)\n",
    "print_asset_graph_by_guid(egeria_client, landing_area_directory_template_guid)\n",
    "\n",
    "landing_area_file_template_guid = tessas_client.get_element_guid_by_unique_name(\"LandingArea::{{hospitalName}}::{{clinicalTrialId}}::CSVFile::{{filePathName}}\")\n",
    "print(\"landingAreaFileTemplateGUID: \" + landing_area_file_template_guid)\n",
    "print_asset_graph_by_guid(egeria_client, landing_area_file_template_guid)\n",
    "\n",
    "#validated_weekly_files_template_guid = \"26d6bcdc-ce05-4e0b-8685-cd40777dc5f9\"\n",
    "validated_weekly_files_template_guid = peters_client.get_element_guid_by_unique_name(\"Data File Collection::{{displayName}}\")\n",
    "print(\"validatedWeeklyFilesTemplateGUID: \" + validated_weekly_files_template_guid)\n",
    "print_asset_graph_by_guid(peters_client, validated_weekly_files_template_guid)\n",
    "\n",
    "postgres_server_name=\"LocalPostgreSQL1\"\n",
    "postgres_secrets_collection_name = \"PostgreSQL Server:LocalPostgreSQL1\"\n",
    "postgres_host_identifier=\"localhost\"\n",
    "postgres_port_number=\"5432\"\n",
    "postgres_database_name=\"clinical_trials\"\n",
    "\n",
    "secrets_store_path_name = \"loading-bay/secrets/default.omsecrets\"\n",
    "\n"
   ]
  },
  {
   "cell_type": "code",
   "execution_count": null,
   "id": "809306bc-3855-429e-a91d-11d17bdf9aba",
   "metadata": {},
   "outputs": [],
   "source": [
    "\n",
    "# Identify the standard onboarding pipeline\n",
    "\n",
    "onboarding_pipeline_name = \"Onboard Landing Area Files For Clinical Trial Project\"\n",
    "onboarding_pipeline_guid = egeria_client.get_guid_for_name(onboarding_pipeline_name) \n",
    "\n",
    "process_graph = egeria_client.get_gov_action_process_graph(onboarding_pipeline_guid)\n",
    "print_governance_action_process_graph(process_graph)\n",
    "\n"
   ]
  },
  {
   "cell_type": "code",
   "execution_count": null,
   "id": "cfef4049-4aff-46e5-b617-3c7d73e888a7",
   "metadata": {},
   "outputs": [],
   "source": [
    "\n",
    "# Check Unity Catalog is ready\n",
    "\n",
    "\n",
    "#uc_server_url=\"http://host.docker.internal:8087\"\n",
    "uc_server_url=\"http://localhost:8087\"\n",
    "catalog_name=\"clinical_trials\"\n",
    "\n",
    "catalog_guid=egeria_client.get_element_guid_by_unique_name(\"Unity Catalog Catalog::\" + uc_server_url + \"::\" + catalog_name)\n",
    "print(catalog_guid)\n",
    "\n"
   ]
  },
  {
   "cell_type": "code",
   "execution_count": null,
   "id": "9ae860bd-69aa-4f8e-a941-e382d2348294",
   "metadata": {},
   "outputs": [],
   "source": [
    "\n",
    "set_up_clinical_trial_name=\"ClinicalTrials@CocoPharmaceuticals:set-up-clinical-trial\"\n"
   ]
  },
  {
   "cell_type": "code",
   "execution_count": null,
   "id": "3683ad41-d101-4af2-a44b-f65887289760",
   "metadata": {},
   "outputs": [],
   "source": [
    "\n",
    "def add_file_to_landing_area(egeria_client, source_folder, destination_folder, week_number):\n",
    "    add_file_to_landing_area_name=\"ClinicalTrials@CocoPharmaceuticals:simulate-ftp\"\n",
    "    source_file_name = source_folder + \"/\" + \"week\" + week_number + \".csv\"\n",
    "    print(\"Moving \" + source_file_name + \" to \" + destination_folder)\n",
    "    request_parameters = {\n",
    "        \"sourceFile\" : source_file_name,\n",
    "        \"destinationDirectory\" : destination_folder\n",
    "    }\n",
    "    egeria_client.initiate_gov_action_type(add_file_to_landing_area_name, None, None, None, request_parameters, None)\n"
   ]
  },
  {
   "cell_type": "markdown",
   "id": "eaa1ada7-f0cf-4293-8baf-4306eee3a305",
   "metadata": {},
   "source": [
    "\n",
    "## Werewolf Transformation\n"
   ]
  },
  {
   "cell_type": "code",
   "execution_count": null,
   "id": "937aaa0d-ba32-43cb-bb5e-1a51a5ed4a8d",
   "metadata": {},
   "outputs": [],
   "source": [
    "\n",
    "user_id = \"tessatube\"\n",
    "tessas_client = EgeriaTech(view_server, url, user_id, user_pwd)\n",
    "token = tessas_client.create_egeria_bearer_token()\n"
   ]
  },
  {
   "cell_type": "code",
   "execution_count": null,
   "id": "27c40c5c-e92e-429c-ab7b-5dad34443ffd",
   "metadata": {},
   "outputs": [],
   "source": [
    "\n",
    "print()\n",
    "\n",
    "project_identifier=\"PROJ-CT-WTF\"\n",
    "project_name=\"Werewolf Transformation Clinical Trial\"\n",
    "project_description=\"Clinical trial related to the new treatment to minimise or prevent werewolf transformation.\"\n",
    "project_directory_name=\"werewolf-transformation\"\n",
    "project_schema_name=\"werewolf_transformation\"\n",
    "\n",
    "print(\"Project \" + project_identifier + \": \" + project_name)\n",
    "print(\"  \" + project_description)\n"
   ]
  },
  {
   "cell_type": "code",
   "execution_count": null,
   "id": "95989e78-148b-45a1-bf42-ea99ac963ecc",
   "metadata": {},
   "outputs": [],
   "source": [
    "\n",
    "\n",
    "action_targets = [{\n",
    "      \"class\" : \"NewActionTarget\",\n",
    "      \"actionTargetName\": \"clinicalTrialParentProject\",\n",
    "      \"actionTargetGUID\": parent_project_guid\n",
    "    },\n",
    "    {\n",
    "      \"class\" : \"NewActionTarget\",\n",
    "      \"actionTargetName\": \"clinicalTrialOwner\",\n",
    "      \"actionTargetGUID\": clinical_trial_owner_guid \n",
    "    },\n",
    "    {\n",
    "      \"class\" : \"NewActionTarget\",\n",
    "      \"actionTargetName\": \"clinicalTrialManager\",\n",
    "      \"actionTargetGUID\": clinical_trial_manager_guid \n",
    "    },\n",
    "    {\n",
    "      \"class\" : \"NewActionTarget\",\n",
    "      \"actionTargetName\": \"itProjectManager\",\n",
    "      \"actionTargetGUID\": project_manager_guid\n",
    "    },\n",
    "    {\n",
    "      \"class\" : \"NewActionTarget\",\n",
    "      \"actionTargetName\": \"dataEngineer\",\n",
    "      \"actionTargetGUID\": data_engineer_guid\n",
    "    },\n",
    "    {\n",
    "      \"class\" : \"NewActionTarget\",\n",
    "      \"actionTargetName\": \"integrationDeveloper\",\n",
    "      \"actionTargetGUID\": integration_developer_guid\n",
    "    },\n",
    "    {\n",
    "      \"class\" : \"NewActionTarget\",\n",
    "      \"actionTargetName\": \"dataScientist\",\n",
    "      \"actionTargetGUID\": data_scientist_guid\n",
    "    }]\n",
    "\n",
    "request_parameters = request_parameters = {\n",
    "     \"clinicalTrialId\" : project_identifier,\n",
    "     \"clinicalTrialName\" : project_name,\n",
    "     \"clinicalTrialDescription\" : project_description\n",
    "}\n",
    "\n",
    "tessas_client.initiate_gov_action_type(set_up_clinical_trial_name, None, action_targets, None, request_parameters, None, None)\n"
   ]
  },
  {
   "cell_type": "code",
   "execution_count": null,
   "id": "68a218ee-776b-461d-b66d-11d6f290b0f6",
   "metadata": {
    "scrolled": true
   },
   "outputs": [],
   "source": [
    "\n",
    "display_engine_activity_c(row_limit=1,width=170)\n"
   ]
  },
  {
   "cell_type": "code",
   "execution_count": null,
   "id": "a560207b-da9e-484d-989a-4152ce3cbe82",
   "metadata": {
    "scrolled": true
   },
   "outputs": [],
   "source": [
    "\n",
    "print_matching_gov_action_processes(tessas_client, project_identifier)\n"
   ]
  },
  {
   "cell_type": "code",
   "execution_count": null,
   "id": "db903fef-6167-4f83-ae0b-a7d70d50f8f4",
   "metadata": {},
   "outputs": [],
   "source": [
    "\n",
    "project_guid=tessas_client.get_element_guid_by_unique_name(\"Project::\" + project_identifier + \"::\" + project_name)\n",
    "print_project_graph(tessas_client, project_guid)\n"
   ]
  },
  {
   "cell_type": "code",
   "execution_count": null,
   "id": "f64eba12-4460-4e4d-8cc0-acb074ce288b",
   "metadata": {},
   "outputs": [],
   "source": [
    "\n",
    "user_id = \"tanyatidie\"\n",
    "tanyas_client = EgeriaTech(view_server, url, user_id, user_pwd)\n",
    "token = tanyas_client.create_egeria_bearer_token()\n"
   ]
  },
  {
   "cell_type": "code",
   "execution_count": null,
   "id": "9aaf8671-584f-4d17-997f-b181f170025a",
   "metadata": {},
   "outputs": [],
   "source": [
    "\n",
    "\n",
    "nominate_hospital_name = \"ClinicalTrials:\" + project_identifier + \":nominate-hospital\"\n",
    "\n",
    "process_guid = tanyas_client.get_element_guid_by_unique_name(nominate_hospital_name)\n",
    "\n",
    "process_graph = tanyas_client.get_gov_action_process_graph(process_guid)\n",
    "print_governance_action_process_graph(process_graph)\n"
   ]
  },
  {
   "cell_type": "code",
   "execution_count": null,
   "id": "228ad39e-3e1e-4e93-b37d-3321b888ff55",
   "metadata": {},
   "outputs": [],
   "source": [
    "\n",
    "\n",
    "action_targets = [{\n",
    "      \"class\" : \"NewActionTarget\",\n",
    "      \"actionTargetName\": \"hospital\",\n",
    "      \"actionTargetGUID\": oak_dene_hospital_guid\n",
    "    },\n",
    "    {\n",
    "      \"class\" : \"NewActionTarget\",\n",
    "      \"actionTargetName\": \"hospitalContactPerson\",\n",
    "      \"actionTargetGUID\": oak_dene_contact_person_guid\n",
    "    }]\n",
    "\n",
    "\n",
    "tanyas_client.initiate_gov_action_process(nominate_hospital_name, None, action_targets, datetime.now(), None, None, None)\n"
   ]
  },
  {
   "cell_type": "code",
   "execution_count": null,
   "id": "c3d932f3-d5ae-4cbb-a911-502b38618261",
   "metadata": {},
   "outputs": [],
   "source": [
    "\n",
    "action_targets = [{\n",
    "      \"class\" : \"NewActionTarget\",\n",
    "      \"actionTargetName\": \"hospital\",\n",
    "      \"actionTargetGUID\": old_market_hospital_guid\n",
    "    },\n",
    "    {\n",
    "      \"class\" : \"NewActionTarget\",\n",
    "      \"actionTargetName\": \"hospitalContactPerson\",\n",
    "      \"actionTargetGUID\": old_market_contact_person_guid\n",
    "    }]\n",
    "\n",
    "tanyas_client.initiate_gov_action_process(nominate_hospital_name, None, action_targets, datetime.now(), None, None, None)\n"
   ]
  },
  {
   "cell_type": "code",
   "execution_count": null,
   "id": "8fff8a06-4a7d-49c0-85d2-93804344304b",
   "metadata": {},
   "outputs": [],
   "source": [
    "\n",
    "\n",
    "action_targets = [{\n",
    "      \"class\" : \"NewActionTarget\",\n",
    "      \"actionTargetName\": \"hospital\",\n",
    "      \"actionTargetGUID\": hampton_hospital_guid\n",
    "    },\n",
    "    {\n",
    "      \"class\" : \"NewActionTarget\",\n",
    "      \"actionTargetName\": \"hospitalContactPerson\",\n",
    "      \"actionTargetGUID\": hampton_contact_person_guid\n",
    "    }]\n",
    "\n",
    "\n",
    "tanyas_client.initiate_gov_action_process(nominate_hospital_name, None, action_targets, datetime.now(), None, None, None)\n"
   ]
  },
  {
   "cell_type": "code",
   "execution_count": null,
   "id": "f866a282-ef92-4487-8511-788fc93cbbda",
   "metadata": {},
   "outputs": [],
   "source": [
    "\n",
    "\n",
    "action_targets = [{\n",
    "      \"class\" : \"NewActionTarget\",\n",
    "      \"actionTargetName\": \"hospital\",\n",
    "      \"actionTargetGUID\": bowden_arrow_hospital_guid\n",
    "    },\n",
    "    {\n",
    "      \"class\" : \"NewActionTarget\",\n",
    "      \"actionTargetName\": \"hospitalContactPerson\",\n",
    "      \"actionTargetGUID\": bowden_arrow_contact_person_guid\n",
    "    }]\n",
    "\n",
    "\n",
    "tanyas_client.initiate_gov_action_process(nominate_hospital_name, None, action_targets, datetime.now(), None, None, None)\n"
   ]
  },
  {
   "cell_type": "code",
   "execution_count": null,
   "id": "139399d5-657f-4be6-980b-22ff78dfc951",
   "metadata": {
    "scrolled": true
   },
   "outputs": [],
   "source": [
    "\n",
    "display_engine_activity_c(row_limit=4, width=150)\n"
   ]
  },
  {
   "cell_type": "code",
   "execution_count": null,
   "id": "3935042f-4c6c-493c-b598-a6def2293dc0",
   "metadata": {
    "scrolled": true
   },
   "outputs": [],
   "source": [
    "\n",
    "print_information_supply_chains(egeria_client, \"Clinical Trial Treatment Validation:\" + project_identifier, True, True)\n"
   ]
  },
  {
   "cell_type": "code",
   "execution_count": null,
   "id": "27e0ea5e-23af-43a9-bea3-0183f3d0a829",
   "metadata": {},
   "outputs": [],
   "source": [
    "\n",
    "user_id = \"peterprofile\"\n",
    "peters_client = EgeriaTech(view_server, url, user_id, user_pwd)\n",
    "token = peters_client.create_egeria_bearer_token()\n"
   ]
  },
  {
   "cell_type": "code",
   "execution_count": null,
   "id": "36158109-f7bc-41e7-b02d-1b9cdf928f5b",
   "metadata": {
    "scrolled": true
   },
   "outputs": [],
   "source": [
    "\n",
    "\n",
    "set_up_data_lake_process_name=\"ClinicalTrials:\" + project_identifier + \":set-up-data-lake\"\n",
    "\n",
    "process_guid = peters_client.get_element_guid_by_unique_name(set_up_data_lake_process_name)\n",
    "\n",
    "process_graph = peters_client.get_gov_action_process_graph(process_guid)\n",
    "print_governance_action_process_graph(process_graph)\n",
    "\n"
   ]
  },
  {
   "cell_type": "code",
   "execution_count": null,
   "id": "d29051db-a665-4551-b653-e510850166cf",
   "metadata": {},
   "outputs": [],
   "source": [
    "\n",
    "data_lake_directory_path_name=\"coco-data-lake/research/clinical-trials/\" + project_directory_name + \"/weekly-measurements\"\n",
    "\n",
    "airflow_dag_name=\"populate_\" + project_schema_name + \"_sandbox\"\n",
    "\n",
    "\n",
    "\n",
    "action_targets = [{\n",
    "      \"class\" : \"NewActionTarget\",\n",
    "      \"actionTargetName\": \"dataLakeCatalog\",\n",
    "      \"actionTargetGUID\": catalog_guid\n",
    "    },\n",
    "    {\n",
    "      \"class\" : \"NewActionTarget\",\n",
    "      \"actionTargetName\": \"onboardingPipeline\",\n",
    "      \"actionTargetGUID\": onboarding_pipeline_guid \n",
    "    }]\n",
    "\n",
    "request_parameters = {\n",
    "     \"dataLakeVolumeTemplateGUID\" : data_lake_volume_template_guid,\n",
    "     \"dataLakeSchemaTemplateGUID\" : data_lake_schema_template_guid,\n",
    "     \"dataLakeFileTemplateGUID\" : data_lake_file_template_guid,\n",
    "     \"landingAreaDirectoryTemplateGUID\" : landing_area_directory_template_guid,\n",
    "     \"landingAreaFileTemplateGUID\" : landing_area_file_template_guid,\n",
    "     \"dataLakeSchemaName\" : project_schema_name,\n",
    "     \"dataLakeSchemaDescription\" : \"Data for the \" + project_name + \".\",\n",
    "     \"dataLakeVolumeName\" : \"weekly_measurements\",\n",
    "     \"dataLakeVolumeDescription\" : \"Weekly patient measurements\",\n",
    "     \"dataLakeVolumeDirectoryPathName\" : data_lake_directory_path_name,\n",
    "     \"validatedWeeklyFilesDataSetName\" : \"Validated Incoming Weekly Measurements for the \" + project_name + \".\",\n",
    "     \"validatedWeeklyFilesTemplateGUID\" : validated_weekly_files_template_guid,\n",
    "     \"airflowDAGName\" : airflow_dag_name,\n",
    "     \"serverName\" : postgres_server_name,\n",
    "     \"hostIdentifier\" : postgres_host_identifier,\n",
    "     \"portNumber\" : postgres_port_number,\n",
    "     \"secretsStorePathName\" : secrets_store_path_name,\n",
    "     \"secretsCollectionName\" : postgres_secrets_collection_name,\n",
    "     \"versionIdentifier\" : \"1.0\",\n",
    "     \"databaseName\" : postgres_database_name,\n",
    "     \"schemaName\" : project_schema_name,\n",
    "     \"schemaDescription\" : \"PostgreSQL database schema for the \" + project_name + \".\"\n",
    "}\n",
    "\n",
    "peters_client.initiate_gov_action_process(set_up_data_lake_process_name, None, action_targets, None, request_parameters, None, None)\n"
   ]
  },
  {
   "cell_type": "code",
   "execution_count": null,
   "id": "72f24f4c-6861-4017-bdf4-2550119d288a",
   "metadata": {
    "scrolled": true
   },
   "outputs": [],
   "source": [
    "\n",
    "display_engine_activity_c(row_limit=1, width=150)\n"
   ]
  },
  {
   "cell_type": "code",
   "execution_count": null,
   "id": "f8e2dae2-8068-459e-9116-72624fc651c7",
   "metadata": {},
   "outputs": [],
   "source": [
    "\n",
    "print_information_supply_chains(egeria_client, \"Clinical Trial Treatment Validation:\" + project_identifier, True, True)\n"
   ]
  },
  {
   "cell_type": "code",
   "execution_count": null,
   "id": "47bd3039-6dcf-41c7-9fed-07aefb1ce773",
   "metadata": {},
   "outputs": [],
   "source": [
    "\n",
    "user_id = \"tanyatidie\"\n",
    "tanyas_client = EgeriaTech(view_server, url, user_id, user_pwd)\n",
    "token = tanyas_client.create_egeria_bearer_token()\n",
    "\n"
   ]
  },
  {
   "cell_type": "code",
   "execution_count": null,
   "id": "115f4a28-45b9-4ae7-9892-a4181773de4c",
   "metadata": {},
   "outputs": [],
   "source": [
    "\n",
    "certify_hospital_name = \"ClinicalTrials::\" + project_identifier + \"::certify-hospital\"\n",
    "print(certify_hospital_name)\n"
   ]
  },
  {
   "cell_type": "code",
   "execution_count": null,
   "id": "06f797ba-e4d1-4d39-90e9-bee24d85ff47",
   "metadata": {},
   "outputs": [],
   "source": [
    "\n",
    "action_targets = [{\n",
    "      \"class\" : \"NewActionTarget\",\n",
    "      \"actionTargetName\": \"hospital\",\n",
    "      \"actionTargetGUID\": oak_dene_hospital_guid\n",
    "    }]\n",
    "\n",
    "tanyas_client.initiate_gov_action_process(certify_hospital_name, None, action_targets, datetime.now(), None, None, None)\n",
    "\n",
    "action_targets = [{\n",
    "      \"class\" : \"NewActionTarget\",\n",
    "      \"actionTargetName\": \"hospital\",\n",
    "      \"actionTargetGUID\": old_market_hospital_guid\n",
    "    }]\n",
    "\n",
    "tanyas_client.initiate_gov_action_process(certify_hospital_name, None, action_targets, datetime.now(), None, None, None)\n",
    "\n",
    "action_targets = [{\n",
    "      \"class\" : \"NewActionTarget\",\n",
    "      \"actionTargetName\": \"hospital\",\n",
    "      \"actionTargetGUID\": hampton_hospital_guid\n",
    "    }]\n",
    "\n",
    "tanyas_client.initiate_gov_action_process(certify_hospital_name, None, action_targets, datetime.now(), None, None, None)\n",
    "\n",
    "action_targets = [{\n",
    "      \"class\" : \"NewActionTarget\",\n",
    "      \"actionTargetName\": \"hospital\",\n",
    "      \"actionTargetGUID\": bowden_arrow_hospital_guid\n",
    "    }]\n",
    "\n",
    "tanyas_client.initiate_gov_action_process(certify_hospital_name, None, action_targets, datetime.now(), None, None, None)\n"
   ]
  },
  {
   "cell_type": "code",
   "execution_count": null,
   "id": "1f50eff7-5684-4780-b367-dbbd9203ee91",
   "metadata": {
    "scrolled": true
   },
   "outputs": [],
   "source": [
    "\n",
    "display_engine_activity_c(row_limit=4, width=150)\n"
   ]
  },
  {
   "cell_type": "code",
   "execution_count": null,
   "id": "a6d93941-91ec-4e35-84da-ce81abc76307",
   "metadata": {},
   "outputs": [],
   "source": [
    "\n",
    "user_id = \"peterprofile\"\n",
    "peters_client = EgeriaTech(view_server, url, user_id, user_pwd)\n",
    "token = peters_client.create_egeria_bearer_token()\n"
   ]
  },
  {
   "cell_type": "code",
   "execution_count": null,
   "id": "c2fc4491-82d8-4e91-9779-6136352331cd",
   "metadata": {},
   "outputs": [],
   "source": [
    "\n",
    "onboard_hospital_name = \"ClinicalTrials:\" + project_identifier + \":onboard-hospital\"\n",
    "print(onboard_hospital_name)\n"
   ]
  },
  {
   "cell_type": "code",
   "execution_count": null,
   "id": "92e74c8c-0b3e-4f5b-bc55-7c0aa6c4119f",
   "metadata": {},
   "outputs": [],
   "source": [
    "\n",
    "\n",
    "oak_dene_landing_area_directory_name=\"landing-area/hospitals/oak-dene/clinical-trials/\" + project_directory_name\n",
    "\n",
    "\n",
    "actionTargets = [{\n",
    "      \"class\" : \"NewActionTarget\",\n",
    "      \"actionTargetName\": \"hospital\",\n",
    "      \"actionTargetGUID\": oak_dene_hospital_guid\n",
    "    }]\n",
    "\n",
    "requestParameters = {\n",
    "    \"landingAreaDirectoryPathName\" : oak_dene_landing_area_directory_name\n",
    "}\n",
    "\n",
    "peters_client.initiate_gov_action_process(onboard_hospital_name, None, actionTargets, datetime.now(), requestParameters, None, None)\n",
    "\n"
   ]
  },
  {
   "cell_type": "code",
   "execution_count": null,
   "id": "34a760b5-ce91-45dd-b513-01fe1c527214",
   "metadata": {},
   "outputs": [],
   "source": [
    "\n",
    "print_information_supply_chains(egeria_client, \"Clinical Trial Treatment Validation:\" + project_identifier, True, True)\n"
   ]
  },
  {
   "cell_type": "code",
   "execution_count": null,
   "id": "0181ffcb-8c5b-43ec-bf78-a98cd0d4ee5f",
   "metadata": {},
   "outputs": [],
   "source": [
    "\n",
    "\n",
    "old_market_landing_area_directory_name=\"landing-area/hospitals/old-market/clinical-trials/\" + project_directory_name\n",
    "\n",
    "actionTargets = [{\n",
    "      \"class\" : \"NewActionTarget\",\n",
    "      \"actionTargetName\": \"hospital\",\n",
    "      \"actionTargetGUID\": old_market_hospital_guid\n",
    "    }]\n",
    "\n",
    "requestParameters = {\n",
    "    \"landingAreaDirectoryPathName\" : old_market_landing_area_directory_name\n",
    "}\n",
    "\n",
    "peters_client.initiate_gov_action_process(onboard_hospital_name, None, actionTargets, datetime.now(), requestParameters, None, None)\n",
    "\n"
   ]
  },
  {
   "cell_type": "code",
   "execution_count": null,
   "id": "460c874f-7e2d-416a-bb5b-13ad0aabfe12",
   "metadata": {},
   "outputs": [],
   "source": [
    "\n",
    "print_information_supply_chains(egeria_client, \"Clinical Trial Treatment Validation:\" + project_identifier, True, True)\n"
   ]
  },
  {
   "cell_type": "code",
   "execution_count": null,
   "id": "00ef99ed-e31a-4a7c-9687-9f8c5304bed0",
   "metadata": {},
   "outputs": [],
   "source": [
    "\n",
    "hampton_landing_area_directory_name=\"landing-area/hospitals/hampton/clinical-trials/\" + project_directory_name\n",
    "\n",
    "actionTargets = [{\n",
    "      \"class\" : \"NewActionTarget\",\n",
    "      \"actionTargetName\": \"hospital\",\n",
    "      \"actionTargetGUID\": hampton_hospital_guid\n",
    "    }]\n",
    "\n",
    "requestParameters = {\n",
    "    \"landingAreaDirectoryPathName\" : hampton_landing_area_directory_name\n",
    "}\n",
    "\n",
    "peters_client.initiate_gov_action_process(onboard_hospital_name, None, actionTargets, datetime.now(), requestParameters, None, None)\n"
   ]
  },
  {
   "cell_type": "code",
   "execution_count": null,
   "id": "3e3c2334-558b-44c7-872f-793e00c92c16",
   "metadata": {},
   "outputs": [],
   "source": [
    "\n",
    "print_information_supply_chains(egeria_client, \"Clinical Trial Treatment Validation:\" + project_identifier, True, True)\n"
   ]
  },
  {
   "cell_type": "code",
   "execution_count": null,
   "id": "4a1180a4-3e18-4e3c-b164-c3e7335452aa",
   "metadata": {},
   "outputs": [],
   "source": [
    "\n",
    "bowden_arrow_landing_area_directory_name=\"landing-area/hospitals/bowden_arrow/clinical-trials/werewolf-transformation\"\n",
    "\n",
    "actionTargets = [{\n",
    "      \"class\" : \"NewActionTarget\",\n",
    "      \"actionTargetName\": \"hospital\",\n",
    "      \"actionTargetGUID\": bowden_arrow_hospital_guid\n",
    "    }]\n",
    "\n",
    "requestParameters = {\n",
    "    \"landingAreaDirectoryPathName\" : bowden_arrow_landing_area_directory_name\n",
    "}\n",
    "\n",
    "peters_client.initiate_gov_action_process(onboard_hospital_name, None, actionTargets, datetime.now(), requestParameters, None, None)\n"
   ]
  },
  {
   "cell_type": "code",
   "execution_count": null,
   "id": "a2389438-fc14-49ef-b86d-b25e4298a3b4",
   "metadata": {},
   "outputs": [],
   "source": [
    "\n",
    "print_information_supply_chains(egeria_client, \"Clinical Trial Treatment Validation:\" + project_identifier, True, True)\n"
   ]
  },
  {
   "cell_type": "code",
   "execution_count": null,
   "id": "2ab57f8b-3b2a-4dc7-8e7d-c20903edb531",
   "metadata": {},
   "outputs": [],
   "source": [
    "\n",
    "add_file_to_landing_area(peters_client, oak_dene_source_folder, oak_dene_landing_area_directory_name, \"1\")\n"
   ]
  },
  {
   "cell_type": "code",
   "execution_count": null,
   "id": "55a9a904-74f8-40ad-88ee-306fc2f9ada5",
   "metadata": {},
   "outputs": [],
   "source": [
    "\n",
    "print_information_supply_chains(egeria_client, \"Clinical Trial Treatment Validation:\" + project_identifier, True, True)\n"
   ]
  },
  {
   "cell_type": "code",
   "execution_count": null,
   "id": "36c770ad-57d0-484a-85e2-3fe97a4df511",
   "metadata": {},
   "outputs": [],
   "source": [
    "\n",
    "print_asset_lineage_graph(peters_client, \"Data File Collection:Validated Incoming Weekly Measurements for the Werewolf Transformation Clinical Trial.\")\n"
   ]
  },
  {
   "cell_type": "code",
   "execution_count": null,
   "id": "2bb00545-74d0-4325-8c7f-625b29e5420b",
   "metadata": {},
   "outputs": [],
   "source": []
  }
 ],
 "metadata": {
  "kernelspec": {
   "display_name": "Python 3 (ipykernel)",
   "language": "python",
   "name": "python3"
  },
  "language_info": {
   "codemirror_mode": {
    "name": "ipython",
    "version": 3
   },
   "file_extension": ".py",
   "mimetype": "text/x-python",
   "name": "python",
   "nbconvert_exporter": "python",
   "pygments_lexer": "ipython3",
   "version": "3.12.8"
  }
 },
 "nbformat": 4,
 "nbformat_minor": 5
}

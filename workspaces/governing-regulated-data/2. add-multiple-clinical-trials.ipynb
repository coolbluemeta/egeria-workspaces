{
 "cells": [
  {
   "cell_type": "markdown",
   "id": "f383d7a7-16be-40d0-9b84-c58518a79a7c",
   "metadata": {},
   "source": [
    "![Egeria Logo](https://raw.githubusercontent.com/odpi/egeria/main/assets/img/ODPi_Egeria_Logo_color.png)\n",
    "\n",
    "### Egeria Coco Lab\n",
    "\n",
    "# Setting Up A Clinical Trial\n",
    "\n",
    "## Introduction\n",
    "\n",
    "This notebook adds multiple clinical trials to Egeria to demonstrate the difference between information supply chains and solution blueprints.\n"
   ]
  },
  {
   "cell_type": "code",
   "execution_count": null,
   "id": "fcb7c73e-4023-46f5-9416-0446e2db52f5",
   "metadata": {},
   "outputs": [],
   "source": [
    "# Initialize pyegeria\n",
    "\n",
    "%run ../pyegeria/initialize-pyegeria.ipynb\n",
    "\n",
    "from datetime import datetime\n"
   ]
  },
  {
   "cell_type": "code",
   "execution_count": null,
   "id": "d0f3e685-0108-4766-a616-f672bf3345b2",
   "metadata": {},
   "outputs": [],
   "source": [
    "\n",
    "user_id = \"erinoverview\"\n",
    "egeria_client = EgeriaTech(view_server, url, user_id, user_pwd)\n",
    "token = egeria_client.create_egeria_bearer_token()\n"
   ]
  },
  {
   "cell_type": "code",
   "execution_count": null,
   "id": "8fa426df-8782-4b3c-b257-2f231caa3d88",
   "metadata": {
    "scrolled": true
   },
   "outputs": [],
   "source": [
    "\n",
    "egeria_client.add_archive_file(\"content-packs/CocoComboArchive.omarchive\", None, \"qs-metadata-store\")\n",
    "\n",
    "print(\"CocoComboArchive loaded!\")\n"
   ]
  },
  {
   "cell_type": "code",
   "execution_count": null,
   "id": "ccdec646-537e-4079-bb89-4243ce3cf12f",
   "metadata": {},
   "outputs": [],
   "source": [
    "display_gov_eng_status(['AssetOnboarding','AssetQuality@CocoPharmaceuticals','ClinicalTrials@CocoPharmaceuticals','UnityCatalogGovernance','UnityCatalogSurvey'],\n",
    "                       status_filter=[\"*\"],\n",
    "                       engine_host = 'qs-engine-host',  view_server = 'qs-view-server',\n",
    "                       paging = True, jupyter = True,width = 170,sort = True)"
   ]
  },
  {
   "cell_type": "code",
   "execution_count": null,
   "id": "8e836a8b-d471-4fb3-a88c-0ceaad3d9dad",
   "metadata": {},
   "outputs": [],
   "source": [
    "\n",
    "parent_project_name=\"Campaign:Clinical Trials Management\"\n",
    "parent_project_guid=egeria_client.get_element_guid_by_unique_name(parent_project_name)\n",
    "\n",
    "print(\"Parent project: \" + parent_project_name)\n",
    "print(\"  parent project GUID: \" + parent_project_guid)\n",
    "\n",
    "print_project(egeria_client, parent_project_guid)\n"
   ]
  },
  {
   "cell_type": "code",
   "execution_count": null,
   "id": "9c577997-f324-4582-9b81-7f721dc9dd49",
   "metadata": {},
   "outputs": [],
   "source": [
    "# use the same people for each of these clinical trials\n",
    "\n",
    "print()\n",
    "\n",
    "clinical_trial_owner_name=\"Tessa Tube\"\n",
    "print(\"clinical trial owner name: \" + clinical_trial_owner_name)\n",
    "clinical_trial_owner_guid = egeria_client.get_guid_for_name(clinical_trial_owner_name)\n",
    "print(\"clinical trial owner GUID: \" + clinical_trial_owner_guid)\n",
    "\n",
    "print()\n",
    "clinical_trial_manager_name=\"Tanya Tidie\"\n",
    "print(\"clinical trial manager name: \" + clinical_trial_manager_name)\n",
    "clinical_trial_manager_guid = egeria_client.get_guid_for_name(clinical_trial_manager_name)\n",
    "print(\"clinical trial manager GUID: \" + clinical_trial_manager_guid)\n",
    "\n",
    "print()\n",
    "data_scientist_name=\"Callie Quartile\"\n",
    "print(\"data scientist name: \" + data_scientist_name)\n",
    "data_scientist_guid = egeria_client.get_guid_for_name(data_scientist_name)\n",
    "print(\"data scientist GUID: \" + data_scientist_guid)\n",
    "\n",
    "print()\n",
    "data_engineer_name=\"Peter Profile\"\n",
    "print(\"data engineer name: \" + data_engineer_name)\n",
    "data_engineer_guid = egeria_client.get_guid_for_name(data_engineer_name) \n",
    "print(\"data engineer GUID: \" + data_engineer_guid)\n",
    "\n",
    "print()\n",
    "project_manager_name=\"Polly Tasker\"\n",
    "print(\"project manager name: \" + project_manager_name)\n",
    "project_manager_guid = egeria_client.get_guid_for_name(project_manager_name) \n",
    "print(\"project manager GUID: \" + project_manager_guid)\n",
    "\n",
    "print()\n",
    "integration_developer_name=\"Bob Nitter\"\n",
    "print(\"integration developer name: \" + integration_developer_name)\n",
    "integration_developer_guid = egeria_client.get_guid_for_name(integration_developer_name) \n",
    "print(\"integration developer GUID: \" + integration_developer_guid)\n",
    "\n",
    "print()"
   ]
  },
  {
   "cell_type": "code",
   "execution_count": null,
   "id": "3f11a341-4398-47a7-9b29-962aafb65a46",
   "metadata": {},
   "outputs": [],
   "source": [
    "# Identify the hospitals\n",
    "\n",
    "print()\n",
    "\n",
    "oak_dene_hospital_name=\"Oak Dene Hospital\"\n",
    "print(oak_dene_hospital_name)\n",
    "oak_dene_hospital_guid=egeria_client.get_element_guid_by_unique_name(\"Organization::\" + oak_dene_hospital_name)\n",
    "print(\"  oakDeneHospitalGUID: \" + oak_dene_hospital_guid)\n",
    "oak_dene_contact_person_name=\"Robbie Records\"\n",
    "print(\"  oakDeneContactPersonName: \" + oak_dene_contact_person_name)\n",
    "oak_dene_contact_person_guid=egeria_client.get_guid_for_name(oak_dene_contact_person_name)\n",
    "print(\"  oakDeneContactPersonGUID: \" + oak_dene_contact_person_guid)\n",
    "oak_dene_landing_folder_directory=\"oak-dene\"\n",
    "\n",
    "print()\n",
    "old_market_hospital_name=\"Old Market Hospital\"\n",
    "print(old_market_hospital_name)\n",
    "old_market_hospital_guid=egeria_client.get_element_guid_by_unique_name(\"Organization::\" + old_market_hospital_name)\n",
    "print(\"  oldMarketHospitalGUID: \" + old_market_hospital_guid)\n",
    "old_market_contact_person_name=\"Nellie Dunn\"\n",
    "print(\"  oldMarketContactPersonName: \" + old_market_contact_person_name)\n",
    "old_market_contact_person_guid=egeria_client.get_guid_for_name(old_market_contact_person_name)\n",
    "print(\"  oldMarketContactPersonGUID: \" + old_market_contact_person_guid)\n",
    "old_market_landing_folder_directory=\"old-market\"\n",
    "\n",
    "\n",
    "print()\n",
    "hampton_hospital_name=\"Hampton Hospital\"\n",
    "print(hampton_hospital_name)\n",
    "hampton_hospital_guid=egeria_client.get_element_guid_by_unique_name(\"Organization::\" + hampton_hospital_name)\n",
    "print(\"  hamptonHospitalGUID: \" + hampton_hospital_guid)\n",
    "hampton_contact_person_name=\"Grant Able\"\n",
    "print(\"  hamptonContactPersonName: \" + hampton_contact_person_name)\n",
    "hampton_contact_person_guid=egeria_client.get_guid_for_name(hampton_contact_person_name)\n",
    "print(\"  hamptonContactPersonGUID: \" + hampton_contact_person_guid)\n",
    "hampton_landing_folder_directory=\"hampton\"\n",
    "\n",
    "\n",
    "print()\n",
    "bowden_arrow_hospital_name=\"Bowden Arrow Hospital\"\n",
    "print(bowden_arrow_hospital_name)\n",
    "bowden_arrow_hospital_guid=egeria_client.get_element_guid_by_unique_name(\"Organization::\" + bowden_arrow_hospital_name)\n",
    "print(\"  bowdenArrowHospitalGUID: \" + bowden_arrow_hospital_guid)\n",
    "bowden_arrow_contact_person_name=\"Julie Stitched\"\n",
    "print(\"  bowdenArrowContactPersonName: \" + bowden_arrow_contact_person_name)\n",
    "bowden_arrow_contact_person_guid=egeria_client.get_guid_for_name(bowden_arrow_contact_person_name)\n",
    "print(\"  bowdenArrowContactPersonGUID: \" + bowden_arrow_contact_person_guid)\n",
    "bowden_arrow_landing_folder_directory=\"bowden-arrow\"\n",
    "print()\n",
    "\n",
    "\n",
    "oak_dene_source_folder = '../opt/coco-pharmaceuticals/oak-dene-drop-foot-weekly-measurements'\n",
    "old_market_source_folder = '../opt/coco-pharmaceuticals/old-market-drop-foot-weekly-measurements'\n",
    "hampton_source_folder = '../opt/coco-pharmaceuticals/hampton-drop-foot-weekly-measurements'\n"
   ]
  },
  {
   "cell_type": "code",
   "execution_count": null,
   "id": "b4658fdd-cca6-4c6f-9e0f-9406e9266b55",
   "metadata": {
    "scrolled": true
   },
   "outputs": [],
   "source": [
    "## Identify the templates\n",
    "\n",
    "data_lake_schema_template_guid=TEMPLATE_GUIDS['Unity Catalog Schema']\n",
    "print(\"dataLakeSchemaTemplateGUID: \" + data_lake_schema_template_guid)\n",
    "print_asset_graph_by_guid(egeria_client, data_lake_schema_template_guid)\n",
    "\n",
    "data_lake_volume_template_guid=TEMPLATE_GUIDS['Unity Catalog Volume']\n",
    "print(\"dataLakeVolumeTemplateGUID: \" + data_lake_volume_template_guid)\n",
    "print_asset_graph_by_guid(egeria_client, data_lake_volume_template_guid)\n",
    "\n",
    "data_lake_file_template_guid = egeria_client.get_element_guid_by_unique_name(\"DataLake::{{clinicalTrialId}}::CSVFile::{{filePathName}}\")\n",
    "print(\"dataLakeFileTemplateGUID: \" + data_lake_file_template_guid)\n",
    "print_asset_graph_by_guid(egeria_client, data_lake_file_template_guid)\n",
    "\n",
    "landing_area_directory_template_guid = egeria_client.get_element_guid_by_unique_name(\"Data Folder:{{fileSystemName}}.{{directoryPathName}}\")\n",
    "print(\"landingAreaDirectoryTemplateGUID: \" + landing_area_directory_template_guid)\n",
    "print_asset_graph_by_guid(egeria_client, landing_area_directory_template_guid)\n",
    "\n",
    "landing_area_file_template_guid = egeria_client.get_element_guid_by_unique_name(\"LandingArea::{{hospitalName}}::{{clinicalTrialId}}::CSVFile::{{filePathName}}\")\n",
    "print(\"landingAreaFileTemplateGUID: \" + landing_area_file_template_guid)\n",
    "print_asset_graph_by_guid(egeria_client, landing_area_file_template_guid)\n",
    "\n",
    "validated_weekly_files_template_guid = egeria_client.get_element_guid_by_unique_name(\"Data File Collection::{{displayName}}\")\n",
    "print(\"validatedWeeklyFilesTemplateGUID: \" + validated_weekly_files_template_guid)\n",
    "print_asset_graph_by_guid(egeria_client, validated_weekly_files_template_guid)\n",
    "\n",
    "postgres_server_name=\"LocalPostgreSQL1\"\n",
    "postgres_secrets_collection_name = \"PostgreSQL Server:LocalPostgreSQL1\"\n",
    "postgres_host_identifier=\"localhost\"\n",
    "postgres_port_number=\"5432\"\n",
    "postgres_database_name=\"clinical_trials\"\n",
    "\n",
    "secrets_store_path_name = \"loading-bay/secrets/default.omsecrets\"\n",
    "\n"
   ]
  },
  {
   "cell_type": "code",
   "execution_count": null,
   "id": "809306bc-3855-429e-a91d-11d17bdf9aba",
   "metadata": {},
   "outputs": [],
   "source": [
    "\n",
    "# Identify the standard onboarding pipeline\n",
    "\n",
    "onboarding_pipeline_name = \"Onboard Landing Area Files For Clinical Trial Project\"\n",
    "onboarding_pipeline_guid = egeria_client.get_guid_for_name(onboarding_pipeline_name) \n",
    "\n",
    "process_graph = egeria_client.get_gov_action_process_graph(onboarding_pipeline_guid)\n",
    "print_governance_action_process_graph(process_graph)\n",
    "\n"
   ]
  },
  {
   "cell_type": "code",
   "execution_count": null,
   "id": "cfef4049-4aff-46e5-b617-3c7d73e888a7",
   "metadata": {},
   "outputs": [],
   "source": [
    "\n",
    "# Check Unity Catalog is ready\n",
    "\n",
    "\n",
    "uc_server_url=\"http://host.docker.internal:8087\"\n",
    "#uc_server_url=\"http://localhost:8087\"\n",
    "catalog_name=\"clinical_trials\"\n",
    "\n",
    "catalog_guid=egeria_client.get_element_guid_by_unique_name(\"Unity Catalog Catalog::\" + uc_server_url + \"::\" + catalog_name)\n",
    "print(catalog_guid)\n",
    "\n"
   ]
  },
  {
   "cell_type": "code",
   "execution_count": null,
   "id": "a7f99e79-01c9-4a13-bd6f-1edc29e3866b",
   "metadata": {},
   "outputs": [],
   "source": [
    "\n",
    "\n",
    "def add_file_to_landing_area(egeria_client, source_folder, destination_folder, week_number):\n",
    "    add_file_to_landing_area_name=\"ClinicalTrials@CocoPharmaceuticals::simulate-ftp\"\n",
    "    source_file_name = source_folder + \"/\" + \"week\" + week_number + \".csv\"\n",
    "    print(\"Moving \" + source_file_name + \" to \" + destination_folder)\n",
    "    request_parameters = {\n",
    "        \"sourceFile\" : source_file_name,\n",
    "        \"destinationDirectory\" : destination_folder\n",
    "    }\n",
    "    egeria_client.initiate_gov_action_type(add_file_to_landing_area_name, None, None, None, request_parameters, None)\n",
    "\n",
    "\n",
    "\n",
    "def set_up_clinical_trial(egeria_tech,parent_project_guid, clinical_trial_owner_guid, clinical_trial_manager_guid, project_manager_guid, data_engineer_guid, integration_developer_guid, data_scientist_guid, project_identifier, project_name, project_description): \n",
    "    set_up_clinical_trial_name=\"ClinicalTrials@CocoPharmaceuticals::set-up-clinical-trial\"\n",
    "    action_targets = [{\n",
    "          \"class\" : \"NewActionTarget\",\n",
    "          \"actionTargetName\": \"clinicalTrialParentProject\",\n",
    "          \"actionTargetGUID\": parent_project_guid\n",
    "        },\n",
    "        {\n",
    "          \"class\" : \"NewActionTarget\",\n",
    "          \"actionTargetName\": \"clinicalTrialOwner\",\n",
    "          \"actionTargetGUID\": clinical_trial_owner_guid \n",
    "        },\n",
    "        {\n",
    "          \"class\" : \"NewActionTarget\",\n",
    "          \"actionTargetName\": \"clinicalTrialManager\",\n",
    "          \"actionTargetGUID\": clinical_trial_manager_guid \n",
    "        },\n",
    "        {\n",
    "          \"class\" : \"NewActionTarget\",\n",
    "          \"actionTargetName\": \"itProjectManager\",\n",
    "          \"actionTargetGUID\": project_manager_guid\n",
    "        },\n",
    "        {\n",
    "          \"class\" : \"NewActionTarget\",\n",
    "          \"actionTargetName\": \"dataEngineer\",\n",
    "          \"actionTargetGUID\": data_engineer_guid\n",
    "        },\n",
    "        {\n",
    "          \"class\" : \"NewActionTarget\",\n",
    "          \"actionTargetName\": \"integrationDeveloper\",\n",
    "          \"actionTargetGUID\": integration_developer_guid\n",
    "        },\n",
    "        {\n",
    "          \"class\" : \"NewActionTarget\",\n",
    "          \"actionTargetName\": \"dataScientist\",\n",
    "          \"actionTargetGUID\": data_scientist_guid\n",
    "        }]\n",
    "    \n",
    "    request_parameters = request_parameters = {\n",
    "         \"clinicalTrialId\" : project_identifier,\n",
    "         \"clinicalTrialName\" : project_name,\n",
    "         \"clinicalTrialDescription\" : project_description\n",
    "    }\n",
    "    \n",
    "    egeria_tech.initiate_gov_action_type(set_up_clinical_trial_name, None, action_targets, None, request_parameters, None, None)\n",
    "\n",
    "\n",
    "\n",
    "def nominate_hospital(egeria_tech, project_identifier, hospital_guid, contact_person_guid):\n",
    "    nominate_hospital_name = \"ClinicalTrials::\" + project_identifier + \"::nominate-hospital\"\n",
    "    process_guid = egeria_tech.get_element_guid_by_unique_name(nominate_hospital_name)\n",
    "    process_graph = egeria_tech.get_gov_action_process_graph(process_guid)\n",
    "    print_governance_action_process_graph(process_graph)\n",
    "    \n",
    "    action_targets = [{\n",
    "          \"class\" : \"NewActionTarget\",\n",
    "          \"actionTargetName\": \"hospital\",\n",
    "          \"actionTargetGUID\": hospital_guid\n",
    "        },\n",
    "        {\n",
    "          \"class\" : \"NewActionTarget\",\n",
    "          \"actionTargetName\": \"hospitalContactPerson\",\n",
    "          \"actionTargetGUID\": contact_person_guid\n",
    "        }]\n",
    "    \n",
    "    egeria_tech.initiate_gov_action_process(nominate_hospital_name, None, action_targets, datetime.now(), None, None, None)\n",
    "\n",
    "\n",
    "\n",
    "def set_up_data_lake(egeria_tech, project_identifier, project_name, project_directory_name, project_schema_name):\n",
    "    set_up_data_lake_process_name=\"ClinicalTrials::\" + project_identifier + \"::set-up-data-lake\"\n",
    "    \n",
    "    process_guid = egeria_tech.get_element_guid_by_unique_name(set_up_data_lake_process_name)\n",
    "    \n",
    "    process_graph = egeria_tech.get_gov_action_process_graph(process_guid)\n",
    "    print_governance_action_process_graph(process_graph)\n",
    "    \n",
    "    data_lake_directory_path_name=\"coco-data-lake/research/clinical-trials/\" + project_directory_name + \"/weekly-measurements\"\n",
    "    \n",
    "    airflow_dag_name=\"populate_\" + project_schema_name + \"_sandbox\"\n",
    "    \n",
    "    action_targets = [{\n",
    "          \"class\" : \"NewActionTarget\",\n",
    "          \"actionTargetName\": \"dataLakeCatalog\",\n",
    "          \"actionTargetGUID\": catalog_guid\n",
    "        },\n",
    "        {\n",
    "          \"class\" : \"NewActionTarget\",\n",
    "          \"actionTargetName\": \"onboardingPipeline\",\n",
    "          \"actionTargetGUID\": onboarding_pipeline_guid \n",
    "        }]\n",
    "    \n",
    "    request_parameters = {\n",
    "         \"dataLakeVolumeTemplateGUID\" : data_lake_volume_template_guid,\n",
    "         \"dataLakeSchemaTemplateGUID\" : data_lake_schema_template_guid,\n",
    "         \"dataLakeFileTemplateGUID\" : data_lake_file_template_guid,\n",
    "         \"landingAreaDirectoryTemplateGUID\" : landing_area_directory_template_guid,\n",
    "         \"landingAreaFileTemplateGUID\" : landing_area_file_template_guid,\n",
    "         \"dataLakeSchemaName\" : project_schema_name,\n",
    "         \"dataLakeSchemaDescription\" : \"Data for the \" + project_name + \".\",\n",
    "         \"dataLakeVolumeName\" : \"weekly_measurements\",\n",
    "         \"dataLakeVolumeDescription\" : \"Weekly patient measurements\",\n",
    "         \"dataLakeVolumeDirectoryPathName\" : data_lake_directory_path_name,\n",
    "         \"validatedWeeklyFilesDataSetName\" : \"Validated Incoming Weekly Measurements for the \" + project_name + \".\",\n",
    "         \"validatedWeeklyFilesTemplateGUID\" : validated_weekly_files_template_guid,\n",
    "         \"airflowDAGName\" : airflow_dag_name,\n",
    "         \"serverName\" : postgres_server_name,\n",
    "         \"hostIdentifier\" : postgres_host_identifier,\n",
    "         \"portNumber\" : postgres_port_number,\n",
    "         \"secretsStorePathName\" : secrets_store_path_name,\n",
    "         \"secretsCollectionName\" : postgres_secrets_collection_name,\n",
    "         \"versionIdentifier\" : \"1.0\",\n",
    "         \"databaseName\" : postgres_database_name,\n",
    "         \"schemaName\" : project_schema_name,\n",
    "         \"schemaDescription\" : \"PostgreSQL database schema for the \" + project_name + \".\"\n",
    "    }\n",
    "    \n",
    "    egeria_tech.initiate_gov_action_process(set_up_data_lake_process_name, None, action_targets, None, request_parameters, None, None)\n",
    "    \n",
    "\n",
    "\n",
    "\n",
    "def certify_hospital(egeria_tech, project_identifier, hospital_guid):\n",
    "    certify_hospital_name = \"ClinicalTrials::\" + project_identifier + \"::certify-hospital\"\n",
    "    print(certify_hospital_name)\n",
    "    process_guid = egeria_tech.get_element_guid_by_unique_name(set_up_data_lake_process_name)\n",
    "    \n",
    "    process_graph = egeria_tech.get_gov_action_process_graph(process_guid)\n",
    "    print_governance_action_process_graph(process_graph)\n",
    "    action_targets = [{\n",
    "          \"class\" : \"NewActionTarget\",\n",
    "          \"actionTargetName\": \"hospital\",\n",
    "          \"actionTargetGUID\": hospital_guid\n",
    "        }]\n",
    "    egeria_tech.initiate_gov_action_process(certify_hospital_name, None, action_targets, datetime.now(), None, None, None)\n",
    "\n",
    "\n",
    "\n",
    "def onboard_hospital(egeria_tech, project_identifier, project_directory_name, hospital_guid, hospital_landing_area_folder):\n",
    "    onboard_hospital_name = \"ClinicalTrials::\" + project_identifier + \"::onboard-hospital\"\n",
    "    print(onboard_hospital_name)\n",
    "    landing_area_directory_name=\"landing-area/hospitals/\" + hospital_landing_area_folder + \"/clinical-trials/\" + project_directory_name\n",
    "    actionTargets = [{\n",
    "          \"class\" : \"NewActionTarget\",\n",
    "          \"actionTargetName\": \"hospital\",\n",
    "          \"actionTargetGUID\": hospital_guid\n",
    "        }]\n",
    "    requestParameters = {\n",
    "        \"landingAreaDirectoryPathName\" : landing_area_directory_name\n",
    "    }\n",
    "    egeria_tech.initiate_gov_action_process(onboard_hospital_name, None, actionTargets, datetime.now(), requestParameters, None, None)\n",
    "    return landing_area_directory_name\n",
    "\n"
   ]
  },
  {
   "cell_type": "markdown",
   "id": "eaa1ada7-f0cf-4293-8baf-4306eee3a305",
   "metadata": {},
   "source": [
    "\n",
    "------\n",
    "## Dragon Breath\n"
   ]
  },
  {
   "cell_type": "code",
   "execution_count": null,
   "id": "27c40c5c-e92e-429c-ab7b-5dad34443ffd",
   "metadata": {},
   "outputs": [],
   "source": [
    "\n",
    "print()\n",
    "\n",
    "project_identifier=\"PROJ-CT-DB\"\n",
    "project_name=\"Dragon Breath Clinical Trial\"\n",
    "project_description=\"Clinical trial related to the new treatment to enhance the volume and quality of the lungs.\"\n",
    "project_directory_name=\"dragon-breath\"\n",
    "project_schema_name=\"dragon_breath\"\n",
    "\n",
    "print(\"Project \" + project_identifier + \": \" + project_name)\n",
    "print(\"  \" + project_description)\n"
   ]
  },
  {
   "cell_type": "code",
   "execution_count": null,
   "id": "ec23b472-bcbb-41a3-9654-16f8346ba58c",
   "metadata": {
    "scrolled": true
   },
   "outputs": [],
   "source": [
    "\n",
    "user_id = \"tessatube\"\n",
    "tessas_client = EgeriaTech(view_server, url, user_id, user_pwd)\n",
    "token = tessas_client.create_egeria_bearer_token()\n",
    "\n",
    "set_up_clinical_trial(tessas_client,\n",
    "                      parent_project_guid,\n",
    "                      clinical_trial_owner_guid,\n",
    "                      clinical_trial_manager_guid,\n",
    "                      project_manager_guid,\n",
    "                      data_engineer_guid,\n",
    "                      integration_developer_guid,\n",
    "                      data_scientist_guid,\n",
    "                      project_identifier, \n",
    "                      project_name,\n",
    "                      project_description) \n"
   ]
  },
  {
   "cell_type": "code",
   "execution_count": null,
   "id": "a751467a-532c-4896-8de4-9d4db29dda67",
   "metadata": {
    "scrolled": true
   },
   "outputs": [],
   "source": [
    "\n",
    "display_engine_activity_c(row_limit=1,width=170)\n"
   ]
  },
  {
   "cell_type": "code",
   "execution_count": null,
   "id": "66b4cfd1-985c-4267-a1de-87231498c6ca",
   "metadata": {
    "scrolled": true
   },
   "outputs": [],
   "source": [
    "\n",
    "print_matching_gov_action_processes(tessas_client, project_identifier)\n",
    "\n",
    "\n",
    "project_guid=tessas_client.get_element_guid_by_unique_name(\"Project::\" + project_identifier + \"::\" + project_name)\n",
    "print_project_graph(tessas_client, project_guid)\n"
   ]
  },
  {
   "cell_type": "code",
   "execution_count": null,
   "id": "967d2473-1d50-48ac-8087-7416ab9925b7",
   "metadata": {},
   "outputs": [],
   "source": [
    "\n",
    "user_id = \"tanyatidie\"\n",
    "tanyas_client = EgeriaTech(view_server, url, user_id, user_pwd)\n",
    "token = tanyas_client.create_egeria_bearer_token()\n",
    "\n",
    "nominate_hospital(tanyas_client, project_identifier, bowden_arrow_hospital_guid, bowden_arrow_contact_person_guid)\n"
   ]
  },
  {
   "cell_type": "code",
   "execution_count": null,
   "id": "d64f16de-c10e-4ac2-8d84-764f7a253f2b",
   "metadata": {
    "scrolled": true
   },
   "outputs": [],
   "source": [
    "\n",
    "display_engine_activity_c(row_limit=1,width=170)\n"
   ]
  },
  {
   "cell_type": "code",
   "execution_count": null,
   "id": "8aa4b6a6-27b0-463e-bc57-d243e78e85b4",
   "metadata": {},
   "outputs": [],
   "source": [
    "\n",
    "user_id = \"peterprofile\"\n",
    "peters_client = EgeriaTech(view_server, url, user_id, user_pwd)\n",
    "token = peters_client.create_egeria_bearer_token()\n",
    "\n",
    "set_up_data_lake(peters_client, project_identifier, project_name, project_directory_name, project_schema_name)\n"
   ]
  },
  {
   "cell_type": "code",
   "execution_count": null,
   "id": "4ad8d941-a843-41c4-9ed1-d6035d78d462",
   "metadata": {
    "scrolled": true
   },
   "outputs": [],
   "source": [
    "\n",
    "display_engine_activity_c(row_limit=1,width=170)\n"
   ]
  },
  {
   "cell_type": "code",
   "execution_count": null,
   "id": "2552de6c-e25a-479e-ba73-0940236e61f0",
   "metadata": {},
   "outputs": [],
   "source": [
    "\n",
    "user_id = \"tanyatidie\"\n",
    "tanyas_client = EgeriaTech(view_server, url, user_id, user_pwd)\n",
    "token = tanyas_client.create_egeria_bearer_token()\n",
    "\n",
    "certify_hospital(tanyas_client, project_identifier, bowden_arrow_hospital_guid)\n"
   ]
  },
  {
   "cell_type": "code",
   "execution_count": null,
   "id": "61b06c26-728f-49e6-b6eb-a14e316b9e76",
   "metadata": {
    "scrolled": true
   },
   "outputs": [],
   "source": [
    "\n",
    "display_engine_activity_c(row_limit=1,width=170)\n"
   ]
  },
  {
   "cell_type": "code",
   "execution_count": null,
   "id": "e847bcad-33a1-4485-be4e-c3ff6e6a3197",
   "metadata": {},
   "outputs": [],
   "source": [
    "user_id = \"peterprofile\"\n",
    "peters_client = EgeriaTech(view_server, url, user_id, user_pwd)\n",
    "token = peters_client.create_egeria_bearer_token()\n",
    "\n",
    "bowden_arrow_landing_area_directory_name=onboard_hospital(peters_client, project_identifier, project_directory_name, bowden_arrow_hospital_guid, bowden_arrow_landing_folder_directory)"
   ]
  },
  {
   "cell_type": "code",
   "execution_count": null,
   "id": "87da826e-b7d7-4f79-b0d9-959c8b57421f",
   "metadata": {
    "scrolled": true
   },
   "outputs": [],
   "source": [
    "\n",
    "display_engine_activity_c(row_limit=2,width=170)\n"
   ]
  },
  {
   "cell_type": "code",
   "execution_count": null,
   "id": "b3b821f7-19a5-4559-8308-c143fb3685da",
   "metadata": {},
   "outputs": [],
   "source": [
    "print_information_supply_chains(egeria_client, \"Clinical Trial Treatment Validation::\" + project_identifier, True, True)"
   ]
  },
  {
   "cell_type": "code",
   "execution_count": null,
   "id": "9ab767e4-5cff-49a2-b794-bb7fd132d29e",
   "metadata": {},
   "outputs": [],
   "source": [
    "\n",
    "print_asset_lineage_graph(peters_client, \"Data File Collection::Validated Incoming Weekly Measurements for the \" + project_name + \".\")\n"
   ]
  },
  {
   "cell_type": "markdown",
   "id": "eb652635-2ec4-4830-b0c7-28ada24aca39",
   "metadata": {},
   "source": [
    "-----\n",
    "\n",
    "## Falcon Feather Mite\n"
   ]
  },
  {
   "cell_type": "code",
   "execution_count": null,
   "id": "0449b483-105b-4da3-85c6-2fcf5c9fbf1e",
   "metadata": {},
   "outputs": [],
   "source": [
    "\n",
    "user_id = \"tessatube\"\n",
    "tessas_client = EgeriaTech(view_server, url, user_id, user_pwd)\n",
    "token = tessas_client.create_egeria_bearer_token()\n"
   ]
  },
  {
   "cell_type": "code",
   "execution_count": null,
   "id": "079a67c4-0504-4af1-91b7-4dd0d84b695d",
   "metadata": {},
   "outputs": [],
   "source": [
    "\n",
    "print()\n",
    "\n",
    "project_identifier=\"PROJ-CT-FFM\"\n",
    "project_name=\"Falcon Feather Mite Clinical Trial\"\n",
    "project_description=\"Clinical trial related to the new treatment to cuew feather mites in falcons.\"\n",
    "project_directory_name=\"falcon-feather-mite\"\n",
    "project_schema_name=\"falcon-feather-mite\"\n",
    "\n",
    "print(\"Project \" + project_identifier + \": \" + project_name)\n",
    "print(\"  \" + project_description)\n"
   ]
  },
  {
   "cell_type": "code",
   "execution_count": null,
   "id": "f9c039a4-2bba-4d8c-b072-c23774119ff4",
   "metadata": {
    "scrolled": true
   },
   "outputs": [],
   "source": [
    "\n",
    "user_id = \"tessatube\"\n",
    "tessas_client = EgeriaTech(view_server, url, user_id, user_pwd)\n",
    "token = tessas_client.create_egeria_bearer_token()\n",
    "\n",
    "set_up_clinical_trial(tessas_client,\n",
    "                      parent_project_guid,\n",
    "                      clinical_trial_owner_guid,\n",
    "                      clinical_trial_manager_guid,\n",
    "                      project_manager_guid,\n",
    "                      data_engineer_guid,\n",
    "                      integration_developer_guid,\n",
    "                      data_scientist_guid,\n",
    "                      project_identifier, \n",
    "                      project_name,\n",
    "                      project_description) \n"
   ]
  },
  {
   "cell_type": "code",
   "execution_count": null,
   "id": "0e0a2f8c-3bda-49ba-a246-0e9c88de1ca2",
   "metadata": {
    "scrolled": true
   },
   "outputs": [],
   "source": [
    "\n",
    "display_engine_activity_c(row_limit=1,width=170)\n"
   ]
  },
  {
   "cell_type": "code",
   "execution_count": null,
   "id": "3d2982da-d151-4648-89ce-e8f5f52a26b7",
   "metadata": {
    "scrolled": true
   },
   "outputs": [],
   "source": [
    "\n",
    "print_matching_gov_action_processes(tessas_client, project_identifier)\n",
    "\n",
    "\n",
    "project_guid=tessas_client.get_element_guid_by_unique_name(\"Project::\" + project_identifier + \"::\" + project_name)\n",
    "print_project_graph(tessas_client, project_guid)\n"
   ]
  },
  {
   "cell_type": "code",
   "execution_count": null,
   "id": "64c3fc42-c488-4d72-9b34-8ce40fb2f68e",
   "metadata": {},
   "outputs": [],
   "source": [
    "\n",
    "user_id = \"tanyatidie\"\n",
    "tanyas_client = EgeriaTech(view_server, url, user_id, user_pwd)\n",
    "token = tanyas_client.create_egeria_bearer_token()\n",
    "\n",
    "nominate_hospital(tanyas_client, project_identifier, old_market_hospital_guid, old_market_contact_person_guid)\n",
    "nominate_hospital(tanyas_client, project_identifier, hampton_hospital_guid, hampton_contact_person_guid)\n"
   ]
  },
  {
   "cell_type": "code",
   "execution_count": null,
   "id": "f632d8ab-08a7-4fa5-bfb4-4e320be0533f",
   "metadata": {
    "scrolled": true
   },
   "outputs": [],
   "source": [
    "\n",
    "display_engine_activity_c(row_limit=1,width=170)\n"
   ]
  },
  {
   "cell_type": "code",
   "execution_count": null,
   "id": "23c9c971-61b2-4dd8-b85b-64776572bc00",
   "metadata": {},
   "outputs": [],
   "source": [
    "\n",
    "user_id = \"peterprofile\"\n",
    "peters_client = EgeriaTech(view_server, url, user_id, user_pwd)\n",
    "token = peters_client.create_egeria_bearer_token()\n",
    "\n",
    "set_up_data_lake(peters_client, project_identifier, project_name, project_directory_name, project_schema_name)\n"
   ]
  },
  {
   "cell_type": "code",
   "execution_count": null,
   "id": "8fa00d7a-5dbd-42c6-932b-478bdc3cfd37",
   "metadata": {
    "scrolled": true
   },
   "outputs": [],
   "source": [
    "\n",
    "display_engine_activity_c(row_limit=1,width=170)\n"
   ]
  },
  {
   "cell_type": "code",
   "execution_count": null,
   "id": "cafce9be-91b9-48fc-a6ab-f7e3096dbe32",
   "metadata": {},
   "outputs": [],
   "source": [
    "\n",
    "user_id = \"tanyatidie\"\n",
    "tanyas_client = EgeriaTech(view_server, url, user_id, user_pwd)\n",
    "token = tanyas_client.create_egeria_bearer_token()\n",
    "\n",
    "certify_hospital(tanyas_client, project_identifier, old_market_hospital_guid)\n",
    "certify_hospital(tanyas_client, project_identifier, hampton_hospital_guid)\n"
   ]
  },
  {
   "cell_type": "code",
   "execution_count": null,
   "id": "fe550ca4-cdc3-444e-945e-7098820aed7d",
   "metadata": {
    "scrolled": true
   },
   "outputs": [],
   "source": [
    "\n",
    "display_engine_activity_c(row_limit=1,width=170)\n"
   ]
  },
  {
   "cell_type": "code",
   "execution_count": null,
   "id": "7a608edc-54b1-4fa9-b9a0-83b1bd1f5c3e",
   "metadata": {},
   "outputs": [],
   "source": [
    "user_id = \"peterprofile\"\n",
    "peters_client = EgeriaTech(view_server, url, user_id, user_pwd)\n",
    "token = peters_client.create_egeria_bearer_token()\n",
    "\n",
    "old_market_landing_area_directory_name=onboard_hospital(peters_client, project_identifier, project_directory_name, old_market_hospital_guid, old_market_landing_folder_directory)\n",
    "hampton_landing_area_directory_name=onboard_hospital(peters_client, project_identifier, project_directory_name, hampton_hospital_guid, hampton_landing_folder_directory)"
   ]
  },
  {
   "cell_type": "code",
   "execution_count": null,
   "id": "b4c371b6-b615-47a2-9554-7b0db70d90ce",
   "metadata": {
    "scrolled": true
   },
   "outputs": [],
   "source": [
    "\n",
    "display_engine_activity_c(row_limit=1,width=170)\n"
   ]
  },
  {
   "cell_type": "code",
   "execution_count": null,
   "id": "eb1531ac-1f1a-4de1-a963-1514fa150922",
   "metadata": {},
   "outputs": [],
   "source": [
    "print_information_supply_chains(egeria_client, \"Clinical Trial Treatment Validation::\" + project_identifier, True, True)"
   ]
  },
  {
   "cell_type": "code",
   "execution_count": null,
   "id": "e463ecd1-b72e-432f-a75f-846c1dca58d9",
   "metadata": {},
   "outputs": [],
   "source": [
    "\n",
    "print_asset_lineage_graph(peters_client, \"Data File Collection::Validated Incoming Weekly Measurements for the \" + project_name + \".\")\n"
   ]
  },
  {
   "cell_type": "markdown",
   "id": "412f4e03-f379-4aea-afab-ea93e2e4402c",
   "metadata": {},
   "source": [
    "-----\n",
    "\n",
    "## Werewolf Transformation\n"
   ]
  },
  {
   "cell_type": "code",
   "execution_count": null,
   "id": "835b1d53-1b7a-49c7-b5dd-ae8cd69d6882",
   "metadata": {},
   "outputs": [],
   "source": [
    "\n",
    "print()\n",
    "\n",
    "project_identifier=\"PROJ-CT-WTF\"\n",
    "project_name=\"Werewolf Transformation Clinical Trial\"\n",
    "project_description=\"Clinical trial related to the new treatment to minimise or prevent werewolf transformation.\"\n",
    "project_directory_name=\"werewolf-transformation\"\n",
    "project_schema_name=\"werewolf_transformation\"\n",
    "\n",
    "print(\"Project \" + project_identifier + \": \" + project_name)\n",
    "print(\"  \" + project_description)\n"
   ]
  },
  {
   "cell_type": "code",
   "execution_count": null,
   "id": "837f247a-cc32-43ef-8617-c3a2c1a5cd16",
   "metadata": {
    "scrolled": true
   },
   "outputs": [],
   "source": [
    "\n",
    "user_id = \"tessatube\"\n",
    "tessas_client = EgeriaTech(view_server, url, user_id, user_pwd)\n",
    "token = tessas_client.create_egeria_bearer_token()\n",
    "\n",
    "set_up_clinical_trial(tessas_client,\n",
    "                      parent_project_guid,\n",
    "                      clinical_trial_owner_guid,\n",
    "                      clinical_trial_manager_guid,\n",
    "                      project_manager_guid,\n",
    "                      data_engineer_guid,\n",
    "                      integration_developer_guid,\n",
    "                      data_scientist_guid,\n",
    "                      project_identifier, \n",
    "                      project_name,\n",
    "                      project_description) \n"
   ]
  },
  {
   "cell_type": "code",
   "execution_count": null,
   "id": "cf5eb84e-86d9-453e-a364-53a5e0891fa7",
   "metadata": {
    "scrolled": true
   },
   "outputs": [],
   "source": [
    "\n",
    "display_engine_activity_c(row_limit=1,width=170)\n"
   ]
  },
  {
   "cell_type": "code",
   "execution_count": null,
   "id": "a560207b-da9e-484d-989a-4152ce3cbe82",
   "metadata": {
    "scrolled": true
   },
   "outputs": [],
   "source": [
    "\n",
    "print_matching_gov_action_processes(tessas_client, project_identifier)\n",
    "\n",
    "\n",
    "project_guid=tessas_client.get_element_guid_by_unique_name(\"Project::\" + project_identifier + \"::\" + project_name)\n",
    "print_project_graph(tessas_client, project_guid)\n"
   ]
  },
  {
   "cell_type": "code",
   "execution_count": null,
   "id": "f64eba12-4460-4e4d-8cc0-acb074ce288b",
   "metadata": {},
   "outputs": [],
   "source": [
    "\n",
    "user_id = \"tanyatidie\"\n",
    "tanyas_client = EgeriaTech(view_server, url, user_id, user_pwd)\n",
    "token = tanyas_client.create_egeria_bearer_token()\n",
    "\n",
    "nominate_hospital(tanyas_client, project_identifier, oak_dene_hospital_guid, oak_dene_contact_person_guid)\n",
    "nominate_hospital(tanyas_client, project_identifier, old_market_hospital_guid, old_market_contact_person_guid)\n",
    "nominate_hospital(tanyas_client, project_identifier, hampton_hospital_guid, hampton_contact_person_guid)\n",
    "nominate_hospital(tanyas_client, project_identifier, bowden_arrow_hospital_guid, bowden_arrow_contact_person_guid)\n"
   ]
  },
  {
   "cell_type": "code",
   "execution_count": null,
   "id": "139399d5-657f-4be6-980b-22ff78dfc951",
   "metadata": {
    "scrolled": true
   },
   "outputs": [],
   "source": [
    "\n",
    "display_engine_activity_c(row_limit=4, width=150)\n"
   ]
  },
  {
   "cell_type": "code",
   "execution_count": null,
   "id": "27e0ea5e-23af-43a9-bea3-0183f3d0a829",
   "metadata": {},
   "outputs": [],
   "source": [
    "\n",
    "user_id = \"peterprofile\"\n",
    "peters_client = EgeriaTech(view_server, url, user_id, user_pwd)\n",
    "token = peters_client.create_egeria_bearer_token()\n",
    "\n",
    "set_up_data_lake(peters_client, project_identifier, project_name, project_directory_name, project_schema_name)\n"
   ]
  },
  {
   "cell_type": "code",
   "execution_count": null,
   "id": "72f24f4c-6861-4017-bdf4-2550119d288a",
   "metadata": {
    "scrolled": true
   },
   "outputs": [],
   "source": [
    "\n",
    "display_engine_activity_c(row_limit=1, width=150)\n"
   ]
  },
  {
   "cell_type": "code",
   "execution_count": null,
   "id": "47bd3039-6dcf-41c7-9fed-07aefb1ce773",
   "metadata": {},
   "outputs": [],
   "source": [
    "\n",
    "user_id = \"tanyatidie\"\n",
    "tanyas_client = EgeriaTech(view_server, url, user_id, user_pwd)\n",
    "token = tanyas_client.create_egeria_bearer_token()\n",
    "\n",
    "certify_hospital(tanyas_client, project_identifier, oak_dene_hospital_guid)\n",
    "certify_hospital(tanyas_client, project_identifier, old_market_hospital_guid)\n",
    "certify_hospital(tanyas_client, project_identifier, hampton_hospital_guid)\n",
    "certify_hospital(tanyas_client, project_identifier, bowden_arrow_hospital_guid)\n"
   ]
  },
  {
   "cell_type": "code",
   "execution_count": null,
   "id": "1f50eff7-5684-4780-b367-dbbd9203ee91",
   "metadata": {
    "scrolled": true
   },
   "outputs": [],
   "source": [
    "\n",
    "display_engine_activity_c(row_limit=4, width=150)\n"
   ]
  },
  {
   "cell_type": "code",
   "execution_count": null,
   "id": "a6d93941-91ec-4e35-84da-ce81abc76307",
   "metadata": {},
   "outputs": [],
   "source": [
    "\n",
    "user_id = \"peterprofile\"\n",
    "peters_client = EgeriaTech(view_server, url, user_id, user_pwd)\n",
    "token = peters_client.create_egeria_bearer_token()\n",
    "\n",
    "oak_dene_landing_area_directory_name=onboard_hospital(peters_client, project_identifier, project_directory_name, oak_dene_hospital_guid, oak_dene_landing_folder_directory)\n",
    "old_market_landing_area_directory_name=onboard_hospital(peters_client, project_identifier, project_directory_name, old_market_hospital_guid, old_market_landing_folder_directory)\n",
    "hampton_landing_area_directory_name=onboard_hospital(peters_client, project_identifier, project_directory_name, hampton_hospital_guid, hampton_landing_folder_directory)\n",
    "bowden_arrow_landing_area_directory_name=onboard_hospital(peters_client, project_identifier, project_directory_name, bowden_arrow_hospital_guid, bowden_arrow_landing_folder_directory)\n",
    "\n",
    "print_information_supply_chains(egeria_client, \"Clinical Trial Treatment Validation::\" + project_identifier, True, True)\n"
   ]
  },
  {
   "cell_type": "code",
   "execution_count": null,
   "id": "a2389438-fc14-49ef-b86d-b25e4298a3b4",
   "metadata": {},
   "outputs": [],
   "source": [
    "\n",
    "print_information_supply_chains(egeria_client, \"Clinical Trial Treatment Validation::\" + project_identifier, True, True)\n"
   ]
  },
  {
   "cell_type": "code",
   "execution_count": null,
   "id": "2ab57f8b-3b2a-4dc7-8e7d-c20903edb531",
   "metadata": {},
   "outputs": [],
   "source": [
    "\n",
    "add_file_to_landing_area(peters_client, oak_dene_source_folder, oak_dene_landing_area_directory_name, \"1\")\n"
   ]
  },
  {
   "cell_type": "code",
   "execution_count": null,
   "id": "55a9a904-74f8-40ad-88ee-306fc2f9ada5",
   "metadata": {},
   "outputs": [],
   "source": [
    "\n",
    "print_information_supply_chains(egeria_client, \"Clinical Trial Treatment Validation::\" + project_identifier, True, True)\n"
   ]
  },
  {
   "cell_type": "code",
   "execution_count": null,
   "id": "36c770ad-57d0-484a-85e2-3fe97a4df511",
   "metadata": {},
   "outputs": [],
   "source": [
    "\n",
    "print_asset_lineage_graph(peters_client, \"Data File Collection::Validated Incoming Weekly Measurements for the \" + project_name + \".\")\n"
   ]
  },
  {
   "cell_type": "code",
   "execution_count": null,
   "id": "2bb00545-74d0-4325-8c7f-625b29e5420b",
   "metadata": {},
   "outputs": [],
   "source": []
  }
 ],
 "metadata": {
  "kernelspec": {
   "display_name": "Python 3 (ipykernel)",
   "language": "python",
   "name": "python3"
  },
  "language_info": {
   "codemirror_mode": {
    "name": "ipython",
    "version": 3
   },
   "file_extension": ".py",
   "mimetype": "text/x-python",
   "name": "python",
   "nbconvert_exporter": "python",
   "pygments_lexer": "ipython3",
   "version": "3.12.8"
  }
 },
 "nbformat": 4,
 "nbformat_minor": 5
}

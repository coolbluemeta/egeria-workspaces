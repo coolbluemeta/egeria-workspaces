{
 "cells": [
  {
   "cell_type": "markdown",
   "id": "f34d056a-c224-4324-ab4e-f2dd65f94fdf",
   "metadata": {},
   "source": [
    "<!-- SPDX-License-Identifier: CC-BY-4.0 -->\n",
    "<!-- Copyright Contributors to the ODPi Egeria project 2024. -->\n",
    "\n",
    "![Egeria Logo](https://raw.githubusercontent.com/odpi/egeria/main/assets/img/ODPi_Egeria_Logo_color.png)\n",
    "\n",
    "### Egeria Workbook\n",
    "\n",
    "# Enabling the Metadata Observability Harvesters\n",
    "\n",
    "## Introduction\n",
    "\n",
    "Egeria is exchanging metadata with many different types of tools, data platforms and engines, as well as coordinating their governance.  Its open metadata repositor(y|ies) accumulate metadata about these tools, their data and proceses as well as the governance actions taking place.  Therefore it provides a detailed insight into the workings of your data and AI landscape.   This notebook expains how to set up the havesters that extract open metadata from the live repositories and adds it to a PostgreSQL database ready for observability analysis and reporting.\n",
    "\n",
    "Once configured, the harvesters run continuously giving you up-to-date data for dashboards and reports.\n",
    "\n",
    "First lets initialize **pyegeria**."
   ]
  },
  {
   "cell_type": "code",
   "execution_count": null,
   "id": "fa6f2bc1-7a0f-4187-be84-e0a93e16d0fe",
   "metadata": {},
   "outputs": [],
   "source": [
    "# Initialize pyegeria\n",
    "\n",
    "%run ../pyegeria/initialize-pyegeria.ipynb\n"
   ]
  },
  {
   "cell_type": "code",
   "execution_count": null,
   "id": "07588538-0edf-46bf-ac17-c1f8d3c0e36b",
   "metadata": {},
   "outputs": [],
   "source": [
    "view_server=\"qs-view-server\"\n",
    "egeria_tech = EgeriaTech(view_server, url, user_id, user_pwd)\n",
    "token = egeria_tech.create_egeria_bearer_token()\n"
   ]
  },
  {
   "cell_type": "markdown",
   "id": "60e2f4e0-25fd-4ba2-be37-bd351102a707",
   "metadata": {},
   "source": [
    "---\n",
    "\n",
    "## Loading support for Metadata Observability\n",
    "\n",
    "The definition of the harvesting connectors, templates and associated reference data are loaded via a [Content Pack](https://egeria-project.org/content-packs/) called `ObservabilityContentPack.omarchive`.  This content pack is dependent on the definitions in the `PostgresContentPack.omarchive`.  The content packs can be loaded multiple times without ill-effect so run the following commands to make sure they are loaded.\n",
    "\n",
    "---"
   ]
  },
  {
   "cell_type": "code",
   "execution_count": null,
   "id": "8754b0c7-ed81-4d32-b7a4-8f1068930cd5",
   "metadata": {},
   "outputs": [],
   "source": [
    "\n",
    "egeria_tech.add_archive_file(\"content-packs/PostgresContentPack.omarchive\", None, \"qs-metadata-store\")\n",
    "\n",
    "print(\"PostgreSQL Archive loaded!\")\n",
    "\n",
    "egeria_tech.add_archive_file(\"content-packs/ObservabilityContentPack.omarchive\", None, \"qs-metadata-store\")\n",
    "\n",
    "print(\"Observability Archive loaded!\")\n",
    "\n"
   ]
  },
  {
   "cell_type": "markdown",
   "id": "021e49b4-f6c3-4342-ad16-f7fcaebfb0ca",
   "metadata": {},
   "source": [
    "----\n",
    "\n",
    "These archives add the following integration connectors:\n",
    "\n",
    "* HarvestSurveys - periodically extracts details of the survey reports found in the Open Metadata Ecosystem and maintains a set of tables in a PostgreSQL database schema that describe the survey reports.\n",
    "* HarvestOpenMetadata - periodically extracts details about the activity going on in the Open Metadata Ecosystem and maintains a set of tables in a PostgreSQL database schema that describe the types of activity and who is engaged in it.\n",
    "\n",
    "---"
   ]
  },
  {
   "cell_type": "code",
   "execution_count": null,
   "id": "6eb44dea-77c9-4edd-b063-2e9bcc03b7e3",
   "metadata": {},
   "outputs": [],
   "source": [
    "display_integration_daemon_status(['HarvestSurveys', 'HarvestOpenMetadata'], \n",
    "                                  view_server = 'qs-view-server', view_url = 'https://host.docker.internal:9443',\n",
    "                                  integ_server ='qs-integration-daemon', integ_url = 'https://host.docker.internal:9443',\n",
    "                                  width=150, paging = True)"
   ]
  },
  {
   "cell_type": "markdown",
   "id": "78f3fece-def1-4126-891e-917f58d5dede",
   "metadata": {},
   "source": [
    "----\n",
    "The content packs also populate the following governance engines:\n",
    "\n",
    "* MetadataObservability\n",
    "* PostgreSQLGovernance\n",
    "* PostgreSQLSurvey \n",
    "\n",
    "These governance engines are called during the processes that configure the integration connectors.\n",
    "\n",
    "---"
   ]
  },
  {
   "cell_type": "code",
   "execution_count": null,
   "id": "d8b368d2-0762-410c-a899-c0a53972a9ad",
   "metadata": {},
   "outputs": [],
   "source": [
    "display_gov_eng_status(['MetadataObservability','PostgreSQLGovernance','PostgreSQLSurvey'],\n",
    "                       status_filter=[\"*\"],\n",
    "                       engine_host = 'qs-engine-host',  view_server = 'qs-view-server',\n",
    "                       paging = True, jupyter = True,width = 150,sort = True)"
   ]
  },
  {
   "cell_type": "markdown",
   "id": "b040d17f-2210-4ae5-82da-91fb5362110a",
   "metadata": {},
   "source": [
    "----\n",
    "\n",
    "## Harvesting Survey Reports\n",
    "\n",
    "The *HarvestSurveyReports:CreateAsCatalogTargetGovernanceActionProcess* governance action process is used to set up the *HarvestSurveys* integration connector.\n",
    "\n",
    "----"
   ]
  },
  {
   "cell_type": "code",
   "execution_count": null,
   "id": "f6370a6f-da33-4144-a3a9-d93ae17e9eb4",
   "metadata": {},
   "outputs": [],
   "source": [
    "harvestSurveysName=\"HarvestSurveyReports:CreateAsCatalogTargetGovernanceActionProcess\"\n",
    "\n",
    "process_guid = egeria_tech.get_element_guid_by_unique_name(harvestSurveysName)\n",
    "\n",
    "process_graph = egeria_tech.get_gov_action_process_graph(process_guid)\n",
    "print_governance_action_process_graph(process_graph)\n"
   ]
  },
  {
   "cell_type": "markdown",
   "id": "25bbee03-82ee-4bc4-9e4c-ce1468cc4f6d",
   "metadata": {},
   "source": [
    "----\n",
    "\n",
    "The code below initiates this process to set up *HarvestSurveys*.  Notice that the request parameters match to properties in the process's specification.  The surveys will be harvested into the *harvest_surveys* schema in the *egeria* database, located in the PostgreSQL Server that is included in the workspaces.\n",
    "\n",
    "----"
   ]
  },
  {
   "cell_type": "code",
   "execution_count": null,
   "id": "c1ca7af0-1746-4c01-93e6-4144bb101768",
   "metadata": {},
   "outputs": [],
   "source": [
    "\n",
    "\n",
    "requestParameters = {\n",
    "    \"serverName\" : \"LocalPostgreSQL1\",\n",
    "    \"hostIdentifier\" : \"localhost\",\n",
    "    \"portNumber\" : \"5442\",\n",
    "    \"secretsStorePathName\" : \"loading-bay/secrets/default.omsecrets\",\n",
    "    \"versionIdentifier\" : \"1.0\",\n",
    "    \"schemaDescription\" : \"PostgreSQL database schema in egeria-workspaces.\",\n",
    "    \"databaseName\" : \"egeria\",\n",
    "    \"schemaName\" : \"harvested_surveys\"\n",
    "}\n",
    "\n",
    "egeria_tech.initiate_gov_action_process(harvestSurveysName, None, None, None, requestParameters, None, None)\n",
    "\n"
   ]
  },
  {
   "cell_type": "code",
   "execution_count": null,
   "id": "df4b06b7-c0e5-4fb8-ae00-039ae129cc7e",
   "metadata": {},
   "outputs": [],
   "source": [
    "display_engine_activity_c()"
   ]
  },
  {
   "cell_type": "code",
   "execution_count": null,
   "id": "530a02da-a7f3-4d24-b7d4-c8f2b5c59a12",
   "metadata": {},
   "outputs": [],
   "source": [
    "#run list_gov_eng_status"
   ]
  },
  {
   "cell_type": "markdown",
   "id": "eb803c2f-f67c-4306-b224-34758db45490",
   "metadata": {},
   "source": [
    "----\n",
    "\n",
    "## Harvesting Open Metadata Ecosystem Activity\n",
    "\n",
    "\n",
    "----"
   ]
  },
  {
   "cell_type": "code",
   "execution_count": null,
   "id": "a2314835-e988-4c6e-a611-f4039562959e",
   "metadata": {},
   "outputs": [],
   "source": [
    "harvestOpenMetadataName=\"HarvestOpenMetadataEcosystem:CreateAsCatalogTargetGovernanceActionProcess\"\n",
    "\n",
    "process_guid = egeria_tech.get_element_guid_by_unique_name(harvestOpenMetadataName)\n",
    "\n",
    "process_graph = egeria_tech.get_gov_action_process_graph(process_guid)\n",
    "print_governance_action_process_graph(process_graph)\n"
   ]
  },
  {
   "cell_type": "code",
   "execution_count": null,
   "id": "45a0e9b3-20a5-430c-86a7-b98a74c19aa6",
   "metadata": {},
   "outputs": [],
   "source": [
    "\n",
    "\n",
    "requestParameters = {\n",
    "    \"serverName\" : \"LocalPostgreSQL1\",\n",
    "    \"hostIdentifier\" : \"localhost\",\n",
    "    \"portNumber\" : \"5442\",\n",
    "    \"secretsStorePathName\" : \"loading-bay/secrets/default.omsecrets\",\n",
    "    \"versionIdentifier\" : \"1.0\",\n",
    "    \"schemaDescription\" : \"PostgreSQL database schema in egeria-workspaces.\",\n",
    "    \"databaseName\" : \"egeria\",\n",
    "    \"schemaName\" : \"harvested_om_activity\"\n",
    "}\n",
    "\n",
    "egeria_tech.initiate_gov_action_process(harvestOpenMetadataName, None, None, None, requestParameters, None, None)\n",
    "\n"
   ]
  },
  {
   "cell_type": "code",
   "execution_count": null,
   "id": "ae6605a3-44e6-41b8-9ea8-3c31dbd4bfde",
   "metadata": {},
   "outputs": [],
   "source": [
    "display_engine_activity_c()"
   ]
  }
 ],
 "metadata": {
  "kernelspec": {
   "display_name": "Python 3 (ipykernel)",
   "language": "python",
   "name": "python3"
  },
  "language_info": {
   "codemirror_mode": {
    "name": "ipython",
    "version": 3
   },
   "file_extension": ".py",
   "mimetype": "text/x-python",
   "name": "python",
   "nbconvert_exporter": "python",
   "pygments_lexer": "ipython3",
   "version": "3.12.8"
  }
 },
 "nbformat": 4,
 "nbformat_minor": 5
}

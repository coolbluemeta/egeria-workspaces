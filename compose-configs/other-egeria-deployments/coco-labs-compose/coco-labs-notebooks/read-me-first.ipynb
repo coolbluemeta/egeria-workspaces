{
 "cells": [
  {
   "cell_type": "markdown",
   "metadata": {},
   "source": [
    "![Egeria Logo](https://raw.githubusercontent.com/odpi/egeria/main/assets/img/ODPi_Egeria_Logo_color.png)\n",
    "\n",
    "### Coco Pharmaceuticals Labs\n",
    "# Welcome to the Overview of the Egeria Hands-on Labs\n",
    "\n",
    "Egeria is an open source project that provides open standards and implementation libraries to connect tools, catalogs and platforms together so they can share information (called metadata) about data and the technology that supports it.\n",
    "\n",
    "The Egeria technology includes:\n",
    "\n",
    "- libraries that can be embedded into technologies that need to share metadata\n",
    "- an integration platform called the **Open Metadata and Governance (OMAG) Platform** for hosting connectors, metadata servers and governance servers\n",
    "\n",
    "Collectively the Egeria capabilities serve to integrate a diverse range of technologies to create a coherent view of an organization's IT assets and a consistent implementation of governance across infrastructure, security, data, privacy and throughout the software development lifecycle.\n",
    "\n",
    "The **Egeria Hands-on Labs** provide a practical introduction to the Egeria technology.  They work through different scenarios using the personas from a fictitious company called **Coco Pharmaceuticals**.   Each lab introduces the characters involved and the work they are engaged in.  It defines the key Egeria concepts that you need to understand in order to follow along and then issues calls to Egeria to complete the work, providing explanations of the results received.  **Bold text** is used to emphasize concepts and elements of special note.\n",
    "\n",
    "You will notice that some of the concepts described include a hyperlink to more information.  This extra information is not required to understand and follow along with the lab.  They are provided for your convenience if you want to follow up on a topic in more detail.   For example, if you wish to understand more about [Coco Pharmaceuticals](https://egeria-project.org/practices/coco-pharmaceuticals/), follow the link.\n",
    "\n",
    "The labs themselves are implemented using **Jupyter Notebooks**.  These are workspaces that can display text and images (like this section) as well as run code.\n",
    "\n",
    "## Using the Jupyter Notebooks\n",
    "\n",
    "This introduction is implemented in a Jupyter Notebook.  Notice along the top there are a number of buttons like this:\n",
    "\n",
    "<img src=\"images/jupyter-notebook-play-button.png\" style=\"float:left\">\n",
    "\n",
    "One of them is a triangle.  This is the **play** button needed to step through the notebook.\n",
    "\n",
    "Press the play button and notice that the left-hand border has changed."
   ]
  },
  {
   "cell_type": "markdown",
   "metadata": {},
   "source": [
    "The blue line has moved so it is next to this text.  Press the play button again."
   ]
  },
  {
   "cell_type": "markdown",
   "metadata": {},
   "source": [
    "Now the blue line is here.  Each time you press the play button, the notebook advances to the next \"cell\".  Some cells have descriptions in them and some are code fragments.  When you play a cell with code in it, the code runs.  Often this is to issue a call to an Egeria server.\n",
    "\n",
    "Some of the code can be complex.  However it is surrounded with explanations so it is not a problem if you are not a software developer.\n",
    "\n",
    "This is about all you need to know about the Jupyter Notebooks.  (One other quick tip: you can also use `SHIFT-Enter` instead of the play button.)\n",
    "\n",
    "## Starting up the Egeria platforms\n",
    "\n",
    "Egeria's hands-on labs assume that there are three OMAG Server Platforms running, along with Apache Zookeeper and Apache Kafka.   If you are running these labs using the Docker Compose script, the environment will be automatically created, configured and started. If not, you can configure and start the environment manually by issuing the following commands below:\n"
   ]
  },
  {
   "cell_type": "code",
   "execution_count": null,
   "metadata": {},
   "outputs": [],
   "source": [
    "%run common/config_coco_core.py\n",
    "%run common/config_coco_datalake.py\n",
    "%run common/config_coco_development.py"
   ]
  },
  {
   "cell_type": "markdown",
   "metadata": {},
   "source": [
    "\n",
    "\n",
    "## Choosing the hands-on labs to run\n",
    "\n",
    "Egeria is a complex project with many options as it is attempting to integrate the huge variety of technology that runs in organizations today.  To make it easy for you to learn about the parts of Egeria that interest you, the labs are divided into topics focused around different personas at Coco Pharmaceuticals.\n",
    "\n",
    "The different topics are as follows:\n",
    "\n",
    "* **New Governance Initiative** - follow [Tom Tally](https://egeria-project.org/practices/coco-pharmaceuticals/personas/tom-tally/) as she demonstrates how to set up an run a new governance domain that drives improvements in Coco Pharmaceuticals' sustainability.  This covers the metadata associated with the people, process and technology associated with a governance initiative.\n",
    "* **Data Onboarding** - follow Coco Pharmaceuticals as they set up and operate a new clinical trial.  This uses personal data from patients that are being cared for by a variety of hospitals.  Data must be collected from these patients by these hospitals and sent to Coco Pharmaceuticals, who must, in turn, process it and demonstrate to their regulators that the results produced are valid.  \n",
    "\n"
   ]
  },
  {
   "cell_type": "markdown",
   "metadata": {},
   "source": [
    "----"
   ]
  },
  {
   "cell_type": "code",
   "execution_count": null,
   "metadata": {},
   "outputs": [],
   "source": []
  }
 ],
 "metadata": {
  "kernelspec": {
   "display_name": "Python 3 (ipykernel)",
   "language": "python",
   "name": "python3"
  },
  "language_info": {
   "codemirror_mode": {
    "name": "ipython",
    "version": 3
   },
   "file_extension": ".py",
   "mimetype": "text/x-python",
   "name": "python",
   "nbconvert_exporter": "python",
   "pygments_lexer": "ipython3",
   "version": "3.11.9"
  }
 },
 "nbformat": 4,
 "nbformat_minor": 4
}

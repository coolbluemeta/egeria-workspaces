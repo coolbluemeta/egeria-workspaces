{
 "cells": [
  {
   "cell_type": "markdown",
   "metadata": {},
   "source": [
    "![Egeria Logo](https://raw.githubusercontent.com/odpi/egeria/main/assets/img/ODPi_Egeria_Logo_color.png)\n",
    "\n",
    "### Egeria Hands-On Lab\n",
    "# Welcome to the Building a Data Catalog Lab"
   ]
  },
  {
   "cell_type": "markdown",
   "metadata": {},
   "source": [
    "## Introduction\n",
    "\n",
    "Egeria is an open source project that provides open standards and implementation libraries to connect tools, catalogs and platforms together so they can share information (called metadata) about data and the technology that supports it.\n",
    "\n",
    "In this hands-on lab you will get a chance to work with three Egeria metadata servers to build a distributed catalog of data assets and then experiment with attaching feedback (comments) to the catalog entries from different servers.  We will also cover how governance zones can be used to group assets together and control who can discover them in the data catalog."
   ]
  },
  {
   "cell_type": "markdown",
   "metadata": {},
   "source": [
    "## The Scenario\n",
    "\n",
    "The Egeria team use the personas and scenarios from the fictitious company called [Coco Pharmaceuticals](https://egeria-project.org/practices/coco-pharmaceuticals/).\n",
    "\n",
    "As part of the huge business transformation that Coco Pharmaceuticals has embarked on, they\n",
    "have created a data lake for managing data for research, analytics, exchange between their internal organizations and business partners (such as hospitals).  As a result, the data lake has to be\n",
    "designed to handle a wide variety of data, including some highly sensitive and regulated data.\n",
    "\n",
    "In this lab we look at how data is catalogued in the data lake.  The two main character engaged in the first part of this lab are Peter Profile and Erin Overview.\n",
    "\n",
    "\n",
    "<figure style=\"margin-left: 7%; display:inline-block;\">  \n",
    "  <img src=\"https://raw.githubusercontent.com/odpi/egeria-docs/main/site/docs/practices/coco-pharmaceuticals/personas/peter-profile.png\">\n",
    "  <figcaption style=\"margin-left: 15%;\"><strong>Peter Profile</strong></figcaption>\n",
    "</figure>\n",
    "\n",
    "<figure style=\"margin-left: 20%; display:inline-block;\">  \n",
    "  <img src=\"https://raw.githubusercontent.com/odpi/egeria-docs/main/site/docs/practices/coco-pharmaceuticals/personas/erin-overview.png\">\n",
    "  <figcaption style=\"margin-left: 15%;\"><strong>Erin Overview</strong></figcaption>\n",
    "</figure>\n",
    "\n",
    "\n",
    "Peter and Erin are cataloguing new data sets that have been received from a hospital.  These data sets are part of a clinical trial that the hospital is participating in."
   ]
  },
  {
   "cell_type": "markdown",
   "metadata": {},
   "source": [
    "## Setting up\n",
    "\n",
    "Coco Pharmaceuticals make widespread use of Egeria for tracking and managing their data and related assets.\n",
    "Figure 1 below shows their metadata servers and the Open Metadata and Governance (OMAG) Server Platforms that are hosting them.  Each metadata server supports a department in the organization.  The servers are distributed across the platform to even out the workload.  Servers can be moved to a different platform if needed.\n",
    "\n",
    "![Figure 1](../images/coco-pharmaceuticals-systems-omag-server-platforms-metadata-server.png)\n",
    "> **Figure 1:** Coco Pharmaceuticals' OMAG Server Platforms\n",
    "\n",
    "The code below checks that the platforms are running.  It checks that the servers are configured and then if they are running on the platform.  If a server is configured, but not running, it will start it.\n",
    "\n",
    "Look for the \"Done.\" message.  This appears when `environment-check` has finished."
   ]
  },
  {
   "cell_type": "code",
   "execution_count": 1,
   "metadata": {
    "ExecuteTime": {
     "end_time": "2024-07-08T21:40:40.992607Z",
     "start_time": "2024-07-08T21:40:39.913256Z"
    }
   },
   "outputs": [
    {
     "name": "stdout",
     "output_type": "stream",
     "text": [
      "\n",
      "Checking OMAG Server Platform availability...\n",
      "    Core Platform is active\n",
      "        Checking OMAG Server cocoMDS2\n",
      "           ... cocoMDS2 is configured\n",
      "           ... cocoMDS2 is active - ready to begin\n",
      "        Checking OMAG Server cocoMDS3\n",
      "           ... cocoMDS3 is configured\n",
      "           ... cocoMDS3 is active - ready to begin\n",
      "        Checking OMAG Server cocoMDS5\n",
      "           ... cocoMDS5 is configured\n",
      "           ... cocoMDS5 is active - ready to begin\n",
      "        Checking OMAG Server cocoMDS6\n",
      "           ... cocoMDS6 is configured\n",
      "           ... cocoMDS6 is active - ready to begin\n",
      "    Data Lake Platform is active\n",
      "        Checking OMAG Server cocoMDS1\n",
      "           ... cocoMDS1 is configured\n",
      "           ... cocoMDS1 is active - ready to begin\n",
      "        Checking OMAG Server cocoMDS4\n",
      "           ... cocoMDS4 is configured\n",
      "           ... cocoMDS4 is active - ready to begin\n",
      "        Checking OMAG Server cocoView1\n",
      "           ... cocoView1 is configured\n",
      "           ... cocoView1 is active - ready to begin\n",
      "        Checking OMAG Server cocoOLS1\n",
      "           ... cocoOLS1 is configured\n",
      "           ... cocoOLS1 is active - ready to begin\n",
      "    Dev Platform is active\n",
      "        Checking OMAG Server cocoMDSx\n",
      "           ... cocoMDSx is configured\n",
      "           ... cocoMDSx is active - ready to begin\n",
      "Done.\n",
      " \n"
     ]
    }
   ],
   "source": [
    "%run ../common/common-functions.ipynb\n",
    "%run ../common/environment-check.ipynb"
   ]
  },
  {
   "cell_type": "markdown",
   "metadata": {},
   "source": [
    "----\n",
    "Peter is using the data lake operations metadata server called `cocoMDS1`. This server is hosted on the Data Lake OMAG Server Platform.\n",
    "\n",
    "If any of the platforms are not running, follow [this link to set up and run the platform](https://egeria-project.org/education/open-metadata-labs/overview/).  If any server is reporting that it is not configured then\n",
    "run the steps in the [Server Configuration](../egeria-server-config.ipynb) lab to configure\n",
    "the servers.  Then re-run the previous step to ensure all of the servers are started."
   ]
  },
  {
   "cell_type": "markdown",
   "metadata": {},
   "source": [
    "----\n",
    "## Exercise 1\n",
    "\n",
    "### Adding assets to the catalog\n",
    "\n",
    "In the first exercise, Peter Profile is adding descriptions of some new data sets to the catalog. They are stored in the catalog as **Assets**.  An Asset represent a real resource of value that needs to be governed to ensure it is properly managed and used.\n",
    "\n",
    "Every Asset identifies the owner of the resource.  This is either a person or a team.  The owner's role is to set up the Asset with the correct properties that define how the real resources (data sets in this case) should be managed.  This management is performed by tools, platforms and engines that host and/or work with the real resources.  If these technologies can connect to an open metadata repository, they can read these properties directly and ensure the correct actions are taken.  Some technologies do not support a direct connection to an open metadata repository.  Egeria also provides governance servers to actively push the Asset properties to these types of technologies using their native interfaces.\n",
    "\n",
    "In either case, the owner's role in setting up the correct properties is an important one.\n",
    "\n",
    "Peter will be acting a the owner of these new data sets. He uses the **Asset Owner** Open Metadata Access Service (OMAS) API to set up the Assets in the catalog.  "
   ]
  },
  {
   "cell_type": "markdown",
   "metadata": {},
   "source": [
    "----\n",
    "Before adding the new Assets, Peter queries the current list of Clinical Trial Assets from cocoMDS1 to check that these data sets have not been added already."
   ]
  },
  {
   "cell_type": "code",
   "execution_count": 2,
   "metadata": {
    "ExecuteTime": {
     "end_time": "2024-07-08T21:40:52.353051Z",
     "start_time": "2024-07-08T21:40:52.151153Z"
    }
   },
   "outputs": [
    {
     "name": "stdout",
     "output_type": "stream",
     "text": [
      "7 assets found:\n",
      "\n",
      "--------------------------------------\n",
      "\n",
      "secured/research [98f03321-666c-4161-8884-548c7db4ce9f]\n",
      "  qualifiedName:     FileFolder:file://secured/research\n",
      "  pathName:          file://secured/research\n",
      "  type:              FileFolder [DataStore, DataAsset, Asset, Referenceable, OpenMetadataRoot]\n",
      "\n",
      "--------------------------------------\n",
      "\n",
      "...cal-trials/drop-foot [e2ce3a91-019d-4334-92fa-252fc25ca6a0]\n",
      "  qualifiedName:     FileFolder:file://secured/research/clinical-trials/drop-foot\n",
      "  pathName:          file://secured/research/clinical-trials/drop-foot\n",
      "  type:              FileFolder [DataStore, DataAsset, Asset, Referenceable, OpenMetadataRoot]\n",
      "\n",
      "--------------------------------------\n",
      "\n",
      "secured [abe38f04-0670-47e5-a254-8b5355a21bd5]\n",
      "  qualifiedName:     FileFolder:file://secured\n",
      "  pathName:          file://secured\n",
      "  type:              FileFolder [DataStore, DataAsset, Asset, Referenceable, OpenMetadataRoot]\n",
      "\n",
      "--------------------------------------\n",
      "\n",
      "...l Trial Measurements [441c41cc-9226-4abf-9df8-4a5bdbe20d51]\n",
      "  qualifiedName:     CSVFile:file://secured/research/clinical-trials/drop-foot/DropFootMeasurementsWeek3.csv\n",
      "  pathName:          file://secured/research/clinical-trials/drop-foot/DropFootMeasurementsWeek3.csv\n",
      "  description:       One week's data covering foot angle, hip displacement and mobility measurements.\n",
      "  type:              CSVFile [DataFile, DataStore, DataAsset, Asset, Referenceable, OpenMetadataRoot]\n",
      "\n",
      "--------------------------------------\n",
      "\n",
      "...l Trial Measurements [db7fef85-531f-42b5-8bc1-0793fe879f7d]\n",
      "  qualifiedName:     CSVFile:file://secured/research/clinical-trials/drop-foot/DropFootMeasurementsWeek1.csv\n",
      "  pathName:          file://secured/research/clinical-trials/drop-foot/DropFootMeasurementsWeek1.csv\n",
      "  description:       One week's data covering foot angle, hip displacement and mobility measurements.\n",
      "  type:              CSVFile [DataFile, DataStore, DataAsset, Asset, Referenceable, OpenMetadataRoot]\n",
      "\n",
      "--------------------------------------\n",
      "\n",
      "...l Trial Measurements [adbd59d0-e1d0-4d3c-83e8-2173f202e0ab]\n",
      "  qualifiedName:     CSVFile:file://secured/research/clinical-trials/drop-foot/DropFootMeasurementsWeek2.csv\n",
      "  pathName:          file://secured/research/clinical-trials/drop-foot/DropFootMeasurementsWeek2.csv\n",
      "  description:       One week's data covering foot angle, hip displacement and mobility measurements.\n",
      "  type:              CSVFile [DataFile, DataStore, DataAsset, Asset, Referenceable, OpenMetadataRoot]\n",
      "\n",
      "--------------------------------------\n",
      "\n",
      "...arch/clinical-trials [dc512f25-c659-4dde-af54-4da33fd29cf4]\n",
      "  qualifiedName:     FileFolder:file://secured/research/clinical-trials\n",
      "  pathName:          file://secured/research/clinical-trials\n",
      "  type:              FileFolder [DataStore, DataAsset, Asset, Referenceable, OpenMetadataRoot]\n",
      "\n",
      "--------------------------------------\n",
      "\n"
     ]
    }
   ],
   "source": [
    "\n",
    "assetOwnerPrintAssets(cocoMDS1Name, cocoMDS1PlatformName, cocoMDS1PlatformURL, petersUserId, \".*file.*\")\n"
   ]
  },
  {
   "cell_type": "markdown",
   "metadata": {},
   "source": [
    "----\n",
    "We can see here that no assets are returned as the repository is empty."
   ]
  },
  {
   "cell_type": "markdown",
   "metadata": {},
   "source": [
    "#### Adding weekly clinical trial assets\n"
   ]
  },
  {
   "cell_type": "markdown",
   "metadata": {},
   "source": [
    "Peter is now going to create three weeks of clinical asset data. This data is stored in three data sets, one for each week.\n",
    "\n",
    "He begins with week 1.  The Asset he creates includes the full path of the data set as well as some descriptive information.  This descriptive information helps others to locate and understand the data set."
   ]
  },
  {
   "cell_type": "code",
   "execution_count": 3,
   "metadata": {
    "ExecuteTime": {
     "end_time": "2024-07-08T21:40:59.586587Z",
     "start_time": "2024-07-08T21:40:55.976555Z"
    }
   },
   "outputs": [
    {
     "name": "stdout",
     "output_type": "stream",
     "text": [
      "No assets created\n",
      "OMAG-COMMON-409-001 Method addCSVFileToCatalog of service Asset Owner OMAS is not able to create an instance of type CSVFile because parameter name qualifiedName is defined as a unique property and value CSVFile:file://secured/research/clinical-trials/drop-foot/DropFootMeasurementsWeek1.csv is not available for use\n",
      " * The system is unable to process the request because the unique property for this new entity is not permitted either because it is a reserved value, or it is already in use.\n",
      " * Retry the request with a different unique parameter name.\n",
      "Result of creating an asset is: \n",
      "No assets created\n"
     ]
    }
   ],
   "source": [
    "\n",
    "displayName = \"Week 1: Drop Foot Clinical Trial Measurements\"\n",
    "description = \"One week's data covering foot angle, hip displacement and mobility measurements.\"\n",
    "fullPath    = \"file://secured/research/clinical-trials/drop-foot/DropFootMeasurementsWeek1.csv\"\n",
    "\n",
    "asset1guids = assetOwnerCreateCSVAsset(cocoMDS1Name, cocoMDS1PlatformName, cocoMDS1PlatformURL, petersUserId, displayName, description, fullPath)\n",
    "\n",
    "print(\"Result of creating an asset is: \")\n",
    "printGUIDList(asset1guids)\n"
   ]
  },
  {
   "cell_type": "markdown",
   "metadata": {},
   "source": [
    "----\n",
    "Notice the result is the list of unique identifiers (GUIDs) of the chain of assets for the folder structure and the file itself.\n",
    "\n",
    "![Figure 2](../images/file-asset-hierarchy.png)\n",
    "> **Figure 2:** Hierarchy of assets for a file\n",
    "\n",
    "We need to save the file's unique identifier (the last one in the list) in a variable to use later."
   ]
  },
  {
   "cell_type": "code",
   "execution_count": 4,
   "metadata": {
    "ExecuteTime": {
     "end_time": "2024-07-08T21:42:02.683376Z",
     "start_time": "2024-07-08T21:42:02.681019Z"
    }
   },
   "outputs": [
    {
     "name": "stdout",
     "output_type": "stream",
     "text": [
      " \n",
      "The GUID for asset 1 is: <unknown>\n"
     ]
    }
   ],
   "source": [
    "\n",
    "asset1guid = getLastGUID(asset1guids)\n",
    "\n",
    "print (\" \")\n",
    "print (\"The GUID for asset 1 is: \" + asset1guid)\n"
   ]
  },
  {
   "cell_type": "markdown",
   "metadata": {},
   "source": [
    "----\n",
    "Now let's take a look again at what assets are in the repository using the same get request we used earlier.\n"
   ]
  },
  {
   "cell_type": "code",
   "execution_count": 5,
   "metadata": {
    "ExecuteTime": {
     "end_time": "2024-07-08T21:42:08.147474Z",
     "start_time": "2024-07-08T21:42:07.283008Z"
    }
   },
   "outputs": [
    {
     "name": "stdout",
     "output_type": "stream",
     "text": [
      "7 assets found:\n",
      "\n",
      "--------------------------------------\n",
      "\n",
      "secured/research [98f03321-666c-4161-8884-548c7db4ce9f]\n",
      "  qualifiedName:     FileFolder:file://secured/research\n",
      "  pathName:          file://secured/research\n",
      "  type:              FileFolder [DataStore, DataAsset, Asset, Referenceable, OpenMetadataRoot]\n",
      "\n",
      "--------------------------------------\n",
      "\n",
      "...cal-trials/drop-foot [e2ce3a91-019d-4334-92fa-252fc25ca6a0]\n",
      "  qualifiedName:     FileFolder:file://secured/research/clinical-trials/drop-foot\n",
      "  pathName:          file://secured/research/clinical-trials/drop-foot\n",
      "  type:              FileFolder [DataStore, DataAsset, Asset, Referenceable, OpenMetadataRoot]\n",
      "\n",
      "--------------------------------------\n",
      "\n",
      "secured [abe38f04-0670-47e5-a254-8b5355a21bd5]\n",
      "  qualifiedName:     FileFolder:file://secured\n",
      "  pathName:          file://secured\n",
      "  type:              FileFolder [DataStore, DataAsset, Asset, Referenceable, OpenMetadataRoot]\n",
      "\n",
      "--------------------------------------\n",
      "\n",
      "...l Trial Measurements [441c41cc-9226-4abf-9df8-4a5bdbe20d51]\n",
      "  qualifiedName:     CSVFile:file://secured/research/clinical-trials/drop-foot/DropFootMeasurementsWeek3.csv\n",
      "  pathName:          file://secured/research/clinical-trials/drop-foot/DropFootMeasurementsWeek3.csv\n",
      "  description:       One week's data covering foot angle, hip displacement and mobility measurements.\n",
      "  type:              CSVFile [DataFile, DataStore, DataAsset, Asset, Referenceable, OpenMetadataRoot]\n",
      "\n",
      "--------------------------------------\n",
      "\n",
      "...l Trial Measurements [db7fef85-531f-42b5-8bc1-0793fe879f7d]\n",
      "  qualifiedName:     CSVFile:file://secured/research/clinical-trials/drop-foot/DropFootMeasurementsWeek1.csv\n",
      "  pathName:          file://secured/research/clinical-trials/drop-foot/DropFootMeasurementsWeek1.csv\n",
      "  description:       One week's data covering foot angle, hip displacement and mobility measurements.\n",
      "  type:              CSVFile [DataFile, DataStore, DataAsset, Asset, Referenceable, OpenMetadataRoot]\n",
      "\n",
      "--------------------------------------\n",
      "\n",
      "...l Trial Measurements [adbd59d0-e1d0-4d3c-83e8-2173f202e0ab]\n",
      "  qualifiedName:     CSVFile:file://secured/research/clinical-trials/drop-foot/DropFootMeasurementsWeek2.csv\n",
      "  pathName:          file://secured/research/clinical-trials/drop-foot/DropFootMeasurementsWeek2.csv\n",
      "  description:       One week's data covering foot angle, hip displacement and mobility measurements.\n",
      "  type:              CSVFile [DataFile, DataStore, DataAsset, Asset, Referenceable, OpenMetadataRoot]\n",
      "\n",
      "--------------------------------------\n",
      "\n",
      "...arch/clinical-trials [dc512f25-c659-4dde-af54-4da33fd29cf4]\n",
      "  qualifiedName:     FileFolder:file://secured/research/clinical-trials\n",
      "  pathName:          file://secured/research/clinical-trials\n",
      "  type:              FileFolder [DataStore, DataAsset, Asset, Referenceable, OpenMetadataRoot]\n",
      "\n",
      "--------------------------------------\n",
      "\n"
     ]
    }
   ],
   "source": [
    "\n",
    "assetOwnerPrintAssets(cocoMDS1Name, cocoMDS1PlatformName, cocoMDS1PlatformURL, petersUserId, \".*file.*\")\n"
   ]
  },
  {
   "cell_type": "markdown",
   "metadata": {},
   "source": [
    "----\n",
    "\n",
    "Notice that five assets are returned.  Four are folders and one is for the file.  The file system is not returned because strictly speaking, it is not an [Asset](https://egeria-project.org/concepts/asset/), it is a [Software Capability](https://egeria-project.org/concepts/software-capability/).\n",
    "\n",
    "Peter is now going to add the files for the next two weeks:"
   ]
  },
  {
   "cell_type": "code",
   "execution_count": 6,
   "metadata": {
    "ExecuteTime": {
     "end_time": "2024-07-08T21:42:15.541154Z",
     "start_time": "2024-07-08T21:42:13.177138Z"
    }
   },
   "outputs": [
    {
     "name": "stdout",
     "output_type": "stream",
     "text": [
      "No assets created\n",
      "OMAG-COMMON-409-001 Method addCSVFileToCatalog of service Asset Owner OMAS is not able to create an instance of type CSVFile because parameter name qualifiedName is defined as a unique property and value CSVFile:file://secured/research/clinical-trials/drop-foot/DropFootMeasurementsWeek2.csv is not available for use\n",
      " * The system is unable to process the request because the unique property for this new entity is not permitted either because it is a reserved value, or it is already in use.\n",
      " * Retry the request with a different unique parameter name.\n",
      "\n",
      "Request to create the week 2 Asset responded with: \n",
      "No assets created\n",
      "No assets created\n",
      "OMAG-COMMON-409-001 Method addCSVFileToCatalog of service Asset Owner OMAS is not able to create an instance of type CSVFile because parameter name qualifiedName is defined as a unique property and value CSVFile:file://secured/research/clinical-trials/drop-foot/DropFootMeasurementsWeek3.csv is not available for use\n",
      " * The system is unable to process the request because the unique property for this new entity is not permitted either because it is a reserved value, or it is already in use.\n",
      " * Retry the request with a different unique parameter name.\n",
      "\n",
      "Request to create the week 3 Asset responded with: \n",
      "No assets created\n",
      " \n",
      "Summary of the assets so far:\n",
      " Asset 1 GUID is: <unknown>\n",
      " Asset 2 GUID is: <unknown>\n",
      " Asset 3 GUID is: <unknown>\n"
     ]
    }
   ],
   "source": [
    "displayName = \"Week 2: Drop Foot Clinical Trial Measurements\"\n",
    "description = \"One week's data covering foot angle, hip displacement and mobility measurements.\"\n",
    "fullPath    = \"file://secured/research/clinical-trials/drop-foot/DropFootMeasurementsWeek2.csv\"\n",
    "\n",
    "asset2guids = assetOwnerCreateCSVAsset(cocoMDS1Name, cocoMDS1PlatformName, cocoMDS1PlatformURL, petersUserId, displayName, description, fullPath)\n",
    "    \n",
    "print (\"\\nRequest to create the week 2 Asset responded with: \" )\n",
    "printGUIDList(asset2guids)\n",
    "asset2guid = getLastGUID(asset2guids)\n",
    "\n",
    "displayName = \"Week 3: Drop Foot Clinical Trial Measurements\"\n",
    "description = \"One week's data covering foot angle, hip displacement and mobility measurements.\"\n",
    "fullPath    = \"file://secured/research/clinical-trials/drop-foot/DropFootMeasurementsWeek3.csv\"\n",
    "\n",
    "asset3guids = assetOwnerCreateCSVAsset(cocoMDS1Name, cocoMDS1PlatformName, cocoMDS1PlatformURL, petersUserId, displayName, description, fullPath)\n",
    "    \n",
    "print (\"\\nRequest to create the week 3 Asset responded with: \" )\n",
    "printGUIDList(asset3guids)\n",
    "asset3guid = getLastGUID(asset3guids)\n",
    "\n",
    "print (\" \")\n",
    "print (\"Summary of the assets so far:\")\n",
    "print (' Asset 1 GUID is: ' + asset1guid)\n",
    "print (' Asset 2 GUID is: ' + asset2guid)\n",
    "print (' Asset 3 GUID is: ' + asset3guid)"
   ]
  },
  {
   "cell_type": "markdown",
   "metadata": {},
   "source": [
    "----\n",
    "Peter has successfully onboarded three file assets.  When we query the assets again, there are now seven assets.  All of the files are stored in the same folder on disk, so all of the Assets for these files are stored under the same FileFolder Asset in the metadata server.  So there are now four FileFolder Assets and 3 DataFile Assets."
   ]
  },
  {
   "cell_type": "code",
   "execution_count": 7,
   "metadata": {
    "ExecuteTime": {
     "end_time": "2024-07-08T21:50:40.102485Z",
     "start_time": "2024-07-08T21:50:39.070390Z"
    }
   },
   "outputs": [
    {
     "name": "stdout",
     "output_type": "stream",
     "text": [
      "7 assets found:\n",
      "\n",
      "--------------------------------------\n",
      "\n",
      "secured/research [98f03321-666c-4161-8884-548c7db4ce9f]\n",
      "  qualifiedName:     FileFolder:file://secured/research\n",
      "  pathName:          file://secured/research\n",
      "  type:              FileFolder [DataStore, DataAsset, Asset, Referenceable, OpenMetadataRoot]\n",
      "\n",
      "--------------------------------------\n",
      "\n",
      "...cal-trials/drop-foot [e2ce3a91-019d-4334-92fa-252fc25ca6a0]\n",
      "  qualifiedName:     FileFolder:file://secured/research/clinical-trials/drop-foot\n",
      "  pathName:          file://secured/research/clinical-trials/drop-foot\n",
      "  type:              FileFolder [DataStore, DataAsset, Asset, Referenceable, OpenMetadataRoot]\n",
      "\n",
      "--------------------------------------\n",
      "\n",
      "secured [abe38f04-0670-47e5-a254-8b5355a21bd5]\n",
      "  qualifiedName:     FileFolder:file://secured\n",
      "  pathName:          file://secured\n",
      "  type:              FileFolder [DataStore, DataAsset, Asset, Referenceable, OpenMetadataRoot]\n",
      "\n",
      "--------------------------------------\n",
      "\n",
      "...l Trial Measurements [441c41cc-9226-4abf-9df8-4a5bdbe20d51]\n",
      "  qualifiedName:     CSVFile:file://secured/research/clinical-trials/drop-foot/DropFootMeasurementsWeek3.csv\n",
      "  pathName:          file://secured/research/clinical-trials/drop-foot/DropFootMeasurementsWeek3.csv\n",
      "  description:       One week's data covering foot angle, hip displacement and mobility measurements.\n",
      "  type:              CSVFile [DataFile, DataStore, DataAsset, Asset, Referenceable, OpenMetadataRoot]\n",
      "\n",
      "--------------------------------------\n",
      "\n",
      "...l Trial Measurements [db7fef85-531f-42b5-8bc1-0793fe879f7d]\n",
      "  qualifiedName:     CSVFile:file://secured/research/clinical-trials/drop-foot/DropFootMeasurementsWeek1.csv\n",
      "  pathName:          file://secured/research/clinical-trials/drop-foot/DropFootMeasurementsWeek1.csv\n",
      "  description:       One week's data covering foot angle, hip displacement and mobility measurements.\n",
      "  type:              CSVFile [DataFile, DataStore, DataAsset, Asset, Referenceable, OpenMetadataRoot]\n",
      "\n",
      "--------------------------------------\n",
      "\n",
      "...l Trial Measurements [adbd59d0-e1d0-4d3c-83e8-2173f202e0ab]\n",
      "  qualifiedName:     CSVFile:file://secured/research/clinical-trials/drop-foot/DropFootMeasurementsWeek2.csv\n",
      "  pathName:          file://secured/research/clinical-trials/drop-foot/DropFootMeasurementsWeek2.csv\n",
      "  description:       One week's data covering foot angle, hip displacement and mobility measurements.\n",
      "  type:              CSVFile [DataFile, DataStore, DataAsset, Asset, Referenceable, OpenMetadataRoot]\n",
      "\n",
      "--------------------------------------\n",
      "\n",
      "...arch/clinical-trials [dc512f25-c659-4dde-af54-4da33fd29cf4]\n",
      "  qualifiedName:     FileFolder:file://secured/research/clinical-trials\n",
      "  pathName:          file://secured/research/clinical-trials\n",
      "  type:              FileFolder [DataStore, DataAsset, Asset, Referenceable, OpenMetadataRoot]\n",
      "\n",
      "--------------------------------------\n",
      "\n"
     ]
    }
   ],
   "source": [
    "\n",
    "assetOwnerPrintAssets(cocoMDS1Name, cocoMDS1PlatformName, cocoMDS1PlatformURL, petersUserId, \".*file.*\")\n",
    "    "
   ]
  },
  {
   "cell_type": "markdown",
   "metadata": {},
   "source": [
    "----\n",
    "## Exercise 2 - Sharing the catalog and adding feedback"
   ]
  },
  {
   "cell_type": "markdown",
   "metadata": {},
   "source": [
    "In this next exercise Erin is going to work with the assets that Peter created.  Erin is part of the governance team.  She is accessing\n",
    "metadata using the `cocoMDS2` server.  It sits on the core OMAG Server Platform.\n",
    "\n",
    "![Figure 1](../images/coco-pharmaceuticals-systems-omag-server-platforms-metadata-server.png)\n",
    "> **Figure 1:** Coco Pharmaceuticals' OMAG Server Platforms (repeat)\n",
    "\n",
    "So Erin is using a different server located on a different platform to Peter."
   ]
  },
  {
   "cell_type": "markdown",
   "metadata": {},
   "source": [
    "----\n",
    "The metadata servers `cocoMDS1` and `cocoMDS2` are part of the same open metadata cohort called `cocoCohort`.  This means that they are actively sharing metadata.\n",
    "\n",
    "![Figure 3](../images/coco-pharmaceuticals-systems-cohorts.png)\n",
    "> **Figure 3:** Membership of Coco Pharmaceuticals' cohorts\n",
    "\n",
    "----\n",
    "Even though Erin is connected to a different server to Peter, she can see the same assets.  The search request below uses the Asset Consumer's OMAS interface of cocoMDS2 to return the unique identifiers (GUIDs) of the assets for the three new files."
   ]
  },
  {
   "cell_type": "code",
   "execution_count": 8,
   "metadata": {
    "ExecuteTime": {
     "end_time": "2024-07-08T21:50:56.143746Z",
     "start_time": "2024-07-08T21:50:55.880072Z"
    }
   },
   "outputs": [
    {
     "name": "stdout",
     "output_type": "stream",
     "text": [
      "Current assets defined: \n",
      "[\n",
      "    \"441c41cc-9226-4abf-9df8-4a5bdbe20d51\",\n",
      "    \"db7fef85-531f-42b5-8bc1-0793fe879f7d\",\n",
      "    \"adbd59d0-e1d0-4d3c-83e8-2173f202e0ab\"\n",
      "]\n"
     ]
    }
   ],
   "source": [
    "newFilesSearchString=\".*Drop Foot Clinical Trial Measurements.*\"\n",
    "\n",
    "print(\"Current assets defined: \")\n",
    "assetConsumerPrintAssets(cocoMDS2Name, cocoMDS2PlatformName, cocoMDS2PlatformURL, erinsUserId, newFilesSearchString)"
   ]
  },
  {
   "cell_type": "markdown",
   "metadata": {},
   "source": [
    "----\n",
    "These are the same GUIDs as the ones saved when Peter created the assets:"
   ]
  },
  {
   "cell_type": "code",
   "execution_count": 9,
   "metadata": {
    "ExecuteTime": {
     "end_time": "2024-07-08T21:51:09.497749Z",
     "start_time": "2024-07-08T21:51:09.495405Z"
    }
   },
   "outputs": [
    {
     "name": "stdout",
     "output_type": "stream",
     "text": [
      " \n",
      "Review of the assets so far:\n",
      " Asset 1 GUID is: <unknown>\n",
      " Asset 2 GUID is: <unknown>\n",
      " Asset 3 GUID is: <unknown>\n"
     ]
    }
   ],
   "source": [
    "print (\" \")\n",
    "print (\"Review of the assets so far:\")\n",
    "print (' Asset 1 GUID is: ' + asset1guid)\n",
    "print (' Asset 2 GUID is: ' + asset2guid)\n",
    "print (' Asset 3 GUID is: ' + asset3guid)"
   ]
  },
  {
   "cell_type": "markdown",
   "metadata": {},
   "source": [
    "----\n",
    "Erin looks at the new assets that Peter has defined and has a question.  She adds a comment to the first asset."
   ]
  },
  {
   "cell_type": "code",
   "execution_count": 10,
   "metadata": {
    "ExecuteTime": {
     "end_time": "2024-07-08T21:51:25.930175Z",
     "start_time": "2024-07-08T21:51:25.536178Z"
    }
   },
   "outputs": [
    {
     "name": "stdout",
     "output_type": "stream",
     "text": [
      "No comment added\n",
      "OMAG-REPOSITORY-HANDLER-404-007 The OpenMetadataRoot entity with unique identifier <unknown> is not found for method addCommentToAsset of access service Asset Consumer OMAS in open metadata server cocoMDS2, error message was: OMRS-REPOSITORY-404-002 The entity identified with guid <unknown> passed on the getEntityDetail call is not known to the open metadata repository Enterprise\n",
      " * The system is unable to update information associated with the entity because none of the connected open metadata repositories recognize the entity's unique identifier.\n",
      " * The unique identifier of the entity is supplied by the caller.  Verify that the caller's logic is correct, and that there are no errors being reported by the open metadata repository. Once all errors have been resolved, retry the request.\n",
      " \n"
     ]
    }
   ],
   "source": [
    "commentType = \"QUESTION\"\n",
    "commentText = \"This file has much less data than normal.  Did the hospital provide any additional information about this batch to explain it?\"\n",
    "isPublic    = \"true\"\n",
    "\n",
    "commentGUID = addCommentToAsset(cocoMDS2Name, cocoMDS2PlatformName, cocoMDS2PlatformURL, erinsUserId, asset1guid, commentText, commentType, isPublic)\n",
    "\n",
    "print (\" \")\n",
    "if commentGUID:\n",
    "    print ('Erin\\'s comment guid is: ' + commentGUID)"
   ]
  },
  {
   "cell_type": "markdown",
   "metadata": {},
   "source": [
    "----\n",
    "The comment is attached to the asset.  Peter can query an asset's comments as follows:"
   ]
  },
  {
   "cell_type": "code",
   "execution_count": 11,
   "metadata": {
    "ExecuteTime": {
     "end_time": "2024-07-08T21:51:35.535755Z",
     "start_time": "2024-07-08T21:51:35.188590Z"
    }
   },
   "outputs": [
    {
     "name": "stdout",
     "output_type": "stream",
     "text": [
      "No comments returned\n",
      "OMAG-REPOSITORY-HANDLER-404-007 The Asset entity with unique identifier <unknown> is not found for method getAssetComments of access service Connected Asset Services in open metadata server cocoMDS2, error message was: OMRS-REPOSITORY-404-002 The entity identified with guid <unknown> passed on the getEntityDetail call is not known to the open metadata repository Enterprise\n",
      " * The system is unable to update information associated with the entity because none of the connected open metadata repositories recognize the entity's unique identifier.\n",
      " * The unique identifier of the entity is supplied by the caller.  Verify that the caller's logic is correct, and that there are no errors being reported by the open metadata repository. Once all errors have been resolved, retry the request.\n"
     ]
    }
   ],
   "source": [
    "assetConsumerPrintAssetComments(cocoMDS2Name, cocoMDS2PlatformName, cocoMDS2PlatformURL, petersUserId, asset1guid)"
   ]
  },
  {
   "cell_type": "markdown",
   "metadata": {},
   "source": [
    "----\n",
    "He replies to Erin's question"
   ]
  },
  {
   "cell_type": "code",
   "execution_count": 12,
   "metadata": {
    "ExecuteTime": {
     "end_time": "2024-07-08T21:51:39.847691Z",
     "start_time": "2024-07-08T21:51:39.441357Z"
    }
   },
   "outputs": [
    {
     "name": "stdout",
     "output_type": "stream",
     "text": [
      "<unknown>\n"
     ]
    },
    {
     "ename": "TypeError",
     "evalue": "can only concatenate str (not \"NoneType\") to str",
     "output_type": "error",
     "traceback": [
      "\u001b[0;31m---------------------------------------------------------------------------\u001b[0m",
      "\u001b[0;31mTypeError\u001b[0m                                 Traceback (most recent call last)",
      "Cell \u001b[0;32mIn[12], line 6\u001b[0m\n\u001b[1;32m      3\u001b[0m isPublic    \u001b[38;5;241m=\u001b[39m \u001b[38;5;124m\"\u001b[39m\u001b[38;5;124mtrue\u001b[39m\u001b[38;5;124m\"\u001b[39m\n\u001b[1;32m      5\u001b[0m \u001b[38;5;28mprint\u001b[39m(asset1guid)\n\u001b[0;32m----> 6\u001b[0m replyGUID \u001b[38;5;241m=\u001b[39m \u001b[43maddReplyToAssetComment\u001b[49m\u001b[43m(\u001b[49m\u001b[43mcocoMDS1Name\u001b[49m\u001b[43m,\u001b[49m\u001b[43m \u001b[49m\u001b[43mcocoMDS1PlatformName\u001b[49m\u001b[43m,\u001b[49m\u001b[43m \u001b[49m\u001b[43mcocoMDS1PlatformURL\u001b[49m\u001b[43m,\u001b[49m\u001b[43m \u001b[49m\u001b[43mpetersUserId\u001b[49m\u001b[43m,\u001b[49m\u001b[43m \u001b[49m\u001b[43masset1guid\u001b[49m\u001b[43m,\u001b[49m\u001b[43m \u001b[49m\u001b[43mcommentGUID\u001b[49m\u001b[43m,\u001b[49m\u001b[43m \u001b[49m\u001b[43mcommentText\u001b[49m\u001b[43m,\u001b[49m\u001b[43m \u001b[49m\u001b[43mcommentType\u001b[49m\u001b[43m,\u001b[49m\u001b[43m \u001b[49m\u001b[43misPublic\u001b[49m\u001b[43m)\u001b[49m\n\u001b[1;32m      8\u001b[0m \u001b[38;5;28mprint\u001b[39m (\u001b[38;5;124m\"\u001b[39m\u001b[38;5;124m \u001b[39m\u001b[38;5;124m\"\u001b[39m)\n\u001b[1;32m      9\u001b[0m \u001b[38;5;28;01mif\u001b[39;00m replyGUID:\n",
      "File \u001b[0;32m/tmp/ipykernel_1511/187057845.py:127\u001b[0m, in \u001b[0;36maddReplyToAssetComment\u001b[0;34m(serverName, serverPlatformName, serverPlatformURL, userId, assetGUID, commentGUID, commentText, commentType, isPublic)\u001b[0m\n\u001b[1;32m    125\u001b[0m \u001b[38;5;28;01mdef\u001b[39;00m \u001b[38;5;21maddReplyToAssetComment\u001b[39m(serverName, serverPlatformName, serverPlatformURL, userId, assetGUID, commentGUID, commentText, commentType, isPublic):\n\u001b[1;32m    126\u001b[0m     assetConsumerURL \u001b[38;5;241m=\u001b[39m serverPlatformURL \u001b[38;5;241m+\u001b[39m \u001b[38;5;124m'\u001b[39m\u001b[38;5;124m/servers/\u001b[39m\u001b[38;5;124m'\u001b[39m \u001b[38;5;241m+\u001b[39m serverName \u001b[38;5;241m+\u001b[39m \u001b[38;5;124m'\u001b[39m\u001b[38;5;124m/open-metadata/access-services/asset-consumer/users/\u001b[39m\u001b[38;5;124m'\u001b[39m \u001b[38;5;241m+\u001b[39m userId \n\u001b[0;32m--> 127\u001b[0m     requestURL \u001b[38;5;241m=\u001b[39m \u001b[43massetConsumerURL\u001b[49m\u001b[43m \u001b[49m\u001b[38;5;241;43m+\u001b[39;49m\u001b[43m \u001b[49m\u001b[38;5;124;43m'\u001b[39;49m\u001b[38;5;124;43m/assets/\u001b[39;49m\u001b[38;5;124;43m'\u001b[39;49m\u001b[43m \u001b[49m\u001b[38;5;241;43m+\u001b[39;49m\u001b[43m \u001b[49m\u001b[43massetGUID\u001b[49m\u001b[43m \u001b[49m\u001b[38;5;241;43m+\u001b[39;49m\u001b[43m \u001b[49m\u001b[38;5;124;43m'\u001b[39;49m\u001b[38;5;124;43m/comments/\u001b[39;49m\u001b[38;5;124;43m'\u001b[39;49m\u001b[43m \u001b[49m\u001b[38;5;241;43m+\u001b[39;49m\u001b[43m \u001b[49m\u001b[43mcommentGUID\u001b[49m \u001b[38;5;241m+\u001b[39m \u001b[38;5;124m'\u001b[39m\u001b[38;5;124m/replies\u001b[39m\u001b[38;5;124m'\u001b[39m\n\u001b[1;32m    128\u001b[0m     requestBody\u001b[38;5;241m=\u001b[39m{\n\u001b[1;32m    129\u001b[0m         \u001b[38;5;124m\"\u001b[39m\u001b[38;5;124mclass\u001b[39m\u001b[38;5;124m\"\u001b[39m : \u001b[38;5;124m\"\u001b[39m\u001b[38;5;124mCommentRequestBody\u001b[39m\u001b[38;5;124m\"\u001b[39m,\n\u001b[1;32m    130\u001b[0m         \u001b[38;5;124m\"\u001b[39m\u001b[38;5;124mcommentType\u001b[39m\u001b[38;5;124m\"\u001b[39m : commentType,\n\u001b[1;32m    131\u001b[0m         \u001b[38;5;124m\"\u001b[39m\u001b[38;5;124mcommentText\u001b[39m\u001b[38;5;124m\"\u001b[39m : commentText,\n\u001b[1;32m    132\u001b[0m         \u001b[38;5;124m\"\u001b[39m\u001b[38;5;124misPublic\u001b[39m\u001b[38;5;124m\"\u001b[39m : isPublic\n\u001b[1;32m    133\u001b[0m     }\n\u001b[1;32m    134\u001b[0m     response \u001b[38;5;241m=\u001b[39m issuePost(requestURL, requestBody)\n",
      "\u001b[0;31mTypeError\u001b[0m: can only concatenate str (not \"NoneType\") to str"
     ]
    }
   ],
   "source": [
    "commentType = \"ANSWER\"\n",
    "commentText = \"I checked back with Bobbie Records and they had an air conditioning failure that caused them to cancel patient appointments for 2 days - hence less data.  They are working to catch up on their waiting list so expect increased data for the next few weeks.\"\n",
    "isPublic    = \"true\"\n",
    "\n",
    "print(asset1guid)\n",
    "replyGUID = addReplyToAssetComment(cocoMDS1Name, cocoMDS1PlatformName, cocoMDS1PlatformURL, petersUserId, asset1guid, commentGUID, commentText, commentType, isPublic)\n",
    "\n",
    "print (\" \")\n",
    "if replyGUID:\n",
    "    print ('Peter\\'s comment guid is: ' + replyGUID)\n"
   ]
  },
  {
   "cell_type": "markdown",
   "metadata": {},
   "source": [
    "----\n",
    "Erin views the reply."
   ]
  },
  {
   "cell_type": "code",
   "execution_count": 14,
   "metadata": {
    "ExecuteTime": {
     "end_time": "2024-07-08T21:52:22.433686Z",
     "start_time": "2024-07-08T21:52:22.062047Z"
    }
   },
   "outputs": [
    {
     "ename": "TypeError",
     "evalue": "can only concatenate str (not \"NoneType\") to str",
     "output_type": "error",
     "traceback": [
      "\u001b[0;31m---------------------------------------------------------------------------\u001b[0m",
      "\u001b[0;31mTypeError\u001b[0m                                 Traceback (most recent call last)",
      "Cell \u001b[0;32mIn[14], line 1\u001b[0m\n\u001b[0;32m----> 1\u001b[0m \u001b[43massetConsumerPrintAssetCommentReplies\u001b[49m\u001b[43m(\u001b[49m\u001b[43mcocoMDS2Name\u001b[49m\u001b[43m,\u001b[49m\u001b[43m \u001b[49m\u001b[43mcocoMDS2PlatformName\u001b[49m\u001b[43m,\u001b[49m\u001b[43m \u001b[49m\u001b[43mcocoMDS2PlatformURL\u001b[49m\u001b[43m,\u001b[49m\u001b[43m \u001b[49m\u001b[43mpetersUserId\u001b[49m\u001b[43m,\u001b[49m\u001b[43m \u001b[49m\u001b[43masset1guid\u001b[49m\u001b[43m,\u001b[49m\u001b[43m \u001b[49m\u001b[43mcommentGUID\u001b[49m\u001b[43m)\u001b[49m\n",
      "File \u001b[0;32m/tmp/ipykernel_1511/187057845.py:465\u001b[0m, in \u001b[0;36massetConsumerPrintAssetCommentReplies\u001b[0;34m(serverName, serverPlatformName, serverPlatformURL, userId, requestType, commentGUID)\u001b[0m\n\u001b[1;32m    464\u001b[0m \u001b[38;5;28;01mdef\u001b[39;00m \u001b[38;5;21massetConsumerPrintAssetCommentReplies\u001b[39m(serverName, serverPlatformName, serverPlatformURL, userId, requestType, commentGUID):\n\u001b[0;32m--> 465\u001b[0m     \u001b[43mprintAssetCommentReplies\u001b[49m\u001b[43m(\u001b[49m\u001b[43mserverName\u001b[49m\u001b[43m,\u001b[49m\u001b[43m \u001b[49m\u001b[43mserverPlatformName\u001b[49m\u001b[43m,\u001b[49m\u001b[43m \u001b[49m\u001b[43mserverPlatformURL\u001b[49m\u001b[43m,\u001b[49m\u001b[43m \u001b[49m\u001b[38;5;124;43m\"\u001b[39;49m\u001b[38;5;124;43masset-consumer\u001b[39;49m\u001b[38;5;124;43m\"\u001b[39;49m\u001b[43m,\u001b[49m\u001b[43m \u001b[49m\u001b[43muserId\u001b[49m\u001b[43m,\u001b[49m\u001b[43m \u001b[49m\u001b[43mrequestType\u001b[49m\u001b[43m,\u001b[49m\u001b[43m \u001b[49m\u001b[43mcommentGUID\u001b[49m\u001b[43m)\u001b[49m\n",
      "File \u001b[0;32m/tmp/ipykernel_1511/2388457118.py:457\u001b[0m, in \u001b[0;36mprintAssetCommentReplies\u001b[0;34m(serverName, serverPlatformName, serverPlatformURL, serviceURLMarker, userId, requestType, commentGUID)\u001b[0m\n\u001b[1;32m    455\u001b[0m \u001b[38;5;28;01mdef\u001b[39;00m \u001b[38;5;21mprintAssetCommentReplies\u001b[39m(serverName, serverPlatformName, serverPlatformURL, serviceURLMarker, userId, requestType, commentGUID):\n\u001b[1;32m    456\u001b[0m     connectedAssetURL \u001b[38;5;241m=\u001b[39m serverPlatformURL \u001b[38;5;241m+\u001b[39m \u001b[38;5;124m'\u001b[39m\u001b[38;5;124m/servers/\u001b[39m\u001b[38;5;124m'\u001b[39m \u001b[38;5;241m+\u001b[39m serverName \u001b[38;5;241m+\u001b[39m \u001b[38;5;124m'\u001b[39m\u001b[38;5;124m/open-metadata/framework-services/\u001b[39m\u001b[38;5;124m'\u001b[39m \u001b[38;5;241m+\u001b[39m serviceURLMarker \u001b[38;5;241m+\u001b[39m \u001b[38;5;124m'\u001b[39m\u001b[38;5;124m/connected-asset/users/\u001b[39m\u001b[38;5;124m'\u001b[39m \u001b[38;5;241m+\u001b[39m userId \n\u001b[0;32m--> 457\u001b[0m     commentReplyQuery \u001b[38;5;241m=\u001b[39m \u001b[43mconnectedAssetURL\u001b[49m\u001b[43m \u001b[49m\u001b[38;5;241;43m+\u001b[39;49m\u001b[43m \u001b[49m\u001b[38;5;124;43m'\u001b[39;49m\u001b[38;5;124;43m/assets/\u001b[39;49m\u001b[38;5;124;43m'\u001b[39;49m\u001b[43m \u001b[49m\u001b[38;5;241;43m+\u001b[39;49m\u001b[43m \u001b[49m\u001b[43mrequestType\u001b[49m\u001b[43m \u001b[49m\u001b[38;5;241;43m+\u001b[39;49m\u001b[43m \u001b[49m\u001b[38;5;124;43m'\u001b[39;49m\u001b[38;5;124;43m/comments/\u001b[39;49m\u001b[38;5;124;43m'\u001b[39;49m\u001b[43m \u001b[49m\u001b[38;5;241;43m+\u001b[39;49m\u001b[43m \u001b[49m\u001b[43mcommentGUID\u001b[49m \u001b[38;5;241m+\u001b[39m \u001b[38;5;124m'\u001b[39m\u001b[38;5;124m/replies?elementStart=0&maxElements=50\u001b[39m\u001b[38;5;124m'\u001b[39m\n\u001b[1;32m    458\u001b[0m     response \u001b[38;5;241m=\u001b[39m issueGet(commentReplyQuery)\n\u001b[1;32m    459\u001b[0m     responseObjects \u001b[38;5;241m=\u001b[39m response\u001b[38;5;241m.\u001b[39mjson()\u001b[38;5;241m.\u001b[39mget(\u001b[38;5;124m'\u001b[39m\u001b[38;5;124mlist\u001b[39m\u001b[38;5;124m'\u001b[39m)\n",
      "\u001b[0;31mTypeError\u001b[0m: can only concatenate str (not \"NoneType\") to str"
     ]
    }
   ],
   "source": [
    "assetConsumerPrintAssetCommentReplies(cocoMDS2Name, cocoMDS2PlatformName, cocoMDS2PlatformURL, petersUserId, asset1guid, commentGUID)"
   ]
  },
  {
   "cell_type": "markdown",
   "metadata": {},
   "source": [
    "----\n",
    "This is the current information known about the first asset:"
   ]
  },
  {
   "cell_type": "code",
   "execution_count": 13,
   "metadata": {
    "ExecuteTime": {
     "end_time": "2024-07-08T21:52:26.804971Z",
     "start_time": "2024-07-08T21:52:26.358413Z"
    }
   },
   "outputs": [
    {
     "name": "stdout",
     "output_type": "stream",
     "text": [
      "No Asset returned\n",
      "OMAG-REPOSITORY-HANDLER-404-007 The Asset entity with unique identifier <unknown> is not found for method getAssetSummary of access service Connected Asset Services in open metadata server cocoMDS2, error message was: OMRS-REPOSITORY-404-002 The entity identified with guid <unknown> passed on the getEntityDetail call is not known to the open metadata repository Enterprise\n",
      " * The system is unable to update information associated with the entity because none of the connected open metadata repositories recognize the entity's unique identifier.\n",
      " * The unique identifier of the entity is supplied by the caller.  Verify that the caller's logic is correct, and that there are no errors being reported by the open metadata repository. Once all errors have been resolved, retry the request.\n"
     ]
    }
   ],
   "source": [
    "assetConsumerPrintAssetUniverse(cocoMDS2Name, cocoMDS2PlatformName, cocoMDS2PlatformURL, petersUserId, asset1guid)"
   ]
  },
  {
   "cell_type": "markdown",
   "metadata": {},
   "source": [
    "---\n",
    "\n",
    "## Summary of Exercise 1 and 2\n",
    "\n",
    "In the first two exercises of this hands-on lab you have shown that two servers with their own repositories can share and extend the metadata contributed by the other.  It began by Peter creating three assets in cocoMDS1.  Erin then connected to cocoMDS2 and she could also see these assets.  Then Erin was able to attach a comment to one of those assets through cocoMDS2 and Peter was then able to response through cocoMDS1.\n",
    "\n",
    "Hence this is a truly distributed catalog.\n",
    "\n",
    "\n",
    "![Figure 3](../images/distributed-asset-with-comments.png)\n",
    "> **Figure 3:** Asset and Comments distributed across 2 servers\n"
   ]
  },
  {
   "cell_type": "markdown",
   "metadata": {},
   "source": [
    "----\n",
    "## Exercise 3 - controlling access to assets\n",
    "\n",
    "In the next exercise we will consider how organizations control the visability of assets.\n",
    "Peter and Erin are joined by their colleague Callie Quartile, a data scientist working in the research team.\n",
    "\n",
    "![Callie Quartile](https://raw.githubusercontent.com/odpi/egeria-docs/main/site/docs/practices/coco-pharmaceuticals/personas/callie-quartile.png)\n",
    "\n",
    "Callie has heard that the clinical trial files have arrived.  She is keen to start working on them as there was a delay in receiving the first two weeks worth of data.\n",
    "\n",
    "Since Callie works in the research team, she uses the `cocoMDS3` metadata server.  She tries a search for the files."
   ]
  },
  {
   "cell_type": "code",
   "execution_count": null,
   "metadata": {
    "ExecuteTime": {
     "end_time": "2024-07-08T21:52:55.809469Z",
     "start_time": "2024-07-08T21:52:55.564729Z"
    }
   },
   "outputs": [],
   "source": [
    "assetConsumerPrintAssets(cocoMDS3Name, cocoMDS3PlatformName, cocoMDS3PlatformURL, calliesUserId, newFilesSearchString)"
   ]
  },
  {
   "cell_type": "markdown",
   "metadata": {},
   "source": [
    "----\n",
    "Even though the assets are defined and being shared across the `cocoCohort` Callie can not see them because, by default, `cocoMDS1` is set up to create assets in what is called the `quarantine zone` and `cocoMDS3` can not access assets in the `quarantine zone`.\n",
    "\n",
    "Governance zones are groups of related assets.  Coco Pharmaceuticals have created the `quarantine zone` for assets that are only partially catalogued.  They can only be accessed through the data lake operations and governance servers.  Once Peter has completed setting up the Assets, they will be moved into the `data lake zone` and Callie will be able to see them.\n",
    "\n",
    "![Figure 4](../images/asset-zones-for-building-catalog.png)\n",
    "> **Figure 4:** Governance Zones affecting the building of the catalog\n",
    "\n",
    "\n",
    "The next section completes the onboarding."
   ]
  },
  {
   "cell_type": "markdown",
   "metadata": {},
   "source": [
    "----\n"
   ]
  },
  {
   "cell_type": "code",
   "execution_count": null,
   "metadata": {
    "ExecuteTime": {
     "end_time": "2024-07-08T21:53:00.941276Z",
     "start_time": "2024-07-08T21:52:59.072381Z"
    }
   },
   "outputs": [],
   "source": [
    "\n",
    "assetOwner = \"tanyatidie\"\n",
    "ownerType  = \"USER_ID\"\n",
    "\n",
    "addOwner(cocoMDS2Name, cocoMDS2PlatformName, cocoMDS2PlatformURL, erinsUserId, \"Asset 1\", asset1guid, assetOwner, ownerType)\n",
    "addOwner(cocoMDS2Name, cocoMDS2PlatformName, cocoMDS2PlatformURL, erinsUserId, \"Asset 2\", asset2guid, assetOwner, ownerType)\n",
    "addOwner(cocoMDS2Name, cocoMDS2PlatformName, cocoMDS2PlatformURL, erinsUserId, \"Asset 3\", asset3guid, assetOwner, ownerType)\n",
    "\n",
    "addZones(cocoMDS2Name, cocoMDS2PlatformName, cocoMDS2PlatformURL, erinsUserId, \"Asset 1\", asset1guid, [\"data-lake\", \"clinical-trials\"])\n",
    "addZones(cocoMDS2Name, cocoMDS2PlatformName, cocoMDS2PlatformURL, erinsUserId, \"Asset 2\", asset2guid, [\"data-lake\", \"clinical-trials\"])\n",
    "addZones(cocoMDS2Name, cocoMDS2PlatformName, cocoMDS2PlatformURL, erinsUserId, \"Asset 3\", asset3guid, [\"data-lake\", \"clinical-trials\"])\n",
    "\n"
   ]
  },
  {
   "cell_type": "code",
   "execution_count": null,
   "metadata": {
    "ExecuteTime": {
     "end_time": "2024-07-08T21:53:04.575090Z",
     "start_time": "2024-07-08T21:53:04.005368Z"
    }
   },
   "outputs": [],
   "source": [
    "assetOwnerPrintAssets(cocoMDS1Name, cocoMDS1PlatformName, cocoMDS1PlatformURL, petersUserId, \".*DropFootMeasurements.*\")"
   ]
  },
  {
   "cell_type": "markdown",
   "metadata": {},
   "source": [
    "----\n",
    "Once these zones are set up, Callie can see the assets:\n"
   ]
  },
  {
   "cell_type": "code",
   "execution_count": null,
   "metadata": {
    "ExecuteTime": {
     "end_time": "2024-07-08T21:53:10.711637Z",
     "start_time": "2024-07-08T21:53:10.482724Z"
    }
   },
   "outputs": [],
   "source": [
    "assetConsumerPrintAssets(cocoMDS3Name, cocoMDS3PlatformName, cocoMDS3PlatformURL, calliesUserId, newFilesSearchString)"
   ]
  },
  {
   "cell_type": "code",
   "execution_count": null,
   "metadata": {
    "ExecuteTime": {
     "end_time": "2024-07-08T21:53:12.366894Z",
     "start_time": "2024-07-08T21:53:12.025609Z"
    }
   },
   "outputs": [],
   "source": [
    "assetConsumerPrintAssetUniverse(cocoMDS2Name, cocoMDS2PlatformName, cocoMDS2PlatformURL, petersUserId, asset1guid)"
   ]
  },
  {
   "cell_type": "markdown",
   "metadata": {},
   "source": [
    "----\n",
    "## Bonus material\n",
    "\n",
    "This final section is an opportunity to dig a little deeper into the workings of Egeria.\n",
    "\n",
    "The APIs used in the exercises above are from the access services - or Open Metadata Access Services (OMASs) to give them their formal name.  These APIs are domain specific - designed to use by tools, engines and platforms.\n",
    "\n",
    "Underneath the access services are the repository services (Open Metadata Repository Services (OMRS)) and the platform services (Open Metadata and Governance (OMAG) Server Platform Services).\n",
    "\n",
    "The repository services manage the exchange of metadata between servers.  The platform services provide a platform for running Egeria servers such as cocoMDS1 and cocoMDS2.\n"
   ]
  },
  {
   "cell_type": "markdown",
   "metadata": {},
   "source": [
    "### Repository services\n",
    "\n",
    "The repository services provide the ability for metadata to be accessed and exchanged from different servers.\n",
    "Each server that has a repository (store) of metadata is assigned a **metadata collection id**.  This is a unique identifer that is associated with all metadata that originates from that repository.\n",
    "\n",
    "The command below extracts the metadata collection id for cocoMDS1."
   ]
  },
  {
   "cell_type": "code",
   "execution_count": null,
   "metadata": {},
   "outputs": [],
   "source": [
    "server1RepositoryServicesURL = cocoMDS1PlatformURL + '/servers/' + cocoMDS1Name + '/open-metadata/repository-services/users/' + adminUserId \n",
    "server1MetadataCollectionIdQuery = server1RepositoryServicesURL + '/metadata-collection-id'\n",
    "\n",
    "print (\" \")\n",
    "print (\"GET \" + server1MetadataCollectionIdQuery)\n",
    "\n",
    "response = requests.get(server1MetadataCollectionIdQuery, verify=False)\n",
    "\n",
    "print (\"Returns:\")\n",
    "prettyResponse = json.dumps(response.json(), indent=4)\n",
    "print (prettyResponse)\n",
    "print (\" \")\n",
    "\n",
    "serverStatus = response.json().get('relatedHTTPCode')\n",
    "if serverStatus == 200:\n",
    "    cocoMDS1MetadataCollectionId = response.json().get('metadataCollectionId')\n",
    "    print(\"Metadata collection id for \" + cocoMDS1Name + \" is \" + cocoMDS1MetadataCollectionId)\n",
    "else:\n",
    "    print(\"Server \" + cocoMDS1Name + \" is not able to supply a metadata collection id\")"
   ]
  },
  {
   "cell_type": "markdown",
   "metadata": {},
   "source": [
    "----\n",
    "Now we extract the metadata collection id for cocoMDS2."
   ]
  },
  {
   "cell_type": "code",
   "execution_count": null,
   "metadata": {},
   "outputs": [],
   "source": [
    "server2RepositoryServicesURL = cocoMDS2PlatformURL + '/servers/' + cocoMDS2Name + '/open-metadata/repository-services/users/' + adminUserId \n",
    "server2MetadataCollectionIdQuery = server2RepositoryServicesURL + '/metadata-collection-id'\n",
    "\n",
    "print (\" \")\n",
    "print (\"GET \" + server2MetadataCollectionIdQuery)\n",
    "\n",
    "response = requests.get(server2MetadataCollectionIdQuery, verify=False)\n",
    "\n",
    "print (\"Returns:\")\n",
    "prettyResponse = json.dumps(response.json(), indent=4)\n",
    "print (prettyResponse)\n",
    "print (\" \")\n",
    "\n",
    "serverStatus = response.json().get('relatedHTTPCode')\n",
    "if serverStatus == 200:\n",
    "    cocoMDS2MetadataCollectionId = response.json().get('metadataCollectionId')\n",
    "    print(\"Metadata collection id for \" + cocoMDS2Name + \" is \" + cocoMDS2MetadataCollectionId)\n",
    "else:\n",
    "    print(\"Server \" + cocoMDS2Name + \" is not able to supply a metadata collection id\")"
   ]
  },
  {
   "cell_type": "markdown",
   "metadata": {},
   "source": [
    "----\n",
    "\n",
    "The metadata collection id is allocated when the server is first configured.  Once the server starts sharing metadata, the metadata collection id must never change as it is used in the metadata repository to identify where each piece of metadata came from.\n",
    "\n",
    "The cocoMDS4 server does not have a repository and uses federated queries to retrieve metadata from other servers."
   ]
  },
  {
   "cell_type": "code",
   "execution_count": null,
   "metadata": {},
   "outputs": [],
   "source": [
    "\n",
    "server4RepositoryServicesURL = cocoMDS4PlatformURL + '/servers/' + cocoMDS4Name + '/open-metadata/repository-services/users/' + adminUserId \n",
    "server4MetadataCollectionIdQuery = server4RepositoryServicesURL + '/metadata-collection-id'\n",
    "\n",
    "print (\" \")\n",
    "print (\"GET \" + server4MetadataCollectionIdQuery)\n",
    "\n",
    "response = requests.get(server4MetadataCollectionIdQuery, verify=False)\n",
    "\n",
    "print (\"Returns:\")\n",
    "prettyResponse = json.dumps(response.json(), indent=4)\n",
    "print (prettyResponse)\n",
    "print (\" \")\n",
    "\n",
    "serverStatus = response.json().get('relatedHTTPCode')\n",
    "if serverStatus == 200:\n",
    "    cocoMDS4MetadataCollectionId = response.json().get('metadataCollectionId')\n",
    "    print(\"Metadata collection id for \" + cocoMDS2Name + \" is \" + cocoMDS4MetadataCollectionId)\n",
    "else:\n",
    "    print(\"Server \" + cocoMDS4Name + \" is not able to supply a metadata collection id\")"
   ]
  },
  {
   "cell_type": "markdown",
   "metadata": {},
   "source": [
    "----\n",
    "This result is also a demonstration of the error handling in Egeria. All errors consist of a message, system action and user response."
   ]
  },
  {
   "cell_type": "markdown",
   "metadata": {},
   "source": [
    "----\n",
    "Metadata instances such as the Assets and Comments that you were working with in Exercises 1 and 2 are stored in the repository as entities.  These entities are linked together with relationships (it is a logical graph model).\n",
    "\n",
    "The command below uses the respository services to retrieve one of the assets created in exercise 1"
   ]
  },
  {
   "cell_type": "code",
   "execution_count": null,
   "metadata": {},
   "outputs": [],
   "source": [
    "server1RepositoryServicesURL = cocoMDS1PlatformURL + '/servers/' + cocoMDS1Name + '/open-metadata/repository-services/users/' + petersUserId \n",
    "\n",
    "server1AssetEntityQuery = server1RepositoryServicesURL + '/enterprise/instances/entity/' + asset1guid\n",
    "\n",
    "print (\" \")\n",
    "print (\"GET \" + server1AssetEntityQuery)\n",
    "\n",
    "response = requests.get(server1AssetEntityQuery, verify=False)\n",
    "\n",
    "print (\"Returns:\")\n",
    "prettyResponse = json.dumps(response.json(), indent=4)\n",
    "print (prettyResponse)\n",
    "print (\" \")"
   ]
  },
  {
   "cell_type": "markdown",
   "metadata": {},
   "source": [
    "The entity includes its type definition and the properties of the asset.  Also notice the metadata collection id for cocoMDS1 around the middle of the structure.\n",
    "\n",
    "Contrast the asset entity with the comment that Erin created.  Notice the type information is different, and the metadata collection id for cocoMDS2."
   ]
  },
  {
   "cell_type": "code",
   "execution_count": null,
   "metadata": {},
   "outputs": [],
   "source": [
    "server2CommentEntityQuery = server2RepositoryServicesURL + '/enterprise/instances/entity/' + commentGUID\n",
    "\n",
    "print (\" \")\n",
    "print (\"GET \" + server2CommentEntityQuery)\n",
    "\n",
    "response = requests.get(server2CommentEntityQuery, verify=False)\n",
    "\n",
    "print (\"Returns:\")\n",
    "prettyResponse = json.dumps(response.json(), indent=4)\n",
    "print (prettyResponse)\n",
    "print (\" \")"
   ]
  },
  {
   "cell_type": "markdown",
   "metadata": {},
   "source": [
    "----\n",
    "Finally, consider the relationship between the asset and the comment.  It includes summary information about the two entities (called an **entity proxy**).  This is how it is possible to transmit and even store relationships independently of the entities."
   ]
  },
  {
   "cell_type": "code",
   "execution_count": null,
   "metadata": {},
   "outputs": [],
   "source": [
    "server2AssetRelationshipQuery = server2RepositoryServicesURL + '/enterprise/instances/entity/' + asset1guid + '/relationships'\n",
    "\n",
    "print (\" \")\n",
    "print (\"POST \" + server2AssetRelationshipQuery)\n",
    "\n",
    "relationshipRequestBody={\n",
    "\t\"class\" : \"TypeLimitedFindRequest\",\n",
    "\t\"startingFrom\" : \"0\",\n",
    "\t\"pageSize\" : \"100\" \n",
    "}\n",
    "jsonHeader = {'content-type':'application/json'}\n",
    "\n",
    "response = requests.post(server2AssetRelationshipQuery, json=relationshipRequestBody, headers=jsonHeader, verify=False)\n",
    "\n",
    "print (\"Returns:\")\n",
    "prettyResponse = json.dumps(response.json(), indent=4)\n",
    "print (prettyResponse)\n",
    "print (\" \")\n",
    "\n"
   ]
  },
  {
   "cell_type": "markdown",
   "metadata": {},
   "source": [
    "Which server was the relationship created in?"
   ]
  },
  {
   "cell_type": "markdown",
   "metadata": {},
   "source": [
    "----\n",
    "#### Open Metadata Cohorts\n",
    "\n",
    "The metadata exchange between the servers is a peer-to-peer protocol.  Each server registers with one or more open metadata cohorts.  \n",
    "\n",
    "Figure 4 shows which metadata servers belong to each cohort.\n",
    "\n",
    "![Figure 4](../images/coco-pharmaceuticals-systems-cohorts.png)\n",
    "> **Figure 4:** Membership of Coco Pharmaceuticals' cohorts\n",
    "\n",
    "----\n",
    "The command below queries cocoMDS2's view of the cohorts"
   ]
  },
  {
   "cell_type": "code",
   "execution_count": null,
   "metadata": {},
   "outputs": [],
   "source": [
    "\n",
    "printServerCohorts(cocoMDS2Name, cocoMDS2PlatformName, cocoMDS2PlatformURL)\n"
   ]
  },
  {
   "cell_type": "markdown",
   "metadata": {},
   "source": [
    "----\n",
    "There are more examples and explanation about the way that the cohorts work in the [**Understanding Cohorts**](../administration-labs/understanding-cohorts.ipynb) notebook.\n"
   ]
  },
  {
   "cell_type": "markdown",
   "metadata": {},
   "source": [
    "----\n",
    "### Metadata security\n",
    "\n",
    "Security of metadata is extremely important.  Egeria has multiple levels of security so that access to individual metadata instances can be controlled.  The command below is a simple test when an unauthorized user tries to access one of Coco Pharmaceutical metadata servers.\n"
   ]
  },
  {
   "cell_type": "code",
   "execution_count": null,
   "metadata": {},
   "outputs": [],
   "source": [
    "unauthorizedUserQuery = cocoMDS2PlatformURL + '/servers/' + cocoMDS2Name + '/open-metadata/repository-services/users/evilEdna/metadata-collection-id'\n",
    "\n",
    "print (\" \")\n",
    "print (\"GET \" + unauthorizedUserQuery)\n",
    "\n",
    "response = requests.get(unauthorizedUserQuery, verify=False)\n",
    "\n",
    "print (\"Returns:\")\n",
    "prettyResponse = json.dumps(response.json(), indent=4)\n",
    "print (prettyResponse)\n",
    "print (\" \")"
   ]
  },
  {
   "cell_type": "markdown",
   "metadata": {},
   "source": [
    "----\n",
    "### Platform services\n",
    "\n",
    "The platform services are for the infrastructure team running an Egeria service.  In the case of a cloud service, this may be a different organization to the metadata owners.  As a result, there is a separation of users able to work with the platform services verses the access and repository services.\n",
    "\n",
    "This first command queries the servers running on a platform."
   ]
  },
  {
   "cell_type": "code",
   "execution_count": null,
   "metadata": {},
   "outputs": [],
   "source": [
    "corePlatformServices = corePlatformURL + '/open-metadata/platform-services/users/' + adminUserId + '/server-platform'\n",
    "corePlatformServers  = corePlatformServices + '/servers'\n",
    "\n",
    "print (\" \")\n",
    "print (\"CorePlatform's Servers \")\n",
    "print (\"GET \" + corePlatformServers)\n",
    "\n",
    "response = requests.get(corePlatformServers, verify=False)\n",
    "\n",
    "print (\"Returns:\")\n",
    "prettyResponse = json.dumps(response.json(), indent=4)\n",
    "print (prettyResponse)\n",
    "print (\" \")\n",
    "\n",
    "dataLakePlatformServices = dataLakePlatformURL + '/open-metadata/platform-services/users/' + adminUserId + '/server-platform'\n",
    "dataLakePlatformServers  = dataLakePlatformServices + '/servers'\n",
    "\n",
    "print (\" \")\n",
    "print (\"DataLakePlatform's Servers \")\n",
    "print (\"GET \" + dataLakePlatformServers)\n",
    "\n",
    "response = requests.get(dataLakePlatformServers, verify=False)\n",
    "\n",
    "print (\"Returns:\")\n",
    "prettyResponse = json.dumps(response.json(), indent=4)\n",
    "print (prettyResponse)\n",
    "print (\" \")"
   ]
  },
  {
   "cell_type": "markdown",
   "metadata": {},
   "source": [
    "----\n",
    "This last command queries the services active on server 1"
   ]
  },
  {
   "cell_type": "code",
   "execution_count": null,
   "metadata": {},
   "outputs": [],
   "source": [
    "server1Services = dataLakePlatformServices + '/servers/' + cocoMDS1Name + '/services'\n",
    "\n",
    "print (\" \")\n",
    "print (cocoMDS1Name + \" services \")\n",
    "print (\"GET \" + server1Services)\n",
    "\n",
    "response = requests.get(server1Services, verify=False)\n",
    "\n",
    "print (\"Returns:\")\n",
    "prettyResponse = json.dumps(response.json(), indent=4)\n",
    "print (prettyResponse)\n",
    "print (\" \")"
   ]
  },
  {
   "cell_type": "markdown",
   "metadata": {},
   "source": [
    "----"
   ]
  },
  {
   "cell_type": "code",
   "execution_count": null,
   "metadata": {},
   "outputs": [],
   "source": []
  }
 ],
 "metadata": {
  "kernelspec": {
   "display_name": "Python 3 (ipykernel)",
   "language": "python",
   "name": "python3"
  },
  "language_info": {
   "codemirror_mode": {
    "name": "ipython",
    "version": 3
   },
   "file_extension": ".py",
   "mimetype": "text/x-python",
   "name": "python",
   "nbconvert_exporter": "python",
   "pygments_lexer": "ipython3",
   "version": "3.11.9"
  }
 },
 "nbformat": 4,
 "nbformat_minor": 4
}
